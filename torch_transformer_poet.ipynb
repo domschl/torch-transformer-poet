{
 "cells": [
  {
   "cell_type": "markdown",
   "metadata": {
    "colab_type": "text",
    "id": "view-in-github"
   },
   "source": [
    "<a href=\"https://colab.research.google.com/github/domschl/torch-transformer-poet/blob/main/torch_transformer_poet.ipynb\" target=\"_parent\"><img src=\"https://colab.research.google.com/assets/colab-badge.svg\" alt=\"Open In Colab\"/></a>"
   ]
  },
  {
   "cell_type": "markdown",
   "metadata": {
    "id": "fEXNOWhCEAPk"
   },
   "source": [
    "# Torch-Transformer-Poet"
   ]
  },
  {
   "cell_type": "markdown",
   "metadata": {
    "id": "DabS0VZ-1Zp0"
   },
   "source": [
    "Please review [ml-indie-tools](https://github.com/domschl/ml-indie-tools), a collection machine learning tools that provides support for more environment indepent code. It will access your Google Drive when using with Google Colab."
   ]
  },
  {
   "cell_type": "code",
   "execution_count": 1,
   "metadata": {
    "colab": {
     "base_uri": "https://localhost:8080/"
    },
    "id": "jtpy59Yq-Qfz",
    "outputId": "50a8bc5a-8e5c-40b4-c030-2b8b6125d7f9"
   },
   "outputs": [
    {
     "name": "stdout",
     "output_type": "stream",
     "text": [
      "Requirement already satisfied: ml-indie-tools in /home/dsc/.local/lib/python3.10/site-packages (0.4.3)\n"
     ]
    }
   ],
   "source": [
    "!pip install -U ml-indie-tools"
   ]
  },
  {
   "cell_type": "code",
   "execution_count": 2,
   "metadata": {
    "id": "EgLLjG4yQtft"
   },
   "outputs": [],
   "source": [
    "import logging\n",
    "import os\n",
    "import sys\n",
    "import copy\n",
    "import json\n",
    "import time\n",
    "import datetime\n",
    "import random\n",
    "import numpy as np\n",
    "\n",
    "import torch"
   ]
  },
  {
   "cell_type": "code",
   "execution_count": 3,
   "metadata": {
    "id": "U5T4m6earb1e"
   },
   "outputs": [],
   "source": [
    "from ml_indie_tools.env_tools import MLEnv\n",
    "from ml_indie_tools.Gutenberg_Dataset import Gutenberg_Dataset\n",
    "from ml_indie_tools.Text_Dataset import Text_Dataset\n",
    "\n",
    "from ml_indie_tools.pytorch_custom_layers import MultiHeadSelfAttention"
   ]
  },
  {
   "cell_type": "markdown",
   "metadata": {
    "id": "VmWbteSFQtfq"
   },
   "source": [
    "## Preliminary\n",
    "\n",
    "A pytorch deep multi-head attention model for text generation following Andrej Karpathy's [video-lecture-ng](https://github.com/karpathy/ng-video-lecture/blob/master/gpt.py)\n",
    "\n",
    "This code can use either CPU, GPU, or Apple Silicon. Google Colab is supported too, select the corresponding Colab runtime (menu: **`Runtime / Change runtime type`**)"
   ]
  },
  {
   "cell_type": "markdown",
   "metadata": {
    "id": "sfZg31sMEAP1"
   },
   "source": [
    "## 0. Environment"
   ]
  },
  {
   "cell_type": "code",
   "execution_count": 4,
   "metadata": {
    "colab": {
     "base_uri": "https://localhost:8080/",
     "height": 52
    },
    "id": "llPw84PkEAP2",
    "outputId": "ff25ccf6-c239-41de-a7f0-7ec52479e629"
   },
   "outputs": [
    {
     "data": {
      "text/plain": [
       "'OS: Linux, Python: 3.10.9, Jupyter Notebook Pytorch: 1.13.1, GPU: NVIDIA GeForce GTX 1080 Ti (8MiB / 11264MiB), CPU'"
      ]
     },
     "execution_count": 4,
     "metadata": {},
     "output_type": "execute_result"
    }
   ],
   "source": [
    "cached_batch_data = None   # Do regenerate time-consuming training data, if aleady cached.\n",
    "\n",
    "ml_env = MLEnv(platform='pt', accelerator='fastest')\n",
    "ml_env.describe()"
   ]
  },
  {
   "cell_type": "code",
   "execution_count": 5,
   "metadata": {
    "colab": {
     "base_uri": "https://localhost:8080/"
    },
    "id": "t-TP3Pnsrb1f",
    "outputId": "dc5d64e6-5d01-4863-ad0f-0c3d1a27d5de"
   },
   "outputs": [
    {
     "name": "stdout",
     "output_type": "stream",
     "text": [
      "Root path (all projects) : . (This will be '.' (current dir) for local projects, and a google drive path for Colab)\n",
      "Project path             : . (Changes to the file system happen only below this project path\n",
      "Model path (snapshots)   : ./model/ngpt_philosophers_v1_pt (Model weights and snapshots are stored here)\n",
      "Data path (training data): ./data (Training data will be downloaded here)\n",
      "Log dir (tensorboard)    : ./logs (it doesn't work to put logs on gdrive due to caching, hence local dir)\n"
     ]
    }
   ],
   "source": [
    "# project_name = 'women_writers'\n",
    "project_name='philosophers'\n",
    "model_name=f'ngpt_{project_name}_v1_pt'\n",
    "\n",
    "# NOTICE: This will request access to Google Drive, if running on Google Colab. Google Drive is used to store snapshots\n",
    "# training data. See project ml-indie-tools: https://github.com/domschl/ml-indie-tools \n",
    "#\n",
    "# Note: you need to allow popups in your browser for COLAB, otherwise you won't see the google-drive login box, and drive access will fail!\n",
    "\n",
    "root_path, project_path, model_path, data_path, log_path = ml_env.init_paths(project_name=project_name, model_name=model_name)\n",
    "\n",
    "print(f\"Root path (all projects) : {root_path} (This will be '.' (current dir) for local projects, and a google drive path for Colab)\")\n",
    "print(f\"Project path             : {project_path} (Changes to the file system happen only below this project path\")\n",
    "print(f\"Model path (snapshots)   : {model_path} (Model weights and snapshots are stored here)\")\n",
    "print(f\"Data path (training data): {data_path} (Training data will be downloaded here)\")\n",
    "print(f\"Log dir (tensorboard)    : {log_path} (it doesn't work to put logs on gdrive due to caching, hence local dir)\")"
   ]
  },
  {
   "cell_type": "markdown",
   "metadata": {
    "id": "AIkcYcEuQtfx"
   },
   "source": [
    "##  1. Text library\n",
    "\n",
    "`Text_Dataset` and `Gutenberg_Dataset` classes: libraries for training, \n",
    "encoding, batch generation, and formatted source display. It read some \n",
    "books from Project Gutenberg and supports creation of training batches. \n",
    "The output functions support highlighting to allow to compare generated \n",
    "texts with the actual sources to help to identify identical (memorized) \n",
    "parts."
   ]
  },
  {
   "cell_type": "code",
   "execution_count": 6,
   "metadata": {
    "id": "HjkelBcNO5WV"
   },
   "outputs": [],
   "source": [
    "use_dark_mode=False # Set to false for white background. HTML-text-compare uses background-colorization to identify different sources. Those background colors are dependent on the theme type."
   ]
  },
  {
   "cell_type": "code",
   "execution_count": 7,
   "metadata": {
    "id": "BF8eyWnCrb1h"
   },
   "outputs": [],
   "source": [
    "logging.basicConfig(level=logging.INFO)\n",
    "cache_dir = os.path.join(data_path, 'gutenberg_cache')\n",
    "gd = Gutenberg_Dataset(cache_dir=cache_dir)"
   ]
  },
  {
   "cell_type": "code",
   "execution_count": 8,
   "metadata": {
    "colab": {
     "base_uri": "https://localhost:8080/"
    },
    "id": "C66X7ynnrb1h",
    "outputId": "d4d70206-b1e2-4008-9f64-c7065e8ff076"
   },
   "outputs": [
    {
     "name": "stdout",
     "output_type": "stream",
     "text": [
      "20 matching books found with search {'author': ['Immanuel Kant', 'Friedrich Nietzsche', 'Wilhelm Hegel'], 'language': ['english']}.\n"
     ]
    }
   ],
   "source": [
    "if project_name == 'women_writers':  # sample searches\n",
    "    search_spec= {\n",
    "        \"author\": [\"Emily Brontë\", \"Jane Austen\", \"Virginia Woolf\"], \n",
    "        \"language\": [\"english\"]\n",
    "    }\n",
    "elif project_name == 'philosophers':\n",
    "    search_spec = {\n",
    "        \"author\": [\"Immanuel Kant\", \"Friedrich Nietzsche\", \"Wilhelm Hegel\"],\n",
    "        \"language\": [\"english\"]\n",
    "    }\n",
    "    \n",
    "book_list=gd.search(search_spec)\n",
    "book_cnt = len(book_list)\n",
    "print(f\"{book_cnt} matching books found with search {search_spec}.\")\n",
    "if book_cnt<40:\n",
    "    # Note: please verify that book_cnt is 'reasonable'. If you plan to use a large number of texts, \n",
    "    # consider [mirroring Gutenberg](https://github.com/domschl/ml-indie-tools#working-with-a-local-mirror-of-project-gutenberg)\n",
    "    book_list = gd.insert_book_texts(book_list, download_count_limit=book_cnt)  \n",
    "else:\n",
    "    logging.error(\"Please verify your book_list, a large number of books is scheduled for download. ABORTED.\")"
   ]
  },
  {
   "cell_type": "code",
   "execution_count": 9,
   "metadata": {
    "colab": {
     "base_uri": "https://localhost:8080/"
    },
    "id": "MH6_7IU3upOd",
    "outputId": "653e8a72-e00f-42be-fe96-d1dd8e0b916e"
   },
   "outputs": [
    {
     "name": "stdout",
     "output_type": "stream",
     "text": [
      "0: The History of Philosophy: Volume 3 of 3 - Georg Wilhelm Hegel, 58169\n",
      "1: The Will to Power, Books III and IV - Friedrich Nietzsche, 52915\n",
      "2: The Will to Power, Books I and II - Friedrich Nietzsche, 52914\n",
      "3: The Joyful Wisdom - Friedrich Nietzsche, 52881\n",
      "4: Kant's Prolegomena - Immanuel Kant, 52821\n",
      "5: Hegel's Lectures on the History of Philosophy: Vol. 2 of 3 - Georg Wilhelm Hegel, 51636\n",
      "6: Hegel's Lectures on the History of Philosophy: Vol. 1 of 3 - Georg Wilhelm Hegel, 51635\n",
      "7: Early Greek Philosophy & Other Essays - Friedrich Nietzsche, 51548\n",
      "8: Perpetual Peace - Immanuel Kant, 50922\n",
      "9: Kant's Critique of Judgement - Immanuel Kant, 48433\n",
      "10: Thoughts Out of Season, Part 2 - Friedrich Nietzsche, 38226\n",
      "11: Human, All Too Human - Friedrich Nietzsche, 38145\n",
      "12: We Philologists, Volume 8 of 18 - Friedrich Nietzsche, 18267\n",
      "13: The Metaphysical Elements of Ethics - Immanuel Kant, 5684\n",
      "14: The Critique of Practical Reason - Immanuel Kant, 5683\n",
      "15: Fundamental Principles of the Metaphysic of Morals - Immanuel Kant, 5682\n",
      "16: Thoughts out of Season, Part One - Friedrich Nietzsche, 5652\n",
      "17: Beyond Good and Evil - Friedrich Nietzsche, 4363\n",
      "18: The Critique of Pure Reason - Immanuel Kant, 4280\n",
      "19: Thus Spake Zarathustra - Friedrich Nietzsche, 1998\n"
     ]
    }
   ],
   "source": [
    "for i in range(len(book_list)):\n",
    "    print(f\"{i}: {book_list[i]['title']} - {book_list[i]['author']}, {book_list[i]['ebook_id']}\")"
   ]
  },
  {
   "cell_type": "code",
   "execution_count": 10,
   "metadata": {
    "colab": {
     "base_uri": "https://localhost:8080/"
    },
    "id": "2jBH3Z15rb1h",
    "outputId": "0eb31da7-5009-47c5-bb6c-af1b7725d6ee"
   },
   "outputs": [
    {
     "name": "stderr",
     "output_type": "stream",
     "text": [
      "INFO:Datasets:Loaded 20 texts\n",
      "INFO:Datasets:Extracting ngrams of length 1..12 from text_list, selecting 25000 most used ngrams.\n"
     ]
    },
    {
     "name": "stdout",
     "output_type": "stream",
     "text": [
      "Using:\n",
      "1: The History of Philosophy: Volume 3 of 3 - Georg Wilhelm Hegel\n",
      "2: The Will to Power, Books III and IV - Friedrich Nietzsche\n",
      "3: The Will to Power, Books I and II - Friedrich Nietzsche\n",
      "4: The Joyful Wisdom - Friedrich Nietzsche\n",
      "5: Kant's Prolegomena - Immanuel Kant\n",
      "6: Hegel's Lectures on the History of Philosophy: Vol. 2 of 3 - Georg Wilhelm Hegel\n",
      "7: Hegel's Lectures on the History of Philosophy: Vol. 1 of 3 - Georg Wilhelm Hegel\n",
      "8: Early Greek Philosophy & Other Essays - Friedrich Nietzsche\n",
      "9: Perpetual Peace - Immanuel Kant\n",
      "10: Kant's Critique of Judgement - Immanuel Kant\n",
      "11: Thoughts Out of Season, Part 2 - Friedrich Nietzsche\n",
      "12: Human, All Too Human - Friedrich Nietzsche\n",
      "13: We Philologists, Volume 8 of 18 - Friedrich Nietzsche\n",
      "14: The Metaphysical Elements of Ethics - Immanuel Kant\n",
      "15: The Critique of Practical Reason - Immanuel Kant\n",
      "16: Fundamental Principles of the Metaphysic of Morals - Immanuel Kant\n",
      "17: Thoughts out of Season, Part One - Friedrich Nietzsche\n",
      "18: Beyond Good and Evil - Friedrich Nietzsche\n",
      "19: The Critique of Pure Reason - Immanuel Kant\n",
      "20: Thus Spake Zarathustra - Friedrich Nietzsche\n",
      "\n",
      "Starting NGRAM tokinizer with token length from 1..12 with a max of 25000 unique tokens,\n",
      "this can take considerable time...\n"
     ]
    },
    {
     "name": "stderr",
     "output_type": "stream",
     "text": [
      "INFO:Datasets:Encoding text corpora as ngrams.\n",
      "INFO:Datasets:Encoding text The History of Philosophy: Volume 3 of 3...\n",
      "INFO:Datasets:Encoding text The Will to Power, Books III and IV...\n",
      "INFO:Datasets:Encoding text The Will to Power, Books I and II...\n",
      "INFO:Datasets:Encoding text The Joyful Wisdom...\n",
      "INFO:Datasets:Encoding text Kant's Prolegomena...\n",
      "INFO:Datasets:Encoding text Hegel's Lectures on the History of Philosophy: Vol. 2 of 3...\n",
      "INFO:Datasets:Encoding text Hegel's Lectures on the History of Philosophy: Vol. 1 of 3...\n",
      "INFO:Datasets:Encoding text Early Greek Philosophy & Other Essays...\n",
      "INFO:Datasets:Encoding text Perpetual Peace...\n",
      "INFO:Datasets:Encoding text Kant's Critique of Judgement...\n",
      "INFO:Datasets:Encoding text Thoughts Out of Season, Part 2...\n",
      "INFO:Datasets:Encoding text Human, All Too Human...\n",
      "INFO:Datasets:Encoding text We Philologists, Volume 8 of 18...\n",
      "INFO:Datasets:Encoding text The Metaphysical Elements of Ethics...\n",
      "INFO:Datasets:Encoding text The Critique of Practical Reason...\n",
      "INFO:Datasets:Encoding text Fundamental Principles of the Metaphysic of Morals...\n",
      "INFO:Datasets:Encoding text Thoughts out of Season, Part One...\n",
      "INFO:Datasets:Encoding text Beyond Good and Evil...\n",
      "INFO:Datasets:Encoding text The Critique of Pure Reason...\n",
      "INFO:Datasets:Encoding text Thus Spake Zarathustra...\n",
      "INFO:Datasets:Encoding text corpora as ngrams done.\n"
     ]
    }
   ],
   "source": [
    "MAX_TOKENS = 25000  # This becomes vocab_size\n",
    "MAX_NGRAM_LEN = 12   # Max length of a token\n",
    "\n",
    "if project_name == 'women_writers':\n",
    "    select = (\"Bennett\", \"1342\", \"5670\", \"1245\", \"161\", \"141\", \"121\", \"105\", \"Susan\", \"Wuthering\", \"Emma\", \"Voyage\")  # List unique single-words from title or ebook_id to select a given book\n",
    "    sub_book_list = [book_list[i] for i in range(len(book_list)) if not set([book_list[i]['ebook_id']]+book_list[i]['title'].split(' ')).isdisjoint(set(select))]\n",
    "else:\n",
    "    sub_book_list = book_list\n",
    "    \n",
    "print(\"Using:\")\n",
    "for i in range(len(sub_book_list)):\n",
    "    print(f\"{i+1}: {sub_book_list[i]['title']} - {sub_book_list[i]['author']}\")\n",
    "\n",
    "# obsolete?! textlib_dataset = None  # Forces re-caching\n",
    "td = Text_Dataset(sub_book_list)\n",
    "print(\"\")\n",
    "print(f\"Starting NGRAM tokinizer with token length from 1..{MAX_NGRAM_LEN} with a max of {MAX_TOKENS} unique tokens,\")\n",
    "print(\"this can take considerable time...\")\n",
    "td.init_tokenizer(tokenizer='ngram', max_ngrams=MAX_NGRAM_LEN, max_tokens=MAX_TOKENS)\n"
   ]
  },
  {
   "cell_type": "code",
   "execution_count": 11,
   "metadata": {
    "colab": {
     "base_uri": "https://localhost:8080/"
    },
    "id": "f7_tc2Lirb1i",
    "outputId": "56984788-d420-4d83-c292-27dffd36daec"
   },
   "outputs": [
    {
     "name": "stdout",
     "output_type": "stream",
     "text": [
      "2240694 records\n"
     ]
    }
   ],
   "source": [
    "SEQUENCE_LEN = 128\n",
    "\n",
    "td.init_getitem(sample_type='encoded', sample_length=SEQUENCE_LEN+1, content_stepping=1)\n",
    "\n",
    "num_records = len(td)\n",
    "\n",
    "print(f\"{num_records} records\")"
   ]
  },
  {
   "cell_type": "code",
   "execution_count": 12,
   "metadata": {
    "id": "zZbbsNm0cOeW"
   },
   "outputs": [],
   "source": [
    "def get_sample_batch(td, batch_size):\n",
    "    # generate a small batch of data of inputs x and targets y\n",
    "    # ix = torch.randint(len(data) - block_size, (batch_size,))\n",
    "    # x = torch.stack([data[i : i + block_size] for i in ix])\n",
    "    # y = torch.stack([data[i + 1 : i + block_size + 1] for i in ix])\n",
    "    # x, y = x.to(device), y.to(device)\n",
    "    # return x, y\n",
    "    for i in range(batch_size):\n",
    "        data = td.get_random_item()\n",
    "        Xi = data[:-1]\n",
    "        yi = data[1:]\n",
    "        if i==0:\n",
    "            # smpX=np.array(Xi, dtype=np.float32)\n",
    "            smpX=np.array(Xi, dtype=np.int32)\n",
    "            smpy=np.array(yi, dtype=np.int32)\n",
    "        else:\n",
    "            # smpX = np.vstack((smpX, np.array(Xi, dtype=np.float32)))\n",
    "            smpX = np.vstack((smpX, np.array(Xi, dtype=np.int32)))\n",
    "            smpy = np.vstack((smpy, np.array(yi, dtype=np.int32)))\n",
    "    return np.array(smpX), np.array(smpy)"
   ]
  },
  {
   "cell_type": "code",
   "execution_count": 13,
   "metadata": {
    "colab": {
     "base_uri": "https://localhost:8080/"
    },
    "id": "TI3Fx6bNuR9A",
    "outputId": "dd1b3c89-df92-4f59-d551-41f1aaa37557"
   },
   "outputs": [
    {
     "name": "stdout",
     "output_type": "stream",
     "text": [
      "[0](l=128): X=>ical\n",
      "use, there is not so much reason as in common knowledge to fear a\n",
      "secret mixture of empirical principles of cognition). But, that pure\n",
      "reason without the admixture of any empirical principle is practical\n",
      "of itself, this could only be shown from the commonest practical use\n",
      "of reason, by verifying the fact, that every man's natural reason\n",
      "acknowledges the supreme practical principle as the supreme law of his\n",
      "will- a law completely a priori and not depending on any sensible\n",
      "data. It was necessary first to establish and verify the purity of its\n",
      "origin, even in the judgement of this common reason, before science\n",
      "could take it in hand to make use of it, as a fact, that is, prior\n",
      "to all disputation about its p<,\n",
      "y=>use, there is not so much reason as in common knowledge to fear a\n",
      "secret mixture of empirical principles of cognition). But, that pure\n",
      "reason without the admixture of any empirical principle is practical\n",
      "of itself, this could only be shown from the commonest practical use\n",
      "of reason, by verifying the fact, that every man's natural reason\n",
      "acknowledges the supreme practical principle as the supreme law of his\n",
      "will- a law completely a priori and not depending on any sensible\n",
      "data. It was necessary first to establish and verify the purity of its\n",
      "origin, even in the judgement of this common reason, before science\n",
      "could take it in hand to make use of it, as a fact, that is, prior\n",
      "to all disputation about its possibility<\n",
      "[1](l=128): X=>intuition. The proving of anything, the making it comprehensible, is thus\n",
      "abandoned; a correct apprehension of it is directly demanded, and the\n",
      "Idea is thus assertorically pre-established as principle. The Absolute\n",
      "is the absolute identity of subjective and objective, the absolute\n",
      "indifference of real and ideal, of form and essence, of universal and\n",
      "particular; in this identity of the two there is neither the one nor\n",
      "the other. But the unity is not abstract, empty, and dry; that would\n",
      "signify logical identity, classification according to something common\n",
      "to both, in which the difference remains all the while outside. The\n",
      "identity is concrete: it is subjectivity as well as objectivity; the two\n",
      "are present therein as abrogated and ideal. This identi<,\n",
      "y=>. The proving of anything, the making it comprehensible, is thus\n",
      "abandoned; a correct apprehension of it is directly demanded, and the\n",
      "Idea is thus assertorically pre-established as principle. The Absolute\n",
      "is the absolute identity of subjective and objective, the absolute\n",
      "indifference of real and ideal, of form and essence, of universal and\n",
      "particular; in this identity of the two there is neither the one nor\n",
      "the other. But the unity is not abstract, empty, and dry; that would\n",
      "signify logical identity, classification according to something common\n",
      "to both, in which the difference remains all the while outside. The\n",
      "identity is concrete: it is subjectivity as well as objectivity; the two\n",
      "are present therein as abrogated and ideal. This identity <\n"
     ]
    }
   ],
   "source": [
    "test_x, test_y = get_sample_batch(td, 2)\n",
    "for i in range(len(test_x)):\n",
    "    xi=[int(x) for x in test_x[i]]\n",
    "    print(f\"[{i}](l={len(xi)}): X=>{td.decode(xi)}<,\\ny=>{td.decode(test_y[i])}<\")"
   ]
  },
  {
   "cell_type": "code",
   "execution_count": 14,
   "metadata": {
    "colab": {
     "base_uri": "https://localhost:8080/"
    },
    "id": "qnMxRkkmcOeX",
    "outputId": "8823866a-9a9a-49b8-f8c9-be29964ae0bd"
   },
   "outputs": [
    {
     "data": {
      "text/plain": [
       "((2, 128), (2, 128))"
      ]
     },
     "execution_count": 14,
     "metadata": {},
     "output_type": "execute_result"
    }
   ],
   "source": [
    "test_x.shape, test_y.shape"
   ]
  },
  {
   "cell_type": "markdown",
   "metadata": {
    "id": "30hi0UPtEAQG"
   },
   "source": [
    "## 2. data for texts"
   ]
  },
  {
   "cell_type": "code",
   "execution_count": 15,
   "metadata": {
    "id": "jn_LcJ6g9Mzy"
   },
   "outputs": [],
   "source": [
    "def expand_name_template(template, params):\n",
    "    exp=copy.copy(template)\n",
    "    for key in params:\n",
    "        src=\"{\"+key+\"}\"\n",
    "        dst=f\"{params[key]}\"\n",
    "        exp=exp.replace(src,dst).replace('[','(').replace(']',')')\n",
    "    return exp\n",
    "\n",
    "def save_model_metadata(epoch, suffix='std'):\n",
    "    meta_file = os.path.join(model_path, f'model_meta_{suffix}.json')\n",
    "    params['current_epoch'] = epoch\n",
    "    try:\n",
    "        with open(meta_file, 'w') as f:\n",
    "            f.write(json.dumps(params))\n",
    "    except Exception as e:\n",
    "        print(f\"Failed to store model metadata at {model_path}: {e}\")\n",
    "        return False\n",
    "    return True\n",
    "\n",
    "def read_model_metadata(suffix=\"std\"):\n",
    "    meta_file = os.path.join(model_path, f'model_meta_{suffix}.json')\n",
    "    try:\n",
    "        with open(meta_file, 'r') as f:\n",
    "            meta = json.load(f)\n",
    "    except Exception as e:\n",
    "        print(f\"Cannot access project meta-data at {meta_file}: {e}, starting anew.\")\n",
    "        return None\n",
    "    return meta\n",
    "\n",
    "def is_metadata_compatible(params, meta):\n",
    "    is_valid=True\n",
    "    keys=set(list(params.keys())+list(meta.keys()))\n",
    "    for key in keys:\n",
    "        if key in updatable_keys:\n",
    "            continue\n",
    "        if key not in meta:\n",
    "            print(f\"Key {key} not available in last checkpoint model_meta, params[{key}]: {params[key]}, cannot import incompatible model. Put key in `updatable_keys` list, if irrelevant.\")\n",
    "            is_valid = False\n",
    "        elif key not in params:\n",
    "            print(f\"Key {key} not available in params, last checkpoint model_meta[{key}]: {meta[key]}, cannot import incompatible model. Put key in `updatable_keys` list, if irrelevant.\")\n",
    "            is_valid = False\n",
    "        elif meta[key]!=params[key]:\n",
    "            print(f\"Last checkpoint model_meta[{key}]: {meta[key]} != params[{key}]: {params[key]}, cannot import incompatible model. Put key in `updatable_keys` list, if irrelevant.\")\n",
    "            is_valid = False\n",
    "    if is_valid is False:\n",
    "        print(\"Aborting import.\")\n",
    "        return False\n",
    "    return True"
   ]
  },
  {
   "cell_type": "code",
   "execution_count": 32,
   "metadata": {
    "colab": {
     "base_uri": "https://localhost:8080/"
    },
    "id": "znpIUA3ig3gO",
    "outputId": "4aeb5c42-79e4-4fd7-ad10-2e8219d1bf19"
   },
   "outputs": [
    {
     "name": "stdout",
     "output_type": "stream",
     "text": [
      "Cannot access project meta-data at ./model/ngpt_philosophers_v1_pt/model_meta_16x16x{units}x25000.json: [Errno 2] No such file or directory: './model/ngpt_philosophers_v1_pt/model_meta_16x16x{units}x25000.json', starting anew.\n",
      "Starting new model\n",
      "{'name': '{mhsa_layers}x{heads}x{units}x{vocab_size}', 'mhsa_layers': 16, 'heads': 16, 'causal': True, 'dropout': 0.1, 'vocab_size': 25000, 'sequence_len': 128, 'embedding_size': 256, 'test_iterations': 10, 'batch_size': 64, 'learning_rate': 0.0004, 'sample_every_n_iterations': 250, 'max_iterations': 1000000}\n"
     ]
    }
   ],
   "source": [
    "vocabulary_size = td.get_unique_token_count()  # vocabulary-size\n",
    "\n",
    "attn_layers = 16;\n",
    "\n",
    "params = { # Multi-head self-attention\n",
    "    'name': '{mhsa_layers}x{heads}x{units}x{vocab_size}',\n",
    "\n",
    "    'mhsa_layers': attn_layers, \n",
    "    'heads': 16,\n",
    "    'causal': True,  # Use causal self-attention\n",
    "    'dropout': 0.1,       # no dropout: 0.0\n",
    "    'vocab_size': vocabulary_size,\n",
    "    'sequence_len': SEQUENCE_LEN,\n",
    "    'embedding_size': 256, \n",
    "    'test_iterations': 10,  # number of epocs for loss estimation\n",
    "\n",
    "    'batch_size': 64,\n",
    "    'learning_rate': 0.0004,\n",
    "    'sample_every_n_iterations': 250,\n",
    "    \n",
    "    'max_iterations': 1000000  # maximum number of training iterations\n",
    "}\n",
    "\n",
    "# if len(params['heads'])!=params['mhsa_layers']: # or len(params['units'])!=params['mhsa_layers']:\n",
    "#     print(\"ERROR: lenght of 'heads' and 'units' must be equal to mhsa_layers!\")\n",
    "    \n",
    "model_suffix = expand_name_template(params['name'], params)\n",
    "# Put 'important' params in checkpoint-pathname to separate model-data:\n",
    "checkpoint_dir = os.path.join(model_path, f\"training_checkpoints_{model_suffix}\")\n",
    "if os.path.exists(checkpoint_dir) is False:\n",
    "    os.makedirs(checkpoint_dir)\n",
    "\n",
    "# When comparing if training-data is compatible with new params set, \n",
    "# the following keys are updatable, they can be changed while continuing\n",
    "# to use existing checkpoints and continue training with those values\n",
    "# changed:\n",
    "updatable_keys=['learning_rate', 'batch_size', 'current_epoch', 'dropout', \n",
    "             'sample_every_n_epochs']\n",
    "\n",
    "# These values are taking from saved checkpoint:\n",
    "keep_keys=['current_epoch']\n",
    "\n",
    "continue_last = True\n",
    "if continue_last is False:\n",
    "    print(\"NOT continuing based on existing training! New start.\")\n",
    "\n",
    "meta = read_model_metadata(suffix=model_suffix)\n",
    "if meta is not None and is_metadata_compatible(params, meta) is True and continue_last is True:\n",
    "    for key in keep_keys:\n",
    "        if key in meta:\n",
    "            params[key]=meta[key]\n",
    "    if params is not None:\n",
    "        print(f\"Continuing last session from epoch {params['current_epoch']}\")\n",
    "    else:\n",
    "        print(f\"No previous data, starting new model\")\n",
    "else:\n",
    "    print(\"Starting new model\")\n",
    "\n",
    "print(params)"
   ]
  },
  {
   "cell_type": "code",
   "execution_count": 33,
   "metadata": {
    "colab": {
     "base_uri": "https://localhost:8080/"
    },
    "id": "jY3hUuhQYzdT",
    "outputId": "c93d7933-9afd-4753-face-b91c445dd16d"
   },
   "outputs": [
    {
     "name": "stdout",
     "output_type": "stream",
     "text": [
      "num_batches = 35010\n"
     ]
    }
   ],
   "source": [
    "num_batches = num_records // params['batch_size']\n",
    "print(f\"num_batches = {num_batches}\")"
   ]
  },
  {
   "cell_type": "code",
   "execution_count": 34,
   "metadata": {
    "id": "bgVHUkbhdK9y"
   },
   "outputs": [],
   "source": [
    "def get_torch_batch(td, batch_size, device, split=None):\n",
    "    x, y = get_sample_batch(td, batch_size)\n",
    "    return torch.tensor(x, dtype=torch.long).to(device), torch.tensor(y, dtype=torch.long).to(device)"
   ]
  },
  {
   "cell_type": "code",
   "execution_count": 35,
   "metadata": {
    "id": "JTte4VvUdK9z"
   },
   "outputs": [],
   "source": [
    "# get_torch_batch(td, 2, 'cpu')"
   ]
  },
  {
   "cell_type": "code",
   "execution_count": 36,
   "metadata": {
    "id": "QnMCWf5AZn1-"
   },
   "outputs": [],
   "source": [
    "@torch.no_grad()\n",
    "def estimate_loss(device):\n",
    "    out = {}\n",
    "    model.eval()\n",
    "    for split in [\"train\", \"val\"]:\n",
    "        losses = torch.zeros(params['test_iterations'])\n",
    "        for k in range(params['test_iterations']):\n",
    "            print(\".\", end=\"\", flush=True)\n",
    "            X, Y = get_torch_batch(td, params['batch_size'], device, split)\n",
    "            logits, loss = model(X, Y)\n",
    "            losses[k] = loss.item()\n",
    "        out[split] = losses.mean()\n",
    "    model.train()\n",
    "    print(\"\\r\", end=\"\", flush=True)\n",
    "    return out\n",
    "\n",
    "\n",
    "def generate_sample(td, device, toks=100, temperature=1.0):\n",
    "    # generate from the model\n",
    "    # context = torch.zeros((1, 1), dtype=torch.long, device=device)\n",
    "    context = torch.tensor([td.encode(' ')]).to(device)\n",
    "    txt = td.decode(model.generate(context, max_new_tokens=toks, temperature=temperature)[0].tolist())\n",
    "    # Identify memorisation of text by highlighting verbatim quotes from sources\n",
    "    # that are longer than 10 chars. HTML colorcoded output for source identification:\n",
    "    td.source_highlight(txt, min_quote_size=10, dark_mode=False, display_ref_anchor=False)\n",
    "    return txt\n",
    "    # open('more.txt', 'w').write(decode(m.generate(context, max_new_tokens=10000)[0].tolist()))\n",
    "\n",
    "\n",
    "# @torch.compile\n",
    "def do_train_step(xb, yb):\n",
    "    logits, loss = model(xb, yb)\n",
    "    optimizer.zero_grad(set_to_none=True)\n",
    "    loss.backward()\n",
    "    optimizer.step()"
   ]
  },
  {
   "cell_type": "code",
   "execution_count": 37,
   "metadata": {
    "id": "9hEziJ0odK9z"
   },
   "outputs": [],
   "source": [
    "# XXX!\n",
    "device = \"cuda\" if torch.cuda.is_available() else \"cpu\"\n",
    "device = torch.device(\"mps\") if torch.backends.mps.is_available() else device"
   ]
  },
  {
   "cell_type": "code",
   "execution_count": null,
   "metadata": {},
   "outputs": [],
   "source": []
  },
  {
   "cell_type": "code",
   "execution_count": 38,
   "metadata": {
    "colab": {
     "base_uri": "https://localhost:8080/"
    },
    "id": "pdaulm1VdK9z",
    "outputId": "edd6c22a-afc2-40fb-fbc7-ac99817004f4"
   },
   "outputs": [
    {
     "name": "stdout",
     "output_type": "stream",
     "text": [
      "creating model...\n",
      "25.482152 M parameters\n"
     ]
    }
   ],
   "source": [
    "print(\"creating model...\")\n",
    "model_cpu = MultiHeadSelfAttention(params['vocab_size'], params['embedding_size'], \n",
    "                                   params['sequence_len'], params['dropout'], \n",
    "                                   params['heads'], params['mhsa_layers'], params['causal'], device)\n",
    "try:\n",
    "    del model\n",
    "except:\n",
    "    pass\n",
    "model = model_cpu.to(device)\n",
    "# print the number of parameters in the model\n",
    "print(sum(p.numel() for p in model.parameters()) / 1e6, \"M parameters\")\n",
    "# create a PyTorch optimizer\n",
    "optimizer = torch.optim.AdamW(model.parameters(), lr=params['learning_rate'])\n",
    "start_iter = 0"
   ]
  },
  {
   "cell_type": "code",
   "execution_count": null,
   "metadata": {
    "colab": {
     "base_uri": "https://localhost:8080/",
     "height": 1000
    },
    "id": "aZpMI7_iMdR6",
    "outputId": "ffc4f932-64dd-48f8-9b33-00091cf9ec75",
    "tags": []
   },
   "outputs": [
    {
     "name": "stdout",
     "output_type": "stream",
     "text": [
      "training...\n",
      "step 7500: train loss 3.5597, val loss 3.5698, time 0.485 sec/iter\n",
      "Sample: --------temperature: 0.9 ---------\n"
     ]
    },
    {
     "data": {
      "text/html": [
       " θει)—<span style=\"background-color:#d8daef;\">an earlier</span>.]<br><br>[45<span style=\"background-color:#d4efdf;\">4] Cf. Plat</span>o advisco-<span style=\"background-color:#d4efdf;\">points into </span>Whence was<span style=\"background-color:#fdebd0;\"><br>mean between two </span>m<span style=\"background-color:#ebdef0;\">ain substances </span><span style=\"background-color:#d4efdf;\">were subject</span><span style=\"background-color:#d8daef;\"> to the same </span>kin<span style=\"background-color:#d4e6f1;\">d; it does</span><span style=\"background-color:#d8daef;\"> not cease </span><span style=\"background-color:#d8daef;\">in<br>itself, and </span><span style=\"background-color:#ecf3cf;\">property the </span><span style=\"background-color:#d4e6f1;\">fact that “</span><span style=\"background-color:#d4efdf;\">other” is </span>no such "
      ],
      "text/plain": [
       "<IPython.core.display.HTML object>"
      ]
     },
     "metadata": {},
     "output_type": "display_data"
    },
    {
     "data": {
      "text/html": [
       "<small><p style=\"text-align:right;\">Sources: <span style=\"background-color:#d8daef;\">Georg Wilhelm Hegel: The History of Philosophy: Volume 3 of 3</span>, <span style=\"background-color:#d4efdf;\">Georg Wilhelm Hegel: Hegel's Lectures on the History of Philosophy: Vol. 1 of 3</span>, <span style=\"background-color:#fdebd0;\">Immanuel Kant: The Metaphysical Elements of Ethics</span>, <span style=\"background-color:#ebdef0;\">Friedrich Nietzsche: The Will to Power, Books III and IV</span>, <span style=\"background-color:#d4e6f1;\">Immanuel Kant: Kant's Critique of Judgement</span>, <span style=\"background-color:#ecf3cf;\">Georg Wilhelm Hegel: Hegel's Lectures on the History of Philosophy: Vol. 2 of 3</span></p></small>"
      ],
      "text/plain": [
       "<IPython.core.display.HTML object>"
      ]
     },
     "metadata": {},
     "output_type": "display_data"
    },
    {
     "name": "stdout",
     "output_type": "stream",
     "text": [
      "--------temperature: 0.95 ---------\n"
     ]
    },
    {
     "data": {
      "text/html": [
       " z<span style=\"background-color:#eadbd8;\">ed the application </span><span style=\"background-color:#ebdef0;\">and primit</span><span style=\"background-color:#e2d7d5;\">s of<br>virtue, </span><span style=\"background-color:#d8daef;\">is familiar</span>.<br><br>C<span style=\"background-color:#d6dbdf;\">arn nothing </span><span style=\"background-color:#d8daef;\">of the thre</span><span style=\"background-color:#d8daef;\">d in the a</span><span style=\"background-color:#d8daef;\">lysis of the </span>way<span style=\"background-color:#d8daef;\">s of<br>nature</span><span style=\"background-color:#e2d7d5;\">: the freedom </span><span style=\"background-color:#d4e6e1;\">of the will:</span><span style=\"background-color:#d8daef;\"> thing for m</span><span style=\"background-color:#ecf3cf;\">oral organis</span>ed and<br>in<span style=\"background-color:#ebdef0;\">ivileges of </span><span style=\"background-color:#ebdef0;\">morality are</span><span style=\"background-color:#d8daef;\">: people were </span>un<span style=\"background-color:#ebdef0;\">grasped to </span>be doing<span style=\"background-color:#d8daef;\"><br>world of </span>"
      ],
      "text/plain": [
       "<IPython.core.display.HTML object>"
      ]
     },
     "metadata": {},
     "output_type": "display_data"
    },
    {
     "data": {
      "text/html": [
       "<small><p style=\"text-align:right;\">Sources: <span style=\"background-color:#eadbd8;\">Immanuel Kant: The Critique of Pure Reason</span>, <span style=\"background-color:#ebdef0;\">Friedrich Nietzsche: The Will to Power, Books III and IV</span>, <span style=\"background-color:#e2d7d5;\">Friedrich Nietzsche: The Joyful Wisdom</span>, <span style=\"background-color:#d8daef;\">Georg Wilhelm Hegel: The History of Philosophy: Volume 3 of 3</span>, <span style=\"background-color:#d6dbdf;\">Friedrich Nietzsche: Thoughts Out of Season, Part 2</span>, <span style=\"background-color:#d4e6e1;\">Immanuel Kant: Fundamental Principles of the Metaphysic of Morals</span>, <span style=\"background-color:#ecf3cf;\">Georg Wilhelm Hegel: Hegel's Lectures on the History of Philosophy: Vol. 2 of 3</span>, <span style=\"background-color:#d8daef;\">Friedrich Nietzsche: Thoughts out of Season, Part One</span></p></small>"
      ],
      "text/plain": [
       "<IPython.core.display.HTML object>"
      ]
     },
     "metadata": {},
     "output_type": "display_data"
    },
    {
     "name": "stdout",
     "output_type": "stream",
     "text": [
      "--------temperature: 1.0 ---------\n"
     ]
    },
    {
     "data": {
      "text/html": [
       " <span style=\"background-color:#ebdef0;\">ther animal </span>(age as _pathyrd_<br>sanctif's <span style=\"background-color:#ecf3cf;\">brogation.</span>... \"<span style=\"background-color:#d4efdf;\">Redemption.</span>\"<span style=\"background-color:#edebd0;\"><br>Metaphysical</span>,\"<span style=\"background-color:#eadbd8;\"> mental in</span>stance:<span style=\"background-color:#d8daef;\"> of individuals</span>:--<span style=\"background-color:#ebdef0;\"><br><br>_(b)_ Wh</span><span style=\"background-color:#f6ddcc;\">y, consequently, </span>_terventures't cat"
      ],
      "text/plain": [
       "<IPython.core.display.HTML object>"
      ]
     },
     "metadata": {},
     "output_type": "display_data"
    },
    {
     "data": {
      "text/html": [
       "<small><p style=\"text-align:right;\">Sources: <span style=\"background-color:#ebdef0;\">Friedrich Nietzsche: The Will to Power, Books III and IV</span>, <span style=\"background-color:#ecf3cf;\">Georg Wilhelm Hegel: Hegel's Lectures on the History of Philosophy: Vol. 2 of 3</span>, <span style=\"background-color:#d4efdf;\">Georg Wilhelm Hegel: Hegel's Lectures on the History of Philosophy: Vol. 1 of 3</span>, <span style=\"background-color:#edebd0;\">Immanuel Kant: Kant's Prolegomena</span>, <span style=\"background-color:#eadbd8;\">Friedrich Nietzsche: The Will to Power, Books I and II</span>, <span style=\"background-color:#d8daef;\">Georg Wilhelm Hegel: The History of Philosophy: Volume 3 of 3</span>, <span style=\"background-color:#f6ddcc;\">Friedrich Nietzsche: Human, All Too Human</span></p></small>"
      ],
      "text/plain": [
       "<IPython.core.display.HTML object>"
      ]
     },
     "metadata": {},
     "output_type": "display_data"
    },
    {
     "name": "stdout",
     "output_type": "stream",
     "text": [
      "--------temperature: 1.05 ---------\n"
     ]
    },
    {
     "data": {
      "text/html": [
       " σία<span style=\"background-color:#eadbd8;\">, in the el</span>ebr<span style=\"background-color:#d4efdf;\">ated reflection</span><span style=\"background-color:#d8daef;\"> of the Greek<br></span>σιλη. Pass<span style=\"background-color:#d8daef;\">ious attitude </span><span style=\"background-color:#ecf3cf;\">already mentioned (</span>λόηδ<span style=\"background-color:#ecf3cf;\">); and thus </span><span style=\"background-color:#ecf3cf;\">Plato also </span><span style=\"background-color:#d8daef;\">relates to th</span>us,<br>n<span style=\"background-color:#d4e6f1;\">oblem from </span><span style=\"background-color:#ecf3cf;\">which by the </span><span style=\"background-color:#d8daef;\">fact that the world</span><span style=\"background-color:#ecf3cf;\">’s philosophy<br>a</span>nd the lamen. “"
      ],
      "text/plain": [
       "<IPython.core.display.HTML object>"
      ]
     },
     "metadata": {},
     "output_type": "display_data"
    },
    {
     "data": {
      "text/html": [
       "<small><p style=\"text-align:right;\">Sources: <span style=\"background-color:#eadbd8;\">Immanuel Kant: The Critique of Pure Reason</span>, <span style=\"background-color:#d4efdf;\">Georg Wilhelm Hegel: Hegel's Lectures on the History of Philosophy: Vol. 1 of 3</span>, <span style=\"background-color:#d8daef;\">Georg Wilhelm Hegel: The History of Philosophy: Volume 3 of 3</span>, <span style=\"background-color:#d8daef;\">Friedrich Nietzsche: Thoughts out of Season, Part One</span>, <span style=\"background-color:#ecf3cf;\">Georg Wilhelm Hegel: Hegel's Lectures on the History of Philosophy: Vol. 2 of 3</span>, <span style=\"background-color:#d4e6f1;\">Immanuel Kant: Kant's Critique of Judgement</span></p></small>"
      ],
      "text/plain": [
       "<IPython.core.display.HTML object>"
      ]
     },
     "metadata": {},
     "output_type": "display_data"
    },
    {
     "name": "stdout",
     "output_type": "stream",
     "text": [
      "--------temperature: 1.1 ---------\n"
     ]
    },
    {
     "data": {
      "text/html": [
       " νός<span style=\"background-color:#d8daef;\"> is the life</span>”<span style=\"background-color:#ebdef0;\"> or the application</span><span style=\"background-color:#d8daef;\"><br>and individuality </span><span style=\"background-color:#d8daef;\">is not yet a</span><span style=\"background-color:#e5e8e8;\">ctive and ex</span><span style=\"background-color:#ecf3cf;\">istent. The </span><span style=\"background-color:#d8daef;\">immediate<br></span>“<span style=\"background-color:#d8daef;\">remains are </span>potentiv<span style=\"background-color:#eadbd8;\">anity is, </span><span style=\"background-color:#d4e6f1;\">for the subjective</span>;”<span style=\"background-color:#d4e6f1;\"> the possibility of or</span><span style=\"background-color:#ecf3cf;\"> as the sum total</span>ityi<span style=\"background-color:#ecf3cf;\">ll<br>what is </span><span style=\"background-color:#d8daef;\">represented as the </span>join<span style=\"background-color:#d0ece7;\">ed along a</span><span style=\"background-color:#d8daef;\">nd the activity of the e</span>arth"
      ],
      "text/plain": [
       "<IPython.core.display.HTML object>"
      ]
     },
     "metadata": {},
     "output_type": "display_data"
    },
    {
     "data": {
      "text/html": [
       "<small><p style=\"text-align:right;\">Sources: <span style=\"background-color:#d8daef;\">Georg Wilhelm Hegel: The History of Philosophy: Volume 3 of 3</span>, <span style=\"background-color:#ebdef0;\">Friedrich Nietzsche: The Will to Power, Books III and IV</span>, <span style=\"background-color:#e5e8e8;\">Immanuel Kant: The Critique of Practical Reason</span>, <span style=\"background-color:#ecf3cf;\">Georg Wilhelm Hegel: Hegel's Lectures on the History of Philosophy: Vol. 2 of 3</span>, <span style=\"background-color:#eadbd8;\">Friedrich Nietzsche: The Will to Power, Books I and II</span>, <span style=\"background-color:#d4e6f1;\">Immanuel Kant: Kant's Critique of Judgement</span>, <span style=\"background-color:#d0ece7;\">Friedrich Nietzsche: Early Greek Philosophy & Other Essays</span></p></small>"
      ],
      "text/plain": [
       "<IPython.core.display.HTML object>"
      ]
     },
     "metadata": {},
     "output_type": "display_data"
    },
    {
     "name": "stdout",
     "output_type": "stream",
     "text": [
      "-------------------------------------------\n",
      "step 7750: train loss 3.4979, val loss 3.4743, time 0.509 sec/iter\n",
      "Sample: --------temperature: 0.9 ---------\n"
     ]
    },
    {
     "data": {
      "text/html": [
       " -rests cust), but<span style=\"background-color:#d8daef;\"> to<br>say, th</span><span style=\"background-color:#d4e6f1;\">at principle and the </span><span style=\"background-color:#edebd0;\">objects of possible </span><span style=\"background-color:#eadbd8;\">cognition, may<br></span>li<span style=\"background-color:#d4e6f1;\">e in judging of </span>ours, were outu<span style=\"background-color:#eadbd8;\">ally affirm</span><span style=\"background-color:#d4e6f1;\">scribe to o</span><span style=\"background-color:#eadbd8;\">bjects of<br>experience; and </span><span style=\"background-color:#d8daef;\">however much </span>adon<span style=\"background-color:#d4efdf;\">e, in space a</span><span style=\"background-color:#d4e6e1;\">s well as, </span><span style=\"background-color:#d4e6f1;\">in reference to them </span><span style=\"background-color:#d8daef;\">from that<br></span><span style=\"background-color:#d8daef;\">all, in which </span>we<span style=\"background-color:#d8daef;\"> know know</span> "
      ],
      "text/plain": [
       "<IPython.core.display.HTML object>"
      ]
     },
     "metadata": {},
     "output_type": "display_data"
    },
    {
     "data": {
      "text/html": [
       "<small><p style=\"text-align:right;\">Sources: <span style=\"background-color:#d8daef;\">Georg Wilhelm Hegel: The History of Philosophy: Volume 3 of 3</span>, <span style=\"background-color:#d4e6f1;\">Immanuel Kant: Kant's Critique of Judgement</span>, <span style=\"background-color:#edebd0;\">Immanuel Kant: Kant's Prolegomena</span>, <span style=\"background-color:#eadbd8;\">Immanuel Kant: The Critique of Pure Reason</span>, <span style=\"background-color:#d4efdf;\">Georg Wilhelm Hegel: Hegel's Lectures on the History of Philosophy: Vol. 1 of 3</span>, <span style=\"background-color:#d4e6e1;\">Immanuel Kant: Fundamental Principles of the Metaphysic of Morals</span></p></small>"
      ],
      "text/plain": [
       "<IPython.core.display.HTML object>"
      ]
     },
     "metadata": {},
     "output_type": "display_data"
    },
    {
     "name": "stdout",
     "output_type": "stream",
     "text": [
      "--------temperature: 0.95 ---------\n"
     ]
    },
    {
     "data": {
      "text/html": [
       " θεὐθαται τρήθηταἰς)”<br>“<span style=\"background-color:#d8daef;\">The transition </span>(πρχοὐστία)” (Procli): “also<br>(δὲγ"
      ],
      "text/plain": [
       "<IPython.core.display.HTML object>"
      ]
     },
     "metadata": {},
     "output_type": "display_data"
    },
    {
     "data": {
      "text/html": [
       "<small><p style=\"text-align:right;\">Sources: <span style=\"background-color:#d8daef;\">Georg Wilhelm Hegel: The History of Philosophy: Volume 3 of 3</span></p></small>"
      ],
      "text/plain": [
       "<IPython.core.display.HTML object>"
      ]
     },
     "metadata": {},
     "output_type": "display_data"
    },
    {
     "name": "stdout",
     "output_type": "stream",
     "text": [
      "--------temperature: 1.0 ---------\n"
     ]
    },
    {
     "data": {
      "text/html": [
       "<span style=\"background-color:#fdebd0;\"> ^paragraph 15}<br><br></span>Hegel,<span style=\"background-color:#d8daef;\"> English p</span><span style=\"background-color:#eadbd8;\">odeictic, </span>richy (<span style=\"background-color:#d8daef;\">and from this </span>follow impatiites<br>o epo<span style=\"background-color:#d4e6f1;\">ure) in the </span><span style=\"background-color:#d6eaf8;\">absence of every</span>-<span style=\"background-color:#d8daef;\"> of the most hi</span>ndefinite[Kant’s]] imply<br>freedom"
      ],
      "text/plain": [
       "<IPython.core.display.HTML object>"
      ]
     },
     "metadata": {},
     "output_type": "display_data"
    },
    {
     "data": {
      "text/html": [
       "<small><p style=\"text-align:right;\">Sources: <span style=\"background-color:#fdebd0;\">Immanuel Kant: The Metaphysical Elements of Ethics</span>, <span style=\"background-color:#d8daef;\">Georg Wilhelm Hegel: The History of Philosophy: Volume 3 of 3</span>, <span style=\"background-color:#eadbd8;\">Immanuel Kant: The Critique of Pure Reason</span>, <span style=\"background-color:#d4e6f1;\">Immanuel Kant: Kant's Critique of Judgement</span>, <span style=\"background-color:#d6eaf8;\">Immanuel Kant: Perpetual Peace</span>, <span style=\"background-color:#d8daef;\">Friedrich Nietzsche: Thoughts out of Season, Part One</span></p></small>"
      ],
      "text/plain": [
       "<IPython.core.display.HTML object>"
      ]
     },
     "metadata": {},
     "output_type": "display_data"
    },
    {
     "name": "stdout",
     "output_type": "stream",
     "text": [
      "--------temperature: 1.05 ---------\n"
     ]
    },
    {
     "data": {
      "text/html": [
       " ἄπειάνδιασμα; a<span style=\"background-color:#ecf3cf;\"> sun and a</span>m<span style=\"background-color:#d8daef;\">ount the n</span>ine.<br><span style=\"background-color:#ecf3cf;\">he appears to be </span><span style=\"background-color:#eadbd8;\">regarded as problem</span>. Cardas Silen, and bookila showd<br>b<span style=\"background-color:#d8daef;\">y profound </span>genera<span style=\"background-color:#edebd0;\">ur in them</span>.[11] If remark"
      ],
      "text/plain": [
       "<IPython.core.display.HTML object>"
      ]
     },
     "metadata": {},
     "output_type": "display_data"
    },
    {
     "data": {
      "text/html": [
       "<small><p style=\"text-align:right;\">Sources: <span style=\"background-color:#ecf3cf;\">Georg Wilhelm Hegel: Hegel's Lectures on the History of Philosophy: Vol. 2 of 3</span>, <span style=\"background-color:#d8daef;\">Georg Wilhelm Hegel: The History of Philosophy: Volume 3 of 3</span>, <span style=\"background-color:#eadbd8;\">Friedrich Nietzsche: The Will to Power, Books I and II</span>, <span style=\"background-color:#edebd0;\">Immanuel Kant: Kant's Prolegomena</span></p></small>"
      ],
      "text/plain": [
       "<IPython.core.display.HTML object>"
      ]
     },
     "metadata": {},
     "output_type": "display_data"
    },
    {
     "name": "stdout",
     "output_type": "stream",
     "text": [
      "--------temperature: 1.1 ---------\n"
     ]
    },
    {
     "data": {
      "text/html": [
       " Vie of mawäglinde_ign__<span style=\"background-color:#d8daef;\"><br>matters. </span><span style=\"background-color:#e2d7d5;\">For melody </span><span style=\"background-color:#eadbd8;\">rest assured th</span><span style=\"background-color:#e2d7d5;\">rough the annihilation of </span>_Germany_ bod<span style=\"background-color:#ebdef0;\">y<br>excites o</span>rder<span style=\"background-color:#e2d7d5;\">. Life is no</span><span style=\"background-color:#ebdef0;\">t opposed to th</span><span style=\"background-color:#d8daef;\">ose who ought to </span>neself<br><span style=\"background-color:#d8daef;\">music a per</span>son the siggest its"
      ],
      "text/plain": [
       "<IPython.core.display.HTML object>"
      ]
     },
     "metadata": {},
     "output_type": "display_data"
    },
    {
     "data": {
      "text/html": [
       "<small><p style=\"text-align:right;\">Sources: <span style=\"background-color:#d8daef;\">Georg Wilhelm Hegel: The History of Philosophy: Volume 3 of 3</span>, <span style=\"background-color:#e2d7d5;\">Friedrich Nietzsche: The Joyful Wisdom</span>, <span style=\"background-color:#eadbd8;\">Immanuel Kant: The Critique of Pure Reason</span>, <span style=\"background-color:#ebdef0;\">Friedrich Nietzsche: The Will to Power, Books III and IV</span>, <span style=\"background-color:#d8daef;\">Friedrich Nietzsche: Thoughts out of Season, Part One</span></p></small>"
      ],
      "text/plain": [
       "<IPython.core.display.HTML object>"
      ]
     },
     "metadata": {},
     "output_type": "display_data"
    },
    {
     "name": "stdout",
     "output_type": "stream",
     "text": [
      "-------------------------------------------\n",
      "step 8000: train loss 3.4998, val loss 3.4406, time 0.507 sec/iter\n",
      "Sample: --------temperature: 0.9 ---------\n"
     ]
    },
    {
     "data": {
      "text/html": [
       " + 9, 90, p. 2933, 29<span style=\"background-color:#d8daef;\">60; III. 6</span>7<span style=\"background-color:#d8daef;\">8 _seq._;<br>    </span><span style=\"background-color:#d8daef;\">subjective, I. </span>28<span style=\"background-color:#d8daef;\">7;<br>    existence</span>, I. 298,  92; III. 2<span style=\"background-color:#d8daef;\">7 _seq._;<br>    </span><span style=\"background-color:#d8daef;\">knowledge to be </span>"
      ],
      "text/plain": [
       "<IPython.core.display.HTML object>"
      ]
     },
     "metadata": {},
     "output_type": "display_data"
    },
    {
     "data": {
      "text/html": [
       "<small><p style=\"text-align:right;\">Sources: <span style=\"background-color:#d8daef;\">Georg Wilhelm Hegel: The History of Philosophy: Volume 3 of 3</span></p></small>"
      ],
      "text/plain": [
       "<IPython.core.display.HTML object>"
      ]
     },
     "metadata": {},
     "output_type": "display_data"
    },
    {
     "name": "stdout",
     "output_type": "stream",
     "text": [
      "--------temperature: 0.95 ---------\n"
     ]
    },
    {
     "data": {
      "text/html": [
       " 5)<span style=\"background-color:#d8daef;\">.<br><br>c. The </span><span style=\"background-color:#d8daef;\">definition of t</span>w<span style=\"background-color:#ebdef0;\">o logical </span><span style=\"background-color:#e5e8e8;\">possibility, but e</span>ssenti<span style=\"background-color:#eadbd8;\">al<br>synthetical propositions </span><span style=\"background-color:#ecf3cf;\">and their form</span><span style=\"background-color:#d6dbdf;\">al culture with </span><span style=\"background-color:#eadbd8;\">which the universe</span><span style=\"background-color:#eadbd8;\">, as<br>const</span><span style=\"background-color:#eadbd8;\">ruction of a </span><span style=\"background-color:#eadbd8;\">faculty was </span>to him<span style=\"background-color:#ebdef0;\">.<br><br>On the other hand, </span><span style=\"background-color:#d6eaf8;\">however, the idea of </span><span style=\"background-color:#d8daef;\">the product of the </span><span style=\"background-color:#eadbd8;\">fundamental<br>cont</span><span style=\"background-color:#ecf3cf;\">ent that p</span>e<span style=\"background-color:#e2d7d5;\">rtain, a n</span><span style=\"background-color:#d4e6f1;\">ecessary result </span><span style=\"background-color:#d8daef;\">to infinitu</span><span style=\"background-color:#d4e6f1;\">m of causality, </span><span style=\"background-color:#d8daef;\">the harmon</span>"
      ],
      "text/plain": [
       "<IPython.core.display.HTML object>"
      ]
     },
     "metadata": {},
     "output_type": "display_data"
    },
    {
     "data": {
      "text/html": [
       "<small><p style=\"text-align:right;\">Sources: <span style=\"background-color:#d8daef;\">Georg Wilhelm Hegel: The History of Philosophy: Volume 3 of 3</span>, <span style=\"background-color:#ebdef0;\">Friedrich Nietzsche: The Will to Power, Books III and IV</span>, <span style=\"background-color:#e5e8e8;\">Immanuel Kant: The Critique of Practical Reason</span>, <span style=\"background-color:#eadbd8;\">Immanuel Kant: The Critique of Pure Reason</span>, <span style=\"background-color:#ecf3cf;\">Georg Wilhelm Hegel: Hegel's Lectures on the History of Philosophy: Vol. 2 of 3</span>, <span style=\"background-color:#d6dbdf;\">Friedrich Nietzsche: Thoughts Out of Season, Part 2</span>, <span style=\"background-color:#eadbd8;\">Friedrich Nietzsche: The Will to Power, Books I and II</span>, <span style=\"background-color:#d6eaf8;\">Immanuel Kant: Perpetual Peace</span>, <span style=\"background-color:#e2d7d5;\">Friedrich Nietzsche: Thus Spake Zarathustra</span>, <span style=\"background-color:#d4e6f1;\">Immanuel Kant: Kant's Critique of Judgement</span></p></small>"
      ],
      "text/plain": [
       "<IPython.core.display.HTML object>"
      ]
     },
     "metadata": {},
     "output_type": "display_data"
    },
    {
     "name": "stdout",
     "output_type": "stream",
     "text": [
      "--------temperature: 1.0 ---------\n"
     ]
    },
    {
     "data": {
      "text/html": [
       " § 6. Now.<br><br><br>_HIII Opinion<span style=\"background-color:#ecf3cf;\"><br>Conceptions</span>,<span style=\"background-color:#d4e6f1;\"> III. Of the </span>maappe<span style=\"background-color:#edebd0;\">n of pure reason </span>in (<span style=\"background-color:#eadbd8;\">a science of the m</span>ocia<span style=\"background-color:#ecf3cf;\">ning state</span>,<span style=\"background-color:#edebd0;\"> Critique II., </span>bk, and<br>forbidd<span style=\"background-color:#d8daef;\">hameless o</span>ppon<span style=\"background-color:#d8daef;\">ent by the</span>irrittenat"
      ],
      "text/plain": [
       "<IPython.core.display.HTML object>"
      ]
     },
     "metadata": {},
     "output_type": "display_data"
    },
    {
     "data": {
      "text/html": [
       "<small><p style=\"text-align:right;\">Sources: <span style=\"background-color:#ecf3cf;\">Georg Wilhelm Hegel: Hegel's Lectures on the History of Philosophy: Vol. 2 of 3</span>, <span style=\"background-color:#d4e6f1;\">Immanuel Kant: Kant's Critique of Judgement</span>, <span style=\"background-color:#edebd0;\">Immanuel Kant: Kant's Prolegomena</span>, <span style=\"background-color:#eadbd8;\">Immanuel Kant: The Critique of Pure Reason</span>, <span style=\"background-color:#d8daef;\">Friedrich Nietzsche: Thoughts out of Season, Part One</span>, <span style=\"background-color:#d8daef;\">Georg Wilhelm Hegel: The History of Philosophy: Volume 3 of 3</span></p></small>"
      ],
      "text/plain": [
       "<IPython.core.display.HTML object>"
      ]
     },
     "metadata": {},
     "output_type": "display_data"
    },
    {
     "name": "stdout",
     "output_type": "stream",
     "text": [
      "--------temperature: 1.05 ---------\n"
     ]
    },
    {
     "data": {
      "text/html": [
       " 898-230-320-34; II. 208<span style=\"background-color:#d8daef;\">, 308;<br>    </span><span style=\"background-color:#d8daef;\">as ultimate </span>and systalogue or III. 32, 38, 399, 394-509;<br>   <span style=\"background-color:#e2d7d5;\"> more one </span>doing, "
      ],
      "text/plain": [
       "<IPython.core.display.HTML object>"
      ]
     },
     "metadata": {},
     "output_type": "display_data"
    },
    {
     "data": {
      "text/html": [
       "<small><p style=\"text-align:right;\">Sources: <span style=\"background-color:#d8daef;\">Georg Wilhelm Hegel: The History of Philosophy: Volume 3 of 3</span>, <span style=\"background-color:#e2d7d5;\">Friedrich Nietzsche: The Joyful Wisdom</span></p></small>"
      ],
      "text/plain": [
       "<IPython.core.display.HTML object>"
      ]
     },
     "metadata": {},
     "output_type": "display_data"
    },
    {
     "name": "stdout",
     "output_type": "stream",
     "text": [
      "--------temperature: 1.1 ---------\n"
     ]
    },
    {
     "data": {
      "text/html": [
       " 5),—thus<span style=\"background-color:#d8daef;\">, movement a</span>l<span style=\"background-color:#d8daef;\">so exhauste</span> in<span style=\"background-color:#d8daef;\">a<br>certain f</span>ame of<span style=\"background-color:#d8daef;\"> result, a</span><span style=\"background-color:#edebd0;\">lthough it does not </span><span style=\"background-color:#d6dbdf;\">stand its </span><span style=\"background-color:#edebd0;\">property in</span><span style=\"background-color:#d8daef;\"><br>the principle of </span>li<span style=\"background-color:#d4efdf;\">ving what is </span><span style=\"background-color:#d4efdf;\">other. Thus both </span><span style=\"background-color:#edebd0;\">appearances, as </span>it<span style=\"background-color:#d4efdf;\"> is<br>understood, </span><span style=\"background-color:#ecf3cf;\">and consequently unde</span><span style=\"background-color:#ebdef0;\">rstanding and ad</span>apd,<span style=\"background-color:#ecf3cf;\"> we<br>former</span><span style=\"background-color:#ecf3cf;\"> alone the con</span><span style=\"background-color:#ecf3cf;\">ception of it in </span><span style=\"background-color:#ecf3cf;\">a content th</span><span style=\"background-color:#eadbd8;\">at in relation to </span>the fi"
      ],
      "text/plain": [
       "<IPython.core.display.HTML object>"
      ]
     },
     "metadata": {},
     "output_type": "display_data"
    },
    {
     "data": {
      "text/html": [
       "<small><p style=\"text-align:right;\">Sources: <span style=\"background-color:#d8daef;\">Georg Wilhelm Hegel: The History of Philosophy: Volume 3 of 3</span>, <span style=\"background-color:#d8daef;\">Friedrich Nietzsche: Thoughts out of Season, Part One</span>, <span style=\"background-color:#edebd0;\">Immanuel Kant: Kant's Prolegomena</span>, <span style=\"background-color:#d6dbdf;\">Friedrich Nietzsche: Thoughts Out of Season, Part 2</span>, <span style=\"background-color:#d4efdf;\">Georg Wilhelm Hegel: Hegel's Lectures on the History of Philosophy: Vol. 1 of 3</span>, <span style=\"background-color:#ecf3cf;\">Georg Wilhelm Hegel: Hegel's Lectures on the History of Philosophy: Vol. 2 of 3</span>, <span style=\"background-color:#ebdef0;\">Friedrich Nietzsche: The Will to Power, Books III and IV</span>, <span style=\"background-color:#eadbd8;\">Immanuel Kant: The Critique of Pure Reason</span></p></small>"
      ],
      "text/plain": [
       "<IPython.core.display.HTML object>"
      ]
     },
     "metadata": {},
     "output_type": "display_data"
    },
    {
     "name": "stdout",
     "output_type": "stream",
     "text": [
      "-------------------------------------------\n",
      "step 8250: train loss 3.4167, val loss 3.4457, time 0.509 sec/iter\n",
      "Sample: --------temperature: 0.9 ---------\n"
     ]
    },
    {
     "data": {
      "text/html": [
       " Quirit_, 40, p. 239, 203; III. 239, 31, 369, 31, 33, 370, 38<span style=\"background-color:#d8daef;\">, 382, 384, 38</span>4<span style=\"background-color:#d8daef;\">, 383, 429, </span>"
      ],
      "text/plain": [
       "<IPython.core.display.HTML object>"
      ]
     },
     "metadata": {},
     "output_type": "display_data"
    },
    {
     "data": {
      "text/html": [
       "<small><p style=\"text-align:right;\">Sources: <span style=\"background-color:#d8daef;\">Georg Wilhelm Hegel: The History of Philosophy: Volume 3 of 3</span></p></small>"
      ],
      "text/plain": [
       "<IPython.core.display.HTML object>"
      ]
     },
     "metadata": {},
     "output_type": "display_data"
    },
    {
     "name": "stdout",
     "output_type": "stream",
     "text": [
      "--------temperature: 0.95 ---------\n"
     ]
    },
    {
     "data": {
      "text/html": [
       " 00, § 112.<br><br>[2<span style=\"background-color:#d8daef;\">222] Ibidem</span>, § 429<span style=\"background-color:#d8daef;\">, 11, pp. </span>238, 240, p. 2<span style=\"background-color:#d8daef;\">0.<br><br>[258] </span>Flatt, 96, 278, "
      ],
      "text/plain": [
       "<IPython.core.display.HTML object>"
      ]
     },
     "metadata": {},
     "output_type": "display_data"
    },
    {
     "data": {
      "text/html": [
       "<small><p style=\"text-align:right;\">Sources: <span style=\"background-color:#d8daef;\">Georg Wilhelm Hegel: The History of Philosophy: Volume 3 of 3</span></p></small>"
      ],
      "text/plain": [
       "<IPython.core.display.HTML object>"
      ]
     },
     "metadata": {},
     "output_type": "display_data"
    },
    {
     "name": "stdout",
     "output_type": "stream",
     "text": [
      "--------temperature: 1.0 ---------\n"
     ]
    },
    {
     "data": {
      "text/html": [
       " 525<span style=\"background-color:#d4e6f1;\"><br><br>  § 50. </span>K<span style=\"background-color:#d8daef;\">ind of reli</span><span style=\"background-color:#e2d7d5;\">minary to </span><span style=\"background-color:#d4e6f1;\">          s</span><span style=\"background-color:#ebdef0;\">upposing that the a</span>debtaining<br> <span style=\"background-color:#eadbd8;\"> be judged by a</span><span style=\"background-color:#d4e6f1;\"> practical principle of </span>condember<span style=\"background-color:#d6eaf8;\">ty together. </span><span style=\"background-color:#d6eaf8;\">A treaty of this </span><span style=\"background-color:#ecf3cf;\">at least the m</span>aterial<br> <span style=\"background-color:#ecf3cf;\"> great respect </span><span style=\"background-color:#ebdef0;\">for the latter a</span>gain,<br> <span style=\"background-color:#ebdef0;\"> then all th</span>ings show"
      ],
      "text/plain": [
       "<IPython.core.display.HTML object>"
      ]
     },
     "metadata": {},
     "output_type": "display_data"
    },
    {
     "data": {
      "text/html": [
       "<small><p style=\"text-align:right;\">Sources: <span style=\"background-color:#d4e6f1;\">Immanuel Kant: Kant's Critique of Judgement</span>, <span style=\"background-color:#d8daef;\">Friedrich Nietzsche: Thoughts out of Season, Part One</span>, <span style=\"background-color:#e2d7d5;\">Friedrich Nietzsche: The Joyful Wisdom</span>, <span style=\"background-color:#ebdef0;\">Friedrich Nietzsche: Beyond Good and Evil</span>, <span style=\"background-color:#eadbd8;\">Friedrich Nietzsche: The Will to Power, Books I and II</span>, <span style=\"background-color:#d6eaf8;\">Immanuel Kant: Perpetual Peace</span>, <span style=\"background-color:#ecf3cf;\">Georg Wilhelm Hegel: Hegel's Lectures on the History of Philosophy: Vol. 2 of 3</span>, <span style=\"background-color:#ebdef0;\">Friedrich Nietzsche: The Will to Power, Books III and IV</span></p></small>"
      ],
      "text/plain": [
       "<IPython.core.display.HTML object>"
      ]
     },
     "metadata": {},
     "output_type": "display_data"
    },
    {
     "name": "stdout",
     "output_type": "stream",
     "text": [
      "--------temperature: 1.05 ---------\n"
     ]
    },
    {
     "data": {
      "text/html": [
       " Quates_, § 54.<br><br>[464] Cf. sup<span style=\"background-color:#d4efdf;\">others from </span>the largeome<span style=\"background-color:#d8daef;\">ter Critique</span>.<br><br>[Gesetting Menasch. der neuend. §§ 22566.<br><br>[47] C"
      ],
      "text/plain": [
       "<IPython.core.display.HTML object>"
      ]
     },
     "metadata": {},
     "output_type": "display_data"
    },
    {
     "data": {
      "text/html": [
       "<small><p style=\"text-align:right;\">Sources: <span style=\"background-color:#d4efdf;\">Georg Wilhelm Hegel: Hegel's Lectures on the History of Philosophy: Vol. 1 of 3</span>, <span style=\"background-color:#d8daef;\">Friedrich Nietzsche: Thoughts out of Season, Part One</span></p></small>"
      ],
      "text/plain": [
       "<IPython.core.display.HTML object>"
      ]
     },
     "metadata": {},
     "output_type": "display_data"
    },
    {
     "name": "stdout",
     "output_type": "stream",
     "text": [
      "--------temperature: 1.1 ---------\n"
     ]
    },
    {
     "data": {
      "text/html": [
       " U_2|CHAPHAPAD BY<br><span style=\"background-color:#d8daef;\"><br>  ------------</span><span style=\"background-color:#d8daef;\"><br><br><br><br>                  </span>after GEXIFE CONCBIONUG TWIN<br>     WIN<span style=\"background-color:#d0ece7;\"><br><br><br><br><br>THE R</span>"
      ],
      "text/plain": [
       "<IPython.core.display.HTML object>"
      ]
     },
     "metadata": {},
     "output_type": "display_data"
    },
    {
     "data": {
      "text/html": [
       "<small><p style=\"text-align:right;\">Sources: <span style=\"background-color:#d8daef;\">Georg Wilhelm Hegel: The History of Philosophy: Volume 3 of 3</span>, <span style=\"background-color:#d0ece7;\">Friedrich Nietzsche: Early Greek Philosophy & Other Essays</span></p></small>"
      ],
      "text/plain": [
       "<IPython.core.display.HTML object>"
      ]
     },
     "metadata": {},
     "output_type": "display_data"
    },
    {
     "name": "stdout",
     "output_type": "stream",
     "text": [
      "-------------------------------------------\n",
      "step 8500: train loss 3.3135, val loss 3.3692, time 0.508 sec/iter\n",
      "Sample: --------temperature: 0.9 ---------\n"
     ]
    },
    {
     "data": {
      "text/html": [
       "<span style=\"background-color:#d8daef;\"> § 50, p. 1</span>75. (adv. 410); As dogb<span style=\"background-color:#d4efdf;\">e this ori</span><span style=\"background-color:#eadbd8;\">ginal signification</span>:<br><span style=\"background-color:#e5e8e8;\">we are ass</span><span style=\"background-color:#ebdef0;\">ociated with the t</span>ru<span style=\"background-color:#ecf3cf;\">e way that ar</span><span style=\"background-color:#eadbd8;\">e aggregation </span><span style=\"background-color:#d8daef;\">of<br>the una</span>voidable.[132] "
      ],
      "text/plain": [
       "<IPython.core.display.HTML object>"
      ]
     },
     "metadata": {},
     "output_type": "display_data"
    },
    {
     "data": {
      "text/html": [
       "<small><p style=\"text-align:right;\">Sources: <span style=\"background-color:#d8daef;\">Georg Wilhelm Hegel: The History of Philosophy: Volume 3 of 3</span>, <span style=\"background-color:#d4efdf;\">Georg Wilhelm Hegel: Hegel's Lectures on the History of Philosophy: Vol. 1 of 3</span>, <span style=\"background-color:#eadbd8;\">Immanuel Kant: The Critique of Pure Reason</span>, <span style=\"background-color:#e5e8e8;\">Immanuel Kant: The Critique of Practical Reason</span>, <span style=\"background-color:#ebdef0;\">Friedrich Nietzsche: Beyond Good and Evil</span>, <span style=\"background-color:#ecf3cf;\">Georg Wilhelm Hegel: Hegel's Lectures on the History of Philosophy: Vol. 2 of 3</span>, <span style=\"background-color:#d8daef;\">Friedrich Nietzsche: Thoughts out of Season, Part One</span></p></small>"
      ],
      "text/plain": [
       "<IPython.core.display.HTML object>"
      ]
     },
     "metadata": {},
     "output_type": "display_data"
    },
    {
     "name": "stdout",
     "output_type": "stream",
     "text": [
      "--------temperature: 0.95 ---------\n"
     ]
    },
    {
     "data": {
      "text/html": [
       " = b<span style=\"background-color:#e2d7d5;\"> into his e</span><span style=\"background-color:#d8daef;\">xistence re</span><span style=\"background-color:#ebdef0;\">lative to<br></span>cases<span style=\"background-color:#d8daef;\">; but between t</span><span style=\"background-color:#d4efdf;\">he sensuous conception </span>ina<span style=\"background-color:#eadbd8;\">smical<br>con</span><span style=\"background-color:#eadbd8;\">sciousness—as</span><span style=\"background-color:#ecf3cf;\"> that which exists </span><span style=\"background-color:#eadbd8;\">in<br>these co</span><span style=\"background-color:#f6ddcc;\">mprehends not</span><span style=\"background-color:#e2d7d5;\">hing of what we have</span><span style=\"background-color:#eadbd8;\"><br>difficulty; and the </span><span style=\"background-color:#e2d7d5;\">reality st</span>il<span style=\"background-color:#eadbd8;\">l impossib</span><span style=\"background-color:#eadbd8;\">le through the s</span>ince<br>oub<span style=\"background-color:#d6dbdf;\">l experience th</span><span style=\"background-color:#d8daef;\">ereby thought </span><span style=\"background-color:#d8daef;\">empirical, but </span><span style=\"background-color:#d8daef;\">in the form o</span><span style=\"background-color:#eadbd8;\">bjects of experience are </span><span style=\"background-color:#d4efdf;\">not<br>independent </span>"
      ],
      "text/plain": [
       "<IPython.core.display.HTML object>"
      ]
     },
     "metadata": {},
     "output_type": "display_data"
    },
    {
     "data": {
      "text/html": [
       "<small><p style=\"text-align:right;\">Sources: <span style=\"background-color:#e2d7d5;\">Friedrich Nietzsche: Thus Spake Zarathustra</span>, <span style=\"background-color:#d8daef;\">Georg Wilhelm Hegel: The History of Philosophy: Volume 3 of 3</span>, <span style=\"background-color:#ebdef0;\">Friedrich Nietzsche: The Will to Power, Books III and IV</span>, <span style=\"background-color:#d8daef;\">Friedrich Nietzsche: Thoughts out of Season, Part One</span>, <span style=\"background-color:#d4efdf;\">Georg Wilhelm Hegel: Hegel's Lectures on the History of Philosophy: Vol. 1 of 3</span>, <span style=\"background-color:#eadbd8;\">Immanuel Kant: The Critique of Pure Reason</span>, <span style=\"background-color:#ecf3cf;\">Georg Wilhelm Hegel: Hegel's Lectures on the History of Philosophy: Vol. 2 of 3</span>, <span style=\"background-color:#f6ddcc;\">Friedrich Nietzsche: Human, All Too Human</span>, <span style=\"background-color:#e2d7d5;\">Friedrich Nietzsche: The Joyful Wisdom</span>, <span style=\"background-color:#eadbd8;\">Friedrich Nietzsche: The Will to Power, Books I and II</span>, <span style=\"background-color:#d6dbdf;\">Friedrich Nietzsche: Thoughts Out of Season, Part 2</span></p></small>"
      ],
      "text/plain": [
       "<IPython.core.display.HTML object>"
      ]
     },
     "metadata": {},
     "output_type": "display_data"
    },
    {
     "name": "stdout",
     "output_type": "stream",
     "text": [
      "--------temperature: 1.0 ---------\n"
     ]
    },
    {
     "data": {
      "text/html": [
       " Joh_ Stilholonis<span style=\"background-color:#ecf3cf;\">ticism des</span> _Censment,_<span style=\"background-color:#d4e6f1;\"> the Aesthetical</span><br>    C._<span style=\"background-color:#fdebd0;\"> Actions (</span>our<span style=\"background-color:#d4e6f1;\"> sensus commu</span><span style=\"background-color:#ecf3cf;\">laws of con</span>denses,<br>one<span style=\"background-color:#eadbd8;\">), is a re</span>sul<span style=\"background-color:#d8daef;\">t first in</span><span style=\"background-color:#d8daef;\">stance, di</span>mi<span style=\"background-color:#eadbd8;\">nized by means of </span>ends);<br><br>    Ab"
      ],
      "text/plain": [
       "<IPython.core.display.HTML object>"
      ]
     },
     "metadata": {},
     "output_type": "display_data"
    },
    {
     "data": {
      "text/html": [
       "<small><p style=\"text-align:right;\">Sources: <span style=\"background-color:#ecf3cf;\">Georg Wilhelm Hegel: Hegel's Lectures on the History of Philosophy: Vol. 2 of 3</span>, <span style=\"background-color:#d4e6f1;\">Immanuel Kant: Kant's Critique of Judgement</span>, <span style=\"background-color:#fdebd0;\">Immanuel Kant: The Metaphysical Elements of Ethics</span>, <span style=\"background-color:#eadbd8;\">Immanuel Kant: The Critique of Pure Reason</span>, <span style=\"background-color:#d8daef;\">Georg Wilhelm Hegel: The History of Philosophy: Volume 3 of 3</span></p></small>"
      ],
      "text/plain": [
       "<IPython.core.display.HTML object>"
      ]
     },
     "metadata": {},
     "output_type": "display_data"
    },
    {
     "name": "stdout",
     "output_type": "stream",
     "text": [
      "--------temperature: 1.05 ---------\n"
     ]
    },
    {
     "data": {
      "text/html": [
       " <br>do<span style=\"background-color:#eadbd8;\">ing our re</span><span style=\"background-color:#eadbd8;\">presentation of objects</span><span style=\"background-color:#ecf3cf;\">; sensation</span><span style=\"background-color:#eadbd8;\">, which finds</span><br><span style=\"background-color:#d8daef;\">given, con</span>tai<span style=\"background-color:#d8daef;\">ns universal</span><span style=\"background-color:#d8daef;\"> concepts, a</span><span style=\"background-color:#d8daef;\"> practical Reason </span><span style=\"background-color:#e5e8e8;\">the conditions, </span><span style=\"background-color:#eadbd8;\">consequently the<br>object</span> and<span style=\"background-color:#eadbd8;\"> of, the comp</span>rehend<span style=\"background-color:#d8daef;\">der of which </span>at <span style=\"background-color:#e2d7d5;\">rest pain.</span><span style=\"background-color:#d4efdf;\"> This may appear </span>n<span style=\"background-color:#eadbd8;\">or<br>intuite</span> less a<span style=\"background-color:#ecf3cf;\">n God, that </span>i<span style=\"background-color:#e2d7d5;\">s, its pre</span><span style=\"background-color:#d8daef;\">sence of reason </span><span style=\"background-color:#e5e8e8;\">distinct laws</span><br>e"
      ],
      "text/plain": [
       "<IPython.core.display.HTML object>"
      ]
     },
     "metadata": {},
     "output_type": "display_data"
    },
    {
     "data": {
      "text/html": [
       "<small><p style=\"text-align:right;\">Sources: <span style=\"background-color:#eadbd8;\">Friedrich Nietzsche: The Will to Power, Books I and II</span>, <span style=\"background-color:#eadbd8;\">Immanuel Kant: The Critique of Pure Reason</span>, <span style=\"background-color:#ecf3cf;\">Georg Wilhelm Hegel: Hegel's Lectures on the History of Philosophy: Vol. 2 of 3</span>, <span style=\"background-color:#d8daef;\">Georg Wilhelm Hegel: The History of Philosophy: Volume 3 of 3</span>, <span style=\"background-color:#e5e8e8;\">Immanuel Kant: The Critique of Practical Reason</span>, <span style=\"background-color:#d8daef;\">Friedrich Nietzsche: Thoughts out of Season, Part One</span>, <span style=\"background-color:#e2d7d5;\">Friedrich Nietzsche: Thus Spake Zarathustra</span>, <span style=\"background-color:#d4efdf;\">Georg Wilhelm Hegel: Hegel's Lectures on the History of Philosophy: Vol. 1 of 3</span>, <span style=\"background-color:#e2d7d5;\">Friedrich Nietzsche: The Joyful Wisdom</span></p></small>"
      ],
      "text/plain": [
       "<IPython.core.display.HTML object>"
      ]
     },
     "metadata": {},
     "output_type": "display_data"
    },
    {
     "name": "stdout",
     "output_type": "stream",
     "text": [
      "--------temperature: 1.1 ---------\n"
     ]
    },
    {
     "data": {
      "text/html": [
       " εροὸ ἐν ερε ὁμεῖνν ἐδὲνεβον τιν εἶννα (Welt. VIII<span style=\"background-color:#f6ddcc;\">. Science<br></span>Πεἶν"
      ],
      "text/plain": [
       "<IPython.core.display.HTML object>"
      ]
     },
     "metadata": {},
     "output_type": "display_data"
    },
    {
     "data": {
      "text/html": [
       "<small><p style=\"text-align:right;\">Sources: <span style=\"background-color:#f6ddcc;\">Friedrich Nietzsche: Human, All Too Human</span></p></small>"
      ],
      "text/plain": [
       "<IPython.core.display.HTML object>"
      ]
     },
     "metadata": {},
     "output_type": "display_data"
    },
    {
     "name": "stdout",
     "output_type": "stream",
     "text": [
      "-------------------------------------------\n",
      "step 8750: train loss 3.3257, val loss 3.2655, time 0.508 sec/iter\n",
      "Sample: --------temperature: 0.9 ---------\n"
     ]
    },
    {
     "data": {
      "text/html": [
       " 6<span style=\"background-color:#d8daef;\">6] Morgenröthe</span><span style=\"background-color:#d8daef;\">, chap. ii. § </span>8-63, p. 13<span style=\"background-color:#d8daef;\">0; chap. xiv. </span>d.<br>lässing de Hegesiam Enneaduary des, “He"
      ],
      "text/plain": [
       "<IPython.core.display.HTML object>"
      ]
     },
     "metadata": {},
     "output_type": "display_data"
    },
    {
     "data": {
      "text/html": [
       "<small><p style=\"text-align:right;\">Sources: <span style=\"background-color:#d8daef;\">Georg Wilhelm Hegel: The History of Philosophy: Volume 3 of 3</span></p></small>"
      ],
      "text/plain": [
       "<IPython.core.display.HTML object>"
      ]
     },
     "metadata": {},
     "output_type": "display_data"
    },
    {
     "name": "stdout",
     "output_type": "stream",
     "text": [
      "--------temperature: 0.95 ---------\n"
     ]
    },
    {
     "data": {
      "text/html": [
       " Joh<span style=\"background-color:#e2d7d5;\">n,<br>       </span>Wagner Dis: \"<span style=\"background-color:#d4e6f1;\">Translated<br>    </span>\"Whither D\"TRabbass\"--Sc.<br>    D.D.A IN ISTNCEAL NIED"
      ],
      "text/plain": [
       "<IPython.core.display.HTML object>"
      ]
     },
     "metadata": {},
     "output_type": "display_data"
    },
    {
     "data": {
      "text/html": [
       "<small><p style=\"text-align:right;\">Sources: <span style=\"background-color:#e2d7d5;\">Friedrich Nietzsche: The Joyful Wisdom</span>, <span style=\"background-color:#d4e6f1;\">Immanuel Kant: Kant's Critique of Judgement</span></p></small>"
      ],
      "text/plain": [
       "<IPython.core.display.HTML object>"
      ]
     },
     "metadata": {},
     "output_type": "display_data"
    },
    {
     "name": "stdout",
     "output_type": "stream",
     "text": [
      "--------temperature: 1.0 ---------\n"
     ]
    },
    {
     "data": {
      "text/html": [
       " V., pp. 50-29;<br>    of, <span style=\"background-color:#d8daef;\">I. 69;<br>    pr</span><span style=\"background-color:#d8daef;\">inciple of, I. 3</span><span style=\"background-color:#d8daef;\">8;<br>    subjective, I</span>. 29.<br><br>  Ludied Petr<span style=\"background-color:#d8daef;\">ius, II. 2</span><span style=\"background-color:#d8daef;\">5; III. 10</span>1,<span style=\"background-color:#d8daef;\"> 320;<br>    </span><span style=\"background-color:#d8daef;\">Philebus, II. </span>25, 1"
      ],
      "text/plain": [
       "<IPython.core.display.HTML object>"
      ]
     },
     "metadata": {},
     "output_type": "display_data"
    },
    {
     "data": {
      "text/html": [
       "<small><p style=\"text-align:right;\">Sources: <span style=\"background-color:#d8daef;\">Georg Wilhelm Hegel: The History of Philosophy: Volume 3 of 3</span></p></small>"
      ],
      "text/plain": [
       "<IPython.core.display.HTML object>"
      ]
     },
     "metadata": {},
     "output_type": "display_data"
    },
    {
     "name": "stdout",
     "output_type": "stream",
     "text": [
      "--------temperature: 1.05 ---------\n"
     ]
    },
    {
     "data": {
      "text/html": [
       " Unha χθηψιόθε μετατα)<span style=\"background-color:#d4efdf;\">, condensation</span><span style=\"background-color:#d4e6f1;\">s of cognitive<br></span>  gone (_δαλῶ<span style=\"background-color:#d4efdf;\">ν_), and th</span>en<span style=\"background-color:#d4e6f1;\"> never of </span><span style=\"background-color:#d8daef;\">an indeterminate</span>.”[<span style=\"background-color:#d8daef;\">likewise understands</span><br>  go"
      ],
      "text/plain": [
       "<IPython.core.display.HTML object>"
      ]
     },
     "metadata": {},
     "output_type": "display_data"
    },
    {
     "data": {
      "text/html": [
       "<small><p style=\"text-align:right;\">Sources: <span style=\"background-color:#d4efdf;\">Georg Wilhelm Hegel: Hegel's Lectures on the History of Philosophy: Vol. 1 of 3</span>, <span style=\"background-color:#d4e6f1;\">Immanuel Kant: Kant's Critique of Judgement</span>, <span style=\"background-color:#d8daef;\">Georg Wilhelm Hegel: The History of Philosophy: Volume 3 of 3</span></p></small>"
      ],
      "text/plain": [
       "<IPython.core.display.HTML object>"
      ]
     },
     "metadata": {},
     "output_type": "display_data"
    },
    {
     "name": "stdout",
     "output_type": "stream",
     "text": [
      "--------temperature: 1.1 ---------\n"
     ]
    },
    {
     "data": {
      "text/html": [
       "<span style=\"background-color:#d4efdf;\"> The Absolute, </span><span style=\"background-color:#ebdef0;\">the innume</span>d caervationus,<br><span style=\"background-color:#e2d7d5;\">every mode of </span><span style=\"background-color:#edebd0;\">indicate by </span><span style=\"background-color:#d8daef;\">a hollow m</span><span style=\"background-color:#d8daef;\">any parts of</span><br><span style=\"background-color:#d0ece7;\">the Thinking, </span><span style=\"background-color:#ecf3cf;\">just as many </span><span style=\"background-color:#d6eaf8;\">countries are </span><span style=\"background-color:#ecf3cf;\">in the others, </span><span style=\"background-color:#d8daef;\">nothing but a c</span><span style=\"background-color:#eadbd8;\">riticism,<br></span>w<span style=\"background-color:#eadbd8;\">hen remain</span><span style=\"background-color:#d8daef;\">ing would </span><span style=\"background-color:#d8daef;\">Schopenhauer it </span>retur<span style=\"background-color:#d8daef;\">n it. But </span>I can<br>infalsi"
      ],
      "text/plain": [
       "<IPython.core.display.HTML object>"
      ]
     },
     "metadata": {},
     "output_type": "display_data"
    },
    {
     "data": {
      "text/html": [
       "<small><p style=\"text-align:right;\">Sources: <span style=\"background-color:#d4efdf;\">Georg Wilhelm Hegel: Hegel's Lectures on the History of Philosophy: Vol. 1 of 3</span>, <span style=\"background-color:#ebdef0;\">Friedrich Nietzsche: The Will to Power, Books III and IV</span>, <span style=\"background-color:#e2d7d5;\">Friedrich Nietzsche: The Joyful Wisdom</span>, <span style=\"background-color:#edebd0;\">Immanuel Kant: Kant's Prolegomena</span>, <span style=\"background-color:#d8daef;\">Georg Wilhelm Hegel: The History of Philosophy: Volume 3 of 3</span>, <span style=\"background-color:#d0ece7;\">Friedrich Nietzsche: Early Greek Philosophy & Other Essays</span>, <span style=\"background-color:#ecf3cf;\">Georg Wilhelm Hegel: Hegel's Lectures on the History of Philosophy: Vol. 2 of 3</span>, <span style=\"background-color:#d6eaf8;\">Immanuel Kant: Perpetual Peace</span>, <span style=\"background-color:#eadbd8;\">Friedrich Nietzsche: The Will to Power, Books I and II</span>, <span style=\"background-color:#d8daef;\">Friedrich Nietzsche: Thoughts out of Season, Part One</span></p></small>"
      ],
      "text/plain": [
       "<IPython.core.display.HTML object>"
      ]
     },
     "metadata": {},
     "output_type": "display_data"
    },
    {
     "name": "stdout",
     "output_type": "stream",
     "text": [
      "-------------------------------------------\n",
      "step 9000: train loss 3.2469, val loss 3.2364, time 0.508 sec/iter\n",
      "Sample: --------temperature: 0.9 ---------\n"
     ]
    },
    {
     "data": {
      "text/html": [
       " VIII.)<span style=\"background-color:#ebdef0;\">.<br><br><br>III.<br><br></span><span style=\"background-color:#ebdef0;\">Where has </span><span style=\"background-color:#edebd0;\">hitherto though</span>t of<span style=\"background-color:#d8daef;\"> a light of </span>ar<span style=\"background-color:#d4e6f1;\">t and yet a</span><span style=\"background-color:#eadbd8;\">gainst our<br></span><span style=\"background-color:#ebdef0;\">generation; w</span><span style=\"background-color:#d0ece7;\">hereas he </span><span style=\"background-color:#d4efdf;\">is effected by </span>it,<span style=\"background-color:#ecf3cf;\"> it as that </span><span style=\"background-color:#eadbd8;\">something, as </span><span style=\"background-color:#d8daef;\">something different.<br></span><span style=\"background-color:#d8daef;\">This mode of </span><span style=\"background-color:#d8daef;\">Notion is the o</span><span style=\"background-color:#d4efdf;\">rdinary reflecti</span><span style=\"background-color:#edebd0;\">ve understanding, w</span>e<span style=\"background-color:#ecf3cf;\"> have<br>exist</span><span style=\"background-color:#d4e6e1;\">ing to the<br>condition</span><span style=\"background-color:#eadbd8;\">, and according to th</span>at our "
      ],
      "text/plain": [
       "<IPython.core.display.HTML object>"
      ]
     },
     "metadata": {},
     "output_type": "display_data"
    },
    {
     "data": {
      "text/html": [
       "<small><p style=\"text-align:right;\">Sources: <span style=\"background-color:#ebdef0;\">Friedrich Nietzsche: The Will to Power, Books III and IV</span>, <span style=\"background-color:#edebd0;\">Immanuel Kant: Kant's Prolegomena</span>, <span style=\"background-color:#d8daef;\">Georg Wilhelm Hegel: The History of Philosophy: Volume 3 of 3</span>, <span style=\"background-color:#d4e6f1;\">Immanuel Kant: Kant's Critique of Judgement</span>, <span style=\"background-color:#eadbd8;\">Friedrich Nietzsche: The Will to Power, Books I and II</span>, <span style=\"background-color:#ebdef0;\">Friedrich Nietzsche: Beyond Good and Evil</span>, <span style=\"background-color:#d0ece7;\">Friedrich Nietzsche: Early Greek Philosophy & Other Essays</span>, <span style=\"background-color:#d4efdf;\">Georg Wilhelm Hegel: Hegel's Lectures on the History of Philosophy: Vol. 1 of 3</span>, <span style=\"background-color:#ecf3cf;\">Georg Wilhelm Hegel: Hegel's Lectures on the History of Philosophy: Vol. 2 of 3</span>, <span style=\"background-color:#eadbd8;\">Immanuel Kant: The Critique of Pure Reason</span>, <span style=\"background-color:#d4e6e1;\">Immanuel Kant: Fundamental Principles of the Metaphysic of Morals</span></p></small>"
      ],
      "text/plain": [
       "<IPython.core.display.HTML object>"
      ]
     },
     "metadata": {},
     "output_type": "display_data"
    },
    {
     "name": "stdout",
     "output_type": "stream",
     "text": [
      "--------temperature: 0.95 ---------\n"
     ]
    },
    {
     "data": {
      "text/html": [
       " = 5, _omit_, in<span style=\"background-color:#d8daef;\">ter reality, </span><span style=\"background-color:#d6eaf8;\">friction. </span>But<span style=\"background-color:#ebdef0;\"> soul from </span>void<span style=\"background-color:#ecf3cf;\"> inquiry,<br></span>I<span style=\"background-color:#d4efdf;\"> work that </span><span style=\"background-color:#d4e6e1;\">I wish for </span>an erroney<span style=\"background-color:#d4e6f1;\">or in respect of the </span><span style=\"background-color:#d8daef;\">qualities of the s</span>ou<span style=\"background-color:#d4e6e1;\">l have<br>con</span><span style=\"background-color:#d8daef;\">nected with the </span><span style=\"background-color:#d4efdf;\">universal laws. Th</span>at<span style=\"background-color:#ecf3cf;\"> my own will</span><br>comes<span style=\"background-color:#d4e6f1;\"> exists purposive</span><span style=\"background-color:#d4e6f1;\"> use is co</span>ntained "
      ],
      "text/plain": [
       "<IPython.core.display.HTML object>"
      ]
     },
     "metadata": {},
     "output_type": "display_data"
    },
    {
     "data": {
      "text/html": [
       "<small><p style=\"text-align:right;\">Sources: <span style=\"background-color:#d8daef;\">Georg Wilhelm Hegel: The History of Philosophy: Volume 3 of 3</span>, <span style=\"background-color:#d6eaf8;\">Immanuel Kant: Perpetual Peace</span>, <span style=\"background-color:#ebdef0;\">Friedrich Nietzsche: The Will to Power, Books III and IV</span>, <span style=\"background-color:#ecf3cf;\">Georg Wilhelm Hegel: Hegel's Lectures on the History of Philosophy: Vol. 2 of 3</span>, <span style=\"background-color:#d4efdf;\">Georg Wilhelm Hegel: Hegel's Lectures on the History of Philosophy: Vol. 1 of 3</span>, <span style=\"background-color:#d4e6e1;\">Immanuel Kant: Fundamental Principles of the Metaphysic of Morals</span>, <span style=\"background-color:#d4e6f1;\">Immanuel Kant: Kant's Critique of Judgement</span></p></small>"
      ],
      "text/plain": [
       "<IPython.core.display.HTML object>"
      ]
     },
     "metadata": {},
     "output_type": "display_data"
    },
    {
     "name": "stdout",
     "output_type": "stream",
     "text": [
      "--------temperature: 1.0 ---------\n"
     ]
    },
    {
     "data": {
      "text/html": [
       " ἑ<span style=\"background-color:#d6eaf8;\">life of the hu</span>ll of poy:<span style=\"background-color:#d0ece7;\"> \"The Greek</span>\"<br>Prece<span style=\"background-color:#d8daef;\">schematism, </span><span style=\"background-color:#d8daef;\">in so far as they a</span><span style=\"background-color:#eadbd8;\">s pure conception</span>: \"<span style=\"background-color:#ecf3cf;\">The<br>distinction</span>,\" \"<span style=\"background-color:#ebdef0;\">Is only a derived </span><span style=\"background-color:#e5e8e8;\">from the former i</span>s<span style=\"background-color:#eadbd8;\"> not imitat</span>ive<span style=\"background-color:#d4efdf;\">;<br>in this c</span><span style=\"background-color:#d8daef;\">onviction of the </span><span style=\"background-color:#ecf3cf;\">demands of h</span>uman<span style=\"background-color:#d0ece7;\"> lands, de</span>a<span style=\"background-color:#eadbd8;\">,<br>the compl</span>"
      ],
      "text/plain": [
       "<IPython.core.display.HTML object>"
      ]
     },
     "metadata": {},
     "output_type": "display_data"
    },
    {
     "data": {
      "text/html": [
       "<small><p style=\"text-align:right;\">Sources: <span style=\"background-color:#d6eaf8;\">Immanuel Kant: Perpetual Peace</span>, <span style=\"background-color:#d0ece7;\">Friedrich Nietzsche: Early Greek Philosophy & Other Essays</span>, <span style=\"background-color:#d8daef;\">Georg Wilhelm Hegel: The History of Philosophy: Volume 3 of 3</span>, <span style=\"background-color:#eadbd8;\">Immanuel Kant: The Critique of Pure Reason</span>, <span style=\"background-color:#ecf3cf;\">Georg Wilhelm Hegel: Hegel's Lectures on the History of Philosophy: Vol. 2 of 3</span>, <span style=\"background-color:#ebdef0;\">Friedrich Nietzsche: The Will to Power, Books III and IV</span>, <span style=\"background-color:#e5e8e8;\">Immanuel Kant: The Critique of Practical Reason</span>, <span style=\"background-color:#d4efdf;\">Georg Wilhelm Hegel: Hegel's Lectures on the History of Philosophy: Vol. 1 of 3</span></p></small>"
      ],
      "text/plain": [
       "<IPython.core.display.HTML object>"
      ]
     },
     "metadata": {},
     "output_type": "display_data"
    },
    {
     "name": "stdout",
     "output_type": "stream",
     "text": [
      "--------temperature: 1.05 ---------\n"
     ]
    },
    {
     "data": {
      "text/html": [
       " + 6<span style=\"background-color:#d8daef;\"> in question n</span>ow<span style=\"background-color:#eadbd8;\"> a definite, </span><span style=\"background-color:#ecf3cf;\">Aristotle<br>de</span><span style=\"background-color:#d8daef;\">finition, b</span><span style=\"background-color:#f6ddcc;\">rucified t</span><span style=\"background-color:#ebdef0;\">o the natural condition</span><span style=\"background-color:#d8daef;\">. According to<br></span><span style=\"background-color:#ecf3cf;\">Plato here </span><span style=\"background-color:#d8daef;\">reaches th</span><span style=\"background-color:#ecf3cf;\">rough all the </span><span style=\"background-color:#d6dbdf;\">questions that has </span><span style=\"background-color:#eadbd8;\">ever been regarded</span><span style=\"background-color:#ebdef0;\"><br>as the object</span><span style=\"background-color:#d8daef;\"> of thought that </span><span style=\"background-color:#d8daef;\">the content d</span><span style=\"background-color:#eadbd8;\">oes not exist in the</span><br><span style=\"background-color:#ecf3cf;\">yet posited th</span><span style=\"background-color:#d4efdf;\">rough abstract</span><span style=\"background-color:#d8daef;\"> universal in </span><span style=\"background-color:#eadbd8;\">perfect content</span>.<br><br>Now "
      ],
      "text/plain": [
       "<IPython.core.display.HTML object>"
      ]
     },
     "metadata": {},
     "output_type": "display_data"
    },
    {
     "data": {
      "text/html": [
       "<small><p style=\"text-align:right;\">Sources: <span style=\"background-color:#d8daef;\">Georg Wilhelm Hegel: The History of Philosophy: Volume 3 of 3</span>, <span style=\"background-color:#eadbd8;\">Friedrich Nietzsche: The Will to Power, Books I and II</span>, <span style=\"background-color:#ecf3cf;\">Georg Wilhelm Hegel: Hegel's Lectures on the History of Philosophy: Vol. 2 of 3</span>, <span style=\"background-color:#f6ddcc;\">Friedrich Nietzsche: Human, All Too Human</span>, <span style=\"background-color:#ebdef0;\">Friedrich Nietzsche: Beyond Good and Evil</span>, <span style=\"background-color:#d6dbdf;\">Friedrich Nietzsche: Thoughts Out of Season, Part 2</span>, <span style=\"background-color:#ebdef0;\">Friedrich Nietzsche: The Will to Power, Books III and IV</span>, <span style=\"background-color:#eadbd8;\">Immanuel Kant: The Critique of Pure Reason</span>, <span style=\"background-color:#d4efdf;\">Georg Wilhelm Hegel: Hegel's Lectures on the History of Philosophy: Vol. 1 of 3</span></p></small>"
      ],
      "text/plain": [
       "<IPython.core.display.HTML object>"
      ]
     },
     "metadata": {},
     "output_type": "display_data"
    },
    {
     "name": "stdout",
     "output_type": "stream",
     "text": [
      "--------temperature: 1.1 ---------\n"
     ]
    },
    {
     "data": {
      "text/html": [
       "<span style=\"background-color:#e5e8e8;\"> 5}<br><br>The e</span>ar of a Trinsic Wall<span style=\"background-color:#e2d7d5;\">; writing </span><span style=\"background-color:#eadbd8;\">the same hea</span>ve<span style=\"background-color:#d4e6f1;\">nly presupposed</span><br><span style=\"background-color:#eadbd8;\">with powers </span><span style=\"background-color:#ebdef0;\">and of one </span><span style=\"background-color:#d8daef;\">unity, and<br></span><span style=\"background-color:#d8daef;\">self-conceit.</span><br><br><span style=\"background-color:#d8daef;\">This definition of the </span><span style=\"background-color:#eadbd8;\">conception of a thing, and </span><span style=\"background-color:#ecf3cf;\">a subject is </span><span style=\"background-color:#e2d7d5;\">the only giv</span>e<span style=\"background-color:#d8daef;\">n<br>indicate</span><span style=\"background-color:#d4efdf;\">d, they are in</span>corably <span style=\"background-color:#e2d7d5;\">easingly, </span>and th"
      ],
      "text/plain": [
       "<IPython.core.display.HTML object>"
      ]
     },
     "metadata": {},
     "output_type": "display_data"
    },
    {
     "data": {
      "text/html": [
       "<small><p style=\"text-align:right;\">Sources: <span style=\"background-color:#e5e8e8;\">Immanuel Kant: The Critique of Practical Reason</span>, <span style=\"background-color:#e2d7d5;\">Friedrich Nietzsche: The Joyful Wisdom</span>, <span style=\"background-color:#eadbd8;\">Friedrich Nietzsche: The Will to Power, Books I and II</span>, <span style=\"background-color:#d4e6f1;\">Immanuel Kant: Kant's Critique of Judgement</span>, <span style=\"background-color:#eadbd8;\">Immanuel Kant: The Critique of Pure Reason</span>, <span style=\"background-color:#ebdef0;\">Friedrich Nietzsche: Beyond Good and Evil</span>, <span style=\"background-color:#d8daef;\">Georg Wilhelm Hegel: The History of Philosophy: Volume 3 of 3</span>, <span style=\"background-color:#ecf3cf;\">Georg Wilhelm Hegel: Hegel's Lectures on the History of Philosophy: Vol. 2 of 3</span>, <span style=\"background-color:#e2d7d5;\">Friedrich Nietzsche: Thus Spake Zarathustra</span>, <span style=\"background-color:#d4efdf;\">Georg Wilhelm Hegel: Hegel's Lectures on the History of Philosophy: Vol. 1 of 3</span></p></small>"
      ],
      "text/plain": [
       "<IPython.core.display.HTML object>"
      ]
     },
     "metadata": {},
     "output_type": "display_data"
    },
    {
     "name": "stdout",
     "output_type": "stream",
     "text": [
      "-------------------------------------------\n",
      "step 9250: train loss 3.2176, val loss 3.2002, time 0.511 sec/iter\n",
      "Sample: --------temperature: 0.9 ---------\n"
     ]
    },
    {
     "data": {
      "text/html": [
       " πρφη),<span style=\"background-color:#d8daef;\"> are drawn,</span><br>molesous<span style=\"background-color:#d8daef;\"> those philosophers </span><span style=\"background-color:#d8daef;\">beginning and no</span>w<span style=\"background-color:#eadbd8;\"> its<br>predicate </span>(περὶ τιρίτον ἀνόνοῦν<span style=\"background-color:#d4e6f1;\">); and in th</span><span style=\"background-color:#d8daef;\">is we have </span><span style=\"background-color:#eadbd8;\">considered as two</span>ode of ass"
      ],
      "text/plain": [
       "<IPython.core.display.HTML object>"
      ]
     },
     "metadata": {},
     "output_type": "display_data"
    },
    {
     "data": {
      "text/html": [
       "<small><p style=\"text-align:right;\">Sources: <span style=\"background-color:#d8daef;\">Georg Wilhelm Hegel: The History of Philosophy: Volume 3 of 3</span>, <span style=\"background-color:#eadbd8;\">Immanuel Kant: The Critique of Pure Reason</span>, <span style=\"background-color:#d4e6f1;\">Immanuel Kant: Kant's Critique of Judgement</span></p></small>"
      ],
      "text/plain": [
       "<IPython.core.display.HTML object>"
      ]
     },
     "metadata": {},
     "output_type": "display_data"
    },
    {
     "name": "stdout",
     "output_type": "stream",
     "text": [
      "--------temperature: 0.95 ---------\n"
     ]
    },
    {
     "data": {
      "text/html": [
       " ^<span style=\"background-color:#d8daef;\">principle itself</span><span style=\"background-color:#d4e6f1;\"><br>subject in which the</span><span style=\"background-color:#d8daef;\"> Salitter, </span><span style=\"background-color:#ecf3cf;\">Anaxagoras says, that </span><span style=\"background-color:#d4efdf;\">when the N</span>yayaxa<span style=\"background-color:#d8daef;\">ans of the So</span>ph<span style=\"background-color:#d8daef;\">ic of Plato</span><span style=\"background-color:#ecf3cf;\"><br>regarded the </span><span style=\"background-color:#ebdef0;\">principle of thought</span><span style=\"background-color:#d8daef;\">; for thought </span>expressede<span style=\"background-color:#ecf3cf;\">d also<br>not</span><span style=\"background-color:#d8daef;\"> empirical, and </span><span style=\"background-color:#e5e8e8;\">yet to be p</span><span style=\"background-color:#d4e6f1;\">roduced by it</span><span style=\"background-color:#d8daef;\"> in Kant, and h</span>ow<span style=\"background-color:#fae5d3;\"> many contra</span>dict"
      ],
      "text/plain": [
       "<IPython.core.display.HTML object>"
      ]
     },
     "metadata": {},
     "output_type": "display_data"
    },
    {
     "data": {
      "text/html": [
       "<small><p style=\"text-align:right;\">Sources: <span style=\"background-color:#d8daef;\">Georg Wilhelm Hegel: The History of Philosophy: Volume 3 of 3</span>, <span style=\"background-color:#d4e6f1;\">Immanuel Kant: Kant's Critique of Judgement</span>, <span style=\"background-color:#ecf3cf;\">Georg Wilhelm Hegel: Hegel's Lectures on the History of Philosophy: Vol. 2 of 3</span>, <span style=\"background-color:#d4efdf;\">Georg Wilhelm Hegel: Hegel's Lectures on the History of Philosophy: Vol. 1 of 3</span>, <span style=\"background-color:#ebdef0;\">Friedrich Nietzsche: The Will to Power, Books III and IV</span>, <span style=\"background-color:#e5e8e8;\">Immanuel Kant: The Critique of Practical Reason</span>, <span style=\"background-color:#fae5d3;\">Friedrich Nietzsche: We Philologists, Volume 8 of 18</span></p></small>"
      ],
      "text/plain": [
       "<IPython.core.display.HTML object>"
      ]
     },
     "metadata": {},
     "output_type": "display_data"
    },
    {
     "name": "stdout",
     "output_type": "stream",
     "text": [
      "--------temperature: 1.0 ---------\n"
     ]
    },
    {
     "data": {
      "text/html": [
       " πον § 90, 2, 24<br><br> § 74, 32-24<span style=\"background-color:#d4efdf;\">3. If the </span>Logs<span style=\"background-color:#d4efdf;\"> of Theology </span>the Pruckum, and<br>II. 227-26,<span style=\"background-color:#d8daef;\"> pp. 217, 2</span>"
      ],
      "text/plain": [
       "<IPython.core.display.HTML object>"
      ]
     },
     "metadata": {},
     "output_type": "display_data"
    },
    {
     "data": {
      "text/html": [
       "<small><p style=\"text-align:right;\">Sources: <span style=\"background-color:#d4efdf;\">Georg Wilhelm Hegel: Hegel's Lectures on the History of Philosophy: Vol. 1 of 3</span>, <span style=\"background-color:#d8daef;\">Georg Wilhelm Hegel: The History of Philosophy: Volume 3 of 3</span></p></small>"
      ],
      "text/plain": [
       "<IPython.core.display.HTML object>"
      ]
     },
     "metadata": {},
     "output_type": "display_data"
    },
    {
     "name": "stdout",
     "output_type": "stream",
     "text": [
      "--------temperature: 1.05 ---------\n"
     ]
    },
    {
     "data": {
      "text/html": [
       " λόν<br>φίρις: _γον_);<span style=\"background-color:#d8daef;\"> unity becomes </span><span style=\"background-color:#ecf3cf;\">itself a positive</span> arts;<br>(_πιὰ τὸ κοκσίωντάν_, as t<span style=\"background-color:#e2d7d5;\">usually it</span> h<span style=\"background-color:#d8daef;\">indeterminate </span>"
      ],
      "text/plain": [
       "<IPython.core.display.HTML object>"
      ]
     },
     "metadata": {},
     "output_type": "display_data"
    },
    {
     "data": {
      "text/html": [
       "<small><p style=\"text-align:right;\">Sources: <span style=\"background-color:#d8daef;\">Georg Wilhelm Hegel: The History of Philosophy: Volume 3 of 3</span>, <span style=\"background-color:#ecf3cf;\">Georg Wilhelm Hegel: Hegel's Lectures on the History of Philosophy: Vol. 2 of 3</span>, <span style=\"background-color:#e2d7d5;\">Friedrich Nietzsche: The Joyful Wisdom</span></p></small>"
      ],
      "text/plain": [
       "<IPython.core.display.HTML object>"
      ]
     },
     "metadata": {},
     "output_type": "display_data"
    },
    {
     "name": "stdout",
     "output_type": "stream",
     "text": [
      "--------temperature: 1.1 ---------\n"
     ]
    },
    {
     "data": {
      "text/html": [
       " <span style=\"background-color:#e2d7d5;\">) with the e</span><span style=\"background-color:#ecf3cf;\">lements<br>of </span><span style=\"background-color:#d4efdf;\">circumstances; in </span>spitalk<span style=\"background-color:#eadbd8;\"> from good</span>, try<span style=\"background-color:#d4e6f1;\">, is empirical</span>, fairn<br>orga<span style=\"background-color:#d4e6f1;\">ns (_i.e._ </span>in life),<span style=\"background-color:#d8daef;\"> soon as we </span><span style=\"background-color:#d8daef;\">express th</span><span style=\"background-color:#d4e6f1;\">at the<br>judg</span><span style=\"background-color:#f6ddcc;\">ment of our own</span>, whol<span style=\"background-color:#eadbd8;\">ely hypothetically</span><span style=\"background-color:#d8daef;\"> creates al</span>one? We veil<span style=\"background-color:#d8daef;\"> at these </span><span style=\"background-color:#d4efdf;\">belong<br>to the </span>"
      ],
      "text/plain": [
       "<IPython.core.display.HTML object>"
      ]
     },
     "metadata": {},
     "output_type": "display_data"
    },
    {
     "data": {
      "text/html": [
       "<small><p style=\"text-align:right;\">Sources: <span style=\"background-color:#e2d7d5;\">Friedrich Nietzsche: The Joyful Wisdom</span>, <span style=\"background-color:#ecf3cf;\">Georg Wilhelm Hegel: Hegel's Lectures on the History of Philosophy: Vol. 2 of 3</span>, <span style=\"background-color:#d4efdf;\">Georg Wilhelm Hegel: Hegel's Lectures on the History of Philosophy: Vol. 1 of 3</span>, <span style=\"background-color:#eadbd8;\">Friedrich Nietzsche: The Will to Power, Books I and II</span>, <span style=\"background-color:#d4e6f1;\">Immanuel Kant: Kant's Critique of Judgement</span>, <span style=\"background-color:#d8daef;\">Georg Wilhelm Hegel: The History of Philosophy: Volume 3 of 3</span>, <span style=\"background-color:#f6ddcc;\">Friedrich Nietzsche: Human, All Too Human</span>, <span style=\"background-color:#eadbd8;\">Immanuel Kant: The Critique of Pure Reason</span></p></small>"
      ],
      "text/plain": [
       "<IPython.core.display.HTML object>"
      ]
     },
     "metadata": {},
     "output_type": "display_data"
    },
    {
     "name": "stdout",
     "output_type": "stream",
     "text": [
      "-------------------------------------------\n",
      "step 9500: train loss 3.1987, val loss 3.1399, time 0.510 sec/iter\n",
      "Sample: --------temperature: 0.9 ---------\n"
     ]
    },
    {
     "data": {
      "text/html": [
       " UPHY OUGHTORES OF LAN REANSLIAN<span style=\"background-color:#eadbd8;\">.<br><br>How is it possible that </span><span style=\"background-color:#ecf3cf;\">it is made for </span><span style=\"background-color:#ecf3cf;\">me, but I </span>stair<span style=\"background-color:#d4e6f1;\">s, for<br>which </span>m<span style=\"background-color:#ebdef0;\">y word is also a</span> to<span style=\"background-color:#edebd0;\">or better </span>among "
      ],
      "text/plain": [
       "<IPython.core.display.HTML object>"
      ]
     },
     "metadata": {},
     "output_type": "display_data"
    },
    {
     "data": {
      "text/html": [
       "<small><p style=\"text-align:right;\">Sources: <span style=\"background-color:#eadbd8;\">Friedrich Nietzsche: The Will to Power, Books I and II</span>, <span style=\"background-color:#ecf3cf;\">Georg Wilhelm Hegel: Hegel's Lectures on the History of Philosophy: Vol. 2 of 3</span>, <span style=\"background-color:#d4e6f1;\">Immanuel Kant: Kant's Critique of Judgement</span>, <span style=\"background-color:#ebdef0;\">Friedrich Nietzsche: Beyond Good and Evil</span>, <span style=\"background-color:#edebd0;\">Immanuel Kant: Kant's Prolegomena</span></p></small>"
      ],
      "text/plain": [
       "<IPython.core.display.HTML object>"
      ]
     },
     "metadata": {},
     "output_type": "display_data"
    },
    {
     "name": "stdout",
     "output_type": "stream",
     "text": [
      "--------temperature: 0.95 ---------\n"
     ]
    },
    {
     "data": {
      "text/html": [
       " ”    + 53,  =Unity.=--Only<span style=\"background-color:#d4efdf;\"> born in S</span><span style=\"background-color:#d4efdf;\">ocrates experienced</span><span style=\"background-color:#d8daef;\"><br>that of the </span><span style=\"background-color:#ecf3cf;\">moment of rea</span><span style=\"background-color:#d6eaf8;\">son and the w</span><span style=\"background-color:#d8daef;\">hole conception of </span><span style=\"background-color:#e2d7d5;\">Socrates in </span><span style=\"background-color:#d4efdf;\">development.<br>S</span><span style=\"background-color:#d8daef;\">uch a return</span>ad<span style=\"background-color:#d8daef;\"> to falling </span><span style=\"background-color:#d4efdf;\">attaining to the </span><span style=\"background-color:#d4e6f1;\">simple is the</span><span style=\"background-color:#d8daef;\"><br>true Idea of the </span><span style=\"background-color:#d8daef;\">Spirit to </span>have had "
      ],
      "text/plain": [
       "<IPython.core.display.HTML object>"
      ]
     },
     "metadata": {},
     "output_type": "display_data"
    },
    {
     "data": {
      "text/html": [
       "<small><p style=\"text-align:right;\">Sources: <span style=\"background-color:#d4efdf;\">Georg Wilhelm Hegel: Hegel's Lectures on the History of Philosophy: Vol. 1 of 3</span>, <span style=\"background-color:#d8daef;\">Georg Wilhelm Hegel: The History of Philosophy: Volume 3 of 3</span>, <span style=\"background-color:#ecf3cf;\">Georg Wilhelm Hegel: Hegel's Lectures on the History of Philosophy: Vol. 2 of 3</span>, <span style=\"background-color:#d6eaf8;\">Immanuel Kant: Perpetual Peace</span>, <span style=\"background-color:#e2d7d5;\">Friedrich Nietzsche: The Joyful Wisdom</span>, <span style=\"background-color:#d8daef;\">Friedrich Nietzsche: Thoughts out of Season, Part One</span>, <span style=\"background-color:#d4e6f1;\">Immanuel Kant: Kant's Critique of Judgement</span></p></small>"
      ],
      "text/plain": [
       "<IPython.core.display.HTML object>"
      ]
     },
     "metadata": {},
     "output_type": "display_data"
    },
    {
     "name": "stdout",
     "output_type": "stream",
     "text": [
      "--------temperature: 1.0 ---------\n"
     ]
    },
    {
     "data": {
      "text/html": [
       " β<span style=\"background-color:#ecf3cf;\">. Plat. III. </span><span style=\"background-color:#d8daef;\">Prop. II. </span>Prop<span style=\"background-color:#d8daef;\">. containing an </span>E<span style=\"background-color:#eadbd8;\">lements.<br><br> </span><span style=\"background-color:#d8daef;\">Principles of</span><span style=\"background-color:#ebdef0;\">e has comm</span><span style=\"background-color:#d8daef;\">on, the lo</span>ngend<span style=\"background-color:#d8daef;\">ian logic </span>was<span style=\"background-color:#d8daef;\"> forward. A</span><span style=\"background-color:#d8daef;\"> Criticism w</span>ere<br> <span style=\"background-color:#d8daef;\"> so much th</span><span style=\"background-color:#ecf3cf;\">at is holy </span>l<span style=\"background-color:#d6eaf8;\">ight his b</span>oo<span style=\"background-color:#d6dbdf;\">k. It is a</span>bsurbble<span style=\"background-color:#ecf3cf;\">d the time </span>"
      ],
      "text/plain": [
       "<IPython.core.display.HTML object>"
      ]
     },
     "metadata": {},
     "output_type": "display_data"
    },
    {
     "data": {
      "text/html": [
       "<small><p style=\"text-align:right;\">Sources: <span style=\"background-color:#ecf3cf;\">Georg Wilhelm Hegel: Hegel's Lectures on the History of Philosophy: Vol. 2 of 3</span>, <span style=\"background-color:#d8daef;\">Georg Wilhelm Hegel: The History of Philosophy: Volume 3 of 3</span>, <span style=\"background-color:#eadbd8;\">Immanuel Kant: The Critique of Pure Reason</span>, <span style=\"background-color:#ebdef0;\">Friedrich Nietzsche: The Will to Power, Books III and IV</span>, <span style=\"background-color:#d6eaf8;\">Immanuel Kant: Perpetual Peace</span>, <span style=\"background-color:#d6dbdf;\">Friedrich Nietzsche: Thoughts Out of Season, Part 2</span></p></small>"
      ],
      "text/plain": [
       "<IPython.core.display.HTML object>"
      ]
     },
     "metadata": {},
     "output_type": "display_data"
    },
    {
     "name": "stdout",
     "output_type": "stream",
     "text": [
      "--------temperature: 1.05 ---------\n"
     ]
    },
    {
     "data": {
      "text/html": [
       " δόν_) men<span style=\"background-color:#d4efdf;\"> never look</span><span style=\"background-color:#d4efdf;\">ing as result. Th</span><span style=\"background-color:#d6eaf8;\">e following<br>  p</span><span style=\"background-color:#d8daef;\">ractical re</span><span style=\"background-color:#d8daef;\">plainly es</span>tablisheds,<span style=\"background-color:#edebd0;\"> of a possible </span><span style=\"background-color:#d6eaf8;\">  becomes </span>a <span style=\"background-color:#d8daef;\">light.<br><br>                                 </span><span style=\"background-color:#d8daef;\">       PAR</span>N<br>  A<span style=\"background-color:#e2d7d5;\">N<br><br>                           </span><span style=\"background-color:#d8daef;\">A different</span><span style=\"background-color:#e2d7d5;\">—where the </span>elure we thoe<span style=\"background-color:#d4e6f1;\">se                            </span>"
      ],
      "text/plain": [
       "<IPython.core.display.HTML object>"
      ]
     },
     "metadata": {},
     "output_type": "display_data"
    },
    {
     "data": {
      "text/html": [
       "<small><p style=\"text-align:right;\">Sources: <span style=\"background-color:#d4efdf;\">Georg Wilhelm Hegel: Hegel's Lectures on the History of Philosophy: Vol. 1 of 3</span>, <span style=\"background-color:#d6eaf8;\">Immanuel Kant: Perpetual Peace</span>, <span style=\"background-color:#d8daef;\">Georg Wilhelm Hegel: The History of Philosophy: Volume 3 of 3</span>, <span style=\"background-color:#edebd0;\">Immanuel Kant: Kant's Prolegomena</span>, <span style=\"background-color:#d8daef;\">Friedrich Nietzsche: Thoughts out of Season, Part One</span>, <span style=\"background-color:#e2d7d5;\">Friedrich Nietzsche: The Joyful Wisdom</span>, <span style=\"background-color:#d4e6f1;\">Immanuel Kant: Kant's Critique of Judgement</span></p></small>"
      ],
      "text/plain": [
       "<IPython.core.display.HTML object>"
      ]
     },
     "metadata": {},
     "output_type": "display_data"
    },
    {
     "name": "stdout",
     "output_type": "stream",
     "text": [
      "--------temperature: 1.1 ---------\n"
     ]
    },
    {
     "data": {
      "text/html": [
       " οὐς_)<span style=\"background-color:#ebdef0;\">. When we find </span><span style=\"background-color:#d8daef;\">a revelation </span>in<span style=\"background-color:#ebdef0;\"> a plant or </span>the slant<span style=\"background-color:#ebdef0;\">s, beyond th</span><span style=\"background-color:#d8daef;\">at which<br>ma</span><span style=\"background-color:#d4efdf;\">tter, or the </span>fift mo<span style=\"background-color:#f6ddcc;\">mitive conception</span><span style=\"background-color:#d4efdf;\">, whose principle is</span><br><span style=\"background-color:#eadbd8;\">any arrange</span>d<span style=\"background-color:#ecf3cf;\"> untrue, b</span><span style=\"background-color:#ecf3cf;\">ut there is an</span><span style=\"background-color:#d4efdf;\"> understood; </span><span style=\"background-color:#d8daef;\">and the<br>at</span>om ver<span style=\"background-color:#d4e6f1;\">y attraction</span> <span style=\"background-color:#e5e8e8;\">and, however, a</span>n L"
      ],
      "text/plain": [
       "<IPython.core.display.HTML object>"
      ]
     },
     "metadata": {},
     "output_type": "display_data"
    },
    {
     "data": {
      "text/html": [
       "<small><p style=\"text-align:right;\">Sources: <span style=\"background-color:#ebdef0;\">Friedrich Nietzsche: The Will to Power, Books III and IV</span>, <span style=\"background-color:#d8daef;\">Georg Wilhelm Hegel: The History of Philosophy: Volume 3 of 3</span>, <span style=\"background-color:#ebdef0;\">Friedrich Nietzsche: Beyond Good and Evil</span>, <span style=\"background-color:#d4efdf;\">Georg Wilhelm Hegel: Hegel's Lectures on the History of Philosophy: Vol. 1 of 3</span>, <span style=\"background-color:#f6ddcc;\">Friedrich Nietzsche: Human, All Too Human</span>, <span style=\"background-color:#eadbd8;\">Immanuel Kant: The Critique of Pure Reason</span>, <span style=\"background-color:#ecf3cf;\">Georg Wilhelm Hegel: Hegel's Lectures on the History of Philosophy: Vol. 2 of 3</span>, <span style=\"background-color:#d4e6f1;\">Immanuel Kant: Kant's Critique of Judgement</span>, <span style=\"background-color:#e5e8e8;\">Immanuel Kant: The Critique of Practical Reason</span></p></small>"
      ],
      "text/plain": [
       "<IPython.core.display.HTML object>"
      ]
     },
     "metadata": {},
     "output_type": "display_data"
    },
    {
     "name": "stdout",
     "output_type": "stream",
     "text": [
      "-------------------------------------------\n",
      "step 9750: train loss 3.1523, val loss 3.1419, time 0.511 sec/iter\n",
      "Sample: --------temperature: 0.9 ---------\n"
     ]
    },
    {
     "data": {
      "text/html": [
       " XV. pp. 38-275-1880; Magni<span style=\"background-color:#d8daef;\">ectures of </span>Martine 1707<span style=\"background-color:#d4efdf;\">; Menag. ad </span>orat, 1901), T. I. Ellidox 2.<br><br>["
      ],
      "text/plain": [
       "<IPython.core.display.HTML object>"
      ]
     },
     "metadata": {},
     "output_type": "display_data"
    },
    {
     "data": {
      "text/html": [
       "<small><p style=\"text-align:right;\">Sources: <span style=\"background-color:#d8daef;\">Georg Wilhelm Hegel: The History of Philosophy: Volume 3 of 3</span>, <span style=\"background-color:#d4efdf;\">Georg Wilhelm Hegel: Hegel's Lectures on the History of Philosophy: Vol. 1 of 3</span></p></small>"
      ],
      "text/plain": [
       "<IPython.core.display.HTML object>"
      ]
     },
     "metadata": {},
     "output_type": "display_data"
    },
    {
     "name": "stdout",
     "output_type": "stream",
     "text": [
      "--------temperature: 0.95 ---------\n"
     ]
    },
    {
     "data": {
      "text/html": [
       " = Lowed be<span style=\"background-color:#d4efdf;\">en we come to t</span> Pas<span style=\"background-color:#d4e6f1;\">sing effect</span> came ass politic<span style=\"background-color:#d4efdf;\"><br>to the sa</span><span style=\"background-color:#e2d7d5;\">ke, and the </span>battle,”<span style=\"background-color:#d6dbdf;\"> as though the b</span><span style=\"background-color:#d4efdf;\">ook Empedocles</span> als<span style=\"background-color:#d4e6f1;\">o spreads </span><span style=\"background-color:#d8daef;\">the<br>facts of </span><span style=\"background-color:#d8daef;\">the teacher o</span><span style=\"background-color:#eadbd8;\">n this cro</span>ssal pointfu<span style=\"background-color:#d4e6f1;\">l more ancient </span><span style=\"background-color:#ebdef0;\">will be<br>fou</span><span style=\"background-color:#d4efdf;\">r his form</span>"
      ],
      "text/plain": [
       "<IPython.core.display.HTML object>"
      ]
     },
     "metadata": {},
     "output_type": "display_data"
    },
    {
     "data": {
      "text/html": [
       "<small><p style=\"text-align:right;\">Sources: <span style=\"background-color:#d4efdf;\">Georg Wilhelm Hegel: Hegel's Lectures on the History of Philosophy: Vol. 1 of 3</span>, <span style=\"background-color:#d4e6f1;\">Immanuel Kant: Kant's Critique of Judgement</span>, <span style=\"background-color:#e2d7d5;\">Friedrich Nietzsche: The Joyful Wisdom</span>, <span style=\"background-color:#d6dbdf;\">Friedrich Nietzsche: Thoughts Out of Season, Part 2</span>, <span style=\"background-color:#d8daef;\">Georg Wilhelm Hegel: The History of Philosophy: Volume 3 of 3</span>, <span style=\"background-color:#eadbd8;\">Friedrich Nietzsche: The Will to Power, Books I and II</span>, <span style=\"background-color:#ebdef0;\">Friedrich Nietzsche: Beyond Good and Evil</span></p></small>"
      ],
      "text/plain": [
       "<IPython.core.display.HTML object>"
      ]
     },
     "metadata": {},
     "output_type": "display_data"
    },
    {
     "name": "stdout",
     "output_type": "stream",
     "text": [
      "--------temperature: 1.0 ---------\n"
     ]
    },
    {
     "data": {
      "text/html": [
       " ουα δὲνἀντι);<span style=\"background-color:#e2d7d5;\"> for<br>trans</span>late ‘it τὸυξ<span style=\"background-color:#d8daef;\"> of the seve</span>d.” Will<span style=\"background-color:#d4efdf;\">ingle<br>determination</span><span style=\"background-color:#eadbd8;\">s related th</span><span style=\"background-color:#d8daef;\">roughout the</span>s deptter, but<br><span style=\"background-color:#ecf3cf;\">“the divine</span> inheroes<span style=\"background-color:#ecf3cf;\"> motion” (</span>_τ"
      ],
      "text/plain": [
       "<IPython.core.display.HTML object>"
      ]
     },
     "metadata": {},
     "output_type": "display_data"
    },
    {
     "data": {
      "text/html": [
       "<small><p style=\"text-align:right;\">Sources: <span style=\"background-color:#e2d7d5;\">Friedrich Nietzsche: The Joyful Wisdom</span>, <span style=\"background-color:#d8daef;\">Georg Wilhelm Hegel: The History of Philosophy: Volume 3 of 3</span>, <span style=\"background-color:#d4efdf;\">Georg Wilhelm Hegel: Hegel's Lectures on the History of Philosophy: Vol. 1 of 3</span>, <span style=\"background-color:#eadbd8;\">Friedrich Nietzsche: The Will to Power, Books I and II</span>, <span style=\"background-color:#ecf3cf;\">Georg Wilhelm Hegel: Hegel's Lectures on the History of Philosophy: Vol. 2 of 3</span></p></small>"
      ],
      "text/plain": [
       "<IPython.core.display.HTML object>"
      ]
     },
     "metadata": {},
     "output_type": "display_data"
    },
    {
     "name": "stdout",
     "output_type": "stream",
     "text": [
      "--------temperature: 1.05 ---------\n"
     ]
    },
    {
     "data": {
      "text/html": [
       " 081<span style=\"background-color:#ecf3cf;\">. The last tr</span><span style=\"background-color:#d8daef;\">anslator of </span><span style=\"background-color:#eadbd8;\">antithesis, p</span><span style=\"background-color:#d4e6f1;\">ositive pr</span><span style=\"background-color:#d8daef;\">inciple within </span>Carter Stephonides,<br>_The P<span style=\"background-color:#e2d7d5;\">relude and </span><span style=\"background-color:#d8daef;\">unsatisfactory </span><span style=\"background-color:#eadbd8;\">remarks that h</span>is dissfining,<span style=\"background-color:#ebdef0;\"><br>faith in </span>est virtu<span style=\"background-color:#ecf3cf;\">different feelings</span>.”<br><br>    “"
      ],
      "text/plain": [
       "<IPython.core.display.HTML object>"
      ]
     },
     "metadata": {},
     "output_type": "display_data"
    },
    {
     "data": {
      "text/html": [
       "<small><p style=\"text-align:right;\">Sources: <span style=\"background-color:#ecf3cf;\">Georg Wilhelm Hegel: Hegel's Lectures on the History of Philosophy: Vol. 2 of 3</span>, <span style=\"background-color:#d8daef;\">Georg Wilhelm Hegel: The History of Philosophy: Volume 3 of 3</span>, <span style=\"background-color:#eadbd8;\">Immanuel Kant: The Critique of Pure Reason</span>, <span style=\"background-color:#d4e6f1;\">Immanuel Kant: Kant's Critique of Judgement</span>, <span style=\"background-color:#e2d7d5;\">Friedrich Nietzsche: The Joyful Wisdom</span>, <span style=\"background-color:#ebdef0;\">Friedrich Nietzsche: The Will to Power, Books III and IV</span></p></small>"
      ],
      "text/plain": [
       "<IPython.core.display.HTML object>"
      ]
     },
     "metadata": {},
     "output_type": "display_data"
    },
    {
     "name": "stdout",
     "output_type": "stream",
     "text": [
      "--------temperature: 1.1 ---------\n"
     ]
    },
    {
     "data": {
      "text/html": [
       " 9<span style=\"background-color:#f6ddcc;\">, and more happ</span><span style=\"background-color:#eadbd8;\">y, understand</span>s now) <span style=\"background-color:#f6ddcc;\">is faith, i</span>n<br><span style=\"background-color:#eadbd8;\">one natural</span> detail, pp. 45-41<span style=\"background-color:#d8daef;\"> (pp. 67, 6</span>1), pp.[Piladchap. ixv. § 363] Buh"
      ],
      "text/plain": [
       "<IPython.core.display.HTML object>"
      ]
     },
     "metadata": {},
     "output_type": "display_data"
    },
    {
     "data": {
      "text/html": [
       "<small><p style=\"text-align:right;\">Sources: <span style=\"background-color:#f6ddcc;\">Friedrich Nietzsche: Human, All Too Human</span>, <span style=\"background-color:#eadbd8;\">Immanuel Kant: The Critique of Pure Reason</span>, <span style=\"background-color:#d8daef;\">Georg Wilhelm Hegel: The History of Philosophy: Volume 3 of 3</span></p></small>"
      ],
      "text/plain": [
       "<IPython.core.display.HTML object>"
      ]
     },
     "metadata": {},
     "output_type": "display_data"
    },
    {
     "name": "stdout",
     "output_type": "stream",
     "text": [
      "-------------------------------------------\n",
      "step 10000: train loss 3.0597, val loss 3.1149, time 0.510 sec/iter\n",
      "Sample: --------temperature: 0.9 ---------\n"
     ]
    },
    {
     "data": {
      "text/html": [
       " σία, ἁφητεῖν. νομαιρα<br>τὸ ἀν εἶναιαι, νοὐτεἶναις)<span style=\"background-color:#d6eaf8;\">, these to</span><span style=\"background-color:#edebd0;\"> question<br>sho</span>w "
      ],
      "text/plain": [
       "<IPython.core.display.HTML object>"
      ]
     },
     "metadata": {},
     "output_type": "display_data"
    },
    {
     "data": {
      "text/html": [
       "<small><p style=\"text-align:right;\">Sources: <span style=\"background-color:#d6eaf8;\">Immanuel Kant: Perpetual Peace</span>, <span style=\"background-color:#edebd0;\">Immanuel Kant: Kant's Prolegomena</span></p></small>"
      ],
      "text/plain": [
       "<IPython.core.display.HTML object>"
      ]
     },
     "metadata": {},
     "output_type": "display_data"
    },
    {
     "name": "stdout",
     "output_type": "stream",
     "text": [
      "--------temperature: 0.95 ---------\n"
     ]
    },
    {
     "data": {
      "text/html": [
       " <span style=\"background-color:#d8daef;\">? How could </span>I<span style=\"background-color:#d4efdf;\"> have<br>gone </span><span style=\"background-color:#d8daef;\">in the spi</span>a?<br><br><span style=\"background-color:#e2d7d5;\">Pardon me,</span><span style=\"background-color:#e2d7d5;\">--And there</span>?--Who curse not petty stranke? Ot<br>wanted maidst! Or <span style=\"background-color:#d8daef;\">at it is li</span>f<span style=\"background-color:#ebdef0;\">e from the mo</span><span style=\"background-color:#d6dbdf;\">untains of </span>God? I"
      ],
      "text/plain": [
       "<IPython.core.display.HTML object>"
      ]
     },
     "metadata": {},
     "output_type": "display_data"
    },
    {
     "data": {
      "text/html": [
       "<small><p style=\"text-align:right;\">Sources: <span style=\"background-color:#d8daef;\">Georg Wilhelm Hegel: The History of Philosophy: Volume 3 of 3</span>, <span style=\"background-color:#d4efdf;\">Georg Wilhelm Hegel: Hegel's Lectures on the History of Philosophy: Vol. 1 of 3</span>, <span style=\"background-color:#e2d7d5;\">Friedrich Nietzsche: The Joyful Wisdom</span>, <span style=\"background-color:#e2d7d5;\">Friedrich Nietzsche: Thus Spake Zarathustra</span>, <span style=\"background-color:#ebdef0;\">Friedrich Nietzsche: The Will to Power, Books III and IV</span>, <span style=\"background-color:#d6dbdf;\">Friedrich Nietzsche: Thoughts Out of Season, Part 2</span></p></small>"
      ],
      "text/plain": [
       "<IPython.core.display.HTML object>"
      ]
     },
     "metadata": {},
     "output_type": "display_data"
    },
    {
     "name": "stdout",
     "output_type": "stream",
     "text": [
      "--------temperature: 1.0 ---------\n"
     ]
    },
    {
     "data": {
      "text/html": [
       " Venides), as to Mol. III. (VIII. 6)<span style=\"background-color:#d8daef;\"><br>thought, which </span>had of prmperiso<span style=\"background-color:#ecf3cf;\">ns (Vol. I</span>II., p. 62, 7) t<span style=\"background-color:#d8daef;\">hat Jacobi </span><span style=\"background-color:#d8daef;\">likewise as</span>:<br>“M<span style=\"background-color:#ebdef0;\">edience to </span><span style=\"background-color:#d4e6f1;\">happiness, is </span>not morta"
      ],
      "text/plain": [
       "<IPython.core.display.HTML object>"
      ]
     },
     "metadata": {},
     "output_type": "display_data"
    },
    {
     "data": {
      "text/html": [
       "<small><p style=\"text-align:right;\">Sources: <span style=\"background-color:#d8daef;\">Georg Wilhelm Hegel: The History of Philosophy: Volume 3 of 3</span>, <span style=\"background-color:#ecf3cf;\">Georg Wilhelm Hegel: Hegel's Lectures on the History of Philosophy: Vol. 2 of 3</span>, <span style=\"background-color:#ebdef0;\">Friedrich Nietzsche: The Will to Power, Books III and IV</span>, <span style=\"background-color:#d4e6f1;\">Immanuel Kant: Kant's Critique of Judgement</span></p></small>"
      ],
      "text/plain": [
       "<IPython.core.display.HTML object>"
      ]
     },
     "metadata": {},
     "output_type": "display_data"
    },
    {
     "name": "stdout",
     "output_type": "stream",
     "text": [
      "--------temperature: 1.05 ---------\n"
     ]
    },
    {
     "data": {
      "text/html": [
       "<span style=\"background-color:#fdebd0;\"> ^paragraph 2</span>40} The fiv<span style=\"background-color:#d4e6f1;\">e; it would<br></span>arise I<span style=\"background-color:#d8daef;\"> are in no </span><span style=\"background-color:#edebd0;\">faculty of a </span><span style=\"background-color:#d4e6f1;\">universal satisfaction,<br></span>a<span style=\"background-color:#d8daef;\">nd a further</span>ena<span style=\"background-color:#ebdef0;\">blem there </span>relief, if wei<span style=\"background-color:#d4e6f1;\">ghly agree</span><span style=\"background-color:#eadbd8;\"> in this<br>rat</span>her arg<span style=\"background-color:#d0ece7;\">er to detain t</span><span style=\"background-color:#f6ddcc;\">ell being </span>exer<span style=\"background-color:#d8daef;\">ts one-side</span><span style=\"background-color:#d4e6f1;\"> by presupposing<br></span>"
      ],
      "text/plain": [
       "<IPython.core.display.HTML object>"
      ]
     },
     "metadata": {},
     "output_type": "display_data"
    },
    {
     "data": {
      "text/html": [
       "<small><p style=\"text-align:right;\">Sources: <span style=\"background-color:#fdebd0;\">Immanuel Kant: The Metaphysical Elements of Ethics</span>, <span style=\"background-color:#d4e6f1;\">Immanuel Kant: Kant's Critique of Judgement</span>, <span style=\"background-color:#d8daef;\">Georg Wilhelm Hegel: The History of Philosophy: Volume 3 of 3</span>, <span style=\"background-color:#edebd0;\">Immanuel Kant: Kant's Prolegomena</span>, <span style=\"background-color:#ebdef0;\">Friedrich Nietzsche: Beyond Good and Evil</span>, <span style=\"background-color:#eadbd8;\">Immanuel Kant: The Critique of Pure Reason</span>, <span style=\"background-color:#d0ece7;\">Friedrich Nietzsche: Early Greek Philosophy & Other Essays</span>, <span style=\"background-color:#f6ddcc;\">Friedrich Nietzsche: Human, All Too Human</span></p></small>"
      ],
      "text/plain": [
       "<IPython.core.display.HTML object>"
      ]
     },
     "metadata": {},
     "output_type": "display_data"
    },
    {
     "name": "stdout",
     "output_type": "stream",
     "text": [
      "--------temperature: 1.1 ---------\n"
     ]
    },
    {
     "data": {
      "text/html": [
       " θροσον οκίνη).”<br><br>  [92<span style=\"background-color:#d8daef;\">] Fichte’s </span><span style=\"background-color:#ebdef0;\">finally be </span><span style=\"background-color:#d8daef;\">sensuous to th</span><span style=\"background-color:#edebd0;\">at to the object </span>of <span style=\"background-color:#d4e6f1;\">whose being </span><span style=\"background-color:#d8daef;\">the elements</span><span style=\"background-color:#ecf3cf;\">being<br>as such</span><span style=\"background-color:#ecf3cf;\">, and the man</span>,<span style=\"background-color:#d8daef;\"> when Fichte </span>also<span style=\"background-color:#d8daef;\"> he on the one hand</span>h<br>saith, "
      ],
      "text/plain": [
       "<IPython.core.display.HTML object>"
      ]
     },
     "metadata": {},
     "output_type": "display_data"
    },
    {
     "data": {
      "text/html": [
       "<small><p style=\"text-align:right;\">Sources: <span style=\"background-color:#d8daef;\">Georg Wilhelm Hegel: The History of Philosophy: Volume 3 of 3</span>, <span style=\"background-color:#ebdef0;\">Friedrich Nietzsche: Beyond Good and Evil</span>, <span style=\"background-color:#edebd0;\">Immanuel Kant: Kant's Prolegomena</span>, <span style=\"background-color:#d4e6f1;\">Immanuel Kant: Kant's Critique of Judgement</span>, <span style=\"background-color:#ecf3cf;\">Georg Wilhelm Hegel: Hegel's Lectures on the History of Philosophy: Vol. 2 of 3</span></p></small>"
      ],
      "text/plain": [
       "<IPython.core.display.HTML object>"
      ]
     },
     "metadata": {},
     "output_type": "display_data"
    },
    {
     "name": "stdout",
     "output_type": "stream",
     "text": [
      "-------------------------------------------\n",
      "step 10250: train loss 3.0500, val loss 3.1022, time 0.510 sec/iter\n",
      "Sample: --------temperature: 0.9 ---------\n"
     ]
    },
    {
     "data": {
      "text/html": [
       "<span style=\"background-color:#eadbd8;\"> Just as the so</span><span style=\"background-color:#d6dbdf;\"><br>conscience co</span>mes<span style=\"background-color:#e5e8e8;\"> as a spiritual</span>)<span style=\"background-color:#d4efdf;\">. To express </span><span style=\"background-color:#eadbd8;\">one, it is </span><span style=\"background-color:#d4efdf;\">only acquired the </span>sam<span style=\"background-color:#d4efdf;\">e<br>trouble </span><span style=\"background-color:#d6eaf8;\">of anything, and </span><span style=\"background-color:#d8daef;\">on the other s</span><span style=\"background-color:#d8daef;\">eems to be a </span><span style=\"background-color:#e5e8e8;\">creation th</span>a<span style=\"background-color:#ecf3cf;\">t<br>that we may </span><span style=\"background-color:#edebd0;\">be expected as </span><span style=\"background-color:#eadbd8;\">if it is p</span><span style=\"background-color:#d8daef;\">resent and e</span><span style=\"background-color:#edebd0;\">ntirely is</span><span style=\"background-color:#eadbd8;\">. By the d</span>ialogue, thank<span style=\"background-color:#d8daef;\"><br>introduce </span><span style=\"background-color:#eadbd8;\">all science</span>"
      ],
      "text/plain": [
       "<IPython.core.display.HTML object>"
      ]
     },
     "metadata": {},
     "output_type": "display_data"
    },
    {
     "data": {
      "text/html": [
       "<small><p style=\"text-align:right;\">Sources: <span style=\"background-color:#eadbd8;\">Friedrich Nietzsche: The Will to Power, Books I and II</span>, <span style=\"background-color:#d6dbdf;\">Friedrich Nietzsche: Thoughts Out of Season, Part 2</span>, <span style=\"background-color:#e5e8e8;\">Immanuel Kant: The Critique of Practical Reason</span>, <span style=\"background-color:#d4efdf;\">Georg Wilhelm Hegel: Hegel's Lectures on the History of Philosophy: Vol. 1 of 3</span>, <span style=\"background-color:#d6eaf8;\">Immanuel Kant: Perpetual Peace</span>, <span style=\"background-color:#d8daef;\">Georg Wilhelm Hegel: The History of Philosophy: Volume 3 of 3</span>, <span style=\"background-color:#ecf3cf;\">Georg Wilhelm Hegel: Hegel's Lectures on the History of Philosophy: Vol. 2 of 3</span>, <span style=\"background-color:#edebd0;\">Immanuel Kant: Kant's Prolegomena</span>, <span style=\"background-color:#eadbd8;\">Immanuel Kant: The Critique of Pure Reason</span></p></small>"
      ],
      "text/plain": [
       "<IPython.core.display.HTML object>"
      ]
     },
     "metadata": {},
     "output_type": "display_data"
    },
    {
     "name": "stdout",
     "output_type": "stream",
     "text": [
      "--------temperature: 0.95 ---------\n"
     ]
    },
    {
     "data": {
      "text/html": [
       " U FEDETZARNDARATY FROLL TRARSCENDIN<br><br>    CHUBILIS<span style=\"background-color:#eadbd8;\"><br><br>    _A._ </span>EHOf the un "
      ],
      "text/plain": [
       "<IPython.core.display.HTML object>"
      ]
     },
     "metadata": {},
     "output_type": "display_data"
    },
    {
     "data": {
      "text/html": [
       "<small><p style=\"text-align:right;\">Sources: <span style=\"background-color:#eadbd8;\">Friedrich Nietzsche: The Will to Power, Books I and II</span></p></small>"
      ],
      "text/plain": [
       "<IPython.core.display.HTML object>"
      ]
     },
     "metadata": {},
     "output_type": "display_data"
    },
    {
     "name": "stdout",
     "output_type": "stream",
     "text": [
      "--------temperature: 1.0 ---------\n"
     ]
    },
    {
     "data": {
      "text/html": [
       " 6, _no<span style=\"background-color:#d8daef;\">t_<br>       </span>_Helveti et<span style=\"background-color:#d8daef;\"> de Leibnitz</span>, Johl Bernar en’s P<span style=\"background-color:#d8daef;\">either the </span>Saint,<br>pznologuern at Novi<span style=\"background-color:#d8daef;\">leges that </span>a sorto<span style=\"background-color:#d8daef;\"> viz. the com</span>bi"
      ],
      "text/plain": [
       "<IPython.core.display.HTML object>"
      ]
     },
     "metadata": {},
     "output_type": "display_data"
    },
    {
     "data": {
      "text/html": [
       "<small><p style=\"text-align:right;\">Sources: <span style=\"background-color:#d8daef;\">Georg Wilhelm Hegel: The History of Philosophy: Volume 3 of 3</span></p></small>"
      ],
      "text/plain": [
       "<IPython.core.display.HTML object>"
      ]
     },
     "metadata": {},
     "output_type": "display_data"
    },
    {
     "name": "stdout",
     "output_type": "stream",
     "text": [
      "--------temperature: 1.05 ---------\n"
     ]
    },
    {
     "data": {
      "text/html": [
       " 26 =. The<span style=\"background-color:#ebdef0;\"> Pleasure </span>em<span style=\"background-color:#d4efdf;\">es, likewise</span><span style=\"background-color:#edebd0;\"> the rational b</span><span style=\"background-color:#d8daef;\">y<br>thoughts a</span><span style=\"background-color:#ecf3cf;\"> potential </span><span style=\"background-color:#ecf3cf;\">disciple and the s</span><span style=\"background-color:#d4efdf;\">econd. This is the</span>reb<span style=\"background-color:#edebd0;\">y deduction </span>hav<span style=\"background-color:#d8daef;\">ing elevated </span>into tw<span style=\"background-color:#d4efdf;\">o<br>beginning </span>of genera<span style=\"background-color:#d8daef;\">. Universal, </span><span style=\"background-color:#d6dbdf;\">for even in the </span>others<span style=\"background-color:#d6eaf8;\"> state; that </span><span style=\"background-color:#d8daef;\">which is implicit</span>;<span style=\"background-color:#e2d7d5;\"><br>their appearance</span> (essence"
      ],
      "text/plain": [
       "<IPython.core.display.HTML object>"
      ]
     },
     "metadata": {},
     "output_type": "display_data"
    },
    {
     "data": {
      "text/html": [
       "<small><p style=\"text-align:right;\">Sources: <span style=\"background-color:#ebdef0;\">Friedrich Nietzsche: The Will to Power, Books III and IV</span>, <span style=\"background-color:#d4efdf;\">Georg Wilhelm Hegel: Hegel's Lectures on the History of Philosophy: Vol. 1 of 3</span>, <span style=\"background-color:#edebd0;\">Immanuel Kant: Kant's Prolegomena</span>, <span style=\"background-color:#d8daef;\">Georg Wilhelm Hegel: The History of Philosophy: Volume 3 of 3</span>, <span style=\"background-color:#ecf3cf;\">Georg Wilhelm Hegel: Hegel's Lectures on the History of Philosophy: Vol. 2 of 3</span>, <span style=\"background-color:#d6dbdf;\">Friedrich Nietzsche: Thoughts Out of Season, Part 2</span>, <span style=\"background-color:#d6eaf8;\">Immanuel Kant: Perpetual Peace</span>, <span style=\"background-color:#e2d7d5;\">Friedrich Nietzsche: The Joyful Wisdom</span></p></small>"
      ],
      "text/plain": [
       "<IPython.core.display.HTML object>"
      ]
     },
     "metadata": {},
     "output_type": "display_data"
    },
    {
     "name": "stdout",
     "output_type": "stream",
     "text": [
      "--------temperature: 1.1 ---------\n"
     ]
    },
    {
     "data": {
      "text/html": [
       " , Nell <span style=\"background-color:#d8daef;\">on              </span>Yet sadownfall<span style=\"background-color:#e2d7d5;\">._<br><br>            I a</span>scend at<span style=\"background-color:#eadbd8;\"> it a step </span>aptitu<span style=\"background-color:#e2d7d5;\">de,<br>                </span><span style=\"background-color:#e2d7d5;\">   Of human</span><span style=\"background-color:#d4efdf;\">ity, fall </span>foradnes<span style=\"background-color:#d6dbdf;\">s \"historical</span><span style=\"background-color:#e2d7d5;\">, and you </span>please\" \"You and valu<span style=\"background-color:#d8daef;\"><br>upon that </span>for the"
      ],
      "text/plain": [
       "<IPython.core.display.HTML object>"
      ]
     },
     "metadata": {},
     "output_type": "display_data"
    },
    {
     "data": {
      "text/html": [
       "<small><p style=\"text-align:right;\">Sources: <span style=\"background-color:#d8daef;\">Georg Wilhelm Hegel: The History of Philosophy: Volume 3 of 3</span>, <span style=\"background-color:#e2d7d5;\">Friedrich Nietzsche: The Joyful Wisdom</span>, <span style=\"background-color:#eadbd8;\">Friedrich Nietzsche: The Will to Power, Books I and II</span>, <span style=\"background-color:#e2d7d5;\">Friedrich Nietzsche: Thus Spake Zarathustra</span>, <span style=\"background-color:#d4efdf;\">Georg Wilhelm Hegel: Hegel's Lectures on the History of Philosophy: Vol. 1 of 3</span>, <span style=\"background-color:#d6dbdf;\">Friedrich Nietzsche: Thoughts Out of Season, Part 2</span></p></small>"
      ],
      "text/plain": [
       "<IPython.core.display.HTML object>"
      ]
     },
     "metadata": {},
     "output_type": "display_data"
    },
    {
     "name": "stdout",
     "output_type": "stream",
     "text": [
      "-------------------------------------------\n",
      "step 10500: train loss 3.0059, val loss 3.0161, time 0.510 sec/iter\n",
      "Sample: --------temperature: 0.9 ---------\n"
     ]
    },
    {
     "data": {
      "text/html": [
       " τόγα<span style=\"background-color:#ecf3cf;\">), and for</span>re-lo<span style=\"background-color:#edebd0;\">ving to th</span><span style=\"background-color:#ecf3cf;\">is virtuous </span>(ποοισιχεν<span style=\"background-color:#ebdef0;\">) does not exist</span><span style=\"background-color:#d0ece7;\"> for<br>Parmenides</span><span style=\"background-color:#d4efdf;\">, as also p</span><span style=\"background-color:#d6dbdf;\">rocess as an</span><span style=\"background-color:#ecf3cf;\"> historic p</span>lace<span style=\"background-color:#ecf3cf;\">, are comp</span>rehen<span style=\"background-color:#ebdef0;\">ded<br>within </span><span style=\"background-color:#eadbd8;\">themselves, and in </span><span style=\"background-color:#edebd0;\">so far as it regards </span><span style=\"background-color:#d8daef;\">perception and </span>n<span style=\"background-color:#ecf3cf;\">ever remains </span>for "
      ],
      "text/plain": [
       "<IPython.core.display.HTML object>"
      ]
     },
     "metadata": {},
     "output_type": "display_data"
    },
    {
     "data": {
      "text/html": [
       "<small><p style=\"text-align:right;\">Sources: <span style=\"background-color:#ecf3cf;\">Georg Wilhelm Hegel: Hegel's Lectures on the History of Philosophy: Vol. 2 of 3</span>, <span style=\"background-color:#edebd0;\">Immanuel Kant: Kant's Prolegomena</span>, <span style=\"background-color:#ebdef0;\">Friedrich Nietzsche: The Will to Power, Books III and IV</span>, <span style=\"background-color:#d0ece7;\">Friedrich Nietzsche: Early Greek Philosophy & Other Essays</span>, <span style=\"background-color:#d4efdf;\">Georg Wilhelm Hegel: Hegel's Lectures on the History of Philosophy: Vol. 1 of 3</span>, <span style=\"background-color:#d6dbdf;\">Friedrich Nietzsche: Thoughts Out of Season, Part 2</span>, <span style=\"background-color:#ebdef0;\">Friedrich Nietzsche: Beyond Good and Evil</span>, <span style=\"background-color:#eadbd8;\">Friedrich Nietzsche: The Will to Power, Books I and II</span>, <span style=\"background-color:#d8daef;\">Georg Wilhelm Hegel: The History of Philosophy: Volume 3 of 3</span></p></small>"
      ],
      "text/plain": [
       "<IPython.core.display.HTML object>"
      ]
     },
     "metadata": {},
     "output_type": "display_data"
    },
    {
     "name": "stdout",
     "output_type": "stream",
     "text": [
      "--------temperature: 0.95 ---------\n"
     ]
    },
    {
     "data": {
      "text/html": [
       " 81, 188, 149, 86, 129, 38, 3619, 342, 43, 40; 6, 94<span style=\"background-color:#d8daef;\">, 137.<br><br>  </span>Syria, <span style=\"background-color:#d8daef;\">I. 88.<br><br>  </span>Searing, I. 2"
      ],
      "text/plain": [
       "<IPython.core.display.HTML object>"
      ]
     },
     "metadata": {},
     "output_type": "display_data"
    },
    {
     "data": {
      "text/html": [
       "<small><p style=\"text-align:right;\">Sources: <span style=\"background-color:#d8daef;\">Georg Wilhelm Hegel: The History of Philosophy: Volume 3 of 3</span></p></small>"
      ],
      "text/plain": [
       "<IPython.core.display.HTML object>"
      ]
     },
     "metadata": {},
     "output_type": "display_data"
    },
    {
     "name": "stdout",
     "output_type": "stream",
     "text": [
      "--------temperature: 1.0 ---------\n"
     ]
    },
    {
     "data": {
      "text/html": [
       " οὐθερὶ γίτὸ τὸ ἑνοηκ εῖ<br>ἕτῶθει στείον γὰ λλέρε ἕτω"
      ],
      "text/plain": [
       "<IPython.core.display.HTML object>"
      ]
     },
     "metadata": {},
     "output_type": "display_data"
    },
    {
     "name": "stdout",
     "output_type": "stream",
     "text": [
      "--------temperature: 1.05 ---------\n"
     ]
    },
    {
     "data": {
      "text/html": [
       " spe<span style=\"background-color:#ecf3cf;\">cal qualit</span>i<span style=\"background-color:#eadbd8;\">es of a st</span><span style=\"background-color:#ebdef0;\">ates has a</span><span style=\"background-color:#d8daef;\">ltogether </span><span style=\"background-color:#d8daef;\">quite correct</span>--and,<span style=\"background-color:#d4e6f1;\"><br>it under c</span><span style=\"background-color:#eadbd8;\">ertain cases, </span>bu<span style=\"background-color:#d4e6f1;\">t by comparing the</span>m in<span style=\"background-color:#d4e6f1;\">as it is also </span><span style=\"background-color:#d8daef;\">to<br>which d</span><span style=\"background-color:#fdebd0;\">etermines the ma</span><span style=\"background-color:#d8daef;\">nifold of </span>rule<span style=\"background-color:#d4efdf;\">rship, or </span>to all no rasp<span style=\"background-color:#d8daef;\"> confusion.</span>”]<br><br>[9<span style=\"background-color:#d4efdf;\">6] We shall </span>as far a"
      ],
      "text/plain": [
       "<IPython.core.display.HTML object>"
      ]
     },
     "metadata": {},
     "output_type": "display_data"
    },
    {
     "data": {
      "text/html": [
       "<small><p style=\"text-align:right;\">Sources: <span style=\"background-color:#ecf3cf;\">Georg Wilhelm Hegel: Hegel's Lectures on the History of Philosophy: Vol. 2 of 3</span>, <span style=\"background-color:#eadbd8;\">Friedrich Nietzsche: The Will to Power, Books I and II</span>, <span style=\"background-color:#ebdef0;\">Friedrich Nietzsche: The Will to Power, Books III and IV</span>, <span style=\"background-color:#d8daef;\">Georg Wilhelm Hegel: The History of Philosophy: Volume 3 of 3</span>, <span style=\"background-color:#d4e6f1;\">Immanuel Kant: Kant's Critique of Judgement</span>, <span style=\"background-color:#fdebd0;\">Immanuel Kant: The Metaphysical Elements of Ethics</span>, <span style=\"background-color:#d4efdf;\">Georg Wilhelm Hegel: Hegel's Lectures on the History of Philosophy: Vol. 1 of 3</span></p></small>"
      ],
      "text/plain": [
       "<IPython.core.display.HTML object>"
      ]
     },
     "metadata": {},
     "output_type": "display_data"
    },
    {
     "name": "stdout",
     "output_type": "stream",
     "text": [
      "--------temperature: 1.1 ---------\n"
     ]
    },
    {
     "data": {
      "text/html": [
       " xi<span style=\"background-color:#d0ece7;\">om consider</span><span style=\"background-color:#edebd0;\">ed as a<br>law</span><span style=\"background-color:#ebdef0;\"> of internal</span><span style=\"background-color:#d8daef;\">ation of a sub</span>t<span style=\"background-color:#d4e6f1;\">le, should n</span>atu<span style=\"background-color:#ebdef0;\">rality<br>and </span>u<span style=\"background-color:#d0ece7;\">nder; this</span><span style=\"background-color:#d8daef;\"> all that pertains t</span><span style=\"background-color:#d6dbdf;\">he character, </span><span style=\"background-color:#edebd0;\">which both c</span>an would<br>know<span style=\"background-color:#ebdef0;\">. \"The so-</span>ran<span style=\"background-color:#d4efdf;\">k of genius</span>,\"<span style=\"background-color:#eadbd8;\"> make life </span><span style=\"background-color:#ebdef0;\">and his wea</span>ry fendedgraves"
      ],
      "text/plain": [
       "<IPython.core.display.HTML object>"
      ]
     },
     "metadata": {},
     "output_type": "display_data"
    },
    {
     "data": {
      "text/html": [
       "<small><p style=\"text-align:right;\">Sources: <span style=\"background-color:#d0ece7;\">Friedrich Nietzsche: Early Greek Philosophy & Other Essays</span>, <span style=\"background-color:#edebd0;\">Immanuel Kant: Kant's Prolegomena</span>, <span style=\"background-color:#ebdef0;\">Friedrich Nietzsche: The Will to Power, Books III and IV</span>, <span style=\"background-color:#d8daef;\">Georg Wilhelm Hegel: The History of Philosophy: Volume 3 of 3</span>, <span style=\"background-color:#d4e6f1;\">Immanuel Kant: Kant's Critique of Judgement</span>, <span style=\"background-color:#d6dbdf;\">Friedrich Nietzsche: Thoughts Out of Season, Part 2</span>, <span style=\"background-color:#d4efdf;\">Georg Wilhelm Hegel: Hegel's Lectures on the History of Philosophy: Vol. 1 of 3</span>, <span style=\"background-color:#eadbd8;\">Friedrich Nietzsche: The Will to Power, Books I and II</span></p></small>"
      ],
      "text/plain": [
       "<IPython.core.display.HTML object>"
      ]
     },
     "metadata": {},
     "output_type": "display_data"
    },
    {
     "name": "stdout",
     "output_type": "stream",
     "text": [
      "-------------------------------------------\n",
      "step 10750: train loss 2.9981, val loss 2.9762, time 0.510 sec/iter\n",
      "Sample: --------temperature: 0.9 ---------\n"
     ]
    },
    {
     "data": {
      "text/html": [
       " V<span style=\"background-color:#d4efdf;\">. Tiedmann</span>’s Essays strearch,<br><br>My gave warf, feas<span style=\"background-color:#d4efdf;\">ts on it, </span><span style=\"background-color:#d4e6f1;\">perhaps a c</span>hild--warfy<span style=\"background-color:#e2d7d5;\">ing, strength</span><span style=\"background-color:#ecf3cf;\"> and<br>last </span><span style=\"background-color:#d8daef;\">words which lea</span><span style=\"background-color:#ecf3cf;\">ding to its s</span>eth<span style=\"background-color:#e2d7d5;\">things clean</span> happe<span style=\"background-color:#e2d7d5;\">d!<br><br>Verily, </span><span style=\"background-color:#eadbd8;\">I have alt</span>"
      ],
      "text/plain": [
       "<IPython.core.display.HTML object>"
      ]
     },
     "metadata": {},
     "output_type": "display_data"
    },
    {
     "data": {
      "text/html": [
       "<small><p style=\"text-align:right;\">Sources: <span style=\"background-color:#d4efdf;\">Georg Wilhelm Hegel: Hegel's Lectures on the History of Philosophy: Vol. 1 of 3</span>, <span style=\"background-color:#d4e6f1;\">Immanuel Kant: Kant's Critique of Judgement</span>, <span style=\"background-color:#e2d7d5;\">Friedrich Nietzsche: The Joyful Wisdom</span>, <span style=\"background-color:#ecf3cf;\">Georg Wilhelm Hegel: Hegel's Lectures on the History of Philosophy: Vol. 2 of 3</span>, <span style=\"background-color:#d8daef;\">Friedrich Nietzsche: Thoughts out of Season, Part One</span>, <span style=\"background-color:#e2d7d5;\">Friedrich Nietzsche: Thus Spake Zarathustra</span>, <span style=\"background-color:#eadbd8;\">Immanuel Kant: The Critique of Pure Reason</span></p></small>"
      ],
      "text/plain": [
       "<IPython.core.display.HTML object>"
      ]
     },
     "metadata": {},
     "output_type": "display_data"
    },
    {
     "name": "stdout",
     "output_type": "stream",
     "text": [
      "--------temperature: 0.95 ---------\n"
     ]
    },
    {
     "data": {
      "text/html": [
       " ραίντὰς)<span style=\"background-color:#eadbd8;\">, their pr</span><span style=\"background-color:#d8daef;\">inciple likewise</span> t<span style=\"background-color:#ecf3cf;\">hence also</span><span style=\"background-color:#d8daef;\"><br>and without the </span><span style=\"background-color:#e2d7d5;\">primarily </span><span style=\"background-color:#d4e6f1;\">where only a </span>thing<span style=\"background-color:#d8daef;\"><br>as its ne</span><span style=\"background-color:#d4efdf;\">gativity, f</span>or<span style=\"background-color:#eadbd8;\"> the aggregation</span>,<span style=\"background-color:#d8daef;\"> is a<br>comp</span><span style=\"background-color:#ecf3cf;\">osed of all th</span><span style=\"background-color:#d8daef;\">ings are a</span>nimal. Fals<span style=\"background-color:#d8daef;\">us since the</span> plan<span style=\"background-color:#d8daef;\">etc. This<br></span>class he _"
      ],
      "text/plain": [
       "<IPython.core.display.HTML object>"
      ]
     },
     "metadata": {},
     "output_type": "display_data"
    },
    {
     "data": {
      "text/html": [
       "<small><p style=\"text-align:right;\">Sources: <span style=\"background-color:#eadbd8;\">Friedrich Nietzsche: The Will to Power, Books I and II</span>, <span style=\"background-color:#d8daef;\">Georg Wilhelm Hegel: The History of Philosophy: Volume 3 of 3</span>, <span style=\"background-color:#ecf3cf;\">Georg Wilhelm Hegel: Hegel's Lectures on the History of Philosophy: Vol. 2 of 3</span>, <span style=\"background-color:#e2d7d5;\">Friedrich Nietzsche: The Joyful Wisdom</span>, <span style=\"background-color:#d4e6f1;\">Immanuel Kant: Kant's Critique of Judgement</span>, <span style=\"background-color:#d4efdf;\">Georg Wilhelm Hegel: Hegel's Lectures on the History of Philosophy: Vol. 1 of 3</span>, <span style=\"background-color:#eadbd8;\">Immanuel Kant: The Critique of Pure Reason</span></p></small>"
      ],
      "text/plain": [
       "<IPython.core.display.HTML object>"
      ]
     },
     "metadata": {},
     "output_type": "display_data"
    },
    {
     "name": "stdout",
     "output_type": "stream",
     "text": [
      "--------temperature: 1.0 ---------\n"
     ]
    },
    {
     "data": {
      "text/html": [
       " æinth, o. VI. Sec. 111, pp. 85;<br>c<span style=\"background-color:#ecf3cf;\">f. Tenneman</span>n, Vo<span style=\"background-color:#d8daef;\">l. Vol. IV. </span>Sect. pp.<br>26, 71<span style=\"background-color:#d8daef;\">; Buhle: Geschichte </span>"
      ],
      "text/plain": [
       "<IPython.core.display.HTML object>"
      ]
     },
     "metadata": {},
     "output_type": "display_data"
    },
    {
     "data": {
      "text/html": [
       "<small><p style=\"text-align:right;\">Sources: <span style=\"background-color:#ecf3cf;\">Georg Wilhelm Hegel: Hegel's Lectures on the History of Philosophy: Vol. 2 of 3</span>, <span style=\"background-color:#d8daef;\">Georg Wilhelm Hegel: The History of Philosophy: Volume 3 of 3</span></p></small>"
      ],
      "text/plain": [
       "<IPython.core.display.HTML object>"
      ]
     },
     "metadata": {},
     "output_type": "display_data"
    },
    {
     "name": "stdout",
     "output_type": "stream",
     "text": [
      "--------temperature: 1.05 ---------\n"
     ]
    },
    {
     "data": {
      "text/html": [
       " [70]<span style=\"background-color:#d8daef;\"> the eternal a</span><span style=\"background-color:#d8daef;\">ppearance of the</span><span style=\"background-color:#d4efdf;\"><br>representations of it</span><span style=\"background-color:#eadbd8;\">s causality, t</span><span style=\"background-color:#d8daef;\">aken as natura</span>ous<span style=\"background-color:#ecf3cf;\"> mind, not </span><span style=\"background-color:#d8daef;\">by the whole </span>sense,<br><span style=\"background-color:#d6dbdf;\">active. The </span><span style=\"background-color:#eadbd8;\">conception does not sa</span>y<span style=\"background-color:#d8daef;\"> that Philosophy<br></span><span style=\"background-color:#d8daef;\">are thought, and </span><span style=\"background-color:#d8daef;\">consequently s</span><span style=\"background-color:#d8daef;\"> to sensuous</span><span style=\"background-color:#e5e8e8;\">, or if they th</span><span style=\"background-color:#ecf3cf;\">ought as<br>s</span><span style=\"background-color:#d8daef;\">atisfaction co</span><span style=\"background-color:#edebd0;\">nceivable, </span><span style=\"background-color:#ecf3cf;\">and that they are </span><span style=\"background-color:#d8daef;\">universal<br>l</span><span style=\"background-color:#ecf3cf;\">ikewise; for i</span>t can"
      ],
      "text/plain": [
       "<IPython.core.display.HTML object>"
      ]
     },
     "metadata": {},
     "output_type": "display_data"
    },
    {
     "data": {
      "text/html": [
       "<small><p style=\"text-align:right;\">Sources: <span style=\"background-color:#d8daef;\">Georg Wilhelm Hegel: The History of Philosophy: Volume 3 of 3</span>, <span style=\"background-color:#d4efdf;\">Georg Wilhelm Hegel: Hegel's Lectures on the History of Philosophy: Vol. 1 of 3</span>, <span style=\"background-color:#eadbd8;\">Immanuel Kant: The Critique of Pure Reason</span>, <span style=\"background-color:#ecf3cf;\">Georg Wilhelm Hegel: Hegel's Lectures on the History of Philosophy: Vol. 2 of 3</span>, <span style=\"background-color:#d6dbdf;\">Friedrich Nietzsche: Thoughts Out of Season, Part 2</span>, <span style=\"background-color:#e5e8e8;\">Immanuel Kant: The Critique of Practical Reason</span>, <span style=\"background-color:#edebd0;\">Immanuel Kant: Kant's Prolegomena</span></p></small>"
      ],
      "text/plain": [
       "<IPython.core.display.HTML object>"
      ]
     },
     "metadata": {},
     "output_type": "display_data"
    },
    {
     "name": "stdout",
     "output_type": "stream",
     "text": [
      "--------temperature: 1.1 ---------\n"
     ]
    },
    {
     "data": {
      "text/html": [
       " ULD AGHTORMEFF periodst<span style=\"background-color:#e2d7d5;\">eat and dr</span>un<span style=\"background-color:#ecf3cf;\"> out from them</span><span style=\"background-color:#d4e6f1;\">self<br>more </span>in the MAN-hubr<span style=\"background-color:#edebd0;\">na, however, </span><span style=\"background-color:#d8daef;\">who have now </span><span style=\"background-color:#ecf3cf;\">inclined to h</span>is<br>two<span style=\"background-color:#d4efdf;\"> feet of th</span>at Father.E V"
      ],
      "text/plain": [
       "<IPython.core.display.HTML object>"
      ]
     },
     "metadata": {},
     "output_type": "display_data"
    },
    {
     "data": {
      "text/html": [
       "<small><p style=\"text-align:right;\">Sources: <span style=\"background-color:#e2d7d5;\">Friedrich Nietzsche: The Joyful Wisdom</span>, <span style=\"background-color:#ecf3cf;\">Georg Wilhelm Hegel: Hegel's Lectures on the History of Philosophy: Vol. 2 of 3</span>, <span style=\"background-color:#d4e6f1;\">Immanuel Kant: Kant's Critique of Judgement</span>, <span style=\"background-color:#edebd0;\">Immanuel Kant: Kant's Prolegomena</span>, <span style=\"background-color:#d8daef;\">Friedrich Nietzsche: Thoughts out of Season, Part One</span>, <span style=\"background-color:#d4efdf;\">Georg Wilhelm Hegel: Hegel's Lectures on the History of Philosophy: Vol. 1 of 3</span></p></small>"
      ],
      "text/plain": [
       "<IPython.core.display.HTML object>"
      ]
     },
     "metadata": {},
     "output_type": "display_data"
    },
    {
     "name": "stdout",
     "output_type": "stream",
     "text": [
      "-------------------------------------------\n",
      "step 11000: train loss 2.9765, val loss 2.9246, time 0.510 sec/iter\n",
      "Sample: --------temperature: 0.9 ---------\n"
     ]
    },
    {
     "data": {
      "text/html": [
       " Vorwäk der weetigen, virgin<span style=\"background-color:#d8daef;\">, pp. 39,<br></span>173, 93.<br><br>  Wurtes’s _Will_<span style=\"background-color:#d8daef;\">, pp. 109, 1</span><span style=\"background-color:#ecf3cf;\">08, 109.<br><br></span>  Peace; St. Pie"
      ],
      "text/plain": [
       "<IPython.core.display.HTML object>"
      ]
     },
     "metadata": {},
     "output_type": "display_data"
    },
    {
     "data": {
      "text/html": [
       "<small><p style=\"text-align:right;\">Sources: <span style=\"background-color:#d8daef;\">Georg Wilhelm Hegel: The History of Philosophy: Volume 3 of 3</span>, <span style=\"background-color:#ecf3cf;\">Georg Wilhelm Hegel: Hegel's Lectures on the History of Philosophy: Vol. 2 of 3</span></p></small>"
      ],
      "text/plain": [
       "<IPython.core.display.HTML object>"
      ]
     },
     "metadata": {},
     "output_type": "display_data"
    },
    {
     "name": "stdout",
     "output_type": "stream",
     "text": [
      "--------temperature: 0.95 ---------\n"
     ]
    },
    {
     "data": {
      "text/html": [
       " ἀρφαντήσμον<span style=\"background-color:#ecf3cf;\">, &c. Thus it </span><span style=\"background-color:#d8daef;\">must be limited</span><span style=\"background-color:#d0ece7;\"><br>to be found the</span><span style=\"background-color:#ebdef0;\">rewith, so</span><span style=\"background-color:#fdebd0;\"> that the action</span><span style=\"background-color:#ecf3cf;\">s of water </span><span style=\"background-color:#ecf3cf;\">is everything, </span><span style=\"background-color:#d8daef;\">or rather<br></span><span style=\"background-color:#d8daef;\">equal to the t</span>each<span style=\"background-color:#d8daef;\">ing working </span>in<span style=\"background-color:#d6dbdf;\"> a sympathy with</span><span style=\"background-color:#d4efdf;\"><br>fragments </span><span style=\"background-color:#eadbd8;\">successive and </span>wear"
      ],
      "text/plain": [
       "<IPython.core.display.HTML object>"
      ]
     },
     "metadata": {},
     "output_type": "display_data"
    },
    {
     "data": {
      "text/html": [
       "<small><p style=\"text-align:right;\">Sources: <span style=\"background-color:#ecf3cf;\">Georg Wilhelm Hegel: Hegel's Lectures on the History of Philosophy: Vol. 2 of 3</span>, <span style=\"background-color:#d8daef;\">Georg Wilhelm Hegel: The History of Philosophy: Volume 3 of 3</span>, <span style=\"background-color:#d0ece7;\">Friedrich Nietzsche: Early Greek Philosophy & Other Essays</span>, <span style=\"background-color:#ebdef0;\">Friedrich Nietzsche: Beyond Good and Evil</span>, <span style=\"background-color:#fdebd0;\">Immanuel Kant: The Metaphysical Elements of Ethics</span>, <span style=\"background-color:#d8daef;\">Friedrich Nietzsche: Thoughts out of Season, Part One</span>, <span style=\"background-color:#d6dbdf;\">Friedrich Nietzsche: Thoughts Out of Season, Part 2</span>, <span style=\"background-color:#d4efdf;\">Georg Wilhelm Hegel: Hegel's Lectures on the History of Philosophy: Vol. 1 of 3</span>, <span style=\"background-color:#eadbd8;\">Immanuel Kant: The Critique of Pure Reason</span></p></small>"
      ],
      "text/plain": [
       "<IPython.core.display.HTML object>"
      ]
     },
     "metadata": {},
     "output_type": "display_data"
    },
    {
     "name": "stdout",
     "output_type": "stream",
     "text": [
      "--------temperature: 1.0 ---------\n"
     ]
    },
    {
     "data": {
      "text/html": [
       " he g<span style=\"background-color:#d8daef;\">ave created</span>;<span style=\"background-color:#d0ece7;\"> but love </span>of<br>such a<span style=\"background-color:#ebdef0;\">taught us to </span><span style=\"background-color:#eadbd8;\">believe it o</span><span style=\"background-color:#d4efdf;\">rything. I</span>f<span style=\"background-color:#e2d7d5;\"> this have always </span><span style=\"background-color:#fae5d3;\">wish that he </span><span style=\"background-color:#d8daef;\">does not<br>pro</span>of one'<span style=\"background-color:#d0ece7;\">s. We must not </span><span style=\"background-color:#ebdef0;\">hesitation t</span>ell <span style=\"background-color:#d6dbdf;\">me to put </span>for it, vizsets<span style=\"background-color:#eadbd8;\"> one<br>interest</span> upon<span style=\"background-color:#e2d7d5;\"> disease, whe</span><span style=\"background-color:#e2d7d5;\">n meaning </span><span style=\"background-color:#eadbd8;\">propositions are e</span>x"
      ],
      "text/plain": [
       "<IPython.core.display.HTML object>"
      ]
     },
     "metadata": {},
     "output_type": "display_data"
    },
    {
     "data": {
      "text/html": [
       "<small><p style=\"text-align:right;\">Sources: <span style=\"background-color:#d8daef;\">Georg Wilhelm Hegel: The History of Philosophy: Volume 3 of 3</span>, <span style=\"background-color:#d0ece7;\">Friedrich Nietzsche: Early Greek Philosophy & Other Essays</span>, <span style=\"background-color:#ebdef0;\">Friedrich Nietzsche: Beyond Good and Evil</span>, <span style=\"background-color:#eadbd8;\">Friedrich Nietzsche: The Will to Power, Books I and II</span>, <span style=\"background-color:#d4efdf;\">Georg Wilhelm Hegel: Hegel's Lectures on the History of Philosophy: Vol. 1 of 3</span>, <span style=\"background-color:#e2d7d5;\">Friedrich Nietzsche: The Joyful Wisdom</span>, <span style=\"background-color:#fae5d3;\">Friedrich Nietzsche: We Philologists, Volume 8 of 18</span>, <span style=\"background-color:#ebdef0;\">Friedrich Nietzsche: The Will to Power, Books III and IV</span>, <span style=\"background-color:#d6dbdf;\">Friedrich Nietzsche: Thoughts Out of Season, Part 2</span>, <span style=\"background-color:#eadbd8;\">Immanuel Kant: The Critique of Pure Reason</span>, <span style=\"background-color:#e2d7d5;\">Friedrich Nietzsche: Thus Spake Zarathustra</span></p></small>"
      ],
      "text/plain": [
       "<IPython.core.display.HTML object>"
      ]
     },
     "metadata": {},
     "output_type": "display_data"
    },
    {
     "name": "stdout",
     "output_type": "stream",
     "text": [
      "--------temperature: 1.05 ---------\n"
     ]
    },
    {
     "data": {
      "text/html": [
       " λλοχων)<span style=\"background-color:#ecf3cf;\"> of a question </span>is<span style=\"background-color:#d4efdf;\">. “But what </span>is use<span style=\"background-color:#e2d7d5;\">ful, on the<br></span><span style=\"background-color:#eadbd8;\">where shown</span> (τεκα νονηταίν;)<span style=\"background-color:#d8daef;\">, the spirit </span><span style=\"background-color:#d8daef;\">were the c</span>hild<span style=\"background-color:#d4e6e1;\">,<br>nor yet </span>a<span style=\"background-color:#e5e8e8;\"> maxim on </span><span style=\"background-color:#d8daef;\">the simple </span><span style=\"background-color:#d8daef;\">out of the </span>"
      ],
      "text/plain": [
       "<IPython.core.display.HTML object>"
      ]
     },
     "metadata": {},
     "output_type": "display_data"
    },
    {
     "data": {
      "text/html": [
       "<small><p style=\"text-align:right;\">Sources: <span style=\"background-color:#ecf3cf;\">Georg Wilhelm Hegel: Hegel's Lectures on the History of Philosophy: Vol. 2 of 3</span>, <span style=\"background-color:#d4efdf;\">Georg Wilhelm Hegel: Hegel's Lectures on the History of Philosophy: Vol. 1 of 3</span>, <span style=\"background-color:#e2d7d5;\">Friedrich Nietzsche: The Joyful Wisdom</span>, <span style=\"background-color:#eadbd8;\">Immanuel Kant: The Critique of Pure Reason</span>, <span style=\"background-color:#d8daef;\">Georg Wilhelm Hegel: The History of Philosophy: Volume 3 of 3</span>, <span style=\"background-color:#d4e6e1;\">Immanuel Kant: Fundamental Principles of the Metaphysic of Morals</span>, <span style=\"background-color:#e5e8e8;\">Immanuel Kant: The Critique of Practical Reason</span></p></small>"
      ],
      "text/plain": [
       "<IPython.core.display.HTML object>"
      ]
     },
     "metadata": {},
     "output_type": "display_data"
    },
    {
     "name": "stdout",
     "output_type": "stream",
     "text": [
      "--------temperature: 1.1 ---------\n"
     ]
    },
    {
     "data": {
      "text/html": [
       " γύσπάμενόν τέγόμῶς<span style=\"background-color:#edebd0;\">, by the com</span>men<br>mo<span style=\"background-color:#eadbd8;\">late solely </span>of hy: “Ce boignate <span style=\"background-color:#ecf3cf;\">hrough two </span><span style=\"background-color:#d8daef;\">points of<br></span>and thortter,ς<span style=\"background-color:#eadbd8;\">, not only tho</span><span style=\"background-color:#d4efdf;\">ught different </span><span style=\"background-color:#ecf3cf;\">in manifestation<br></span>(θ"
      ],
      "text/plain": [
       "<IPython.core.display.HTML object>"
      ]
     },
     "metadata": {},
     "output_type": "display_data"
    },
    {
     "data": {
      "text/html": [
       "<small><p style=\"text-align:right;\">Sources: <span style=\"background-color:#edebd0;\">Immanuel Kant: Kant's Prolegomena</span>, <span style=\"background-color:#eadbd8;\">Immanuel Kant: The Critique of Pure Reason</span>, <span style=\"background-color:#ecf3cf;\">Georg Wilhelm Hegel: Hegel's Lectures on the History of Philosophy: Vol. 2 of 3</span>, <span style=\"background-color:#d8daef;\">Georg Wilhelm Hegel: The History of Philosophy: Volume 3 of 3</span>, <span style=\"background-color:#d4efdf;\">Georg Wilhelm Hegel: Hegel's Lectures on the History of Philosophy: Vol. 1 of 3</span></p></small>"
      ],
      "text/plain": [
       "<IPython.core.display.HTML object>"
      ]
     },
     "metadata": {},
     "output_type": "display_data"
    },
    {
     "name": "stdout",
     "output_type": "stream",
     "text": [
      "-------------------------------------------\n",
      "step 11250: train loss 2.9279, val loss 2.9180, time 0.504 sec/iter\n",
      "Sample: --------temperature: 0.9 ---------\n"
     ]
    },
    {
     "data": {
      "text/html": [
       " = 63<span style=\"background-color:#d8daef;\">, 27, 28, </span>240, 29, 27, 227, 20-2002, 224, 267; Timæus Gesch. Vol"
      ],
      "text/plain": [
       "<IPython.core.display.HTML object>"
      ]
     },
     "metadata": {},
     "output_type": "display_data"
    },
    {
     "data": {
      "text/html": [
       "<small><p style=\"text-align:right;\">Sources: <span style=\"background-color:#d8daef;\">Georg Wilhelm Hegel: The History of Philosophy: Volume 3 of 3</span></p></small>"
      ],
      "text/plain": [
       "<IPython.core.display.HTML object>"
      ]
     },
     "metadata": {},
     "output_type": "display_data"
    },
    {
     "name": "stdout",
     "output_type": "stream",
     "text": [
      "--------temperature: 0.95 ---------\n"
     ]
    },
    {
     "data": {
      "text/html": [
       " γὰς ἐνέλαλαν)<span style=\"background-color:#d8daef;\">. But because the </span><span style=\"background-color:#d4efdf;\">dialectic operati</span><span style=\"background-color:#edebd0;\">ng<br>what th</span><span style=\"background-color:#eadbd8;\">ought, with which w</span><span style=\"background-color:#ecf3cf;\">hat abrogation</span><span style=\"background-color:#d0ece7;\">, originates </span><span style=\"background-color:#edebd0;\">itself that which is </span>thu<span style=\"background-color:#d4e6e1;\">s of<br>what </span>m<span style=\"background-color:#edebd0;\">y-determin</span><span style=\"background-color:#ecf3cf;\">ations are e</span><span style=\"background-color:#d8daef;\">mpirical met</span>aph<span style=\"background-color:#d6dbdf;\">y further cons</span><span style=\"background-color:#d8daef;\">ideration<br></span><span style=\"background-color:#d8daef;\">examination of the </span>First C"
      ],
      "text/plain": [
       "<IPython.core.display.HTML object>"
      ]
     },
     "metadata": {},
     "output_type": "display_data"
    },
    {
     "data": {
      "text/html": [
       "<small><p style=\"text-align:right;\">Sources: <span style=\"background-color:#d8daef;\">Georg Wilhelm Hegel: The History of Philosophy: Volume 3 of 3</span>, <span style=\"background-color:#d4efdf;\">Georg Wilhelm Hegel: Hegel's Lectures on the History of Philosophy: Vol. 1 of 3</span>, <span style=\"background-color:#edebd0;\">Immanuel Kant: Kant's Prolegomena</span>, <span style=\"background-color:#eadbd8;\">Immanuel Kant: The Critique of Pure Reason</span>, <span style=\"background-color:#ecf3cf;\">Georg Wilhelm Hegel: Hegel's Lectures on the History of Philosophy: Vol. 2 of 3</span>, <span style=\"background-color:#d0ece7;\">Friedrich Nietzsche: Early Greek Philosophy & Other Essays</span>, <span style=\"background-color:#d4e6e1;\">Immanuel Kant: Fundamental Principles of the Metaphysic of Morals</span>, <span style=\"background-color:#d6dbdf;\">Friedrich Nietzsche: Thoughts Out of Season, Part 2</span></p></small>"
      ],
      "text/plain": [
       "<IPython.core.display.HTML object>"
      ]
     },
     "metadata": {},
     "output_type": "display_data"
    },
    {
     "name": "stdout",
     "output_type": "stream",
     "text": [
      "--------temperature: 1.0 ---------\n"
     ]
    },
    {
     "data": {
      "text/html": [
       " καὶ ἠδεξαρμπαττῶττάπετροστι, τάθμέτα ἀμεντι<br>οῦνοἷλλ"
      ],
      "text/plain": [
       "<IPython.core.display.HTML object>"
      ]
     },
     "metadata": {},
     "output_type": "display_data"
    },
    {
     "name": "stdout",
     "output_type": "stream",
     "text": [
      "--------temperature: 1.05 ---------\n"
     ]
    },
    {
     "data": {
      "text/html": [
       " 6<span style=\"background-color:#d4efdf;\">; a great </span><span style=\"background-color:#e2d7d5;\">individuals is </span><span style=\"background-color:#e5e8e8;\">the true end of </span>the<br>mo<span style=\"background-color:#d8daef;\">istance which </span><span style=\"background-color:#eadbd8;\">we pursue this </span>foolis<span style=\"background-color:#ecf3cf;\">h writings</span><span style=\"background-color:#ebdef0;\">.<br><br><br>826.<br><br></span><span style=\"background-color:#ebdef0;\">A criticism</span><span style=\"background-color:#ecf3cf;\">, it was re</span><span style=\"background-color:#d0ece7;\">ally necessary to </span>attempt, for<span style=\"background-color:#d4efdf;\"><br>imagine the </span><span style=\"background-color:#d8daef;\">sense of the p</span><span style=\"background-color:#d8daef;\">ast of the </span><span style=\"background-color:#ebdef0;\">_effects._</span><br><br>Prelicrit<span style=\"background-color:#ebdef0;\">terpretation of the </span>"
      ],
      "text/plain": [
       "<IPython.core.display.HTML object>"
      ]
     },
     "metadata": {},
     "output_type": "display_data"
    },
    {
     "data": {
      "text/html": [
       "<small><p style=\"text-align:right;\">Sources: <span style=\"background-color:#d4efdf;\">Georg Wilhelm Hegel: Hegel's Lectures on the History of Philosophy: Vol. 1 of 3</span>, <span style=\"background-color:#e2d7d5;\">Friedrich Nietzsche: The Joyful Wisdom</span>, <span style=\"background-color:#e5e8e8;\">Immanuel Kant: The Critique of Practical Reason</span>, <span style=\"background-color:#d8daef;\">Georg Wilhelm Hegel: The History of Philosophy: Volume 3 of 3</span>, <span style=\"background-color:#eadbd8;\">Immanuel Kant: The Critique of Pure Reason</span>, <span style=\"background-color:#ecf3cf;\">Georg Wilhelm Hegel: Hegel's Lectures on the History of Philosophy: Vol. 2 of 3</span>, <span style=\"background-color:#ebdef0;\">Friedrich Nietzsche: The Will to Power, Books III and IV</span>, <span style=\"background-color:#d0ece7;\">Friedrich Nietzsche: Early Greek Philosophy & Other Essays</span></p></small>"
      ],
      "text/plain": [
       "<IPython.core.display.HTML object>"
      ]
     },
     "metadata": {},
     "output_type": "display_data"
    },
    {
     "name": "stdout",
     "output_type": "stream",
     "text": [
      "--------temperature: 1.1 ---------\n"
     ]
    },
    {
     "data": {
      "text/html": [
       " ften<span style=\"background-color:#ebdef0;\">ing, perhaps </span>under thtak<span style=\"background-color:#eadbd8;\">e_ should </span><span style=\"background-color:#e2d7d5;\">follow<br>upon</span>taneous ech<span style=\"background-color:#d8daef;\">nic understanding </span>and men<span style=\"background-color:#f6ddcc;\">ind, for their</span> methods<span style=\"background-color:#e2d7d5;\">,<br>is there</span><span style=\"background-color:#d4e6f1;\">forethought o</span><span style=\"background-color:#e5e8e8;\">f this with </span><span style=\"background-color:#d8daef;\">their ends</span><span style=\"background-color:#d6eaf8;\">, Kant and </span><span style=\"background-color:#d8daef;\"> Knowledge is</span><br>_organid<span style=\"background-color:#ebdef0;\">_ the necessity of </span><span style=\"background-color:#eadbd8;\">natural form of </span>fin<span style=\"background-color:#d0ece7;\">al providence </span>of "
      ],
      "text/plain": [
       "<IPython.core.display.HTML object>"
      ]
     },
     "metadata": {},
     "output_type": "display_data"
    },
    {
     "data": {
      "text/html": [
       "<small><p style=\"text-align:right;\">Sources: <span style=\"background-color:#ebdef0;\">Friedrich Nietzsche: Beyond Good and Evil</span>, <span style=\"background-color:#eadbd8;\">Friedrich Nietzsche: The Will to Power, Books I and II</span>, <span style=\"background-color:#e2d7d5;\">Friedrich Nietzsche: The Joyful Wisdom</span>, <span style=\"background-color:#d8daef;\">Friedrich Nietzsche: Thoughts out of Season, Part One</span>, <span style=\"background-color:#f6ddcc;\">Friedrich Nietzsche: Human, All Too Human</span>, <span style=\"background-color:#e2d7d5;\">Friedrich Nietzsche: Thus Spake Zarathustra</span>, <span style=\"background-color:#d4e6f1;\">Immanuel Kant: Kant's Critique of Judgement</span>, <span style=\"background-color:#e5e8e8;\">Immanuel Kant: The Critique of Practical Reason</span>, <span style=\"background-color:#d8daef;\">Georg Wilhelm Hegel: The History of Philosophy: Volume 3 of 3</span>, <span style=\"background-color:#d6eaf8;\">Immanuel Kant: Perpetual Peace</span>, <span style=\"background-color:#ebdef0;\">Friedrich Nietzsche: The Will to Power, Books III and IV</span>, <span style=\"background-color:#d0ece7;\">Friedrich Nietzsche: Early Greek Philosophy & Other Essays</span></p></small>"
      ],
      "text/plain": [
       "<IPython.core.display.HTML object>"
      ]
     },
     "metadata": {},
     "output_type": "display_data"
    },
    {
     "name": "stdout",
     "output_type": "stream",
     "text": [
      "-------------------------------------------\n",
      "step 11500: train loss 2.9121, val loss 2.8722, time 0.504 sec/iter\n",
      "Sample: --------temperature: 0.9 ---------\n"
     ]
    },
    {
     "data": {
      "text/html": [
       " τῷ μρορίν ἔσ ἐνοὐκας<span style=\"background-color:#d8daef;\"> as well as </span>ἐστὸνέργει<span style=\"background-color:#ecf3cf;\">ς)—that is, th</span>ought—<span style=\"background-color:#e2d7d5;\">everything<br>which </span><span style=\"background-color:#ebdef0;\">has been the result of </span><span style=\"background-color:#ebdef0;\">all thinking a</span><span style=\"background-color:#ecf3cf;\">ctivity. F</span><span style=\"background-color:#d8daef;\">urther much </span><span style=\"background-color:#ebdef0;\">that is proved</span><br>th"
      ],
      "text/plain": [
       "<IPython.core.display.HTML object>"
      ]
     },
     "metadata": {},
     "output_type": "display_data"
    },
    {
     "data": {
      "text/html": [
       "<small><p style=\"text-align:right;\">Sources: <span style=\"background-color:#d8daef;\">Georg Wilhelm Hegel: The History of Philosophy: Volume 3 of 3</span>, <span style=\"background-color:#ecf3cf;\">Georg Wilhelm Hegel: Hegel's Lectures on the History of Philosophy: Vol. 2 of 3</span>, <span style=\"background-color:#e2d7d5;\">Friedrich Nietzsche: The Joyful Wisdom</span>, <span style=\"background-color:#ebdef0;\">Friedrich Nietzsche: The Will to Power, Books III and IV</span></p></small>"
      ],
      "text/plain": [
       "<IPython.core.display.HTML object>"
      ]
     },
     "metadata": {},
     "output_type": "display_data"
    },
    {
     "name": "stdout",
     "output_type": "stream",
     "text": [
      "--------temperature: 0.95 ---------\n"
     ]
    },
    {
     "data": {
      "text/html": [
       " Unf<span style=\"background-color:#fae5d3;\">ft where th</span>e consum<br>(4)<span style=\"background-color:#d6dbdf;\"> all answer </span><span style=\"background-color:#eadbd8;\">to the internal sense, th</span><span style=\"background-color:#d8daef;\">e latter can </span>arise (p. 520,<br>erplexilia<span style=\"background-color:#d0ece7;\">nments, ch</span>ap. iv. phil., pp. 40476-4474). He"
      ],
      "text/plain": [
       "<IPython.core.display.HTML object>"
      ]
     },
     "metadata": {},
     "output_type": "display_data"
    },
    {
     "data": {
      "text/html": [
       "<small><p style=\"text-align:right;\">Sources: <span style=\"background-color:#fae5d3;\">Friedrich Nietzsche: We Philologists, Volume 8 of 18</span>, <span style=\"background-color:#d6dbdf;\">Friedrich Nietzsche: Thoughts Out of Season, Part 2</span>, <span style=\"background-color:#eadbd8;\">Immanuel Kant: The Critique of Pure Reason</span>, <span style=\"background-color:#d8daef;\">Georg Wilhelm Hegel: The History of Philosophy: Volume 3 of 3</span>, <span style=\"background-color:#d0ece7;\">Friedrich Nietzsche: Early Greek Philosophy & Other Essays</span></p></small>"
      ],
      "text/plain": [
       "<IPython.core.display.HTML object>"
      ]
     },
     "metadata": {},
     "output_type": "display_data"
    },
    {
     "name": "stdout",
     "output_type": "stream",
     "text": [
      "--------temperature: 1.0 ---------\n"
     ]
    },
    {
     "data": {
      "text/html": [
       "<span style=\"background-color:#edebd0;\"> practically,<br></span><span style=\"background-color:#ebdef0;\">in certain case</span>, <span style=\"background-color:#e2d7d5;\">alas, for </span><span style=\"background-color:#edebd0;\">example, B</span>oth <span style=\"background-color:#ecf3cf;\">are mixed </span><span style=\"background-color:#d8daef;\">with any<br>c</span>o<span style=\"background-color:#d8daef;\">rrangements </span><span style=\"background-color:#d4efdf;\">generally, or </span><span style=\"background-color:#ecf3cf;\">very hetero</span><span style=\"background-color:#ebdef0;\">nomy of the </span><span style=\"background-color:#f6ddcc;\">direction in </span><span style=\"background-color:#e2d7d5;\">the case, and<br>the </span><span style=\"background-color:#edebd0;\">judgments can be</span> pla<span style=\"background-color:#d8daef;\">ced further</span><span style=\"background-color:#d6dbdf;\">light, and ar</span><span style=\"background-color:#eadbd8;\">e possible. This </span><span style=\"background-color:#d8daef;\">is a<br>complete </span>inad<span style=\"background-color:#d4e6e1;\">mixture, without </span>pre"
      ],
      "text/plain": [
       "<IPython.core.display.HTML object>"
      ]
     },
     "metadata": {},
     "output_type": "display_data"
    },
    {
     "data": {
      "text/html": [
       "<small><p style=\"text-align:right;\">Sources: <span style=\"background-color:#edebd0;\">Immanuel Kant: Kant's Prolegomena</span>, <span style=\"background-color:#ebdef0;\">Friedrich Nietzsche: The Will to Power, Books III and IV</span>, <span style=\"background-color:#e2d7d5;\">Friedrich Nietzsche: The Joyful Wisdom</span>, <span style=\"background-color:#ecf3cf;\">Georg Wilhelm Hegel: Hegel's Lectures on the History of Philosophy: Vol. 2 of 3</span>, <span style=\"background-color:#d8daef;\">Friedrich Nietzsche: Thoughts out of Season, Part One</span>, <span style=\"background-color:#d8daef;\">Georg Wilhelm Hegel: The History of Philosophy: Volume 3 of 3</span>, <span style=\"background-color:#d4efdf;\">Georg Wilhelm Hegel: Hegel's Lectures on the History of Philosophy: Vol. 1 of 3</span>, <span style=\"background-color:#f6ddcc;\">Friedrich Nietzsche: Human, All Too Human</span>, <span style=\"background-color:#d6dbdf;\">Friedrich Nietzsche: Thoughts Out of Season, Part 2</span>, <span style=\"background-color:#eadbd8;\">Immanuel Kant: The Critique of Pure Reason</span>, <span style=\"background-color:#d4e6e1;\">Immanuel Kant: Fundamental Principles of the Metaphysic of Morals</span></p></small>"
      ],
      "text/plain": [
       "<IPython.core.display.HTML object>"
      ]
     },
     "metadata": {},
     "output_type": "display_data"
    },
    {
     "name": "stdout",
     "output_type": "stream",
     "text": [
      "--------temperature: 1.05 ---------\n"
     ]
    },
    {
     "data": {
      "text/html": [
       " κα μνός_<span style=\"background-color:#eadbd8;\">); they are </span><span style=\"background-color:#edebd0;\">only to do </span><span style=\"background-color:#e2d7d5;\">us in the following</span> (_ατύν_),<br>μοῦ_<span style=\"background-color:#d4e6f1;\">). But this would</span><span style=\"background-color:#d4e6f1;\"> it is that, </span><span style=\"background-color:#d4e6e1;\">like the So</span>wing<span style=\"background-color:#d0ece7;\"><br>of Anaxagoras, </span><span style=\"background-color:#d8daef;\">but return</span><span style=\"background-color:#ebdef0;\">ed to stand </span>"
      ],
      "text/plain": [
       "<IPython.core.display.HTML object>"
      ]
     },
     "metadata": {},
     "output_type": "display_data"
    },
    {
     "data": {
      "text/html": [
       "<small><p style=\"text-align:right;\">Sources: <span style=\"background-color:#eadbd8;\">Immanuel Kant: The Critique of Pure Reason</span>, <span style=\"background-color:#edebd0;\">Immanuel Kant: Kant's Prolegomena</span>, <span style=\"background-color:#e2d7d5;\">Friedrich Nietzsche: Thus Spake Zarathustra</span>, <span style=\"background-color:#d4e6f1;\">Immanuel Kant: Kant's Critique of Judgement</span>, <span style=\"background-color:#d4e6e1;\">Immanuel Kant: Fundamental Principles of the Metaphysic of Morals</span>, <span style=\"background-color:#d0ece7;\">Friedrich Nietzsche: Early Greek Philosophy & Other Essays</span>, <span style=\"background-color:#d8daef;\">Georg Wilhelm Hegel: The History of Philosophy: Volume 3 of 3</span>, <span style=\"background-color:#ebdef0;\">Friedrich Nietzsche: The Will to Power, Books III and IV</span></p></small>"
      ],
      "text/plain": [
       "<IPython.core.display.HTML object>"
      ]
     },
     "metadata": {},
     "output_type": "display_data"
    },
    {
     "name": "stdout",
     "output_type": "stream",
     "text": [
      "--------temperature: 1.1 ---------\n"
     ]
    },
    {
     "data": {
      "text/html": [
       " ἀνένητου<br>(τὶ οὐτεῖν ἡ β_)<span style=\"background-color:#d8daef;\">.” The unity of </span><span style=\"background-color:#d8daef;\">the separation</span><br>of Medie<span style=\"background-color:#d4efdf;\">. But Mind</span><span style=\"background-color:#d8daef;\"> thus be show</span><span style=\"background-color:#ebdef0;\">med because </span>our<span style=\"background-color:#ecf3cf;\"> pure Being</span>;<span style=\"background-color:#d4efdf;\"><br>a more de</span>ep<span style=\"background-color:#ecf3cf;\">, that everything </span>"
      ],
      "text/plain": [
       "<IPython.core.display.HTML object>"
      ]
     },
     "metadata": {},
     "output_type": "display_data"
    },
    {
     "data": {
      "text/html": [
       "<small><p style=\"text-align:right;\">Sources: <span style=\"background-color:#d8daef;\">Georg Wilhelm Hegel: The History of Philosophy: Volume 3 of 3</span>, <span style=\"background-color:#d4efdf;\">Georg Wilhelm Hegel: Hegel's Lectures on the History of Philosophy: Vol. 1 of 3</span>, <span style=\"background-color:#ebdef0;\">Friedrich Nietzsche: The Will to Power, Books III and IV</span>, <span style=\"background-color:#ecf3cf;\">Georg Wilhelm Hegel: Hegel's Lectures on the History of Philosophy: Vol. 2 of 3</span></p></small>"
      ],
      "text/plain": [
       "<IPython.core.display.HTML object>"
      ]
     },
     "metadata": {},
     "output_type": "display_data"
    },
    {
     "name": "stdout",
     "output_type": "stream",
     "text": [
      "-------------------------------------------\n",
      "step 11750: train loss 2.8334, val loss 2.8203, time 0.503 sec/iter\n",
      "Sample: --------temperature: 0.9 ---------\n"
     ]
    },
    {
     "data": {
      "text/html": [
       " 70] On the<span style=\"background-color:#d4efdf;\"> With the Gre</span>at Britten Wamuern in Walle<span style=\"background-color:#d8daef;\">r to Wagner</span>; he wuiseus and<br><span style=\"background-color:#ecf3cf;\">of Augustus, </span>Saspza, and dolaxon[38]<span style=\"background-color:#d8daef;\"> more recent </span>"
      ],
      "text/plain": [
       "<IPython.core.display.HTML object>"
      ]
     },
     "metadata": {},
     "output_type": "display_data"
    },
    {
     "data": {
      "text/html": [
       "<small><p style=\"text-align:right;\">Sources: <span style=\"background-color:#d4efdf;\">Georg Wilhelm Hegel: Hegel's Lectures on the History of Philosophy: Vol. 1 of 3</span>, <span style=\"background-color:#d8daef;\">Friedrich Nietzsche: Thoughts out of Season, Part One</span>, <span style=\"background-color:#ecf3cf;\">Georg Wilhelm Hegel: Hegel's Lectures on the History of Philosophy: Vol. 2 of 3</span>, <span style=\"background-color:#d8daef;\">Georg Wilhelm Hegel: The History of Philosophy: Volume 3 of 3</span></p></small>"
      ],
      "text/plain": [
       "<IPython.core.display.HTML object>"
      ]
     },
     "metadata": {},
     "output_type": "display_data"
    },
    {
     "name": "stdout",
     "output_type": "stream",
     "text": [
      "--------temperature: 0.95 ---------\n"
     ]
    },
    {
     "data": {
      "text/html": [
       " 69, 290; Operums de ider<span style=\"background-color:#eadbd8;\">ition over</span><span style=\"background-color:#d8daef;\"> the<br>divin</span>y. JEdition, VEssan.<unk><unk><unk><unk><unk><unk><unk><unk><unk><unk><unk><unk><unk><unk><unk><unk><unk><unk><unk><unk><unk><unk><unk><unk>"
      ],
      "text/plain": [
       "<IPython.core.display.HTML object>"
      ]
     },
     "metadata": {},
     "output_type": "display_data"
    },
    {
     "data": {
      "text/html": [
       "<small><p style=\"text-align:right;\">Sources: <span style=\"background-color:#eadbd8;\">Friedrich Nietzsche: The Will to Power, Books I and II</span>, <span style=\"background-color:#d8daef;\">Georg Wilhelm Hegel: The History of Philosophy: Volume 3 of 3</span></p></small>"
      ],
      "text/plain": [
       "<IPython.core.display.HTML object>"
      ]
     },
     "metadata": {},
     "output_type": "display_data"
    },
    {
     "name": "stdout",
     "output_type": "stream",
     "text": [
      "--------temperature: 1.0 ---------\n"
     ]
    },
    {
     "data": {
      "text/html": [
       " πρεωρος<span style=\"background-color:#ecf3cf;\">, in so far as it is a</span><span style=\"background-color:#ebdef0;\">ffected.<br><br></span>β<span style=\"background-color:#d8daef;\">. These are the two a</span><span style=\"background-color:#d4e6f1;\">xion between the c</span><span style=\"background-color:#d8daef;\">onceptions contain</span><span style=\"background-color:#ebdef0;\"> a philosophical<br></span><span style=\"background-color:#e5e8e8;\">reason has nothing </span>in<span style=\"background-color:#ecf3cf;\"> change; the</span>y<span style=\"background-color:#eadbd8;\"> gives reality to </span><span style=\"background-color:#d8daef;\">the conception of a<br></span>to I<span style=\"background-color:#eadbd8;\"> form an a</span><span style=\"background-color:#d8daef;\">lteration in </span><span style=\"background-color:#d0ece7;\">a metaphysical c</span><span style=\"background-color:#ebdef0;\">onsideration which </span><span style=\"background-color:#ebdef0;\">predicate conception</span>.<br>Be"
      ],
      "text/plain": [
       "<IPython.core.display.HTML object>"
      ]
     },
     "metadata": {},
     "output_type": "display_data"
    },
    {
     "data": {
      "text/html": [
       "<small><p style=\"text-align:right;\">Sources: <span style=\"background-color:#ecf3cf;\">Georg Wilhelm Hegel: Hegel's Lectures on the History of Philosophy: Vol. 2 of 3</span>, <span style=\"background-color:#ebdef0;\">Friedrich Nietzsche: The Will to Power, Books III and IV</span>, <span style=\"background-color:#d8daef;\">Georg Wilhelm Hegel: The History of Philosophy: Volume 3 of 3</span>, <span style=\"background-color:#d4e6f1;\">Immanuel Kant: Kant's Critique of Judgement</span>, <span style=\"background-color:#e5e8e8;\">Immanuel Kant: The Critique of Practical Reason</span>, <span style=\"background-color:#eadbd8;\">Immanuel Kant: The Critique of Pure Reason</span>, <span style=\"background-color:#d0ece7;\">Friedrich Nietzsche: Early Greek Philosophy & Other Essays</span>, <span style=\"background-color:#ebdef0;\">Friedrich Nietzsche: Beyond Good and Evil</span></p></small>"
      ],
      "text/plain": [
       "<IPython.core.display.HTML object>"
      ]
     },
     "metadata": {},
     "output_type": "display_data"
    },
    {
     "name": "stdout",
     "output_type": "stream",
     "text": [
      "--------temperature: 1.05 ---------\n"
     ]
    },
    {
     "data": {
      "text/html": [
       " καιθον οἷούν ὃ κυ ποθεῖστι κόν τοἷον, c. 2, ἀροτι διούν"
      ],
      "text/plain": [
       "<IPython.core.display.HTML object>"
      ]
     },
     "metadata": {},
     "output_type": "display_data"
    },
    {
     "name": "stdout",
     "output_type": "stream",
     "text": [
      "--------temperature: 1.1 ---------\n"
     ]
    },
    {
     "data": {
      "text/html": [
       " [39] grethink No<span style=\"background-color:#ebdef0;\">minary sta</span><span style=\"background-color:#d8daef;\">te, it is true, </span><span style=\"background-color:#eadbd8;\">be<br>just as c</span><span style=\"background-color:#fae5d3;\">ertain and f</span>or<span style=\"background-color:#eadbd8;\"> all transf</span><span style=\"background-color:#ecf3cf;\">erence such as </span><span style=\"background-color:#eadbd8;\">is necessary r</span><span style=\"background-color:#ecf3cf;\">elate them t</span><span style=\"background-color:#d8daef;\">o the<br>matter </span><span style=\"background-color:#d8daef;\">of Schelling, I</span>sol<span style=\"background-color:#edebd0;\">deictical.</span> But we<br>if<span style=\"background-color:#ecf3cf;\"> both very </span>quiescridicarying, a alference "
      ],
      "text/plain": [
       "<IPython.core.display.HTML object>"
      ]
     },
     "metadata": {},
     "output_type": "display_data"
    },
    {
     "data": {
      "text/html": [
       "<small><p style=\"text-align:right;\">Sources: <span style=\"background-color:#ebdef0;\">Friedrich Nietzsche: The Will to Power, Books III and IV</span>, <span style=\"background-color:#d8daef;\">Georg Wilhelm Hegel: The History of Philosophy: Volume 3 of 3</span>, <span style=\"background-color:#eadbd8;\">Immanuel Kant: The Critique of Pure Reason</span>, <span style=\"background-color:#fae5d3;\">Friedrich Nietzsche: We Philologists, Volume 8 of 18</span>, <span style=\"background-color:#eadbd8;\">Friedrich Nietzsche: The Will to Power, Books I and II</span>, <span style=\"background-color:#ecf3cf;\">Georg Wilhelm Hegel: Hegel's Lectures on the History of Philosophy: Vol. 2 of 3</span>, <span style=\"background-color:#edebd0;\">Immanuel Kant: Kant's Prolegomena</span></p></small>"
      ],
      "text/plain": [
       "<IPython.core.display.HTML object>"
      ]
     },
     "metadata": {},
     "output_type": "display_data"
    },
    {
     "name": "stdout",
     "output_type": "stream",
     "text": [
      "-------------------------------------------\n",
      "step 12000: train loss 2.8222, val loss 2.8131, time 0.503 sec/iter\n",
      "Sample: --------temperature: 0.9 ---------\n"
     ]
    },
    {
     "data": {
      "text/html": [
       " γοινκανοῦς)<span style=\"background-color:#edebd0;\"> is actual a</span>spect<br>(δῶσοναιμη)<span style=\"background-color:#d4e6f1;\"> or their m</span><span style=\"background-color:#ecf3cf;\">ovement was con</span><span style=\"background-color:#d8daef;\">tained the moment</span><span style=\"background-color:#d4e6f1;\">ioned and<br></span><span style=\"background-color:#d8daef;\">principle (</span>ἐνεργειν<span style=\"background-color:#d4efdf;\">_); and this </span>tr"
      ],
      "text/plain": [
       "<IPython.core.display.HTML object>"
      ]
     },
     "metadata": {},
     "output_type": "display_data"
    },
    {
     "data": {
      "text/html": [
       "<small><p style=\"text-align:right;\">Sources: <span style=\"background-color:#edebd0;\">Immanuel Kant: Kant's Prolegomena</span>, <span style=\"background-color:#d4e6f1;\">Immanuel Kant: Kant's Critique of Judgement</span>, <span style=\"background-color:#ecf3cf;\">Georg Wilhelm Hegel: Hegel's Lectures on the History of Philosophy: Vol. 2 of 3</span>, <span style=\"background-color:#d8daef;\">Georg Wilhelm Hegel: The History of Philosophy: Volume 3 of 3</span>, <span style=\"background-color:#d4efdf;\">Georg Wilhelm Hegel: Hegel's Lectures on the History of Philosophy: Vol. 1 of 3</span></p></small>"
      ],
      "text/plain": [
       "<IPython.core.display.HTML object>"
      ]
     },
     "metadata": {},
     "output_type": "display_data"
    },
    {
     "name": "stdout",
     "output_type": "stream",
     "text": [
      "--------temperature: 0.95 ---------\n"
     ]
    },
    {
     "data": {
      "text/html": [
       " 75<span style=\"background-color:#d8daef;\">5;<br>    natural </span><span style=\"background-color:#e2d7d5;\">as well as I</span>II. 498;<span style=\"background-color:#d8daef;\"> II. 69;<br>    </span>a<span style=\"background-color:#d8daef;\">s idea of the </span><span style=\"background-color:#eadbd8;\">forms relati</span><span style=\"background-color:#d8daef;\">on, III. 1</span>03, 241<span style=\"background-color:#d8daef;\">;<br>    politic</span>, III. 50.<br><br>  Occama Sarcu<span style=\"background-color:#d8daef;\">s, I. 105, 1</span>55, 15"
      ],
      "text/plain": [
       "<IPython.core.display.HTML object>"
      ]
     },
     "metadata": {},
     "output_type": "display_data"
    },
    {
     "data": {
      "text/html": [
       "<small><p style=\"text-align:right;\">Sources: <span style=\"background-color:#d8daef;\">Georg Wilhelm Hegel: The History of Philosophy: Volume 3 of 3</span>, <span style=\"background-color:#e2d7d5;\">Friedrich Nietzsche: Thus Spake Zarathustra</span>, <span style=\"background-color:#eadbd8;\">Friedrich Nietzsche: The Will to Power, Books I and II</span></p></small>"
      ],
      "text/plain": [
       "<IPython.core.display.HTML object>"
      ]
     },
     "metadata": {},
     "output_type": "display_data"
    },
    {
     "name": "stdout",
     "output_type": "stream",
     "text": [
      "--------temperature: 1.0 ---------\n"
     ]
    },
    {
     "data": {
      "text/html": [
       " V<span style=\"background-color:#d8daef;\">and not the </span>Law<span style=\"background-color:#e2d7d5;\"> of Spinoza<br></span>f<span style=\"background-color:#eadbd8;\">inal representat</span><span style=\"background-color:#ebdef0;\">hilosopher-</span><span style=\"background-color:#d4efdf;\">established a f</span><span style=\"background-color:#eadbd8;\">aculty of thought. </span>In<br>even w<span style=\"background-color:#d8daef;\">his inflexi</span><span style=\"background-color:#ecf3cf;\">ng reference to </span><span style=\"background-color:#edebd0;\">which all pe</span>culi<span style=\"background-color:#d8daef;\">ar knowledge</span><span style=\"background-color:#d0ece7;\"><br>Existence is </span><span style=\"background-color:#eadbd8;\">itself cogni</span><span style=\"background-color:#d8daef;\">tion; and </span><span style=\"background-color:#eadbd8;\">by this reason</span><span style=\"background-color:#d8daef;\"> is only this,<br>th</span><span style=\"background-color:#d4e6f1;\">ough such a m</span><span style=\"background-color:#d8daef;\">ind perceive</span>d is "
      ],
      "text/plain": [
       "<IPython.core.display.HTML object>"
      ]
     },
     "metadata": {},
     "output_type": "display_data"
    },
    {
     "data": {
      "text/html": [
       "<small><p style=\"text-align:right;\">Sources: <span style=\"background-color:#d8daef;\">Georg Wilhelm Hegel: The History of Philosophy: Volume 3 of 3</span>, <span style=\"background-color:#e2d7d5;\">Friedrich Nietzsche: The Joyful Wisdom</span>, <span style=\"background-color:#eadbd8;\">Immanuel Kant: The Critique of Pure Reason</span>, <span style=\"background-color:#ebdef0;\">Friedrich Nietzsche: The Will to Power, Books III and IV</span>, <span style=\"background-color:#d4efdf;\">Georg Wilhelm Hegel: Hegel's Lectures on the History of Philosophy: Vol. 1 of 3</span>, <span style=\"background-color:#ecf3cf;\">Georg Wilhelm Hegel: Hegel's Lectures on the History of Philosophy: Vol. 2 of 3</span>, <span style=\"background-color:#edebd0;\">Immanuel Kant: Kant's Prolegomena</span>, <span style=\"background-color:#d0ece7;\">Friedrich Nietzsche: Early Greek Philosophy & Other Essays</span>, <span style=\"background-color:#d4e6f1;\">Immanuel Kant: Kant's Critique of Judgement</span></p></small>"
      ],
      "text/plain": [
       "<IPython.core.display.HTML object>"
      ]
     },
     "metadata": {},
     "output_type": "display_data"
    },
    {
     "name": "stdout",
     "output_type": "stream",
     "text": [
      "--------temperature: 1.05 ---------\n"
     ]
    },
    {
     "data": {
      "text/html": [
       " J INTOMY<span style=\"background-color:#d4e6f1;\"><br><br><br>§ 19. _</span><span style=\"background-color:#d4e6f1;\">Of the objective purposiveness of </span><span style=\"background-color:#d4e6f1;\">Teleology_<br><br></span><span style=\"background-color:#d4e6f1;\">Of the relative, </span><span style=\"background-color:#d4e6e1;\">we assume our</span><span style=\"background-color:#d8daef;\"> Beings which</span>, tongs sou<span style=\"background-color:#ecf3cf;\">nd unsatisfactor</span>ily<span style=\"background-color:#d8daef;\"><br>Adaptation to </span>sentel to us:_<span style=\"background-color:#ecf3cf;\"> and smell</span>ing "
      ],
      "text/plain": [
       "<IPython.core.display.HTML object>"
      ]
     },
     "metadata": {},
     "output_type": "display_data"
    },
    {
     "data": {
      "text/html": [
       "<small><p style=\"text-align:right;\">Sources: <span style=\"background-color:#d4e6f1;\">Immanuel Kant: Kant's Critique of Judgement</span>, <span style=\"background-color:#d4e6e1;\">Immanuel Kant: Fundamental Principles of the Metaphysic of Morals</span>, <span style=\"background-color:#d8daef;\">Georg Wilhelm Hegel: The History of Philosophy: Volume 3 of 3</span>, <span style=\"background-color:#ecf3cf;\">Georg Wilhelm Hegel: Hegel's Lectures on the History of Philosophy: Vol. 2 of 3</span></p></small>"
      ],
      "text/plain": [
       "<IPython.core.display.HTML object>"
      ]
     },
     "metadata": {},
     "output_type": "display_data"
    },
    {
     "name": "stdout",
     "output_type": "stream",
     "text": [
      "--------temperature: 1.1 ---------\n"
     ]
    },
    {
     "data": {
      "text/html": [
       " σθοει<span style=\"background-color:#eadbd8;\"> to become p</span>ure, sjealously, fin<span style=\"background-color:#edebd0;\">e<br>observations</span><span style=\"background-color:#d8daef;\">, Nature i</span>s limi<span style=\"background-color:#d6dbdf;\">tate in their </span>contrah<span style=\"background-color:#eadbd8;\">t qualified</span>, li<span style=\"background-color:#ecf3cf;\">fell in with the </span>value<span style=\"background-color:#d4efdf;\">s in<br>unity </span><span style=\"background-color:#d8daef;\">cannot be allowed, </span>b<span style=\"background-color:#ecf3cf;\">ut when, a</span><span style=\"background-color:#d8daef;\">lthough from </span><span style=\"background-color:#d0ece7;\">nothing is<br>d</span>esignoble. Self-ign<span style=\"background-color:#d8daef;\"> only immediately </span>"
      ],
      "text/plain": [
       "<IPython.core.display.HTML object>"
      ]
     },
     "metadata": {},
     "output_type": "display_data"
    },
    {
     "data": {
      "text/html": [
       "<small><p style=\"text-align:right;\">Sources: <span style=\"background-color:#eadbd8;\">Immanuel Kant: The Critique of Pure Reason</span>, <span style=\"background-color:#edebd0;\">Immanuel Kant: Kant's Prolegomena</span>, <span style=\"background-color:#d8daef;\">Georg Wilhelm Hegel: The History of Philosophy: Volume 3 of 3</span>, <span style=\"background-color:#d6dbdf;\">Friedrich Nietzsche: Thoughts Out of Season, Part 2</span>, <span style=\"background-color:#eadbd8;\">Friedrich Nietzsche: The Will to Power, Books I and II</span>, <span style=\"background-color:#ecf3cf;\">Georg Wilhelm Hegel: Hegel's Lectures on the History of Philosophy: Vol. 2 of 3</span>, <span style=\"background-color:#d4efdf;\">Georg Wilhelm Hegel: Hegel's Lectures on the History of Philosophy: Vol. 1 of 3</span>, <span style=\"background-color:#d0ece7;\">Friedrich Nietzsche: Early Greek Philosophy & Other Essays</span></p></small>"
      ],
      "text/plain": [
       "<IPython.core.display.HTML object>"
      ]
     },
     "metadata": {},
     "output_type": "display_data"
    },
    {
     "name": "stdout",
     "output_type": "stream",
     "text": [
      "-------------------------------------------\n",
      "step 12250: train loss 2.7483, val loss 2.7898, time 0.508 sec/iter\n",
      "Sample: --------temperature: 0.9 ---------\n"
     ]
    },
    {
     "data": {
      "text/html": [
       " τὸ ὑποὐτάσθ ει)<span style=\"background-color:#eadbd8;\"> proved its </span>culpt. Men orie<span style=\"background-color:#edebd0;\">nds should </span><span style=\"background-color:#eadbd8;\">not have<br>a</span><span style=\"background-color:#e5e8e8;\">ged to make </span><span style=\"background-color:#e2d7d5;\">the advantage of </span>fig<span style=\"background-color:#eadbd8;\">; it can only </span>emerge,’est<br>of anti<span style=\"background-color:#d6eaf8;\">um philosophic</span><span style=\"background-color:#ebdef0;\">ally, in s</span><span style=\"background-color:#d4efdf;\">ize this th</span>ts of "
      ],
      "text/plain": [
       "<IPython.core.display.HTML object>"
      ]
     },
     "metadata": {},
     "output_type": "display_data"
    },
    {
     "data": {
      "text/html": [
       "<small><p style=\"text-align:right;\">Sources: <span style=\"background-color:#eadbd8;\">Friedrich Nietzsche: The Will to Power, Books I and II</span>, <span style=\"background-color:#edebd0;\">Immanuel Kant: Kant's Prolegomena</span>, <span style=\"background-color:#e5e8e8;\">Immanuel Kant: The Critique of Practical Reason</span>, <span style=\"background-color:#e2d7d5;\">Friedrich Nietzsche: The Joyful Wisdom</span>, <span style=\"background-color:#d6eaf8;\">Immanuel Kant: Perpetual Peace</span>, <span style=\"background-color:#ebdef0;\">Friedrich Nietzsche: Beyond Good and Evil</span>, <span style=\"background-color:#d4efdf;\">Georg Wilhelm Hegel: Hegel's Lectures on the History of Philosophy: Vol. 1 of 3</span></p></small>"
      ],
      "text/plain": [
       "<IPython.core.display.HTML object>"
      ]
     },
     "metadata": {},
     "output_type": "display_data"
    },
    {
     "name": "stdout",
     "output_type": "stream",
     "text": [
      "--------temperature: 0.95 ---------\n"
     ]
    },
    {
     "data": {
      "text/html": [
       " νοῦς νούμῷ)<span style=\"background-color:#d8daef;\"> and in ac</span><span style=\"background-color:#d8daef;\">tuality,<br>and </span><span style=\"background-color:#d4efdf;\">Parmenides h</span><span style=\"background-color:#d8daef;\">e made by </span>w<span style=\"background-color:#eadbd8;\">hat some s</span>pecial myths start?<span style=\"background-color:#ebdef0;\"><br>Our first p</span><span style=\"background-color:#eadbd8;\">ity of Fre</span><span style=\"background-color:#d8daef;\">nch philosophic </span><span style=\"background-color:#e2d7d5;\">fashion, we </span><span style=\"background-color:#d8daef;\">yet another </span>_De u<span style=\"background-color:#eadbd8;\">n existence,_</span>"
      ],
      "text/plain": [
       "<IPython.core.display.HTML object>"
      ]
     },
     "metadata": {},
     "output_type": "display_data"
    },
    {
     "data": {
      "text/html": [
       "<small><p style=\"text-align:right;\">Sources: <span style=\"background-color:#d8daef;\">Georg Wilhelm Hegel: The History of Philosophy: Volume 3 of 3</span>, <span style=\"background-color:#d4efdf;\">Georg Wilhelm Hegel: Hegel's Lectures on the History of Philosophy: Vol. 1 of 3</span>, <span style=\"background-color:#eadbd8;\">Friedrich Nietzsche: The Will to Power, Books I and II</span>, <span style=\"background-color:#ebdef0;\">Friedrich Nietzsche: The Will to Power, Books III and IV</span>, <span style=\"background-color:#eadbd8;\">Immanuel Kant: The Critique of Pure Reason</span>, <span style=\"background-color:#e2d7d5;\">Friedrich Nietzsche: The Joyful Wisdom</span></p></small>"
      ],
      "text/plain": [
       "<IPython.core.display.HTML object>"
      ]
     },
     "metadata": {},
     "output_type": "display_data"
    },
    {
     "name": "stdout",
     "output_type": "stream",
     "text": [
      "--------temperature: 1.0 ---------\n"
     ]
    },
    {
     "data": {
      "text/html": [
       " _ \"ifblessed\" in noon our us; \"<span style=\"background-color:#d6dbdf;\">as the fai</span><span style=\"background-color:#eadbd8;\">th virtue<br></span>reroit<span style=\"background-color:#eadbd8;\">, will to </span>b<span style=\"background-color:#ebdef0;\">e masterly </span>amiragic hope.<br><br><br>5<span style=\"background-color:#e2d7d5;\">68.<br><br>_What </span>Idealism<span style=\"background-color:#eadbd8;\">s._--The c</span>y<span style=\"background-color:#eadbd8;\">pe of our </span><span style=\"background-color:#eadbd8;\">virtue are not </span><span style=\"background-color:#eadbd8;\">things it has</span><span style=\"background-color:#d8daef;\"><br>because o</span>"
      ],
      "text/plain": [
       "<IPython.core.display.HTML object>"
      ]
     },
     "metadata": {},
     "output_type": "display_data"
    },
    {
     "data": {
      "text/html": [
       "<small><p style=\"text-align:right;\">Sources: <span style=\"background-color:#d6dbdf;\">Friedrich Nietzsche: Thoughts Out of Season, Part 2</span>, <span style=\"background-color:#eadbd8;\">Friedrich Nietzsche: The Will to Power, Books I and II</span>, <span style=\"background-color:#ebdef0;\">Friedrich Nietzsche: The Will to Power, Books III and IV</span>, <span style=\"background-color:#e2d7d5;\">Friedrich Nietzsche: The Joyful Wisdom</span>, <span style=\"background-color:#eadbd8;\">Immanuel Kant: The Critique of Pure Reason</span>, <span style=\"background-color:#d8daef;\">Georg Wilhelm Hegel: The History of Philosophy: Volume 3 of 3</span></p></small>"
      ],
      "text/plain": [
       "<IPython.core.display.HTML object>"
      ]
     },
     "metadata": {},
     "output_type": "display_data"
    },
    {
     "name": "stdout",
     "output_type": "stream",
     "text": [
      "--------temperature: 1.05 ---------\n"
     ]
    },
    {
     "data": {
      "text/html": [
       " <span style=\"background-color:#d6eaf8;\">8;<br>    to </span><span style=\"background-color:#e5e8e8;\">subject to an in</span>finite <span style=\"background-color:#edebd0;\">dealism is of</span><span style=\"background-color:#d8daef;\"><br>according to </span><span style=\"background-color:#d8daef;\">Nature in her p</span>ea<span style=\"background-color:#eadbd8;\">ce—we have </span><span style=\"background-color:#e2d7d5;\">commences, </span><span style=\"background-color:#d6dbdf;\">but for a </span>full det<span style=\"background-color:#d8daef;\">rote<br>with </span><span style=\"background-color:#d8daef;\">regard to them</span>inent, housefu<span style=\"background-color:#e2d7d5;\">l distress</span><span style=\"background-color:#eadbd8;\">.<br><br>The reader</span><span style=\"background-color:#fdebd0;\">. It is le</span>s<span style=\"background-color:#d6eaf8;\">s military </span><span style=\"background-color:#d6dbdf;\">men and gra</span><span style=\"background-color:#ebdef0;\">ces for the </span>rivers "
      ],
      "text/plain": [
       "<IPython.core.display.HTML object>"
      ]
     },
     "metadata": {},
     "output_type": "display_data"
    },
    {
     "data": {
      "text/html": [
       "<small><p style=\"text-align:right;\">Sources: <span style=\"background-color:#d6eaf8;\">Immanuel Kant: Perpetual Peace</span>, <span style=\"background-color:#e5e8e8;\">Immanuel Kant: The Critique of Practical Reason</span>, <span style=\"background-color:#edebd0;\">Immanuel Kant: Kant's Prolegomena</span>, <span style=\"background-color:#d8daef;\">Georg Wilhelm Hegel: The History of Philosophy: Volume 3 of 3</span>, <span style=\"background-color:#eadbd8;\">Immanuel Kant: The Critique of Pure Reason</span>, <span style=\"background-color:#e2d7d5;\">Friedrich Nietzsche: The Joyful Wisdom</span>, <span style=\"background-color:#d6dbdf;\">Friedrich Nietzsche: Thoughts Out of Season, Part 2</span>, <span style=\"background-color:#fdebd0;\">Immanuel Kant: The Metaphysical Elements of Ethics</span>, <span style=\"background-color:#ebdef0;\">Friedrich Nietzsche: The Will to Power, Books III and IV</span></p></small>"
      ],
      "text/plain": [
       "<IPython.core.display.HTML object>"
      ]
     },
     "metadata": {},
     "output_type": "display_data"
    },
    {
     "name": "stdout",
     "output_type": "stream",
     "text": [
      "--------temperature: 1.1 ---------\n"
     ]
    },
    {
     "data": {
      "text/html": [
       " λλοχερμί ἔκατηψιν, τὰ τἆνοῦ 2, p.) is made y-lik<span style=\"background-color:#d8daef;\">e<br>changes </span>(\"Earth), νό<span style=\"background-color:#ecf3cf;\">x and thirti</span>ve outation, "
      ],
      "text/plain": [
       "<IPython.core.display.HTML object>"
      ]
     },
     "metadata": {},
     "output_type": "display_data"
    },
    {
     "data": {
      "text/html": [
       "<small><p style=\"text-align:right;\">Sources: <span style=\"background-color:#d8daef;\">Georg Wilhelm Hegel: The History of Philosophy: Volume 3 of 3</span>, <span style=\"background-color:#ecf3cf;\">Georg Wilhelm Hegel: Hegel's Lectures on the History of Philosophy: Vol. 2 of 3</span></p></small>"
      ],
      "text/plain": [
       "<IPython.core.display.HTML object>"
      ]
     },
     "metadata": {},
     "output_type": "display_data"
    },
    {
     "name": "stdout",
     "output_type": "stream",
     "text": [
      "-------------------------------------------\n",
      "step 12500: train loss 2.7358, val loss 2.7697, time 0.509 sec/iter\n",
      "Sample: --------temperature: 0.9 ---------\n"
     ]
    },
    {
     "data": {
      "text/html": [
       " 55}<span style=\"background-color:#d0ece7;\"> All those </span><span style=\"background-color:#ecf3cf;\">who are con</span>founde<span style=\"background-color:#d8daef;\">d<br>attain to </span><span style=\"background-color:#edebd0;\">the concept of cause, </span><span style=\"background-color:#d6dbdf;\">he who see</span>k<span style=\"background-color:#d8daef;\"> he makes in</span><span style=\"background-color:#ebdef0;\">stinctively t</span>o<span style=\"background-color:#e2d7d5;\"> pleasing a</span><span style=\"background-color:#d4e6e1;\">t<br>the purposes </span>and tho<span style=\"background-color:#d4e6f1;\">r. On the other hand, </span><span style=\"background-color:#edebd0;\">an expect </span>a _<span style=\"background-color:#d8daef;\">whole<br>cont</span>empldumqu<span style=\"background-color:#d0ece7;\">e_ which has </span>been born-falling fu"
      ],
      "text/plain": [
       "<IPython.core.display.HTML object>"
      ]
     },
     "metadata": {},
     "output_type": "display_data"
    },
    {
     "data": {
      "text/html": [
       "<small><p style=\"text-align:right;\">Sources: <span style=\"background-color:#d0ece7;\">Friedrich Nietzsche: Early Greek Philosophy & Other Essays</span>, <span style=\"background-color:#ecf3cf;\">Georg Wilhelm Hegel: Hegel's Lectures on the History of Philosophy: Vol. 2 of 3</span>, <span style=\"background-color:#d8daef;\">Georg Wilhelm Hegel: The History of Philosophy: Volume 3 of 3</span>, <span style=\"background-color:#edebd0;\">Immanuel Kant: Kant's Prolegomena</span>, <span style=\"background-color:#d6dbdf;\">Friedrich Nietzsche: Thoughts Out of Season, Part 2</span>, <span style=\"background-color:#ebdef0;\">Friedrich Nietzsche: The Will to Power, Books III and IV</span>, <span style=\"background-color:#e2d7d5;\">Friedrich Nietzsche: The Joyful Wisdom</span>, <span style=\"background-color:#d4e6e1;\">Immanuel Kant: Fundamental Principles of the Metaphysic of Morals</span>, <span style=\"background-color:#d4e6f1;\">Immanuel Kant: Kant's Critique of Judgement</span>, <span style=\"background-color:#d8daef;\">Friedrich Nietzsche: Thoughts out of Season, Part One</span></p></small>"
      ],
      "text/plain": [
       "<IPython.core.display.HTML object>"
      ]
     },
     "metadata": {},
     "output_type": "display_data"
    },
    {
     "name": "stdout",
     "output_type": "stream",
     "text": [
      "--------temperature: 0.95 ---------\n"
     ]
    },
    {
     "data": {
      "text/html": [
       " De Finisters s     Magnerg--<span style=\"background-color:#e2d7d5;\"><br><br>     L.  </span>Grea<span style=\"background-color:#d8daef;\">t Himself </span><span style=\"background-color:#d8daef;\">at present </span>Hom<span style=\"background-color:#eadbd8;\">ed forms of the c</span><span style=\"background-color:#ecf3cf;\">ity. The<br>r</span>ippledit<span style=\"background-color:#d4e6f1;\">or sublime o</span><span style=\"background-color:#e2d7d5;\">ne which had</span> unreason<span style=\"background-color:#e2d7d5;\">s way over</span>take<span style=\"background-color:#e2d7d5;\">:--<br><br>     </span><span style=\"background-color:#e2d7d5;\">Zarathustra’s </span>noileth"
      ],
      "text/plain": [
       "<IPython.core.display.HTML object>"
      ]
     },
     "metadata": {},
     "output_type": "display_data"
    },
    {
     "data": {
      "text/html": [
       "<small><p style=\"text-align:right;\">Sources: <span style=\"background-color:#e2d7d5;\">Friedrich Nietzsche: Thus Spake Zarathustra</span>, <span style=\"background-color:#d8daef;\">Georg Wilhelm Hegel: The History of Philosophy: Volume 3 of 3</span>, <span style=\"background-color:#eadbd8;\">Friedrich Nietzsche: The Will to Power, Books I and II</span>, <span style=\"background-color:#ecf3cf;\">Georg Wilhelm Hegel: Hegel's Lectures on the History of Philosophy: Vol. 2 of 3</span>, <span style=\"background-color:#d4e6f1;\">Immanuel Kant: Kant's Critique of Judgement</span>, <span style=\"background-color:#e2d7d5;\">Friedrich Nietzsche: The Joyful Wisdom</span></p></small>"
      ],
      "text/plain": [
       "<IPython.core.display.HTML object>"
      ]
     },
     "metadata": {},
     "output_type": "display_data"
    },
    {
     "name": "stdout",
     "output_type": "stream",
     "text": [
      "--------temperature: 1.0 ---------\n"
     ]
    },
    {
     "data": {
      "text/html": [
       "<span style=\"background-color:#d8daef;\"> scientific m</span>inds must<br><span style=\"background-color:#d8daef;\">these special </span>l<span style=\"background-color:#d8daef;\">ed branches of</span> the same<span style=\"background-color:#eadbd8;\">s. Just as </span><span style=\"background-color:#d4efdf;\">with the<br>C</span>ulture<span style=\"background-color:#ecf3cf;\">ics have, </span><span style=\"background-color:#ecf3cf;\">according to that </span><span style=\"background-color:#d4e6f1;\">account of the<br>s</span><span style=\"background-color:#d8daef;\">upplement </span><span style=\"background-color:#d8daef;\">which compr</span><span style=\"background-color:#d6eaf8;\">acticable i</span><span style=\"background-color:#ebdef0;\">s, like the</span><span style=\"background-color:#d8daef;\">m, in the </span>Newort<span style=\"background-color:#d8daef;\">hy. In the </span><span style=\"background-color:#d8daef;\">history of </span>Aris<span style=\"background-color:#d8daef;\">to<br>conscience</span><span style=\"background-color:#ebdef0;\">, already </span>this totached a Sto"
      ],
      "text/plain": [
       "<IPython.core.display.HTML object>"
      ]
     },
     "metadata": {},
     "output_type": "display_data"
    },
    {
     "data": {
      "text/html": [
       "<small><p style=\"text-align:right;\">Sources: <span style=\"background-color:#d8daef;\">Georg Wilhelm Hegel: The History of Philosophy: Volume 3 of 3</span>, <span style=\"background-color:#eadbd8;\">Friedrich Nietzsche: The Will to Power, Books I and II</span>, <span style=\"background-color:#d4efdf;\">Georg Wilhelm Hegel: Hegel's Lectures on the History of Philosophy: Vol. 1 of 3</span>, <span style=\"background-color:#ecf3cf;\">Georg Wilhelm Hegel: Hegel's Lectures on the History of Philosophy: Vol. 2 of 3</span>, <span style=\"background-color:#d4e6f1;\">Immanuel Kant: Kant's Critique of Judgement</span>, <span style=\"background-color:#d6eaf8;\">Immanuel Kant: Perpetual Peace</span>, <span style=\"background-color:#ebdef0;\">Friedrich Nietzsche: The Will to Power, Books III and IV</span></p></small>"
      ],
      "text/plain": [
       "<IPython.core.display.HTML object>"
      ]
     },
     "metadata": {},
     "output_type": "display_data"
    },
    {
     "name": "stdout",
     "output_type": "stream",
     "text": [
      "--------temperature: 1.05 ---------\n"
     ]
    },
    {
     "data": {
      "text/html": [
       " ”  20. Fheism<span style=\"background-color:#d4efdf;\">:—“A thousand</span> S names,’<span style=\"background-color:#edebd0;\"> not correspond</span>ents of Innerg<span style=\"background-color:#e2d7d5;\">y.”<br><br>Chapter XXX</span>I. The Horning Philo WImmac<span style=\"background-color:#d8daef;\">ul.<br><br>The f</span>irst to-ge of “The P"
      ],
      "text/plain": [
       "<IPython.core.display.HTML object>"
      ]
     },
     "metadata": {},
     "output_type": "display_data"
    },
    {
     "data": {
      "text/html": [
       "<small><p style=\"text-align:right;\">Sources: <span style=\"background-color:#d4efdf;\">Georg Wilhelm Hegel: Hegel's Lectures on the History of Philosophy: Vol. 1 of 3</span>, <span style=\"background-color:#edebd0;\">Immanuel Kant: Kant's Prolegomena</span>, <span style=\"background-color:#e2d7d5;\">Friedrich Nietzsche: Thus Spake Zarathustra</span>, <span style=\"background-color:#d8daef;\">Friedrich Nietzsche: Thoughts out of Season, Part One</span></p></small>"
      ],
      "text/plain": [
       "<IPython.core.display.HTML object>"
      ]
     },
     "metadata": {},
     "output_type": "display_data"
    },
    {
     "name": "stdout",
     "output_type": "stream",
     "text": [
      "--------temperature: 1.1 ---------\n"
     ]
    },
    {
     "data": {
      "text/html": [
       " ψthe se<span style=\"background-color:#d8daef;\">conceptions or</span>m the allenic will<span style=\"background-color:#fae5d3;\"><br>     are </span>greeologirning at<span style=\"background-color:#ebdef0;\">oned with </span>quit<span style=\"background-color:#d6dbdf;\">e struggle tha</span><span style=\"background-color:#d4efdf;\">n dissatisf</span>action.<br>E<span style=\"background-color:#ebdef0;\">stimates and s</span><span style=\"background-color:#d8daef;\">nowing and </span>st<span style=\"background-color:#d8daef;\">one were t</span>alent ser-br<span style=\"background-color:#e2d7d5;\">eaking,<br>     </span>A<span style=\"background-color:#edebd0;\">nd how wil</span>t . “<span style=\"background-color:#e2d7d5;\">what dost th</span>"
      ],
      "text/plain": [
       "<IPython.core.display.HTML object>"
      ]
     },
     "metadata": {},
     "output_type": "display_data"
    },
    {
     "data": {
      "text/html": [
       "<small><p style=\"text-align:right;\">Sources: <span style=\"background-color:#d8daef;\">Georg Wilhelm Hegel: The History of Philosophy: Volume 3 of 3</span>, <span style=\"background-color:#fae5d3;\">Friedrich Nietzsche: We Philologists, Volume 8 of 18</span>, <span style=\"background-color:#ebdef0;\">Friedrich Nietzsche: The Will to Power, Books III and IV</span>, <span style=\"background-color:#d6dbdf;\">Friedrich Nietzsche: Thoughts Out of Season, Part 2</span>, <span style=\"background-color:#d4efdf;\">Georg Wilhelm Hegel: Hegel's Lectures on the History of Philosophy: Vol. 1 of 3</span>, <span style=\"background-color:#ebdef0;\">Friedrich Nietzsche: Beyond Good and Evil</span>, <span style=\"background-color:#e2d7d5;\">Friedrich Nietzsche: Thus Spake Zarathustra</span>, <span style=\"background-color:#edebd0;\">Immanuel Kant: Kant's Prolegomena</span></p></small>"
      ],
      "text/plain": [
       "<IPython.core.display.HTML object>"
      ]
     },
     "metadata": {},
     "output_type": "display_data"
    },
    {
     "name": "stdout",
     "output_type": "stream",
     "text": [
      "-------------------------------------------\n",
      "step 12750: train loss 2.7038, val loss 2.7378, time 0.502 sec/iter\n",
      "Sample: --------temperature: 0.9 ---------\n"
     ]
    },
    {
     "data": {
      "text/html": [
       " nd the “<span style=\"background-color:#ebdef0;\">who think,</span><span style=\"background-color:#d4efdf;\">” as<br>distinguishe</span><span style=\"background-color:#d8daef;\">s the soul, </span><span style=\"background-color:#ebdef0;\">most cases,</span>” (“that is”<span style=\"background-color:#d8daef;\"> the conclusion</span>) “she uttereth<br><span style=\"background-color:#d4efdf;\">such as bo</span>ld world;”<span style=\"background-color:#e2d7d5;\"> who are accustomed to thi</span><span style=\"background-color:#d4e6f1;\">s latter is<br></span><span style=\"background-color:#eadbd8;\">only other w</span>ork<span style=\"background-color:#d8daef;\">. Here he </span><span style=\"background-color:#d6dbdf;\">would see that </span>even the "
      ],
      "text/plain": [
       "<IPython.core.display.HTML object>"
      ]
     },
     "metadata": {},
     "output_type": "display_data"
    },
    {
     "data": {
      "text/html": [
       "<small><p style=\"text-align:right;\">Sources: <span style=\"background-color:#ebdef0;\">Friedrich Nietzsche: Beyond Good and Evil</span>, <span style=\"background-color:#d4efdf;\">Georg Wilhelm Hegel: Hegel's Lectures on the History of Philosophy: Vol. 1 of 3</span>, <span style=\"background-color:#d8daef;\">Georg Wilhelm Hegel: The History of Philosophy: Volume 3 of 3</span>, <span style=\"background-color:#ebdef0;\">Friedrich Nietzsche: The Will to Power, Books III and IV</span>, <span style=\"background-color:#e2d7d5;\">Friedrich Nietzsche: The Joyful Wisdom</span>, <span style=\"background-color:#d4e6f1;\">Immanuel Kant: Kant's Critique of Judgement</span>, <span style=\"background-color:#eadbd8;\">Immanuel Kant: The Critique of Pure Reason</span>, <span style=\"background-color:#d6dbdf;\">Friedrich Nietzsche: Thoughts Out of Season, Part 2</span></p></small>"
      ],
      "text/plain": [
       "<IPython.core.display.HTML object>"
      ]
     },
     "metadata": {},
     "output_type": "display_data"
    },
    {
     "name": "stdout",
     "output_type": "stream",
     "text": [
      "--------temperature: 0.95 ---------\n"
     ]
    },
    {
     "data": {
      "text/html": [
       " οὐτὸς_πιν<span style=\"background-color:#d4efdf;\">_), the re</span><span style=\"background-color:#d8daef;\">lation is not </span>qui<span style=\"background-color:#eadbd8;\">te a<br>certain </span>kind<span style=\"background-color:#ecf3cf;\"> of hypotheses, </span>&c.<span style=\"background-color:#ecf3cf;\">; but another </span><span style=\"background-color:#ebdef0;\">ground on m</span><span style=\"background-color:#ecf3cf;\">ercise consist</span><span style=\"background-color:#eadbd8;\">ed in one, the</span><span style=\"background-color:#ebdef0;\"><br>opinion o</span>r t<span style=\"background-color:#d8daef;\">human understanding. </span>(_δυνό<span style=\"background-color:#d4efdf;\">ν_) of lan</span>gua"
      ],
      "text/plain": [
       "<IPython.core.display.HTML object>"
      ]
     },
     "metadata": {},
     "output_type": "display_data"
    },
    {
     "data": {
      "text/html": [
       "<small><p style=\"text-align:right;\">Sources: <span style=\"background-color:#d4efdf;\">Georg Wilhelm Hegel: Hegel's Lectures on the History of Philosophy: Vol. 1 of 3</span>, <span style=\"background-color:#d8daef;\">Georg Wilhelm Hegel: The History of Philosophy: Volume 3 of 3</span>, <span style=\"background-color:#eadbd8;\">Immanuel Kant: The Critique of Pure Reason</span>, <span style=\"background-color:#ecf3cf;\">Georg Wilhelm Hegel: Hegel's Lectures on the History of Philosophy: Vol. 2 of 3</span>, <span style=\"background-color:#ebdef0;\">Friedrich Nietzsche: Beyond Good and Evil</span>, <span style=\"background-color:#ebdef0;\">Friedrich Nietzsche: The Will to Power, Books III and IV</span></p></small>"
      ],
      "text/plain": [
       "<IPython.core.display.HTML object>"
      ]
     },
     "metadata": {},
     "output_type": "display_data"
    },
    {
     "name": "stdout",
     "output_type": "stream",
     "text": [
      "--------temperature: 1.0 ---------\n"
     ]
    },
    {
     "data": {
      "text/html": [
       " τῷ!_<br><br>\"F <span style=\"background-color:#ebdef0;\">Know thyself!\"</span>]<br><br>[65]<span style=\"background-color:#e2d7d5;\"> This means </span><span style=\"background-color:#e2d7d5;\">such a pla</span>u<span style=\"background-color:#e5e8e8;\">sible by p</span><span style=\"background-color:#d8daef;\">lacing its</span>ity--<span style=\"background-color:#d4efdf;\">did he<br>think</span><span style=\"background-color:#d6dbdf;\">s that it is an</span> equ<span style=\"background-color:#eadbd8;\">alness, th</span><span style=\"background-color:#d6dbdf;\">at he has al</span><span style=\"background-color:#eadbd8;\">ways been a</span><span style=\"background-color:#d4e6f1;\"><br>commonest </span>man or bad<span style=\"background-color:#d4e6f1;\"> and avail</span>"
      ],
      "text/plain": [
       "<IPython.core.display.HTML object>"
      ]
     },
     "metadata": {},
     "output_type": "display_data"
    },
    {
     "data": {
      "text/html": [
       "<small><p style=\"text-align:right;\">Sources: <span style=\"background-color:#ebdef0;\">Friedrich Nietzsche: Beyond Good and Evil</span>, <span style=\"background-color:#e2d7d5;\">Friedrich Nietzsche: The Joyful Wisdom</span>, <span style=\"background-color:#e5e8e8;\">Immanuel Kant: The Critique of Practical Reason</span>, <span style=\"background-color:#d8daef;\">Georg Wilhelm Hegel: The History of Philosophy: Volume 3 of 3</span>, <span style=\"background-color:#d4efdf;\">Georg Wilhelm Hegel: Hegel's Lectures on the History of Philosophy: Vol. 1 of 3</span>, <span style=\"background-color:#d6dbdf;\">Friedrich Nietzsche: Thoughts Out of Season, Part 2</span>, <span style=\"background-color:#eadbd8;\">Friedrich Nietzsche: The Will to Power, Books I and II</span>, <span style=\"background-color:#d4e6f1;\">Immanuel Kant: Kant's Critique of Judgement</span></p></small>"
      ],
      "text/plain": [
       "<IPython.core.display.HTML object>"
      ]
     },
     "metadata": {},
     "output_type": "display_data"
    },
    {
     "name": "stdout",
     "output_type": "stream",
     "text": [
      "--------temperature: 1.05 ---------\n"
     ]
    },
    {
     "data": {
      "text/html": [
       " 50 A<span style=\"background-color:#ebdef0;\"> new inter</span><span style=\"background-color:#d8daef;\">esting in the </span><span style=\"background-color:#eadbd8;\">Christian S</span><span style=\"background-color:#d4efdf;\">ciences, A</span><span style=\"background-color:#d8daef;\">persecution and pass</span><span style=\"background-color:#d4efdf;\">age which is<br></span>undredon abrium—surv<span style=\"background-color:#d8daef;\">ude of this </span>old age 1848<span style=\"background-color:#d8daef;\">. To rule </span><span style=\"background-color:#ebdef0;\">has appear</span>ing<span style=\"background-color:#ecf3cf;\"> New Academ</span>ie<span style=\"background-color:#d4efdf;\">s, but<br>not </span>fear<span style=\"background-color:#d8daef;\">ily enough </span>"
      ],
      "text/plain": [
       "<IPython.core.display.HTML object>"
      ]
     },
     "metadata": {},
     "output_type": "display_data"
    },
    {
     "data": {
      "text/html": [
       "<small><p style=\"text-align:right;\">Sources: <span style=\"background-color:#ebdef0;\">Friedrich Nietzsche: The Will to Power, Books III and IV</span>, <span style=\"background-color:#d8daef;\">Georg Wilhelm Hegel: The History of Philosophy: Volume 3 of 3</span>, <span style=\"background-color:#eadbd8;\">Friedrich Nietzsche: The Will to Power, Books I and II</span>, <span style=\"background-color:#d4efdf;\">Georg Wilhelm Hegel: Hegel's Lectures on the History of Philosophy: Vol. 1 of 3</span>, <span style=\"background-color:#ecf3cf;\">Georg Wilhelm Hegel: Hegel's Lectures on the History of Philosophy: Vol. 2 of 3</span></p></small>"
      ],
      "text/plain": [
       "<IPython.core.display.HTML object>"
      ]
     },
     "metadata": {},
     "output_type": "display_data"
    },
    {
     "name": "stdout",
     "output_type": "stream",
     "text": [
      "--------temperature: 1.1 ---------\n"
     ]
    },
    {
     "data": {
      "text/html": [
       "<span style=\"background-color:#d4efdf;\"> Universe_</span>). As Lhe will talacho<span style=\"background-color:#eadbd8;\">ss, by means of </span><span style=\"background-color:#ecf3cf;\">his<br>friendship</span><span style=\"background-color:#d8daef;\"> of Plato we</span>nt on<span style=\"background-color:#d4efdf;\">e “another</span><span style=\"background-color:#d4efdf;\"> everyone wo</span>r<span style=\"background-color:#eadbd8;\">d intellect, a</span><span style=\"background-color:#d8daef;\">s a matter </span><span style=\"background-color:#d8daef;\">from<br>which the </span>Sanc’hyra<span style=\"background-color:#ecf3cf;\">phic and C</span>osmo<span style=\"background-color:#ebdef0;\">s, and by th</span><span style=\"background-color:#d0ece7;\">e contrary f</span><span style=\"background-color:#d8daef;\">or himself by</span><span style=\"background-color:#e5e8e8;\"><br>reason. S</span>"
      ],
      "text/plain": [
       "<IPython.core.display.HTML object>"
      ]
     },
     "metadata": {},
     "output_type": "display_data"
    },
    {
     "data": {
      "text/html": [
       "<small><p style=\"text-align:right;\">Sources: <span style=\"background-color:#d4efdf;\">Georg Wilhelm Hegel: Hegel's Lectures on the History of Philosophy: Vol. 1 of 3</span>, <span style=\"background-color:#eadbd8;\">Immanuel Kant: The Critique of Pure Reason</span>, <span style=\"background-color:#ecf3cf;\">Georg Wilhelm Hegel: Hegel's Lectures on the History of Philosophy: Vol. 2 of 3</span>, <span style=\"background-color:#d8daef;\">Georg Wilhelm Hegel: The History of Philosophy: Volume 3 of 3</span>, <span style=\"background-color:#eadbd8;\">Friedrich Nietzsche: The Will to Power, Books I and II</span>, <span style=\"background-color:#ebdef0;\">Friedrich Nietzsche: The Will to Power, Books III and IV</span>, <span style=\"background-color:#d0ece7;\">Friedrich Nietzsche: Early Greek Philosophy & Other Essays</span>, <span style=\"background-color:#e5e8e8;\">Immanuel Kant: The Critique of Practical Reason</span></p></small>"
      ],
      "text/plain": [
       "<IPython.core.display.HTML object>"
      ]
     },
     "metadata": {},
     "output_type": "display_data"
    },
    {
     "name": "stdout",
     "output_type": "stream",
     "text": [
      "-------------------------------------------\n",
      "step 13000: train loss 2.7318, val loss 2.7027, time 0.503 sec/iter\n",
      "Sample: --------temperature: 0.9 ---------\n"
     ]
    },
    {
     "data": {
      "text/html": [
       "<span style=\"background-color:#fdebd0;\"> ^paragraph</span><span style=\"background-color:#d8daef;\">, it would be </span><span style=\"background-color:#d6dbdf;\">just seen an</span>swer to<br><span style=\"background-color:#d8daef;\">lively and </span><span style=\"background-color:#ecf3cf;\">in spite of that </span><span style=\"background-color:#e2d7d5;\">who would rather </span><span style=\"background-color:#eadbd8;\">a means of i</span><span style=\"background-color:#d8daef;\">tness which t</span>akes them<span style=\"background-color:#d8daef;\">; it<br>is so </span><span style=\"background-color:#d4efdf;\">clear that we </span><span style=\"background-color:#eadbd8;\">have not been </span><span style=\"background-color:#eadbd8;\">even possess </span><span style=\"background-color:#eadbd8;\">the only c</span><span style=\"background-color:#d6dbdf;\">ulture that is </span>a<span style=\"background-color:#d8daef;\"><br>direction of the </span><span style=\"background-color:#e2d7d5;\">world of o</span><span style=\"background-color:#ebdef0;\">pinion.<br><br>Religion</span> is w"
      ],
      "text/plain": [
       "<IPython.core.display.HTML object>"
      ]
     },
     "metadata": {},
     "output_type": "display_data"
    },
    {
     "data": {
      "text/html": [
       "<small><p style=\"text-align:right;\">Sources: <span style=\"background-color:#fdebd0;\">Immanuel Kant: The Metaphysical Elements of Ethics</span>, <span style=\"background-color:#d8daef;\">Georg Wilhelm Hegel: The History of Philosophy: Volume 3 of 3</span>, <span style=\"background-color:#d6dbdf;\">Friedrich Nietzsche: Thoughts Out of Season, Part 2</span>, <span style=\"background-color:#ecf3cf;\">Georg Wilhelm Hegel: Hegel's Lectures on the History of Philosophy: Vol. 2 of 3</span>, <span style=\"background-color:#e2d7d5;\">Friedrich Nietzsche: The Joyful Wisdom</span>, <span style=\"background-color:#eadbd8;\">Friedrich Nietzsche: The Will to Power, Books I and II</span>, <span style=\"background-color:#d4efdf;\">Georg Wilhelm Hegel: Hegel's Lectures on the History of Philosophy: Vol. 1 of 3</span>, <span style=\"background-color:#eadbd8;\">Immanuel Kant: The Critique of Pure Reason</span>, <span style=\"background-color:#d8daef;\">Friedrich Nietzsche: Thoughts out of Season, Part One</span>, <span style=\"background-color:#ebdef0;\">Friedrich Nietzsche: The Will to Power, Books III and IV</span></p></small>"
      ],
      "text/plain": [
       "<IPython.core.display.HTML object>"
      ]
     },
     "metadata": {},
     "output_type": "display_data"
    },
    {
     "name": "stdout",
     "output_type": "stream",
     "text": [
      "--------temperature: 0.95 ---------\n"
     ]
    },
    {
     "data": {
      "text/html": [
       " § 2, 2-20<span style=\"background-color:#d8daef;\">; II. 12, 1</span>10-13, pp. 46, 43, 441; chap. 743 (pp. 503, 571,<br>943), pp. 8"
      ],
      "text/plain": [
       "<IPython.core.display.HTML object>"
      ]
     },
     "metadata": {},
     "output_type": "display_data"
    },
    {
     "data": {
      "text/html": [
       "<small><p style=\"text-align:right;\">Sources: <span style=\"background-color:#d8daef;\">Georg Wilhelm Hegel: The History of Philosophy: Volume 3 of 3</span></p></small>"
      ],
      "text/plain": [
       "<IPython.core.display.HTML object>"
      ]
     },
     "metadata": {},
     "output_type": "display_data"
    },
    {
     "name": "stdout",
     "output_type": "stream",
     "text": [
      "--------temperature: 1.0 ---------\n"
     ]
    },
    {
     "data": {
      "text/html": [
       " . G. Theirst<span style=\"background-color:#e2d7d5;\">, a cowardice, </span><span style=\"background-color:#eadbd8;\">simple and in </span><span style=\"background-color:#e5e8e8;\">a method, </span>nor does fare<span style=\"background-color:#d4efdf;\"><br>not here the </span><span style=\"background-color:#eadbd8;\">conception. Thus, too, i</span><span style=\"background-color:#eadbd8;\">n which the mind in</span> short trict m<span style=\"background-color:#ecf3cf;\">obtaining p</span><span style=\"background-color:#e2d7d5;\">roperties.</span><br>The wid<span style=\"background-color:#d8daef;\">e is a system of </span>inherita<span style=\"background-color:#e2d7d5;\">nt as well as a</span> peged dre"
      ],
      "text/plain": [
       "<IPython.core.display.HTML object>"
      ]
     },
     "metadata": {},
     "output_type": "display_data"
    },
    {
     "data": {
      "text/html": [
       "<small><p style=\"text-align:right;\">Sources: <span style=\"background-color:#e2d7d5;\">Friedrich Nietzsche: The Joyful Wisdom</span>, <span style=\"background-color:#eadbd8;\">Immanuel Kant: The Critique of Pure Reason</span>, <span style=\"background-color:#e5e8e8;\">Immanuel Kant: The Critique of Practical Reason</span>, <span style=\"background-color:#d4efdf;\">Georg Wilhelm Hegel: Hegel's Lectures on the History of Philosophy: Vol. 1 of 3</span>, <span style=\"background-color:#ecf3cf;\">Georg Wilhelm Hegel: Hegel's Lectures on the History of Philosophy: Vol. 2 of 3</span>, <span style=\"background-color:#d8daef;\">Georg Wilhelm Hegel: The History of Philosophy: Volume 3 of 3</span></p></small>"
      ],
      "text/plain": [
       "<IPython.core.display.HTML object>"
      ]
     },
     "metadata": {},
     "output_type": "display_data"
    },
    {
     "name": "stdout",
     "output_type": "stream",
     "text": [
      "--------temperature: 1.05 ---------\n"
     ]
    },
    {
     "data": {
      "text/html": [
       " [_ἄλογ_)[7<span style=\"background-color:#d6eaf8;\">3] In this </span>patalk<span style=\"background-color:#d8daef;\">; but<br>the t</span>rium a<span style=\"background-color:#d4efdf;\">s to many </span><span style=\"background-color:#d8daef;\">ideas are </span>mo<span style=\"background-color:#edebd0;\">ments neither </span><span style=\"background-color:#d8daef;\">the<br>latter </span>fig<span style=\"background-color:#ebdef0;\">ure, namely</span> a<span style=\"background-color:#ecf3cf;\">ught out an</span> pag<span style=\"background-color:#d8daef;\">e from<br>the </span>τερηλότεῖν"
      ],
      "text/plain": [
       "<IPython.core.display.HTML object>"
      ]
     },
     "metadata": {},
     "output_type": "display_data"
    },
    {
     "data": {
      "text/html": [
       "<small><p style=\"text-align:right;\">Sources: <span style=\"background-color:#d6eaf8;\">Immanuel Kant: Perpetual Peace</span>, <span style=\"background-color:#d8daef;\">Georg Wilhelm Hegel: The History of Philosophy: Volume 3 of 3</span>, <span style=\"background-color:#d4efdf;\">Georg Wilhelm Hegel: Hegel's Lectures on the History of Philosophy: Vol. 1 of 3</span>, <span style=\"background-color:#edebd0;\">Immanuel Kant: Kant's Prolegomena</span>, <span style=\"background-color:#ebdef0;\">Friedrich Nietzsche: The Will to Power, Books III and IV</span>, <span style=\"background-color:#ecf3cf;\">Georg Wilhelm Hegel: Hegel's Lectures on the History of Philosophy: Vol. 2 of 3</span></p></small>"
      ],
      "text/plain": [
       "<IPython.core.display.HTML object>"
      ]
     },
     "metadata": {},
     "output_type": "display_data"
    },
    {
     "name": "stdout",
     "output_type": "stream",
     "text": [
      "--------temperature: 1.1 ---------\n"
     ]
    },
    {
     "data": {
      "text/html": [
       "<span style=\"background-color:#fdebd0;\"> ^paragraph 17</span>, p. 320; Vom<br>clae analog<span style=\"background-color:#ebdef0;\">ts and that </span>whate<span style=\"background-color:#d8daef;\">t allows i</span>s<span style=\"background-color:#e2d7d5;\"> equal thi</span>kewis<span style=\"background-color:#d8daef;\">e<br>source of </span><span style=\"background-color:#eadbd8;\">supremacy of the </span><span style=\"background-color:#ebdef0;\">compensation</span>)<span style=\"background-color:#ebdef0;\">, reflection </span>upon<span style=\"background-color:#d8daef;\"><br>wherein th</span><span style=\"background-color:#eadbd8;\">is view of </span><span style=\"background-color:#ebdef0;\">false and o</span><span style=\"background-color:#d8daef;\">bservation and </span>remote"
      ],
      "text/plain": [
       "<IPython.core.display.HTML object>"
      ]
     },
     "metadata": {},
     "output_type": "display_data"
    },
    {
     "data": {
      "text/html": [
       "<small><p style=\"text-align:right;\">Sources: <span style=\"background-color:#fdebd0;\">Immanuel Kant: The Metaphysical Elements of Ethics</span>, <span style=\"background-color:#ebdef0;\">Friedrich Nietzsche: The Will to Power, Books III and IV</span>, <span style=\"background-color:#d8daef;\">Georg Wilhelm Hegel: The History of Philosophy: Volume 3 of 3</span>, <span style=\"background-color:#e2d7d5;\">Friedrich Nietzsche: The Joyful Wisdom</span>, <span style=\"background-color:#eadbd8;\">Friedrich Nietzsche: The Will to Power, Books I and II</span></p></small>"
      ],
      "text/plain": [
       "<IPython.core.display.HTML object>"
      ]
     },
     "metadata": {},
     "output_type": "display_data"
    },
    {
     "name": "stdout",
     "output_type": "stream",
     "text": [
      "-------------------------------------------\n",
      "step 13250: train loss 2.6574, val loss 2.6702, time 0.502 sec/iter\n",
      "Sample: --------temperature: 0.9 ---------\n"
     ]
    },
    {
     "data": {
      "text/html": [
       " <span style=\"background-color:#d8daef;\">ecause to </span>my bagu<span style=\"background-color:#edebd0;\">e the science </span><span style=\"background-color:#ebdef0;\">could not be t</span><span style=\"background-color:#d8daef;\">aken away, a</span><span style=\"background-color:#d6eaf8;\">s explicable</span><span style=\"background-color:#eadbd8;\"><br>piece of w</span>ork<span style=\"background-color:#d4efdf;\"> of air, a</span><span style=\"background-color:#d6eaf8;\">lthough only b</span><span style=\"background-color:#d4efdf;\">ecause it will </span><span style=\"background-color:#d0ece7;\">It endeavours to </span><span style=\"background-color:#ecf3cf;\">it. The<br>in</span>f<span style=\"background-color:#ebdef0;\">lability of </span>fir he had \"liberty\";<span style=\"background-color:#eadbd8;\"> the trivia</span><span style=\"background-color:#f6ddcc;\">tion of ideas and<br></span><span style=\"background-color:#ecf3cf;\">everything is ma</span>"
      ],
      "text/plain": [
       "<IPython.core.display.HTML object>"
      ]
     },
     "metadata": {},
     "output_type": "display_data"
    },
    {
     "data": {
      "text/html": [
       "<small><p style=\"text-align:right;\">Sources: <span style=\"background-color:#d8daef;\">Georg Wilhelm Hegel: The History of Philosophy: Volume 3 of 3</span>, <span style=\"background-color:#edebd0;\">Immanuel Kant: Kant's Prolegomena</span>, <span style=\"background-color:#ebdef0;\">Friedrich Nietzsche: The Will to Power, Books III and IV</span>, <span style=\"background-color:#d6eaf8;\">Immanuel Kant: Perpetual Peace</span>, <span style=\"background-color:#eadbd8;\">Immanuel Kant: The Critique of Pure Reason</span>, <span style=\"background-color:#d4efdf;\">Georg Wilhelm Hegel: Hegel's Lectures on the History of Philosophy: Vol. 1 of 3</span>, <span style=\"background-color:#d0ece7;\">Friedrich Nietzsche: Early Greek Philosophy & Other Essays</span>, <span style=\"background-color:#ecf3cf;\">Georg Wilhelm Hegel: Hegel's Lectures on the History of Philosophy: Vol. 2 of 3</span>, <span style=\"background-color:#f6ddcc;\">Friedrich Nietzsche: Human, All Too Human</span></p></small>"
      ],
      "text/plain": [
       "<IPython.core.display.HTML object>"
      ]
     },
     "metadata": {},
     "output_type": "display_data"
    },
    {
     "name": "stdout",
     "output_type": "stream",
     "text": [
      "--------temperature: 0.95 ---------\n"
     ]
    },
    {
     "data": {
      "text/html": [
       " 68, 73, 70, 95,<br>      78, 398, 124, 295<span style=\"background-color:#d8daef;\">.<br><br>  Peter, </span>II. 26-216<span style=\"background-color:#d8daef;\">.<br><br>  Posidonius, II. 2</span><span style=\"background-color:#d8daef;\">90.<br><br>  Pro</span>loguerre"
      ],
      "text/plain": [
       "<IPython.core.display.HTML object>"
      ]
     },
     "metadata": {},
     "output_type": "display_data"
    },
    {
     "data": {
      "text/html": [
       "<small><p style=\"text-align:right;\">Sources: <span style=\"background-color:#d8daef;\">Georg Wilhelm Hegel: The History of Philosophy: Volume 3 of 3</span></p></small>"
      ],
      "text/plain": [
       "<IPython.core.display.HTML object>"
      ]
     },
     "metadata": {},
     "output_type": "display_data"
    },
    {
     "name": "stdout",
     "output_type": "stream",
     "text": [
      "--------temperature: 1.0 ---------\n"
     ]
    },
    {
     "data": {
      "text/html": [
       " <span style=\"background-color:#eadbd8;\">.<br><br> [65] The </span>arrang<span style=\"background-color:#d4efdf;\">end demands </span>are<span style=\"background-color:#eadbd8;\"><br> conditioned </span><span style=\"background-color:#eadbd8;\">through our o</span><span style=\"background-color:#eadbd8;\">r to the sens</span>ibility<span style=\"background-color:#eadbd8;\"><br> of the co</span><span style=\"background-color:#edebd0;\">gnition of re</span><span style=\"background-color:#d8daef;\">lation; but </span><span style=\"background-color:#eadbd8;\">I think,” </span><span style=\"background-color:#ebdef0;\">this is our o</span><span style=\"background-color:#edebd0;\">ut of which I have </span><span style=\"background-color:#ebdef0;\">shown to a</span>dd<span style=\"background-color:#ecf3cf;\"> Notion; and it</span> a<br>me<span style=\"background-color:#d0ece7;\">re lies in </span><span style=\"background-color:#d8daef;\">our conceptions </span><span style=\"background-color:#d8daef;\">regarding </span><span style=\"background-color:#d4efdf;\">generally, un</span>les<span style=\"background-color:#ecf3cf;\">s<br>speculative idea</span>l"
      ],
      "text/plain": [
       "<IPython.core.display.HTML object>"
      ]
     },
     "metadata": {},
     "output_type": "display_data"
    },
    {
     "data": {
      "text/html": [
       "<small><p style=\"text-align:right;\">Sources: <span style=\"background-color:#eadbd8;\">Immanuel Kant: The Critique of Pure Reason</span>, <span style=\"background-color:#d4efdf;\">Georg Wilhelm Hegel: Hegel's Lectures on the History of Philosophy: Vol. 1 of 3</span>, <span style=\"background-color:#eadbd8;\">Friedrich Nietzsche: The Will to Power, Books I and II</span>, <span style=\"background-color:#edebd0;\">Immanuel Kant: Kant's Prolegomena</span>, <span style=\"background-color:#d8daef;\">Georg Wilhelm Hegel: The History of Philosophy: Volume 3 of 3</span>, <span style=\"background-color:#ebdef0;\">Friedrich Nietzsche: The Will to Power, Books III and IV</span>, <span style=\"background-color:#ecf3cf;\">Georg Wilhelm Hegel: Hegel's Lectures on the History of Philosophy: Vol. 2 of 3</span>, <span style=\"background-color:#d0ece7;\">Friedrich Nietzsche: Early Greek Philosophy & Other Essays</span></p></small>"
      ],
      "text/plain": [
       "<IPython.core.display.HTML object>"
      ]
     },
     "metadata": {},
     "output_type": "display_data"
    },
    {
     "name": "stdout",
     "output_type": "stream",
     "text": [
      "--------temperature: 1.05 ---------\n"
     ]
    },
    {
     "data": {
      "text/html": [
       " 553, 404, 48.<br><br>  Abno<span style=\"background-color:#d8daef;\">, II. 165, </span>50<span style=\"background-color:#d8daef;\">.<br><br>  Anaxagoras</span> eaptist of I. 4406.<br><br>  Ten<span style=\"background-color:#d6eaf8;\">f, through the </span>same Fabrichn, II. 410"
      ],
      "text/plain": [
       "<IPython.core.display.HTML object>"
      ]
     },
     "metadata": {},
     "output_type": "display_data"
    },
    {
     "data": {
      "text/html": [
       "<small><p style=\"text-align:right;\">Sources: <span style=\"background-color:#d8daef;\">Georg Wilhelm Hegel: The History of Philosophy: Volume 3 of 3</span>, <span style=\"background-color:#d6eaf8;\">Immanuel Kant: Perpetual Peace</span></p></small>"
      ],
      "text/plain": [
       "<IPython.core.display.HTML object>"
      ]
     },
     "metadata": {},
     "output_type": "display_data"
    },
    {
     "name": "stdout",
     "output_type": "stream",
     "text": [
      "--------temperature: 1.1 ---------\n"
     ]
    },
    {
     "data": {
      "text/html": [
       " εῖον [Geschlaid bred Beatthentes, creatisewed<span style=\"background-color:#d0ece7;\"> the<br>family</span><span style=\"background-color:#ecf3cf;\"> reason, A</span>n Ewigen Résu<span style=\"background-color:#d8daef;\">s a result</span>ed <span style=\"background-color:#e2d7d5;\">prung with </span>as<span style=\"background-color:#d4efdf;\"> hand, is,</span><br>bears<span style=\"background-color:#d4efdf;\"> visited. </span><span style=\"background-color:#d6dbdf;\">In the rea</span>der<span style=\"background-color:#ebdef0;\">s intimate </span>ter"
      ],
      "text/plain": [
       "<IPython.core.display.HTML object>"
      ]
     },
     "metadata": {},
     "output_type": "display_data"
    },
    {
     "data": {
      "text/html": [
       "<small><p style=\"text-align:right;\">Sources: <span style=\"background-color:#d0ece7;\">Friedrich Nietzsche: Early Greek Philosophy & Other Essays</span>, <span style=\"background-color:#ecf3cf;\">Georg Wilhelm Hegel: Hegel's Lectures on the History of Philosophy: Vol. 2 of 3</span>, <span style=\"background-color:#d8daef;\">Georg Wilhelm Hegel: The History of Philosophy: Volume 3 of 3</span>, <span style=\"background-color:#e2d7d5;\">Friedrich Nietzsche: Thus Spake Zarathustra</span>, <span style=\"background-color:#d4efdf;\">Georg Wilhelm Hegel: Hegel's Lectures on the History of Philosophy: Vol. 1 of 3</span>, <span style=\"background-color:#d6dbdf;\">Friedrich Nietzsche: Thoughts Out of Season, Part 2</span>, <span style=\"background-color:#ebdef0;\">Friedrich Nietzsche: The Will to Power, Books III and IV</span></p></small>"
      ],
      "text/plain": [
       "<IPython.core.display.HTML object>"
      ]
     },
     "metadata": {},
     "output_type": "display_data"
    },
    {
     "name": "stdout",
     "output_type": "stream",
     "text": [
      "-------------------------------------------\n",
      "step 13500: train loss 2.6365, val loss 2.6434, time 0.501 sec/iter\n",
      "Sample: --------temperature: 0.9 ---------\n"
     ]
    },
    {
     "data": {
      "text/html": [
       " ὐquil<span style=\"background-color:#d8daef;\">ted; it is </span>only<span style=\"background-color:#e2d7d5;\">st thou as</span>h<span style=\"background-color:#e2d7d5;\">ed the light</span>est to it? I<span style=\"background-color:#d8daef;\">nnate and </span><span style=\"background-color:#ecf3cf;\">in a deeper</span><br><span style=\"background-color:#e2d7d5;\">thing count</span> a grave<span style=\"background-color:#ebdef0;\">-bed there</span><span style=\"background-color:#ebdef0;\">byss, the </span><span style=\"background-color:#edebd0;\">original be</span>auty all shor<span style=\"background-color:#e2d7d5;\">tched to t</span>his<br><span style=\"background-color:#f6ddcc;\">rule not the </span><span style=\"background-color:#d8daef;\">absolute fi</span><span style=\"background-color:#fae5d3;\">shments which </span><span style=\"background-color:#ecf3cf;\">unites with</span>que"
      ],
      "text/plain": [
       "<IPython.core.display.HTML object>"
      ]
     },
     "metadata": {},
     "output_type": "display_data"
    },
    {
     "data": {
      "text/html": [
       "<small><p style=\"text-align:right;\">Sources: <span style=\"background-color:#d8daef;\">Georg Wilhelm Hegel: The History of Philosophy: Volume 3 of 3</span>, <span style=\"background-color:#e2d7d5;\">Friedrich Nietzsche: Thus Spake Zarathustra</span>, <span style=\"background-color:#e2d7d5;\">Friedrich Nietzsche: The Joyful Wisdom</span>, <span style=\"background-color:#ecf3cf;\">Georg Wilhelm Hegel: Hegel's Lectures on the History of Philosophy: Vol. 2 of 3</span>, <span style=\"background-color:#ebdef0;\">Friedrich Nietzsche: Beyond Good and Evil</span>, <span style=\"background-color:#edebd0;\">Immanuel Kant: Kant's Prolegomena</span>, <span style=\"background-color:#f6ddcc;\">Friedrich Nietzsche: Human, All Too Human</span>, <span style=\"background-color:#fae5d3;\">Friedrich Nietzsche: We Philologists, Volume 8 of 18</span></p></small>"
      ],
      "text/plain": [
       "<IPython.core.display.HTML object>"
      ]
     },
     "metadata": {},
     "output_type": "display_data"
    },
    {
     "name": "stdout",
     "output_type": "stream",
     "text": [
      "--------temperature: 0.95 ---------\n"
     ]
    },
    {
     "data": {
      "text/html": [
       " ἔγενονι<span style=\"background-color:#d4e6f1;\">); but this </span>cause<br>(_ανόνεν_) <span style=\"background-color:#eadbd8;\">or both the </span><span style=\"background-color:#d8daef;\">first and a</span><span style=\"background-color:#ecf3cf;\">t the same time the one and </span><span style=\"background-color:#e2d7d5;\">the death;</span><span style=\"background-color:#d4efdf;\"><br>similarly the </span><span style=\"background-color:#d8daef;\">thought and of </span><span style=\"background-color:#d8daef;\">pain, the </span><span style=\"background-color:#ecf3cf;\">one is not the </span><span style=\"background-color:#ecf3cf;\">first;<br>the </span>midd<span style=\"background-color:#eadbd8;\">aith is a </span>to-"
      ],
      "text/plain": [
       "<IPython.core.display.HTML object>"
      ]
     },
     "metadata": {},
     "output_type": "display_data"
    },
    {
     "data": {
      "text/html": [
       "<small><p style=\"text-align:right;\">Sources: <span style=\"background-color:#d4e6f1;\">Immanuel Kant: Kant's Critique of Judgement</span>, <span style=\"background-color:#eadbd8;\">Friedrich Nietzsche: The Will to Power, Books I and II</span>, <span style=\"background-color:#d8daef;\">Georg Wilhelm Hegel: The History of Philosophy: Volume 3 of 3</span>, <span style=\"background-color:#ecf3cf;\">Georg Wilhelm Hegel: Hegel's Lectures on the History of Philosophy: Vol. 2 of 3</span>, <span style=\"background-color:#e2d7d5;\">Friedrich Nietzsche: The Joyful Wisdom</span>, <span style=\"background-color:#d4efdf;\">Georg Wilhelm Hegel: Hegel's Lectures on the History of Philosophy: Vol. 1 of 3</span>, <span style=\"background-color:#d8daef;\">Friedrich Nietzsche: Thoughts out of Season, Part One</span></p></small>"
      ],
      "text/plain": [
       "<IPython.core.display.HTML object>"
      ]
     },
     "metadata": {},
     "output_type": "display_data"
    },
    {
     "name": "stdout",
     "output_type": "stream",
     "text": [
      "--------temperature: 1.0 ---------\n"
     ]
    },
    {
     "data": {
      "text/html": [
       " 64-64 (pp. 17-182).<br><br>[12<span style=\"background-color:#ecf3cf;\">6] Sext. Emp. </span>adv. Memory a.,<span style=\"background-color:#d4efdf;\"> also quote</span><span style=\"background-color:#ecf3cf;\">d Sceptics, </span>Pyrrhom. D. V. 1,<br>II. 1"
      ],
      "text/plain": [
       "<IPython.core.display.HTML object>"
      ]
     },
     "metadata": {},
     "output_type": "display_data"
    },
    {
     "data": {
      "text/html": [
       "<small><p style=\"text-align:right;\">Sources: <span style=\"background-color:#ecf3cf;\">Georg Wilhelm Hegel: Hegel's Lectures on the History of Philosophy: Vol. 2 of 3</span>, <span style=\"background-color:#d4efdf;\">Georg Wilhelm Hegel: Hegel's Lectures on the History of Philosophy: Vol. 1 of 3</span></p></small>"
      ],
      "text/plain": [
       "<IPython.core.display.HTML object>"
      ]
     },
     "metadata": {},
     "output_type": "display_data"
    },
    {
     "name": "stdout",
     "output_type": "stream",
     "text": [
      "--------temperature: 1.05 ---------\n"
     ]
    },
    {
     "data": {
      "text/html": [
       " UNDMIHBLANY.<br><br>The Bitters<span style=\"background-color:#eadbd8;\"> of Verula</span>n<span style=\"background-color:#ecf3cf;\">els, which </span>cu<span style=\"background-color:#d4efdf;\">ned to the G</span>ultan<span style=\"background-color:#d4e6f1;\">i. Cf. also</span> Suppo<span style=\"background-color:#d4efdf;\">. Mind ind</span> obviius<br><span style=\"background-color:#d6eaf8;\">ince, however, t</span>o<span style=\"background-color:#d4efdf;\"> deserting </span><span style=\"background-color:#eadbd8;\">the subject to be </span>taken; F"
      ],
      "text/plain": [
       "<IPython.core.display.HTML object>"
      ]
     },
     "metadata": {},
     "output_type": "display_data"
    },
    {
     "data": {
      "text/html": [
       "<small><p style=\"text-align:right;\">Sources: <span style=\"background-color:#eadbd8;\">Friedrich Nietzsche: The Will to Power, Books I and II</span>, <span style=\"background-color:#ecf3cf;\">Georg Wilhelm Hegel: Hegel's Lectures on the History of Philosophy: Vol. 2 of 3</span>, <span style=\"background-color:#d4efdf;\">Georg Wilhelm Hegel: Hegel's Lectures on the History of Philosophy: Vol. 1 of 3</span>, <span style=\"background-color:#d4e6f1;\">Immanuel Kant: Kant's Critique of Judgement</span>, <span style=\"background-color:#d6eaf8;\">Immanuel Kant: Perpetual Peace</span>, <span style=\"background-color:#eadbd8;\">Immanuel Kant: The Critique of Pure Reason</span></p></small>"
      ],
      "text/plain": [
       "<IPython.core.display.HTML object>"
      ]
     },
     "metadata": {},
     "output_type": "display_data"
    },
    {
     "name": "stdout",
     "output_type": "stream",
     "text": [
      "--------temperature: 1.1 ---------\n"
     ]
    },
    {
     "data": {
      "text/html": [
       " Qu<span style=\"background-color:#ebdef0;\">ke of the pre</span>chnical V. Franc<span style=\"background-color:#d4efdf;\">ialogues, as<br></span><span style=\"background-color:#d8daef;\">negative side </span>quite devas<span style=\"background-color:#eadbd8;\">tical, and not t</span><span style=\"background-color:#d8daef;\">he other. W</span><span style=\"background-color:#ecf3cf;\">ol the absolute</span> in<br>blindly<span style=\"background-color:#d0ece7;\"> it behold</span><span style=\"background-color:#d8daef;\"> good. The </span>interest<span style=\"background-color:#ecf3cf;\">olution of the universe</span><span style=\"background-color:#ecf3cf;\"> itself. Stoic</span><span style=\"background-color:#d4efdf;\">, the<br>Eleatics</span> is<span style=\"background-color:#e2d7d5;\"> closest a</span>"
      ],
      "text/plain": [
       "<IPython.core.display.HTML object>"
      ]
     },
     "metadata": {},
     "output_type": "display_data"
    },
    {
     "data": {
      "text/html": [
       "<small><p style=\"text-align:right;\">Sources: <span style=\"background-color:#ebdef0;\">Friedrich Nietzsche: The Will to Power, Books III and IV</span>, <span style=\"background-color:#d4efdf;\">Georg Wilhelm Hegel: Hegel's Lectures on the History of Philosophy: Vol. 1 of 3</span>, <span style=\"background-color:#d8daef;\">Georg Wilhelm Hegel: The History of Philosophy: Volume 3 of 3</span>, <span style=\"background-color:#eadbd8;\">Immanuel Kant: The Critique of Pure Reason</span>, <span style=\"background-color:#ecf3cf;\">Georg Wilhelm Hegel: Hegel's Lectures on the History of Philosophy: Vol. 2 of 3</span>, <span style=\"background-color:#d0ece7;\">Friedrich Nietzsche: Early Greek Philosophy & Other Essays</span>, <span style=\"background-color:#e2d7d5;\">Friedrich Nietzsche: The Joyful Wisdom</span></p></small>"
      ],
      "text/plain": [
       "<IPython.core.display.HTML object>"
      ]
     },
     "metadata": {},
     "output_type": "display_data"
    },
    {
     "name": "stdout",
     "output_type": "stream",
     "text": [
      "-------------------------------------------\n",
      "step 13750: train loss 2.5860, val loss 2.5974, time 0.503 sec/iter\n",
      "Sample: --------temperature: 0.9 ---------\n"
     ]
    },
    {
     "data": {
      "text/html": [
       " [29<span style=\"background-color:#d4efdf;\">]<br>and the </span><span style=\"background-color:#d4e6f1;\">harmony of the cognitive<br>faculties</span><span style=\"background-color:#d8daef;\"> up here a</span><span style=\"background-color:#d4e6f1;\">ccording to some p</span><span style=\"background-color:#d8daef;\">articular laws of </span><span style=\"background-color:#d4e6f1;\">Reason by<br></span><span style=\"background-color:#d8daef;\">these, so </span>far as<span style=\"background-color:#d8daef;\"> it, which </span><span style=\"background-color:#d4efdf;\">here in thought</span><span style=\"background-color:#d4efdf;\"> our appli</span>cation<span style=\"background-color:#d8daef;\">. General </span><span style=\"background-color:#eadbd8;\">ideas of nature </span>to<br>work<span style=\"background-color:#d4efdf;\"> either on </span><span style=\"background-color:#ecf3cf;\">grounded on a </span><span style=\"background-color:#d4e6f1;\">final purpose (</span><span style=\"background-color:#d6eaf8;\">for in the case of</span>tructes autono"
      ],
      "text/plain": [
       "<IPython.core.display.HTML object>"
      ]
     },
     "metadata": {},
     "output_type": "display_data"
    },
    {
     "data": {
      "text/html": [
       "<small><p style=\"text-align:right;\">Sources: <span style=\"background-color:#d4efdf;\">Georg Wilhelm Hegel: Hegel's Lectures on the History of Philosophy: Vol. 1 of 3</span>, <span style=\"background-color:#d4e6f1;\">Immanuel Kant: Kant's Critique of Judgement</span>, <span style=\"background-color:#d8daef;\">Georg Wilhelm Hegel: The History of Philosophy: Volume 3 of 3</span>, <span style=\"background-color:#eadbd8;\">Immanuel Kant: The Critique of Pure Reason</span>, <span style=\"background-color:#ecf3cf;\">Georg Wilhelm Hegel: Hegel's Lectures on the History of Philosophy: Vol. 2 of 3</span>, <span style=\"background-color:#d6eaf8;\">Immanuel Kant: Perpetual Peace</span></p></small>"
      ],
      "text/plain": [
       "<IPython.core.display.HTML object>"
      ]
     },
     "metadata": {},
     "output_type": "display_data"
    },
    {
     "name": "stdout",
     "output_type": "stream",
     "text": [
      "--------temperature: 0.95 ---------\n"
     ]
    },
    {
     "data": {
      "text/html": [
       " 58<span style=\"background-color:#ebdef0;\">.<br><br>How do </span><span style=\"background-color:#eadbd8;\">I should v</span><span style=\"background-color:#d8daef;\">alue definite </span><span style=\"background-color:#d8daef;\">system of morals</span>?<span style=\"background-color:#e2d7d5;\"><br><br>When Zarathustra w</span>ould<span style=\"background-color:#d6dbdf;\"> touch the c</span><span style=\"background-color:#e2d7d5;\">hen he sou</span>rc<span style=\"background-color:#ebdef0;\">enounce on</span> bunderly?<span style=\"background-color:#e2d7d5;\"> After a while<br></span>lun up<span style=\"background-color:#e2d7d5;\"> well for </span>one <span style=\"background-color:#edebd0;\">very one who has </span><span style=\"background-color:#d0ece7;\">no right a</span>nd able<span style=\"background-color:#ebdef0;\">t--namely, </span>"
      ],
      "text/plain": [
       "<IPython.core.display.HTML object>"
      ]
     },
     "metadata": {},
     "output_type": "display_data"
    },
    {
     "data": {
      "text/html": [
       "<small><p style=\"text-align:right;\">Sources: <span style=\"background-color:#ebdef0;\">Friedrich Nietzsche: The Will to Power, Books III and IV</span>, <span style=\"background-color:#eadbd8;\">Immanuel Kant: The Critique of Pure Reason</span>, <span style=\"background-color:#d8daef;\">Friedrich Nietzsche: Thoughts out of Season, Part One</span>, <span style=\"background-color:#d8daef;\">Georg Wilhelm Hegel: The History of Philosophy: Volume 3 of 3</span>, <span style=\"background-color:#e2d7d5;\">Friedrich Nietzsche: Thus Spake Zarathustra</span>, <span style=\"background-color:#d6dbdf;\">Friedrich Nietzsche: Thoughts Out of Season, Part 2</span>, <span style=\"background-color:#ebdef0;\">Friedrich Nietzsche: Beyond Good and Evil</span>, <span style=\"background-color:#e2d7d5;\">Friedrich Nietzsche: The Joyful Wisdom</span>, <span style=\"background-color:#edebd0;\">Immanuel Kant: Kant's Prolegomena</span>, <span style=\"background-color:#d0ece7;\">Friedrich Nietzsche: Early Greek Philosophy & Other Essays</span></p></small>"
      ],
      "text/plain": [
       "<IPython.core.display.HTML object>"
      ]
     },
     "metadata": {},
     "output_type": "display_data"
    },
    {
     "name": "stdout",
     "output_type": "stream",
     "text": [
      "--------temperature: 1.0 ---------\n"
     ]
    },
    {
     "data": {
      "text/html": [
       " IX. <span style=\"background-color:#d4e6f1;\">3. Comparison</span>.<br> Seemet<span style=\"background-color:#d8daef;\">h he gave </span><span style=\"background-color:#d8daef;\">old, into<br></span><span style=\"background-color:#d8daef;\">break out in</span><span style=\"background-color:#eadbd8;\"> the metamor</span>sels, s<span style=\"background-color:#e2d7d5;\">o, I myself </span>to-day, or eat no<span style=\"background-color:#ecf3cf;\"> body<br>and </span><span style=\"background-color:#fae5d3;\">ordered way</span><span style=\"background-color:#ebdef0;\">s justify </span>them CONCEALD"
      ],
      "text/plain": [
       "<IPython.core.display.HTML object>"
      ]
     },
     "metadata": {},
     "output_type": "display_data"
    },
    {
     "data": {
      "text/html": [
       "<small><p style=\"text-align:right;\">Sources: <span style=\"background-color:#d4e6f1;\">Immanuel Kant: Kant's Critique of Judgement</span>, <span style=\"background-color:#d8daef;\">Georg Wilhelm Hegel: The History of Philosophy: Volume 3 of 3</span>, <span style=\"background-color:#eadbd8;\">Friedrich Nietzsche: The Will to Power, Books I and II</span>, <span style=\"background-color:#e2d7d5;\">Friedrich Nietzsche: Thus Spake Zarathustra</span>, <span style=\"background-color:#ecf3cf;\">Georg Wilhelm Hegel: Hegel's Lectures on the History of Philosophy: Vol. 2 of 3</span>, <span style=\"background-color:#fae5d3;\">Friedrich Nietzsche: We Philologists, Volume 8 of 18</span>, <span style=\"background-color:#ebdef0;\">Friedrich Nietzsche: The Will to Power, Books III and IV</span></p></small>"
      ],
      "text/plain": [
       "<IPython.core.display.HTML object>"
      ]
     },
     "metadata": {},
     "output_type": "display_data"
    },
    {
     "name": "stdout",
     "output_type": "stream",
     "text": [
      "--------temperature: 1.05 ---------\n"
     ]
    },
    {
     "data": {
      "text/html": [
       " νοάμενυνοῦ<span style=\"background-color:#eadbd8;\">,<br>substance</span><span style=\"background-color:#ecf3cf;\"> which is that which </span><span style=\"background-color:#ebdef0;\">is not just t</span><span style=\"background-color:#ecf3cf;\">o one another; a</span><span style=\"background-color:#eadbd8;\"> body may be </span><span style=\"background-color:#ecf3cf;\">itself<br>uni</span><span style=\"background-color:#d8daef;\">ntelligible </span><span style=\"background-color:#ecf3cf;\">knowledge of natural </span><span style=\"background-color:#d8daef;\">category of the </span><span style=\"background-color:#d8daef;\">matter and for</span><span style=\"background-color:#d4efdf;\"><br>itself: th</span><span style=\"background-color:#d8daef;\">e whole of the pr</span>le t<span style=\"background-color:#ebdef0;\">all, this </span><span style=\"background-color:#ecf3cf;\">determination is l</span><span style=\"background-color:#e2d7d5;\">acking in this </span>one-side.<br><br>Whe<span style=\"background-color:#eadbd8;\">nes proceed</span>"
      ],
      "text/plain": [
       "<IPython.core.display.HTML object>"
      ]
     },
     "metadata": {},
     "output_type": "display_data"
    },
    {
     "data": {
      "text/html": [
       "<small><p style=\"text-align:right;\">Sources: <span style=\"background-color:#eadbd8;\">Immanuel Kant: The Critique of Pure Reason</span>, <span style=\"background-color:#ecf3cf;\">Georg Wilhelm Hegel: Hegel's Lectures on the History of Philosophy: Vol. 2 of 3</span>, <span style=\"background-color:#ebdef0;\">Friedrich Nietzsche: Beyond Good and Evil</span>, <span style=\"background-color:#d8daef;\">Georg Wilhelm Hegel: The History of Philosophy: Volume 3 of 3</span>, <span style=\"background-color:#d4efdf;\">Georg Wilhelm Hegel: Hegel's Lectures on the History of Philosophy: Vol. 1 of 3</span>, <span style=\"background-color:#ebdef0;\">Friedrich Nietzsche: The Will to Power, Books III and IV</span>, <span style=\"background-color:#e2d7d5;\">Friedrich Nietzsche: The Joyful Wisdom</span></p></small>"
      ],
      "text/plain": [
       "<IPython.core.display.HTML object>"
      ]
     },
     "metadata": {},
     "output_type": "display_data"
    },
    {
     "name": "stdout",
     "output_type": "stream",
     "text": [
      "--------temperature: 1.1 ---------\n"
     ]
    },
    {
     "data": {
      "text/html": [
       " νομένητανητι, δ̓ κιαι, 10.<br><br>[211]<span style=\"background-color:#d4efdf;\"> The original </span>The<span style=\"background-color:#ebdef0;\">ogress and </span>Dionut<span style=\"background-color:#ebdef0;\">is a matter of the</span> other<span style=\"background-color:#ebdef0;\">? We have </span><span style=\"background-color:#eadbd8;\">a predicate<br></span><span style=\"background-color:#d4e6f1;\">is determinable </span>(κτά"
      ],
      "text/plain": [
       "<IPython.core.display.HTML object>"
      ]
     },
     "metadata": {},
     "output_type": "display_data"
    },
    {
     "data": {
      "text/html": [
       "<small><p style=\"text-align:right;\">Sources: <span style=\"background-color:#d4efdf;\">Georg Wilhelm Hegel: Hegel's Lectures on the History of Philosophy: Vol. 1 of 3</span>, <span style=\"background-color:#ebdef0;\">Friedrich Nietzsche: The Will to Power, Books III and IV</span>, <span style=\"background-color:#eadbd8;\">Immanuel Kant: The Critique of Pure Reason</span>, <span style=\"background-color:#d4e6f1;\">Immanuel Kant: Kant's Critique of Judgement</span></p></small>"
      ],
      "text/plain": [
       "<IPython.core.display.HTML object>"
      ]
     },
     "metadata": {},
     "output_type": "display_data"
    },
    {
     "name": "stdout",
     "output_type": "stream",
     "text": [
      "-------------------------------------------\n",
      "step 14000: train loss 2.6129, val loss 2.5931, time 0.501 sec/iter\n",
      "Sample: --------temperature: 0.9 ---------\n"
     ]
    },
    {
     "data": {
      "text/html": [
       " 97.<br><br>_Homer, II<span style=\"background-color:#d8daef;\">. The Pope o</span>f P<span style=\"background-color:#ebdef0;\">ercising it</span> 1209<span style=\"background-color:#d8daef;\">.<br><br>  Persia</span>s Grimonic well-Solon: \"His fell-bosom, qu<span style=\"background-color:#d4e6f1;\">id Schopenhauer</span><br><span style=\"background-color:#d8daef;\">ancient Greece</span>,<span style=\"background-color:#ebdef0;\"> and broad</span>; a"
      ],
      "text/plain": [
       "<IPython.core.display.HTML object>"
      ]
     },
     "metadata": {},
     "output_type": "display_data"
    },
    {
     "data": {
      "text/html": [
       "<small><p style=\"text-align:right;\">Sources: <span style=\"background-color:#d8daef;\">Georg Wilhelm Hegel: The History of Philosophy: Volume 3 of 3</span>, <span style=\"background-color:#ebdef0;\">Friedrich Nietzsche: The Will to Power, Books III and IV</span>, <span style=\"background-color:#d4e6f1;\">Immanuel Kant: Kant's Critique of Judgement</span>, <span style=\"background-color:#d8daef;\">Friedrich Nietzsche: Thoughts out of Season, Part One</span></p></small>"
      ],
      "text/plain": [
       "<IPython.core.display.HTML object>"
      ]
     },
     "metadata": {},
     "output_type": "display_data"
    },
    {
     "name": "stdout",
     "output_type": "stream",
     "text": [
      "--------temperature: 0.95 ---------\n"
     ]
    },
    {
     "data": {
      "text/html": [
       " 57<span style=\"background-color:#eadbd8;\">8.<br><br>The war </span><span style=\"background-color:#ecf3cf;\">of Beauty, </span>which heonderfume god<span style=\"background-color:#eadbd8;\"> a degree </span>wrote<span style=\"background-color:#ebdef0;\"> our neighbour,</span><span style=\"background-color:#d4efdf;\"><br>because in t</span><span style=\"background-color:#ecf3cf;\">o make the former </span>it is n<span style=\"background-color:#eadbd8;\">ew; and, a</span>f<span style=\"background-color:#d8daef;\">ter in this</span><br>m<span style=\"background-color:#ebdef0;\">ay themselves a</span>re c<span style=\"background-color:#eadbd8;\">arranged. </span>B<span style=\"background-color:#d8daef;\">ased upon </span><span style=\"background-color:#ecf3cf;\">Zeno in the </span>ninth but a"
      ],
      "text/plain": [
       "<IPython.core.display.HTML object>"
      ]
     },
     "metadata": {},
     "output_type": "display_data"
    },
    {
     "data": {
      "text/html": [
       "<small><p style=\"text-align:right;\">Sources: <span style=\"background-color:#eadbd8;\">Friedrich Nietzsche: The Will to Power, Books I and II</span>, <span style=\"background-color:#ecf3cf;\">Georg Wilhelm Hegel: Hegel's Lectures on the History of Philosophy: Vol. 2 of 3</span>, <span style=\"background-color:#ebdef0;\">Friedrich Nietzsche: Beyond Good and Evil</span>, <span style=\"background-color:#d4efdf;\">Georg Wilhelm Hegel: Hegel's Lectures on the History of Philosophy: Vol. 1 of 3</span>, <span style=\"background-color:#eadbd8;\">Immanuel Kant: The Critique of Pure Reason</span>, <span style=\"background-color:#d8daef;\">Georg Wilhelm Hegel: The History of Philosophy: Volume 3 of 3</span>, <span style=\"background-color:#ebdef0;\">Friedrich Nietzsche: The Will to Power, Books III and IV</span></p></small>"
      ],
      "text/plain": [
       "<IPython.core.display.HTML object>"
      ]
     },
     "metadata": {},
     "output_type": "display_data"
    },
    {
     "name": "stdout",
     "output_type": "stream",
     "text": [
      "--------temperature: 1.0 ---------\n"
     ]
    },
    {
     "data": {
      "text/html": [
       " εἴδειαι, έ<span style=\"background-color:#d8daef;\">νοῦς), which </span>procures<br>forms (ἐποιχει)<span style=\"background-color:#d8daef;\">, or in other w</span>ith the νοῦς<span style=\"background-color:#d8daef;\">; thus the<br></span><span style=\"background-color:#ecf3cf;\">thought and par</span><span style=\"background-color:#d8daef;\">en in what we </span><span style=\"background-color:#ecf3cf;\">be the sensuous to </span>Being<span style=\"background-color:#d4efdf;\">—and hence </span>"
      ],
      "text/plain": [
       "<IPython.core.display.HTML object>"
      ]
     },
     "metadata": {},
     "output_type": "display_data"
    },
    {
     "data": {
      "text/html": [
       "<small><p style=\"text-align:right;\">Sources: <span style=\"background-color:#d8daef;\">Georg Wilhelm Hegel: The History of Philosophy: Volume 3 of 3</span>, <span style=\"background-color:#ecf3cf;\">Georg Wilhelm Hegel: Hegel's Lectures on the History of Philosophy: Vol. 2 of 3</span>, <span style=\"background-color:#d4efdf;\">Georg Wilhelm Hegel: Hegel's Lectures on the History of Philosophy: Vol. 1 of 3</span></p></small>"
      ],
      "text/plain": [
       "<IPython.core.display.HTML object>"
      ]
     },
     "metadata": {},
     "output_type": "display_data"
    },
    {
     "name": "stdout",
     "output_type": "stream",
     "text": [
      "--------temperature: 1.05 ---------\n"
     ]
    },
    {
     "data": {
      "text/html": [
       " τὸ ποθὴ να<span style=\"background-color:#e5e8e8;\"> could this re</span>e<span style=\"background-color:#d4e6f1;\"> these<br>is </span>un<span style=\"background-color:#d8daef;\">that each </span>emerg<span style=\"background-color:#d6dbdf;\">ot. It is </span><span style=\"background-color:#d8daef;\">thus not a</span>t<br>νόν λέλοι, ; Die March<span style=\"background-color:#d4efdf;\">us, and Democritus</span><span style=\"background-color:#ecf3cf;\"> and the<br>T</span><span style=\"background-color:#ebdef0;\">hought, like</span>wise "
      ],
      "text/plain": [
       "<IPython.core.display.HTML object>"
      ]
     },
     "metadata": {},
     "output_type": "display_data"
    },
    {
     "data": {
      "text/html": [
       "<small><p style=\"text-align:right;\">Sources: <span style=\"background-color:#e5e8e8;\">Immanuel Kant: The Critique of Practical Reason</span>, <span style=\"background-color:#d4e6f1;\">Immanuel Kant: Kant's Critique of Judgement</span>, <span style=\"background-color:#d8daef;\">Georg Wilhelm Hegel: The History of Philosophy: Volume 3 of 3</span>, <span style=\"background-color:#d6dbdf;\">Friedrich Nietzsche: Thoughts Out of Season, Part 2</span>, <span style=\"background-color:#d4efdf;\">Georg Wilhelm Hegel: Hegel's Lectures on the History of Philosophy: Vol. 1 of 3</span>, <span style=\"background-color:#ecf3cf;\">Georg Wilhelm Hegel: Hegel's Lectures on the History of Philosophy: Vol. 2 of 3</span>, <span style=\"background-color:#ebdef0;\">Friedrich Nietzsche: The Will to Power, Books III and IV</span></p></small>"
      ],
      "text/plain": [
       "<IPython.core.display.HTML object>"
      ]
     },
     "metadata": {},
     "output_type": "display_data"
    },
    {
     "name": "stdout",
     "output_type": "stream",
     "text": [
      "--------temperature: 1.1 ---------\n"
     ]
    },
    {
     "data": {
      "text/html": [
       " νχῆς)<span style=\"background-color:#d8daef;\"> exhibited the </span><span style=\"background-color:#d8daef;\">teaching of </span>Th<span style=\"background-color:#d4efdf;\">racle which </span>sil<span style=\"background-color:#ecf3cf;\">e<br>first bring</span> dea<span style=\"background-color:#d4e6f1;\">ls of which </span><span style=\"background-color:#d4efdf;\">is also the mo</span><span style=\"background-color:#eadbd8;\">re earnest </span><span style=\"background-color:#d8daef;\">in this<br>way </span><span style=\"background-color:#d4efdf;\">to the individual as </span><span style=\"background-color:#d8daef;\">in reality</span><span style=\"background-color:#ecf3cf;\">; yet this </span><span style=\"background-color:#f6ddcc;\">is taking p</span><span style=\"background-color:#ecf3cf;\">hilosophic<br>i</span><span style=\"background-color:#d8daef;\">s to have ac</span>tuality<span style=\"background-color:#eadbd8;\">ly without a </span><span style=\"background-color:#ebdef0;\">feeling of un</span><span style=\"background-color:#ecf3cf;\">derstanding outside </span>into the"
      ],
      "text/plain": [
       "<IPython.core.display.HTML object>"
      ]
     },
     "metadata": {},
     "output_type": "display_data"
    },
    {
     "data": {
      "text/html": [
       "<small><p style=\"text-align:right;\">Sources: <span style=\"background-color:#d8daef;\">Georg Wilhelm Hegel: The History of Philosophy: Volume 3 of 3</span>, <span style=\"background-color:#d4efdf;\">Georg Wilhelm Hegel: Hegel's Lectures on the History of Philosophy: Vol. 1 of 3</span>, <span style=\"background-color:#ecf3cf;\">Georg Wilhelm Hegel: Hegel's Lectures on the History of Philosophy: Vol. 2 of 3</span>, <span style=\"background-color:#d4e6f1;\">Immanuel Kant: Kant's Critique of Judgement</span>, <span style=\"background-color:#eadbd8;\">Friedrich Nietzsche: The Will to Power, Books I and II</span>, <span style=\"background-color:#f6ddcc;\">Friedrich Nietzsche: Human, All Too Human</span>, <span style=\"background-color:#eadbd8;\">Immanuel Kant: The Critique of Pure Reason</span>, <span style=\"background-color:#ebdef0;\">Friedrich Nietzsche: The Will to Power, Books III and IV</span></p></small>"
      ],
      "text/plain": [
       "<IPython.core.display.HTML object>"
      ]
     },
     "metadata": {},
     "output_type": "display_data"
    },
    {
     "name": "stdout",
     "output_type": "stream",
     "text": [
      "-------------------------------------------\n",
      "step 14250: train loss 2.5486, val loss 2.5590, time 0.502 sec/iter\n",
      "Sample: --------temperature: 0.9 ---------\n"
     ]
    },
    {
     "data": {
      "text/html": [
       " παροντρὶ κεῖζει τα τόν στα τὰ<br>D<span style=\"background-color:#d8daef;\">. The tent</span><span style=\"background-color:#d8daef;\">ate is rea</span>ding combarr, whilesappear.”[108]<br><br>"
      ],
      "text/plain": [
       "<IPython.core.display.HTML object>"
      ]
     },
     "metadata": {},
     "output_type": "display_data"
    },
    {
     "data": {
      "text/html": [
       "<small><p style=\"text-align:right;\">Sources: <span style=\"background-color:#d8daef;\">Georg Wilhelm Hegel: The History of Philosophy: Volume 3 of 3</span></p></small>"
      ],
      "text/plain": [
       "<IPython.core.display.HTML object>"
      ]
     },
     "metadata": {},
     "output_type": "display_data"
    },
    {
     "name": "stdout",
     "output_type": "stream",
     "text": [
      "--------temperature: 0.95 ---------\n"
     ]
    },
    {
     "data": {
      "text/html": [
       " ^paralog<span style=\"background-color:#f6ddcc;\">ized at the e</span><span style=\"background-color:#d4efdf;\">nd. Philosophy i</span><span style=\"background-color:#d4efdf;\">n Republic</span><span style=\"background-color:#d8daef;\">an<br>culture </span><span style=\"background-color:#d8daef;\">in philosophy w</span><span style=\"background-color:#ecf3cf;\">as a time </span><span style=\"background-color:#ebdef0;\">not to be disp</span>ens<span style=\"background-color:#d8daef;\">ed<br>on by the </span>Ind<span style=\"background-color:#e2d7d5;\">ians, hence </span><span style=\"background-color:#d4efdf;\">as Philosophy a</span><span style=\"background-color:#d4e6e1;\"> proposed e</span><span style=\"background-color:#ebdef0;\">xpression of<br></span><span style=\"background-color:#d6eaf8;\">unishment, wh</span>er<span style=\"background-color:#d8daef;\">e. Descartes</span><span style=\"background-color:#ebdef0;\"> should be made of</span>t<span style=\"background-color:#d8daef;\">en<br>Philosophy</span>, and desc"
      ],
      "text/plain": [
       "<IPython.core.display.HTML object>"
      ]
     },
     "metadata": {},
     "output_type": "display_data"
    },
    {
     "data": {
      "text/html": [
       "<small><p style=\"text-align:right;\">Sources: <span style=\"background-color:#f6ddcc;\">Friedrich Nietzsche: Human, All Too Human</span>, <span style=\"background-color:#d4efdf;\">Georg Wilhelm Hegel: Hegel's Lectures on the History of Philosophy: Vol. 1 of 3</span>, <span style=\"background-color:#d8daef;\">Friedrich Nietzsche: Thoughts out of Season, Part One</span>, <span style=\"background-color:#d8daef;\">Georg Wilhelm Hegel: The History of Philosophy: Volume 3 of 3</span>, <span style=\"background-color:#ecf3cf;\">Georg Wilhelm Hegel: Hegel's Lectures on the History of Philosophy: Vol. 2 of 3</span>, <span style=\"background-color:#ebdef0;\">Friedrich Nietzsche: Beyond Good and Evil</span>, <span style=\"background-color:#e2d7d5;\">Friedrich Nietzsche: The Joyful Wisdom</span>, <span style=\"background-color:#d4e6e1;\">Immanuel Kant: Fundamental Principles of the Metaphysic of Morals</span>, <span style=\"background-color:#ebdef0;\">Friedrich Nietzsche: The Will to Power, Books III and IV</span>, <span style=\"background-color:#d6eaf8;\">Immanuel Kant: Perpetual Peace</span></p></small>"
      ],
      "text/plain": [
       "<IPython.core.display.HTML object>"
      ]
     },
     "metadata": {},
     "output_type": "display_data"
    },
    {
     "name": "stdout",
     "output_type": "stream",
     "text": [
      "--------temperature: 1.0 ---------\n"
     ]
    },
    {
     "data": {
      "text/html": [
       "<span style=\"background-color:#ebdef0;\"> just<br>as li</span>ves<span style=\"background-color:#ebdef0;\"> and house</span>ror<span style=\"background-color:#fae5d3;\">s, as with a</span> broken<span style=\"background-color:#d8daef;\">, we here </span>upright<span style=\"background-color:#eadbd8;\">--with the </span>good<span style=\"background-color:#d6dbdf;\"> and<br>lonel</span><span style=\"background-color:#e5e8e8;\">iness into </span><span style=\"background-color:#ebdef0;\">grace of a</span><span style=\"background-color:#ecf3cf;\">ll strength o</span>n the envelopeniggarly<span style=\"background-color:#ecf3cf;\"> at dialectic in</span><span style=\"background-color:#ecf3cf;\"><br>this we have </span><span style=\"background-color:#d4efdf;\">set aside, t</span><span style=\"background-color:#f6ddcc;\">oo, that i</span>n the gl<span style=\"background-color:#ebdef0;\">os of the </span>world "
      ],
      "text/plain": [
       "<IPython.core.display.HTML object>"
      ]
     },
     "metadata": {},
     "output_type": "display_data"
    },
    {
     "data": {
      "text/html": [
       "<small><p style=\"text-align:right;\">Sources: <span style=\"background-color:#ebdef0;\">Friedrich Nietzsche: The Will to Power, Books III and IV</span>, <span style=\"background-color:#fae5d3;\">Friedrich Nietzsche: We Philologists, Volume 8 of 18</span>, <span style=\"background-color:#d8daef;\">Friedrich Nietzsche: Thoughts out of Season, Part One</span>, <span style=\"background-color:#eadbd8;\">Friedrich Nietzsche: The Will to Power, Books I and II</span>, <span style=\"background-color:#d6dbdf;\">Friedrich Nietzsche: Thoughts Out of Season, Part 2</span>, <span style=\"background-color:#e5e8e8;\">Immanuel Kant: The Critique of Practical Reason</span>, <span style=\"background-color:#ebdef0;\">Friedrich Nietzsche: Beyond Good and Evil</span>, <span style=\"background-color:#ecf3cf;\">Georg Wilhelm Hegel: Hegel's Lectures on the History of Philosophy: Vol. 2 of 3</span>, <span style=\"background-color:#d4efdf;\">Georg Wilhelm Hegel: Hegel's Lectures on the History of Philosophy: Vol. 1 of 3</span>, <span style=\"background-color:#f6ddcc;\">Friedrich Nietzsche: Human, All Too Human</span></p></small>"
      ],
      "text/plain": [
       "<IPython.core.display.HTML object>"
      ]
     },
     "metadata": {},
     "output_type": "display_data"
    },
    {
     "name": "stdout",
     "output_type": "stream",
     "text": [
      "--------temperature: 1.05 ---------\n"
     ]
    },
    {
     "data": {
      "text/html": [
       " ^<span style=\"background-color:#d8daef;\">paralogism is </span>e<span style=\"background-color:#e5e8e8;\">fficiently ass</span>imilaached at, leavenly began.]<br><br>[63] [Transmit<span style=\"background-color:#d4efdf;\"> of Time, </span><span style=\"background-color:#ebdef0;\">in order to make </span><span style=\"background-color:#eadbd8;\">mistrust and<br>c</span><span style=\"background-color:#d8daef;\">ontradiction</span>]:<span style=\"background-color:#d8daef;\"> this made </span><span style=\"background-color:#d8daef;\">himself may ha</span><span style=\"background-color:#eadbd8;\">ve been considered</span><span style=\"background-color:#d6dbdf;\"> himself exc</span>ited<br>justly] "
      ],
      "text/plain": [
       "<IPython.core.display.HTML object>"
      ]
     },
     "metadata": {},
     "output_type": "display_data"
    },
    {
     "data": {
      "text/html": [
       "<small><p style=\"text-align:right;\">Sources: <span style=\"background-color:#d8daef;\">Georg Wilhelm Hegel: The History of Philosophy: Volume 3 of 3</span>, <span style=\"background-color:#e5e8e8;\">Immanuel Kant: The Critique of Practical Reason</span>, <span style=\"background-color:#d4efdf;\">Georg Wilhelm Hegel: Hegel's Lectures on the History of Philosophy: Vol. 1 of 3</span>, <span style=\"background-color:#ebdef0;\">Friedrich Nietzsche: The Will to Power, Books III and IV</span>, <span style=\"background-color:#eadbd8;\">Friedrich Nietzsche: The Will to Power, Books I and II</span>, <span style=\"background-color:#d8daef;\">Friedrich Nietzsche: Thoughts out of Season, Part One</span>, <span style=\"background-color:#d6dbdf;\">Friedrich Nietzsche: Thoughts Out of Season, Part 2</span></p></small>"
      ],
      "text/plain": [
       "<IPython.core.display.HTML object>"
      ]
     },
     "metadata": {},
     "output_type": "display_data"
    },
    {
     "name": "stdout",
     "output_type": "stream",
     "text": [
      "--------temperature: 1.1 ---------\n"
     ]
    },
    {
     "data": {
      "text/html": [
       " ^parag<span style=\"background-color:#e2d7d5;\">erated with th</span><span style=\"background-color:#d4efdf;\">e passing a</span><span style=\"background-color:#d4efdf;\"> science. P</span>assio<span style=\"background-color:#d4efdf;\"><br>gives these </span>fift sy<span style=\"background-color:#e2d7d5;\">mbles and </span><span style=\"background-color:#d8daef;\">to perceive s</span><span style=\"background-color:#d8daef;\">imple with </span>finery<span style=\"background-color:#d4e6f1;\"> to<br>our co</span><span style=\"background-color:#d8daef;\">mpletely c</span><span style=\"background-color:#d4efdf;\">reates and </span><span style=\"background-color:#d0ece7;\">use it to </span><span style=\"background-color:#d4efdf;\">the existence of the w</span>hole deed<span style=\"background-color:#d8daef;\">, of<br>their </span><span style=\"background-color:#d8daef;\">hological, </span>_i.e._<span style=\"background-color:#ebdef0;\"> falseness, </span><span style=\"background-color:#edebd0;\">but at the same time, </span><span style=\"background-color:#eadbd8;\">is thorough</span><span style=\"background-color:#d8daef;\"><br>men as he ma</span>"
      ],
      "text/plain": [
       "<IPython.core.display.HTML object>"
      ]
     },
     "metadata": {},
     "output_type": "display_data"
    },
    {
     "data": {
      "text/html": [
       "<small><p style=\"text-align:right;\">Sources: <span style=\"background-color:#e2d7d5;\">Friedrich Nietzsche: The Joyful Wisdom</span>, <span style=\"background-color:#d4efdf;\">Georg Wilhelm Hegel: Hegel's Lectures on the History of Philosophy: Vol. 1 of 3</span>, <span style=\"background-color:#e2d7d5;\">Friedrich Nietzsche: Thus Spake Zarathustra</span>, <span style=\"background-color:#d8daef;\">Georg Wilhelm Hegel: The History of Philosophy: Volume 3 of 3</span>, <span style=\"background-color:#d4e6f1;\">Immanuel Kant: Kant's Critique of Judgement</span>, <span style=\"background-color:#d0ece7;\">Friedrich Nietzsche: Early Greek Philosophy & Other Essays</span>, <span style=\"background-color:#ebdef0;\">Friedrich Nietzsche: The Will to Power, Books III and IV</span>, <span style=\"background-color:#edebd0;\">Immanuel Kant: Kant's Prolegomena</span>, <span style=\"background-color:#eadbd8;\">Friedrich Nietzsche: The Will to Power, Books I and II</span>, <span style=\"background-color:#d8daef;\">Friedrich Nietzsche: Thoughts out of Season, Part One</span></p></small>"
      ],
      "text/plain": [
       "<IPython.core.display.HTML object>"
      ]
     },
     "metadata": {},
     "output_type": "display_data"
    },
    {
     "name": "stdout",
     "output_type": "stream",
     "text": [
      "-------------------------------------------\n",
      "step 14500: train loss 2.5316, val loss 2.5759, time 0.503 sec/iter\n",
      "Sample: --------temperature: 0.9 ---------\n"
     ]
    },
    {
     "data": {
      "text/html": [
       "<span style=\"background-color:#fdebd0;\"> ^paragraph 15}<br><br></span>W<span style=\"background-color:#fae5d3;\">hat we may as</span>k<span style=\"background-color:#ebdef0;\"> no loss of </span><span style=\"background-color:#ebdef0;\">its first p</span><span style=\"background-color:#d8daef;\">lace for me</span>n<span style=\"background-color:#e2d7d5;\"> may be<br>he</span> adop<span style=\"background-color:#e2d7d5;\">y with respect </span><span style=\"background-color:#ecf3cf;\">for the confusion, </span><span style=\"background-color:#d8daef;\">for though </span>pain<br><span style=\"background-color:#d0ece7;\">and exclusive </span><span style=\"background-color:#d8daef;\">rise through </span><span style=\"background-color:#eadbd8;\">all errors </span><span style=\"background-color:#d8daef;\">from reason, and </span><span style=\"background-color:#e2d7d5;\">with it they</span><span style=\"background-color:#d6eaf8;\"><br>arising from </span>our obedi"
      ],
      "text/plain": [
       "<IPython.core.display.HTML object>"
      ]
     },
     "metadata": {},
     "output_type": "display_data"
    },
    {
     "data": {
      "text/html": [
       "<small><p style=\"text-align:right;\">Sources: <span style=\"background-color:#fdebd0;\">Immanuel Kant: The Metaphysical Elements of Ethics</span>, <span style=\"background-color:#fae5d3;\">Friedrich Nietzsche: We Philologists, Volume 8 of 18</span>, <span style=\"background-color:#ebdef0;\">Friedrich Nietzsche: The Will to Power, Books III and IV</span>, <span style=\"background-color:#d8daef;\">Georg Wilhelm Hegel: The History of Philosophy: Volume 3 of 3</span>, <span style=\"background-color:#e2d7d5;\">Friedrich Nietzsche: The Joyful Wisdom</span>, <span style=\"background-color:#ecf3cf;\">Georg Wilhelm Hegel: Hegel's Lectures on the History of Philosophy: Vol. 2 of 3</span>, <span style=\"background-color:#d0ece7;\">Friedrich Nietzsche: Early Greek Philosophy & Other Essays</span>, <span style=\"background-color:#eadbd8;\">Immanuel Kant: The Critique of Pure Reason</span>, <span style=\"background-color:#d6eaf8;\">Immanuel Kant: Perpetual Peace</span></p></small>"
      ],
      "text/plain": [
       "<IPython.core.display.HTML object>"
      ]
     },
     "metadata": {},
     "output_type": "display_data"
    },
    {
     "name": "stdout",
     "output_type": "stream",
     "text": [
      "--------temperature: 0.95 ---------\n"
     ]
    },
    {
     "data": {
      "text/html": [
       " <span style=\"background-color:#d8daef;\">. Nothing is </span><span style=\"background-color:#d4efdf;\">further still.<br></span><span style=\"background-color:#ecf3cf;\">But although th</span><span style=\"background-color:#d4e6f1;\">is latter is a</span><span style=\"background-color:#d4e6f1;\">ctually does</span><span style=\"background-color:#e5e8e8;\"> not render </span>the non-emine: \"It<span style=\"background-color:#ebdef0;\"> is<br>imagined</span>,\"<span style=\"background-color:#eadbd8;\"> when it is a </span><span style=\"background-color:#ebdef0;\">\"thing in itself\"</span><span style=\"background-color:#edebd0;\"><br>itself de</span>clar<span style=\"background-color:#d8daef;\">es not remain</span>ing.\"<span style=\"background-color:#e2d7d5;\"> But one thing</span><span style=\"background-color:#d4efdf;\"><br>is not clear </span><span style=\"background-color:#d4e6f1;\">that possible</span>, a<span style=\"background-color:#d8daef;\">re an object of </span><span style=\"background-color:#eadbd8;\">experience, they</span><br>a"
      ],
      "text/plain": [
       "<IPython.core.display.HTML object>"
      ]
     },
     "metadata": {},
     "output_type": "display_data"
    },
    {
     "data": {
      "text/html": [
       "<small><p style=\"text-align:right;\">Sources: <span style=\"background-color:#d8daef;\">Georg Wilhelm Hegel: The History of Philosophy: Volume 3 of 3</span>, <span style=\"background-color:#d4efdf;\">Georg Wilhelm Hegel: Hegel's Lectures on the History of Philosophy: Vol. 1 of 3</span>, <span style=\"background-color:#ecf3cf;\">Georg Wilhelm Hegel: Hegel's Lectures on the History of Philosophy: Vol. 2 of 3</span>, <span style=\"background-color:#d4e6f1;\">Immanuel Kant: Kant's Critique of Judgement</span>, <span style=\"background-color:#e5e8e8;\">Immanuel Kant: The Critique of Practical Reason</span>, <span style=\"background-color:#ebdef0;\">Friedrich Nietzsche: The Will to Power, Books III and IV</span>, <span style=\"background-color:#eadbd8;\">Friedrich Nietzsche: The Will to Power, Books I and II</span>, <span style=\"background-color:#edebd0;\">Immanuel Kant: Kant's Prolegomena</span>, <span style=\"background-color:#e2d7d5;\">Friedrich Nietzsche: The Joyful Wisdom</span>, <span style=\"background-color:#eadbd8;\">Immanuel Kant: The Critique of Pure Reason</span></p></small>"
      ],
      "text/plain": [
       "<IPython.core.display.HTML object>"
      ]
     },
     "metadata": {},
     "output_type": "display_data"
    },
    {
     "name": "stdout",
     "output_type": "stream",
     "text": [
      "--------temperature: 1.0 ---------\n"
     ]
    },
    {
     "data": {
      "text/html": [
       " 9<span style=\"background-color:#ebdef0;\">02.<br><br>In regard to </span><span style=\"background-color:#eadbd8;\">reference to the empirical </span><span style=\"background-color:#d4e6f1;\">_satisfaction_ </span><span style=\"background-color:#d8daef;\">is a thing</span><span style=\"background-color:#d4efdf;\">, is to be<br></span>ex<span style=\"background-color:#eadbd8;\">ponent to </span><span style=\"background-color:#edebd0;\">be established as a </span><span style=\"background-color:#d4e6f1;\">thing of opinion</span><span style=\"background-color:#ebdef0;\"> for that purpose </span><span style=\"background-color:#ebdef0;\">of our desire</span> for<span style=\"background-color:#edebd0;\"><br>our knowledge </span>to<span style=\"background-color:#d4efdf;\"> law to him</span><span style=\"background-color:#d8daef;\">, without requiring </span>in<span style=\"background-color:#d0ece7;\"><br>the expression of the </span><span style=\"background-color:#eadbd8;\">two main genera</span>l<span style=\"background-color:#d4e6f1;\"> _rational </span><span style=\"background-color:#d8daef;\">being in m</span>an.\"<br><br>"
      ],
      "text/plain": [
       "<IPython.core.display.HTML object>"
      ]
     },
     "metadata": {},
     "output_type": "display_data"
    },
    {
     "data": {
      "text/html": [
       "<small><p style=\"text-align:right;\">Sources: <span style=\"background-color:#ebdef0;\">Friedrich Nietzsche: The Will to Power, Books III and IV</span>, <span style=\"background-color:#eadbd8;\">Immanuel Kant: The Critique of Pure Reason</span>, <span style=\"background-color:#d4e6f1;\">Immanuel Kant: Kant's Critique of Judgement</span>, <span style=\"background-color:#d8daef;\">Georg Wilhelm Hegel: The History of Philosophy: Volume 3 of 3</span>, <span style=\"background-color:#d4efdf;\">Georg Wilhelm Hegel: Hegel's Lectures on the History of Philosophy: Vol. 1 of 3</span>, <span style=\"background-color:#eadbd8;\">Friedrich Nietzsche: The Will to Power, Books I and II</span>, <span style=\"background-color:#edebd0;\">Immanuel Kant: Kant's Prolegomena</span>, <span style=\"background-color:#d0ece7;\">Friedrich Nietzsche: Early Greek Philosophy & Other Essays</span></p></small>"
      ],
      "text/plain": [
       "<IPython.core.display.HTML object>"
      ]
     },
     "metadata": {},
     "output_type": "display_data"
    },
    {
     "name": "stdout",
     "output_type": "stream",
     "text": [
      "--------temperature: 1.05 ---------\n"
     ]
    },
    {
     "data": {
      "text/html": [
       " 56, 17<span style=\"background-color:#ecf3cf;\">] Cf. Ploti</span>deield, üdest, παὶ<br>217<span style=\"background-color:#d6eaf8;\">, founded </span><span style=\"background-color:#d8daef;\">with in this </span>foreign<span style=\"background-color:#d8daef;\">y. For as </span><span style=\"background-color:#d8daef;\">at that time the </span>fear of cl<span style=\"background-color:#d8daef;\">ary<br>of the </span><span style=\"background-color:#d0ece7;\">order and the </span><span style=\"background-color:#d4efdf;\">bodily world</span>, etc.[215"
      ],
      "text/plain": [
       "<IPython.core.display.HTML object>"
      ]
     },
     "metadata": {},
     "output_type": "display_data"
    },
    {
     "data": {
      "text/html": [
       "<small><p style=\"text-align:right;\">Sources: <span style=\"background-color:#ecf3cf;\">Georg Wilhelm Hegel: Hegel's Lectures on the History of Philosophy: Vol. 2 of 3</span>, <span style=\"background-color:#d6eaf8;\">Immanuel Kant: Perpetual Peace</span>, <span style=\"background-color:#d8daef;\">Georg Wilhelm Hegel: The History of Philosophy: Volume 3 of 3</span>, <span style=\"background-color:#d0ece7;\">Friedrich Nietzsche: Early Greek Philosophy & Other Essays</span>, <span style=\"background-color:#d4efdf;\">Georg Wilhelm Hegel: Hegel's Lectures on the History of Philosophy: Vol. 1 of 3</span></p></small>"
      ],
      "text/plain": [
       "<IPython.core.display.HTML object>"
      ]
     },
     "metadata": {},
     "output_type": "display_data"
    },
    {
     "name": "stdout",
     "output_type": "stream",
     "text": [
      "--------temperature: 1.1 ---------\n"
     ]
    },
    {
     "data": {
      "text/html": [
       " διναίν, δόηδκιμι),<br>hour <span style=\"background-color:#d0ece7;\">s there are al</span>so<span style=\"background-color:#d4e6f1;\"> an expression of a</span><span style=\"background-color:#eadbd8;\"> philosopher, as </span><span style=\"background-color:#d8daef;\">something p</span><span style=\"background-color:#eadbd8;\">henomenon by</span><span style=\"background-color:#eadbd8;\"><br>conceptions. On the </span><span style=\"background-color:#d6eaf8;\">other hand, an</span><span style=\"background-color:#e2d7d5;\">ything out</span><span style=\"background-color:#eadbd8;\">lines there </span><span style=\"background-color:#ecf3cf;\">is no relation to </span><span style=\"background-color:#ebdef0;\">the<br>peculiar </span><span style=\"background-color:#d8daef;\">to sensation </span><span style=\"background-color:#ecf3cf;\">merely, and not </span><span style=\"background-color:#d4e6f1;\">a concept may be </span>organize"
      ],
      "text/plain": [
       "<IPython.core.display.HTML object>"
      ]
     },
     "metadata": {},
     "output_type": "display_data"
    },
    {
     "data": {
      "text/html": [
       "<small><p style=\"text-align:right;\">Sources: <span style=\"background-color:#d0ece7;\">Friedrich Nietzsche: Early Greek Philosophy & Other Essays</span>, <span style=\"background-color:#d4e6f1;\">Immanuel Kant: Kant's Critique of Judgement</span>, <span style=\"background-color:#eadbd8;\">Friedrich Nietzsche: The Will to Power, Books I and II</span>, <span style=\"background-color:#d8daef;\">Georg Wilhelm Hegel: The History of Philosophy: Volume 3 of 3</span>, <span style=\"background-color:#eadbd8;\">Immanuel Kant: The Critique of Pure Reason</span>, <span style=\"background-color:#d6eaf8;\">Immanuel Kant: Perpetual Peace</span>, <span style=\"background-color:#e2d7d5;\">Friedrich Nietzsche: The Joyful Wisdom</span>, <span style=\"background-color:#ecf3cf;\">Georg Wilhelm Hegel: Hegel's Lectures on the History of Philosophy: Vol. 2 of 3</span>, <span style=\"background-color:#ebdef0;\">Friedrich Nietzsche: The Will to Power, Books III and IV</span></p></small>"
      ],
      "text/plain": [
       "<IPython.core.display.HTML object>"
      ]
     },
     "metadata": {},
     "output_type": "display_data"
    },
    {
     "name": "stdout",
     "output_type": "stream",
     "text": [
      "-------------------------------------------\n",
      "step 14750: train loss 2.5069, val loss 2.4611, time 0.505 sec/iter\n",
      "Sample: --------temperature: 0.9 ---------\n"
     ]
    },
    {
     "data": {
      "text/html": [
       " γοῖ<span style=\"background-color:#ecf3cf;\">, and great</span> length:<span style=\"background-color:#d6eaf8;\"><br>    For th</span>is Lord, ye to<span style=\"background-color:#ebdef0;\"> bearing, </span>and snay aloud Verily,<span style=\"background-color:#d8daef;\">.”<br><br>    ”  17</span>7. “Thou en<span style=\"background-color:#ecf3cf;\">tent world</span><span style=\"background-color:#e2d7d5;\">s night and </span>prmost” and “late” is a"
      ],
      "text/plain": [
       "<IPython.core.display.HTML object>"
      ]
     },
     "metadata": {},
     "output_type": "display_data"
    },
    {
     "data": {
      "text/html": [
       "<small><p style=\"text-align:right;\">Sources: <span style=\"background-color:#ecf3cf;\">Georg Wilhelm Hegel: Hegel's Lectures on the History of Philosophy: Vol. 2 of 3</span>, <span style=\"background-color:#d6eaf8;\">Immanuel Kant: Perpetual Peace</span>, <span style=\"background-color:#ebdef0;\">Friedrich Nietzsche: The Will to Power, Books III and IV</span>, <span style=\"background-color:#d8daef;\">Georg Wilhelm Hegel: The History of Philosophy: Volume 3 of 3</span>, <span style=\"background-color:#e2d7d5;\">Friedrich Nietzsche: Thus Spake Zarathustra</span></p></small>"
      ],
      "text/plain": [
       "<IPython.core.display.HTML object>"
      ]
     },
     "metadata": {},
     "output_type": "display_data"
    },
    {
     "name": "stdout",
     "output_type": "stream",
     "text": [
      "--------temperature: 0.95 ---------\n"
     ]
    },
    {
     "data": {
      "text/html": [
       " ^<span style=\"background-color:#d8daef;\">g from<br>the </span><span style=\"background-color:#d4e6f1;\">manifold of intuition, and </span><span style=\"background-color:#edebd0;\">cannot be referred </span><span style=\"background-color:#ebdef0;\">this worthy </span><span style=\"background-color:#d8daef;\">and<br>intuiti</span>on, p<span style=\"background-color:#e2d7d5;\">ure everything i</span><span style=\"background-color:#eadbd8;\">n regard to su</span><span style=\"background-color:#fae5d3;\">bject in such a </span>ma<span style=\"background-color:#eadbd8;\">n<br>(which is possible </span><span style=\"background-color:#eadbd8;\">in this way)</span><span style=\"background-color:#edebd0;\">, and that space</span><span style=\"background-color:#eadbd8;\">, nothing to </span><span style=\"background-color:#eadbd8;\">conceptions, what</span><span style=\"background-color:#d4efdf;\"><br>it is an </span><span style=\"background-color:#edebd0;\">objective necessity </span><span style=\"background-color:#eadbd8;\">(consequently a</span><span style=\"background-color:#edebd0;\">s objects of possible experience,</span>)<span style=\"background-color:#ecf3cf;\">,<br>appears </span><span style=\"background-color:#d4e6f1;\">on this th</span>"
      ],
      "text/plain": [
       "<IPython.core.display.HTML object>"
      ]
     },
     "metadata": {},
     "output_type": "display_data"
    },
    {
     "data": {
      "text/html": [
       "<small><p style=\"text-align:right;\">Sources: <span style=\"background-color:#d8daef;\">Georg Wilhelm Hegel: The History of Philosophy: Volume 3 of 3</span>, <span style=\"background-color:#d4e6f1;\">Immanuel Kant: Kant's Critique of Judgement</span>, <span style=\"background-color:#edebd0;\">Immanuel Kant: Kant's Prolegomena</span>, <span style=\"background-color:#ebdef0;\">Friedrich Nietzsche: Beyond Good and Evil</span>, <span style=\"background-color:#e2d7d5;\">Friedrich Nietzsche: The Joyful Wisdom</span>, <span style=\"background-color:#eadbd8;\">Immanuel Kant: The Critique of Pure Reason</span>, <span style=\"background-color:#fae5d3;\">Friedrich Nietzsche: We Philologists, Volume 8 of 18</span>, <span style=\"background-color:#eadbd8;\">Friedrich Nietzsche: The Will to Power, Books I and II</span>, <span style=\"background-color:#d4efdf;\">Georg Wilhelm Hegel: Hegel's Lectures on the History of Philosophy: Vol. 1 of 3</span>, <span style=\"background-color:#ecf3cf;\">Georg Wilhelm Hegel: Hegel's Lectures on the History of Philosophy: Vol. 2 of 3</span></p></small>"
      ],
      "text/plain": [
       "<IPython.core.display.HTML object>"
      ]
     },
     "metadata": {},
     "output_type": "display_data"
    },
    {
     "name": "stdout",
     "output_type": "stream",
     "text": [
      "--------temperature: 1.0 ---------\n"
     ]
    },
    {
     "data": {
      "text/html": [
       " <span style=\"background-color:#d8daef;\">7, in the f</span><span style=\"background-color:#ecf3cf;\">irst place, wh</span>ile th<span style=\"background-color:#d8daef;\">e Boehme’s </span><span style=\"background-color:#d8daef;\">system was </span><span style=\"background-color:#d8daef;\">carried on</span><span style=\"background-color:#ebdef0;\">e has<br>understood</span><span style=\"background-color:#e2d7d5;\">, that there are </span><span style=\"background-color:#d4efdf;\">gods, for in </span>a<span style=\"background-color:#d4efdf;\"> second edition, </span><span style=\"background-color:#e2d7d5;\">without those who</span> l<span style=\"background-color:#edebd0;\">ose whose<br></span><span style=\"background-color:#ecf3cf;\">two points of view </span><span style=\"background-color:#eadbd8;\">of the Christian t</span><span style=\"background-color:#e2d7d5;\">eachers and </span>to<br>any<span style=\"background-color:#d8daef;\">on the absolute</span> Athens; and su"
      ],
      "text/plain": [
       "<IPython.core.display.HTML object>"
      ]
     },
     "metadata": {},
     "output_type": "display_data"
    },
    {
     "data": {
      "text/html": [
       "<small><p style=\"text-align:right;\">Sources: <span style=\"background-color:#d8daef;\">Georg Wilhelm Hegel: The History of Philosophy: Volume 3 of 3</span>, <span style=\"background-color:#ecf3cf;\">Georg Wilhelm Hegel: Hegel's Lectures on the History of Philosophy: Vol. 2 of 3</span>, <span style=\"background-color:#ebdef0;\">Friedrich Nietzsche: Beyond Good and Evil</span>, <span style=\"background-color:#e2d7d5;\">Friedrich Nietzsche: The Joyful Wisdom</span>, <span style=\"background-color:#d4efdf;\">Georg Wilhelm Hegel: Hegel's Lectures on the History of Philosophy: Vol. 1 of 3</span>, <span style=\"background-color:#e2d7d5;\">Friedrich Nietzsche: Thus Spake Zarathustra</span>, <span style=\"background-color:#edebd0;\">Immanuel Kant: Kant's Prolegomena</span>, <span style=\"background-color:#eadbd8;\">Friedrich Nietzsche: The Will to Power, Books I and II</span></p></small>"
      ],
      "text/plain": [
       "<IPython.core.display.HTML object>"
      ]
     },
     "metadata": {},
     "output_type": "display_data"
    },
    {
     "name": "stdout",
     "output_type": "stream",
     "text": [
      "--------temperature: 1.05 ---------\n"
     ]
    },
    {
     "data": {
      "text/html": [
       " Körren ni ju K<span style=\"background-color:#d4e6f1;\">ings.<br><br><br><br><br></span>XITHEBPITICARE OR<span style=\"background-color:#eadbd8;\">ene of the </span>Bio adopi, <span style=\"background-color:#d4efdf;\">ad introduc</span><span style=\"background-color:#ebdef0;\">tion of the so-c</span><span style=\"background-color:#eadbd8;\">ities and<br>con</span>science! T<span style=\"background-color:#d8daef;\">hink from </span>Richard "
      ],
      "text/plain": [
       "<IPython.core.display.HTML object>"
      ]
     },
     "metadata": {},
     "output_type": "display_data"
    },
    {
     "data": {
      "text/html": [
       "<small><p style=\"text-align:right;\">Sources: <span style=\"background-color:#d4e6f1;\">Immanuel Kant: Kant's Critique of Judgement</span>, <span style=\"background-color:#eadbd8;\">Friedrich Nietzsche: The Will to Power, Books I and II</span>, <span style=\"background-color:#d4efdf;\">Georg Wilhelm Hegel: Hegel's Lectures on the History of Philosophy: Vol. 1 of 3</span>, <span style=\"background-color:#ebdef0;\">Friedrich Nietzsche: The Will to Power, Books III and IV</span>, <span style=\"background-color:#d8daef;\">Georg Wilhelm Hegel: The History of Philosophy: Volume 3 of 3</span></p></small>"
      ],
      "text/plain": [
       "<IPython.core.display.HTML object>"
      ]
     },
     "metadata": {},
     "output_type": "display_data"
    },
    {
     "name": "stdout",
     "output_type": "stream",
     "text": [
      "--------temperature: 1.1 ---------\n"
     ]
    },
    {
     "data": {
      "text/html": [
       " self <span style=\"background-color:#d4e6f1;\">an, according to the </span><span style=\"background-color:#d8daef;\">divine and </span>fight<span style=\"background-color:#edebd0;\"><br>any great</span><span style=\"background-color:#d8daef;\">. This light </span><span style=\"background-color:#e2d7d5;\">then said,</span><span style=\"background-color:#d4efdf;\"> Empedocles’ philosophy</span><span style=\"background-color:#d8daef;\"> must<br>have </span>spoken<span style=\"background-color:#edebd0;\"> use of the word</span>[13]—<span style=\"background-color:#d6eaf8;\"><br><br>  [139] </span>I<span style=\"background-color:#e2d7d5;\">t was regarded as </span>the hea<span style=\"background-color:#d8daef;\">mitation of the </span>astrophanes<br>    "
      ],
      "text/plain": [
       "<IPython.core.display.HTML object>"
      ]
     },
     "metadata": {},
     "output_type": "display_data"
    },
    {
     "data": {
      "text/html": [
       "<small><p style=\"text-align:right;\">Sources: <span style=\"background-color:#d4e6f1;\">Immanuel Kant: Kant's Critique of Judgement</span>, <span style=\"background-color:#d8daef;\">Georg Wilhelm Hegel: The History of Philosophy: Volume 3 of 3</span>, <span style=\"background-color:#edebd0;\">Immanuel Kant: Kant's Prolegomena</span>, <span style=\"background-color:#e2d7d5;\">Friedrich Nietzsche: The Joyful Wisdom</span>, <span style=\"background-color:#d4efdf;\">Georg Wilhelm Hegel: Hegel's Lectures on the History of Philosophy: Vol. 1 of 3</span>, <span style=\"background-color:#d6eaf8;\">Immanuel Kant: Perpetual Peace</span></p></small>"
      ],
      "text/plain": [
       "<IPython.core.display.HTML object>"
      ]
     },
     "metadata": {},
     "output_type": "display_data"
    },
    {
     "name": "stdout",
     "output_type": "stream",
     "text": [
      "-------------------------------------------\n",
      "step 15000: train loss 2.4725, val loss 2.4612, time 0.510 sec/iter\n",
      "Sample: --------temperature: 0.9 ---------\n"
     ]
    },
    {
     "data": {
      "text/html": [
       " 54.—Bacon, Electrichthom<span style=\"background-color:#d4e6f1;\"> also<br>regard</span><span style=\"background-color:#d8daef;\">ed by them </span>exhaust<span style=\"background-color:#d0ece7;\">ic attraction</span>s,<span style=\"background-color:#d0ece7;\"> Passion bring</span>he end<span style=\"background-color:#eadbd8;\"><br>granted, i</span><span style=\"background-color:#d8daef;\">n the proper</span>, Port Romoë<span style=\"background-color:#d8daef;\">s allegori</span>early chi<span style=\"background-color:#d4efdf;\">es<br>histori</span><span style=\"background-color:#ebdef0;\">ans of disp</span>"
      ],
      "text/plain": [
       "<IPython.core.display.HTML object>"
      ]
     },
     "metadata": {},
     "output_type": "display_data"
    },
    {
     "data": {
      "text/html": [
       "<small><p style=\"text-align:right;\">Sources: <span style=\"background-color:#d4e6f1;\">Immanuel Kant: Kant's Critique of Judgement</span>, <span style=\"background-color:#d8daef;\">Georg Wilhelm Hegel: The History of Philosophy: Volume 3 of 3</span>, <span style=\"background-color:#d0ece7;\">Friedrich Nietzsche: Early Greek Philosophy & Other Essays</span>, <span style=\"background-color:#eadbd8;\">Immanuel Kant: The Critique of Pure Reason</span>, <span style=\"background-color:#d4efdf;\">Georg Wilhelm Hegel: Hegel's Lectures on the History of Philosophy: Vol. 1 of 3</span>, <span style=\"background-color:#ebdef0;\">Friedrich Nietzsche: The Will to Power, Books III and IV</span></p></small>"
      ],
      "text/plain": [
       "<IPython.core.display.HTML object>"
      ]
     },
     "metadata": {},
     "output_type": "display_data"
    },
    {
     "name": "stdout",
     "output_type": "stream",
     "text": [
      "--------temperature: 0.95 ---------\n"
     ]
    },
    {
     "data": {
      "text/html": [
       " Jinal ENGER MAN AND IDERIMICES, VILU, IOC AS DAPPHET<span style=\"background-color:#e2d7d5;\">S OF THE D</span>IVI"
      ],
      "text/plain": [
       "<IPython.core.display.HTML object>"
      ]
     },
     "metadata": {},
     "output_type": "display_data"
    },
    {
     "data": {
      "text/html": [
       "<small><p style=\"text-align:right;\">Sources: <span style=\"background-color:#e2d7d5;\">Friedrich Nietzsche: Thus Spake Zarathustra</span></p></small>"
      ],
      "text/plain": [
       "<IPython.core.display.HTML object>"
      ]
     },
     "metadata": {},
     "output_type": "display_data"
    },
    {
     "name": "stdout",
     "output_type": "stream",
     "text": [
      "--------temperature: 1.0 ---------\n"
     ]
    },
    {
     "data": {
      "text/html": [
       " HE<br><br>PART ANEER: Horace--MYTHET, MARED IN AMULTY IS<br>Con<span style=\"background-color:#e2d7d5;\">der.<br><br>    </span>Cari.<span style=\"background-color:#e2d7d5;\"> 16.<br><br>     </span>1"
      ],
      "text/plain": [
       "<IPython.core.display.HTML object>"
      ]
     },
     "metadata": {},
     "output_type": "display_data"
    },
    {
     "data": {
      "text/html": [
       "<small><p style=\"text-align:right;\">Sources: <span style=\"background-color:#e2d7d5;\">Friedrich Nietzsche: Thus Spake Zarathustra</span>, <span style=\"background-color:#e2d7d5;\">Friedrich Nietzsche: The Joyful Wisdom</span></p></small>"
      ],
      "text/plain": [
       "<IPython.core.display.HTML object>"
      ]
     },
     "metadata": {},
     "output_type": "display_data"
    },
    {
     "name": "stdout",
     "output_type": "stream",
     "text": [
      "--------temperature: 1.05 ---------\n"
     ]
    },
    {
     "data": {
      "text/html": [
       " [<span style=\"background-color:#d8daef;\">will of God </span><span style=\"background-color:#e5e8e8;\">for<br>everyone, </span><span style=\"background-color:#d8daef;\">He would be r</span><span style=\"background-color:#eadbd8;\">ight and d</span>oubt.=<span style=\"background-color:#d8daef;\"> I should </span><span style=\"background-color:#d8daef;\">His nature </span><span style=\"background-color:#d8daef;\">would have s</span>hout is c<span style=\"background-color:#ebdef0;\">eing, our </span><span style=\"background-color:#eadbd8;\">own or that </span><span style=\"background-color:#ecf3cf;\">purpose,<br>and </span><span style=\"background-color:#e2d7d5;\">with it, he </span><span style=\"background-color:#d8daef;\">adopt his </span><span style=\"background-color:#d6dbdf;\">friends? A</span><span style=\"background-color:#eadbd8;\">s soon as possible th</span>at I recompe<span style=\"background-color:#e5e8e8;\">should<br>never </span><span style=\"background-color:#eadbd8;\">like the fir</span><span style=\"background-color:#d4e6e1;\">m to be a m</span>ou"
      ],
      "text/plain": [
       "<IPython.core.display.HTML object>"
      ]
     },
     "metadata": {},
     "output_type": "display_data"
    },
    {
     "data": {
      "text/html": [
       "<small><p style=\"text-align:right;\">Sources: <span style=\"background-color:#d8daef;\">Georg Wilhelm Hegel: The History of Philosophy: Volume 3 of 3</span>, <span style=\"background-color:#e5e8e8;\">Immanuel Kant: The Critique of Practical Reason</span>, <span style=\"background-color:#eadbd8;\">Friedrich Nietzsche: The Will to Power, Books I and II</span>, <span style=\"background-color:#ebdef0;\">Friedrich Nietzsche: The Will to Power, Books III and IV</span>, <span style=\"background-color:#ecf3cf;\">Georg Wilhelm Hegel: Hegel's Lectures on the History of Philosophy: Vol. 2 of 3</span>, <span style=\"background-color:#e2d7d5;\">Friedrich Nietzsche: The Joyful Wisdom</span>, <span style=\"background-color:#d8daef;\">Friedrich Nietzsche: Thoughts out of Season, Part One</span>, <span style=\"background-color:#d6dbdf;\">Friedrich Nietzsche: Thoughts Out of Season, Part 2</span>, <span style=\"background-color:#d4e6e1;\">Immanuel Kant: Fundamental Principles of the Metaphysic of Morals</span></p></small>"
      ],
      "text/plain": [
       "<IPython.core.display.HTML object>"
      ]
     },
     "metadata": {},
     "output_type": "display_data"
    },
    {
     "name": "stdout",
     "output_type": "stream",
     "text": [
      "--------temperature: 1.1 ---------\n"
     ]
    },
    {
     "data": {
      "text/html": [
       " οὺ_ (<span style=\"background-color:#e2d7d5;\">which, after h</span><span style=\"background-color:#d8daef;\">is own will</span> based done rings dis<span style=\"background-color:#d4e6f1;\">gree of the a</span>bscure<span style=\"background-color:#fae5d3;\">. Criticism</span>,<br>_Housis g<span style=\"background-color:#d6dbdf;\">oad that the </span>ju<span style=\"background-color:#d8daef;\">es in one </span><span style=\"background-color:#ecf3cf;\">is to be ta</span>ugh<span style=\"background-color:#edebd0;\">t no concepts </span><span style=\"background-color:#eadbd8;\">to which<br>they be</span> end<span style=\"background-color:#ebdef0;\">ured according to the</span>i<span style=\"background-color:#e2d7d5;\">r _his own_ </span>r<span style=\"background-color:#eadbd8;\">ace.<br><br>That </span>there is "
      ],
      "text/plain": [
       "<IPython.core.display.HTML object>"
      ]
     },
     "metadata": {},
     "output_type": "display_data"
    },
    {
     "data": {
      "text/html": [
       "<small><p style=\"text-align:right;\">Sources: <span style=\"background-color:#e2d7d5;\">Friedrich Nietzsche: Thus Spake Zarathustra</span>, <span style=\"background-color:#d8daef;\">Georg Wilhelm Hegel: The History of Philosophy: Volume 3 of 3</span>, <span style=\"background-color:#d4e6f1;\">Immanuel Kant: Kant's Critique of Judgement</span>, <span style=\"background-color:#fae5d3;\">Friedrich Nietzsche: We Philologists, Volume 8 of 18</span>, <span style=\"background-color:#d6dbdf;\">Friedrich Nietzsche: Thoughts Out of Season, Part 2</span>, <span style=\"background-color:#ecf3cf;\">Georg Wilhelm Hegel: Hegel's Lectures on the History of Philosophy: Vol. 2 of 3</span>, <span style=\"background-color:#edebd0;\">Immanuel Kant: Kant's Prolegomena</span>, <span style=\"background-color:#eadbd8;\">Immanuel Kant: The Critique of Pure Reason</span>, <span style=\"background-color:#ebdef0;\">Friedrich Nietzsche: The Will to Power, Books III and IV</span>, <span style=\"background-color:#e2d7d5;\">Friedrich Nietzsche: The Joyful Wisdom</span></p></small>"
      ],
      "text/plain": [
       "<IPython.core.display.HTML object>"
      ]
     },
     "metadata": {},
     "output_type": "display_data"
    },
    {
     "name": "stdout",
     "output_type": "stream",
     "text": [
      "-------------------------------------------\n",
      "step 15250: train loss 2.4415, val loss 2.4482, time 0.510 sec/iter\n",
      "Sample: --------temperature: 0.9 ---------\n"
     ]
    },
    {
     "data": {
      "text/html": [
       " Quæterna’espéta<span style=\"background-color:#d8daef;\">t. I. p. 4</span>6<span style=\"background-color:#d8daef;\">; Tiedemann: </span>Ce n. ad h. 13, p.<br>213; 38; Esp. p. 888<span style=\"background-color:#d4efdf;\">.<br><br>[87] Pl</span>utarch in"
      ],
      "text/plain": [
       "<IPython.core.display.HTML object>"
      ]
     },
     "metadata": {},
     "output_type": "display_data"
    },
    {
     "data": {
      "text/html": [
       "<small><p style=\"text-align:right;\">Sources: <span style=\"background-color:#d8daef;\">Georg Wilhelm Hegel: The History of Philosophy: Volume 3 of 3</span>, <span style=\"background-color:#d4efdf;\">Georg Wilhelm Hegel: Hegel's Lectures on the History of Philosophy: Vol. 1 of 3</span></p></small>"
      ],
      "text/plain": [
       "<IPython.core.display.HTML object>"
      ]
     },
     "metadata": {},
     "output_type": "display_data"
    },
    {
     "name": "stdout",
     "output_type": "stream",
     "text": [
      "--------temperature: 0.95 ---------\n"
     ]
    },
    {
     "data": {
      "text/html": [
       " PRE<span style=\"background-color:#ebdef0;\">, when the \"</span>soul<span style=\"background-color:#e2d7d5;\">.\" And the </span><span style=\"background-color:#d6eaf8;\">best of all<br></span><span style=\"background-color:#d6dbdf;\">these things th</span><span style=\"background-color:#ebdef0;\">emselves, were </span><span style=\"background-color:#ebdef0;\">regarded as the s</span>mall<span style=\"background-color:#eadbd8;\">est<br>which </span><span style=\"background-color:#ecf3cf;\">the heavens in</span>voluntary<span style=\"background-color:#e2d7d5;\">: and verily, </span><span style=\"background-color:#fdebd0;\">it must be observed </span>in the <span style=\"background-color:#d4efdf;\">quivalent<br></span><span style=\"background-color:#ebdef0;\">and the pain</span>ters of cho<span style=\"background-color:#e2d7d5;\">ked along </span>as an eagger"
      ],
      "text/plain": [
       "<IPython.core.display.HTML object>"
      ]
     },
     "metadata": {},
     "output_type": "display_data"
    },
    {
     "data": {
      "text/html": [
       "<small><p style=\"text-align:right;\">Sources: <span style=\"background-color:#ebdef0;\">Friedrich Nietzsche: The Will to Power, Books III and IV</span>, <span style=\"background-color:#e2d7d5;\">Friedrich Nietzsche: The Joyful Wisdom</span>, <span style=\"background-color:#d6eaf8;\">Immanuel Kant: Perpetual Peace</span>, <span style=\"background-color:#d6dbdf;\">Friedrich Nietzsche: Thoughts Out of Season, Part 2</span>, <span style=\"background-color:#eadbd8;\">Friedrich Nietzsche: The Will to Power, Books I and II</span>, <span style=\"background-color:#ecf3cf;\">Georg Wilhelm Hegel: Hegel's Lectures on the History of Philosophy: Vol. 2 of 3</span>, <span style=\"background-color:#e2d7d5;\">Friedrich Nietzsche: Thus Spake Zarathustra</span>, <span style=\"background-color:#fdebd0;\">Immanuel Kant: The Metaphysical Elements of Ethics</span>, <span style=\"background-color:#d4efdf;\">Georg Wilhelm Hegel: Hegel's Lectures on the History of Philosophy: Vol. 1 of 3</span></p></small>"
      ],
      "text/plain": [
       "<IPython.core.display.HTML object>"
      ]
     },
     "metadata": {},
     "output_type": "display_data"
    },
    {
     "name": "stdout",
     "output_type": "stream",
     "text": [
      "--------temperature: 1.0 ---------\n"
     ]
    },
    {
     "data": {
      "text/html": [
       " }<span style=\"background-color:#ecf3cf;\"><br><br>With regard to th</span>is how<span style=\"background-color:#d4efdf;\"> went to b</span>l<span style=\"background-color:#e2d7d5;\">amed with </span>a b<span style=\"background-color:#e5e8e8;\">east despise</span><span style=\"background-color:#d4e6f1;\">, with a p</span><span style=\"background-color:#ecf3cf;\">ictures of<br></span><span style=\"background-color:#ebdef0;\">delicate ar</span><span style=\"background-color:#d8daef;\">barism, which </span>w<span style=\"background-color:#eadbd8;\">e were pro</span>tected, a<span style=\"background-color:#f6ddcc;\">debted for the </span>Prussian Ludi\"<br>A.\"<span style=\"background-color:#d8daef;\"> After the </span>"
      ],
      "text/plain": [
       "<IPython.core.display.HTML object>"
      ]
     },
     "metadata": {},
     "output_type": "display_data"
    },
    {
     "data": {
      "text/html": [
       "<small><p style=\"text-align:right;\">Sources: <span style=\"background-color:#ecf3cf;\">Georg Wilhelm Hegel: Hegel's Lectures on the History of Philosophy: Vol. 2 of 3</span>, <span style=\"background-color:#d4efdf;\">Georg Wilhelm Hegel: Hegel's Lectures on the History of Philosophy: Vol. 1 of 3</span>, <span style=\"background-color:#e2d7d5;\">Friedrich Nietzsche: The Joyful Wisdom</span>, <span style=\"background-color:#e5e8e8;\">Immanuel Kant: The Critique of Practical Reason</span>, <span style=\"background-color:#d4e6f1;\">Immanuel Kant: Kant's Critique of Judgement</span>, <span style=\"background-color:#ebdef0;\">Friedrich Nietzsche: Beyond Good and Evil</span>, <span style=\"background-color:#d8daef;\">Georg Wilhelm Hegel: The History of Philosophy: Volume 3 of 3</span>, <span style=\"background-color:#eadbd8;\">Friedrich Nietzsche: The Will to Power, Books I and II</span>, <span style=\"background-color:#f6ddcc;\">Friedrich Nietzsche: Human, All Too Human</span></p></small>"
      ],
      "text/plain": [
       "<IPython.core.display.HTML object>"
      ]
     },
     "metadata": {},
     "output_type": "display_data"
    },
    {
     "name": "stdout",
     "output_type": "stream",
     "text": [
      "--------temperature: 1.05 ---------\n"
     ]
    },
    {
     "data": {
      "text/html": [
       " α<span style=\"background-color:#d8daef;\">, the trans</span><span style=\"background-color:#edebd0;\">lation<br>of a</span> piety<span style=\"background-color:#d4e6f1;\">) as that of</span><span style=\"background-color:#d8daef;\">bsolute, ma</span><span style=\"background-color:#d4efdf;\">kes reality </span><span style=\"background-color:#ecf3cf;\">of the subject.<br></span>T<span style=\"background-color:#d8daef;\">here is de</span>th<span style=\"background-color:#ecf3cf;\">ical with itself. Sim</span>ilarly<span style=\"background-color:#d8daef;\"> is continually</span>ing what<span style=\"background-color:#d4efdf;\">e<br>one, is </span><span style=\"background-color:#eadbd8;\">bodies in a</span><span style=\"background-color:#eadbd8;\"> proposition: “The w</span><span style=\"background-color:#eadbd8;\">hole is itself </span><span style=\"background-color:#ecf3cf;\">neither<br>su</span><span style=\"background-color:#ecf3cf;\">bject,” is </span>an ens<span style=\"background-color:#ecf3cf;\">or infinite </span>"
      ],
      "text/plain": [
       "<IPython.core.display.HTML object>"
      ]
     },
     "metadata": {},
     "output_type": "display_data"
    },
    {
     "data": {
      "text/html": [
       "<small><p style=\"text-align:right;\">Sources: <span style=\"background-color:#d8daef;\">Georg Wilhelm Hegel: The History of Philosophy: Volume 3 of 3</span>, <span style=\"background-color:#edebd0;\">Immanuel Kant: Kant's Prolegomena</span>, <span style=\"background-color:#d4e6f1;\">Immanuel Kant: Kant's Critique of Judgement</span>, <span style=\"background-color:#d4efdf;\">Georg Wilhelm Hegel: Hegel's Lectures on the History of Philosophy: Vol. 1 of 3</span>, <span style=\"background-color:#ecf3cf;\">Georg Wilhelm Hegel: Hegel's Lectures on the History of Philosophy: Vol. 2 of 3</span>, <span style=\"background-color:#eadbd8;\">Immanuel Kant: The Critique of Pure Reason</span></p></small>"
      ],
      "text/plain": [
       "<IPython.core.display.HTML object>"
      ]
     },
     "metadata": {},
     "output_type": "display_data"
    },
    {
     "name": "stdout",
     "output_type": "stream",
     "text": [
      "--------temperature: 1.1 ---------\n"
     ]
    },
    {
     "data": {
      "text/html": [
       " , eve<span style=\"background-color:#d8daef;\">n<br>experience </span>unworth<span style=\"background-color:#d4e6f1;\">ies; but a</span> to my<br><span style=\"background-color:#eadbd8;\">served that this </span><span style=\"background-color:#d8daef;\">principle that is </span><span style=\"background-color:#d6eaf8;\">laid down by </span><span style=\"background-color:#e5e8e8;\">merely to<br>wh</span><span style=\"background-color:#d4e6f1;\">ich, as it w</span><span style=\"background-color:#ebdef0;\">ould affect </span>from<span style=\"background-color:#eadbd8;\"> ease and de</span><span style=\"background-color:#d6eaf8;\">vour to pr</span><span style=\"background-color:#eadbd8;\">escape into a </span><span style=\"background-color:#d4e6f1;\">common sense.<br></span><span style=\"background-color:#eadbd8;\">For this n</span><span style=\"background-color:#ecf3cf;\">ame gives </span><span style=\"background-color:#d8daef;\">us the true </span><span style=\"background-color:#eadbd8;\">phenomenon is always </span><span style=\"background-color:#d8daef;\">the<br>ground </span><span style=\"background-color:#edebd0;\">beyond the conditions </span><span style=\"background-color:#ebdef0;\">that can be </span>"
      ],
      "text/plain": [
       "<IPython.core.display.HTML object>"
      ]
     },
     "metadata": {},
     "output_type": "display_data"
    },
    {
     "data": {
      "text/html": [
       "<small><p style=\"text-align:right;\">Sources: <span style=\"background-color:#d8daef;\">Georg Wilhelm Hegel: The History of Philosophy: Volume 3 of 3</span>, <span style=\"background-color:#d4e6f1;\">Immanuel Kant: Kant's Critique of Judgement</span>, <span style=\"background-color:#eadbd8;\">Friedrich Nietzsche: The Will to Power, Books I and II</span>, <span style=\"background-color:#d6eaf8;\">Immanuel Kant: Perpetual Peace</span>, <span style=\"background-color:#e5e8e8;\">Immanuel Kant: The Critique of Practical Reason</span>, <span style=\"background-color:#ebdef0;\">Friedrich Nietzsche: The Will to Power, Books III and IV</span>, <span style=\"background-color:#eadbd8;\">Immanuel Kant: The Critique of Pure Reason</span>, <span style=\"background-color:#ecf3cf;\">Georg Wilhelm Hegel: Hegel's Lectures on the History of Philosophy: Vol. 2 of 3</span>, <span style=\"background-color:#edebd0;\">Immanuel Kant: Kant's Prolegomena</span></p></small>"
      ],
      "text/plain": [
       "<IPython.core.display.HTML object>"
      ]
     },
     "metadata": {},
     "output_type": "display_data"
    },
    {
     "name": "stdout",
     "output_type": "stream",
     "text": [
      "-------------------------------------------\n",
      "step 15500: train loss 2.4367, val loss 2.4317, time 0.510 sec/iter\n",
      "Sample: --------temperature: 0.9 ---------\n"
     ]
    },
    {
     "data": {
      "text/html": [
       " §<br>20, pp. 210-122-276<span style=\"background-color:#f6ddcc;\">-Metaphysic</span>al<span style=\"background-color:#d8daef;\"> Self-consciousness </span><span style=\"background-color:#d8daef;\">by Leibnitz</span><span style=\"background-color:#e2d7d5;\">antism was</span><span style=\"background-color:#d8daef;\"><br>contains t</span>o Nonumeror also<span style=\"background-color:#fae5d3;\"> orders of the un</span><span style=\"background-color:#eadbd8;\">derstanding, and also </span>by<span style=\"background-color:#eadbd8;\"> that synthesis</span><span style=\"background-color:#d8daef;\">s in general</span>"
      ],
      "text/plain": [
       "<IPython.core.display.HTML object>"
      ]
     },
     "metadata": {},
     "output_type": "display_data"
    },
    {
     "data": {
      "text/html": [
       "<small><p style=\"text-align:right;\">Sources: <span style=\"background-color:#f6ddcc;\">Friedrich Nietzsche: Human, All Too Human</span>, <span style=\"background-color:#d8daef;\">Georg Wilhelm Hegel: The History of Philosophy: Volume 3 of 3</span>, <span style=\"background-color:#e2d7d5;\">Friedrich Nietzsche: The Joyful Wisdom</span>, <span style=\"background-color:#fae5d3;\">Friedrich Nietzsche: We Philologists, Volume 8 of 18</span>, <span style=\"background-color:#eadbd8;\">Immanuel Kant: The Critique of Pure Reason</span></p></small>"
      ],
      "text/plain": [
       "<IPython.core.display.HTML object>"
      ]
     },
     "metadata": {},
     "output_type": "display_data"
    },
    {
     "name": "stdout",
     "output_type": "stream",
     "text": [
      "--------temperature: 0.95 ---------\n"
     ]
    },
    {
     "data": {
      "text/html": [
       " JOSNCIAL VAUALEATITON OF HIVOUTTEPHERSSTS OF JOGESTNO"
      ],
      "text/plain": [
       "<IPython.core.display.HTML object>"
      ]
     },
     "metadata": {},
     "output_type": "display_data"
    },
    {
     "name": "stdout",
     "output_type": "stream",
     "text": [
      "--------temperature: 1.0 ---------\n"
     ]
    },
    {
     "data": {
      "text/html": [
       " [98<span style=\"background-color:#d4efdf;\">] By this </span><span style=\"background-color:#d8daef;\">means of the o</span><span style=\"background-color:#d4e6f1;\">riginal Being, </span>of<br><span style=\"background-color:#d8daef;\">Being, is </span><span style=\"background-color:#d8daef;\">such a thing as </span><span style=\"background-color:#d8daef;\">there is i</span><span style=\"background-color:#d8daef;\">s involved n</span><span style=\"background-color:#d6eaf8;\">g from the contr</span><span style=\"background-color:#d8daef;\">adiction<br>which </span><span style=\"background-color:#ecf3cf;\">are of the g</span><span style=\"background-color:#e5e8e8;\">iven notion</span><span style=\"background-color:#eadbd8;\"> of reality in its </span><span style=\"background-color:#d8daef;\">present<br>existence</span><span style=\"background-color:#f6ddcc;\">. Now, the </span><span style=\"background-color:#d4e6e1;\">absolute necessity of an </span>exta<span style=\"background-color:#d8daef;\">ntment of </span><span style=\"background-color:#eadbd8;\">reason; on the<br></span><span style=\"background-color:#d8daef;\">self-consciousness, or t</span>his eology is"
      ],
      "text/plain": [
       "<IPython.core.display.HTML object>"
      ]
     },
     "metadata": {},
     "output_type": "display_data"
    },
    {
     "data": {
      "text/html": [
       "<small><p style=\"text-align:right;\">Sources: <span style=\"background-color:#d4efdf;\">Georg Wilhelm Hegel: Hegel's Lectures on the History of Philosophy: Vol. 1 of 3</span>, <span style=\"background-color:#d8daef;\">Georg Wilhelm Hegel: The History of Philosophy: Volume 3 of 3</span>, <span style=\"background-color:#d4e6f1;\">Immanuel Kant: Kant's Critique of Judgement</span>, <span style=\"background-color:#d6eaf8;\">Immanuel Kant: Perpetual Peace</span>, <span style=\"background-color:#ecf3cf;\">Georg Wilhelm Hegel: Hegel's Lectures on the History of Philosophy: Vol. 2 of 3</span>, <span style=\"background-color:#e5e8e8;\">Immanuel Kant: The Critique of Practical Reason</span>, <span style=\"background-color:#eadbd8;\">Immanuel Kant: The Critique of Pure Reason</span>, <span style=\"background-color:#f6ddcc;\">Friedrich Nietzsche: Human, All Too Human</span>, <span style=\"background-color:#d4e6e1;\">Immanuel Kant: Fundamental Principles of the Metaphysic of Morals</span></p></small>"
      ],
      "text/plain": [
       "<IPython.core.display.HTML object>"
      ]
     },
     "metadata": {},
     "output_type": "display_data"
    },
    {
     "name": "stdout",
     "output_type": "stream",
     "text": [
      "--------temperature: 1.05 ---------\n"
     ]
    },
    {
     "data": {
      "text/html": [
       " τὸ ὄν),<br>bestone thine to die<span style=\"background-color:#e2d7d5;\"> him again </span><span style=\"background-color:#ebdef0;\">stretches </span>em<span style=\"background-color:#d4e6f1;\">pts, and these </span><span style=\"background-color:#ebdef0;\">the<br>would </span>not pa<span style=\"background-color:#d4e6f1;\">y and refine</span><span style=\"background-color:#e5e8e8;\">d, together with </span><span style=\"background-color:#ecf3cf;\">them the li</span><span style=\"background-color:#f6ddcc;\">ght is eve</span>n abo<span style=\"background-color:#d8daef;\">ut eternal</span>ly be long<br>t<span style=\"background-color:#d4efdf;\">o injustice</span><span style=\"background-color:#d8daef;\">. That is a</span><span style=\"background-color:#eadbd8;\">re being w</span><span style=\"background-color:#fdebd0;\">ho makes the</span> e<span style=\"background-color:#d4efdf;\">nd is simpl</span>"
      ],
      "text/plain": [
       "<IPython.core.display.HTML object>"
      ]
     },
     "metadata": {},
     "output_type": "display_data"
    },
    {
     "data": {
      "text/html": [
       "<small><p style=\"text-align:right;\">Sources: <span style=\"background-color:#e2d7d5;\">Friedrich Nietzsche: Thus Spake Zarathustra</span>, <span style=\"background-color:#ebdef0;\">Friedrich Nietzsche: The Will to Power, Books III and IV</span>, <span style=\"background-color:#d4e6f1;\">Immanuel Kant: Kant's Critique of Judgement</span>, <span style=\"background-color:#e5e8e8;\">Immanuel Kant: The Critique of Practical Reason</span>, <span style=\"background-color:#ecf3cf;\">Georg Wilhelm Hegel: Hegel's Lectures on the History of Philosophy: Vol. 2 of 3</span>, <span style=\"background-color:#f6ddcc;\">Friedrich Nietzsche: Human, All Too Human</span>, <span style=\"background-color:#d8daef;\">Georg Wilhelm Hegel: The History of Philosophy: Volume 3 of 3</span>, <span style=\"background-color:#d4efdf;\">Georg Wilhelm Hegel: Hegel's Lectures on the History of Philosophy: Vol. 1 of 3</span>, <span style=\"background-color:#eadbd8;\">Friedrich Nietzsche: The Will to Power, Books I and II</span>, <span style=\"background-color:#fdebd0;\">Immanuel Kant: The Metaphysical Elements of Ethics</span></p></small>"
      ],
      "text/plain": [
       "<IPython.core.display.HTML object>"
      ]
     },
     "metadata": {},
     "output_type": "display_data"
    },
    {
     "name": "stdout",
     "output_type": "stream",
     "text": [
      "--------temperature: 1.1 ---------\n"
     ]
    },
    {
     "data": {
      "text/html": [
       "<span style=\"background-color:#d8daef;\"> Absolute in</span><span style=\"background-color:#d4efdf;\">difference in its </span><span style=\"background-color:#d8daef;\">connection with a</span><span style=\"background-color:#d8daef;\">bsolute<br>determinateness</span>. T<span style=\"background-color:#d8daef;\">hen self-consciousness</span><span style=\"background-color:#d8daef;\"> besides a</span><span style=\"background-color:#d8daef;\">s the latter<br></span><span style=\"background-color:#ecf3cf;\">whether knowledge</span><span style=\"background-color:#eadbd8;\">, strives to </span><span style=\"background-color:#d8daef;\">do with th</span>os<span style=\"background-color:#f6ddcc;\">e who<br>always </span><span style=\"background-color:#e2d7d5;\">in order to fl</span><span style=\"background-color:#eadbd8;\">y to thought, </span><span style=\"background-color:#edebd0;\">yet remains a</span>n old sol<span style=\"background-color:#e5e8e8;\">ve it to tho</span><span style=\"background-color:#ecf3cf;\">ught thus t</span>o habit<span style=\"background-color:#d4e6f1;\"> as<br>suitable </span><span style=\"background-color:#e2d7d5;\">light of appr</span>"
      ],
      "text/plain": [
       "<IPython.core.display.HTML object>"
      ]
     },
     "metadata": {},
     "output_type": "display_data"
    },
    {
     "data": {
      "text/html": [
       "<small><p style=\"text-align:right;\">Sources: <span style=\"background-color:#d8daef;\">Georg Wilhelm Hegel: The History of Philosophy: Volume 3 of 3</span>, <span style=\"background-color:#d4efdf;\">Georg Wilhelm Hegel: Hegel's Lectures on the History of Philosophy: Vol. 1 of 3</span>, <span style=\"background-color:#ecf3cf;\">Georg Wilhelm Hegel: Hegel's Lectures on the History of Philosophy: Vol. 2 of 3</span>, <span style=\"background-color:#eadbd8;\">Friedrich Nietzsche: The Will to Power, Books I and II</span>, <span style=\"background-color:#f6ddcc;\">Friedrich Nietzsche: Human, All Too Human</span>, <span style=\"background-color:#e2d7d5;\">Friedrich Nietzsche: The Joyful Wisdom</span>, <span style=\"background-color:#eadbd8;\">Immanuel Kant: The Critique of Pure Reason</span>, <span style=\"background-color:#edebd0;\">Immanuel Kant: Kant's Prolegomena</span>, <span style=\"background-color:#e5e8e8;\">Immanuel Kant: The Critique of Practical Reason</span>, <span style=\"background-color:#d4e6f1;\">Immanuel Kant: Kant's Critique of Judgement</span>, <span style=\"background-color:#e2d7d5;\">Friedrich Nietzsche: Thus Spake Zarathustra</span></p></small>"
      ],
      "text/plain": [
       "<IPython.core.display.HTML object>"
      ]
     },
     "metadata": {},
     "output_type": "display_data"
    },
    {
     "name": "stdout",
     "output_type": "stream",
     "text": [
      "-------------------------------------------\n",
      "step 15750: train loss 2.4261, val loss 2.3957, time 0.509 sec/iter\n",
      "Sample: --------temperature: 0.9 ---------\n"
     ]
    },
    {
     "data": {
      "text/html": [
       " 87<span style=\"background-color:#d8daef;\">, was the do</span><span style=\"background-color:#d8daef;\">ctrine<br>of </span>you<span style=\"background-color:#e2d7d5;\"> will make you </span><span style=\"background-color:#e2d7d5;\">convince you </span><span style=\"background-color:#eadbd8;\">to reflect<br>on</span>esel<span style=\"background-color:#ecf3cf;\">f itself to </span><span style=\"background-color:#ebdef0;\">draw your </span>day,<span style=\"background-color:#d8daef;\"> attainments, </span>but<span style=\"background-color:#e2d7d5;\"> your fathers</span><span style=\"background-color:#e2d7d5;\">, when your </span>id<br>I<br><span style=\"background-color:#ebdef0;\">his indignation</span><span style=\"background-color:#d4e6e1;\">, to admire </span><span style=\"background-color:#eadbd8;\">would no longer </span><span style=\"background-color:#ecf3cf;\">will appear </span>poor, "
      ],
      "text/plain": [
       "<IPython.core.display.HTML object>"
      ]
     },
     "metadata": {},
     "output_type": "display_data"
    },
    {
     "data": {
      "text/html": [
       "<small><p style=\"text-align:right;\">Sources: <span style=\"background-color:#d8daef;\">Friedrich Nietzsche: Thoughts out of Season, Part One</span>, <span style=\"background-color:#d8daef;\">Georg Wilhelm Hegel: The History of Philosophy: Volume 3 of 3</span>, <span style=\"background-color:#e2d7d5;\">Friedrich Nietzsche: Thus Spake Zarathustra</span>, <span style=\"background-color:#e2d7d5;\">Friedrich Nietzsche: The Joyful Wisdom</span>, <span style=\"background-color:#eadbd8;\">Immanuel Kant: The Critique of Pure Reason</span>, <span style=\"background-color:#ecf3cf;\">Georg Wilhelm Hegel: Hegel's Lectures on the History of Philosophy: Vol. 2 of 3</span>, <span style=\"background-color:#ebdef0;\">Friedrich Nietzsche: Beyond Good and Evil</span>, <span style=\"background-color:#d4e6e1;\">Immanuel Kant: Fundamental Principles of the Metaphysic of Morals</span>, <span style=\"background-color:#eadbd8;\">Friedrich Nietzsche: The Will to Power, Books I and II</span></p></small>"
      ],
      "text/plain": [
       "<IPython.core.display.HTML object>"
      ]
     },
     "metadata": {},
     "output_type": "display_data"
    },
    {
     "name": "stdout",
     "output_type": "stream",
     "text": [
      "--------temperature: 0.95 ---------\n"
     ]
    },
    {
     "data": {
      "text/html": [
       " § 38, p. 11, 29, § 11. Inegal ont<br><span style=\"background-color:#d8daef;\">he took up a</span>dds th<span style=\"background-color:#d8daef;\">he distinguished </span>out of emome a<span style=\"background-color:#d0ece7;\"> potter,<br>and </span><span style=\"background-color:#edebd0;\">construction as </span><span style=\"background-color:#edebd0;\">to the true </span><span style=\"background-color:#d6eaf8;\">prospect. </span>This brancy<span style=\"background-color:#d4efdf;\"> then of c</span>are<span style=\"background-color:#d4efdf;\">er,<br>and a </span>n<span style=\"background-color:#ebdef0;\">umbering f</span>rom "
      ],
      "text/plain": [
       "<IPython.core.display.HTML object>"
      ]
     },
     "metadata": {},
     "output_type": "display_data"
    },
    {
     "data": {
      "text/html": [
       "<small><p style=\"text-align:right;\">Sources: <span style=\"background-color:#d8daef;\">Georg Wilhelm Hegel: The History of Philosophy: Volume 3 of 3</span>, <span style=\"background-color:#d0ece7;\">Friedrich Nietzsche: Early Greek Philosophy & Other Essays</span>, <span style=\"background-color:#edebd0;\">Immanuel Kant: Kant's Prolegomena</span>, <span style=\"background-color:#d6eaf8;\">Immanuel Kant: Perpetual Peace</span>, <span style=\"background-color:#d4efdf;\">Georg Wilhelm Hegel: Hegel's Lectures on the History of Philosophy: Vol. 1 of 3</span>, <span style=\"background-color:#ebdef0;\">Friedrich Nietzsche: The Will to Power, Books III and IV</span></p></small>"
      ],
      "text/plain": [
       "<IPython.core.display.HTML object>"
      ]
     },
     "metadata": {},
     "output_type": "display_data"
    },
    {
     "name": "stdout",
     "output_type": "stream",
     "text": [
      "--------temperature: 1.0 ---------\n"
     ]
    },
    {
     "data": {
      "text/html": [
       " Y<span style=\"background-color:#d4efdf;\">et the work</span><span style=\"background-color:#d8daef;\">s the judg</span><span style=\"background-color:#eadbd8;\">ations of our<br></span><span style=\"background-color:#d6eaf8;\">ternational La</span>tin Aquichn. D<span style=\"background-color:#d4efdf;\">ry to make an </span>enough<span style=\"background-color:#d6eaf8;\"><br>  beginning t</span>o Lace-<span style=\"background-color:#d6eaf8;\">China given </span><span style=\"background-color:#d4e6f1;\">he beginning to </span>fastic<span style=\"background-color:#d4e6f1;\"> laws from the</span><br>  Jesu<span style=\"background-color:#d6eaf8;\">ing of the L</span>ocke thing E<span style=\"background-color:#d8daef;\">la Nature,</span>”<span style=\"background-color:#d8daef;\"> Kant gives </span>"
      ],
      "text/plain": [
       "<IPython.core.display.HTML object>"
      ]
     },
     "metadata": {},
     "output_type": "display_data"
    },
    {
     "data": {
      "text/html": [
       "<small><p style=\"text-align:right;\">Sources: <span style=\"background-color:#d4efdf;\">Georg Wilhelm Hegel: Hegel's Lectures on the History of Philosophy: Vol. 1 of 3</span>, <span style=\"background-color:#d8daef;\">Georg Wilhelm Hegel: The History of Philosophy: Volume 3 of 3</span>, <span style=\"background-color:#eadbd8;\">Immanuel Kant: The Critique of Pure Reason</span>, <span style=\"background-color:#d6eaf8;\">Immanuel Kant: Perpetual Peace</span>, <span style=\"background-color:#d4e6f1;\">Immanuel Kant: Kant's Critique of Judgement</span></p></small>"
      ],
      "text/plain": [
       "<IPython.core.display.HTML object>"
      ]
     },
     "metadata": {},
     "output_type": "display_data"
    },
    {
     "name": "stdout",
     "output_type": "stream",
     "text": [
      "--------temperature: 1.05 ---------\n"
     ]
    },
    {
     "data": {
      "text/html": [
       " 5,<br>p. 11<span style=\"background-color:#d8daef;\">4, for instance</span>l<span style=\"background-color:#ecf3cf;\">y have wor</span>k<span style=\"background-color:#ebdef0;\">s to see the </span><span style=\"background-color:#eadbd8;\">religion for</span><span style=\"background-color:#d8daef;\">ward knowledge</span>: \"Bravad<br>eyes it,<span style=\"background-color:#d0ece7;\">\" to this </span>clou<span style=\"background-color:#d4e6f1;\">d accordingly, </span>flas<span style=\"background-color:#d4e6f1;\">cal, in co</span>mmuniting ambulars,<br>&c<span style=\"background-color:#ebdef0;\">. and even </span><span style=\"background-color:#d6dbdf;\">existence that he </span>cease"
      ],
      "text/plain": [
       "<IPython.core.display.HTML object>"
      ]
     },
     "metadata": {},
     "output_type": "display_data"
    },
    {
     "data": {
      "text/html": [
       "<small><p style=\"text-align:right;\">Sources: <span style=\"background-color:#d8daef;\">Georg Wilhelm Hegel: The History of Philosophy: Volume 3 of 3</span>, <span style=\"background-color:#ecf3cf;\">Georg Wilhelm Hegel: Hegel's Lectures on the History of Philosophy: Vol. 2 of 3</span>, <span style=\"background-color:#ebdef0;\">Friedrich Nietzsche: The Will to Power, Books III and IV</span>, <span style=\"background-color:#eadbd8;\">Friedrich Nietzsche: The Will to Power, Books I and II</span>, <span style=\"background-color:#d0ece7;\">Friedrich Nietzsche: Early Greek Philosophy & Other Essays</span>, <span style=\"background-color:#d4e6f1;\">Immanuel Kant: Kant's Critique of Judgement</span>, <span style=\"background-color:#d6dbdf;\">Friedrich Nietzsche: Thoughts Out of Season, Part 2</span></p></small>"
      ],
      "text/plain": [
       "<IPython.core.display.HTML object>"
      ]
     },
     "metadata": {},
     "output_type": "display_data"
    },
    {
     "name": "stdout",
     "output_type": "stream",
     "text": [
      "--------temperature: 1.1 ---------\n"
     ]
    },
    {
     "data": {
      "text/html": [
       " ^<span style=\"background-color:#d8daef;\">paralogism is </span>onl<span style=\"background-color:#d4e6f1;\">y of organis</span><span style=\"background-color:#eadbd8;\">m of our knowledge.</span><br><br>T<span style=\"background-color:#ecf3cf;\">his way it is </span><span style=\"background-color:#d8daef;\">necessary no</span>n<span style=\"background-color:#f6ddcc;\">e even in the </span><span style=\"background-color:#d8daef;\">belief in the </span>antiquity[10]<br>and wris uphs a<span style=\"background-color:#d8daef;\">s. It is on</span><span style=\"background-color:#ecf3cf;\">e and the so</span><span style=\"background-color:#eadbd8;\">lution of the fa</span><span style=\"background-color:#ebdef0;\">ct that its </span>occupierce<br>fas<span style=\"background-color:#ecf3cf;\">y of finite </span><span style=\"background-color:#e5e8e8;\">knowledge of re</span>spect. Y"
      ],
      "text/plain": [
       "<IPython.core.display.HTML object>"
      ]
     },
     "metadata": {},
     "output_type": "display_data"
    },
    {
     "data": {
      "text/html": [
       "<small><p style=\"text-align:right;\">Sources: <span style=\"background-color:#d8daef;\">Georg Wilhelm Hegel: The History of Philosophy: Volume 3 of 3</span>, <span style=\"background-color:#d4e6f1;\">Immanuel Kant: Kant's Critique of Judgement</span>, <span style=\"background-color:#eadbd8;\">Immanuel Kant: The Critique of Pure Reason</span>, <span style=\"background-color:#ecf3cf;\">Georg Wilhelm Hegel: Hegel's Lectures on the History of Philosophy: Vol. 2 of 3</span>, <span style=\"background-color:#f6ddcc;\">Friedrich Nietzsche: Human, All Too Human</span>, <span style=\"background-color:#ebdef0;\">Friedrich Nietzsche: The Will to Power, Books III and IV</span>, <span style=\"background-color:#e5e8e8;\">Immanuel Kant: The Critique of Practical Reason</span></p></small>"
      ],
      "text/plain": [
       "<IPython.core.display.HTML object>"
      ]
     },
     "metadata": {},
     "output_type": "display_data"
    },
    {
     "name": "stdout",
     "output_type": "stream",
     "text": [
      "-------------------------------------------\n",
      "step 16000: train loss 2.4091, val loss 2.4000, time 0.502 sec/iter\n",
      "Sample: --------temperature: 0.9 ---------\n"
     ]
    },
    {
     "data": {
      "text/html": [
       " θε τὸ ὄν ἀποιν τοι, ὁ εἰδικίων)[181]<span style=\"background-color:#d8daef;\"> The Idea is the </span><span style=\"background-color:#d8daef;\">Idea of a </span><span style=\"background-color:#d8daef;\">universal<br>is </span>homoge<span style=\"background-color:#d4efdf;\">ne; the on</span><span style=\"background-color:#e2d7d5;\">ly thing that i</span>t is und"
      ],
      "text/plain": [
       "<IPython.core.display.HTML object>"
      ]
     },
     "metadata": {},
     "output_type": "display_data"
    },
    {
     "data": {
      "text/html": [
       "<small><p style=\"text-align:right;\">Sources: <span style=\"background-color:#d8daef;\">Georg Wilhelm Hegel: The History of Philosophy: Volume 3 of 3</span>, <span style=\"background-color:#d4efdf;\">Georg Wilhelm Hegel: Hegel's Lectures on the History of Philosophy: Vol. 1 of 3</span>, <span style=\"background-color:#e2d7d5;\">Friedrich Nietzsche: The Joyful Wisdom</span></p></small>"
      ],
      "text/plain": [
       "<IPython.core.display.HTML object>"
      ]
     },
     "metadata": {},
     "output_type": "display_data"
    },
    {
     "name": "stdout",
     "output_type": "stream",
     "text": [
      "--------temperature: 0.95 ---------\n"
     ]
    },
    {
     "data": {
      "text/html": [
       " 6 69, 72-52<span style=\"background-color:#d8daef;\">, 407.<br><br>  </span><span style=\"background-color:#d8daef;\">Tennemann, I. </span>914, 157-168, 177, 199, 197, 172, 199, 2206"
      ],
      "text/plain": [
       "<IPython.core.display.HTML object>"
      ]
     },
     "metadata": {},
     "output_type": "display_data"
    },
    {
     "data": {
      "text/html": [
       "<small><p style=\"text-align:right;\">Sources: <span style=\"background-color:#d8daef;\">Georg Wilhelm Hegel: The History of Philosophy: Volume 3 of 3</span></p></small>"
      ],
      "text/plain": [
       "<IPython.core.display.HTML object>"
      ]
     },
     "metadata": {},
     "output_type": "display_data"
    },
    {
     "name": "stdout",
     "output_type": "stream",
     "text": [
      "--------temperature: 1.0 ---------\n"
     ]
    },
    {
     "data": {
      "text/html": [
       " 7, 417, 5536; II.<br>166, § 6, 62; § 65, p. 79; &c.<br><br>[152] Second Erst, pp. 88; C"
      ],
      "text/plain": [
       "<IPython.core.display.HTML object>"
      ]
     },
     "metadata": {},
     "output_type": "display_data"
    },
    {
     "name": "stdout",
     "output_type": "stream",
     "text": [
      "--------temperature: 1.05 ---------\n"
     ]
    },
    {
     "data": {
      "text/html": [
       " .... p. 332<span style=\"background-color:#d4efdf;\">) we must c</span><span style=\"background-color:#d0ece7;\">onceive of the<br></span>Scotus:—<span style=\"background-color:#eadbd8;\">we must make a</span><span style=\"background-color:#d8daef;\"> knowledge of what is </span><span style=\"background-color:#eadbd8;\">_long period of a</span><span style=\"background-color:#e2d7d5;\">rrational_</span><span style=\"background-color:#ecf3cf;\"><br>enduring </span>joyahmas (<span style=\"background-color:#f6ddcc;\">revenge, ma</span>a<span style=\"background-color:#d8daef;\">led philosophi</span>us<span style=\"background-color:#d8daef;\">)<br>concerning </span><span style=\"background-color:#d0ece7;\">Becoming the </span>instru"
      ],
      "text/plain": [
       "<IPython.core.display.HTML object>"
      ]
     },
     "metadata": {},
     "output_type": "display_data"
    },
    {
     "data": {
      "text/html": [
       "<small><p style=\"text-align:right;\">Sources: <span style=\"background-color:#d4efdf;\">Georg Wilhelm Hegel: Hegel's Lectures on the History of Philosophy: Vol. 1 of 3</span>, <span style=\"background-color:#d0ece7;\">Friedrich Nietzsche: Early Greek Philosophy & Other Essays</span>, <span style=\"background-color:#eadbd8;\">Friedrich Nietzsche: The Will to Power, Books I and II</span>, <span style=\"background-color:#d8daef;\">Georg Wilhelm Hegel: The History of Philosophy: Volume 3 of 3</span>, <span style=\"background-color:#e2d7d5;\">Friedrich Nietzsche: The Joyful Wisdom</span>, <span style=\"background-color:#ecf3cf;\">Georg Wilhelm Hegel: Hegel's Lectures on the History of Philosophy: Vol. 2 of 3</span>, <span style=\"background-color:#f6ddcc;\">Friedrich Nietzsche: Human, All Too Human</span>, <span style=\"background-color:#d8daef;\">Friedrich Nietzsche: Thoughts out of Season, Part One</span></p></small>"
      ],
      "text/plain": [
       "<IPython.core.display.HTML object>"
      ]
     },
     "metadata": {},
     "output_type": "display_data"
    },
    {
     "name": "stdout",
     "output_type": "stream",
     "text": [
      "--------temperature: 1.1 ---------\n"
     ]
    },
    {
     "data": {
      "text/html": [
       " as a<span style=\"background-color:#ebdef0;\">bad as to a</span> peop<span style=\"background-color:#d4efdf;\">le. Colebrooke </span>among attl<span style=\"background-color:#d6eaf8;\">e among Ch</span><span style=\"background-color:#eadbd8;\">urrent of </span>discho, father.<br><br>_Sate<span style=\"background-color:#edebd0;\"> of depart</span><span style=\"background-color:#d8daef;\">es. The first p</span><span style=\"background-color:#d8daef;\">oint of the earth</span> thirsty in<span style=\"background-color:#ecf3cf;\"> hand of a co</span><span style=\"background-color:#eadbd8;\">ntempt. The </span>Church maar<span style=\"background-color:#d0ece7;\"> into expression </span><span style=\"background-color:#ebdef0;\">and<br>hostili</span>sed, but lone"
      ],
      "text/plain": [
       "<IPython.core.display.HTML object>"
      ]
     },
     "metadata": {},
     "output_type": "display_data"
    },
    {
     "data": {
      "text/html": [
       "<small><p style=\"text-align:right;\">Sources: <span style=\"background-color:#ebdef0;\">Friedrich Nietzsche: The Will to Power, Books III and IV</span>, <span style=\"background-color:#d4efdf;\">Georg Wilhelm Hegel: Hegel's Lectures on the History of Philosophy: Vol. 1 of 3</span>, <span style=\"background-color:#d6eaf8;\">Immanuel Kant: Perpetual Peace</span>, <span style=\"background-color:#eadbd8;\">Friedrich Nietzsche: The Will to Power, Books I and II</span>, <span style=\"background-color:#edebd0;\">Immanuel Kant: Kant's Prolegomena</span>, <span style=\"background-color:#d8daef;\">Georg Wilhelm Hegel: The History of Philosophy: Volume 3 of 3</span>, <span style=\"background-color:#ecf3cf;\">Georg Wilhelm Hegel: Hegel's Lectures on the History of Philosophy: Vol. 2 of 3</span>, <span style=\"background-color:#d0ece7;\">Friedrich Nietzsche: Early Greek Philosophy & Other Essays</span>, <span style=\"background-color:#ebdef0;\">Friedrich Nietzsche: Beyond Good and Evil</span></p></small>"
      ],
      "text/plain": [
       "<IPython.core.display.HTML object>"
      ]
     },
     "metadata": {},
     "output_type": "display_data"
    },
    {
     "name": "stdout",
     "output_type": "stream",
     "text": [
      "-------------------------------------------\n",
      "step 16250: train loss 2.3616, val loss 2.3335, time 0.503 sec/iter\n",
      "Sample: --------temperature: 0.9 ---------\n"
     ]
    },
    {
     "data": {
      "text/html": [
       " vil<span style=\"background-color:#d4e6f1;\"> to be ade</span>my o<span style=\"background-color:#d8daef;\">n upon earth</span><span style=\"background-color:#d8daef;\"> as a cano</span>w<span style=\"background-color:#e2d7d5;\">er-thoughts</span>, like<br>health<span style=\"background-color:#ebdef0;\">ympathy with </span>Rich<span style=\"background-color:#ebdef0;\">ard--that is to say, </span><span style=\"background-color:#d8daef;\">Goethe once said to</span><br>_Hand_<span style=\"background-color:#fae5d3;\"> for antiquity</span>potyonic<span style=\"background-color:#d8daef;\"> place; and </span>aga<span style=\"background-color:#eadbd8;\">in, although </span>h<span style=\"background-color:#d8daef;\">e may say that </span>are a<span style=\"background-color:#d8daef;\">t<br>likewise </span>"
      ],
      "text/plain": [
       "<IPython.core.display.HTML object>"
      ]
     },
     "metadata": {},
     "output_type": "display_data"
    },
    {
     "data": {
      "text/html": [
       "<small><p style=\"text-align:right;\">Sources: <span style=\"background-color:#d4e6f1;\">Immanuel Kant: Kant's Critique of Judgement</span>, <span style=\"background-color:#d8daef;\">Georg Wilhelm Hegel: The History of Philosophy: Volume 3 of 3</span>, <span style=\"background-color:#d8daef;\">Friedrich Nietzsche: Thoughts out of Season, Part One</span>, <span style=\"background-color:#e2d7d5;\">Friedrich Nietzsche: The Joyful Wisdom</span>, <span style=\"background-color:#ebdef0;\">Friedrich Nietzsche: The Will to Power, Books III and IV</span>, <span style=\"background-color:#fae5d3;\">Friedrich Nietzsche: We Philologists, Volume 8 of 18</span>, <span style=\"background-color:#eadbd8;\">Immanuel Kant: The Critique of Pure Reason</span></p></small>"
      ],
      "text/plain": [
       "<IPython.core.display.HTML object>"
      ]
     },
     "metadata": {},
     "output_type": "display_data"
    },
    {
     "name": "stdout",
     "output_type": "stream",
     "text": [
      "--------temperature: 0.95 ---------\n"
     ]
    },
    {
     "data": {
      "text/html": [
       " V. V., p. 41).<br><br>_The Trueltymento David Death.—[428] “Wh<span style=\"background-color:#ebdef0;\">at<br>individual</span><span style=\"background-color:#ecf3cf;\"> is received, </span><span style=\"background-color:#e2d7d5;\">however, you</span>ng<span style=\"background-color:#ecf3cf;\"> men from </span><span style=\"background-color:#d8daef;\">God as real</span><span style=\"background-color:#d8daef;\"> experience, th</span><span style=\"background-color:#d8daef;\">us constituted</span><br>adot<span style=\"background-color:#eadbd8;\">es permanently </span>our "
      ],
      "text/plain": [
       "<IPython.core.display.HTML object>"
      ]
     },
     "metadata": {},
     "output_type": "display_data"
    },
    {
     "data": {
      "text/html": [
       "<small><p style=\"text-align:right;\">Sources: <span style=\"background-color:#ebdef0;\">Friedrich Nietzsche: The Will to Power, Books III and IV</span>, <span style=\"background-color:#ecf3cf;\">Georg Wilhelm Hegel: Hegel's Lectures on the History of Philosophy: Vol. 2 of 3</span>, <span style=\"background-color:#e2d7d5;\">Friedrich Nietzsche: The Joyful Wisdom</span>, <span style=\"background-color:#d8daef;\">Georg Wilhelm Hegel: The History of Philosophy: Volume 3 of 3</span>, <span style=\"background-color:#eadbd8;\">Friedrich Nietzsche: The Will to Power, Books I and II</span></p></small>"
      ],
      "text/plain": [
       "<IPython.core.display.HTML object>"
      ]
     },
     "metadata": {},
     "output_type": "display_data"
    },
    {
     "name": "stdout",
     "output_type": "stream",
     "text": [
      "--------temperature: 1.0 ---------\n"
     ]
    },
    {
     "data": {
      "text/html": [
       " νοσεῖ-lov-Physik-great,<span style=\"background-color:#ecf3cf;\"> was awakened in</span><br>You: tou<span style=\"background-color:#e2d7d5;\">d and without </span>reserve, I<span style=\"background-color:#d6dbdf;\"> even one </span>no shadow-and<span style=\"background-color:#e2d7d5;\">-going.<br><br>I</span>Nay<span style=\"background-color:#d4e6f1;\">be a great s</span>aves<span style=\"background-color:#d8daef;\">selm, the </span>love o"
      ],
      "text/plain": [
       "<IPython.core.display.HTML object>"
      ]
     },
     "metadata": {},
     "output_type": "display_data"
    },
    {
     "data": {
      "text/html": [
       "<small><p style=\"text-align:right;\">Sources: <span style=\"background-color:#ecf3cf;\">Georg Wilhelm Hegel: Hegel's Lectures on the History of Philosophy: Vol. 2 of 3</span>, <span style=\"background-color:#e2d7d5;\">Friedrich Nietzsche: The Joyful Wisdom</span>, <span style=\"background-color:#d6dbdf;\">Friedrich Nietzsche: Thoughts Out of Season, Part 2</span>, <span style=\"background-color:#e2d7d5;\">Friedrich Nietzsche: Thus Spake Zarathustra</span>, <span style=\"background-color:#d4e6f1;\">Immanuel Kant: Kant's Critique of Judgement</span>, <span style=\"background-color:#d8daef;\">Georg Wilhelm Hegel: The History of Philosophy: Volume 3 of 3</span></p></small>"
      ],
      "text/plain": [
       "<IPython.core.display.HTML object>"
      ]
     },
     "metadata": {},
     "output_type": "display_data"
    },
    {
     "name": "stdout",
     "output_type": "stream",
     "text": [
      "--------temperature: 1.05 ---------\n"
     ]
    },
    {
     "data": {
      "text/html": [
       " tional<span style=\"background-color:#e2d7d5;\">! Verily, the</span> hate.<span style=\"background-color:#d6dbdf;\">ks from the </span>v<span style=\"background-color:#d4e6f1;\">enerative<br></span>de<span style=\"background-color:#d4efdf;\">lay the en</span>ig<span style=\"background-color:#ebdef0;\">our where </span>we lack<span style=\"background-color:#d4e6f1;\"> uprightly </span>so f<span style=\"background-color:#d8daef;\">ar possession </span>so<span style=\"background-color:#d6eaf8;\">licity on </span><span style=\"background-color:#d4e6f1;\">the<br>space, </span><span style=\"background-color:#d4efdf;\">for space </span><span style=\"background-color:#edebd0;\">pure space is </span><span style=\"background-color:#d4e6f1;\">to be obtain</span>s our solating<br>analysi and explu<span style=\"background-color:#eadbd8;\">tation, cont</span><span style=\"background-color:#d8daef;\">radicts itself</span>"
      ],
      "text/plain": [
       "<IPython.core.display.HTML object>"
      ]
     },
     "metadata": {},
     "output_type": "display_data"
    },
    {
     "data": {
      "text/html": [
       "<small><p style=\"text-align:right;\">Sources: <span style=\"background-color:#e2d7d5;\">Friedrich Nietzsche: The Joyful Wisdom</span>, <span style=\"background-color:#d6dbdf;\">Friedrich Nietzsche: Thoughts Out of Season, Part 2</span>, <span style=\"background-color:#d4e6f1;\">Immanuel Kant: Kant's Critique of Judgement</span>, <span style=\"background-color:#d4efdf;\">Georg Wilhelm Hegel: Hegel's Lectures on the History of Philosophy: Vol. 1 of 3</span>, <span style=\"background-color:#ebdef0;\">Friedrich Nietzsche: The Will to Power, Books III and IV</span>, <span style=\"background-color:#d8daef;\">Georg Wilhelm Hegel: The History of Philosophy: Volume 3 of 3</span>, <span style=\"background-color:#d6eaf8;\">Immanuel Kant: Perpetual Peace</span>, <span style=\"background-color:#edebd0;\">Immanuel Kant: Kant's Prolegomena</span>, <span style=\"background-color:#eadbd8;\">Immanuel Kant: The Critique of Pure Reason</span></p></small>"
      ],
      "text/plain": [
       "<IPython.core.display.HTML object>"
      ]
     },
     "metadata": {},
     "output_type": "display_data"
    },
    {
     "name": "stdout",
     "output_type": "stream",
     "text": [
      "--------temperature: 1.1 ---------\n"
     ]
    },
    {
     "data": {
      "text/html": [
       " U<span style=\"background-color:#e2d7d5;\">?--O my brethren, </span>pag<span style=\"background-color:#d6dbdf;\">e, strange </span>as MORANT,<br>a<span style=\"background-color:#d6dbdf;\"> is a way of </span>affai<span style=\"background-color:#e2d7d5;\">r!<br><br>And th</span>is dayer-half az<span style=\"background-color:#d4e6f1;\">y concern o</span>! Let thy rise-c<span style=\"background-color:#ebdef0;\">over yourselves</span>!<br>Therever "
      ],
      "text/plain": [
       "<IPython.core.display.HTML object>"
      ]
     },
     "metadata": {},
     "output_type": "display_data"
    },
    {
     "data": {
      "text/html": [
       "<small><p style=\"text-align:right;\">Sources: <span style=\"background-color:#e2d7d5;\">Friedrich Nietzsche: Thus Spake Zarathustra</span>, <span style=\"background-color:#d6dbdf;\">Friedrich Nietzsche: Thoughts Out of Season, Part 2</span>, <span style=\"background-color:#d4e6f1;\">Immanuel Kant: Kant's Critique of Judgement</span>, <span style=\"background-color:#ebdef0;\">Friedrich Nietzsche: Beyond Good and Evil</span></p></small>"
      ],
      "text/plain": [
       "<IPython.core.display.HTML object>"
      ]
     },
     "metadata": {},
     "output_type": "display_data"
    },
    {
     "name": "stdout",
     "output_type": "stream",
     "text": [
      "-------------------------------------------\n",
      "step 16500: train loss 2.3884, val loss 2.3571, time 0.502 sec/iter\n",
      "Sample: --------temperature: 0.9 ---------\n"
     ]
    },
    {
     "data": {
      "text/html": [
       "<span style=\"background-color:#d8daef;\"> through<br>him</span>. Have<span style=\"background-color:#e2d7d5;\"> I looked into </span><span style=\"background-color:#ecf3cf;\">its interests</span>:<span style=\"background-color:#d8daef;\"> the merit of h</span><span style=\"background-color:#eadbd8;\">er light, </span>at<br>lip<span style=\"background-color:#edebd0;\">s to metaphysics, </span><span style=\"background-color:#edebd0;\">where the one </span>handick<span style=\"background-color:#ecf3cf;\">ed life itself</span><span style=\"background-color:#d8daef;\"> and its con</span><span style=\"background-color:#ecf3cf;\">ception, but<br></span><span style=\"background-color:#d8daef;\">it is found</span><span style=\"background-color:#d8daef;\">; and also the </span><span style=\"background-color:#d8daef;\">body and so</span><span style=\"background-color:#ecf3cf;\"> on. In the </span><span style=\"background-color:#ebdef0;\">Englishman </span><span style=\"background-color:#eadbd8;\">bears with</span><span style=\"background-color:#d8daef;\"><br>intuitive </span>God "
      ],
      "text/plain": [
       "<IPython.core.display.HTML object>"
      ]
     },
     "metadata": {},
     "output_type": "display_data"
    },
    {
     "data": {
      "text/html": [
       "<small><p style=\"text-align:right;\">Sources: <span style=\"background-color:#d8daef;\">Georg Wilhelm Hegel: The History of Philosophy: Volume 3 of 3</span>, <span style=\"background-color:#e2d7d5;\">Friedrich Nietzsche: Thus Spake Zarathustra</span>, <span style=\"background-color:#ecf3cf;\">Georg Wilhelm Hegel: Hegel's Lectures on the History of Philosophy: Vol. 2 of 3</span>, <span style=\"background-color:#eadbd8;\">Immanuel Kant: The Critique of Pure Reason</span>, <span style=\"background-color:#edebd0;\">Immanuel Kant: Kant's Prolegomena</span>, <span style=\"background-color:#ebdef0;\">Friedrich Nietzsche: The Will to Power, Books III and IV</span>, <span style=\"background-color:#eadbd8;\">Friedrich Nietzsche: The Will to Power, Books I and II</span></p></small>"
      ],
      "text/plain": [
       "<IPython.core.display.HTML object>"
      ]
     },
     "metadata": {},
     "output_type": "display_data"
    },
    {
     "name": "stdout",
     "output_type": "stream",
     "text": [
      "--------temperature: 0.95 ---------\n"
     ]
    },
    {
     "data": {
      "text/html": [
       " λος ὄντι, ἐστῆς<br>ἄλατον_ ἔστιν· ἐποροῦ), Answer, c. 20 (Theysiii. 6"
      ],
      "text/plain": [
       "<IPython.core.display.HTML object>"
      ]
     },
     "metadata": {},
     "output_type": "display_data"
    },
    {
     "name": "stdout",
     "output_type": "stream",
     "text": [
      "--------temperature: 1.0 ---------\n"
     ]
    },
    {
     "data": {
      "text/html": [
       " τὸ ὄντιοῦ<span style=\"background-color:#d6eaf8;\">), particular</span><span style=\"background-color:#ecf3cf;\"><br>soul and matter</span><span style=\"background-color:#d4efdf;\"> indeed the cause of th</span>e<span style=\"background-color:#e2d7d5;\">ir, that is</span><span style=\"background-color:#d6dbdf;\">, to have<br>another</span><span style=\"background-color:#e2d7d5;\">, it would t</span><span style=\"background-color:#ecf3cf;\">hus conformable to th</span><span style=\"background-color:#eadbd8;\">is eternal a</span><span style=\"background-color:#edebd0;\">pplication and </span>be<span style=\"background-color:#ecf3cf;\"> a<br>subjective </span><span style=\"background-color:#d8daef;\">and object, </span><span style=\"background-color:#d8daef;\">nor does h</span><span style=\"background-color:#d4e6e1;\">imself in this way a</span><span style=\"background-color:#d8daef;\">bstract, and in th</span><span style=\"background-color:#d8daef;\">ought and<br>the</span>re<span style=\"background-color:#d8daef;\"> again given to t</span><span style=\"background-color:#ebdef0;\">he same thing th</span>roughout"
      ],
      "text/plain": [
       "<IPython.core.display.HTML object>"
      ]
     },
     "metadata": {},
     "output_type": "display_data"
    },
    {
     "data": {
      "text/html": [
       "<small><p style=\"text-align:right;\">Sources: <span style=\"background-color:#d6eaf8;\">Immanuel Kant: Perpetual Peace</span>, <span style=\"background-color:#ecf3cf;\">Georg Wilhelm Hegel: Hegel's Lectures on the History of Philosophy: Vol. 2 of 3</span>, <span style=\"background-color:#d4efdf;\">Georg Wilhelm Hegel: Hegel's Lectures on the History of Philosophy: Vol. 1 of 3</span>, <span style=\"background-color:#e2d7d5;\">Friedrich Nietzsche: The Joyful Wisdom</span>, <span style=\"background-color:#d6dbdf;\">Friedrich Nietzsche: Thoughts Out of Season, Part 2</span>, <span style=\"background-color:#eadbd8;\">Friedrich Nietzsche: The Will to Power, Books I and II</span>, <span style=\"background-color:#edebd0;\">Immanuel Kant: Kant's Prolegomena</span>, <span style=\"background-color:#d8daef;\">Georg Wilhelm Hegel: The History of Philosophy: Volume 3 of 3</span>, <span style=\"background-color:#d4e6e1;\">Immanuel Kant: Fundamental Principles of the Metaphysic of Morals</span>, <span style=\"background-color:#ebdef0;\">Friedrich Nietzsche: The Will to Power, Books III and IV</span></p></small>"
      ],
      "text/plain": [
       "<IPython.core.display.HTML object>"
      ]
     },
     "metadata": {},
     "output_type": "display_data"
    },
    {
     "name": "stdout",
     "output_type": "stream",
     "text": [
      "--------temperature: 1.05 ---------\n"
     ]
    },
    {
     "data": {
      "text/html": [
       " XX. 85:<span style=\"background-color:#eadbd8;\"> The Truths and </span><span style=\"background-color:#d8daef;\">in greater </span>ar<span style=\"background-color:#ecf3cf;\">e<br>involved in </span>i<span style=\"background-color:#eadbd8;\">t, the dea</span><span style=\"background-color:#d6eaf8;\">d does not l</span><span style=\"background-color:#e2d7d5;\">ast to the<br>o</span>pen patter; let<span style=\"background-color:#eadbd8;\">ting necess</span>ity<span style=\"background-color:#d8daef;\"> less rest</span>rai<span style=\"background-color:#d4e6f1;\">n, as is a</span><span style=\"background-color:#d6eaf8;\">s<br>a question </span><span style=\"background-color:#ebdef0;\">which knows that </span>a ‘own will.’ There<span style=\"background-color:#d8daef;\"><br>standing </span>ran"
      ],
      "text/plain": [
       "<IPython.core.display.HTML object>"
      ]
     },
     "metadata": {},
     "output_type": "display_data"
    },
    {
     "data": {
      "text/html": [
       "<small><p style=\"text-align:right;\">Sources: <span style=\"background-color:#eadbd8;\">Friedrich Nietzsche: The Will to Power, Books I and II</span>, <span style=\"background-color:#d8daef;\">Georg Wilhelm Hegel: The History of Philosophy: Volume 3 of 3</span>, <span style=\"background-color:#ecf3cf;\">Georg Wilhelm Hegel: Hegel's Lectures on the History of Philosophy: Vol. 2 of 3</span>, <span style=\"background-color:#d6eaf8;\">Immanuel Kant: Perpetual Peace</span>, <span style=\"background-color:#e2d7d5;\">Friedrich Nietzsche: The Joyful Wisdom</span>, <span style=\"background-color:#eadbd8;\">Immanuel Kant: The Critique of Pure Reason</span>, <span style=\"background-color:#d4e6f1;\">Immanuel Kant: Kant's Critique of Judgement</span>, <span style=\"background-color:#ebdef0;\">Friedrich Nietzsche: Beyond Good and Evil</span></p></small>"
      ],
      "text/plain": [
       "<IPython.core.display.HTML object>"
      ]
     },
     "metadata": {},
     "output_type": "display_data"
    },
    {
     "name": "stdout",
     "output_type": "stream",
     "text": [
      "--------temperature: 1.1 ---------\n"
     ]
    },
    {
     "data": {
      "text/html": [
       " ]<br><br>[114] I see to lsche Bacobixt it. en. Pety here, “Be de Greece medicillanim<br>ideas.” [_Valen D. Histort’s jerker utonima"
      ],
      "text/plain": [
       "<IPython.core.display.HTML object>"
      ]
     },
     "metadata": {},
     "output_type": "display_data"
    },
    {
     "name": "stdout",
     "output_type": "stream",
     "text": [
      "-------------------------------------------\n",
      "step 16750: train loss 2.3220, val loss 2.2817, time 0.502 sec/iter\n",
      "Sample: --------temperature: 0.9 ---------\n"
     ]
    },
    {
     "data": {
      "text/html": [
       " *<span style=\"background-color:#d6eaf8;\">,<br>    The </span><span style=\"background-color:#ebdef0;\">arian, who </span><span style=\"background-color:#e2d7d5;\">compelled me</span>an<span style=\"background-color:#e2d7d5;\">s who writ</span>heth-fold: “He w<span style=\"background-color:#e2d7d5;\">e<br>above all, </span>a terror<span style=\"background-color:#e2d7d5;\">!” Zarathustra</span><span style=\"background-color:#ecf3cf;\">: “Let us </span>not de<span style=\"background-color:#d4e6f1;\">urs; or th</span>u<span style=\"background-color:#e2d7d5;\">s? Thus do </span><span style=\"background-color:#d8daef;\">one<br>might </span><span style=\"background-color:#ebdef0;\">be sure to </span><span style=\"background-color:#d6eaf8;\">me without c</span>onv"
      ],
      "text/plain": [
       "<IPython.core.display.HTML object>"
      ]
     },
     "metadata": {},
     "output_type": "display_data"
    },
    {
     "data": {
      "text/html": [
       "<small><p style=\"text-align:right;\">Sources: <span style=\"background-color:#d6eaf8;\">Immanuel Kant: Perpetual Peace</span>, <span style=\"background-color:#ebdef0;\">Friedrich Nietzsche: Beyond Good and Evil</span>, <span style=\"background-color:#e2d7d5;\">Friedrich Nietzsche: The Joyful Wisdom</span>, <span style=\"background-color:#e2d7d5;\">Friedrich Nietzsche: Thus Spake Zarathustra</span>, <span style=\"background-color:#ecf3cf;\">Georg Wilhelm Hegel: Hegel's Lectures on the History of Philosophy: Vol. 2 of 3</span>, <span style=\"background-color:#d4e6f1;\">Immanuel Kant: Kant's Critique of Judgement</span>, <span style=\"background-color:#d8daef;\">Georg Wilhelm Hegel: The History of Philosophy: Volume 3 of 3</span>, <span style=\"background-color:#ebdef0;\">Friedrich Nietzsche: The Will to Power, Books III and IV</span></p></small>"
      ],
      "text/plain": [
       "<IPython.core.display.HTML object>"
      ]
     },
     "metadata": {},
     "output_type": "display_data"
    },
    {
     "name": "stdout",
     "output_type": "stream",
     "text": [
      "--------temperature: 0.95 ---------\n"
     ]
    },
    {
     "data": {
      "text/html": [
       " 5, 122, 23, has of i<span style=\"background-color:#ecf3cf;\">bstract theor</span>y, _increagnavived<span style=\"background-color:#e2d7d5;\"> and<br>profundi</span>um<span style=\"background-color:#d4efdf;\">_), in that </span>(16) to indix adole<span style=\"background-color:#d8daef;\">tion must be </span>kept in inext and<br>ha<span style=\"background-color:#d8daef;\">d increase</span><span style=\"background-color:#eadbd8;\">d; we can </span><span style=\"background-color:#eadbd8;\">even consider </span>"
      ],
      "text/plain": [
       "<IPython.core.display.HTML object>"
      ]
     },
     "metadata": {},
     "output_type": "display_data"
    },
    {
     "data": {
      "text/html": [
       "<small><p style=\"text-align:right;\">Sources: <span style=\"background-color:#ecf3cf;\">Georg Wilhelm Hegel: Hegel's Lectures on the History of Philosophy: Vol. 2 of 3</span>, <span style=\"background-color:#e2d7d5;\">Friedrich Nietzsche: The Joyful Wisdom</span>, <span style=\"background-color:#d4efdf;\">Georg Wilhelm Hegel: Hegel's Lectures on the History of Philosophy: Vol. 1 of 3</span>, <span style=\"background-color:#d8daef;\">Georg Wilhelm Hegel: The History of Philosophy: Volume 3 of 3</span>, <span style=\"background-color:#eadbd8;\">Immanuel Kant: The Critique of Pure Reason</span></p></small>"
      ],
      "text/plain": [
       "<IPython.core.display.HTML object>"
      ]
     },
     "metadata": {},
     "output_type": "display_data"
    },
    {
     "name": "stdout",
     "output_type": "stream",
     "text": [
      "--------temperature: 1.0 ---------\n"
     ]
    },
    {
     "data": {
      "text/html": [
       " *<span style=\"background-color:#e2d7d5;\"><br><br>Admirabl</span><span style=\"background-color:#ecf3cf;\">e world; and </span>w<span style=\"background-color:#f6ddcc;\">e uplifted </span>storm scants<span style=\"background-color:#d6dbdf;\">. Schiller </span><span style=\"background-color:#d0ece7;\">perhaps they were </span>sol<span style=\"background-color:#eadbd8;\">emning the </span>by him.<br><span style=\"background-color:#d8daef;\">Solomon must be </span><span style=\"background-color:#d8daef;\">the honour </span><span style=\"background-color:#eadbd8;\">should be found to </span><span style=\"background-color:#d8daef;\">maintaining </span><span style=\"background-color:#d8daef;\">for the sa</span>ught<span style=\"background-color:#e2d7d5;\">er<br>for him</span>,<span style=\"background-color:#eadbd8;\">—but only as a </span><span style=\"background-color:#d8daef;\">matter of </span>"
      ],
      "text/plain": [
       "<IPython.core.display.HTML object>"
      ]
     },
     "metadata": {},
     "output_type": "display_data"
    },
    {
     "data": {
      "text/html": [
       "<small><p style=\"text-align:right;\">Sources: <span style=\"background-color:#e2d7d5;\">Friedrich Nietzsche: Thus Spake Zarathustra</span>, <span style=\"background-color:#ecf3cf;\">Georg Wilhelm Hegel: Hegel's Lectures on the History of Philosophy: Vol. 2 of 3</span>, <span style=\"background-color:#f6ddcc;\">Friedrich Nietzsche: Human, All Too Human</span>, <span style=\"background-color:#d6dbdf;\">Friedrich Nietzsche: Thoughts Out of Season, Part 2</span>, <span style=\"background-color:#d0ece7;\">Friedrich Nietzsche: Early Greek Philosophy & Other Essays</span>, <span style=\"background-color:#eadbd8;\">Friedrich Nietzsche: The Will to Power, Books I and II</span>, <span style=\"background-color:#d8daef;\">Georg Wilhelm Hegel: The History of Philosophy: Volume 3 of 3</span>, <span style=\"background-color:#eadbd8;\">Immanuel Kant: The Critique of Pure Reason</span>, <span style=\"background-color:#e2d7d5;\">Friedrich Nietzsche: The Joyful Wisdom</span></p></small>"
      ],
      "text/plain": [
       "<IPython.core.display.HTML object>"
      ]
     },
     "metadata": {},
     "output_type": "display_data"
    },
    {
     "name": "stdout",
     "output_type": "stream",
     "text": [
      "--------temperature: 1.05 ---------\n"
     ]
    },
    {
     "data": {
      "text/html": [
       " εἰκαν),<span style=\"background-color:#d8daef;\">--this all</span><span style=\"background-color:#d8daef;\"> things per</span>s<span style=\"background-color:#ecf3cf;\">onal<br>reason</span><span style=\"background-color:#eadbd8;\"> to be pleased</span>.”[8]<span style=\"background-color:#ebdef0;\"><br><br>As a matter of </span>seco<span style=\"background-color:#f6ddcc;\">nd knowledge is </span>a<span style=\"background-color:#d8daef;\">s opinion </span><span style=\"background-color:#d8daef;\">through the </span><span style=\"background-color:#d4e6f1;\">“beautiful</span>”<span style=\"background-color:#d8daef;\"> was with </span>every<br><span style=\"background-color:#ebdef0;\">so to be re</span>a<span style=\"background-color:#ebdef0;\">d: it was </span>the us<span style=\"background-color:#d8daef;\">eased to be </span><span style=\"background-color:#d4efdf;\">the true and p</span><span style=\"background-color:#d4e6f1;\">leasantness; t</span>o He"
      ],
      "text/plain": [
       "<IPython.core.display.HTML object>"
      ]
     },
     "metadata": {},
     "output_type": "display_data"
    },
    {
     "data": {
      "text/html": [
       "<small><p style=\"text-align:right;\">Sources: <span style=\"background-color:#d8daef;\">Friedrich Nietzsche: Thoughts out of Season, Part One</span>, <span style=\"background-color:#d8daef;\">Georg Wilhelm Hegel: The History of Philosophy: Volume 3 of 3</span>, <span style=\"background-color:#ecf3cf;\">Georg Wilhelm Hegel: Hegel's Lectures on the History of Philosophy: Vol. 2 of 3</span>, <span style=\"background-color:#eadbd8;\">Friedrich Nietzsche: The Will to Power, Books I and II</span>, <span style=\"background-color:#ebdef0;\">Friedrich Nietzsche: The Will to Power, Books III and IV</span>, <span style=\"background-color:#f6ddcc;\">Friedrich Nietzsche: Human, All Too Human</span>, <span style=\"background-color:#d4e6f1;\">Immanuel Kant: Kant's Critique of Judgement</span>, <span style=\"background-color:#ebdef0;\">Friedrich Nietzsche: Beyond Good and Evil</span>, <span style=\"background-color:#d4efdf;\">Georg Wilhelm Hegel: Hegel's Lectures on the History of Philosophy: Vol. 1 of 3</span></p></small>"
      ],
      "text/plain": [
       "<IPython.core.display.HTML object>"
      ]
     },
     "metadata": {},
     "output_type": "display_data"
    },
    {
     "name": "stdout",
     "output_type": "stream",
     "text": [
      "--------temperature: 1.1 ---------\n"
     ]
    },
    {
     "data": {
      "text/html": [
       " Undred<span style=\"background-color:#d4efdf;\">o Plato, w</span><span style=\"background-color:#e2d7d5;\">ith whom we </span>now tookqua<span style=\"background-color:#eadbd8;\">rely on this<br></span><span style=\"background-color:#d8daef;\">spoken. Th</span><span style=\"background-color:#e2d7d5;\">ere, when </span>your<span style=\"background-color:#eadbd8;\"> one maintains i</span>ts lof<span style=\"background-color:#d8daef;\">t determination,</span><span style=\"background-color:#ecf3cf;\"><br>which is also </span><span style=\"background-color:#d6dbdf;\">without a s</span><span style=\"background-color:#edebd0;\">tate of a </span>great, b<span style=\"background-color:#eadbd8;\">. The former deno</span>rm, yet<span style=\"background-color:#d4e6f1;\"> _Metaphysic</span>_<br>(<span style=\"background-color:#d4efdf;\">the two pri</span>ests, mig"
      ],
      "text/plain": [
       "<IPython.core.display.HTML object>"
      ]
     },
     "metadata": {},
     "output_type": "display_data"
    },
    {
     "data": {
      "text/html": [
       "<small><p style=\"text-align:right;\">Sources: <span style=\"background-color:#d4efdf;\">Georg Wilhelm Hegel: Hegel's Lectures on the History of Philosophy: Vol. 1 of 3</span>, <span style=\"background-color:#e2d7d5;\">Friedrich Nietzsche: The Joyful Wisdom</span>, <span style=\"background-color:#eadbd8;\">Immanuel Kant: The Critique of Pure Reason</span>, <span style=\"background-color:#d8daef;\">Georg Wilhelm Hegel: The History of Philosophy: Volume 3 of 3</span>, <span style=\"background-color:#e2d7d5;\">Friedrich Nietzsche: Thus Spake Zarathustra</span>, <span style=\"background-color:#ecf3cf;\">Georg Wilhelm Hegel: Hegel's Lectures on the History of Philosophy: Vol. 2 of 3</span>, <span style=\"background-color:#d6dbdf;\">Friedrich Nietzsche: Thoughts Out of Season, Part 2</span>, <span style=\"background-color:#edebd0;\">Immanuel Kant: Kant's Prolegomena</span>, <span style=\"background-color:#d4e6f1;\">Immanuel Kant: Kant's Critique of Judgement</span></p></small>"
      ],
      "text/plain": [
       "<IPython.core.display.HTML object>"
      ]
     },
     "metadata": {},
     "output_type": "display_data"
    },
    {
     "name": "stdout",
     "output_type": "stream",
     "text": [
      "-------------------------------------------\n",
      "step 17000: train loss 2.2966, val loss 2.3175, time 0.504 sec/iter\n",
      "Sample: --------temperature: 0.9 ---------\n"
     ]
    },
    {
     "data": {
      "text/html": [
       " 8<span style=\"background-color:#e2d7d5;\">15.<br><br>_The </span>Moral Art-Artke_—\"<span style=\"background-color:#d0ece7;\">we do not yet </span>avo<span style=\"background-color:#ebdef0;\">id ourselves </span><span style=\"background-color:#d8daef;\">constitute a se</span>n<span style=\"background-color:#d4e6f1;\">sive,<br>and </span><span style=\"background-color:#ebdef0;\">personality to </span><span style=\"background-color:#d8daef;\">an artist, and to </span>m<span style=\"background-color:#e2d7d5;\">ake without a</span>ny hurti<span style=\"background-color:#eadbd8;\">fictions, wh</span><span style=\"background-color:#d8daef;\">ereby know</span><span style=\"background-color:#d0ece7;\">ing<br>whole </span>company, grown small"
      ],
      "text/plain": [
       "<IPython.core.display.HTML object>"
      ]
     },
     "metadata": {},
     "output_type": "display_data"
    },
    {
     "data": {
      "text/html": [
       "<small><p style=\"text-align:right;\">Sources: <span style=\"background-color:#e2d7d5;\">Friedrich Nietzsche: The Joyful Wisdom</span>, <span style=\"background-color:#d0ece7;\">Friedrich Nietzsche: Early Greek Philosophy & Other Essays</span>, <span style=\"background-color:#ebdef0;\">Friedrich Nietzsche: The Will to Power, Books III and IV</span>, <span style=\"background-color:#d8daef;\">Georg Wilhelm Hegel: The History of Philosophy: Volume 3 of 3</span>, <span style=\"background-color:#d4e6f1;\">Immanuel Kant: Kant's Critique of Judgement</span>, <span style=\"background-color:#d8daef;\">Friedrich Nietzsche: Thoughts out of Season, Part One</span>, <span style=\"background-color:#eadbd8;\">Immanuel Kant: The Critique of Pure Reason</span></p></small>"
      ],
      "text/plain": [
       "<IPython.core.display.HTML object>"
      ]
     },
     "metadata": {},
     "output_type": "display_data"
    },
    {
     "name": "stdout",
     "output_type": "stream",
     "text": [
      "--------temperature: 0.95 ---------\n"
     ]
    },
    {
     "data": {
      "text/html": [
       " [82]<span style=\"background-color:#d8daef;\"> which exists</span><span style=\"background-color:#ebdef0;\">s a substratum </span><span style=\"background-color:#d4e6f1;\">judgement]</span>. B<span style=\"background-color:#d8daef;\">ut<br>should </span><span style=\"background-color:#d8daef;\">not the formal </span><span style=\"background-color:#d4efdf;\">ground of my </span><span style=\"background-color:#edebd0;\">representations to </span><span style=\"background-color:#d8daef;\">intuition the</span>n<span style=\"background-color:#d8daef;\">,<br>properly </span><span style=\"background-color:#e2d7d5;\">as merely a r</span><span style=\"background-color:#edebd0;\">eference (</span><span style=\"background-color:#edebd0;\">an object of intuition </span><span style=\"background-color:#ecf3cf;\">of a number of </span><span style=\"background-color:#edebd0;\">time) is i</span><span style=\"background-color:#d4e6f1;\">mmediately perceive the </span><span style=\"background-color:#d4e6f1;\">accordance of the representation</span><span style=\"background-color:#e5e8e8;\"><br>(which is given) </span>"
      ],
      "text/plain": [
       "<IPython.core.display.HTML object>"
      ]
     },
     "metadata": {},
     "output_type": "display_data"
    },
    {
     "data": {
      "text/html": [
       "<small><p style=\"text-align:right;\">Sources: <span style=\"background-color:#d8daef;\">Georg Wilhelm Hegel: The History of Philosophy: Volume 3 of 3</span>, <span style=\"background-color:#ebdef0;\">Friedrich Nietzsche: The Will to Power, Books III and IV</span>, <span style=\"background-color:#d4e6f1;\">Immanuel Kant: Kant's Critique of Judgement</span>, <span style=\"background-color:#d8daef;\">Friedrich Nietzsche: Thoughts out of Season, Part One</span>, <span style=\"background-color:#d4efdf;\">Georg Wilhelm Hegel: Hegel's Lectures on the History of Philosophy: Vol. 1 of 3</span>, <span style=\"background-color:#edebd0;\">Immanuel Kant: Kant's Prolegomena</span>, <span style=\"background-color:#e2d7d5;\">Friedrich Nietzsche: Thus Spake Zarathustra</span>, <span style=\"background-color:#ecf3cf;\">Georg Wilhelm Hegel: Hegel's Lectures on the History of Philosophy: Vol. 2 of 3</span>, <span style=\"background-color:#e5e8e8;\">Immanuel Kant: The Critique of Practical Reason</span></p></small>"
      ],
      "text/plain": [
       "<IPython.core.display.HTML object>"
      ]
     },
     "metadata": {},
     "output_type": "display_data"
    },
    {
     "name": "stdout",
     "output_type": "stream",
     "text": [
      "--------temperature: 1.0 ---------\n"
     ]
    },
    {
     "data": {
      "text/html": [
       " <span style=\"background-color:#e5e8e8;\">), and in this </span>was accuu<span style=\"background-color:#ecf3cf;\">m, but by </span><span style=\"background-color:#e5e8e8;\">virtue and<br>th</span>is in spicion<span style=\"background-color:#ebdef0;\">; or what is called </span><span style=\"background-color:#e5e8e8;\">intellectual content</span><span style=\"background-color:#ebdef0;\">, and the do</span>ing so of<br>the ze<span style=\"background-color:#d8daef;\">nition of f</span><span style=\"background-color:#d8daef;\">act of con</span><span style=\"background-color:#d8daef;\">futation. </span><span style=\"background-color:#d8daef;\">It does not </span>d<span style=\"background-color:#d8daef;\">etain this </span><span style=\"background-color:#d8daef;\">value, but </span>yet<span style=\"background-color:#d8daef;\"><br>rendered f</span><span style=\"background-color:#d6dbdf;\">rom the present </span><span style=\"background-color:#ecf3cf;\">groundwork</span><span style=\"background-color:#ecf3cf;\">ing us to d</span><span style=\"background-color:#eadbd8;\">isappear; and th</span>"
      ],
      "text/plain": [
       "<IPython.core.display.HTML object>"
      ]
     },
     "metadata": {},
     "output_type": "display_data"
    },
    {
     "data": {
      "text/html": [
       "<small><p style=\"text-align:right;\">Sources: <span style=\"background-color:#e5e8e8;\">Immanuel Kant: The Critique of Practical Reason</span>, <span style=\"background-color:#ecf3cf;\">Georg Wilhelm Hegel: Hegel's Lectures on the History of Philosophy: Vol. 2 of 3</span>, <span style=\"background-color:#ebdef0;\">Friedrich Nietzsche: The Will to Power, Books III and IV</span>, <span style=\"background-color:#d8daef;\">Georg Wilhelm Hegel: The History of Philosophy: Volume 3 of 3</span>, <span style=\"background-color:#d6dbdf;\">Friedrich Nietzsche: Thoughts Out of Season, Part 2</span>, <span style=\"background-color:#eadbd8;\">Immanuel Kant: The Critique of Pure Reason</span></p></small>"
      ],
      "text/plain": [
       "<IPython.core.display.HTML object>"
      ]
     },
     "metadata": {},
     "output_type": "display_data"
    },
    {
     "name": "stdout",
     "output_type": "stream",
     "text": [
      "--------temperature: 1.05 ---------\n"
     ]
    },
    {
     "data": {
      "text/html": [
       " ._ To giv<span style=\"background-color:#d4efdf;\">e he was l</span><span style=\"background-color:#fae5d3;\">earn nothing f</span><span style=\"background-color:#ebdef0;\">or a greater</span><span style=\"background-color:#d8daef;\">,<br>and it mi</span>s<span style=\"background-color:#ebdef0;\">trustworthy </span>of let us <span style=\"background-color:#edebd0;\">rictly be </span><span style=\"background-color:#d8daef;\">physical d</span>rum<span style=\"background-color:#eadbd8;\"> (to this </span>to the<br>abys<span style=\"background-color:#d8daef;\">. III. p. 10</span>), a bound<span style=\"background-color:#d6dbdf;\"> him not only that </span><span style=\"background-color:#d8daef;\">everything, and </span>yet<br>God had a gu<span style=\"background-color:#d8daef;\">esting to </span>"
      ],
      "text/plain": [
       "<IPython.core.display.HTML object>"
      ]
     },
     "metadata": {},
     "output_type": "display_data"
    },
    {
     "data": {
      "text/html": [
       "<small><p style=\"text-align:right;\">Sources: <span style=\"background-color:#d4efdf;\">Georg Wilhelm Hegel: Hegel's Lectures on the History of Philosophy: Vol. 1 of 3</span>, <span style=\"background-color:#fae5d3;\">Friedrich Nietzsche: We Philologists, Volume 8 of 18</span>, <span style=\"background-color:#ebdef0;\">Friedrich Nietzsche: The Will to Power, Books III and IV</span>, <span style=\"background-color:#d8daef;\">Friedrich Nietzsche: Thoughts out of Season, Part One</span>, <span style=\"background-color:#edebd0;\">Immanuel Kant: Kant's Prolegomena</span>, <span style=\"background-color:#d8daef;\">Georg Wilhelm Hegel: The History of Philosophy: Volume 3 of 3</span>, <span style=\"background-color:#eadbd8;\">Friedrich Nietzsche: The Will to Power, Books I and II</span>, <span style=\"background-color:#d6dbdf;\">Friedrich Nietzsche: Thoughts Out of Season, Part 2</span></p></small>"
      ],
      "text/plain": [
       "<IPython.core.display.HTML object>"
      ]
     },
     "metadata": {},
     "output_type": "display_data"
    },
    {
     "name": "stdout",
     "output_type": "stream",
     "text": [
      "--------temperature: 1.1 ---------\n"
     ]
    },
    {
     "data": {
      "text/html": [
       " 6<span style=\"background-color:#d8daef;\">9, however, </span><span style=\"background-color:#ecf3cf;\">neither was </span><span style=\"background-color:#e2d7d5;\">uppressed<br></span><span style=\"background-color:#ecf3cf;\">there is only th</span><span style=\"background-color:#ebdef0;\">is, and what </span><span style=\"background-color:#d8daef;\">it is only th</span><span style=\"background-color:#ecf3cf;\">at which was a</span>broken of<span style=\"background-color:#ecf3cf;\">. The heaven</span><span style=\"background-color:#d8daef;\"><br>system of </span><span style=\"background-color:#d8daef;\">resolves i</span><span style=\"background-color:#eadbd8;\">s this str</span>i<span style=\"background-color:#e2d7d5;\">vance to the </span>t<span style=\"background-color:#f6ddcc;\">most large</span>, which<span style=\"background-color:#d8daef;\"> a<br>great o</span><span style=\"background-color:#d8daef;\">f reason in </span>Eternal<span style=\"background-color:#d4efdf;\"> Indians; </span><span style=\"background-color:#d8daef;\">this again t</span><span style=\"background-color:#ecf3cf;\">owards other </span>"
      ],
      "text/plain": [
       "<IPython.core.display.HTML object>"
      ]
     },
     "metadata": {},
     "output_type": "display_data"
    },
    {
     "data": {
      "text/html": [
       "<small><p style=\"text-align:right;\">Sources: <span style=\"background-color:#d8daef;\">Georg Wilhelm Hegel: The History of Philosophy: Volume 3 of 3</span>, <span style=\"background-color:#ecf3cf;\">Georg Wilhelm Hegel: Hegel's Lectures on the History of Philosophy: Vol. 2 of 3</span>, <span style=\"background-color:#e2d7d5;\">Friedrich Nietzsche: The Joyful Wisdom</span>, <span style=\"background-color:#ebdef0;\">Friedrich Nietzsche: The Will to Power, Books III and IV</span>, <span style=\"background-color:#eadbd8;\">Friedrich Nietzsche: The Will to Power, Books I and II</span>, <span style=\"background-color:#e2d7d5;\">Friedrich Nietzsche: Thus Spake Zarathustra</span>, <span style=\"background-color:#f6ddcc;\">Friedrich Nietzsche: Human, All Too Human</span>, <span style=\"background-color:#d4efdf;\">Georg Wilhelm Hegel: Hegel's Lectures on the History of Philosophy: Vol. 1 of 3</span></p></small>"
      ],
      "text/plain": [
       "<IPython.core.display.HTML object>"
      ]
     },
     "metadata": {},
     "output_type": "display_data"
    },
    {
     "name": "stdout",
     "output_type": "stream",
     "text": [
      "-------------------------------------------\n",
      "step 17250: train loss 2.2959, val loss 2.2487, time 0.506 sec/iter\n",
      "Sample: --------temperature: 0.9 ---------\n"
     ]
    },
    {
     "data": {
      "text/html": [
       " Vale I. Wagner,<br>thosenken!<span style=\"background-color:#d8daef;\"> I am made a </span><span style=\"background-color:#ebdef0;\">certain process, </span><span style=\"background-color:#d8daef;\">you will not </span>see<span style=\"background-color:#eadbd8;\"> that<br>one w</span><span style=\"background-color:#d8daef;\">ishes to d</span>ark it intamps of<span style=\"background-color:#d6dbdf;\"> you; and </span><span style=\"background-color:#ebdef0;\">he wished to turn</span><span style=\"background-color:#ecf3cf;\">,<br>to show </span><span style=\"background-color:#e2d7d5;\">me way or other,</span>--<span style=\"background-color:#d8daef;\">must there </span>stand, throw"
      ],
      "text/plain": [
       "<IPython.core.display.HTML object>"
      ]
     },
     "metadata": {},
     "output_type": "display_data"
    },
    {
     "data": {
      "text/html": [
       "<small><p style=\"text-align:right;\">Sources: <span style=\"background-color:#d8daef;\">Georg Wilhelm Hegel: The History of Philosophy: Volume 3 of 3</span>, <span style=\"background-color:#ebdef0;\">Friedrich Nietzsche: The Will to Power, Books III and IV</span>, <span style=\"background-color:#d8daef;\">Friedrich Nietzsche: Thoughts out of Season, Part One</span>, <span style=\"background-color:#eadbd8;\">Friedrich Nietzsche: The Will to Power, Books I and II</span>, <span style=\"background-color:#d6dbdf;\">Friedrich Nietzsche: Thoughts Out of Season, Part 2</span>, <span style=\"background-color:#ebdef0;\">Friedrich Nietzsche: Beyond Good and Evil</span>, <span style=\"background-color:#ecf3cf;\">Georg Wilhelm Hegel: Hegel's Lectures on the History of Philosophy: Vol. 2 of 3</span>, <span style=\"background-color:#e2d7d5;\">Friedrich Nietzsche: The Joyful Wisdom</span></p></small>"
      ],
      "text/plain": [
       "<IPython.core.display.HTML object>"
      ]
     },
     "metadata": {},
     "output_type": "display_data"
    },
    {
     "name": "stdout",
     "output_type": "stream",
     "text": [
      "--------temperature: 0.95 ---------\n"
     ]
    },
    {
     "data": {
      "text/html": [
       " ὐ<span style=\"background-color:#d8daef;\">partake of</span><span style=\"background-color:#d8daef;\"><br>existence i</span><span style=\"background-color:#edebd0;\">f one thing </span><span style=\"background-color:#d4efdf;\">without opposition, </span><span style=\"background-color:#d8daef;\">like what </span>I know<span style=\"background-color:#ebdef0;\">: the apparent </span><span style=\"background-color:#eadbd8;\">which I<br>se</span><span style=\"background-color:#ecf3cf;\"> the cause an</span><span style=\"background-color:#d4e6f1;\"> Being by </span>a mediateve<span style=\"background-color:#ebdef0;\"> self; the </span><span style=\"background-color:#d8daef;\">other moment,</span><span style=\"background-color:#e2d7d5;\"><br>because no </span><span style=\"background-color:#eadbd8;\">bodies are d</span>o k<span style=\"background-color:#e2d7d5;\">eep at the </span><span style=\"background-color:#d4efdf;\">two.” This </span><span style=\"background-color:#d8daef;\">is the Idea i</span><span style=\"background-color:#ecf3cf;\">s the concrete,<br>a</span><span style=\"background-color:#d8daef;\">s universal</span>"
      ],
      "text/plain": [
       "<IPython.core.display.HTML object>"
      ]
     },
     "metadata": {},
     "output_type": "display_data"
    },
    {
     "data": {
      "text/html": [
       "<small><p style=\"text-align:right;\">Sources: <span style=\"background-color:#d8daef;\">Georg Wilhelm Hegel: The History of Philosophy: Volume 3 of 3</span>, <span style=\"background-color:#edebd0;\">Immanuel Kant: Kant's Prolegomena</span>, <span style=\"background-color:#d4efdf;\">Georg Wilhelm Hegel: Hegel's Lectures on the History of Philosophy: Vol. 1 of 3</span>, <span style=\"background-color:#ebdef0;\">Friedrich Nietzsche: The Will to Power, Books III and IV</span>, <span style=\"background-color:#eadbd8;\">Immanuel Kant: The Critique of Pure Reason</span>, <span style=\"background-color:#ecf3cf;\">Georg Wilhelm Hegel: Hegel's Lectures on the History of Philosophy: Vol. 2 of 3</span>, <span style=\"background-color:#d4e6f1;\">Immanuel Kant: Kant's Critique of Judgement</span>, <span style=\"background-color:#e2d7d5;\">Friedrich Nietzsche: The Joyful Wisdom</span>, <span style=\"background-color:#e2d7d5;\">Friedrich Nietzsche: Thus Spake Zarathustra</span></p></small>"
      ],
      "text/plain": [
       "<IPython.core.display.HTML object>"
      ]
     },
     "metadata": {},
     "output_type": "display_data"
    },
    {
     "name": "stdout",
     "output_type": "stream",
     "text": [
      "--------temperature: 1.0 ---------\n"
     ]
    },
    {
     "data": {
      "text/html": [
       " ψc.<span style=\"background-color:#d8daef;\"><br>Wagner ma</span>y<span style=\"background-color:#d0ece7;\"> say perhaps</span><span style=\"background-color:#ecf3cf;\">. In the M</span>I<span style=\"background-color:#ebdef0;\">VE which he hi</span>s<br>prick<span style=\"background-color:#eadbd8;\"> of inquiring</span><span style=\"background-color:#d6eaf8;\"> out his own </span>heart-c<span style=\"background-color:#ecf3cf;\">owling, the </span>virtu<span style=\"background-color:#d4efdf;\">e<br>who had </span>long <span style=\"background-color:#ebdef0;\">covers it </span>with new<span style=\"background-color:#ebdef0;\"> Apollonian; </span><span style=\"background-color:#d4efdf;\">lets this </span><span style=\"background-color:#d0ece7;\">doctrine re</span><span style=\"background-color:#d0ece7;\">gard however </span>flute<br>m"
      ],
      "text/plain": [
       "<IPython.core.display.HTML object>"
      ]
     },
     "metadata": {},
     "output_type": "display_data"
    },
    {
     "data": {
      "text/html": [
       "<small><p style=\"text-align:right;\">Sources: <span style=\"background-color:#d8daef;\">Friedrich Nietzsche: Thoughts out of Season, Part One</span>, <span style=\"background-color:#d0ece7;\">Friedrich Nietzsche: Early Greek Philosophy & Other Essays</span>, <span style=\"background-color:#ecf3cf;\">Georg Wilhelm Hegel: Hegel's Lectures on the History of Philosophy: Vol. 2 of 3</span>, <span style=\"background-color:#ebdef0;\">Friedrich Nietzsche: Beyond Good and Evil</span>, <span style=\"background-color:#eadbd8;\">Immanuel Kant: The Critique of Pure Reason</span>, <span style=\"background-color:#d6eaf8;\">Immanuel Kant: Perpetual Peace</span>, <span style=\"background-color:#d4efdf;\">Georg Wilhelm Hegel: Hegel's Lectures on the History of Philosophy: Vol. 1 of 3</span>, <span style=\"background-color:#ebdef0;\">Friedrich Nietzsche: The Will to Power, Books III and IV</span></p></small>"
      ],
      "text/plain": [
       "<IPython.core.display.HTML object>"
      ]
     },
     "metadata": {},
     "output_type": "display_data"
    },
    {
     "name": "stdout",
     "output_type": "stream",
     "text": [
      "--------temperature: 1.05 ---------\n"
     ]
    },
    {
     "data": {
      "text/html": [
       " =!<br>In<span style=\"background-color:#e2d7d5;\"> that cleav</span><span style=\"background-color:#d4efdf;\">ing to become </span>pleased bu<span style=\"background-color:#f6ddcc;\">ild: he will </span>feel it<span style=\"background-color:#fae5d3;\">? Christianity </span>rarely merey, <span style=\"background-color:#ebdef0;\">gravest and</span><br>crue<span style=\"background-color:#eadbd8;\">lty conscience and </span>consa<span style=\"background-color:#d4e6f1;\">se as natur</span><span style=\"background-color:#d8daef;\">e different. </span><span style=\"background-color:#d4efdf;\">For religion </span>and<br>it<span style=\"background-color:#ecf3cf;\">s nearer t</span><span style=\"background-color:#eadbd8;\">he reverse (</span><span style=\"background-color:#eadbd8;\">unnecessary, </span><span style=\"background-color:#ebdef0;\">this means, </span><span style=\"background-color:#ebdef0;\">with happiness</span>"
      ],
      "text/plain": [
       "<IPython.core.display.HTML object>"
      ]
     },
     "metadata": {},
     "output_type": "display_data"
    },
    {
     "data": {
      "text/html": [
       "<small><p style=\"text-align:right;\">Sources: <span style=\"background-color:#e2d7d5;\">Friedrich Nietzsche: Thus Spake Zarathustra</span>, <span style=\"background-color:#d4efdf;\">Georg Wilhelm Hegel: Hegel's Lectures on the History of Philosophy: Vol. 1 of 3</span>, <span style=\"background-color:#f6ddcc;\">Friedrich Nietzsche: Human, All Too Human</span>, <span style=\"background-color:#fae5d3;\">Friedrich Nietzsche: We Philologists, Volume 8 of 18</span>, <span style=\"background-color:#ebdef0;\">Friedrich Nietzsche: The Will to Power, Books III and IV</span>, <span style=\"background-color:#eadbd8;\">Friedrich Nietzsche: The Will to Power, Books I and II</span>, <span style=\"background-color:#d4e6f1;\">Immanuel Kant: Kant's Critique of Judgement</span>, <span style=\"background-color:#d8daef;\">Georg Wilhelm Hegel: The History of Philosophy: Volume 3 of 3</span>, <span style=\"background-color:#ecf3cf;\">Georg Wilhelm Hegel: Hegel's Lectures on the History of Philosophy: Vol. 2 of 3</span>, <span style=\"background-color:#eadbd8;\">Immanuel Kant: The Critique of Pure Reason</span></p></small>"
      ],
      "text/plain": [
       "<IPython.core.display.HTML object>"
      ]
     },
     "metadata": {},
     "output_type": "display_data"
    },
    {
     "name": "stdout",
     "output_type": "stream",
     "text": [
      "--------temperature: 1.1 ---------\n"
     ]
    },
    {
     "data": {
      "text/html": [
       " Unig. W<span style=\"background-color:#e2d7d5;\">hen,<br>     </span><span style=\"background-color:#e2d7d5;\">           There </span>are tak<span style=\"background-color:#ebdef0;\">en: it is a</span>d<span style=\"background-color:#e5e8e8;\">void an object o</span><span style=\"background-color:#d8daef;\">f existence </span><span style=\"background-color:#d4efdf;\">             50<br><br>  </span>THE OP<span style=\"background-color:#d4e6f1;\">PHY IN THE </span>HIGHTORS GRERMAT"
      ],
      "text/plain": [
       "<IPython.core.display.HTML object>"
      ]
     },
     "metadata": {},
     "output_type": "display_data"
    },
    {
     "data": {
      "text/html": [
       "<small><p style=\"text-align:right;\">Sources: <span style=\"background-color:#e2d7d5;\">Friedrich Nietzsche: Thus Spake Zarathustra</span>, <span style=\"background-color:#e2d7d5;\">Friedrich Nietzsche: The Joyful Wisdom</span>, <span style=\"background-color:#ebdef0;\">Friedrich Nietzsche: The Will to Power, Books III and IV</span>, <span style=\"background-color:#e5e8e8;\">Immanuel Kant: The Critique of Practical Reason</span>, <span style=\"background-color:#d8daef;\">Georg Wilhelm Hegel: The History of Philosophy: Volume 3 of 3</span>, <span style=\"background-color:#d4efdf;\">Georg Wilhelm Hegel: Hegel's Lectures on the History of Philosophy: Vol. 1 of 3</span>, <span style=\"background-color:#d4e6f1;\">Immanuel Kant: Kant's Critique of Judgement</span></p></small>"
      ],
      "text/plain": [
       "<IPython.core.display.HTML object>"
      ]
     },
     "metadata": {},
     "output_type": "display_data"
    },
    {
     "name": "stdout",
     "output_type": "stream",
     "text": [
      "-------------------------------------------\n",
      "step 17500: train loss 2.2510, val loss 2.3120, time 0.511 sec/iter\n",
      "Sample: --------temperature: 0.9 ---------\n"
     ]
    },
    {
     "data": {
      "text/html": [
       " 88-302); Marveau: tor’<span style=\"background-color:#edebd0;\">s Antinomy</span> of Peter Cigdre<br>will<span style=\"background-color:#d8daef;\">; according to S</span>eneppus, Page 5079; 673, 411, 40; "
      ],
      "text/plain": [
       "<IPython.core.display.HTML object>"
      ]
     },
     "metadata": {},
     "output_type": "display_data"
    },
    {
     "data": {
      "text/html": [
       "<small><p style=\"text-align:right;\">Sources: <span style=\"background-color:#edebd0;\">Immanuel Kant: Kant's Prolegomena</span>, <span style=\"background-color:#d8daef;\">Georg Wilhelm Hegel: The History of Philosophy: Volume 3 of 3</span></p></small>"
      ],
      "text/plain": [
       "<IPython.core.display.HTML object>"
      ]
     },
     "metadata": {},
     "output_type": "display_data"
    },
    {
     "name": "stdout",
     "output_type": "stream",
     "text": [
      "--------temperature: 0.95 ---------\n"
     ]
    },
    {
     "data": {
      "text/html": [
       " § 8<span style=\"background-color:#eadbd8;\">; or whether they </span>detai<span style=\"background-color:#ecf3cf;\">ls among the</span>se tw<span style=\"background-color:#d4e6f1;\">o following</span>: “Everyone day<span style=\"background-color:#d4efdf;\">s<br>and that </span>are c<span style=\"background-color:#d6dbdf;\">an must have a c</span>lassed<span style=\"background-color:#d4e6f1;\"> or correct</span> round me.” Do<span style=\"background-color:#d8daef;\">es his<br>pro</span><span style=\"background-color:#d4e6e1;\">position is, a</span><span style=\"background-color:#eadbd8;\">ll suffering</span><span style=\"background-color:#d6dbdf;\">y and the pro</span>p<span style=\"background-color:#d8daef;\">heterogeneous pr</span>ocess (M"
      ],
      "text/plain": [
       "<IPython.core.display.HTML object>"
      ]
     },
     "metadata": {},
     "output_type": "display_data"
    },
    {
     "data": {
      "text/html": [
       "<small><p style=\"text-align:right;\">Sources: <span style=\"background-color:#eadbd8;\">Friedrich Nietzsche: The Will to Power, Books I and II</span>, <span style=\"background-color:#ecf3cf;\">Georg Wilhelm Hegel: Hegel's Lectures on the History of Philosophy: Vol. 2 of 3</span>, <span style=\"background-color:#d4e6f1;\">Immanuel Kant: Kant's Critique of Judgement</span>, <span style=\"background-color:#d4efdf;\">Georg Wilhelm Hegel: Hegel's Lectures on the History of Philosophy: Vol. 1 of 3</span>, <span style=\"background-color:#d6dbdf;\">Friedrich Nietzsche: Thoughts Out of Season, Part 2</span>, <span style=\"background-color:#d8daef;\">Friedrich Nietzsche: Thoughts out of Season, Part One</span>, <span style=\"background-color:#d4e6e1;\">Immanuel Kant: Fundamental Principles of the Metaphysic of Morals</span>, <span style=\"background-color:#d8daef;\">Georg Wilhelm Hegel: The History of Philosophy: Volume 3 of 3</span></p></small>"
      ],
      "text/plain": [
       "<IPython.core.display.HTML object>"
      ]
     },
     "metadata": {},
     "output_type": "display_data"
    },
    {
     "name": "stdout",
     "output_type": "stream",
     "text": [
      "--------temperature: 1.0 ---------\n"
     ]
    },
    {
     "data": {
      "text/html": [
       " (the<span style=\"background-color:#d8daef;\">se children</span><span style=\"background-color:#d4efdf;\">gs are themselves </span><span style=\"background-color:#d8daef;\">to the ext</span><span style=\"background-color:#eadbd8;\"><br>sensation)</span><span style=\"background-color:#d4e6f1;\">. So conceived</span><span style=\"background-color:#d8daef;\"> as subject</span><span style=\"background-color:#d8daef;\">ed that the formal</span>l<span style=\"background-color:#eadbd8;\">y must exist, i</span><span style=\"background-color:#d8daef;\">n<br>the sense </span><span style=\"background-color:#edebd0;\">every part </span><span style=\"background-color:#d8daef;\">similar in</span>r<span style=\"background-color:#d8daef;\">each species </span>han<span style=\"background-color:#edebd0;\">d; hence they<br></span><span style=\"background-color:#d8daef;\">form part of </span><span style=\"background-color:#ecf3cf;\">mythology. Th</span><span style=\"background-color:#d8daef;\">e appearance of </span><span style=\"background-color:#eadbd8;\">which<br>in a</span><span style=\"background-color:#d4e6f1;\">ll the think</span>ing, see<span style=\"background-color:#ebdef0;\">s, passion</span>"
      ],
      "text/plain": [
       "<IPython.core.display.HTML object>"
      ]
     },
     "metadata": {},
     "output_type": "display_data"
    },
    {
     "data": {
      "text/html": [
       "<small><p style=\"text-align:right;\">Sources: <span style=\"background-color:#d8daef;\">Georg Wilhelm Hegel: The History of Philosophy: Volume 3 of 3</span>, <span style=\"background-color:#d4efdf;\">Georg Wilhelm Hegel: Hegel's Lectures on the History of Philosophy: Vol. 1 of 3</span>, <span style=\"background-color:#eadbd8;\">Immanuel Kant: The Critique of Pure Reason</span>, <span style=\"background-color:#d4e6f1;\">Immanuel Kant: Kant's Critique of Judgement</span>, <span style=\"background-color:#edebd0;\">Immanuel Kant: Kant's Prolegomena</span>, <span style=\"background-color:#ecf3cf;\">Georg Wilhelm Hegel: Hegel's Lectures on the History of Philosophy: Vol. 2 of 3</span>, <span style=\"background-color:#ebdef0;\">Friedrich Nietzsche: The Will to Power, Books III and IV</span></p></small>"
      ],
      "text/plain": [
       "<IPython.core.display.HTML object>"
      ]
     },
     "metadata": {},
     "output_type": "display_data"
    },
    {
     "name": "stdout",
     "output_type": "stream",
     "text": [
      "--------temperature: 1.05 ---------\n"
     ]
    },
    {
     "data": {
      "text/html": [
       " . i. § 37, pp. 970.)<br><br>[16<span style=\"background-color:#d4e6f1;\">1] [Second Edition.]<br><br>[10</span>] [_I._ 311] [_I._<span style=\"background-color:#d8daef;\"> has not a trace </span><span style=\"background-color:#d8daef;\">about of the </span>Law of An"
      ],
      "text/plain": [
       "<IPython.core.display.HTML object>"
      ]
     },
     "metadata": {},
     "output_type": "display_data"
    },
    {
     "data": {
      "text/html": [
       "<small><p style=\"text-align:right;\">Sources: <span style=\"background-color:#d4e6f1;\">Immanuel Kant: Kant's Critique of Judgement</span>, <span style=\"background-color:#d8daef;\">Georg Wilhelm Hegel: The History of Philosophy: Volume 3 of 3</span></p></small>"
      ],
      "text/plain": [
       "<IPython.core.display.HTML object>"
      ]
     },
     "metadata": {},
     "output_type": "display_data"
    },
    {
     "name": "stdout",
     "output_type": "stream",
     "text": [
      "--------temperature: 1.1 ---------\n"
     ]
    },
    {
     "data": {
      "text/html": [
       " 5<span style=\"background-color:#d8daef;\">0;<br>    substan</span><span style=\"background-color:#d8daef;\">ce is of th</span>e<span style=\"background-color:#ebdef0;\"> class. They </span>tru<span style=\"background-color:#d8daef;\">ly intuitions</span><span style=\"background-color:#ebdef0;\"><br>are capable of the </span>d<span style=\"background-color:#ecf3cf;\">iverse to </span><span style=\"background-color:#d8daef;\">the world, it is </span><span style=\"background-color:#d8daef;\">no thoughts are </span>what;<br>and se<span style=\"background-color:#eadbd8;\">remarks are o</span>nly a sl<span style=\"background-color:#d6eaf8;\">ighting in </span><span style=\"background-color:#d4efdf;\">their commu</span><span style=\"background-color:#d8daef;\">s; thus th</span>ree layed a r<span style=\"background-color:#d6dbdf;\">olls and<br>in</span><span style=\"background-color:#d8daef;\"> number of a</span><span style=\"background-color:#eadbd8;\">ll things and a</span>d-"
      ],
      "text/plain": [
       "<IPython.core.display.HTML object>"
      ]
     },
     "metadata": {},
     "output_type": "display_data"
    },
    {
     "data": {
      "text/html": [
       "<small><p style=\"text-align:right;\">Sources: <span style=\"background-color:#d8daef;\">Georg Wilhelm Hegel: The History of Philosophy: Volume 3 of 3</span>, <span style=\"background-color:#ebdef0;\">Friedrich Nietzsche: Beyond Good and Evil</span>, <span style=\"background-color:#ebdef0;\">Friedrich Nietzsche: The Will to Power, Books III and IV</span>, <span style=\"background-color:#ecf3cf;\">Georg Wilhelm Hegel: Hegel's Lectures on the History of Philosophy: Vol. 2 of 3</span>, <span style=\"background-color:#eadbd8;\">Immanuel Kant: The Critique of Pure Reason</span>, <span style=\"background-color:#d6eaf8;\">Immanuel Kant: Perpetual Peace</span>, <span style=\"background-color:#d4efdf;\">Georg Wilhelm Hegel: Hegel's Lectures on the History of Philosophy: Vol. 1 of 3</span>, <span style=\"background-color:#d6dbdf;\">Friedrich Nietzsche: Thoughts Out of Season, Part 2</span>, <span style=\"background-color:#eadbd8;\">Friedrich Nietzsche: The Will to Power, Books I and II</span></p></small>"
      ],
      "text/plain": [
       "<IPython.core.display.HTML object>"
      ]
     },
     "metadata": {},
     "output_type": "display_data"
    },
    {
     "name": "stdout",
     "output_type": "stream",
     "text": [
      "-------------------------------------------\n",
      "step 17750: train loss 2.2227, val loss 2.2273, time 0.507 sec/iter\n",
      "Sample: --------temperature: 0.9 ---------\n"
     ]
    },
    {
     "data": {
      "text/html": [
       " V. Sevil<span style=\"background-color:#d8daef;\">believer ma</span>s--<br><br>   <span style=\"background-color:#ebdef0;\"> Victor Hugo </span><span style=\"background-color:#f6ddcc;\">Granted, that </span><span style=\"background-color:#ebdef0;\">a race and </span><span style=\"background-color:#e2d7d5;\">Richard Wagner (</span>now<span style=\"background-color:#d8daef;\">ing found </span>the<br>  T<span style=\"background-color:#ebdef0;\">ime when th</span><span style=\"background-color:#d8daef;\">ou know, a</span>lthough opted by HIthing a<br>HUSTOR"
      ],
      "text/plain": [
       "<IPython.core.display.HTML object>"
      ]
     },
     "metadata": {},
     "output_type": "display_data"
    },
    {
     "data": {
      "text/html": [
       "<small><p style=\"text-align:right;\">Sources: <span style=\"background-color:#d8daef;\">Friedrich Nietzsche: Thoughts out of Season, Part One</span>, <span style=\"background-color:#ebdef0;\">Friedrich Nietzsche: The Will to Power, Books III and IV</span>, <span style=\"background-color:#f6ddcc;\">Friedrich Nietzsche: Human, All Too Human</span>, <span style=\"background-color:#e2d7d5;\">Friedrich Nietzsche: Thus Spake Zarathustra</span>, <span style=\"background-color:#d8daef;\">Georg Wilhelm Hegel: The History of Philosophy: Volume 3 of 3</span></p></small>"
      ],
      "text/plain": [
       "<IPython.core.display.HTML object>"
      ]
     },
     "metadata": {},
     "output_type": "display_data"
    },
    {
     "name": "stdout",
     "output_type": "stream",
     "text": [
      "--------temperature: 0.95 ---------\n"
     ]
    },
    {
     "data": {
      "text/html": [
       " κυνῆς_)<span style=\"background-color:#e5e8e8;\"> attain the so</span>ci<span style=\"background-color:#eadbd8;\">at, and the<br></span><span style=\"background-color:#d4efdf;\">substantiality, but </span>superfew men inhol<span style=\"background-color:#ebdef0;\">d of having </span><span style=\"background-color:#d6dbdf;\">it. The same </span><span style=\"background-color:#d4efdf;\">subject has to</span><span style=\"background-color:#eadbd8;\"><br>consider fu</span><span style=\"background-color:#d8daef;\">rther determination of </span>fix<span style=\"background-color:#d4efdf;\">es, but still </span><span style=\"background-color:#ecf3cf;\">in a circle</span><span style=\"background-color:#d8daef;\">s<br>whereby he </span><span style=\"background-color:#d8daef;\">not appear</span><span style=\"background-color:#d8daef;\">s as a thi</span>"
      ],
      "text/plain": [
       "<IPython.core.display.HTML object>"
      ]
     },
     "metadata": {},
     "output_type": "display_data"
    },
    {
     "data": {
      "text/html": [
       "<small><p style=\"text-align:right;\">Sources: <span style=\"background-color:#e5e8e8;\">Immanuel Kant: The Critique of Practical Reason</span>, <span style=\"background-color:#eadbd8;\">Friedrich Nietzsche: The Will to Power, Books I and II</span>, <span style=\"background-color:#d4efdf;\">Georg Wilhelm Hegel: Hegel's Lectures on the History of Philosophy: Vol. 1 of 3</span>, <span style=\"background-color:#ebdef0;\">Friedrich Nietzsche: The Will to Power, Books III and IV</span>, <span style=\"background-color:#d6dbdf;\">Friedrich Nietzsche: Thoughts Out of Season, Part 2</span>, <span style=\"background-color:#eadbd8;\">Immanuel Kant: The Critique of Pure Reason</span>, <span style=\"background-color:#d8daef;\">Georg Wilhelm Hegel: The History of Philosophy: Volume 3 of 3</span>, <span style=\"background-color:#ecf3cf;\">Georg Wilhelm Hegel: Hegel's Lectures on the History of Philosophy: Vol. 2 of 3</span>, <span style=\"background-color:#d8daef;\">Friedrich Nietzsche: Thoughts out of Season, Part One</span></p></small>"
      ],
      "text/plain": [
       "<IPython.core.display.HTML object>"
      ]
     },
     "metadata": {},
     "output_type": "display_data"
    },
    {
     "name": "stdout",
     "output_type": "stream",
     "text": [
      "--------temperature: 1.0 ---------\n"
     ]
    },
    {
     "data": {
      "text/html": [
       " ...” This, “Nature. ” _Woehme_ and _Gekeit<span style=\"background-color:#d4e6f1;\">_ and _self</span>, will_<span style=\"background-color:#d6eaf8;\"><br>and violen</span>c<span style=\"background-color:#e2d7d5;\">e disposition o</span>th<span style=\"background-color:#d8daef;\"> prefer to t</span><span style=\"background-color:#eadbd8;\">he double </span><span style=\"background-color:#d8daef;\">principle: </span><span style=\"background-color:#d6dbdf;\">it was once<br></span><span style=\"background-color:#e2d7d5;\">the _fact_ th</span>e distrue will.”]"
      ],
      "text/plain": [
       "<IPython.core.display.HTML object>"
      ]
     },
     "metadata": {},
     "output_type": "display_data"
    },
    {
     "data": {
      "text/html": [
       "<small><p style=\"text-align:right;\">Sources: <span style=\"background-color:#d4e6f1;\">Immanuel Kant: Kant's Critique of Judgement</span>, <span style=\"background-color:#d6eaf8;\">Immanuel Kant: Perpetual Peace</span>, <span style=\"background-color:#e2d7d5;\">Friedrich Nietzsche: The Joyful Wisdom</span>, <span style=\"background-color:#d8daef;\">Friedrich Nietzsche: Thoughts out of Season, Part One</span>, <span style=\"background-color:#eadbd8;\">Friedrich Nietzsche: The Will to Power, Books I and II</span>, <span style=\"background-color:#d8daef;\">Georg Wilhelm Hegel: The History of Philosophy: Volume 3 of 3</span>, <span style=\"background-color:#d6dbdf;\">Friedrich Nietzsche: Thoughts Out of Season, Part 2</span></p></small>"
      ],
      "text/plain": [
       "<IPython.core.display.HTML object>"
      ]
     },
     "metadata": {},
     "output_type": "display_data"
    },
    {
     "name": "stdout",
     "output_type": "stream",
     "text": [
      "--------temperature: 1.05 ---------\n"
     ]
    },
    {
     "data": {
      "text/html": [
       " 5.<br><br><br>  _DISSHRING<span style=\"background-color:#d4e6f1;\">S OF PHILOSOPHY<br><br></span><br>PRANER I.<span style=\"background-color:#d8daef;\"> the State, </span>e<span style=\"background-color:#ebdef0;\">nd, still </span>By<span style=\"background-color:#ebdef0;\"> Psycholog</span>us._—We p<span style=\"background-color:#ecf3cf;\">are, however,<br></span>are"
      ],
      "text/plain": [
       "<IPython.core.display.HTML object>"
      ]
     },
     "metadata": {},
     "output_type": "display_data"
    },
    {
     "data": {
      "text/html": [
       "<small><p style=\"text-align:right;\">Sources: <span style=\"background-color:#d4e6f1;\">Immanuel Kant: Kant's Critique of Judgement</span>, <span style=\"background-color:#d8daef;\">Georg Wilhelm Hegel: The History of Philosophy: Volume 3 of 3</span>, <span style=\"background-color:#ebdef0;\">Friedrich Nietzsche: The Will to Power, Books III and IV</span>, <span style=\"background-color:#ecf3cf;\">Georg Wilhelm Hegel: Hegel's Lectures on the History of Philosophy: Vol. 2 of 3</span></p></small>"
      ],
      "text/plain": [
       "<IPython.core.display.HTML object>"
      ]
     },
     "metadata": {},
     "output_type": "display_data"
    },
    {
     "name": "stdout",
     "output_type": "stream",
     "text": [
      "--------temperature: 1.1 ---------\n"
     ]
    },
    {
     "data": {
      "text/html": [
       " 5 [50]<span style=\"background-color:#d6dbdf;\"> It is difficult to give </span>the names. Ge<br><span style=\"background-color:#edebd0;\">on that not </span>quit<span style=\"background-color:#d8daef;\">e barbarous t</span>o<span style=\"background-color:#ecf3cf;\"> a species, </span>and b<span style=\"background-color:#e2d7d5;\">asionally h</span>in<span style=\"background-color:#e5e8e8;\"> that and i</span>n<br>the m<span style=\"background-color:#eadbd8;\">ontological o</span><span style=\"background-color:#d8daef;\">bligation to make </span><span style=\"background-color:#d4efdf;\">the first place, since </span>befo<span style=\"background-color:#e5e8e8;\">re<br>his own</span><span style=\"background-color:#eadbd8;\"> example, ex</span>ac<span style=\"background-color:#d8daef;\">ting is the </span><span style=\"background-color:#eadbd8;\">affirmation of e</span>"
      ],
      "text/plain": [
       "<IPython.core.display.HTML object>"
      ]
     },
     "metadata": {},
     "output_type": "display_data"
    },
    {
     "data": {
      "text/html": [
       "<small><p style=\"text-align:right;\">Sources: <span style=\"background-color:#d6dbdf;\">Friedrich Nietzsche: Thoughts Out of Season, Part 2</span>, <span style=\"background-color:#edebd0;\">Immanuel Kant: Kant's Prolegomena</span>, <span style=\"background-color:#d8daef;\">Georg Wilhelm Hegel: The History of Philosophy: Volume 3 of 3</span>, <span style=\"background-color:#ecf3cf;\">Georg Wilhelm Hegel: Hegel's Lectures on the History of Philosophy: Vol. 2 of 3</span>, <span style=\"background-color:#e2d7d5;\">Friedrich Nietzsche: The Joyful Wisdom</span>, <span style=\"background-color:#e5e8e8;\">Immanuel Kant: The Critique of Practical Reason</span>, <span style=\"background-color:#eadbd8;\">Immanuel Kant: The Critique of Pure Reason</span>, <span style=\"background-color:#d8daef;\">Friedrich Nietzsche: Thoughts out of Season, Part One</span>, <span style=\"background-color:#d4efdf;\">Georg Wilhelm Hegel: Hegel's Lectures on the History of Philosophy: Vol. 1 of 3</span>, <span style=\"background-color:#eadbd8;\">Friedrich Nietzsche: The Will to Power, Books I and II</span></p></small>"
      ],
      "text/plain": [
       "<IPython.core.display.HTML object>"
      ]
     },
     "metadata": {},
     "output_type": "display_data"
    },
    {
     "name": "stdout",
     "output_type": "stream",
     "text": [
      "-------------------------------------------\n",
      "step 18000: train loss 2.2699, val loss 2.2497, time 0.509 sec/iter\n",
      "Sample: --------temperature: 0.9 ---------\n"
     ]
    },
    {
     "data": {
      "text/html": [
       " . , fadds <span style=\"background-color:#d6eaf8;\">from authorit</span><span style=\"background-color:#d8daef;\">y: as if the</span>y<span style=\"background-color:#e5e8e8;\"><br>purely pr</span>i<span style=\"background-color:#ebdef0;\">ment concerning </span>certain; or<span style=\"background-color:#eadbd8;\"> are absolutely necessary</span><span style=\"background-color:#d4efdf;\"> for his own<br></span><span style=\"background-color:#eadbd8;\">existence._</span> Ma<span style=\"background-color:#eadbd8;\">n do they be</span>com<span style=\"background-color:#ecf3cf;\">e acquisiti</span><span style=\"background-color:#d8daef;\">ve to this a</span>date<br><span style=\"background-color:#e2d7d5;\">integrity, to </span><span style=\"background-color:#d4efdf;\">have been los</span>ena<span style=\"background-color:#ecf3cf;\">nce separated </span>and<br>credoub"
      ],
      "text/plain": [
       "<IPython.core.display.HTML object>"
      ]
     },
     "metadata": {},
     "output_type": "display_data"
    },
    {
     "data": {
      "text/html": [
       "<small><p style=\"text-align:right;\">Sources: <span style=\"background-color:#d6eaf8;\">Immanuel Kant: Perpetual Peace</span>, <span style=\"background-color:#d8daef;\">Friedrich Nietzsche: Thoughts out of Season, Part One</span>, <span style=\"background-color:#e5e8e8;\">Immanuel Kant: The Critique of Practical Reason</span>, <span style=\"background-color:#ebdef0;\">Friedrich Nietzsche: The Will to Power, Books III and IV</span>, <span style=\"background-color:#eadbd8;\">Immanuel Kant: The Critique of Pure Reason</span>, <span style=\"background-color:#d4efdf;\">Georg Wilhelm Hegel: Hegel's Lectures on the History of Philosophy: Vol. 1 of 3</span>, <span style=\"background-color:#eadbd8;\">Friedrich Nietzsche: The Will to Power, Books I and II</span>, <span style=\"background-color:#ecf3cf;\">Georg Wilhelm Hegel: Hegel's Lectures on the History of Philosophy: Vol. 2 of 3</span>, <span style=\"background-color:#d8daef;\">Georg Wilhelm Hegel: The History of Philosophy: Volume 3 of 3</span>, <span style=\"background-color:#e2d7d5;\">Friedrich Nietzsche: The Joyful Wisdom</span></p></small>"
      ],
      "text/plain": [
       "<IPython.core.display.HTML object>"
      ]
     },
     "metadata": {},
     "output_type": "display_data"
    },
    {
     "name": "stdout",
     "output_type": "stream",
     "text": [
      "--------temperature: 0.95 ---------\n"
     ]
    },
    {
     "data": {
      "text/html": [
       " Notfrom<br>Physico<span style=\"background-color:#d8daef;\">_, where he </span><span style=\"background-color:#d4efdf;\">arrives at p</span>eri<span style=\"background-color:#ebdef0;\">ment at any rate</span><span style=\"background-color:#d8daef;\"> according to its<br></span><span style=\"background-color:#eadbd8;\">application to an</span><span style=\"background-color:#d0ece7;\">swering the spec</span><span style=\"background-color:#d4e6e1;\">tive express</span><span style=\"background-color:#d6dbdf;\">ion of a<br>g</span><span style=\"background-color:#d8daef;\">eneral criticism</span>archa<span style=\"background-color:#d4e6f1;\">r to guide our </span><span style=\"background-color:#d4efdf;\">consideration al</span>aw,<span style=\"background-color:#d6eaf8;\"> the _jus<br></span><span style=\"background-color:#d4e6e1;\">being without w</span><span style=\"background-color:#eadbd8;\">hich they lo</span>se<span style=\"background-color:#d8daef;\"> their<br>ground</span>-"
      ],
      "text/plain": [
       "<IPython.core.display.HTML object>"
      ]
     },
     "metadata": {},
     "output_type": "display_data"
    },
    {
     "data": {
      "text/html": [
       "<small><p style=\"text-align:right;\">Sources: <span style=\"background-color:#d8daef;\">Georg Wilhelm Hegel: The History of Philosophy: Volume 3 of 3</span>, <span style=\"background-color:#d4efdf;\">Georg Wilhelm Hegel: Hegel's Lectures on the History of Philosophy: Vol. 1 of 3</span>, <span style=\"background-color:#ebdef0;\">Friedrich Nietzsche: The Will to Power, Books III and IV</span>, <span style=\"background-color:#eadbd8;\">Immanuel Kant: The Critique of Pure Reason</span>, <span style=\"background-color:#d0ece7;\">Friedrich Nietzsche: Early Greek Philosophy & Other Essays</span>, <span style=\"background-color:#d4e6e1;\">Immanuel Kant: Fundamental Principles of the Metaphysic of Morals</span>, <span style=\"background-color:#d6dbdf;\">Friedrich Nietzsche: Thoughts Out of Season, Part 2</span>, <span style=\"background-color:#d4e6f1;\">Immanuel Kant: Kant's Critique of Judgement</span>, <span style=\"background-color:#d6eaf8;\">Immanuel Kant: Perpetual Peace</span>, <span style=\"background-color:#eadbd8;\">Friedrich Nietzsche: The Will to Power, Books I and II</span>, <span style=\"background-color:#d8daef;\">Friedrich Nietzsche: Thoughts out of Season, Part One</span></p></small>"
      ],
      "text/plain": [
       "<IPython.core.display.HTML object>"
      ]
     },
     "metadata": {},
     "output_type": "display_data"
    },
    {
     "name": "stdout",
     "output_type": "stream",
     "text": [
      "--------temperature: 1.0 ---------\n"
     ]
    },
    {
     "data": {
      "text/html": [
       "<span style=\"background-color:#d4efdf;\"> understood and </span><span style=\"background-color:#d8daef;\">hence the i</span><span style=\"background-color:#d8daef;\">ndividual does </span>power<span style=\"background-color:#d8daef;\">,<br>it proper</span>petu<span style=\"background-color:#d6eaf8;\">ate states and </span><span style=\"background-color:#e2d7d5;\">privation of </span><span style=\"background-color:#d6eaf8;\">humanity, n</span>ew<br>tra<span style=\"background-color:#d8daef;\">nment of t</span><span style=\"background-color:#d8daef;\">aking of the s</span><span style=\"background-color:#d4efdf;\">ultiplicity, or </span>pre<span style=\"background-color:#eadbd8;\">mation, or</span><span style=\"background-color:#d8daef;\"> as something in</span>to<span style=\"background-color:#ebdef0;\"><br>caractere </span>side<span style=\"background-color:#eadbd8;\"> his abilities</span><span style=\"background-color:#d4e6f1;\"> which follows th</span>e directan<span style=\"background-color:#eadbd8;\">gible causa</span><span style=\"background-color:#d8daef;\">sation in<br></span>the king"
      ],
      "text/plain": [
       "<IPython.core.display.HTML object>"
      ]
     },
     "metadata": {},
     "output_type": "display_data"
    },
    {
     "data": {
      "text/html": [
       "<small><p style=\"text-align:right;\">Sources: <span style=\"background-color:#d4efdf;\">Georg Wilhelm Hegel: Hegel's Lectures on the History of Philosophy: Vol. 1 of 3</span>, <span style=\"background-color:#d8daef;\">Georg Wilhelm Hegel: The History of Philosophy: Volume 3 of 3</span>, <span style=\"background-color:#d6eaf8;\">Immanuel Kant: Perpetual Peace</span>, <span style=\"background-color:#e2d7d5;\">Friedrich Nietzsche: The Joyful Wisdom</span>, <span style=\"background-color:#eadbd8;\">Immanuel Kant: The Critique of Pure Reason</span>, <span style=\"background-color:#ebdef0;\">Friedrich Nietzsche: Beyond Good and Evil</span>, <span style=\"background-color:#eadbd8;\">Friedrich Nietzsche: The Will to Power, Books I and II</span>, <span style=\"background-color:#d4e6f1;\">Immanuel Kant: Kant's Critique of Judgement</span></p></small>"
      ],
      "text/plain": [
       "<IPython.core.display.HTML object>"
      ]
     },
     "metadata": {},
     "output_type": "display_data"
    },
    {
     "name": "stdout",
     "output_type": "stream",
     "text": [
      "--------temperature: 1.05 ---------\n"
     ]
    },
    {
     "data": {
      "text/html": [
       " <br>T<span style=\"background-color:#d4efdf;\">his and not </span><span style=\"background-color:#d8daef;\">self-consciousness, or to </span><span style=\"background-color:#eadbd8;\">beyond the gra</span>c<span style=\"background-color:#d8daef;\">e, as a whole</span><span style=\"background-color:#d8daef;\"><br>substantiality </span><span style=\"background-color:#d8daef;\">exists, re</span><span style=\"background-color:#d8daef;\">presented, s</span><span style=\"background-color:#ecf3cf;\">ince its con</span>tinua<span style=\"background-color:#ebdef0;\">nce makes </span><span style=\"background-color:#d4e6f1;\">its<br>contingen</span>cy, as al<span style=\"background-color:#d8daef;\">infinitude </span>c<span style=\"background-color:#ebdef0;\">ome fundamental </span><span style=\"background-color:#d4efdf;\">objective<br>si</span>mplant art<span style=\"background-color:#d4efdf;\">s. It requires </span><span style=\"background-color:#d8daef;\">from<br>this </span><span style=\"background-color:#ebdef0;\">formlessness</span><span style=\"background-color:#eadbd8;\">; it is necessary t</span>hat a<span style=\"background-color:#eadbd8;\">salvation th</span>at the "
      ],
      "text/plain": [
       "<IPython.core.display.HTML object>"
      ]
     },
     "metadata": {},
     "output_type": "display_data"
    },
    {
     "data": {
      "text/html": [
       "<small><p style=\"text-align:right;\">Sources: <span style=\"background-color:#d4efdf;\">Georg Wilhelm Hegel: Hegel's Lectures on the History of Philosophy: Vol. 1 of 3</span>, <span style=\"background-color:#d8daef;\">Georg Wilhelm Hegel: The History of Philosophy: Volume 3 of 3</span>, <span style=\"background-color:#eadbd8;\">Immanuel Kant: The Critique of Pure Reason</span>, <span style=\"background-color:#d8daef;\">Friedrich Nietzsche: Thoughts out of Season, Part One</span>, <span style=\"background-color:#ecf3cf;\">Georg Wilhelm Hegel: Hegel's Lectures on the History of Philosophy: Vol. 2 of 3</span>, <span style=\"background-color:#ebdef0;\">Friedrich Nietzsche: The Will to Power, Books III and IV</span>, <span style=\"background-color:#d4e6f1;\">Immanuel Kant: Kant's Critique of Judgement</span>, <span style=\"background-color:#ebdef0;\">Friedrich Nietzsche: Beyond Good and Evil</span>, <span style=\"background-color:#eadbd8;\">Friedrich Nietzsche: The Will to Power, Books I and II</span></p></small>"
      ],
      "text/plain": [
       "<IPython.core.display.HTML object>"
      ]
     },
     "metadata": {},
     "output_type": "display_data"
    },
    {
     "name": "stdout",
     "output_type": "stream",
     "text": [
      "--------temperature: 1.1 ---------\n"
     ]
    },
    {
     "data": {
      "text/html": [
       " ἑ<br>This vil<span style=\"background-color:#d8daef;\">kes, what h</span>ad sta<span style=\"background-color:#d8daef;\">ten Nature, </span><span style=\"background-color:#d6eaf8;\">no nation </span><span style=\"background-color:#d0ece7;\">is<br>concerned with the</span>m. (3) “How loathho<span style=\"background-color:#eadbd8;\">odies are d</span><span style=\"background-color:#e2d7d5;\">es disease</span>.”<br>4. (_Campsiae) he g<span style=\"background-color:#d4e6f1;\">ave we to p</span><span style=\"background-color:#d8daef;\">erceive this </span>relation"
      ],
      "text/plain": [
       "<IPython.core.display.HTML object>"
      ]
     },
     "metadata": {},
     "output_type": "display_data"
    },
    {
     "data": {
      "text/html": [
       "<small><p style=\"text-align:right;\">Sources: <span style=\"background-color:#d8daef;\">Georg Wilhelm Hegel: The History of Philosophy: Volume 3 of 3</span>, <span style=\"background-color:#d6eaf8;\">Immanuel Kant: Perpetual Peace</span>, <span style=\"background-color:#d0ece7;\">Friedrich Nietzsche: Early Greek Philosophy & Other Essays</span>, <span style=\"background-color:#eadbd8;\">Immanuel Kant: The Critique of Pure Reason</span>, <span style=\"background-color:#e2d7d5;\">Friedrich Nietzsche: Thus Spake Zarathustra</span>, <span style=\"background-color:#d4e6f1;\">Immanuel Kant: Kant's Critique of Judgement</span></p></small>"
      ],
      "text/plain": [
       "<IPython.core.display.HTML object>"
      ]
     },
     "metadata": {},
     "output_type": "display_data"
    },
    {
     "name": "stdout",
     "output_type": "stream",
     "text": [
      "-------------------------------------------\n",
      "step 18250: train loss 2.1895, val loss 2.2211, time 0.502 sec/iter\n",
      "Sample: --------temperature: 0.9 ---------\n"
     ]
    },
    {
     "data": {
      "text/html": [
       " [10]<span style=\"background-color:#edebd0;\"> therefore does </span><span style=\"background-color:#d6dbdf;\">Schopenhauer in</span><span style=\"background-color:#d4efdf;\"><br>this certainly </span><span style=\"background-color:#e2d7d5;\">to be full of </span><span style=\"background-color:#eadbd8;\">_indifference</span><span style=\"background-color:#d8daef;\"> brought about the</span>ficent<span style=\"background-color:#d4efdf;\">ersion<br>in </span>one of him.”<br><br>Adwar<span style=\"background-color:#d8daef;\">us it is the Go</span><span style=\"background-color:#d8daef;\">vernment of </span><span style=\"background-color:#fdebd0;\">its external relations</span><span style=\"background-color:#d8daef;\"> of Socrates </span><span style=\"background-color:#ebdef0;\">by virtue t</span><span style=\"background-color:#ebdef0;\">o the strain</span><br>say<span style=\"background-color:#e5e8e8;\">ss, but only t</span><span style=\"background-color:#d0ece7;\">o the victor</span>i"
      ],
      "text/plain": [
       "<IPython.core.display.HTML object>"
      ]
     },
     "metadata": {},
     "output_type": "display_data"
    },
    {
     "data": {
      "text/html": [
       "<small><p style=\"text-align:right;\">Sources: <span style=\"background-color:#edebd0;\">Immanuel Kant: Kant's Prolegomena</span>, <span style=\"background-color:#d6dbdf;\">Friedrich Nietzsche: Thoughts Out of Season, Part 2</span>, <span style=\"background-color:#d4efdf;\">Georg Wilhelm Hegel: Hegel's Lectures on the History of Philosophy: Vol. 1 of 3</span>, <span style=\"background-color:#e2d7d5;\">Friedrich Nietzsche: The Joyful Wisdom</span>, <span style=\"background-color:#eadbd8;\">Immanuel Kant: The Critique of Pure Reason</span>, <span style=\"background-color:#d8daef;\">Georg Wilhelm Hegel: The History of Philosophy: Volume 3 of 3</span>, <span style=\"background-color:#fdebd0;\">Immanuel Kant: The Metaphysical Elements of Ethics</span>, <span style=\"background-color:#ebdef0;\">Friedrich Nietzsche: Beyond Good and Evil</span>, <span style=\"background-color:#e5e8e8;\">Immanuel Kant: The Critique of Practical Reason</span>, <span style=\"background-color:#d0ece7;\">Friedrich Nietzsche: Early Greek Philosophy & Other Essays</span></p></small>"
      ],
      "text/plain": [
       "<IPython.core.display.HTML object>"
      ]
     },
     "metadata": {},
     "output_type": "display_data"
    },
    {
     "name": "stdout",
     "output_type": "stream",
     "text": [
      "--------temperature: 0.95 ---------\n"
     ]
    },
    {
     "data": {
      "text/html": [
       " )<span style=\"background-color:#edebd0;\">, shows its</span>elf<span style=\"background-color:#d8daef;\">. We may a</span><span style=\"background-color:#d6eaf8;\">mine the questions which</span><span style=\"background-color:#d8daef;\"><br>have been di</span><span style=\"background-color:#d8daef;\">scovered; </span>w<span style=\"background-color:#ebdef0;\">e know at </span><span style=\"background-color:#ecf3cf;\">once that </span>w<span style=\"background-color:#d8daef;\">e are<br>really </span><span style=\"background-color:#d8daef;\">its fundamental determinations</span><span style=\"background-color:#d4efdf;\"> consistently, th</span><span style=\"background-color:#d8daef;\">e mode of the </span>Now<span style=\"background-color:#e5e8e8;\"><br>our position </span><span style=\"background-color:#ecf3cf;\">really first </span><span style=\"background-color:#edebd0;\">of all dogmatical </span>desire<span style=\"background-color:#d8daef;\">ism. It is true that</span><span style=\"background-color:#d4e6f1;\"><br>metaphysico</span> m<span style=\"background-color:#d8daef;\">uch in respect of </span><span style=\"background-color:#d8daef;\">which speculative </span>"
      ],
      "text/plain": [
       "<IPython.core.display.HTML object>"
      ]
     },
     "metadata": {},
     "output_type": "display_data"
    },
    {
     "data": {
      "text/html": [
       "<small><p style=\"text-align:right;\">Sources: <span style=\"background-color:#edebd0;\">Immanuel Kant: Kant's Prolegomena</span>, <span style=\"background-color:#d8daef;\">Georg Wilhelm Hegel: The History of Philosophy: Volume 3 of 3</span>, <span style=\"background-color:#d6eaf8;\">Immanuel Kant: Perpetual Peace</span>, <span style=\"background-color:#ebdef0;\">Friedrich Nietzsche: The Will to Power, Books III and IV</span>, <span style=\"background-color:#ecf3cf;\">Georg Wilhelm Hegel: Hegel's Lectures on the History of Philosophy: Vol. 2 of 3</span>, <span style=\"background-color:#d8daef;\">Friedrich Nietzsche: Thoughts out of Season, Part One</span>, <span style=\"background-color:#d4efdf;\">Georg Wilhelm Hegel: Hegel's Lectures on the History of Philosophy: Vol. 1 of 3</span>, <span style=\"background-color:#e5e8e8;\">Immanuel Kant: The Critique of Practical Reason</span>, <span style=\"background-color:#d4e6f1;\">Immanuel Kant: Kant's Critique of Judgement</span></p></small>"
      ],
      "text/plain": [
       "<IPython.core.display.HTML object>"
      ]
     },
     "metadata": {},
     "output_type": "display_data"
    },
    {
     "name": "stdout",
     "output_type": "stream",
     "text": [
      "--------temperature: 1.0 ---------\n"
     ]
    },
    {
     "data": {
      "text/html": [
       "<span style=\"background-color:#f6ddcc;\"> guides the </span>whole, I.<span style=\"background-color:#d8daef;\"> § 121, p. </span>4<span style=\"background-color:#d4efdf;\">4).<br><br>[133] </span>K<span style=\"background-color:#d4efdf;\">ritischen </span><span style=\"background-color:#d8daef;\">Philosophisc</span><span style=\"background-color:#d8daef;\">ennemann, V</span>ernüwesen der, b, note<br>Attiscretium, s<span style=\"background-color:#d6eaf8;\">ume followed</span><span style=\"background-color:#d8daef;\"> were quot</span>"
      ],
      "text/plain": [
       "<IPython.core.display.HTML object>"
      ]
     },
     "metadata": {},
     "output_type": "display_data"
    },
    {
     "data": {
      "text/html": [
       "<small><p style=\"text-align:right;\">Sources: <span style=\"background-color:#f6ddcc;\">Friedrich Nietzsche: Human, All Too Human</span>, <span style=\"background-color:#d8daef;\">Georg Wilhelm Hegel: The History of Philosophy: Volume 3 of 3</span>, <span style=\"background-color:#d4efdf;\">Georg Wilhelm Hegel: Hegel's Lectures on the History of Philosophy: Vol. 1 of 3</span>, <span style=\"background-color:#d6eaf8;\">Immanuel Kant: Perpetual Peace</span></p></small>"
      ],
      "text/plain": [
       "<IPython.core.display.HTML object>"
      ]
     },
     "metadata": {},
     "output_type": "display_data"
    },
    {
     "name": "stdout",
     "output_type": "stream",
     "text": [
      "--------temperature: 1.05 ---------\n"
     ]
    },
    {
     "data": {
      "text/html": [
       " Uph. 3 (42<span style=\"background-color:#ecf3cf;\">).<br><br>[55] Plat. </span><span style=\"background-color:#eadbd8;\">A phenomenon</span>: _Urtheilitulation. d<span style=\"background-color:#d4efdf;\">e Heraclitus, </span>pp. 45-556 (p. 54<span style=\"background-color:#ecf3cf;\">).<br><br>[51] Plat. </span>pp. 646"
      ],
      "text/plain": [
       "<IPython.core.display.HTML object>"
      ]
     },
     "metadata": {},
     "output_type": "display_data"
    },
    {
     "data": {
      "text/html": [
       "<small><p style=\"text-align:right;\">Sources: <span style=\"background-color:#ecf3cf;\">Georg Wilhelm Hegel: Hegel's Lectures on the History of Philosophy: Vol. 2 of 3</span>, <span style=\"background-color:#eadbd8;\">Immanuel Kant: The Critique of Pure Reason</span>, <span style=\"background-color:#d4efdf;\">Georg Wilhelm Hegel: Hegel's Lectures on the History of Philosophy: Vol. 1 of 3</span></p></small>"
      ],
      "text/plain": [
       "<IPython.core.display.HTML object>"
      ]
     },
     "metadata": {},
     "output_type": "display_data"
    },
    {
     "name": "stdout",
     "output_type": "stream",
     "text": [
      "--------temperature: 1.1 ---------\n"
     ]
    },
    {
     "data": {
      "text/html": [
       " 5).--M<span style=\"background-color:#eadbd8;\">an impersonal</span>ity.--A<span style=\"background-color:#e2d7d5;\">ll art is </span><span style=\"background-color:#fae5d3;\">for scholar</span><span style=\"background-color:#e2d7d5;\">ge: it is </span><span style=\"background-color:#ebdef0;\">the social<br>point of </span><span style=\"background-color:#d4efdf;\">opposition and un</span><span style=\"background-color:#eadbd8;\">derstanding, and al</span><span style=\"background-color:#ebdef0;\">most suffering and </span>deca<span style=\"background-color:#d0ece7;\">y<br>endeavouring to </span>p<span style=\"background-color:#d4efdf;\">ound in the com</span><span style=\"background-color:#eadbd8;\">passibility</span><span style=\"background-color:#d6eaf8;\"><br>of nation</span><span style=\"background-color:#d8daef;\">; the object</span><span style=\"background-color:#d8daef;\">ions which th</span><span style=\"background-color:#d8daef;\">at Reason i</span><span style=\"background-color:#eadbd8;\">s that no con</span>tents a m"
      ],
      "text/plain": [
       "<IPython.core.display.HTML object>"
      ]
     },
     "metadata": {},
     "output_type": "display_data"
    },
    {
     "data": {
      "text/html": [
       "<small><p style=\"text-align:right;\">Sources: <span style=\"background-color:#eadbd8;\">Friedrich Nietzsche: The Will to Power, Books I and II</span>, <span style=\"background-color:#e2d7d5;\">Friedrich Nietzsche: Thus Spake Zarathustra</span>, <span style=\"background-color:#fae5d3;\">Friedrich Nietzsche: We Philologists, Volume 8 of 18</span>, <span style=\"background-color:#e2d7d5;\">Friedrich Nietzsche: The Joyful Wisdom</span>, <span style=\"background-color:#ebdef0;\">Friedrich Nietzsche: The Will to Power, Books III and IV</span>, <span style=\"background-color:#d4efdf;\">Georg Wilhelm Hegel: Hegel's Lectures on the History of Philosophy: Vol. 1 of 3</span>, <span style=\"background-color:#eadbd8;\">Immanuel Kant: The Critique of Pure Reason</span>, <span style=\"background-color:#ebdef0;\">Friedrich Nietzsche: Beyond Good and Evil</span>, <span style=\"background-color:#d0ece7;\">Friedrich Nietzsche: Early Greek Philosophy & Other Essays</span>, <span style=\"background-color:#d6eaf8;\">Immanuel Kant: Perpetual Peace</span>, <span style=\"background-color:#d8daef;\">Georg Wilhelm Hegel: The History of Philosophy: Volume 3 of 3</span></p></small>"
      ],
      "text/plain": [
       "<IPython.core.display.HTML object>"
      ]
     },
     "metadata": {},
     "output_type": "display_data"
    },
    {
     "name": "stdout",
     "output_type": "stream",
     "text": [
      "-------------------------------------------\n",
      "step 18500: train loss 2.1699, val loss 2.1723, time 0.502 sec/iter\n",
      "Sample: --------temperature: 0.9 ---------\n"
     ]
    },
    {
     "data": {
      "text/html": [
       " 89.)<br><br>The<span style=\"background-color:#edebd0;\"> heat necessarily </span><span style=\"background-color:#f6ddcc;\">indicates back</span><span style=\"background-color:#d8daef;\"> into one, </span><span style=\"background-color:#ecf3cf;\">has pressed</span><span style=\"background-color:#e2d7d5;\">, and back</span><span style=\"background-color:#d8daef;\"> in the<br>particular </span><span style=\"background-color:#d8daef;\">forms of o</span><span style=\"background-color:#d8daef;\">ne another, and </span><span style=\"background-color:#d8daef;\">gives itself </span><span style=\"background-color:#d8daef;\">corporeal and</span><span style=\"background-color:#d8daef;\"><br>actuality; </span><span style=\"background-color:#e2d7d5;\">sometimes this </span><span style=\"background-color:#d4efdf;\">side is in </span><span style=\"background-color:#d8daef;\">perfect organi</span><span style=\"background-color:#d8daef;\">zation.<br>This </span><span style=\"background-color:#d8daef;\">alitative </span><span style=\"background-color:#d4e6f1;\">ground of this p</span>eriod, w<span style=\"background-color:#d4efdf;\"> or a science </span>through"
      ],
      "text/plain": [
       "<IPython.core.display.HTML object>"
      ]
     },
     "metadata": {},
     "output_type": "display_data"
    },
    {
     "data": {
      "text/html": [
       "<small><p style=\"text-align:right;\">Sources: <span style=\"background-color:#edebd0;\">Immanuel Kant: Kant's Prolegomena</span>, <span style=\"background-color:#f6ddcc;\">Friedrich Nietzsche: Human, All Too Human</span>, <span style=\"background-color:#d8daef;\">Georg Wilhelm Hegel: The History of Philosophy: Volume 3 of 3</span>, <span style=\"background-color:#ecf3cf;\">Georg Wilhelm Hegel: Hegel's Lectures on the History of Philosophy: Vol. 2 of 3</span>, <span style=\"background-color:#e2d7d5;\">Friedrich Nietzsche: Thus Spake Zarathustra</span>, <span style=\"background-color:#e2d7d5;\">Friedrich Nietzsche: The Joyful Wisdom</span>, <span style=\"background-color:#d4efdf;\">Georg Wilhelm Hegel: Hegel's Lectures on the History of Philosophy: Vol. 1 of 3</span>, <span style=\"background-color:#d4e6f1;\">Immanuel Kant: Kant's Critique of Judgement</span></p></small>"
      ],
      "text/plain": [
       "<IPython.core.display.HTML object>"
      ]
     },
     "metadata": {},
     "output_type": "display_data"
    },
    {
     "name": "stdout",
     "output_type": "stream",
     "text": [
      "--------temperature: 0.95 ---------\n"
     ]
    },
    {
     "data": {
      "text/html": [
       " ἑö<span style=\"background-color:#d4efdf;\">, as Philosophy, b</span><span style=\"background-color:#d8daef;\">ut as being </span><span style=\"background-color:#d8daef;\">nothing<br>further </span><span style=\"background-color:#eadbd8;\">dogmatism. </span><span style=\"background-color:#d8daef;\">Fichte set</span><span style=\"background-color:#d4e6f1;\"> free and p</span><span style=\"background-color:#ebdef0;\">articular ac</span><span style=\"background-color:#e2d7d5;\">count of the so</span>-called<span style=\"background-color:#eadbd8;\"><br>given point</span><span style=\"background-color:#ecf3cf;\">s of view, a</span><span style=\"background-color:#d4e6f1;\">nd that they do not</span><span style=\"background-color:#d8daef;\"> find nothing </span><span style=\"background-color:#eadbd8;\">can take<br>p</span><span style=\"background-color:#d4e6e1;\">articular te</span>rm<span style=\"background-color:#eadbd8;\"> and rarer</span><span style=\"background-color:#eadbd8;\">s, and consequently s</span><span style=\"background-color:#edebd0;\">o perception </span>religion<span style=\"background-color:#eadbd8;\">natural<br>philosophers, </span>"
      ],
      "text/plain": [
       "<IPython.core.display.HTML object>"
      ]
     },
     "metadata": {},
     "output_type": "display_data"
    },
    {
     "data": {
      "text/html": [
       "<small><p style=\"text-align:right;\">Sources: <span style=\"background-color:#d4efdf;\">Georg Wilhelm Hegel: Hegel's Lectures on the History of Philosophy: Vol. 1 of 3</span>, <span style=\"background-color:#d8daef;\">Georg Wilhelm Hegel: The History of Philosophy: Volume 3 of 3</span>, <span style=\"background-color:#eadbd8;\">Immanuel Kant: The Critique of Pure Reason</span>, <span style=\"background-color:#d4e6f1;\">Immanuel Kant: Kant's Critique of Judgement</span>, <span style=\"background-color:#ebdef0;\">Friedrich Nietzsche: The Will to Power, Books III and IV</span>, <span style=\"background-color:#e2d7d5;\">Friedrich Nietzsche: Thus Spake Zarathustra</span>, <span style=\"background-color:#ecf3cf;\">Georg Wilhelm Hegel: Hegel's Lectures on the History of Philosophy: Vol. 2 of 3</span>, <span style=\"background-color:#d4e6e1;\">Immanuel Kant: Fundamental Principles of the Metaphysic of Morals</span>, <span style=\"background-color:#eadbd8;\">Friedrich Nietzsche: The Will to Power, Books I and II</span>, <span style=\"background-color:#edebd0;\">Immanuel Kant: Kant's Prolegomena</span></p></small>"
      ],
      "text/plain": [
       "<IPython.core.display.HTML object>"
      ]
     },
     "metadata": {},
     "output_type": "display_data"
    },
    {
     "name": "stdout",
     "output_type": "stream",
     "text": [
      "--------temperature: 1.0 ---------\n"
     ]
    },
    {
     "data": {
      "text/html": [
       "  Car<span style=\"background-color:#d8daef;\">te must al</span><span style=\"background-color:#edebd0;\">ways find it</span><span style=\"background-color:#d8daef;\">s purpose f</span><span style=\"background-color:#d4e6f1;\">or<br>nothing more than </span><span style=\"background-color:#edebd0;\">a synthetical proposition</span><span style=\"background-color:#d8daef;\">s, which are </span>just<span style=\"background-color:#e5e8e8;\"> as<br>synthetical</span>l<span style=\"background-color:#edebd0;\">y variety, </span><span style=\"background-color:#eadbd8;\">they are given to us</span><span style=\"background-color:#d4efdf;\">, is a double</span> in teac<span style=\"background-color:#d4e6f1;\">hed<br>for the</span><span style=\"background-color:#eadbd8;\"> possibility of cont</span>ain t<span style=\"background-color:#edebd0;\">ausality, and i</span><span style=\"background-color:#eadbd8;\">s therefore ev</span>e<span style=\"background-color:#edebd0;\">n be certain</span>ly<span style=\"background-color:#d4e6f1;\"><br>not represent</span>ed<span style=\"background-color:#d0ece7;\"> no account of </span><span style=\"background-color:#eadbd8;\">mere conceptions, </span><span style=\"background-color:#d4e6f1;\">but regarded </span>as<span style=\"background-color:#ebdef0;\"> entity, and </span>"
      ],
      "text/plain": [
       "<IPython.core.display.HTML object>"
      ]
     },
     "metadata": {},
     "output_type": "display_data"
    },
    {
     "data": {
      "text/html": [
       "<small><p style=\"text-align:right;\">Sources: <span style=\"background-color:#d8daef;\">Friedrich Nietzsche: Thoughts out of Season, Part One</span>, <span style=\"background-color:#edebd0;\">Immanuel Kant: Kant's Prolegomena</span>, <span style=\"background-color:#d4e6f1;\">Immanuel Kant: Kant's Critique of Judgement</span>, <span style=\"background-color:#d8daef;\">Georg Wilhelm Hegel: The History of Philosophy: Volume 3 of 3</span>, <span style=\"background-color:#e5e8e8;\">Immanuel Kant: The Critique of Practical Reason</span>, <span style=\"background-color:#eadbd8;\">Immanuel Kant: The Critique of Pure Reason</span>, <span style=\"background-color:#d4efdf;\">Georg Wilhelm Hegel: Hegel's Lectures on the History of Philosophy: Vol. 1 of 3</span>, <span style=\"background-color:#d0ece7;\">Friedrich Nietzsche: Early Greek Philosophy & Other Essays</span>, <span style=\"background-color:#ebdef0;\">Friedrich Nietzsche: The Will to Power, Books III and IV</span></p></small>"
      ],
      "text/plain": [
       "<IPython.core.display.HTML object>"
      ]
     },
     "metadata": {},
     "output_type": "display_data"
    },
    {
     "name": "stdout",
     "output_type": "stream",
     "text": [
      "--------temperature: 1.05 ---------\n"
     ]
    },
    {
     "data": {
      "text/html": [
       " μῆς_.<br><br>  Liter,<span style=\"background-color:#ebdef0;\"> Hugo, Richard Wagner</span> and 1527.<br><br><br><br> <span style=\"background-color:#ebdef0;\"> in France a</span>n<span style=\"background-color:#d6eaf8;\">d a monarchy </span><span style=\"background-color:#d8daef;\">subject of </span>Nre elsen,<span style=\"background-color:#d4efdf;\"> et corrupt</span>edr<span style=\"background-color:#eadbd8;\">s. But every </span><span style=\"background-color:#d8daef;\">admiration</span><span style=\"background-color:#ebdef0;\">ts<br>relations </span><span style=\"background-color:#d4e6f1;\">must be bound</span>"
      ],
      "text/plain": [
       "<IPython.core.display.HTML object>"
      ]
     },
     "metadata": {},
     "output_type": "display_data"
    },
    {
     "data": {
      "text/html": [
       "<small><p style=\"text-align:right;\">Sources: <span style=\"background-color:#ebdef0;\">Friedrich Nietzsche: The Will to Power, Books III and IV</span>, <span style=\"background-color:#d6eaf8;\">Immanuel Kant: Perpetual Peace</span>, <span style=\"background-color:#d8daef;\">Georg Wilhelm Hegel: The History of Philosophy: Volume 3 of 3</span>, <span style=\"background-color:#d4efdf;\">Georg Wilhelm Hegel: Hegel's Lectures on the History of Philosophy: Vol. 1 of 3</span>, <span style=\"background-color:#eadbd8;\">Immanuel Kant: The Critique of Pure Reason</span>, <span style=\"background-color:#d4e6f1;\">Immanuel Kant: Kant's Critique of Judgement</span></p></small>"
      ],
      "text/plain": [
       "<IPython.core.display.HTML object>"
      ]
     },
     "metadata": {},
     "output_type": "display_data"
    },
    {
     "name": "stdout",
     "output_type": "stream",
     "text": [
      "--------temperature: 1.1 ---------\n"
     ]
    },
    {
     "data": {
      "text/html": [
       " τίν_<span style=\"background-color:#d4efdf;\"><br><br>Sceptics</span><span style=\"background-color:#eadbd8;\">, in the cer</span><span style=\"background-color:#d8daef;\">tainly correct</span><span style=\"background-color:#ecf3cf;\">ly thought out </span>holl<span style=\"background-color:#ebdef0;\">ow Himself </span><span style=\"background-color:#d8daef;\">as its end</span><span style=\"background-color:#edebd0;\"><br>with the law</span><span style=\"background-color:#ebdef0;\">. Against the </span>λόγολοι<span style=\"background-color:#ecf3cf;\"> is the Being of </span>Plato<span style=\"background-color:#d8daef;\">of Aristotle, a</span>gainst<span style=\"background-color:#d6eaf8;\"> false and<br></span>re-s<span style=\"background-color:#ecf3cf;\">he merely t</span><span style=\"background-color:#d4efdf;\">lso a number of </span>God (π"
      ],
      "text/plain": [
       "<IPython.core.display.HTML object>"
      ]
     },
     "metadata": {},
     "output_type": "display_data"
    },
    {
     "data": {
      "text/html": [
       "<small><p style=\"text-align:right;\">Sources: <span style=\"background-color:#d4efdf;\">Georg Wilhelm Hegel: Hegel's Lectures on the History of Philosophy: Vol. 1 of 3</span>, <span style=\"background-color:#eadbd8;\">Friedrich Nietzsche: The Will to Power, Books I and II</span>, <span style=\"background-color:#d8daef;\">Georg Wilhelm Hegel: The History of Philosophy: Volume 3 of 3</span>, <span style=\"background-color:#ecf3cf;\">Georg Wilhelm Hegel: Hegel's Lectures on the History of Philosophy: Vol. 2 of 3</span>, <span style=\"background-color:#ebdef0;\">Friedrich Nietzsche: The Will to Power, Books III and IV</span>, <span style=\"background-color:#edebd0;\">Immanuel Kant: Kant's Prolegomena</span>, <span style=\"background-color:#d6eaf8;\">Immanuel Kant: Perpetual Peace</span></p></small>"
      ],
      "text/plain": [
       "<IPython.core.display.HTML object>"
      ]
     },
     "metadata": {},
     "output_type": "display_data"
    },
    {
     "name": "stdout",
     "output_type": "stream",
     "text": [
      "-------------------------------------------\n",
      "step 18750: train loss 2.1407, val loss 2.1812, time 0.502 sec/iter\n",
      "Sample: --------temperature: 0.9 ---------\n"
     ]
    },
    {
     "data": {
      "text/html": [
       " φυρὶ καὶ τῷ πόθος<span style=\"background-color:#ecf3cf;\">). But these </span><span style=\"background-color:#edebd0;\">principles are in</span><span style=\"background-color:#d8daef;\"> themselves un</span><span style=\"background-color:#fdebd0;\">limited by<br></span><span style=\"background-color:#edebd0;\">logical functions, </span><span style=\"background-color:#d4efdf;\">their limitation, and no</span><span style=\"background-color:#eadbd8;\"> conjunction, i</span><span style=\"background-color:#d8daef;\">t is clearly<br></span><span style=\"background-color:#d4efdf;\">distinguished. The </span><span style=\"background-color:#eadbd8;\">synthesis or conjunction</span><span style=\"background-color:#d8daef;\">s of thought a</span>t least"
      ],
      "text/plain": [
       "<IPython.core.display.HTML object>"
      ]
     },
     "metadata": {},
     "output_type": "display_data"
    },
    {
     "data": {
      "text/html": [
       "<small><p style=\"text-align:right;\">Sources: <span style=\"background-color:#ecf3cf;\">Georg Wilhelm Hegel: Hegel's Lectures on the History of Philosophy: Vol. 2 of 3</span>, <span style=\"background-color:#edebd0;\">Immanuel Kant: Kant's Prolegomena</span>, <span style=\"background-color:#d8daef;\">Georg Wilhelm Hegel: The History of Philosophy: Volume 3 of 3</span>, <span style=\"background-color:#fdebd0;\">Immanuel Kant: The Metaphysical Elements of Ethics</span>, <span style=\"background-color:#d4efdf;\">Georg Wilhelm Hegel: Hegel's Lectures on the History of Philosophy: Vol. 1 of 3</span>, <span style=\"background-color:#eadbd8;\">Immanuel Kant: The Critique of Pure Reason</span></p></small>"
      ],
      "text/plain": [
       "<IPython.core.display.HTML object>"
      ]
     },
     "metadata": {},
     "output_type": "display_data"
    },
    {
     "name": "stdout",
     "output_type": "stream",
     "text": [
      "--------temperature: 0.95 ---------\n"
     ]
    },
    {
     "data": {
      "text/html": [
       " æ<br>_priest_, VIII. 44, 3.<br><br>[6] Leoviiiix., p. 563.<br><br>  Libetz, Mückholy, Jereware, 63, 474; Buhle"
      ],
      "text/plain": [
       "<IPython.core.display.HTML object>"
      ]
     },
     "metadata": {},
     "output_type": "display_data"
    },
    {
     "name": "stdout",
     "output_type": "stream",
     "text": [
      "--------temperature: 1.0 ---------\n"
     ]
    },
    {
     "data": {
      "text/html": [
       "<span style=\"background-color:#e2d7d5;\"> Note on Chapter X</span><span style=\"background-color:#e2d7d5;\">XVII. The </span>Wordry<span style=\"background-color:#e2d7d5;\"> for Nietzsche’s</span><br>nature Iglomer, Taine’s<span style=\"background-color:#d8daef;\"> colour of </span><span style=\"background-color:#d4e6f1;\">nature dis</span>f<span style=\"background-color:#d8daef;\">atheism, in</span><span style=\"background-color:#ebdef0;\">to<br>the gra</span>ssros<span style=\"background-color:#d8daef;\">s God; and </span>whereas long<span style=\"background-color:#d4efdf;\"> is system </span><span style=\"background-color:#d8daef;\">with which </span><span style=\"background-color:#d8daef;\">Locke the </span>Pope"
      ],
      "text/plain": [
       "<IPython.core.display.HTML object>"
      ]
     },
     "metadata": {},
     "output_type": "display_data"
    },
    {
     "data": {
      "text/html": [
       "<small><p style=\"text-align:right;\">Sources: <span style=\"background-color:#e2d7d5;\">Friedrich Nietzsche: Thus Spake Zarathustra</span>, <span style=\"background-color:#d8daef;\">Georg Wilhelm Hegel: The History of Philosophy: Volume 3 of 3</span>, <span style=\"background-color:#d4e6f1;\">Immanuel Kant: Kant's Critique of Judgement</span>, <span style=\"background-color:#ebdef0;\">Friedrich Nietzsche: The Will to Power, Books III and IV</span>, <span style=\"background-color:#d4efdf;\">Georg Wilhelm Hegel: Hegel's Lectures on the History of Philosophy: Vol. 1 of 3</span></p></small>"
      ],
      "text/plain": [
       "<IPython.core.display.HTML object>"
      ]
     },
     "metadata": {},
     "output_type": "display_data"
    },
    {
     "name": "stdout",
     "output_type": "stream",
     "text": [
      "--------temperature: 1.05 ---------\n"
     ]
    },
    {
     "data": {
      "text/html": [
       " 77<span style=\"background-color:#d4efdf;\">.<br><br>[84] Cf. </span>Methodισὶ (I. 21).<br><br>[1<span style=\"background-color:#d4efdf;\">94] Plat. </span>Thee, I. <span style=\"background-color:#ecf3cf;\">432 (pp. 1</span>1-107, 19-11<span style=\"background-color:#d4efdf;\">7).<br><br>[137] </span>"
      ],
      "text/plain": [
       "<IPython.core.display.HTML object>"
      ]
     },
     "metadata": {},
     "output_type": "display_data"
    },
    {
     "data": {
      "text/html": [
       "<small><p style=\"text-align:right;\">Sources: <span style=\"background-color:#d4efdf;\">Georg Wilhelm Hegel: Hegel's Lectures on the History of Philosophy: Vol. 1 of 3</span>, <span style=\"background-color:#ecf3cf;\">Georg Wilhelm Hegel: Hegel's Lectures on the History of Philosophy: Vol. 2 of 3</span></p></small>"
      ],
      "text/plain": [
       "<IPython.core.display.HTML object>"
      ]
     },
     "metadata": {},
     "output_type": "display_data"
    },
    {
     "name": "stdout",
     "output_type": "stream",
     "text": [
      "--------temperature: 1.1 ---------\n"
     ]
    },
    {
     "data": {
      "text/html": [
       " 90<span style=\"background-color:#d8daef;\">1.<br><br>      ”       A</span>quinas: _<span style=\"background-color:#d0ece7;\">A quotation </span>de Syou, Intrwellliv<span style=\"background-color:#e2d7d5;\">ed in your </span>an._, let u<span style=\"background-color:#d6eaf8;\">s hope<br>of </span><span style=\"background-color:#ecf3cf;\">the wholes</span><span style=\"background-color:#e2d7d5;\">elves in any w</span><span style=\"background-color:#e2d7d5;\">omen of the </span>Germa<span style=\"background-color:#d6eaf8;\">n Peace Societ</span>y has<br>u<span style=\"background-color:#f6ddcc;\">s to certain a</span>n<span style=\"background-color:#e2d7d5;\"> open with the</span> "
      ],
      "text/plain": [
       "<IPython.core.display.HTML object>"
      ]
     },
     "metadata": {},
     "output_type": "display_data"
    },
    {
     "data": {
      "text/html": [
       "<small><p style=\"text-align:right;\">Sources: <span style=\"background-color:#d8daef;\">Georg Wilhelm Hegel: The History of Philosophy: Volume 3 of 3</span>, <span style=\"background-color:#d0ece7;\">Friedrich Nietzsche: Early Greek Philosophy & Other Essays</span>, <span style=\"background-color:#e2d7d5;\">Friedrich Nietzsche: The Joyful Wisdom</span>, <span style=\"background-color:#d6eaf8;\">Immanuel Kant: Perpetual Peace</span>, <span style=\"background-color:#ecf3cf;\">Georg Wilhelm Hegel: Hegel's Lectures on the History of Philosophy: Vol. 2 of 3</span>, <span style=\"background-color:#f6ddcc;\">Friedrich Nietzsche: Human, All Too Human</span>, <span style=\"background-color:#e2d7d5;\">Friedrich Nietzsche: Thus Spake Zarathustra</span></p></small>"
      ],
      "text/plain": [
       "<IPython.core.display.HTML object>"
      ]
     },
     "metadata": {},
     "output_type": "display_data"
    },
    {
     "name": "stdout",
     "output_type": "stream",
     "text": [
      "-------------------------------------------\n",
      "step 19000: train loss 2.1169, val loss 2.1518, time 0.502 sec/iter\n",
      "Sample: --------temperature: 0.9 ---------\n"
     ]
    },
    {
     "data": {
      "text/html": [
       " 8 (cf. Hist. Vol<span style=\"background-color:#ecf3cf;\">. crit. phil. T. II. p</span>. 432); 12, 10)<span style=\"background-color:#d4efdf;\">; Bruck. Hist.<br></span><span style=\"background-color:#ecf3cf;\">crit. phil. T. II. p</span>. <span style=\"background-color:#d8daef;\">7.<br><br>[367] </span>Newton"
      ],
      "text/plain": [
       "<IPython.core.display.HTML object>"
      ]
     },
     "metadata": {},
     "output_type": "display_data"
    },
    {
     "data": {
      "text/html": [
       "<small><p style=\"text-align:right;\">Sources: <span style=\"background-color:#ecf3cf;\">Georg Wilhelm Hegel: Hegel's Lectures on the History of Philosophy: Vol. 2 of 3</span>, <span style=\"background-color:#d4efdf;\">Georg Wilhelm Hegel: Hegel's Lectures on the History of Philosophy: Vol. 1 of 3</span>, <span style=\"background-color:#d8daef;\">Georg Wilhelm Hegel: The History of Philosophy: Volume 3 of 3</span></p></small>"
      ],
      "text/plain": [
       "<IPython.core.display.HTML object>"
      ]
     },
     "metadata": {},
     "output_type": "display_data"
    },
    {
     "name": "stdout",
     "output_type": "stream",
     "text": [
      "--------temperature: 0.95 ---------\n"
     ]
    },
    {
     "data": {
      "text/html": [
       " κός, wh<span style=\"background-color:#d8daef;\">erent ther</span><span style=\"background-color:#d8daef;\">ated as the </span>N<span style=\"background-color:#d0ece7;\">otion, since </span><span style=\"background-color:#d8daef;\">Notion<br>has th</span>e sens<span style=\"background-color:#d8daef;\">e-determination </span><span style=\"background-color:#ecf3cf;\">which what is o</span>ther-it o<span style=\"background-color:#d8daef;\">r<br>dialectic to a</span>r<span style=\"background-color:#d4efdf;\">ring in opposit</span><span style=\"background-color:#edebd0;\">e grounds. </span><span style=\"background-color:#ecf3cf;\">Aristotle says (</span>T<span style=\"background-color:#ecf3cf;\">ould have co</span>rrectly no<span style=\"background-color:#d4efdf;\">t<br>Aristotle t</span><span style=\"background-color:#d8daef;\">o be found in S</span>teph.<br>Pr’s Note, as Hecat"
      ],
      "text/plain": [
       "<IPython.core.display.HTML object>"
      ]
     },
     "metadata": {},
     "output_type": "display_data"
    },
    {
     "data": {
      "text/html": [
       "<small><p style=\"text-align:right;\">Sources: <span style=\"background-color:#d8daef;\">Georg Wilhelm Hegel: The History of Philosophy: Volume 3 of 3</span>, <span style=\"background-color:#d0ece7;\">Friedrich Nietzsche: Early Greek Philosophy & Other Essays</span>, <span style=\"background-color:#ecf3cf;\">Georg Wilhelm Hegel: Hegel's Lectures on the History of Philosophy: Vol. 2 of 3</span>, <span style=\"background-color:#d4efdf;\">Georg Wilhelm Hegel: Hegel's Lectures on the History of Philosophy: Vol. 1 of 3</span>, <span style=\"background-color:#edebd0;\">Immanuel Kant: Kant's Prolegomena</span></p></small>"
      ],
      "text/plain": [
       "<IPython.core.display.HTML object>"
      ]
     },
     "metadata": {},
     "output_type": "display_data"
    },
    {
     "name": "stdout",
     "output_type": "stream",
     "text": [
      "--------temperature: 1.0 ---------\n"
     ]
    },
    {
     "data": {
      "text/html": [
       " _<span style=\"background-color:#eadbd8;\"><br>results, </span>and P<span style=\"background-color:#f6ddcc;\">ared and e</span><span style=\"background-color:#eadbd8;\">ven with the </span><span style=\"background-color:#d8daef;\">reconstructing </span><span style=\"background-color:#eadbd8;\">developments of<br></span><span style=\"background-color:#d6dbdf;\">the classical scho</span>ols at ye<span style=\"background-color:#d8daef;\">t did not a</span><span style=\"background-color:#ebdef0;\">t all event</span><span style=\"background-color:#d8daef;\">, nor the </span><span style=\"background-color:#ebdef0;\">acting from</span><span style=\"background-color:#eadbd8;\">is<br>greater than </span>their ownum<span style=\"background-color:#d4efdf;\">iling them </span><span style=\"background-color:#d4e6f1;\">without suppo</span>rted ofm,—<span style=\"background-color:#d4e6e1;\">but one categori</span>unlug<span style=\"background-color:#ebdef0;\">ing<br>stable </span>mu"
      ],
      "text/plain": [
       "<IPython.core.display.HTML object>"
      ]
     },
     "metadata": {},
     "output_type": "display_data"
    },
    {
     "data": {
      "text/html": [
       "<small><p style=\"text-align:right;\">Sources: <span style=\"background-color:#eadbd8;\">Friedrich Nietzsche: The Will to Power, Books I and II</span>, <span style=\"background-color:#f6ddcc;\">Friedrich Nietzsche: Human, All Too Human</span>, <span style=\"background-color:#d8daef;\">Georg Wilhelm Hegel: The History of Philosophy: Volume 3 of 3</span>, <span style=\"background-color:#d6dbdf;\">Friedrich Nietzsche: Thoughts Out of Season, Part 2</span>, <span style=\"background-color:#ebdef0;\">Friedrich Nietzsche: The Will to Power, Books III and IV</span>, <span style=\"background-color:#eadbd8;\">Immanuel Kant: The Critique of Pure Reason</span>, <span style=\"background-color:#d4efdf;\">Georg Wilhelm Hegel: Hegel's Lectures on the History of Philosophy: Vol. 1 of 3</span>, <span style=\"background-color:#d4e6f1;\">Immanuel Kant: Kant's Critique of Judgement</span>, <span style=\"background-color:#d4e6e1;\">Immanuel Kant: Fundamental Principles of the Metaphysic of Morals</span></p></small>"
      ],
      "text/plain": [
       "<IPython.core.display.HTML object>"
      ]
     },
     "metadata": {},
     "output_type": "display_data"
    },
    {
     "name": "stdout",
     "output_type": "stream",
     "text": [
      "--------temperature: 1.05 ---------\n"
     ]
    },
    {
     "data": {
      "text/html": [
       " πιούρον φυτῶς συρινοει, 10 καὶ ὃ<span style=\"background-color:#e2d7d5;\"> in order the</span>” (p. 27). Hence<span style=\"background-color:#e2d7d5;\"><br>give the </span><span style=\"background-color:#d8daef;\">side everything </span><span style=\"background-color:#d8daef;\">relates to the </span><span style=\"background-color:#d8daef;\">same way i</span>ent ("
      ],
      "text/plain": [
       "<IPython.core.display.HTML object>"
      ]
     },
     "metadata": {},
     "output_type": "display_data"
    },
    {
     "data": {
      "text/html": [
       "<small><p style=\"text-align:right;\">Sources: <span style=\"background-color:#e2d7d5;\">Friedrich Nietzsche: The Joyful Wisdom</span>, <span style=\"background-color:#d8daef;\">Georg Wilhelm Hegel: The History of Philosophy: Volume 3 of 3</span></p></small>"
      ],
      "text/plain": [
       "<IPython.core.display.HTML object>"
      ]
     },
     "metadata": {},
     "output_type": "display_data"
    },
    {
     "name": "stdout",
     "output_type": "stream",
     "text": [
      "--------temperature: 1.1 ---------\n"
     ]
    },
    {
     "data": {
      "text/html": [
       " 4 and m<span style=\"background-color:#e2d7d5;\">auses of the </span>Platonic<span style=\"background-color:#e5e8e8;\"><br>consequently in </span><span style=\"background-color:#d8daef;\">each taken </span><span style=\"background-color:#f6ddcc;\">on nature: </span>“<span style=\"background-color:#d8daef;\">God is not a</span>n e<span style=\"background-color:#d8daef;\">n-existent, </span>for<span style=\"background-color:#eadbd8;\"><br>except in s</span>imil<span style=\"background-color:#d8daef;\">ar judgment, </span>mechanlus<span style=\"background-color:#ebdef0;\">iations of </span><span style=\"background-color:#e2d7d5;\">our period</span><span style=\"background-color:#e2d7d5;\">s of things,<br></span><span style=\"background-color:#d8daef;\">nothing to wi</span><span style=\"background-color:#ecf3cf;\">der anything </span>else wh<span style=\"background-color:#ecf3cf;\">y ought to be, </span><span style=\"background-color:#edebd0;\">and therefore<br>con</span>viction "
      ],
      "text/plain": [
       "<IPython.core.display.HTML object>"
      ]
     },
     "metadata": {},
     "output_type": "display_data"
    },
    {
     "data": {
      "text/html": [
       "<small><p style=\"text-align:right;\">Sources: <span style=\"background-color:#e2d7d5;\">Friedrich Nietzsche: The Joyful Wisdom</span>, <span style=\"background-color:#e5e8e8;\">Immanuel Kant: The Critique of Practical Reason</span>, <span style=\"background-color:#d8daef;\">Georg Wilhelm Hegel: The History of Philosophy: Volume 3 of 3</span>, <span style=\"background-color:#f6ddcc;\">Friedrich Nietzsche: Human, All Too Human</span>, <span style=\"background-color:#eadbd8;\">Immanuel Kant: The Critique of Pure Reason</span>, <span style=\"background-color:#d8daef;\">Friedrich Nietzsche: Thoughts out of Season, Part One</span>, <span style=\"background-color:#ebdef0;\">Friedrich Nietzsche: The Will to Power, Books III and IV</span>, <span style=\"background-color:#ecf3cf;\">Georg Wilhelm Hegel: Hegel's Lectures on the History of Philosophy: Vol. 2 of 3</span>, <span style=\"background-color:#edebd0;\">Immanuel Kant: Kant's Prolegomena</span></p></small>"
      ],
      "text/plain": [
       "<IPython.core.display.HTML object>"
      ]
     },
     "metadata": {},
     "output_type": "display_data"
    },
    {
     "name": "stdout",
     "output_type": "stream",
     "text": [
      "-------------------------------------------\n",
      "step 19250: train loss 2.1336, val loss 2.1092, time 0.501 sec/iter\n",
      "Sample: --------temperature: 0.9 ---------\n"
     ]
    },
    {
     "data": {
      "text/html": [
       " 92<span style=\"background-color:#d8daef;\">]<br><br>c. The </span><span style=\"background-color:#d4e6f1;\">limits of e</span>arli<span style=\"background-color:#ebdef0;\">er (according to </span>Hearises<span style=\"background-color:#ebdef0;\">), we have </span><span style=\"background-color:#eadbd8;\">not only<br>present</span><span style=\"background-color:#d8daef;\"> in the unity of the p</span><span style=\"background-color:#d4efdf;\">rinciple of the understanding</span> an<span style=\"background-color:#eadbd8;\">d English </span><span style=\"background-color:#d8daef;\">modes of thought,</span><span style=\"background-color:#e2d7d5;\"><br>inexperience </span>Space (<span style=\"background-color:#d4e6f1;\">it is empirical</span>). Yetc. I<span style=\"background-color:#eadbd8;\">n<br>intuition which </span><span style=\"background-color:#d8daef;\">has not re</span>present "
      ],
      "text/plain": [
       "<IPython.core.display.HTML object>"
      ]
     },
     "metadata": {},
     "output_type": "display_data"
    },
    {
     "data": {
      "text/html": [
       "<small><p style=\"text-align:right;\">Sources: <span style=\"background-color:#d8daef;\">Georg Wilhelm Hegel: The History of Philosophy: Volume 3 of 3</span>, <span style=\"background-color:#d4e6f1;\">Immanuel Kant: Kant's Critique of Judgement</span>, <span style=\"background-color:#ebdef0;\">Friedrich Nietzsche: The Will to Power, Books III and IV</span>, <span style=\"background-color:#eadbd8;\">Immanuel Kant: The Critique of Pure Reason</span>, <span style=\"background-color:#d4efdf;\">Georg Wilhelm Hegel: Hegel's Lectures on the History of Philosophy: Vol. 1 of 3</span>, <span style=\"background-color:#eadbd8;\">Friedrich Nietzsche: The Will to Power, Books I and II</span>, <span style=\"background-color:#e2d7d5;\">Friedrich Nietzsche: The Joyful Wisdom</span></p></small>"
      ],
      "text/plain": [
       "<IPython.core.display.HTML object>"
      ]
     },
     "metadata": {},
     "output_type": "display_data"
    },
    {
     "name": "stdout",
     "output_type": "stream",
     "text": [
      "--------temperature: 0.95 ---------\n"
     ]
    },
    {
     "data": {
      "text/html": [
       " τὸ οῦνοεί).” Man also<span style=\"background-color:#d4efdf;\"><br>matter, are </span><span style=\"background-color:#ecf3cf;\">given as being</span>ency,[87<span style=\"background-color:#d8daef;\">] for example, </span>st<span style=\"background-color:#f6ddcc;\">ood individuals</span><br><span style=\"background-color:#ecf3cf;\">in Plotinus </span><span style=\"background-color:#ecf3cf;\">and moderns, </span><span style=\"background-color:#d8daef;\">without doubt</span><span style=\"background-color:#eadbd8;\">. “Everything </span><span style=\"background-color:#d4efdf;\">is something fixed</span><br>and fals"
      ],
      "text/plain": [
       "<IPython.core.display.HTML object>"
      ]
     },
     "metadata": {},
     "output_type": "display_data"
    },
    {
     "data": {
      "text/html": [
       "<small><p style=\"text-align:right;\">Sources: <span style=\"background-color:#d4efdf;\">Georg Wilhelm Hegel: Hegel's Lectures on the History of Philosophy: Vol. 1 of 3</span>, <span style=\"background-color:#ecf3cf;\">Georg Wilhelm Hegel: Hegel's Lectures on the History of Philosophy: Vol. 2 of 3</span>, <span style=\"background-color:#d8daef;\">Georg Wilhelm Hegel: The History of Philosophy: Volume 3 of 3</span>, <span style=\"background-color:#f6ddcc;\">Friedrich Nietzsche: Human, All Too Human</span>, <span style=\"background-color:#eadbd8;\">Immanuel Kant: The Critique of Pure Reason</span></p></small>"
      ],
      "text/plain": [
       "<IPython.core.display.HTML object>"
      ]
     },
     "metadata": {},
     "output_type": "display_data"
    },
    {
     "name": "stdout",
     "output_type": "stream",
     "text": [
      "--------temperature: 1.0 ---------\n"
     ]
    },
    {
     "data": {
      "text/html": [
       " T<span style=\"background-color:#d4efdf;\">he All to </span>P<span style=\"background-color:#d4efdf;\">ossessing o</span><span style=\"background-color:#d4e6f1;\">n its own b</span>ar<span style=\"background-color:#ecf3cf;\">gain; this </span><span style=\"background-color:#ecf3cf;\">was<br>not th</span><span style=\"background-color:#ecf3cf;\">rough some </span><span style=\"background-color:#edebd0;\">curiosity. </span><span style=\"background-color:#d4e6f1;\">“What is there </span><span style=\"background-color:#d8daef;\">no distinguishes</span> the bad,<br>but far<span style=\"background-color:#ecf3cf;\"> are exist</span>s<span style=\"background-color:#d8daef;\">d objectivity</span><span style=\"background-color:#d8daef;\">? How are </span><span style=\"background-color:#ebdef0;\">still harmless </span><span style=\"background-color:#d4efdf;\">harmful, h</span><span style=\"background-color:#e2d7d5;\">ow<br>he look</span><span style=\"background-color:#d8daef;\">s attached</span>"
      ],
      "text/plain": [
       "<IPython.core.display.HTML object>"
      ]
     },
     "metadata": {},
     "output_type": "display_data"
    },
    {
     "data": {
      "text/html": [
       "<small><p style=\"text-align:right;\">Sources: <span style=\"background-color:#d4efdf;\">Georg Wilhelm Hegel: Hegel's Lectures on the History of Philosophy: Vol. 1 of 3</span>, <span style=\"background-color:#d4e6f1;\">Immanuel Kant: Kant's Critique of Judgement</span>, <span style=\"background-color:#ecf3cf;\">Georg Wilhelm Hegel: Hegel's Lectures on the History of Philosophy: Vol. 2 of 3</span>, <span style=\"background-color:#edebd0;\">Immanuel Kant: Kant's Prolegomena</span>, <span style=\"background-color:#d8daef;\">Georg Wilhelm Hegel: The History of Philosophy: Volume 3 of 3</span>, <span style=\"background-color:#d8daef;\">Friedrich Nietzsche: Thoughts out of Season, Part One</span>, <span style=\"background-color:#ebdef0;\">Friedrich Nietzsche: Beyond Good and Evil</span>, <span style=\"background-color:#e2d7d5;\">Friedrich Nietzsche: Thus Spake Zarathustra</span></p></small>"
      ],
      "text/plain": [
       "<IPython.core.display.HTML object>"
      ]
     },
     "metadata": {},
     "output_type": "display_data"
    },
    {
     "name": "stdout",
     "output_type": "stream",
     "text": [
      "--------temperature: 1.05 ---------\n"
     ]
    },
    {
     "data": {
      "text/html": [
       " . immediaip<span style=\"background-color:#edebd0;\">ation by n</span><span style=\"background-color:#d8daef;\">o irony or</span> negativeributiv<span style=\"background-color:#eadbd8;\">e _feelings of </span>the <span style=\"background-color:#d8daef;\">eleological<br></span>desir<span style=\"background-color:#d4e6f1;\">e_; and the</span><span style=\"background-color:#d8daef;\">y proposition</span><span style=\"background-color:#d8daef;\">: what is in</span><span style=\"background-color:#f6ddcc;\">directly, e</span><span style=\"background-color:#d8daef;\">qual, and th</span>is carby<span style=\"background-color:#ebdef0;\"><br>_experience_ </span><span style=\"background-color:#d4e6e1;\">as an object which </span><span style=\"background-color:#d8daef;\">is<br>only an </span><span style=\"background-color:#e2d7d5;\">_knowable_</span><span style=\"background-color:#ebdef0;\">--that is to say, that </span>I "
      ],
      "text/plain": [
       "<IPython.core.display.HTML object>"
      ]
     },
     "metadata": {},
     "output_type": "display_data"
    },
    {
     "data": {
      "text/html": [
       "<small><p style=\"text-align:right;\">Sources: <span style=\"background-color:#edebd0;\">Immanuel Kant: Kant's Prolegomena</span>, <span style=\"background-color:#d8daef;\">Georg Wilhelm Hegel: The History of Philosophy: Volume 3 of 3</span>, <span style=\"background-color:#eadbd8;\">Friedrich Nietzsche: The Will to Power, Books I and II</span>, <span style=\"background-color:#d4e6f1;\">Immanuel Kant: Kant's Critique of Judgement</span>, <span style=\"background-color:#f6ddcc;\">Friedrich Nietzsche: Human, All Too Human</span>, <span style=\"background-color:#ebdef0;\">Friedrich Nietzsche: The Will to Power, Books III and IV</span>, <span style=\"background-color:#d4e6e1;\">Immanuel Kant: Fundamental Principles of the Metaphysic of Morals</span>, <span style=\"background-color:#e2d7d5;\">Friedrich Nietzsche: The Joyful Wisdom</span></p></small>"
      ],
      "text/plain": [
       "<IPython.core.display.HTML object>"
      ]
     },
     "metadata": {},
     "output_type": "display_data"
    },
    {
     "name": "stdout",
     "output_type": "stream",
     "text": [
      "--------temperature: 1.1 ---------\n"
     ]
    },
    {
     "data": {
      "text/html": [
       " [19<span style=\"background-color:#ecf3cf;\">7]<br><br>Aristotle</span>; Physicell<span style=\"background-color:#e2d7d5;\"> you have s</span>eemed innointerors, whom<br>he onc<span style=\"background-color:#eadbd8;\">e him who </span><span style=\"background-color:#d4efdf;\">would have been, b</span>ut<span style=\"background-color:#d6dbdf;\"> never lived </span><span style=\"background-color:#ebdef0;\">all he could </span>not<br>fors<span style=\"background-color:#d6dbdf;\">ad the new</span><span style=\"background-color:#d8daef;\">ly awakened </span>_rep<span style=\"background-color:#d6dbdf;\">ries, because </span>he in<span style=\"background-color:#d8daef;\">enote the </span>arduch"
      ],
      "text/plain": [
       "<IPython.core.display.HTML object>"
      ]
     },
     "metadata": {},
     "output_type": "display_data"
    },
    {
     "data": {
      "text/html": [
       "<small><p style=\"text-align:right;\">Sources: <span style=\"background-color:#ecf3cf;\">Georg Wilhelm Hegel: Hegel's Lectures on the History of Philosophy: Vol. 2 of 3</span>, <span style=\"background-color:#e2d7d5;\">Friedrich Nietzsche: The Joyful Wisdom</span>, <span style=\"background-color:#eadbd8;\">Friedrich Nietzsche: The Will to Power, Books I and II</span>, <span style=\"background-color:#d4efdf;\">Georg Wilhelm Hegel: Hegel's Lectures on the History of Philosophy: Vol. 1 of 3</span>, <span style=\"background-color:#d6dbdf;\">Friedrich Nietzsche: Thoughts Out of Season, Part 2</span>, <span style=\"background-color:#ebdef0;\">Friedrich Nietzsche: Beyond Good and Evil</span>, <span style=\"background-color:#d8daef;\">Georg Wilhelm Hegel: The History of Philosophy: Volume 3 of 3</span></p></small>"
      ],
      "text/plain": [
       "<IPython.core.display.HTML object>"
      ]
     },
     "metadata": {},
     "output_type": "display_data"
    },
    {
     "name": "stdout",
     "output_type": "stream",
     "text": [
      "-------------------------------------------\n",
      "step 19500: train loss 2.0973, val loss 2.0925, time 0.502 sec/iter\n",
      "Sample: --------temperature: 0.9 ---------\n"
     ]
    },
    {
     "data": {
      "text/html": [
       "<span style=\"background-color:#d8daef;\"> ”        </span><span style=\"background-color:#e5e8e8;\"> we esteem</span>ed as _not_ “implifi<span style=\"background-color:#d8daef;\">ed.”<br><br>    ”  12</span>3<span style=\"background-color:#d8daef;\">,  ”  7, _for_ “</span><span style=\"background-color:#ebdef0;\">we have contr</span>a<span style=\"background-color:#d8daef;\">immediately and </span><span style=\"background-color:#d4efdf;\">explicitly the </span><span style=\"background-color:#d6eaf8;\">sole ends </span><span style=\"background-color:#e5e8e8;\">of self-examin</span>ed<span style=\"background-color:#d4efdf;\"><br>and mind </span>are”<span style=\"background-color:#ecf3cf;\"> (pp. 219-</span>"
      ],
      "text/plain": [
       "<IPython.core.display.HTML object>"
      ]
     },
     "metadata": {},
     "output_type": "display_data"
    },
    {
     "data": {
      "text/html": [
       "<small><p style=\"text-align:right;\">Sources: <span style=\"background-color:#d8daef;\">Georg Wilhelm Hegel: The History of Philosophy: Volume 3 of 3</span>, <span style=\"background-color:#e5e8e8;\">Immanuel Kant: The Critique of Practical Reason</span>, <span style=\"background-color:#ebdef0;\">Friedrich Nietzsche: Beyond Good and Evil</span>, <span style=\"background-color:#d4efdf;\">Georg Wilhelm Hegel: Hegel's Lectures on the History of Philosophy: Vol. 1 of 3</span>, <span style=\"background-color:#d6eaf8;\">Immanuel Kant: Perpetual Peace</span>, <span style=\"background-color:#ecf3cf;\">Georg Wilhelm Hegel: Hegel's Lectures on the History of Philosophy: Vol. 2 of 3</span></p></small>"
      ],
      "text/plain": [
       "<IPython.core.display.HTML object>"
      ]
     },
     "metadata": {},
     "output_type": "display_data"
    },
    {
     "name": "stdout",
     "output_type": "stream",
     "text": [
      "--------temperature: 0.95 ---------\n"
     ]
    },
    {
     "data": {
      "text/html": [
       " X.<br><br>  Shy<span style=\"background-color:#d8daef;\"> World-spirit </span><span style=\"background-color:#ebdef0;\">does not F</span>ebruits of<span style=\"background-color:#d8daef;\"> in Fichte’s </span><span style=\"background-color:#d8daef;\">teaching wa</span>ter,<br><span style=\"background-color:#d8daef;\"><br>view of the </span><span style=\"background-color:#d8daef;\">Fichte was </span><span style=\"background-color:#eadbd8;\">coming from </span>God;<span style=\"background-color:#d4efdf;\"> after Christ, </span>realil<span style=\"background-color:#ecf3cf;\">e; we should</span><span style=\"background-color:#d4e6f1;\"><br>dispense with all </span><span style=\"background-color:#d8daef;\">intellectual and </span><span style=\"background-color:#d4e6f1;\">tempest, t</span>"
      ],
      "text/plain": [
       "<IPython.core.display.HTML object>"
      ]
     },
     "metadata": {},
     "output_type": "display_data"
    },
    {
     "data": {
      "text/html": [
       "<small><p style=\"text-align:right;\">Sources: <span style=\"background-color:#d8daef;\">Georg Wilhelm Hegel: The History of Philosophy: Volume 3 of 3</span>, <span style=\"background-color:#ebdef0;\">Friedrich Nietzsche: Beyond Good and Evil</span>, <span style=\"background-color:#eadbd8;\">Friedrich Nietzsche: The Will to Power, Books I and II</span>, <span style=\"background-color:#d4efdf;\">Georg Wilhelm Hegel: Hegel's Lectures on the History of Philosophy: Vol. 1 of 3</span>, <span style=\"background-color:#ecf3cf;\">Georg Wilhelm Hegel: Hegel's Lectures on the History of Philosophy: Vol. 2 of 3</span>, <span style=\"background-color:#d4e6f1;\">Immanuel Kant: Kant's Critique of Judgement</span></p></small>"
      ],
      "text/plain": [
       "<IPython.core.display.HTML object>"
      ]
     },
     "metadata": {},
     "output_type": "display_data"
    },
    {
     "name": "stdout",
     "output_type": "stream",
     "text": [
      "--------temperature: 1.0 ---------\n"
     ]
    },
    {
     "data": {
      "text/html": [
       " 526, <span style=\"background-color:#d6eaf8;\">67;<br>    his</span>torical<span style=\"background-color:#d8daef;\"> of, III. 3</span>7<span style=\"background-color:#d8daef;\">4 _seq._;<br>    </span><span style=\"background-color:#d8daef;\">natural philosophy, III. </span>76-87, 71<span style=\"background-color:#d6eaf8;\">, 75.<br><br>  S</span>earrass, II. 41, 82-92, 691, "
      ],
      "text/plain": [
       "<IPython.core.display.HTML object>"
      ]
     },
     "metadata": {},
     "output_type": "display_data"
    },
    {
     "data": {
      "text/html": [
       "<small><p style=\"text-align:right;\">Sources: <span style=\"background-color:#d6eaf8;\">Immanuel Kant: Perpetual Peace</span>, <span style=\"background-color:#d8daef;\">Georg Wilhelm Hegel: The History of Philosophy: Volume 3 of 3</span></p></small>"
      ],
      "text/plain": [
       "<IPython.core.display.HTML object>"
      ]
     },
     "metadata": {},
     "output_type": "display_data"
    },
    {
     "name": "stdout",
     "output_type": "stream",
     "text": [
      "--------temperature: 1.05 ---------\n"
     ]
    },
    {
     "data": {
      "text/html": [
       " οῖ<span style=\"background-color:#e2d7d5;\"> and saint </span>mo<span style=\"background-color:#fae5d3;\">re Hellenic </span>than Wait<span style=\"background-color:#d8daef;\"> and a more</span><span style=\"background-color:#e2d7d5;\"><br>that is b</span>ink<span style=\"background-color:#ebdef0;\"> unto whom </span><span style=\"background-color:#d8daef;\">he wrote i</span><span style=\"background-color:#f6ddcc;\">s a god wh</span>ether Disgust<br>is obs<span style=\"background-color:#ebdef0;\"> that enor</span>n ha<span style=\"background-color:#ecf3cf;\">d tells us (</span>a<span style=\"background-color:#ebdef0;\">nd Darwin </span>a<span style=\"background-color:#d4efdf;\">s of logical</span>ly gone i"
      ],
      "text/plain": [
       "<IPython.core.display.HTML object>"
      ]
     },
     "metadata": {},
     "output_type": "display_data"
    },
    {
     "data": {
      "text/html": [
       "<small><p style=\"text-align:right;\">Sources: <span style=\"background-color:#e2d7d5;\">Friedrich Nietzsche: The Joyful Wisdom</span>, <span style=\"background-color:#fae5d3;\">Friedrich Nietzsche: We Philologists, Volume 8 of 18</span>, <span style=\"background-color:#d8daef;\">Georg Wilhelm Hegel: The History of Philosophy: Volume 3 of 3</span>, <span style=\"background-color:#ebdef0;\">Friedrich Nietzsche: The Will to Power, Books III and IV</span>, <span style=\"background-color:#f6ddcc;\">Friedrich Nietzsche: Human, All Too Human</span>, <span style=\"background-color:#ecf3cf;\">Georg Wilhelm Hegel: Hegel's Lectures on the History of Philosophy: Vol. 2 of 3</span>, <span style=\"background-color:#d4efdf;\">Georg Wilhelm Hegel: Hegel's Lectures on the History of Philosophy: Vol. 1 of 3</span></p></small>"
      ],
      "text/plain": [
       "<IPython.core.display.HTML object>"
      ]
     },
     "metadata": {},
     "output_type": "display_data"
    },
    {
     "name": "stdout",
     "output_type": "stream",
     "text": [
      "--------temperature: 1.1 ---------\n"
     ]
    },
    {
     "data": {
      "text/html": [
       " <span style=\"background-color:#e2d7d5;\">. But he _</span>artis<span style=\"background-color:#fae5d3;\">t<br>has the t</span>aledé<span style=\"background-color:#e2d7d5;\">rate, and w</span>ant <span style=\"background-color:#d4efdf;\">les that he </span><span style=\"background-color:#edebd0;\">is a very s</span>mall<span style=\"background-color:#eadbd8;\"> large for<br></span>usun<span style=\"background-color:#d4efdf;\">t or through </span><span style=\"background-color:#d4efdf;\">these like </span>nature, slumb<span style=\"background-color:#ebdef0;\">er against s</span><span style=\"background-color:#eadbd8;\">piritually un</span>rise<span style=\"background-color:#eadbd8;\">. Here, certainly</span><span style=\"background-color:#d4e6f1;\"><br>we find g</span><span style=\"background-color:#d6dbdf;\">radually m</span><span style=\"background-color:#ebdef0;\">anifest itself </span>mitigatory, death i"
      ],
      "text/plain": [
       "<IPython.core.display.HTML object>"
      ]
     },
     "metadata": {},
     "output_type": "display_data"
    },
    {
     "data": {
      "text/html": [
       "<small><p style=\"text-align:right;\">Sources: <span style=\"background-color:#e2d7d5;\">Friedrich Nietzsche: The Joyful Wisdom</span>, <span style=\"background-color:#fae5d3;\">Friedrich Nietzsche: We Philologists, Volume 8 of 18</span>, <span style=\"background-color:#d4efdf;\">Georg Wilhelm Hegel: Hegel's Lectures on the History of Philosophy: Vol. 1 of 3</span>, <span style=\"background-color:#edebd0;\">Immanuel Kant: Kant's Prolegomena</span>, <span style=\"background-color:#eadbd8;\">Immanuel Kant: The Critique of Pure Reason</span>, <span style=\"background-color:#ebdef0;\">Friedrich Nietzsche: The Will to Power, Books III and IV</span>, <span style=\"background-color:#eadbd8;\">Friedrich Nietzsche: The Will to Power, Books I and II</span>, <span style=\"background-color:#d4e6f1;\">Immanuel Kant: Kant's Critique of Judgement</span>, <span style=\"background-color:#d6dbdf;\">Friedrich Nietzsche: Thoughts Out of Season, Part 2</span></p></small>"
      ],
      "text/plain": [
       "<IPython.core.display.HTML object>"
      ]
     },
     "metadata": {},
     "output_type": "display_data"
    },
    {
     "name": "stdout",
     "output_type": "stream",
     "text": [
      "-------------------------------------------\n",
      "step 19750: train loss 2.0842, val loss 2.1021, time 0.502 sec/iter\n",
      "Sample: --------temperature: 0.9 ---------\n"
     ]
    },
    {
     "data": {
      "text/html": [
       " = Not\" is need--for<span style=\"background-color:#e2d7d5;\"> learn this l</span>still<span style=\"background-color:#ebdef0;\"><br>in every </span><span style=\"background-color:#eadbd8;\">individual beings </span><span style=\"background-color:#eadbd8;\">is very great</span>--<span style=\"background-color:#d6dbdf;\">for a certain s</span>ecret<span style=\"background-color:#d8daef;\"><br>must indeed be </span><span style=\"background-color:#ebdef0;\">able to think.<br><br></span>N<span style=\"background-color:#e2d7d5;\">ow has been </span>reached du<span style=\"background-color:#e2d7d5;\">els more and more</span> comple<span style=\"background-color:#d4efdf;\">ty in order to </span>learn howort<span style=\"background-color:#ebdef0;\">unless it<br></span>is evileg"
      ],
      "text/plain": [
       "<IPython.core.display.HTML object>"
      ]
     },
     "metadata": {},
     "output_type": "display_data"
    },
    {
     "data": {
      "text/html": [
       "<small><p style=\"text-align:right;\">Sources: <span style=\"background-color:#e2d7d5;\">Friedrich Nietzsche: Thus Spake Zarathustra</span>, <span style=\"background-color:#ebdef0;\">Friedrich Nietzsche: The Will to Power, Books III and IV</span>, <span style=\"background-color:#eadbd8;\">Friedrich Nietzsche: The Will to Power, Books I and II</span>, <span style=\"background-color:#d6dbdf;\">Friedrich Nietzsche: Thoughts Out of Season, Part 2</span>, <span style=\"background-color:#d8daef;\">Friedrich Nietzsche: Thoughts out of Season, Part One</span>, <span style=\"background-color:#e2d7d5;\">Friedrich Nietzsche: The Joyful Wisdom</span>, <span style=\"background-color:#d4efdf;\">Georg Wilhelm Hegel: Hegel's Lectures on the History of Philosophy: Vol. 1 of 3</span></p></small>"
      ],
      "text/plain": [
       "<IPython.core.display.HTML object>"
      ]
     },
     "metadata": {},
     "output_type": "display_data"
    },
    {
     "name": "stdout",
     "output_type": "stream",
     "text": [
      "--------temperature: 0.95 ---------\n"
     ]
    },
    {
     "data": {
      "text/html": [
       " 18)<span style=\"background-color:#d4efdf;\"> to Miletus</span>,<span style=\"background-color:#eadbd8;\"><br>who does not d</span><span style=\"background-color:#d4e6f1;\">are to give </span>u<span style=\"background-color:#d8daef;\">s (Vol. I. p. 4</span>54<span style=\"background-color:#eadbd8;\">). He would </span><span style=\"background-color:#d0ece7;\">only wanted</span><br>he<br>by<span style=\"background-color:#e2d7d5;\"> letters of </span>such a Supp<span style=\"background-color:#ebdef0;\">ist who would </span><span style=\"background-color:#d8daef;\">again bring</span><span style=\"background-color:#d8daef;\"> about his p</span>eople <span style=\"background-color:#d4efdf;\">his<br>possession </span><span style=\"background-color:#d4efdf;\">thereof. In this</span>"
      ],
      "text/plain": [
       "<IPython.core.display.HTML object>"
      ]
     },
     "metadata": {},
     "output_type": "display_data"
    },
    {
     "data": {
      "text/html": [
       "<small><p style=\"text-align:right;\">Sources: <span style=\"background-color:#d4efdf;\">Georg Wilhelm Hegel: Hegel's Lectures on the History of Philosophy: Vol. 1 of 3</span>, <span style=\"background-color:#eadbd8;\">Friedrich Nietzsche: The Will to Power, Books I and II</span>, <span style=\"background-color:#d4e6f1;\">Immanuel Kant: Kant's Critique of Judgement</span>, <span style=\"background-color:#d8daef;\">Georg Wilhelm Hegel: The History of Philosophy: Volume 3 of 3</span>, <span style=\"background-color:#d0ece7;\">Friedrich Nietzsche: Early Greek Philosophy & Other Essays</span>, <span style=\"background-color:#e2d7d5;\">Friedrich Nietzsche: The Joyful Wisdom</span>, <span style=\"background-color:#ebdef0;\">Friedrich Nietzsche: The Will to Power, Books III and IV</span></p></small>"
      ],
      "text/plain": [
       "<IPython.core.display.HTML object>"
      ]
     },
     "metadata": {},
     "output_type": "display_data"
    },
    {
     "name": "stdout",
     "output_type": "stream",
     "text": [
      "--------temperature: 1.0 ---------\n"
     ]
    },
    {
     "data": {
      "text/html": [
       " <span style=\"background-color:#d4efdf;\">57<br><br>      </span>2<span style=\"background-color:#d8daef;\">. [Editor’s </span><span style=\"background-color:#ecf3cf;\">Note.]<br><br>[9</span>6] A<span style=\"background-color:#eadbd8;\"> man has once </span>a<span style=\"background-color:#ecf3cf;\"> still repr</span><span style=\"background-color:#d8daef;\">oduced. Bo</span>ok<span style=\"background-color:#d4e6f1;\"> he wrote<br></span>attacks a<span style=\"background-color:#d6eaf8;\">t Spencer’s </span><span style=\"background-color:#d8daef;\">short work </span><span style=\"background-color:#d8daef;\">in the department </span>at Hegel's "
      ],
      "text/plain": [
       "<IPython.core.display.HTML object>"
      ]
     },
     "metadata": {},
     "output_type": "display_data"
    },
    {
     "data": {
      "text/html": [
       "<small><p style=\"text-align:right;\">Sources: <span style=\"background-color:#d4efdf;\">Georg Wilhelm Hegel: Hegel's Lectures on the History of Philosophy: Vol. 1 of 3</span>, <span style=\"background-color:#d8daef;\">Georg Wilhelm Hegel: The History of Philosophy: Volume 3 of 3</span>, <span style=\"background-color:#ecf3cf;\">Georg Wilhelm Hegel: Hegel's Lectures on the History of Philosophy: Vol. 2 of 3</span>, <span style=\"background-color:#eadbd8;\">Friedrich Nietzsche: The Will to Power, Books I and II</span>, <span style=\"background-color:#d4e6f1;\">Immanuel Kant: Kant's Critique of Judgement</span>, <span style=\"background-color:#d6eaf8;\">Immanuel Kant: Perpetual Peace</span>, <span style=\"background-color:#d8daef;\">Friedrich Nietzsche: Thoughts out of Season, Part One</span></p></small>"
      ],
      "text/plain": [
       "<IPython.core.display.HTML object>"
      ]
     },
     "metadata": {},
     "output_type": "display_data"
    },
    {
     "name": "stdout",
     "output_type": "stream",
     "text": [
      "--------temperature: 1.05 ---------\n"
     ]
    },
    {
     "data": {
      "text/html": [
       " 5)<span style=\"background-color:#ecf3cf;\">, Proclus </span><span style=\"background-color:#ebdef0;\">precisely (</span>p. 2850<span style=\"background-color:#d4e6f1;\">), consider</span>e<span style=\"background-color:#ecf3cf;\">d thus making </span>m<span style=\"background-color:#edebd0;\">ough<br>otherwise </span><span style=\"background-color:#d0ece7;\">everything historically</span><span style=\"background-color:#ecf3cf;\">. The conception of e</span><span style=\"background-color:#d8daef;\">nsufficiency i</span><span style=\"background-color:#d4e6e1;\">s called happiness</span><span style=\"background-color:#ecf3cf;\">;<br>the nature of </span>a <span style=\"background-color:#e5e8e8;\">fine accurat</span>ing<span style=\"background-color:#eadbd8;\"> all even </span><span style=\"background-color:#d8daef;\">semblance to </span><span style=\"background-color:#ecf3cf;\">down the gr</span>ad-"
      ],
      "text/plain": [
       "<IPython.core.display.HTML object>"
      ]
     },
     "metadata": {},
     "output_type": "display_data"
    },
    {
     "data": {
      "text/html": [
       "<small><p style=\"text-align:right;\">Sources: <span style=\"background-color:#ecf3cf;\">Georg Wilhelm Hegel: Hegel's Lectures on the History of Philosophy: Vol. 2 of 3</span>, <span style=\"background-color:#ebdef0;\">Friedrich Nietzsche: The Will to Power, Books III and IV</span>, <span style=\"background-color:#d4e6f1;\">Immanuel Kant: Kant's Critique of Judgement</span>, <span style=\"background-color:#edebd0;\">Immanuel Kant: Kant's Prolegomena</span>, <span style=\"background-color:#d0ece7;\">Friedrich Nietzsche: Early Greek Philosophy & Other Essays</span>, <span style=\"background-color:#d8daef;\">Friedrich Nietzsche: Thoughts out of Season, Part One</span>, <span style=\"background-color:#d4e6e1;\">Immanuel Kant: Fundamental Principles of the Metaphysic of Morals</span>, <span style=\"background-color:#e5e8e8;\">Immanuel Kant: The Critique of Practical Reason</span>, <span style=\"background-color:#eadbd8;\">Friedrich Nietzsche: The Will to Power, Books I and II</span>, <span style=\"background-color:#d8daef;\">Georg Wilhelm Hegel: The History of Philosophy: Volume 3 of 3</span></p></small>"
      ],
      "text/plain": [
       "<IPython.core.display.HTML object>"
      ]
     },
     "metadata": {},
     "output_type": "display_data"
    },
    {
     "name": "stdout",
     "output_type": "stream",
     "text": [
      "--------temperature: 1.1 ---------\n"
     ]
    },
    {
     "data": {
      "text/html": [
       " 500-50, pp. 646-557.<br><br>[7<span style=\"background-color:#d8daef;\">0] Morgenröthe, chap. </span>13, § 20-37, 39-3, 150; Metaph. ad. de "
      ],
      "text/plain": [
       "<IPython.core.display.HTML object>"
      ]
     },
     "metadata": {},
     "output_type": "display_data"
    },
    {
     "data": {
      "text/html": [
       "<small><p style=\"text-align:right;\">Sources: <span style=\"background-color:#d8daef;\">Georg Wilhelm Hegel: The History of Philosophy: Volume 3 of 3</span></p></small>"
      ],
      "text/plain": [
       "<IPython.core.display.HTML object>"
      ]
     },
     "metadata": {},
     "output_type": "display_data"
    },
    {
     "name": "stdout",
     "output_type": "stream",
     "text": [
      "-------------------------------------------\n",
      "step 20000: train loss 2.0949, val loss 2.0927, time 0.502 sec/iter\n",
      "Sample: --------temperature: 0.9 ---------\n"
     ]
    },
    {
     "data": {
      "text/html": [
       " \" of P<span style=\"background-color:#fdebd0;\">ure practical reason. </span>Zeno<span style=\"background-color:#d8daef;\">’s<br>translation</span> is as fo<span style=\"background-color:#eadbd8;\">urdities, </span>when mu<span style=\"background-color:#d0ece7;\">st, after a</span><span style=\"background-color:#eadbd8;\">ll objects of<br></span><span style=\"background-color:#ecf3cf;\">secure to </span><span style=\"background-color:#eadbd8;\">our world of </span><span style=\"background-color:#d8daef;\">understanding, mo</span><span style=\"background-color:#eadbd8;\">tion, in order to bring</span><span style=\"background-color:#ebdef0;\"><br>the rest of </span><span style=\"background-color:#fae5d3;\">antiquity, or the </span>who<span style=\"background-color:#d4efdf;\">le enjoyment</span><span style=\"background-color:#d0ece7;\"> of the motion</span><span style=\"background-color:#f6ddcc;\">s of the<br>most p</span>ainful "
      ],
      "text/plain": [
       "<IPython.core.display.HTML object>"
      ]
     },
     "metadata": {},
     "output_type": "display_data"
    },
    {
     "data": {
      "text/html": [
       "<small><p style=\"text-align:right;\">Sources: <span style=\"background-color:#fdebd0;\">Immanuel Kant: The Metaphysical Elements of Ethics</span>, <span style=\"background-color:#d8daef;\">Georg Wilhelm Hegel: The History of Philosophy: Volume 3 of 3</span>, <span style=\"background-color:#eadbd8;\">Friedrich Nietzsche: The Will to Power, Books I and II</span>, <span style=\"background-color:#d0ece7;\">Friedrich Nietzsche: Early Greek Philosophy & Other Essays</span>, <span style=\"background-color:#eadbd8;\">Immanuel Kant: The Critique of Pure Reason</span>, <span style=\"background-color:#ecf3cf;\">Georg Wilhelm Hegel: Hegel's Lectures on the History of Philosophy: Vol. 2 of 3</span>, <span style=\"background-color:#ebdef0;\">Friedrich Nietzsche: The Will to Power, Books III and IV</span>, <span style=\"background-color:#fae5d3;\">Friedrich Nietzsche: We Philologists, Volume 8 of 18</span>, <span style=\"background-color:#d4efdf;\">Georg Wilhelm Hegel: Hegel's Lectures on the History of Philosophy: Vol. 1 of 3</span>, <span style=\"background-color:#f6ddcc;\">Friedrich Nietzsche: Human, All Too Human</span></p></small>"
      ],
      "text/plain": [
       "<IPython.core.display.HTML object>"
      ]
     },
     "metadata": {},
     "output_type": "display_data"
    },
    {
     "name": "stdout",
     "output_type": "stream",
     "text": [
      "--------temperature: 0.95 ---------\n"
     ]
    },
    {
     "data": {
      "text/html": [
       "<span style=\"background-color:#fdebd0;\"> ^paragraph 2</span>61<span style=\"background-color:#e5e8e8;\">}<br><br>  Et prop</span><span style=\"background-color:#d0ece7;\">er to the ind</span><span style=\"background-color:#d6eaf8;\">ependence of a </span>Spirit o<span style=\"background-color:#d6eaf8;\">f<br>  necess</span><span style=\"background-color:#d8daef;\">ity that the </span><span style=\"background-color:#d8daef;\">will is not to be </span>the _Deg<span style=\"background-color:#f6ddcc;\">e of ascetic</span>ism_: Dominitude<br> <span style=\"background-color:#eadbd8;\"> and justifies</span><span style=\"background-color:#d4efdf;\">t time of </span>the sex _Prolegon, B"
      ],
      "text/plain": [
       "<IPython.core.display.HTML object>"
      ]
     },
     "metadata": {},
     "output_type": "display_data"
    },
    {
     "data": {
      "text/html": [
       "<small><p style=\"text-align:right;\">Sources: <span style=\"background-color:#fdebd0;\">Immanuel Kant: The Metaphysical Elements of Ethics</span>, <span style=\"background-color:#e5e8e8;\">Immanuel Kant: The Critique of Practical Reason</span>, <span style=\"background-color:#d0ece7;\">Friedrich Nietzsche: Early Greek Philosophy & Other Essays</span>, <span style=\"background-color:#d6eaf8;\">Immanuel Kant: Perpetual Peace</span>, <span style=\"background-color:#d8daef;\">Georg Wilhelm Hegel: The History of Philosophy: Volume 3 of 3</span>, <span style=\"background-color:#f6ddcc;\">Friedrich Nietzsche: Human, All Too Human</span>, <span style=\"background-color:#eadbd8;\">Friedrich Nietzsche: The Will to Power, Books I and II</span>, <span style=\"background-color:#d4efdf;\">Georg Wilhelm Hegel: Hegel's Lectures on the History of Philosophy: Vol. 1 of 3</span></p></small>"
      ],
      "text/plain": [
       "<IPython.core.display.HTML object>"
      ]
     },
     "metadata": {},
     "output_type": "display_data"
    },
    {
     "name": "stdout",
     "output_type": "stream",
     "text": [
      "--------temperature: 1.0 ---------\n"
     ]
    },
    {
     "data": {
      "text/html": [
       " Qoyment. (if Saturre ath<br>drap ii., pp. 81, 199)<span style=\"background-color:#eadbd8;\">, gives us the </span>Arab<span style=\"background-color:#ebdef0;\">ilism of a</span><span style=\"background-color:#d4efdf;\"> Sinensis, </span><span style=\"background-color:#d8daef;\">were the ma</span><span style=\"background-color:#d8daef;\">in question<br></span>no<span style=\"background-color:#ebdef0;\">ny things, </span><span style=\"background-color:#d4efdf;\">but it is sup</span><span style=\"background-color:#d4e6e1;\">posed to be found in </span><span style=\"background-color:#e2d7d5;\">us, and is</span>olving born"
      ],
      "text/plain": [
       "<IPython.core.display.HTML object>"
      ]
     },
     "metadata": {},
     "output_type": "display_data"
    },
    {
     "data": {
      "text/html": [
       "<small><p style=\"text-align:right;\">Sources: <span style=\"background-color:#eadbd8;\">Immanuel Kant: The Critique of Pure Reason</span>, <span style=\"background-color:#ebdef0;\">Friedrich Nietzsche: The Will to Power, Books III and IV</span>, <span style=\"background-color:#d4efdf;\">Georg Wilhelm Hegel: Hegel's Lectures on the History of Philosophy: Vol. 1 of 3</span>, <span style=\"background-color:#d8daef;\">Georg Wilhelm Hegel: The History of Philosophy: Volume 3 of 3</span>, <span style=\"background-color:#d4e6e1;\">Immanuel Kant: Fundamental Principles of the Metaphysic of Morals</span>, <span style=\"background-color:#e2d7d5;\">Friedrich Nietzsche: The Joyful Wisdom</span></p></small>"
      ],
      "text/plain": [
       "<IPython.core.display.HTML object>"
      ]
     },
     "metadata": {},
     "output_type": "display_data"
    },
    {
     "name": "stdout",
     "output_type": "stream",
     "text": [
      "--------temperature: 1.05 ---------\n"
     ]
    },
    {
     "data": {
      "text/html": [
       " <span style=\"background-color:#eadbd8;\">” in the subject in</span>to an “<span style=\"background-color:#d8daef;\">right hand </span>the eised”<span style=\"background-color:#ebdef0;\">.<br><br>I have c</span><span style=\"background-color:#d8daef;\">ause everything </span>som<span style=\"background-color:#d8daef;\">e correct to </span>obtain<span style=\"background-color:#e2d7d5;\">ed yourself</span> a<span style=\"background-color:#ebdef0;\">ppressed. He </span><span style=\"background-color:#e5e8e8;\">recognises the wor</span>k<span style=\"background-color:#d8daef;\"><br>in such a </span><span style=\"background-color:#eadbd8;\">future life i</span><span style=\"background-color:#e2d7d5;\">ts retarde</span><span style=\"background-color:#e2d7d5;\">nt powers. </span>But, a<span style=\"background-color:#d8daef;\"><br>comprehension </span><span style=\"background-color:#d8daef;\">to multitude</span><span style=\"background-color:#d4e6f1;\"> powers, the</span><span style=\"background-color:#ebdef0;\"> radiation</span> of each "
      ],
      "text/plain": [
       "<IPython.core.display.HTML object>"
      ]
     },
     "metadata": {},
     "output_type": "display_data"
    },
    {
     "data": {
      "text/html": [
       "<small><p style=\"text-align:right;\">Sources: <span style=\"background-color:#eadbd8;\">Immanuel Kant: The Critique of Pure Reason</span>, <span style=\"background-color:#d8daef;\">Georg Wilhelm Hegel: The History of Philosophy: Volume 3 of 3</span>, <span style=\"background-color:#ebdef0;\">Friedrich Nietzsche: The Will to Power, Books III and IV</span>, <span style=\"background-color:#e2d7d5;\">Friedrich Nietzsche: The Joyful Wisdom</span>, <span style=\"background-color:#e5e8e8;\">Immanuel Kant: The Critique of Practical Reason</span>, <span style=\"background-color:#d8daef;\">Friedrich Nietzsche: Thoughts out of Season, Part One</span>, <span style=\"background-color:#d4e6f1;\">Immanuel Kant: Kant's Critique of Judgement</span></p></small>"
      ],
      "text/plain": [
       "<IPython.core.display.HTML object>"
      ]
     },
     "metadata": {},
     "output_type": "display_data"
    },
    {
     "name": "stdout",
     "output_type": "stream",
     "text": [
      "--------temperature: 1.1 ---------\n"
     ]
    },
    {
     "data": {
      "text/html": [
       " <span style=\"background-color:#d4efdf;\"><br>which is, </span>far<span style=\"background-color:#d8daef;\">. The Greeks </span><span style=\"background-color:#fae5d3;\">likewise ou</span><span style=\"background-color:#eadbd8;\">t of the first </span>forms of<br>die<span style=\"background-color:#ebdef0;\">ncholy men turn</span>ed<span style=\"background-color:#eadbd8;\"> Hobbes ma</span>de <span style=\"background-color:#d6dbdf;\">these name</span><span style=\"background-color:#d8daef;\"> within the d</span>irec<span style=\"background-color:#d4e6f1;\">t<br>of thing</span><span style=\"background-color:#e2d7d5;\">s, of his </span><span style=\"background-color:#d6eaf8;\">own preservation, </span><span style=\"background-color:#d4e6f1;\">for the supposition<br></span><span style=\"background-color:#e2d7d5;\">results therefrom</span><span style=\"background-color:#d8daef;\"> universal and ne</span><span style=\"background-color:#d6dbdf;\">ver without any </span>change;<span style=\"background-color:#f6ddcc;\"> for certain<br></span>would "
      ],
      "text/plain": [
       "<IPython.core.display.HTML object>"
      ]
     },
     "metadata": {},
     "output_type": "display_data"
    },
    {
     "data": {
      "text/html": [
       "<small><p style=\"text-align:right;\">Sources: <span style=\"background-color:#d4efdf;\">Georg Wilhelm Hegel: Hegel's Lectures on the History of Philosophy: Vol. 1 of 3</span>, <span style=\"background-color:#d8daef;\">Georg Wilhelm Hegel: The History of Philosophy: Volume 3 of 3</span>, <span style=\"background-color:#fae5d3;\">Friedrich Nietzsche: We Philologists, Volume 8 of 18</span>, <span style=\"background-color:#eadbd8;\">Friedrich Nietzsche: The Will to Power, Books I and II</span>, <span style=\"background-color:#ebdef0;\">Friedrich Nietzsche: Beyond Good and Evil</span>, <span style=\"background-color:#eadbd8;\">Immanuel Kant: The Critique of Pure Reason</span>, <span style=\"background-color:#d6dbdf;\">Friedrich Nietzsche: Thoughts Out of Season, Part 2</span>, <span style=\"background-color:#d4e6f1;\">Immanuel Kant: Kant's Critique of Judgement</span>, <span style=\"background-color:#e2d7d5;\">Friedrich Nietzsche: Thus Spake Zarathustra</span>, <span style=\"background-color:#d6eaf8;\">Immanuel Kant: Perpetual Peace</span>, <span style=\"background-color:#e2d7d5;\">Friedrich Nietzsche: The Joyful Wisdom</span>, <span style=\"background-color:#f6ddcc;\">Friedrich Nietzsche: Human, All Too Human</span></p></small>"
      ],
      "text/plain": [
       "<IPython.core.display.HTML object>"
      ]
     },
     "metadata": {},
     "output_type": "display_data"
    },
    {
     "name": "stdout",
     "output_type": "stream",
     "text": [
      "-------------------------------------------\n",
      "step 20250: train loss 2.0880, val loss 2.0544, time 0.501 sec/iter\n",
      "Sample: --------temperature: 0.9 ---------\n"
     ]
    },
    {
     "data": {
      "text/html": [
       " JUNSILONSS<br><br><br>1.<br><span style=\"background-color:#eadbd8;\"><br><br>_The three great </span><span style=\"background-color:#eadbd8;\">Complete W</span><span style=\"background-color:#eadbd8;\">ill to Power._ </span><span style=\"background-color:#d4efdf;\">It was also t</span><span style=\"background-color:#e2d7d5;\">o the youth</span><br>Oh, Christschinast<span style=\"background-color:#ecf3cf;\">, Proclus </span>(M<span style=\"background-color:#d8daef;\">ichte der </span>reinen<br>Church in"
      ],
      "text/plain": [
       "<IPython.core.display.HTML object>"
      ]
     },
     "metadata": {},
     "output_type": "display_data"
    },
    {
     "data": {
      "text/html": [
       "<small><p style=\"text-align:right;\">Sources: <span style=\"background-color:#eadbd8;\">Friedrich Nietzsche: The Will to Power, Books I and II</span>, <span style=\"background-color:#d4efdf;\">Georg Wilhelm Hegel: Hegel's Lectures on the History of Philosophy: Vol. 1 of 3</span>, <span style=\"background-color:#e2d7d5;\">Friedrich Nietzsche: The Joyful Wisdom</span>, <span style=\"background-color:#ecf3cf;\">Georg Wilhelm Hegel: Hegel's Lectures on the History of Philosophy: Vol. 2 of 3</span>, <span style=\"background-color:#d8daef;\">Georg Wilhelm Hegel: The History of Philosophy: Volume 3 of 3</span></p></small>"
      ],
      "text/plain": [
       "<IPython.core.display.HTML object>"
      ]
     },
     "metadata": {},
     "output_type": "display_data"
    },
    {
     "name": "stdout",
     "output_type": "stream",
     "text": [
      "--------temperature: 0.95 ---------\n"
     ]
    },
    {
     "data": {
      "text/html": [
       " = a<br>Self- spheree, inno, who<span style=\"background-color:#ebdef0;\"> deceives h</span>im<span style=\"background-color:#eadbd8;\">. People have </span>taught born <span style=\"background-color:#ebdef0;\">at<br>nothing </span><span style=\"background-color:#d6dbdf;\">of his own e</span><span style=\"background-color:#ebdef0;\">yes and fi</span>er<span style=\"background-color:#d8daef;\">y even among th</span>e new<br>stead<span style=\"background-color:#eadbd8;\">fatherlands</span>,<span style=\"background-color:#e2d7d5;\"> choked him</span>--for MAMACE<span style=\"background-color:#d8daef;\">--the language </span>are only<br>"
      ],
      "text/plain": [
       "<IPython.core.display.HTML object>"
      ]
     },
     "metadata": {},
     "output_type": "display_data"
    },
    {
     "data": {
      "text/html": [
       "<small><p style=\"text-align:right;\">Sources: <span style=\"background-color:#ebdef0;\">Friedrich Nietzsche: Beyond Good and Evil</span>, <span style=\"background-color:#eadbd8;\">Friedrich Nietzsche: The Will to Power, Books I and II</span>, <span style=\"background-color:#ebdef0;\">Friedrich Nietzsche: The Will to Power, Books III and IV</span>, <span style=\"background-color:#d6dbdf;\">Friedrich Nietzsche: Thoughts Out of Season, Part 2</span>, <span style=\"background-color:#d8daef;\">Friedrich Nietzsche: Thoughts out of Season, Part One</span>, <span style=\"background-color:#e2d7d5;\">Friedrich Nietzsche: Thus Spake Zarathustra</span></p></small>"
      ],
      "text/plain": [
       "<IPython.core.display.HTML object>"
      ]
     },
     "metadata": {},
     "output_type": "display_data"
    },
    {
     "name": "stdout",
     "output_type": "stream",
     "text": [
      "--------temperature: 1.0 ---------\n"
     ]
    },
    {
     "data": {
      "text/html": [
       " = B.=--Philo<span style=\"background-color:#e2d7d5;\"> never speaks </span><span style=\"background-color:#d4efdf;\">with him<br>the </span><span style=\"background-color:#d8daef;\">particular, but the </span><span style=\"background-color:#d8daef;\">manner of his </span>lif<span style=\"background-color:#ebdef0;\">e makes himself </span>at hom<span style=\"background-color:#d8daef;\">e comes from</span><span style=\"background-color:#d8daef;\"><br>his heart. </span><span style=\"background-color:#ebdef0;\">The body and </span>heighty berk<span style=\"background-color:#e2d7d5;\"> said with </span>fe<span style=\"background-color:#ebdef0;\">ll is most </span>entrar leagers<span style=\"background-color:#d8daef;\">,<br>as in the </span><span style=\"background-color:#d6eaf8;\">others is m</span><span style=\"background-color:#d6dbdf;\">ore foolish e</span>noug<span style=\"background-color:#d8daef;\">h. In this</span>"
      ],
      "text/plain": [
       "<IPython.core.display.HTML object>"
      ]
     },
     "metadata": {},
     "output_type": "display_data"
    },
    {
     "data": {
      "text/html": [
       "<small><p style=\"text-align:right;\">Sources: <span style=\"background-color:#e2d7d5;\">Friedrich Nietzsche: The Joyful Wisdom</span>, <span style=\"background-color:#d4efdf;\">Georg Wilhelm Hegel: Hegel's Lectures on the History of Philosophy: Vol. 1 of 3</span>, <span style=\"background-color:#d8daef;\">Georg Wilhelm Hegel: The History of Philosophy: Volume 3 of 3</span>, <span style=\"background-color:#ebdef0;\">Friedrich Nietzsche: The Will to Power, Books III and IV</span>, <span style=\"background-color:#d8daef;\">Friedrich Nietzsche: Thoughts out of Season, Part One</span>, <span style=\"background-color:#ebdef0;\">Friedrich Nietzsche: Beyond Good and Evil</span>, <span style=\"background-color:#d6eaf8;\">Immanuel Kant: Perpetual Peace</span>, <span style=\"background-color:#d6dbdf;\">Friedrich Nietzsche: Thoughts Out of Season, Part 2</span></p></small>"
      ],
      "text/plain": [
       "<IPython.core.display.HTML object>"
      ]
     },
     "metadata": {},
     "output_type": "display_data"
    },
    {
     "name": "stdout",
     "output_type": "stream",
     "text": [
      "--------temperature: 1.05 ---------\n"
     ]
    },
    {
     "data": {
      "text/html": [
       " των, νός<span style=\"background-color:#d4efdf;\">); what is in</span><span style=\"background-color:#ecf3cf;\">tellectual, the </span><span style=\"background-color:#ebdef0;\">difference<br>bec</span><span style=\"background-color:#d8daef;\">ause the e</span><span style=\"background-color:#d4efdf;\">nd. Thus wh</span>at confkest unself<span style=\"background-color:#d4e6f1;\">: There are </span>pu<span style=\"background-color:#ecf3cf;\">t has two </span><span style=\"background-color:#ebdef0;\">thousand m</span>usic<span style=\"background-color:#ecf3cf;\">;<br>the second </span><span style=\"background-color:#ecf3cf;\">movement, li</span>k<span style=\"background-color:#eadbd8;\">e the time</span><span style=\"background-color:#d8daef;\">, the second the </span>liv<span style=\"background-color:#e5e8e8;\">ing must have<br></span>imagineu<span style=\"background-color:#d4efdf;\">l; but what is </span><span style=\"background-color:#ebdef0;\">good, the </span>"
      ],
      "text/plain": [
       "<IPython.core.display.HTML object>"
      ]
     },
     "metadata": {},
     "output_type": "display_data"
    },
    {
     "data": {
      "text/html": [
       "<small><p style=\"text-align:right;\">Sources: <span style=\"background-color:#d4efdf;\">Georg Wilhelm Hegel: Hegel's Lectures on the History of Philosophy: Vol. 1 of 3</span>, <span style=\"background-color:#ecf3cf;\">Georg Wilhelm Hegel: Hegel's Lectures on the History of Philosophy: Vol. 2 of 3</span>, <span style=\"background-color:#ebdef0;\">Friedrich Nietzsche: The Will to Power, Books III and IV</span>, <span style=\"background-color:#d8daef;\">Georg Wilhelm Hegel: The History of Philosophy: Volume 3 of 3</span>, <span style=\"background-color:#d4e6f1;\">Immanuel Kant: Kant's Critique of Judgement</span>, <span style=\"background-color:#eadbd8;\">Friedrich Nietzsche: The Will to Power, Books I and II</span>, <span style=\"background-color:#e5e8e8;\">Immanuel Kant: The Critique of Practical Reason</span></p></small>"
      ],
      "text/plain": [
       "<IPython.core.display.HTML object>"
      ]
     },
     "metadata": {},
     "output_type": "display_data"
    },
    {
     "name": "stdout",
     "output_type": "stream",
     "text": [
      "--------temperature: 1.1 ---------\n"
     ]
    },
    {
     "data": {
      "text/html": [
       "<span style=\"background-color:#d8daef;\"> 68, 70, 4</span>86, pp. 262-210; § 36, 220-1822, 264, 295; Vol. I.<br>ne<span style=\"background-color:#d8daef;\">t. I. pp. </span>96"
      ],
      "text/plain": [
       "<IPython.core.display.HTML object>"
      ]
     },
     "metadata": {},
     "output_type": "display_data"
    },
    {
     "data": {
      "text/html": [
       "<small><p style=\"text-align:right;\">Sources: <span style=\"background-color:#d8daef;\">Georg Wilhelm Hegel: The History of Philosophy: Volume 3 of 3</span></p></small>"
      ],
      "text/plain": [
       "<IPython.core.display.HTML object>"
      ]
     },
     "metadata": {},
     "output_type": "display_data"
    },
    {
     "name": "stdout",
     "output_type": "stream",
     "text": [
      "-------------------------------------------\n",
      "step 20500: train loss 2.0305, val loss 2.0562, time 0.503 sec/iter\n",
      "Sample: --------temperature: 0.9 ---------\n"
     ]
    },
    {
     "data": {
      "text/html": [
       " <span style=\"background-color:#eadbd8;\">*<br><br>What do</span><span style=\"background-color:#d8daef;\">es what was </span>r<span style=\"background-color:#d8daef;\">an account</span>?...<span style=\"background-color:#d8daef;\"> Locke, who </span>mis<span style=\"background-color:#d8daef;\">thought had </span><span style=\"background-color:#eadbd8;\">answered a</span>bout<span style=\"background-color:#ecf3cf;\"><br>it; but i</span>n<span style=\"background-color:#ecf3cf;\"> truth might </span><span style=\"background-color:#e2d7d5;\">either go </span><span style=\"background-color:#ebdef0;\">forward under </span>such<span style=\"background-color:#eadbd8;\">? Without any</span><span style=\"background-color:#d4e6f1;\"><br>faculty of desire </span><span style=\"background-color:#d8daef;\">good and evil</span>! The ill-leaguests or pus"
      ],
      "text/plain": [
       "<IPython.core.display.HTML object>"
      ]
     },
     "metadata": {},
     "output_type": "display_data"
    },
    {
     "data": {
      "text/html": [
       "<small><p style=\"text-align:right;\">Sources: <span style=\"background-color:#eadbd8;\">Friedrich Nietzsche: The Will to Power, Books I and II</span>, <span style=\"background-color:#d8daef;\">Georg Wilhelm Hegel: The History of Philosophy: Volume 3 of 3</span>, <span style=\"background-color:#eadbd8;\">Immanuel Kant: The Critique of Pure Reason</span>, <span style=\"background-color:#ecf3cf;\">Georg Wilhelm Hegel: Hegel's Lectures on the History of Philosophy: Vol. 2 of 3</span>, <span style=\"background-color:#e2d7d5;\">Friedrich Nietzsche: Thus Spake Zarathustra</span>, <span style=\"background-color:#ebdef0;\">Friedrich Nietzsche: The Will to Power, Books III and IV</span>, <span style=\"background-color:#d4e6f1;\">Immanuel Kant: Kant's Critique of Judgement</span></p></small>"
      ],
      "text/plain": [
       "<IPython.core.display.HTML object>"
      ]
     },
     "metadata": {},
     "output_type": "display_data"
    },
    {
     "name": "stdout",
     "output_type": "stream",
     "text": [
      "--------temperature: 0.95 ---------\n"
     ]
    },
    {
     "data": {
      "text/html": [
       " 59, 90<span style=\"background-color:#eadbd8;\"> and almost p</span><span style=\"background-color:#e2d7d5;\">roperly on</span><span style=\"background-color:#d4e6f1;\"> it is not le</span><span style=\"background-color:#d4efdf;\">d them by<br>the</span>i<span style=\"background-color:#e5e8e8;\">r powers, b</span><span style=\"background-color:#d8daef;\">ut no one </span><span style=\"background-color:#d4efdf;\">unity, of </span><span style=\"background-color:#ecf3cf;\">a negative uni</span>ty.<span style=\"background-color:#d4e6f1;\"> Kant’s be</span>ing<span style=\"background-color:#d8daef;\">-itself is</span><span style=\"background-color:#d4e6f1;\"><br>that if we </span>sum up<span style=\"background-color:#ecf3cf;\"> it cannot be re</span>a<span style=\"background-color:#e2d7d5;\">l if it were </span><span style=\"background-color:#d8daef;\">substance; </span><span style=\"background-color:#ecf3cf;\">none more<br></span><span style=\"background-color:#d8daef;\">determination of Being is </span><span style=\"background-color:#d4efdf;\">the non-being </span>"
      ],
      "text/plain": [
       "<IPython.core.display.HTML object>"
      ]
     },
     "metadata": {},
     "output_type": "display_data"
    },
    {
     "data": {
      "text/html": [
       "<small><p style=\"text-align:right;\">Sources: <span style=\"background-color:#eadbd8;\">Friedrich Nietzsche: The Will to Power, Books I and II</span>, <span style=\"background-color:#e2d7d5;\">Friedrich Nietzsche: The Joyful Wisdom</span>, <span style=\"background-color:#d4e6f1;\">Immanuel Kant: Kant's Critique of Judgement</span>, <span style=\"background-color:#d4efdf;\">Georg Wilhelm Hegel: Hegel's Lectures on the History of Philosophy: Vol. 1 of 3</span>, <span style=\"background-color:#e5e8e8;\">Immanuel Kant: The Critique of Practical Reason</span>, <span style=\"background-color:#d8daef;\">Georg Wilhelm Hegel: The History of Philosophy: Volume 3 of 3</span>, <span style=\"background-color:#ecf3cf;\">Georg Wilhelm Hegel: Hegel's Lectures on the History of Philosophy: Vol. 2 of 3</span></p></small>"
      ],
      "text/plain": [
       "<IPython.core.display.HTML object>"
      ]
     },
     "metadata": {},
     "output_type": "display_data"
    },
    {
     "name": "stdout",
     "output_type": "stream",
     "text": [
      "--------temperature: 1.0 ---------\n"
     ]
    },
    {
     "data": {
      "text/html": [
       " ’<span style=\"background-color:#e2d7d5;\"> will say </span>Yea thi<span style=\"background-color:#e2d7d5;\">s to<br>experience</span>. T<span style=\"background-color:#ebdef0;\">o expiate </span><span style=\"background-color:#d8daef;\">to him the</span>ir<span style=\"background-color:#d4efdf;\"> future and pas</span>sions, m<span style=\"background-color:#e2d7d5;\">en,--this </span><span style=\"background-color:#ecf3cf;\">actions and i</span><span style=\"background-color:#d4efdf;\">ts<br>philosophy</span><span style=\"background-color:#ebdef0;\"> is superior</span>ated. One<br>know<span style=\"background-color:#e2d7d5;\">s! Perhaps </span>on<span style=\"background-color:#e2d7d5;\">e day, how</span> m<span style=\"background-color:#eadbd8;\">any higher s</span>tory, or<span style=\"background-color:#e2d7d5;\"> yet more </span>e<span style=\"background-color:#edebd0;\">st, than that </span><span style=\"background-color:#e2d7d5;\">the opposite m</span>ust be<br>rid"
      ],
      "text/plain": [
       "<IPython.core.display.HTML object>"
      ]
     },
     "metadata": {},
     "output_type": "display_data"
    },
    {
     "data": {
      "text/html": [
       "<small><p style=\"text-align:right;\">Sources: <span style=\"background-color:#e2d7d5;\">Friedrich Nietzsche: The Joyful Wisdom</span>, <span style=\"background-color:#ebdef0;\">Friedrich Nietzsche: The Will to Power, Books III and IV</span>, <span style=\"background-color:#d8daef;\">Georg Wilhelm Hegel: The History of Philosophy: Volume 3 of 3</span>, <span style=\"background-color:#d4efdf;\">Georg Wilhelm Hegel: Hegel's Lectures on the History of Philosophy: Vol. 1 of 3</span>, <span style=\"background-color:#e2d7d5;\">Friedrich Nietzsche: Thus Spake Zarathustra</span>, <span style=\"background-color:#ecf3cf;\">Georg Wilhelm Hegel: Hegel's Lectures on the History of Philosophy: Vol. 2 of 3</span>, <span style=\"background-color:#eadbd8;\">Immanuel Kant: The Critique of Pure Reason</span>, <span style=\"background-color:#edebd0;\">Immanuel Kant: Kant's Prolegomena</span></p></small>"
      ],
      "text/plain": [
       "<IPython.core.display.HTML object>"
      ]
     },
     "metadata": {},
     "output_type": "display_data"
    },
    {
     "name": "stdout",
     "output_type": "stream",
     "text": [
      "--------temperature: 1.05 ---------\n"
     ]
    },
    {
     "data": {
      "text/html": [
       " 9-90)<span style=\"background-color:#ecf3cf;\">.<br><br>[172] Sext. Empir. adv. Math. </span>Pyrr. VII. 9, 631<span style=\"background-color:#d4efdf;\">.<br><br>[171] Diog. Laërt. </span>X. 115; S"
      ],
      "text/plain": [
       "<IPython.core.display.HTML object>"
      ]
     },
     "metadata": {},
     "output_type": "display_data"
    },
    {
     "data": {
      "text/html": [
       "<small><p style=\"text-align:right;\">Sources: <span style=\"background-color:#ecf3cf;\">Georg Wilhelm Hegel: Hegel's Lectures on the History of Philosophy: Vol. 2 of 3</span>, <span style=\"background-color:#d4efdf;\">Georg Wilhelm Hegel: Hegel's Lectures on the History of Philosophy: Vol. 1 of 3</span></p></small>"
      ],
      "text/plain": [
       "<IPython.core.display.HTML object>"
      ]
     },
     "metadata": {},
     "output_type": "display_data"
    },
    {
     "name": "stdout",
     "output_type": "stream",
     "text": [
      "--------temperature: 1.1 ---------\n"
     ]
    },
    {
     "data": {
      "text/html": [
       " § 50. <span style=\"background-color:#d8daef;\">nd which in</span><span style=\"background-color:#d8daef;\">deed clearly </span><span style=\"background-color:#ebdef0;\">that where </span>fused? He<br>astinguishs \"I<span style=\"background-color:#ebdef0;\"> think\" and </span>\"<span style=\"background-color:#ebdef0;\">first principles of a</span>ctionly<span style=\"background-color:#ebdef0;\">\" is not<br>t</span><span style=\"background-color:#e2d7d5;\">ranslated by M</span>r. And \"Per<span style=\"background-color:#d8daef;\">son demand</span><span style=\"background-color:#e2d7d5;\"> intellectually be</span>yo<span style=\"background-color:#ecf3cf;\">nd resembles </span>this leans, "
      ],
      "text/plain": [
       "<IPython.core.display.HTML object>"
      ]
     },
     "metadata": {},
     "output_type": "display_data"
    },
    {
     "data": {
      "text/html": [
       "<small><p style=\"text-align:right;\">Sources: <span style=\"background-color:#d8daef;\">Georg Wilhelm Hegel: The History of Philosophy: Volume 3 of 3</span>, <span style=\"background-color:#ebdef0;\">Friedrich Nietzsche: The Will to Power, Books III and IV</span>, <span style=\"background-color:#ebdef0;\">Friedrich Nietzsche: Beyond Good and Evil</span>, <span style=\"background-color:#e2d7d5;\">Friedrich Nietzsche: The Joyful Wisdom</span>, <span style=\"background-color:#ecf3cf;\">Georg Wilhelm Hegel: Hegel's Lectures on the History of Philosophy: Vol. 2 of 3</span></p></small>"
      ],
      "text/plain": [
       "<IPython.core.display.HTML object>"
      ]
     },
     "metadata": {},
     "output_type": "display_data"
    },
    {
     "name": "stdout",
     "output_type": "stream",
     "text": [
      "-------------------------------------------\n",
      "step 20750: train loss 2.0575, val loss 2.0222, time 0.503 sec/iter\n",
      "Sample: --------temperature: 0.9 ---------\n"
     ]
    },
    {
     "data": {
      "text/html": [
       " τὰ οὐσίαις_)<span style=\"background-color:#d4efdf;\"> and finally b</span>itted.[409]<span style=\"background-color:#eadbd8;\"><br>This would be s</span>imp<span style=\"background-color:#ebdef0;\">le to remain</span><span style=\"background-color:#e2d7d5;\">ly a person a</span><span style=\"background-color:#eadbd8;\">nd in a pa</span><span style=\"background-color:#d4e6f1;\">rticular animal </span><span style=\"background-color:#fae5d3;\">in<br>order that they m</span><span style=\"background-color:#e2d7d5;\">ight remain </span><span style=\"background-color:#e2d7d5;\">just as little able to </span>say<span style=\"background-color:#ecf3cf;\">: “Here the</span>k<span style=\"background-color:#e2d7d5;\">les shall </span>what"
      ],
      "text/plain": [
       "<IPython.core.display.HTML object>"
      ]
     },
     "metadata": {},
     "output_type": "display_data"
    },
    {
     "data": {
      "text/html": [
       "<small><p style=\"text-align:right;\">Sources: <span style=\"background-color:#d4efdf;\">Georg Wilhelm Hegel: Hegel's Lectures on the History of Philosophy: Vol. 1 of 3</span>, <span style=\"background-color:#eadbd8;\">Friedrich Nietzsche: The Will to Power, Books I and II</span>, <span style=\"background-color:#ebdef0;\">Friedrich Nietzsche: The Will to Power, Books III and IV</span>, <span style=\"background-color:#e2d7d5;\">Friedrich Nietzsche: The Joyful Wisdom</span>, <span style=\"background-color:#eadbd8;\">Immanuel Kant: The Critique of Pure Reason</span>, <span style=\"background-color:#d4e6f1;\">Immanuel Kant: Kant's Critique of Judgement</span>, <span style=\"background-color:#fae5d3;\">Friedrich Nietzsche: We Philologists, Volume 8 of 18</span>, <span style=\"background-color:#e2d7d5;\">Friedrich Nietzsche: Thus Spake Zarathustra</span>, <span style=\"background-color:#ecf3cf;\">Georg Wilhelm Hegel: Hegel's Lectures on the History of Philosophy: Vol. 2 of 3</span></p></small>"
      ],
      "text/plain": [
       "<IPython.core.display.HTML object>"
      ]
     },
     "metadata": {},
     "output_type": "display_data"
    },
    {
     "name": "stdout",
     "output_type": "stream",
     "text": [
      "--------temperature: 0.95 ---------\n"
     ]
    },
    {
     "data": {
      "text/html": [
       " ἄγωρβα ὄν),”  110<span style=\"background-color:#d8daef;\">. “Consciousness </span><span style=\"background-color:#d4efdf;\">thus requires </span><span style=\"background-color:#d8daef;\">such a mind</span><span style=\"background-color:#d8daef;\"><br>through t</span><span style=\"background-color:#ebdef0;\">rue merely </span><span style=\"background-color:#d8daef;\">of qualities, </span><span style=\"background-color:#d8daef;\">since it is not </span><span style=\"background-color:#ecf3cf;\">the basis of what </span><span style=\"background-color:#ecf3cf;\">appears. But </span>A<span style=\"background-color:#d8daef;\">s<br>must be co</span><span style=\"background-color:#ecf3cf;\">nceived of as a d</span><span style=\"background-color:#d6eaf8;\">ifference between two </span>part, or as finalizedes "
      ],
      "text/plain": [
       "<IPython.core.display.HTML object>"
      ]
     },
     "metadata": {},
     "output_type": "display_data"
    },
    {
     "data": {
      "text/html": [
       "<small><p style=\"text-align:right;\">Sources: <span style=\"background-color:#d8daef;\">Georg Wilhelm Hegel: The History of Philosophy: Volume 3 of 3</span>, <span style=\"background-color:#d4efdf;\">Georg Wilhelm Hegel: Hegel's Lectures on the History of Philosophy: Vol. 1 of 3</span>, <span style=\"background-color:#d8daef;\">Friedrich Nietzsche: Thoughts out of Season, Part One</span>, <span style=\"background-color:#ebdef0;\">Friedrich Nietzsche: Beyond Good and Evil</span>, <span style=\"background-color:#ecf3cf;\">Georg Wilhelm Hegel: Hegel's Lectures on the History of Philosophy: Vol. 2 of 3</span>, <span style=\"background-color:#d6eaf8;\">Immanuel Kant: Perpetual Peace</span></p></small>"
      ],
      "text/plain": [
       "<IPython.core.display.HTML object>"
      ]
     },
     "metadata": {},
     "output_type": "display_data"
    },
    {
     "name": "stdout",
     "output_type": "stream",
     "text": [
      "--------temperature: 1.0 ---------\n"
     ]
    },
    {
     "data": {
      "text/html": [
       " 7<span style=\"background-color:#e2d7d5;\"> of this life </span><span style=\"background-color:#d8daef;\">as a result th</span><span style=\"background-color:#eadbd8;\">at he knows </span>\"<span style=\"background-color:#ebdef0;\">never man </span>and greefu<span style=\"background-color:#d8daef;\">lly<br>with a</span><span style=\"background-color:#d8daef;\">n equality</span><span style=\"background-color:#d8daef;\">. Man must </span><span style=\"background-color:#d8daef;\">and does not exp</span>ec<span style=\"background-color:#e5e8e8;\">t with us </span><span style=\"background-color:#d4efdf;\">to attain to<br></span>his h<span style=\"background-color:#d4e6f1;\">eeling that it </span><span style=\"background-color:#eadbd8;\">keep his eyes </span><span style=\"background-color:#d4efdf;\">called its </span>his<br><span style=\"background-color:#ebdef0;\">gifts, and </span><span style=\"background-color:#d6eaf8;\">remained hi</span><span style=\"background-color:#ebdef0;\">s obedient</span> to "
      ],
      "text/plain": [
       "<IPython.core.display.HTML object>"
      ]
     },
     "metadata": {},
     "output_type": "display_data"
    },
    {
     "data": {
      "text/html": [
       "<small><p style=\"text-align:right;\">Sources: <span style=\"background-color:#e2d7d5;\">Friedrich Nietzsche: Thus Spake Zarathustra</span>, <span style=\"background-color:#d8daef;\">Georg Wilhelm Hegel: The History of Philosophy: Volume 3 of 3</span>, <span style=\"background-color:#eadbd8;\">Friedrich Nietzsche: The Will to Power, Books I and II</span>, <span style=\"background-color:#ebdef0;\">Friedrich Nietzsche: The Will to Power, Books III and IV</span>, <span style=\"background-color:#e5e8e8;\">Immanuel Kant: The Critique of Practical Reason</span>, <span style=\"background-color:#d4efdf;\">Georg Wilhelm Hegel: Hegel's Lectures on the History of Philosophy: Vol. 1 of 3</span>, <span style=\"background-color:#d4e6f1;\">Immanuel Kant: Kant's Critique of Judgement</span>, <span style=\"background-color:#d6eaf8;\">Immanuel Kant: Perpetual Peace</span></p></small>"
      ],
      "text/plain": [
       "<IPython.core.display.HTML object>"
      ]
     },
     "metadata": {},
     "output_type": "display_data"
    },
    {
     "name": "stdout",
     "output_type": "stream",
     "text": [
      "--------temperature: 1.05 ---------\n"
     ]
    },
    {
     "data": {
      "text/html": [
       " 52<span style=\"background-color:#e2d7d5;\">. That is what </span><span style=\"background-color:#d4efdf;\">already is </span><span style=\"background-color:#e2d7d5;\">the _doctrine</span><span style=\"background-color:#d4e6f1;\"> of<br>nature_</span><span style=\"background-color:#d0ece7;\"> world, which see</span><span style=\"background-color:#e2d7d5;\">ing that the most </span>fa<span style=\"background-color:#d4efdf;\">tal imagination,</span><span style=\"background-color:#ecf3cf;\"> which<br>even in </span>his fam<span style=\"background-color:#d8daef;\">distinguished </span><span style=\"background-color:#f6ddcc;\">quaintance, o</span><span style=\"background-color:#eadbd8;\">f which from </span><span style=\"background-color:#ebdef0;\">music, is </span>_the_<br>nocence<span style=\"background-color:#d0ece7;\">--whither </span><span style=\"background-color:#ecf3cf;\">even the un</span>learn<span style=\"background-color:#d8daef;\">ed misfortune</span>, as "
      ],
      "text/plain": [
       "<IPython.core.display.HTML object>"
      ]
     },
     "metadata": {},
     "output_type": "display_data"
    },
    {
     "data": {
      "text/html": [
       "<small><p style=\"text-align:right;\">Sources: <span style=\"background-color:#e2d7d5;\">Friedrich Nietzsche: Thus Spake Zarathustra</span>, <span style=\"background-color:#d4efdf;\">Georg Wilhelm Hegel: Hegel's Lectures on the History of Philosophy: Vol. 1 of 3</span>, <span style=\"background-color:#e2d7d5;\">Friedrich Nietzsche: The Joyful Wisdom</span>, <span style=\"background-color:#d4e6f1;\">Immanuel Kant: Kant's Critique of Judgement</span>, <span style=\"background-color:#d0ece7;\">Friedrich Nietzsche: Early Greek Philosophy & Other Essays</span>, <span style=\"background-color:#ecf3cf;\">Georg Wilhelm Hegel: Hegel's Lectures on the History of Philosophy: Vol. 2 of 3</span>, <span style=\"background-color:#d8daef;\">Georg Wilhelm Hegel: The History of Philosophy: Volume 3 of 3</span>, <span style=\"background-color:#f6ddcc;\">Friedrich Nietzsche: Human, All Too Human</span>, <span style=\"background-color:#eadbd8;\">Immanuel Kant: The Critique of Pure Reason</span>, <span style=\"background-color:#ebdef0;\">Friedrich Nietzsche: Beyond Good and Evil</span></p></small>"
      ],
      "text/plain": [
       "<IPython.core.display.HTML object>"
      ]
     },
     "metadata": {},
     "output_type": "display_data"
    },
    {
     "name": "stdout",
     "output_type": "stream",
     "text": [
      "--------temperature: 1.1 ---------\n"
     ]
    },
    {
     "data": {
      "text/html": [
       " Ὀνοηρικίτη).”<span style=\"background-color:#e2d7d5;\"> The lines </span><span style=\"background-color:#d8daef;\">which the de</span><span style=\"background-color:#d4e6f1;\">ad for the </span>unit<span style=\"background-color:#d8daef;\">es forth o</span>f<br>beare<span style=\"background-color:#d4efdf;\">tain that he</span><span style=\"background-color:#ecf3cf;\">re themselves in</span>to un<span style=\"background-color:#ebdef0;\">ities.<br><br>Th</span><span style=\"background-color:#d4efdf;\">is is certainly an a</span><span style=\"background-color:#e2d7d5;\">ccasional c</span><span style=\"background-color:#d8daef;\">onceptions of the </span><span style=\"background-color:#ebdef0;\">body, we c</span>a<span style=\"background-color:#d8daef;\">n<br>whatever, </span><span style=\"background-color:#e5e8e8;\">if we abstract </span>what cl"
      ],
      "text/plain": [
       "<IPython.core.display.HTML object>"
      ]
     },
     "metadata": {},
     "output_type": "display_data"
    },
    {
     "data": {
      "text/html": [
       "<small><p style=\"text-align:right;\">Sources: <span style=\"background-color:#e2d7d5;\">Friedrich Nietzsche: Thus Spake Zarathustra</span>, <span style=\"background-color:#d8daef;\">Georg Wilhelm Hegel: The History of Philosophy: Volume 3 of 3</span>, <span style=\"background-color:#d4e6f1;\">Immanuel Kant: Kant's Critique of Judgement</span>, <span style=\"background-color:#d4efdf;\">Georg Wilhelm Hegel: Hegel's Lectures on the History of Philosophy: Vol. 1 of 3</span>, <span style=\"background-color:#ecf3cf;\">Georg Wilhelm Hegel: Hegel's Lectures on the History of Philosophy: Vol. 2 of 3</span>, <span style=\"background-color:#ebdef0;\">Friedrich Nietzsche: The Will to Power, Books III and IV</span>, <span style=\"background-color:#e2d7d5;\">Friedrich Nietzsche: The Joyful Wisdom</span>, <span style=\"background-color:#e5e8e8;\">Immanuel Kant: The Critique of Practical Reason</span></p></small>"
      ],
      "text/plain": [
       "<IPython.core.display.HTML object>"
      ]
     },
     "metadata": {},
     "output_type": "display_data"
    },
    {
     "name": "stdout",
     "output_type": "stream",
     "text": [
      "-------------------------------------------\n",
      "step 21000: train loss 2.0007, val loss 2.0057, time 0.502 sec/iter\n",
      "Sample: --------temperature: 0.9 ---------\n"
     ]
    },
    {
     "data": {
      "text/html": [
       " 07-2<span style=\"background-color:#d6eaf8;\">3;<br>    according to </span>9<span style=\"background-color:#d8daef;\">3;<br>    idea of, II</span>I. 49.<br><br>  Gener<span style=\"background-color:#d8daef;\">al Idealis</span>, I. 455; Simon, II. 90-29<span style=\"background-color:#d8daef;\">1;<br>    of S</span><span style=\"background-color:#d8daef;\">pinoza, II</span>. 260, 1066"
      ],
      "text/plain": [
       "<IPython.core.display.HTML object>"
      ]
     },
     "metadata": {},
     "output_type": "display_data"
    },
    {
     "data": {
      "text/html": [
       "<small><p style=\"text-align:right;\">Sources: <span style=\"background-color:#d6eaf8;\">Immanuel Kant: Perpetual Peace</span>, <span style=\"background-color:#d8daef;\">Georg Wilhelm Hegel: The History of Philosophy: Volume 3 of 3</span></p></small>"
      ],
      "text/plain": [
       "<IPython.core.display.HTML object>"
      ]
     },
     "metadata": {},
     "output_type": "display_data"
    },
    {
     "name": "stdout",
     "output_type": "stream",
     "text": [
      "--------temperature: 0.95 ---------\n"
     ]
    },
    {
     "data": {
      "text/html": [
       " ἀτὶ κά<span style=\"background-color:#ecf3cf;\">ναι), and in</span><span style=\"background-color:#d8daef;\">teresting th</span><span style=\"background-color:#d4efdf;\">e same space (</span>τοῦ),<br>a<span style=\"background-color:#eadbd8;\">nd a given </span><span style=\"background-color:#edebd0;\">space and time (</span><span style=\"background-color:#d8daef;\">which is the l</span><span style=\"background-color:#d4e6f1;\">imitations<br>which c</span><span style=\"background-color:#d4efdf;\">hange does not exist </span><span style=\"background-color:#d4e6f1;\">merely under the n</span><span style=\"background-color:#d4efdf;\">on-being and</span><br>halr as is non<span style=\"background-color:#ebdef0;\">-connection</span>)<span style=\"background-color:#d4efdf;\">. This cha</span><span style=\"background-color:#d4efdf;\">nge does not </span>"
      ],
      "text/plain": [
       "<IPython.core.display.HTML object>"
      ]
     },
     "metadata": {},
     "output_type": "display_data"
    },
    {
     "data": {
      "text/html": [
       "<small><p style=\"text-align:right;\">Sources: <span style=\"background-color:#ecf3cf;\">Georg Wilhelm Hegel: Hegel's Lectures on the History of Philosophy: Vol. 2 of 3</span>, <span style=\"background-color:#d8daef;\">Georg Wilhelm Hegel: The History of Philosophy: Volume 3 of 3</span>, <span style=\"background-color:#d4efdf;\">Georg Wilhelm Hegel: Hegel's Lectures on the History of Philosophy: Vol. 1 of 3</span>, <span style=\"background-color:#eadbd8;\">Immanuel Kant: The Critique of Pure Reason</span>, <span style=\"background-color:#edebd0;\">Immanuel Kant: Kant's Prolegomena</span>, <span style=\"background-color:#d4e6f1;\">Immanuel Kant: Kant's Critique of Judgement</span>, <span style=\"background-color:#ebdef0;\">Friedrich Nietzsche: Beyond Good and Evil</span></p></small>"
      ],
      "text/plain": [
       "<IPython.core.display.HTML object>"
      ]
     },
     "metadata": {},
     "output_type": "display_data"
    },
    {
     "name": "stdout",
     "output_type": "stream",
     "text": [
      "--------temperature: 1.0 ---------\n"
     ]
    },
    {
     "data": {
      "text/html": [
       "<span style=\"background-color:#fdebd0;\"> however, to a</span>lmost f<span style=\"background-color:#edebd0;\">erable<br>and </span>where in race<span style=\"background-color:#ecf3cf;\"> by enjoyment</span>s by noetrapt<span style=\"background-color:#d8daef;\">hment in hel</span>poster<span style=\"background-color:#d4efdf;\"><br>and spirituall</span><span style=\"background-color:#e2d7d5;\">endour in </span><span style=\"background-color:#ebdef0;\">the passions and </span>sugm<span style=\"background-color:#d8daef;\">a would have </span><span style=\"background-color:#d8daef;\">it--this rea</span><span style=\"background-color:#d4e6f1;\">l<br>faculty t</span>o se<span style=\"background-color:#f6ddcc;\">t bottom even </span>modestype"
      ],
      "text/plain": [
       "<IPython.core.display.HTML object>"
      ]
     },
     "metadata": {},
     "output_type": "display_data"
    },
    {
     "data": {
      "text/html": [
       "<small><p style=\"text-align:right;\">Sources: <span style=\"background-color:#fdebd0;\">Immanuel Kant: The Metaphysical Elements of Ethics</span>, <span style=\"background-color:#edebd0;\">Immanuel Kant: Kant's Prolegomena</span>, <span style=\"background-color:#ecf3cf;\">Georg Wilhelm Hegel: Hegel's Lectures on the History of Philosophy: Vol. 2 of 3</span>, <span style=\"background-color:#d8daef;\">Georg Wilhelm Hegel: The History of Philosophy: Volume 3 of 3</span>, <span style=\"background-color:#d4efdf;\">Georg Wilhelm Hegel: Hegel's Lectures on the History of Philosophy: Vol. 1 of 3</span>, <span style=\"background-color:#e2d7d5;\">Friedrich Nietzsche: The Joyful Wisdom</span>, <span style=\"background-color:#ebdef0;\">Friedrich Nietzsche: The Will to Power, Books III and IV</span>, <span style=\"background-color:#d8daef;\">Friedrich Nietzsche: Thoughts out of Season, Part One</span>, <span style=\"background-color:#d4e6f1;\">Immanuel Kant: Kant's Critique of Judgement</span>, <span style=\"background-color:#f6ddcc;\">Friedrich Nietzsche: Human, All Too Human</span></p></small>"
      ],
      "text/plain": [
       "<IPython.core.display.HTML object>"
      ]
     },
     "metadata": {},
     "output_type": "display_data"
    },
    {
     "name": "stdout",
     "output_type": "stream",
     "text": [
      "--------temperature: 1.05 ---------\n"
     ]
    },
    {
     "data": {
      "text/html": [
       " 70, 23, 291.<br><br>[3<span style=\"background-color:#d4efdf;\">42] Diog. La</span><span style=\"background-color:#d4efdf;\">ert. VIII. </span>34, 48, 442, 46; VIII. 6,<br>65.<br><br>[361-60] "
      ],
      "text/plain": [
       "<IPython.core.display.HTML object>"
      ]
     },
     "metadata": {},
     "output_type": "display_data"
    },
    {
     "data": {
      "text/html": [
       "<small><p style=\"text-align:right;\">Sources: <span style=\"background-color:#d4efdf;\">Georg Wilhelm Hegel: Hegel's Lectures on the History of Philosophy: Vol. 1 of 3</span></p></small>"
      ],
      "text/plain": [
       "<IPython.core.display.HTML object>"
      ]
     },
     "metadata": {},
     "output_type": "display_data"
    },
    {
     "name": "stdout",
     "output_type": "stream",
     "text": [
      "--------temperature: 1.1 ---------\n"
     ]
    },
    {
     "data": {
      "text/html": [
       " Ze...<br><br><br><br>OOTES FORAD REVIDUSENCLIAT<br><br>A<span style=\"background-color:#d4efdf;\">. Of the E</span><span style=\"background-color:#d8daef;\">vil is in </span><span style=\"background-color:#d0ece7;\">such a remark</span><span style=\"background-color:#d4e6f1;\">ed of the e</span><span style=\"background-color:#d8daef;\">vil is in G</span><span style=\"background-color:#d8daef;\">reek philosophy </span><span style=\"background-color:#ecf3cf;\">of the first di</span>scretox, the "
      ],
      "text/plain": [
       "<IPython.core.display.HTML object>"
      ]
     },
     "metadata": {},
     "output_type": "display_data"
    },
    {
     "data": {
      "text/html": [
       "<small><p style=\"text-align:right;\">Sources: <span style=\"background-color:#d4efdf;\">Georg Wilhelm Hegel: Hegel's Lectures on the History of Philosophy: Vol. 1 of 3</span>, <span style=\"background-color:#d8daef;\">Georg Wilhelm Hegel: The History of Philosophy: Volume 3 of 3</span>, <span style=\"background-color:#d0ece7;\">Friedrich Nietzsche: Early Greek Philosophy & Other Essays</span>, <span style=\"background-color:#d4e6f1;\">Immanuel Kant: Kant's Critique of Judgement</span>, <span style=\"background-color:#ecf3cf;\">Georg Wilhelm Hegel: Hegel's Lectures on the History of Philosophy: Vol. 2 of 3</span></p></small>"
      ],
      "text/plain": [
       "<IPython.core.display.HTML object>"
      ]
     },
     "metadata": {},
     "output_type": "display_data"
    },
    {
     "name": "stdout",
     "output_type": "stream",
     "text": [
      "-------------------------------------------\n",
      "step 21250: train loss 2.0076, val loss 2.0099, time 0.502 sec/iter\n",
      "Sample: --------temperature: 0.9 ---------\n"
     ]
    },
    {
     "data": {
      "text/html": [
       "<span style=\"background-color:#d4efdf;\"> Xenophon’s<br></span><span style=\"background-color:#d4e6f1;\">nothing po</span>rtent,<span style=\"background-color:#d8daef;\"> born with a </span>far<span style=\"background-color:#d8daef;\">er, while </span>em<span style=\"background-color:#ecf3cf;\">. The Empe</span><span style=\"background-color:#d4efdf;\">docles is<br></span><span style=\"background-color:#d4efdf;\">educated himself </span><span style=\"background-color:#d8daef;\">of the two e</span>pocal has last. _The Paradis_<span style=\"background-color:#d8daef;\"> must, however,</span><span style=\"background-color:#d8daef;\"><br>led them </span><span style=\"background-color:#d4efdf;\">have to be made </span><span style=\"background-color:#d8daef;\">the determination of the</span>"
      ],
      "text/plain": [
       "<IPython.core.display.HTML object>"
      ]
     },
     "metadata": {},
     "output_type": "display_data"
    },
    {
     "data": {
      "text/html": [
       "<small><p style=\"text-align:right;\">Sources: <span style=\"background-color:#d4efdf;\">Georg Wilhelm Hegel: Hegel's Lectures on the History of Philosophy: Vol. 1 of 3</span>, <span style=\"background-color:#d4e6f1;\">Immanuel Kant: Kant's Critique of Judgement</span>, <span style=\"background-color:#d8daef;\">Friedrich Nietzsche: Thoughts out of Season, Part One</span>, <span style=\"background-color:#d8daef;\">Georg Wilhelm Hegel: The History of Philosophy: Volume 3 of 3</span>, <span style=\"background-color:#ecf3cf;\">Georg Wilhelm Hegel: Hegel's Lectures on the History of Philosophy: Vol. 2 of 3</span></p></small>"
      ],
      "text/plain": [
       "<IPython.core.display.HTML object>"
      ]
     },
     "metadata": {},
     "output_type": "display_data"
    },
    {
     "name": "stdout",
     "output_type": "stream",
     "text": [
      "--------temperature: 0.95 ---------\n"
     ]
    },
    {
     "data": {
      "text/html": [
       " Just as Theodacobi<span style=\"background-color:#d8daef;\">. 7 _seq._</span><br><br>[27<span style=\"background-color:#d8daef;\">] Cf. Jacob</span> B<span style=\"background-color:#d8daef;\">öthe, chap. iii. § 1</span>, 32, 12, 33, 32-41, 32, 34; c"
      ],
      "text/plain": [
       "<IPython.core.display.HTML object>"
      ]
     },
     "metadata": {},
     "output_type": "display_data"
    },
    {
     "data": {
      "text/html": [
       "<small><p style=\"text-align:right;\">Sources: <span style=\"background-color:#d8daef;\">Georg Wilhelm Hegel: The History of Philosophy: Volume 3 of 3</span></p></small>"
      ],
      "text/plain": [
       "<IPython.core.display.HTML object>"
      ]
     },
     "metadata": {},
     "output_type": "display_data"
    },
    {
     "name": "stdout",
     "output_type": "stream",
     "text": [
      "--------temperature: 1.0 ---------\n"
     ]
    },
    {
     "data": {
      "text/html": [
       " Ο<span style=\"background-color:#d8daef;\">ere from the </span><span style=\"background-color:#f6ddcc;\">classification of<br></span><span style=\"background-color:#d8daef;\">the will of the p</span><span style=\"background-color:#d8daef;\">hildren and </span><span style=\"background-color:#e2d7d5;\">death that </span>fall.--As if <span style=\"background-color:#d8daef;\">dapted for</span>eign etique vit<span style=\"background-color:#d4e6e1;\">, and<br>never</span><span style=\"background-color:#d8daef;\"> exhibited </span>herd twel<span style=\"background-color:#ebdef0;\">, or still </span><span style=\"background-color:#d8daef;\">greater res</span><span style=\"background-color:#e2d7d5;\">comprehensible i</span>f<span style=\"background-color:#d8daef;\"> they<br>appeal to </span>Lif<span style=\"background-color:#e2d7d5;\">e (like the</span>"
      ],
      "text/plain": [
       "<IPython.core.display.HTML object>"
      ]
     },
     "metadata": {},
     "output_type": "display_data"
    },
    {
     "data": {
      "text/html": [
       "<small><p style=\"text-align:right;\">Sources: <span style=\"background-color:#d8daef;\">Georg Wilhelm Hegel: The History of Philosophy: Volume 3 of 3</span>, <span style=\"background-color:#f6ddcc;\">Friedrich Nietzsche: Human, All Too Human</span>, <span style=\"background-color:#e2d7d5;\">Friedrich Nietzsche: Thus Spake Zarathustra</span>, <span style=\"background-color:#d4e6e1;\">Immanuel Kant: Fundamental Principles of the Metaphysic of Morals</span>, <span style=\"background-color:#ebdef0;\">Friedrich Nietzsche: Beyond Good and Evil</span>, <span style=\"background-color:#e2d7d5;\">Friedrich Nietzsche: The Joyful Wisdom</span>, <span style=\"background-color:#d8daef;\">Friedrich Nietzsche: Thoughts out of Season, Part One</span></p></small>"
      ],
      "text/plain": [
       "<IPython.core.display.HTML object>"
      ]
     },
     "metadata": {},
     "output_type": "display_data"
    },
    {
     "name": "stdout",
     "output_type": "stream",
     "text": [
      "--------temperature: 1.05 ---------\n"
     ]
    },
    {
     "data": {
      "text/html": [
       " 8<span style=\"background-color:#d8daef;\">9 _seq._<br><br>  </span>§ 163-285. O<span style=\"background-color:#d8daef;\">f Berkeley, </span>Vol; for<span style=\"background-color:#d8daef;\"> Part II.<br></span>     <span style=\"background-color:#d8daef;\"> 432;<br>    </span>Incip<span style=\"background-color:#ecf3cf;\">lations, where</span>, I. 44-46<span style=\"background-color:#d8daef;\">;<br>    faculty of </span>emple<span style=\"background-color:#d8daef;\">, 424;<br>    </span><span style=\"background-color:#d8daef;\">faculty of </span>"
      ],
      "text/plain": [
       "<IPython.core.display.HTML object>"
      ]
     },
     "metadata": {},
     "output_type": "display_data"
    },
    {
     "data": {
      "text/html": [
       "<small><p style=\"text-align:right;\">Sources: <span style=\"background-color:#d8daef;\">Georg Wilhelm Hegel: The History of Philosophy: Volume 3 of 3</span>, <span style=\"background-color:#ecf3cf;\">Georg Wilhelm Hegel: Hegel's Lectures on the History of Philosophy: Vol. 2 of 3</span></p></small>"
      ],
      "text/plain": [
       "<IPython.core.display.HTML object>"
      ]
     },
     "metadata": {},
     "output_type": "display_data"
    },
    {
     "name": "stdout",
     "output_type": "stream",
     "text": [
      "--------temperature: 1.1 ---------\n"
     ]
    },
    {
     "data": {
      "text/html": [
       " <span style=\"background-color:#e2d7d5;\">. Shall I </span><span style=\"background-color:#d8daef;\">might say </span><span style=\"background-color:#d8daef;\">in made the</span> cr<span style=\"background-color:#d0ece7;\">y a<br>philosopher </span><span style=\"background-color:#eadbd8;\">that our e</span>nc<span style=\"background-color:#d8daef;\">h, of the </span><span style=\"background-color:#d8daef;\">existence. A</span><span style=\"background-color:#d8daef;\">re we must </span><span style=\"background-color:#d4efdf;\">especially find </span>that<br><span style=\"background-color:#d4efdf;\">easy, and e</span><span style=\"background-color:#d8daef;\">nd itself, w</span><span style=\"background-color:#e2d7d5;\">ith the first, </span><span style=\"background-color:#d8daef;\">we must ret</span><span style=\"background-color:#ecf3cf;\">ained in it, and </span><span style=\"background-color:#eadbd8;\">no knowledge<br></span><span style=\"background-color:#d8daef;\">preconceived </span><span style=\"background-color:#d4e6f1;\">religion (</span><span style=\"background-color:#edebd0;\">which are also ca</span>use<br><span style=\"background-color:#eadbd8;\">reader must not </span>ruin answer"
      ],
      "text/plain": [
       "<IPython.core.display.HTML object>"
      ]
     },
     "metadata": {},
     "output_type": "display_data"
    },
    {
     "data": {
      "text/html": [
       "<small><p style=\"text-align:right;\">Sources: <span style=\"background-color:#e2d7d5;\">Friedrich Nietzsche: The Joyful Wisdom</span>, <span style=\"background-color:#d8daef;\">Georg Wilhelm Hegel: The History of Philosophy: Volume 3 of 3</span>, <span style=\"background-color:#d0ece7;\">Friedrich Nietzsche: Early Greek Philosophy & Other Essays</span>, <span style=\"background-color:#eadbd8;\">Friedrich Nietzsche: The Will to Power, Books I and II</span>, <span style=\"background-color:#d4efdf;\">Georg Wilhelm Hegel: Hegel's Lectures on the History of Philosophy: Vol. 1 of 3</span>, <span style=\"background-color:#d8daef;\">Friedrich Nietzsche: Thoughts out of Season, Part One</span>, <span style=\"background-color:#ecf3cf;\">Georg Wilhelm Hegel: Hegel's Lectures on the History of Philosophy: Vol. 2 of 3</span>, <span style=\"background-color:#eadbd8;\">Immanuel Kant: The Critique of Pure Reason</span>, <span style=\"background-color:#d4e6f1;\">Immanuel Kant: Kant's Critique of Judgement</span>, <span style=\"background-color:#edebd0;\">Immanuel Kant: Kant's Prolegomena</span></p></small>"
      ],
      "text/plain": [
       "<IPython.core.display.HTML object>"
      ]
     },
     "metadata": {},
     "output_type": "display_data"
    },
    {
     "name": "stdout",
     "output_type": "stream",
     "text": [
      "-------------------------------------------\n",
      "step 21500: train loss 1.9807, val loss 2.0172, time 0.501 sec/iter\n",
      "Sample: --------temperature: 0.9 ---------\n"
     ]
    },
    {
     "data": {
      "text/html": [
       " 70) show<span style=\"background-color:#eadbd8;\">ful to the<br></span><span style=\"background-color:#d0ece7;\">nature of things a</span><span style=\"background-color:#d4efdf;\">by that we </span><span style=\"background-color:#d4efdf;\">have seen f</span><span style=\"background-color:#d8daef;\">or the ego</span>nism, ar<span style=\"background-color:#d4e6f1;\">e<br>abundant</span><span style=\"background-color:#d8daef;\"> into the Notion.</span> F<span style=\"background-color:#e2d7d5;\">or a single </span><span style=\"background-color:#ecf3cf;\">individual of the fam</span>o<span style=\"background-color:#ecf3cf;\">us, too,<br>the </span>detachiev<span style=\"background-color:#e2d7d5;\">ed place.<br></span><br>2. =<span style=\"background-color:#d8daef;\">The Absolute i</span>n inter Simple Dark"
      ],
      "text/plain": [
       "<IPython.core.display.HTML object>"
      ]
     },
     "metadata": {},
     "output_type": "display_data"
    },
    {
     "data": {
      "text/html": [
       "<small><p style=\"text-align:right;\">Sources: <span style=\"background-color:#eadbd8;\">Friedrich Nietzsche: The Will to Power, Books I and II</span>, <span style=\"background-color:#d0ece7;\">Friedrich Nietzsche: Early Greek Philosophy & Other Essays</span>, <span style=\"background-color:#d4efdf;\">Georg Wilhelm Hegel: Hegel's Lectures on the History of Philosophy: Vol. 1 of 3</span>, <span style=\"background-color:#d8daef;\">Georg Wilhelm Hegel: The History of Philosophy: Volume 3 of 3</span>, <span style=\"background-color:#d4e6f1;\">Immanuel Kant: Kant's Critique of Judgement</span>, <span style=\"background-color:#e2d7d5;\">Friedrich Nietzsche: Thus Spake Zarathustra</span>, <span style=\"background-color:#ecf3cf;\">Georg Wilhelm Hegel: Hegel's Lectures on the History of Philosophy: Vol. 2 of 3</span></p></small>"
      ],
      "text/plain": [
       "<IPython.core.display.HTML object>"
      ]
     },
     "metadata": {},
     "output_type": "display_data"
    },
    {
     "name": "stdout",
     "output_type": "stream",
     "text": [
      "--------temperature: 0.95 ---------\n"
     ]
    },
    {
     "data": {
      "text/html": [
       " ὄνται, μήκαὶ ἀρατιαν). Bu<span style=\"background-color:#ecf3cf;\">t<br>just as i</span><span style=\"background-color:#d8daef;\">s hence this</span><span style=\"background-color:#eadbd8;\"> permanent, s</span><span style=\"background-color:#eadbd8;\">imilar or </span><span style=\"background-color:#e5e8e8;\">rest, just as </span>genuine<br>li<span style=\"background-color:#edebd0;\">es as yet </span><span style=\"background-color:#e2d7d5;\">the end bea</span>st<span style=\"background-color:#d8daef;\">.<br><br>ββ. The </span><span style=\"background-color:#eadbd8;\">one is the uni</span><span style=\"background-color:#eadbd8;\">versal ones</span>"
      ],
      "text/plain": [
       "<IPython.core.display.HTML object>"
      ]
     },
     "metadata": {},
     "output_type": "display_data"
    },
    {
     "data": {
      "text/html": [
       "<small><p style=\"text-align:right;\">Sources: <span style=\"background-color:#ecf3cf;\">Georg Wilhelm Hegel: Hegel's Lectures on the History of Philosophy: Vol. 2 of 3</span>, <span style=\"background-color:#d8daef;\">Georg Wilhelm Hegel: The History of Philosophy: Volume 3 of 3</span>, <span style=\"background-color:#eadbd8;\">Immanuel Kant: The Critique of Pure Reason</span>, <span style=\"background-color:#e5e8e8;\">Immanuel Kant: The Critique of Practical Reason</span>, <span style=\"background-color:#edebd0;\">Immanuel Kant: Kant's Prolegomena</span>, <span style=\"background-color:#e2d7d5;\">Friedrich Nietzsche: The Joyful Wisdom</span></p></small>"
      ],
      "text/plain": [
       "<IPython.core.display.HTML object>"
      ]
     },
     "metadata": {},
     "output_type": "display_data"
    },
    {
     "name": "stdout",
     "output_type": "stream",
     "text": [
      "--------temperature: 1.0 ---------\n"
     ]
    },
    {
     "data": {
      "text/html": [
       "<span style=\"background-color:#d4efdf;\"> Thales, Anaximander</span> pirt<span style=\"background-color:#d8daef;\">which tradi</span>ng cloud.<br>Pydes is alloud<span style=\"background-color:#e2d7d5;\">o think in </span><span style=\"background-color:#d8daef;\">just as necessary </span><span style=\"background-color:#e2d7d5;\">for the good </span><span style=\"background-color:#d8daef;\">work of<br>the </span><span style=\"background-color:#d8daef;\">arguments to </span>keep by <span style=\"background-color:#eadbd8;\">Before what t</span><span style=\"background-color:#d8daef;\">o the divine </span>guided<br>treat<span style=\"background-color:#ecf3cf;\">s. He does not </span><span style=\"background-color:#eadbd8;\">discuss those </span>who "
      ],
      "text/plain": [
       "<IPython.core.display.HTML object>"
      ]
     },
     "metadata": {},
     "output_type": "display_data"
    },
    {
     "data": {
      "text/html": [
       "<small><p style=\"text-align:right;\">Sources: <span style=\"background-color:#d4efdf;\">Georg Wilhelm Hegel: Hegel's Lectures on the History of Philosophy: Vol. 1 of 3</span>, <span style=\"background-color:#d8daef;\">Friedrich Nietzsche: Thoughts out of Season, Part One</span>, <span style=\"background-color:#e2d7d5;\">Friedrich Nietzsche: The Joyful Wisdom</span>, <span style=\"background-color:#d8daef;\">Georg Wilhelm Hegel: The History of Philosophy: Volume 3 of 3</span>, <span style=\"background-color:#eadbd8;\">Friedrich Nietzsche: The Will to Power, Books I and II</span>, <span style=\"background-color:#ecf3cf;\">Georg Wilhelm Hegel: Hegel's Lectures on the History of Philosophy: Vol. 2 of 3</span>, <span style=\"background-color:#eadbd8;\">Immanuel Kant: The Critique of Pure Reason</span></p></small>"
      ],
      "text/plain": [
       "<IPython.core.display.HTML object>"
      ]
     },
     "metadata": {},
     "output_type": "display_data"
    },
    {
     "name": "stdout",
     "output_type": "stream",
     "text": [
      "--------temperature: 1.05 ---------\n"
     ]
    },
    {
     "data": {
      "text/html": [
       " ἰκυνος, τὴνβυ<br>(When<br>b<span style=\"background-color:#eadbd8;\">e) is to be </span><span style=\"background-color:#ebdef0;\">interpreted as the </span>ent<span style=\"background-color:#fae5d3;\">ities as the</span><span style=\"background-color:#ebdef0;\"> cause of the mo</span><span style=\"background-color:#ebdef0;\">ments of<br>the </span><span style=\"background-color:#d8daef;\">existence. </span>R<span style=\"background-color:#d4efdf;\">elation derived</span><span style=\"background-color:#d8daef;\"> from the philosophy of</span><span style=\"background-color:#ecf3cf;\"><br>the essential m</span><span style=\"background-color:#d8daef;\">atter of main </span><span style=\"background-color:#d4efdf;\">points and </span><span style=\"background-color:#d6eaf8;\">natural state,”</span>[1559"
      ],
      "text/plain": [
       "<IPython.core.display.HTML object>"
      ]
     },
     "metadata": {},
     "output_type": "display_data"
    },
    {
     "data": {
      "text/html": [
       "<small><p style=\"text-align:right;\">Sources: <span style=\"background-color:#eadbd8;\">Immanuel Kant: The Critique of Pure Reason</span>, <span style=\"background-color:#ebdef0;\">Friedrich Nietzsche: The Will to Power, Books III and IV</span>, <span style=\"background-color:#fae5d3;\">Friedrich Nietzsche: We Philologists, Volume 8 of 18</span>, <span style=\"background-color:#d8daef;\">Georg Wilhelm Hegel: The History of Philosophy: Volume 3 of 3</span>, <span style=\"background-color:#d4efdf;\">Georg Wilhelm Hegel: Hegel's Lectures on the History of Philosophy: Vol. 1 of 3</span>, <span style=\"background-color:#ecf3cf;\">Georg Wilhelm Hegel: Hegel's Lectures on the History of Philosophy: Vol. 2 of 3</span>, <span style=\"background-color:#d6eaf8;\">Immanuel Kant: Perpetual Peace</span></p></small>"
      ],
      "text/plain": [
       "<IPython.core.display.HTML object>"
      ]
     },
     "metadata": {},
     "output_type": "display_data"
    },
    {
     "name": "stdout",
     "output_type": "stream",
     "text": [
      "--------temperature: 1.1 ---------\n"
     ]
    },
    {
     "data": {
      "text/html": [
       " ἑ<span style=\"background-color:#d8daef;\">thing that man</span>ki<span style=\"background-color:#e2d7d5;\">nd? That is </span>Sto<span style=\"background-color:#d8daef;\">ical Greek</span><span style=\"background-color:#d4efdf;\"><br>philosopher that </span>our<span style=\"background-color:#ebdef0;\"> _reality_ </span><span style=\"background-color:#d8daef;\">with him w</span><span style=\"background-color:#ebdef0;\">ith some m</span><span style=\"background-color:#d8daef;\">ode of thought, </span><span style=\"background-color:#d8daef;\">of whom Strauss</span><br>ours T<span style=\"background-color:#d6eaf8;\">hose principles </span>but more ba<span style=\"background-color:#d8daef;\">d; hence, </span><span style=\"background-color:#d8daef;\">he certainly g</span><span style=\"background-color:#d4e6e1;\">ladly concede t</span>hat it<br><span style=\"background-color:#e2d7d5;\">sounds too </span>pleas"
      ],
      "text/plain": [
       "<IPython.core.display.HTML object>"
      ]
     },
     "metadata": {},
     "output_type": "display_data"
    },
    {
     "data": {
      "text/html": [
       "<small><p style=\"text-align:right;\">Sources: <span style=\"background-color:#d8daef;\">Georg Wilhelm Hegel: The History of Philosophy: Volume 3 of 3</span>, <span style=\"background-color:#e2d7d5;\">Friedrich Nietzsche: Thus Spake Zarathustra</span>, <span style=\"background-color:#d4efdf;\">Georg Wilhelm Hegel: Hegel's Lectures on the History of Philosophy: Vol. 1 of 3</span>, <span style=\"background-color:#ebdef0;\">Friedrich Nietzsche: The Will to Power, Books III and IV</span>, <span style=\"background-color:#d8daef;\">Friedrich Nietzsche: Thoughts out of Season, Part One</span>, <span style=\"background-color:#d6eaf8;\">Immanuel Kant: Perpetual Peace</span>, <span style=\"background-color:#d4e6e1;\">Immanuel Kant: Fundamental Principles of the Metaphysic of Morals</span>, <span style=\"background-color:#e2d7d5;\">Friedrich Nietzsche: The Joyful Wisdom</span></p></small>"
      ],
      "text/plain": [
       "<IPython.core.display.HTML object>"
      ]
     },
     "metadata": {},
     "output_type": "display_data"
    },
    {
     "name": "stdout",
     "output_type": "stream",
     "text": [
      "-------------------------------------------\n",
      "step 21750: train loss 1.9979, val loss 1.9772, time 0.502 sec/iter\n",
      "Sample: --------temperature: 0.9 ---------\n"
     ]
    },
    {
     "data": {
      "text/html": [
       " 68<span style=\"background-color:#d8daef;\">) in which</span>, adop<span style=\"background-color:#ebdef0;\">t, it would </span><span style=\"background-color:#eadbd8;\">already possess </span><span style=\"background-color:#d8daef;\">it a natural </span><span style=\"background-color:#e5e8e8;\">command, and in<br>th</span><span style=\"background-color:#eadbd8;\">e supposed that the</span><span style=\"background-color:#eadbd8;\">re is no other p</span><span style=\"background-color:#d8daef;\">henomenon, a</span><span style=\"background-color:#d0ece7;\">bove everything<br></span><span style=\"background-color:#d4e6f1;\">that can g</span><span style=\"background-color:#eadbd8;\">ain have a </span><span style=\"background-color:#e2d7d5;\">genius, and </span><span style=\"background-color:#d8daef;\">which is one</span>. So<span style=\"background-color:#d4efdf;\"> these natural </span><span style=\"background-color:#d8daef;\">man cannot m</span>o<span style=\"background-color:#eadbd8;\">de<br>of mind, a</span>nd thi<span style=\"background-color:#d8daef;\">s if such </span><span style=\"background-color:#d8daef;\">properties, </span>have apoken "
      ],
      "text/plain": [
       "<IPython.core.display.HTML object>"
      ]
     },
     "metadata": {},
     "output_type": "display_data"
    },
    {
     "data": {
      "text/html": [
       "<small><p style=\"text-align:right;\">Sources: <span style=\"background-color:#d8daef;\">Georg Wilhelm Hegel: The History of Philosophy: Volume 3 of 3</span>, <span style=\"background-color:#ebdef0;\">Friedrich Nietzsche: The Will to Power, Books III and IV</span>, <span style=\"background-color:#eadbd8;\">Immanuel Kant: The Critique of Pure Reason</span>, <span style=\"background-color:#e5e8e8;\">Immanuel Kant: The Critique of Practical Reason</span>, <span style=\"background-color:#eadbd8;\">Friedrich Nietzsche: The Will to Power, Books I and II</span>, <span style=\"background-color:#d0ece7;\">Friedrich Nietzsche: Early Greek Philosophy & Other Essays</span>, <span style=\"background-color:#d4e6f1;\">Immanuel Kant: Kant's Critique of Judgement</span>, <span style=\"background-color:#e2d7d5;\">Friedrich Nietzsche: The Joyful Wisdom</span>, <span style=\"background-color:#d4efdf;\">Georg Wilhelm Hegel: Hegel's Lectures on the History of Philosophy: Vol. 1 of 3</span></p></small>"
      ],
      "text/plain": [
       "<IPython.core.display.HTML object>"
      ]
     },
     "metadata": {},
     "output_type": "display_data"
    },
    {
     "name": "stdout",
     "output_type": "stream",
     "text": [
      "--------temperature: 0.95 ---------\n"
     ]
    },
    {
     "data": {
      "text/html": [
       " virtue.<span style=\"background-color:#e2d7d5;\"> \"You are a</span><span style=\"background-color:#ebdef0;\">s responsible for </span>you with<br>enjoyness<span style=\"background-color:#e2d7d5;\">\" when he </span>says, O my<span style=\"background-color:#d6dbdf;\"> statesman may </span>call CHAVES WAM<span style=\"background-color:#ecf3cf;\"> itself, and the S</span>uperman<br>LO, IR'S CO"
      ],
      "text/plain": [
       "<IPython.core.display.HTML object>"
      ]
     },
     "metadata": {},
     "output_type": "display_data"
    },
    {
     "data": {
      "text/html": [
       "<small><p style=\"text-align:right;\">Sources: <span style=\"background-color:#e2d7d5;\">Friedrich Nietzsche: The Joyful Wisdom</span>, <span style=\"background-color:#ebdef0;\">Friedrich Nietzsche: The Will to Power, Books III and IV</span>, <span style=\"background-color:#d6dbdf;\">Friedrich Nietzsche: Thoughts Out of Season, Part 2</span>, <span style=\"background-color:#ecf3cf;\">Georg Wilhelm Hegel: Hegel's Lectures on the History of Philosophy: Vol. 2 of 3</span></p></small>"
      ],
      "text/plain": [
       "<IPython.core.display.HTML object>"
      ]
     },
     "metadata": {},
     "output_type": "display_data"
    },
    {
     "name": "stdout",
     "output_type": "stream",
     "text": [
      "--------temperature: 1.0 ---------\n"
     ]
    },
    {
     "data": {
      "text/html": [
       " § 197. My 4, § 14; § 38-20<span style=\"background-color:#d8daef;\">, p. 53.<br><br>[</span>1<span style=\"background-color:#ecf3cf;\">39] Plat. </span>Phæbig, pp. 415, 1417, 4254, 45"
      ],
      "text/plain": [
       "<IPython.core.display.HTML object>"
      ]
     },
     "metadata": {},
     "output_type": "display_data"
    },
    {
     "data": {
      "text/html": [
       "<small><p style=\"text-align:right;\">Sources: <span style=\"background-color:#d8daef;\">Georg Wilhelm Hegel: The History of Philosophy: Volume 3 of 3</span>, <span style=\"background-color:#ecf3cf;\">Georg Wilhelm Hegel: Hegel's Lectures on the History of Philosophy: Vol. 2 of 3</span></p></small>"
      ],
      "text/plain": [
       "<IPython.core.display.HTML object>"
      ]
     },
     "metadata": {},
     "output_type": "display_data"
    },
    {
     "name": "stdout",
     "output_type": "stream",
     "text": [
      "--------temperature: 1.05 ---------\n"
     ]
    },
    {
     "data": {
      "text/html": [
       "  i<span style=\"background-color:#d8daef;\">s a Church</span>)<span style=\"background-color:#d8daef;\">. God is a</span>bstractly<br>pi<span style=\"background-color:#d4efdf;\">told the existence</span>, έγοιοότα ἀρχῆς_τὸς ἄλονυ<br>ιοῦν<span style=\"background-color:#d8daef;\">_ which is </span><span style=\"background-color:#d4efdf;\">what is best to what is </span>fal"
      ],
      "text/plain": [
       "<IPython.core.display.HTML object>"
      ]
     },
     "metadata": {},
     "output_type": "display_data"
    },
    {
     "data": {
      "text/html": [
       "<small><p style=\"text-align:right;\">Sources: <span style=\"background-color:#d8daef;\">Georg Wilhelm Hegel: The History of Philosophy: Volume 3 of 3</span>, <span style=\"background-color:#d4efdf;\">Georg Wilhelm Hegel: Hegel's Lectures on the History of Philosophy: Vol. 1 of 3</span></p></small>"
      ],
      "text/plain": [
       "<IPython.core.display.HTML object>"
      ]
     },
     "metadata": {},
     "output_type": "display_data"
    },
    {
     "name": "stdout",
     "output_type": "stream",
     "text": [
      "--------temperature: 1.1 ---------\n"
     ]
    },
    {
     "data": {
      "text/html": [
       "<span style=\"background-color:#fdebd0;\"> ^paragraph</span><span style=\"background-color:#eadbd8;\">s to be ho</span><span style=\"background-color:#d4efdf;\">wn that wh</span><span style=\"background-color:#ebdef0;\">ich are, in </span><span style=\"background-color:#eadbd8;\">other words,<br>the con</span>sta<span style=\"background-color:#ebdef0;\">nt idea of </span><span style=\"background-color:#d8daef;\">the subject, and </span><span style=\"background-color:#d8daef;\">merely part</span>s who sug<span style=\"background-color:#ebdef0;\">; they suc</span><span style=\"background-color:#eadbd8;\">h a<br>certain</span>ly now sla<span style=\"background-color:#d8daef;\">nderful and </span>tende<span style=\"background-color:#e2d7d5;\">They are force</span><span style=\"background-color:#eadbd8;\">d to admit that a</span><span style=\"background-color:#d8daef;\">ppears in a f</span>igure or<span style=\"background-color:#ebdef0;\"><br>point of view t</span>aught"
      ],
      "text/plain": [
       "<IPython.core.display.HTML object>"
      ]
     },
     "metadata": {},
     "output_type": "display_data"
    },
    {
     "data": {
      "text/html": [
       "<small><p style=\"text-align:right;\">Sources: <span style=\"background-color:#fdebd0;\">Immanuel Kant: The Metaphysical Elements of Ethics</span>, <span style=\"background-color:#eadbd8;\">Friedrich Nietzsche: The Will to Power, Books I and II</span>, <span style=\"background-color:#d4efdf;\">Georg Wilhelm Hegel: Hegel's Lectures on the History of Philosophy: Vol. 1 of 3</span>, <span style=\"background-color:#ebdef0;\">Friedrich Nietzsche: The Will to Power, Books III and IV</span>, <span style=\"background-color:#eadbd8;\">Immanuel Kant: The Critique of Pure Reason</span>, <span style=\"background-color:#d8daef;\">Georg Wilhelm Hegel: The History of Philosophy: Volume 3 of 3</span>, <span style=\"background-color:#ebdef0;\">Friedrich Nietzsche: Beyond Good and Evil</span>, <span style=\"background-color:#d8daef;\">Friedrich Nietzsche: Thoughts out of Season, Part One</span>, <span style=\"background-color:#e2d7d5;\">Friedrich Nietzsche: The Joyful Wisdom</span></p></small>"
      ],
      "text/plain": [
       "<IPython.core.display.HTML object>"
      ]
     },
     "metadata": {},
     "output_type": "display_data"
    },
    {
     "name": "stdout",
     "output_type": "stream",
     "text": [
      "-------------------------------------------\n",
      "step 22000: train loss 1.9778, val loss 1.9714, time 0.502 sec/iter\n",
      "Sample: --------temperature: 0.9 ---------\n"
     ]
    },
    {
     "data": {
      "text/html": [
       "<span style=\"background-color:#d8daef;\"> Mohammedans</span><span style=\"background-color:#d4e6f1;\">; and he was </span>to<span style=\"background-color:#eadbd8;\">rn the relation of</span><span style=\"background-color:#d8daef;\"><br>religion </span><span style=\"background-color:#d8daef;\">was generally </span><span style=\"background-color:#eadbd8;\">contrary to the t</span>wo liar to Holy. It we saw<span style=\"background-color:#ecf3cf;\"> Sextus Empiricus </span>say<span style=\"background-color:#ebdef0;\">s in<br>which he </span><span style=\"background-color:#d4efdf;\">has become to</span> u<span style=\"background-color:#d4efdf;\">s. Philosophy, </span><span style=\"background-color:#d8daef;\">consciousness </span>“<span style=\"background-color:#d8daef;\">is the life of </span><span style=\"background-color:#d4efdf;\">right and the other</span>”<br>"
      ],
      "text/plain": [
       "<IPython.core.display.HTML object>"
      ]
     },
     "metadata": {},
     "output_type": "display_data"
    },
    {
     "data": {
      "text/html": [
       "<small><p style=\"text-align:right;\">Sources: <span style=\"background-color:#d8daef;\">Georg Wilhelm Hegel: The History of Philosophy: Volume 3 of 3</span>, <span style=\"background-color:#d4e6f1;\">Immanuel Kant: Kant's Critique of Judgement</span>, <span style=\"background-color:#eadbd8;\">Immanuel Kant: The Critique of Pure Reason</span>, <span style=\"background-color:#eadbd8;\">Friedrich Nietzsche: The Will to Power, Books I and II</span>, <span style=\"background-color:#ecf3cf;\">Georg Wilhelm Hegel: Hegel's Lectures on the History of Philosophy: Vol. 2 of 3</span>, <span style=\"background-color:#ebdef0;\">Friedrich Nietzsche: The Will to Power, Books III and IV</span>, <span style=\"background-color:#d4efdf;\">Georg Wilhelm Hegel: Hegel's Lectures on the History of Philosophy: Vol. 1 of 3</span></p></small>"
      ],
      "text/plain": [
       "<IPython.core.display.HTML object>"
      ]
     },
     "metadata": {},
     "output_type": "display_data"
    },
    {
     "name": "stdout",
     "output_type": "stream",
     "text": [
      "--------temperature: 0.95 ---------\n"
     ]
    },
    {
     "data": {
      "text/html": [
       " Venelope, _<span style=\"background-color:#ebdef0;\"><br>     But </span>fears se<span style=\"background-color:#eadbd8;\">minate end</span><span style=\"background-color:#e2d7d5;\">ured them </span>forward me<span style=\"background-color:#ebdef0;\">n<br>     Tho</span>u fool! crow!<br><span style=\"background-color:#e2d7d5;\">     Well, </span>weary the--<span style=\"background-color:#e2d7d5;\">hath become s</span><span style=\"background-color:#d8daef;\">pringing, </span><span style=\"background-color:#e2d7d5;\">weary of s</span>toma, vious, aby,<br>car"
      ],
      "text/plain": [
       "<IPython.core.display.HTML object>"
      ]
     },
     "metadata": {},
     "output_type": "display_data"
    },
    {
     "data": {
      "text/html": [
       "<small><p style=\"text-align:right;\">Sources: <span style=\"background-color:#ebdef0;\">Friedrich Nietzsche: Beyond Good and Evil</span>, <span style=\"background-color:#eadbd8;\">Friedrich Nietzsche: The Will to Power, Books I and II</span>, <span style=\"background-color:#e2d7d5;\">Friedrich Nietzsche: The Joyful Wisdom</span>, <span style=\"background-color:#e2d7d5;\">Friedrich Nietzsche: Thus Spake Zarathustra</span>, <span style=\"background-color:#d8daef;\">Georg Wilhelm Hegel: The History of Philosophy: Volume 3 of 3</span></p></small>"
      ],
      "text/plain": [
       "<IPython.core.display.HTML object>"
      ]
     },
     "metadata": {},
     "output_type": "display_data"
    },
    {
     "name": "stdout",
     "output_type": "stream",
     "text": [
      "--------temperature: 1.0 ---------\n"
     ]
    },
    {
     "data": {
      "text/html": [
       " 73<br><br>  § 74-74. Fordor<span style=\"background-color:#d8daef;\">f categories</span><span style=\"background-color:#d8daef;\">al simple </span><span style=\"background-color:#d8daef;\">Thought as </span>à priori.”<br>213<span style=\"background-color:#d4e6f1;\"><br><br>  § 86. </span><span style=\"background-color:#d8daef;\">Malebranche, </span><span style=\"background-color:#e2d7d5;\">                 By the </span><span style=\"background-color:#d0ece7;\">Existence of the</span><span style=\"background-color:#ecf3cf;\"> Physics           </span>249<br><br>  §"
      ],
      "text/plain": [
       "<IPython.core.display.HTML object>"
      ]
     },
     "metadata": {},
     "output_type": "display_data"
    },
    {
     "data": {
      "text/html": [
       "<small><p style=\"text-align:right;\">Sources: <span style=\"background-color:#d8daef;\">Georg Wilhelm Hegel: The History of Philosophy: Volume 3 of 3</span>, <span style=\"background-color:#d4e6f1;\">Immanuel Kant: Kant's Critique of Judgement</span>, <span style=\"background-color:#e2d7d5;\">Friedrich Nietzsche: The Joyful Wisdom</span>, <span style=\"background-color:#d0ece7;\">Friedrich Nietzsche: Early Greek Philosophy & Other Essays</span>, <span style=\"background-color:#ecf3cf;\">Georg Wilhelm Hegel: Hegel's Lectures on the History of Philosophy: Vol. 2 of 3</span></p></small>"
      ],
      "text/plain": [
       "<IPython.core.display.HTML object>"
      ]
     },
     "metadata": {},
     "output_type": "display_data"
    },
    {
     "name": "stdout",
     "output_type": "stream",
     "text": [
      "--------temperature: 1.05 ---------\n"
     ]
    },
    {
     "data": {
      "text/html": [
       "<span style=\"background-color:#e5e8e8;\"> ^paragraph 5}<br><br>* </span><span style=\"background-color:#ebdef0;\">The sight </span><span style=\"background-color:#e5e8e8;\">in the world is not </span>sur<span style=\"background-color:#d4efdf;\">round<br>and </span><span style=\"background-color:#d8daef;\">in its development </span><span style=\"background-color:#d8daef;\">is scholastic </span><span style=\"background-color:#ebdef0;\">would be a l</span><span style=\"background-color:#d8daef;\">ong success</span>. And<span style=\"background-color:#d8daef;\"> we<br>would </span><span style=\"background-color:#d4efdf;\">we do not know whether </span><span style=\"background-color:#e5e8e8;\">the action of thi</span><span style=\"background-color:#edebd0;\">ngs as it is</span><span style=\"background-color:#d8daef;\"><br>in itself and i</span><span style=\"background-color:#d8daef;\">ts immediate </span><span style=\"background-color:#eadbd8;\">intuition, as in </span><span style=\"background-color:#e5e8e8;\">consciousness of this o</span>rder<span style=\"background-color:#d4efdf;\"><br>essentially r</span>"
      ],
      "text/plain": [
       "<IPython.core.display.HTML object>"
      ]
     },
     "metadata": {},
     "output_type": "display_data"
    },
    {
     "data": {
      "text/html": [
       "<small><p style=\"text-align:right;\">Sources: <span style=\"background-color:#e5e8e8;\">Immanuel Kant: The Critique of Practical Reason</span>, <span style=\"background-color:#ebdef0;\">Friedrich Nietzsche: The Will to Power, Books III and IV</span>, <span style=\"background-color:#d4efdf;\">Georg Wilhelm Hegel: Hegel's Lectures on the History of Philosophy: Vol. 1 of 3</span>, <span style=\"background-color:#d8daef;\">Georg Wilhelm Hegel: The History of Philosophy: Volume 3 of 3</span>, <span style=\"background-color:#edebd0;\">Immanuel Kant: Kant's Prolegomena</span>, <span style=\"background-color:#eadbd8;\">Immanuel Kant: The Critique of Pure Reason</span></p></small>"
      ],
      "text/plain": [
       "<IPython.core.display.HTML object>"
      ]
     },
     "metadata": {},
     "output_type": "display_data"
    },
    {
     "name": "stdout",
     "output_type": "stream",
     "text": [
      "--------temperature: 1.1 ---------\n"
     ]
    }
   ],
   "source": [
    "dt0 = time.time()\n",
    "print(\"training...\")\n",
    "for iter in range(start_iter, params['max_iterations']):\n",
    "    print(f\"\\rIteration: {iter+1:5d}/{((iter+1)//params['sample_every_n_iterations']+1)*params['sample_every_n_iterations']}/{params['max_iterations']}\", end=\"\", flush=True)\n",
    "    # every once in a while evaluate the loss on train and val sets\n",
    "    if (iter + 1) % params['sample_every_n_iterations'] == 0 or iter == params['max_iterations'] - 1:\n",
    "        dt = time.time()\n",
    "        print(f\"\\rloss eval\", end=\"\", flush=True)\n",
    "        losses = estimate_loss(device)\n",
    "        print(\n",
    "            f\"step {iter+1}: train loss {losses['train']:.4f}, val loss {losses['val']:.4f}, time {(dt-dt0)/params['sample_every_n_iterations']:.3f} sec/iter\"\n",
    "        )\n",
    "        print(\"Sample: \", end=\"\", flush=True)\n",
    "        for temperature in [0.9, 0.95, 1.0, 1.05, 1.1]:\n",
    "            print(f\"--------temperature: {temperature} ---------\")\n",
    "            generate_sample(td, device, toks=50, temperature=temperature)\n",
    "        print(\"-------------------------------------------\")\n",
    "        dt0 = time.time()\n",
    "    # sample a batch of data\n",
    "    xb, yb = get_torch_batch(td, params['batch_size'], device, \"train\")\n",
    "    # evaluate the loss\n",
    "    do_train_step(xb, yb)\n",
    "    start_iter = iter"
   ]
  },
  {
   "cell_type": "code",
   "execution_count": null,
   "metadata": {
    "id": "yZozsv2RdK90"
   },
   "outputs": [],
   "source": [
    "txt = generate_sample(td, device, toks=100, temperature=1.2)\n",
    "print(txt)\n",
    "td.source_highlight(txt)"
   ]
  },
  {
   "cell_type": "code",
   "execution_count": null,
   "metadata": {
    "id": "M0EJVYX2MdR7"
   },
   "outputs": [],
   "source": []
  }
 ],
 "metadata": {
  "@webio": {
   "lastCommId": "ec3a4d2d-8063-4bfd-a4a2-ee070d3272f7",
   "lastKernelId": "1acc2b74-f51e-477b-910a-a5519dad53b9"
  },
  "accelerator": "GPU",
  "colab": {
   "collapsed_sections": [
    "VmWbteSFQtfq",
    "yWE_ZZMKEARV"
   ],
   "include_colab_link": true,
   "machine_shape": "hm",
   "name": "torch_transformer_poet.ipynb",
   "provenance": []
  },
  "gpuClass": "premium",
  "kernelspec": {
   "display_name": "Python 3 (ipykernel)",
   "language": "python",
   "name": "python3"
  },
  "language_info": {
   "codemirror_mode": {
    "name": "ipython",
    "version": 3
   },
   "file_extension": ".py",
   "mimetype": "text/x-python",
   "name": "python",
   "nbconvert_exporter": "python",
   "pygments_lexer": "ipython3",
   "version": "3.10.9"
  }
 },
 "nbformat": 4,
 "nbformat_minor": 4
}
