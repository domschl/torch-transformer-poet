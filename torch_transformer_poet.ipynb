{
  "cells": [
    {
      "cell_type": "markdown",
      "metadata": {
        "id": "view-in-github",
        "colab_type": "text"
      },
      "source": [
        "<a href=\"https://colab.research.google.com/github/domschl/torch-transformer-poet/blob/main/torch_transformer_poet.ipynb\" target=\"_parent\"><img src=\"https://colab.research.google.com/assets/colab-badge.svg\" alt=\"Open In Colab\"/></a>"
      ]
    },
    {
      "cell_type": "markdown",
      "metadata": {
        "id": "fEXNOWhCEAPk"
      },
      "source": [
        "# Torch-Transformer-Poet"
      ]
    },
    {
      "cell_type": "markdown",
      "metadata": {
        "id": "DabS0VZ-1Zp0"
      },
      "source": [
        "Please review [ml-indie-tools](https://github.com/domschl/ml-indie-tools), a collection machine learning tools that provides support for more environment indepent code. It will access your Google Drive when using with Google Colab."
      ]
    },
    {
      "cell_type": "code",
      "execution_count": 1,
      "metadata": {
        "id": "jtpy59Yq-Qfz",
        "outputId": "50a8bc5a-8e5c-40b4-c030-2b8b6125d7f9",
        "colab": {
          "base_uri": "https://localhost:8080/"
        }
      },
      "outputs": [
        {
          "output_type": "stream",
          "name": "stdout",
          "text": [
            "Looking in indexes: https://pypi.org/simple, https://us-python.pkg.dev/colab-wheels/public/simple/\n",
            "Requirement already satisfied: ml-indie-tools in /usr/local/lib/python3.8/dist-packages (0.4.3)\n"
          ]
        }
      ],
      "source": [
        "!pip install -U ml-indie-tools"
      ]
    },
    {
      "cell_type": "code",
      "execution_count": 2,
      "metadata": {
        "id": "EgLLjG4yQtft"
      },
      "outputs": [],
      "source": [
        "import logging\n",
        "import os\n",
        "import sys\n",
        "import copy\n",
        "import json\n",
        "import time\n",
        "import datetime\n",
        "import random\n",
        "import numpy as np\n",
        "\n",
        "import torch"
      ]
    },
    {
      "cell_type": "code",
      "execution_count": 3,
      "metadata": {
        "id": "U5T4m6earb1e"
      },
      "outputs": [],
      "source": [
        "from ml_indie_tools.env_tools import MLEnv\n",
        "from ml_indie_tools.Gutenberg_Dataset import Gutenberg_Dataset\n",
        "from ml_indie_tools.Text_Dataset import Text_Dataset\n",
        "\n",
        "from ml_indie_tools.pytorch_custom_layers import MultiHeadSelfAttention"
      ]
    },
    {
      "cell_type": "markdown",
      "metadata": {
        "id": "VmWbteSFQtfq"
      },
      "source": [
        "## Preliminary\n",
        "\n",
        "A pytorch deep multi-head attention model for text generation following Andrej Karpathy's [video-lecture-ng](https://github.com/karpathy/ng-video-lecture/blob/master/gpt.py)\n",
        "\n",
        "This code can use either CPU, GPU, or Apple Silicon. Google Colab is supported too, select the corresponding Colab runtime (menu: **`Runtime / Change runtime type`**)"
      ]
    },
    {
      "cell_type": "markdown",
      "metadata": {
        "id": "sfZg31sMEAP1"
      },
      "source": [
        "## 0. Environment"
      ]
    },
    {
      "cell_type": "code",
      "execution_count": 4,
      "metadata": {
        "id": "llPw84PkEAP2",
        "outputId": "ff25ccf6-c239-41de-a7f0-7ec52479e629",
        "colab": {
          "base_uri": "https://localhost:8080/",
          "height": 52
        }
      },
      "outputs": [
        {
          "output_type": "execute_result",
          "data": {
            "text/plain": [
              "'OS: Linux, Python: 3.8.10, Colab Jupyter Notebook Pytorch: 1.13.1+cu116, GPU: NVIDIA A100-SXM4-40GB (3MiB / 40960MiB), CPU'"
            ],
            "application/vnd.google.colaboratory.intrinsic+json": {
              "type": "string"
            }
          },
          "metadata": {},
          "execution_count": 4
        }
      ],
      "source": [
        "cached_batch_data = None   # Do regenerate time-consuming training data, if aleady cached.\n",
        "\n",
        "ml_env = MLEnv(platform='pt', accelerator='fastest')\n",
        "ml_env.describe()"
      ]
    },
    {
      "cell_type": "code",
      "execution_count": 5,
      "metadata": {
        "id": "t-TP3Pnsrb1f",
        "outputId": "dc5d64e6-5d01-4863-ad0f-0c3d1a27d5de",
        "colab": {
          "base_uri": "https://localhost:8080/"
        }
      },
      "outputs": [
        {
          "output_type": "stream",
          "name": "stdout",
          "text": [
            "Root path (all projects) : /content/drive/My Drive (This will be '.' (current dir) for local projects, and a google drive path for Colab)\n",
            "Project path             : /content/drive/My Drive/Colab Notebooks/philosophers (Changes to the file system happen only below this project path\n",
            "Model path (snapshots)   : /content/drive/My Drive/Colab Notebooks/philosophers/model/ngpt_philosophers_v1_pt (Model weights and snapshots are stored here)\n",
            "Data path (training data): /content/drive/My Drive/Colab Notebooks/philosophers/data (Training data will be downloaded here)\n",
            "Log dir (tensorboard)    : ./logs (it doesn't work to put logs on gdrive due to caching, hence local dir)\n"
          ]
        }
      ],
      "source": [
        "# project_name = 'women_writers'\n",
        "project_name='philosophers'\n",
        "model_name=f'ngpt_{project_name}_v1_pt'\n",
        "\n",
        "# NOTICE: This will request access to Google Drive, if running on Google Colab. Google Drive is used to store snapshots\n",
        "# training data. See project ml-indie-tools: https://github.com/domschl/ml-indie-tools \n",
        "#\n",
        "# Note: you need to allow popups in your browser for COLAB, otherwise you won't see the google-drive login box, and drive access will fail!\n",
        "\n",
        "root_path, project_path, model_path, data_path, log_path = ml_env.init_paths(project_name=project_name, model_name=model_name)\n",
        "\n",
        "print(f\"Root path (all projects) : {root_path} (This will be '.' (current dir) for local projects, and a google drive path for Colab)\")\n",
        "print(f\"Project path             : {project_path} (Changes to the file system happen only below this project path\")\n",
        "print(f\"Model path (snapshots)   : {model_path} (Model weights and snapshots are stored here)\")\n",
        "print(f\"Data path (training data): {data_path} (Training data will be downloaded here)\")\n",
        "print(f\"Log dir (tensorboard)    : {log_path} (it doesn't work to put logs on gdrive due to caching, hence local dir)\")"
      ]
    },
    {
      "cell_type": "markdown",
      "metadata": {
        "id": "AIkcYcEuQtfx"
      },
      "source": [
        "##  1. Text library\n",
        "\n",
        "`Text_Dataset` and `Gutenberg_Dataset` classes: libraries for training, \n",
        "encoding, batch generation, and formatted source display. It read some \n",
        "books from Project Gutenberg and supports creation of training batches. \n",
        "The output functions support highlighting to allow to compare generated \n",
        "texts with the actual sources to help to identify identical (memorized) \n",
        "parts."
      ]
    },
    {
      "cell_type": "code",
      "execution_count": 6,
      "metadata": {
        "id": "HjkelBcNO5WV"
      },
      "outputs": [],
      "source": [
        "use_dark_mode=False # Set to false for white background. HTML-text-compare uses background-colorization to identify different sources. Those background colors are dependent on the theme type."
      ]
    },
    {
      "cell_type": "code",
      "execution_count": 7,
      "metadata": {
        "id": "BF8eyWnCrb1h"
      },
      "outputs": [],
      "source": [
        "logging.basicConfig(level=logging.INFO)\n",
        "cache_dir = os.path.join(data_path, 'gutenberg_cache')\n",
        "gd = Gutenberg_Dataset(cache_dir=cache_dir)"
      ]
    },
    {
      "cell_type": "code",
      "execution_count": 8,
      "metadata": {
        "id": "C66X7ynnrb1h",
        "outputId": "d4d70206-b1e2-4008-9f64-c7065e8ff076",
        "colab": {
          "base_uri": "https://localhost:8080/"
        }
      },
      "outputs": [
        {
          "output_type": "stream",
          "name": "stdout",
          "text": [
            "20 matching books found with search {'author': ['Immanuel Kant', 'Friedrich Nietzsche', 'Wilhelm Hegel'], 'language': ['english']}.\n"
          ]
        }
      ],
      "source": [
        "if project_name == 'women_writers':  # sample searches\n",
        "    search_spec= {\n",
        "        \"author\": [\"Emily Brontë\", \"Jane Austen\", \"Virginia Woolf\"], \n",
        "        \"language\": [\"english\"]\n",
        "    }\n",
        "elif project_name == 'philosophers':\n",
        "    search_spec = {\n",
        "        \"author\": [\"Immanuel Kant\", \"Friedrich Nietzsche\", \"Wilhelm Hegel\"],\n",
        "        \"language\": [\"english\"]\n",
        "    }\n",
        "    \n",
        "book_list=gd.search(search_spec)\n",
        "book_cnt = len(book_list)\n",
        "print(f\"{book_cnt} matching books found with search {search_spec}.\")\n",
        "if book_cnt<40:\n",
        "    # Note: please verify that book_cnt is 'reasonable'. If you plan to use a large number of texts, \n",
        "    # consider [mirroring Gutenberg](https://github.com/domschl/ml-indie-tools#working-with-a-local-mirror-of-project-gutenberg)\n",
        "    book_list = gd.insert_book_texts(book_list, download_count_limit=book_cnt)  \n",
        "else:\n",
        "    logging.error(\"Please verify your book_list, a large number of books is scheduled for download. ABORTED.\")"
      ]
    },
    {
      "cell_type": "code",
      "execution_count": 9,
      "metadata": {
        "id": "MH6_7IU3upOd",
        "outputId": "653e8a72-e00f-42be-fe96-d1dd8e0b916e",
        "colab": {
          "base_uri": "https://localhost:8080/"
        }
      },
      "outputs": [
        {
          "output_type": "stream",
          "name": "stdout",
          "text": [
            "0: The History of Philosophy: Volume 3 of 3 - Georg Wilhelm Hegel, 58169\n",
            "1: The Will to Power, Books III and IV - Friedrich Nietzsche, 52915\n",
            "2: The Will to Power, Books I and II - Friedrich Nietzsche, 52914\n",
            "3: The Joyful Wisdom - Friedrich Nietzsche, 52881\n",
            "4: Kant's Prolegomena - Immanuel Kant, 52821\n",
            "5: Hegel's Lectures on the History of Philosophy: Vol. 2 of 3 - Georg Wilhelm Hegel, 51636\n",
            "6: Hegel's Lectures on the History of Philosophy: Vol. 1 of 3 - Georg Wilhelm Hegel, 51635\n",
            "7: Early Greek Philosophy & Other Essays - Friedrich Nietzsche, 51548\n",
            "8: Perpetual Peace - Immanuel Kant, 50922\n",
            "9: Kant's Critique of Judgement - Immanuel Kant, 48433\n",
            "10: Thoughts Out of Season, Part 2 - Friedrich Nietzsche, 38226\n",
            "11: Human, All Too Human - Friedrich Nietzsche, 38145\n",
            "12: We Philologists, Volume 8 of 18 - Friedrich Nietzsche, 18267\n",
            "13: The Metaphysical Elements of Ethics - Immanuel Kant, 5684\n",
            "14: The Critique of Practical Reason - Immanuel Kant, 5683\n",
            "15: Fundamental Principles of the Metaphysic of Morals - Immanuel Kant, 5682\n",
            "16: Thoughts out of Season, Part One - Friedrich Nietzsche, 5652\n",
            "17: Beyond Good and Evil - Friedrich Nietzsche, 4363\n",
            "18: The Critique of Pure Reason - Immanuel Kant, 4280\n",
            "19: Thus Spake Zarathustra - Friedrich Nietzsche, 1998\n"
          ]
        }
      ],
      "source": [
        "for i in range(len(book_list)):\n",
        "    print(f\"{i}: {book_list[i]['title']} - {book_list[i]['author']}, {book_list[i]['ebook_id']}\")"
      ]
    },
    {
      "cell_type": "code",
      "execution_count": 11,
      "metadata": {
        "id": "2jBH3Z15rb1h",
        "outputId": "0eb31da7-5009-47c5-bb6c-af1b7725d6ee",
        "colab": {
          "base_uri": "https://localhost:8080/"
        }
      },
      "outputs": [
        {
          "output_type": "stream",
          "name": "stdout",
          "text": [
            "Using:\n",
            "1: The History of Philosophy: Volume 3 of 3 - Georg Wilhelm Hegel\n",
            "2: The Will to Power, Books III and IV - Friedrich Nietzsche\n",
            "3: The Will to Power, Books I and II - Friedrich Nietzsche\n",
            "4: The Joyful Wisdom - Friedrich Nietzsche\n",
            "5: Kant's Prolegomena - Immanuel Kant\n",
            "6: Hegel's Lectures on the History of Philosophy: Vol. 2 of 3 - Georg Wilhelm Hegel\n",
            "7: Hegel's Lectures on the History of Philosophy: Vol. 1 of 3 - Georg Wilhelm Hegel\n",
            "8: Early Greek Philosophy & Other Essays - Friedrich Nietzsche\n",
            "9: Perpetual Peace - Immanuel Kant\n",
            "10: Kant's Critique of Judgement - Immanuel Kant\n",
            "11: Thoughts Out of Season, Part 2 - Friedrich Nietzsche\n",
            "12: Human, All Too Human - Friedrich Nietzsche\n",
            "13: We Philologists, Volume 8 of 18 - Friedrich Nietzsche\n",
            "14: The Metaphysical Elements of Ethics - Immanuel Kant\n",
            "15: The Critique of Practical Reason - Immanuel Kant\n",
            "16: Fundamental Principles of the Metaphysic of Morals - Immanuel Kant\n",
            "17: Thoughts out of Season, Part One - Friedrich Nietzsche\n",
            "18: Beyond Good and Evil - Friedrich Nietzsche\n",
            "19: The Critique of Pure Reason - Immanuel Kant\n",
            "20: Thus Spake Zarathustra - Friedrich Nietzsche\n",
            "\n",
            "Starting NGRAM tokinizer with token length from 1..12 with a max of 25000 unique tokens, this can take considerable time...\n"
          ]
        }
      ],
      "source": [
        "MAX_TOKENS = 25000  # This becomes vocab_size\n",
        "MAX_NGRAM_LEN = 12   # Max length of a token\n",
        "\n",
        "if project_name == 'women_writers':\n",
        "    select = (\"Bennett\", \"1342\", \"5670\", \"1245\", \"161\", \"141\", \"121\", \"105\", \"Susan\", \"Wuthering\", \"Emma\", \"Voyage\")  # List unique single-words from title or ebook_id to select a given book\n",
        "    sub_book_list = [book_list[i] for i in range(len(book_list)) if not set([book_list[i]['ebook_id']]+book_list[i]['title'].split(' ')).isdisjoint(set(select))]\n",
        "else:\n",
        "    sub_book_list = book_list\n",
        "    \n",
        "print(\"Using:\")\n",
        "for i in range(len(sub_book_list)):\n",
        "    print(f\"{i+1}: {sub_book_list[i]['title']} - {sub_book_list[i]['author']}\")\n",
        "\n",
        "textlib_dataset = None  # Forces re-caching\n",
        "td = Text_Dataset(sub_book_list)\n",
        "print(\"\")\n",
        "print(f\"Starting NGRAM tokinizer with token length from 1..{MAX_NGRAM_LEN} with a max of {MAX_TOKENS} unique tokens,\")\n",
        "print(\"this can take considerable time...\")\n",
        "td.init_tokenizer(tokenizer='ngram', max_ngrams=MAX_NGRAM_LEN, max_tokens=MAX_TOKENS)\n"
      ]
    },
    {
      "cell_type": "code",
      "execution_count": 12,
      "metadata": {
        "id": "f7_tc2Lirb1i",
        "outputId": "56984788-d420-4d83-c292-27dffd36daec",
        "colab": {
          "base_uri": "https://localhost:8080/"
        }
      },
      "outputs": [
        {
          "output_type": "stream",
          "name": "stdout",
          "text": [
            "2240694 records\n"
          ]
        }
      ],
      "source": [
        "SEQUENCE_LEN = 192\n",
        "# SUB_PROBABILITY = 0.15  # like BERT\n",
        "\n",
        "td.init_getitem(sample_type='encoded', sample_length=SEQUENCE_LEN+1, content_stepping=1)\n",
        "\n",
        "num_records = len(td)\n",
        "\n",
        "print(f\"{num_records} records\")"
      ]
    },
    {
      "cell_type": "code",
      "execution_count": 13,
      "metadata": {
        "id": "zZbbsNm0cOeW"
      },
      "outputs": [],
      "source": [
        "def get_sample_batch(td, batch_size):\n",
        "    # generate a small batch of data of inputs x and targets y\n",
        "    # ix = torch.randint(len(data) - block_size, (batch_size,))\n",
        "    # x = torch.stack([data[i : i + block_size] for i in ix])\n",
        "    # y = torch.stack([data[i + 1 : i + block_size + 1] for i in ix])\n",
        "    # x, y = x.to(device), y.to(device)\n",
        "    # return x, y\n",
        "    for i in range(batch_size):\n",
        "        data = td.get_random_item()\n",
        "        Xi = data[:-1]\n",
        "        yi = data[1:]\n",
        "        if i==0:\n",
        "            # smpX=np.array(Xi, dtype=np.float32)\n",
        "            smpX=np.array(Xi, dtype=np.int32)\n",
        "            smpy=np.array(yi, dtype=np.int32)\n",
        "        else:\n",
        "            # smpX = np.vstack((smpX, np.array(Xi, dtype=np.float32)))\n",
        "            smpX = np.vstack((smpX, np.array(Xi, dtype=np.int32)))\n",
        "            smpy = np.vstack((smpy, np.array(yi, dtype=np.int32)))\n",
        "    return np.array(smpX), np.array(smpy)"
      ]
    },
    {
      "cell_type": "code",
      "execution_count": 14,
      "metadata": {
        "id": "TI3Fx6bNuR9A",
        "outputId": "dd1b3c89-df92-4f59-d551-41f1aaa37557",
        "colab": {
          "base_uri": "https://localhost:8080/"
        }
      },
      "outputs": [
        {
          "output_type": "stream",
          "name": "stdout",
          "text": [
            "[0](l=192): X=>ing the old man straight in the eye.\n",
            "\n",
            "“Let him go, he is gone. And though it honoureth thee that thou speakest\n",
            "only in praise of this dead one, yet thou knowest as well as I WHO he\n",
            "was, and that he went curious ways.”\n",
            "\n",
            "“To speak before three eyes,” said the old pope cheerfully (he was blind\n",
            "of one eye), “in divine matters I am more enlightened than Zarathustra\n",
            "himself--and may well be so.\n",
            "\n",
            "My love served him long years, my will followed all his will. A good\n",
            "servant, however, knoweth everything, and many a thing even which a\n",
            "master hideth from himself.\n",
            "\n",
            "He was a hidden God, full of secrecy. Verily, he did not come by his\n",
            "son otherwise than by secret ways. At the door of his faith standeth\n",
            "adultery.\n",
            "\n",
            "Whoever extolleth him as a God of love<,\n",
            "y=>old man straight in the eye.\n",
            "\n",
            "“Let him go, he is gone. And though it honoureth thee that thou speakest\n",
            "only in praise of this dead one, yet thou knowest as well as I WHO he\n",
            "was, and that he went curious ways.”\n",
            "\n",
            "“To speak before three eyes,” said the old pope cheerfully (he was blind\n",
            "of one eye), “in divine matters I am more enlightened than Zarathustra\n",
            "himself--and may well be so.\n",
            "\n",
            "My love served him long years, my will followed all his will. A good\n",
            "servant, however, knoweth everything, and many a thing even which a\n",
            "master hideth from himself.\n",
            "\n",
            "He was a hidden God, full of secrecy. Verily, he did not come by his\n",
            "son otherwise than by secret ways. At the door of his faith standeth\n",
            "adultery.\n",
            "\n",
            "Whoever extolleth him as a God of love, d<\n",
            "[1](l=192): X=>§ 7; Diog. Laërt. IX. 69, 70.\n",
            "\n",
            "[194] Cf. _supra_, p. 212.\n",
            "\n",
            "[195] Diog. Laërt. IX. 68.\n",
            "\n",
            "[196] Sext. Emp. Pyrrh. Hypot. I. c. 8, § 17.\n",
            "\n",
            "[197] Sext. Emp. Pyrrh. Hyp. I. c. 14, §§ 40-44.\n",
            "\n",
            "[198] Sext. Emp, Pyrrh. Hyp. I. c. 14, §§ 79-82, 85-89.\n",
            "\n",
            "[199] Sext. Emp. Pyrrh. Hyp. I. c. 14, §§ 91, 92.\n",
            "\n",
            "[200] Sext. Emp. Pyrrh. Hyp. I. c.<,\n",
            "y=> 7; Diog. Laërt. IX. 69, 70.\n",
            "\n",
            "[194] Cf. _supra_, p. 212.\n",
            "\n",
            "[195] Diog. Laërt. IX. 68.\n",
            "\n",
            "[196] Sext. Emp. Pyrrh. Hypot. I. c. 8, § 17.\n",
            "\n",
            "[197] Sext. Emp. Pyrrh. Hyp. I. c. 14, §§ 40-44.\n",
            "\n",
            "[198] Sext. Emp, Pyrrh. Hyp. I. c. 14, §§ 79-82, 85-89.\n",
            "\n",
            "[199] Sext. Emp. Pyrrh. Hyp. I. c. 14, §§ 91, 92.\n",
            "\n",
            "[200] Sext. Emp. Pyrrh. Hyp. I. c. 1<\n"
          ]
        }
      ],
      "source": [
        "test_x, test_y = get_sample_batch(td, 2)\n",
        "for i in range(len(test_x)):\n",
        "    xi=[int(x) for x in test_x[i]]\n",
        "    print(f\"[{i}](l={len(xi)}): X=>{td.decode(xi)}<,\\ny=>{td.decode(test_y[i])}<\")"
      ]
    },
    {
      "cell_type": "code",
      "execution_count": 15,
      "metadata": {
        "id": "qnMxRkkmcOeX",
        "outputId": "8823866a-9a9a-49b8-f8c9-be29964ae0bd",
        "colab": {
          "base_uri": "https://localhost:8080/"
        }
      },
      "outputs": [
        {
          "output_type": "execute_result",
          "data": {
            "text/plain": [
              "((2, 192), (2, 192))"
            ]
          },
          "metadata": {},
          "execution_count": 15
        }
      ],
      "source": [
        "test_x.shape, test_y.shape"
      ]
    },
    {
      "cell_type": "markdown",
      "metadata": {
        "id": "30hi0UPtEAQG"
      },
      "source": [
        "## 2. data for texts"
      ]
    },
    {
      "cell_type": "code",
      "execution_count": 16,
      "metadata": {
        "id": "jn_LcJ6g9Mzy"
      },
      "outputs": [],
      "source": [
        "def expand_name_template(template, params):\n",
        "    exp=copy.copy(template)\n",
        "    for key in params:\n",
        "        src=\"{\"+key+\"}\"\n",
        "        dst=f\"{params[key]}\"\n",
        "        exp=exp.replace(src,dst).replace('[','(').replace(']',')')\n",
        "    return exp\n",
        "\n",
        "def save_model_metadata(epoch, suffix='std'):\n",
        "    meta_file = os.path.join(model_path, f'model_meta_{suffix}.json')\n",
        "    params['current_epoch'] = epoch\n",
        "    try:\n",
        "        with open(meta_file, 'w') as f:\n",
        "            f.write(json.dumps(params))\n",
        "    except Exception as e:\n",
        "        print(f\"Failed to store model metadata at {model_path}: {e}\")\n",
        "        return False\n",
        "    return True\n",
        "\n",
        "def read_model_metadata(suffix=\"std\"):\n",
        "    meta_file = os.path.join(model_path, f'model_meta_{suffix}.json')\n",
        "    try:\n",
        "        with open(meta_file, 'r') as f:\n",
        "            meta = json.load(f)\n",
        "    except Exception as e:\n",
        "        print(f\"Cannot access project meta-data at {meta_file}: {e}, starting anew.\")\n",
        "        return None\n",
        "    return meta\n",
        "\n",
        "def is_metadata_compatible(params, meta):\n",
        "    is_valid=True\n",
        "    keys=set(list(params.keys())+list(meta.keys()))\n",
        "    for key in keys:\n",
        "        if key in updatable_keys:\n",
        "            continue\n",
        "        if key not in meta:\n",
        "            print(f\"Key {key} not available in last checkpoint model_meta, params[{key}]: {params[key]}, cannot import incompatible model. Put key in `updatable_keys` list, if irrelevant.\")\n",
        "            is_valid = False\n",
        "        elif key not in params:\n",
        "            print(f\"Key {key} not available in params, last checkpoint model_meta[{key}]: {meta[key]}, cannot import incompatible model. Put key in `updatable_keys` list, if irrelevant.\")\n",
        "            is_valid = False\n",
        "        elif meta[key]!=params[key]:\n",
        "            print(f\"Last checkpoint model_meta[{key}]: {meta[key]} != params[{key}]: {params[key]}, cannot import incompatible model. Put key in `updatable_keys` list, if irrelevant.\")\n",
        "            is_valid = False\n",
        "    if is_valid is False:\n",
        "        print(\"Aborting import.\")\n",
        "        return False\n",
        "    return True"
      ]
    },
    {
      "cell_type": "code",
      "execution_count": 32,
      "metadata": {
        "id": "znpIUA3ig3gO",
        "outputId": "4aeb5c42-79e4-4fd7-ad10-2e8219d1bf19",
        "colab": {
          "base_uri": "https://localhost:8080/"
        }
      },
      "outputs": [
        {
          "output_type": "stream",
          "name": "stdout",
          "text": [
            "Cannot access project meta-data at /content/drive/My Drive/Colab Notebooks/philosophers/model/ngpt_philosophers_v1_pt/model_meta_48x16x{units}x25000.json: [Errno 2] No such file or directory: '/content/drive/My Drive/Colab Notebooks/philosophers/model/ngpt_philosophers_v1_pt/model_meta_48x16x{units}x25000.json', starting anew.\n",
            "Starting new model\n",
            "{'name': '{mhsa_layers}x{heads}x{units}x{vocab_size}', 'mhsa_layers': 48, 'heads': 16, 'causal': True, 'dropout': 0.1, 'vocab_size': 25000, 'sequence_len': 192, 'embedding_size': 384, 'test_iterations': 10, 'batch_size': 64, 'learning_rate': 0.0004, 'sample_every_n_iterations': 250, 'max_iterations': 1000000}\n"
          ]
        }
      ],
      "source": [
        "vocabulary_size = td.get_unique_token_count()  # vocabulary-size\n",
        "\n",
        "attn_layers = 48;\n",
        "\n",
        "params = { # Multi-head self-attention\n",
        "    'name': '{mhsa_layers}x{heads}x{units}x{vocab_size}',\n",
        "\n",
        "    'mhsa_layers': attn_layers, \n",
        "    'heads': 16,\n",
        "    'causal': True,  # Use causal self-attention\n",
        "    'dropout': 0.1,       # no dropout: 0.0\n",
        "    'vocab_size': vocabulary_size,\n",
        "    'sequence_len': SEQUENCE_LEN,\n",
        "    'embedding_size': 384, \n",
        "    'test_iterations': 10,  # number of epocs for loss estimation\n",
        "\n",
        "    'batch_size': 64,\n",
        "    'learning_rate': 0.0004,\n",
        "    'sample_every_n_iterations': 250,\n",
        "    \n",
        "    'max_iterations': 1000000  # maximum number of training iterations\n",
        "}\n",
        "\n",
        "# if len(params['heads'])!=params['mhsa_layers']: # or len(params['units'])!=params['mhsa_layers']:\n",
        "#     print(\"ERROR: lenght of 'heads' and 'units' must be equal to mhsa_layers!\")\n",
        "    \n",
        "model_suffix = expand_name_template(params['name'], params)\n",
        "# Put 'important' params in checkpoint-pathname to separate model-data:\n",
        "checkpoint_dir = os.path.join(model_path, f\"training_checkpoints_{model_suffix}\")\n",
        "if os.path.exists(checkpoint_dir) is False:\n",
        "    os.makedirs(checkpoint_dir)\n",
        "\n",
        "# When comparing if training-data is compatible with new params set, \n",
        "# the following keys are updatable, they can be changed while continuing\n",
        "# to use existing checkpoints and continue training with those values\n",
        "# changed:\n",
        "updatable_keys=['learning_rate', 'batch_size', 'current_epoch', 'dropout', \n",
        "             'sample_every_n_epochs']\n",
        "\n",
        "# These values are taking from saved checkpoint:\n",
        "keep_keys=['current_epoch']\n",
        "\n",
        "continue_last = True\n",
        "if continue_last is False:\n",
        "    print(\"NOT continuing based on existing training! New start.\")\n",
        "\n",
        "meta = read_model_metadata(suffix=model_suffix)\n",
        "if meta is not None and is_metadata_compatible(params, meta) is True and continue_last is True:\n",
        "    for key in keep_keys:\n",
        "        if key in meta:\n",
        "            params[key]=meta[key]\n",
        "    if params is not None:\n",
        "        print(f\"Continuing last session from epoch {params['current_epoch']}\")\n",
        "    else:\n",
        "        print(f\"No previous data, starting new model\")\n",
        "else:\n",
        "    print(\"Starting new model\")\n",
        "\n",
        "print(params)"
      ]
    },
    {
      "cell_type": "code",
      "execution_count": 33,
      "metadata": {
        "id": "jY3hUuhQYzdT",
        "outputId": "c93d7933-9afd-4753-face-b91c445dd16d",
        "colab": {
          "base_uri": "https://localhost:8080/"
        }
      },
      "outputs": [
        {
          "output_type": "stream",
          "name": "stdout",
          "text": [
            "num_batches = 35010\n"
          ]
        }
      ],
      "source": [
        "num_batches = num_records // params['batch_size']\n",
        "print(f\"num_batches = {num_batches}\")"
      ]
    },
    {
      "cell_type": "code",
      "execution_count": 34,
      "metadata": {
        "id": "bgVHUkbhdK9y"
      },
      "outputs": [],
      "source": [
        "def get_torch_batch(td, batch_size, device, split=None):\n",
        "    x, y = get_sample_batch(td, batch_size)\n",
        "    return torch.tensor(x, dtype=torch.long).to(device), torch.tensor(y, dtype=torch.long).to(device)"
      ]
    },
    {
      "cell_type": "code",
      "execution_count": 35,
      "metadata": {
        "id": "JTte4VvUdK9z"
      },
      "outputs": [],
      "source": [
        "# get_torch_batch(td, 2, 'cpu')"
      ]
    },
    {
      "cell_type": "code",
      "execution_count": 36,
      "metadata": {
        "id": "QnMCWf5AZn1-"
      },
      "outputs": [],
      "source": [
        "@torch.no_grad()\n",
        "def estimate_loss(device):\n",
        "    out = {}\n",
        "    model.eval()\n",
        "    for split in [\"train\", \"val\"]:\n",
        "        losses = torch.zeros(params['test_iterations'])\n",
        "        for k in range(params['test_iterations']):\n",
        "            print(\".\", end=\"\", flush=True)\n",
        "            X, Y = get_torch_batch(td, params['batch_size'], device, split)\n",
        "            logits, loss = model(X, Y)\n",
        "            losses[k] = loss.item()\n",
        "        out[split] = losses.mean()\n",
        "    model.train()\n",
        "    print(\"\\r\", end=\"\", flush=True)\n",
        "    return out\n",
        "\n",
        "\n",
        "def generate_sample(td, device, toks=100, temperature=1.0):\n",
        "    # generate from the model\n",
        "    # context = torch.zeros((1, 1), dtype=torch.long, device=device)\n",
        "    context = torch.tensor([td.encode(' ')]).to(device)\n",
        "    txt = td.decode(model.generate(context, max_new_tokens=toks, temperature=temperature)[0].tolist())\n",
        "    td.source_highlight(txt, min_quote_size=10, dark_mode=False, display_ref_anchor=False)\n",
        "    return txt\n",
        "    # open('more.txt', 'w').write(decode(m.generate(context, max_new_tokens=10000)[0].tolist()))\n",
        "\n",
        "\n",
        "# @torch.compile\n",
        "def do_train_step(xb, yb):\n",
        "    logits, loss = model(xb, yb)\n",
        "    optimizer.zero_grad(set_to_none=True)\n",
        "    loss.backward()\n",
        "    optimizer.step()"
      ]
    },
    {
      "cell_type": "code",
      "execution_count": 37,
      "metadata": {
        "id": "9hEziJ0odK9z"
      },
      "outputs": [],
      "source": [
        "# XXX!\n",
        "device = \"cuda\" if torch.cuda.is_available() else \"cpu\"\n",
        "device = torch.device(\"mps\") if torch.backends.mps.is_available() else device"
      ]
    },
    {
      "cell_type": "code",
      "execution_count": 38,
      "metadata": {
        "id": "pdaulm1VdK9z",
        "outputId": "edd6c22a-afc2-40fb-fbc7-ac99817004f4",
        "colab": {
          "base_uri": "https://localhost:8080/"
        }
      },
      "outputs": [
        {
          "output_type": "stream",
          "name": "stdout",
          "text": [
            "creating model...\n",
            "104.418472 M parameters\n"
          ]
        }
      ],
      "source": [
        "print(\"creating model...\")\n",
        "model_cpu = MultiHeadSelfAttention(params['vocab_size'], params['embedding_size'], \n",
        "                                   params['sequence_len'], params['dropout'], \n",
        "                                   params['heads'], params['mhsa_layers'], params['causal'], device)\n",
        "model = model_cpu.to(device)\n",
        "# print the number of parameters in the model\n",
        "print(sum(p.numel() for p in model.parameters()) / 1e6, \"M parameters\")\n",
        "# create a PyTorch optimizer\n",
        "optimizer = torch.optim.AdamW(model.parameters(), lr=params['learning_rate'])\n",
        "start_iter = 0"
      ]
    },
    {
      "cell_type": "code",
      "execution_count": null,
      "metadata": {
        "tags": [],
        "id": "aZpMI7_iMdR6",
        "outputId": "ffc4f932-64dd-48f8-9b33-00091cf9ec75",
        "colab": {
          "base_uri": "https://localhost:8080/"
        }
      },
      "outputs": [
        {
          "output_type": "stream",
          "name": "stdout",
          "text": [
            "training...\n",
            "Iteration:    73/250/1000000"
          ]
        }
      ],
      "source": [
        "dt0 = time.time()\n",
        "print(\"training...\")\n",
        "for iter in range(start_iter, params['max_iterations']):\n",
        "    print(f\"\\rIteration: {iter+1:5d}/{((iter+1)//params['sample_every_n_iterations']+1)*params['sample_every_n_iterations']}/{params['max_iterations']}\", end=\"\", flush=True)\n",
        "    # every once in a while evaluate the loss on train and val sets\n",
        "    if (iter + 1) % params['sample_every_n_iterations'] == 0 or iter == params['max_iterations'] - 1:\n",
        "        dt = time.time()\n",
        "        print(f\"\\rloss eval\", end=\"\", flush=True)\n",
        "        losses = estimate_loss(device)\n",
        "        print(\n",
        "            f\"step {iter+1}: train loss {losses['train']:.4f}, val loss {losses['val']:.4f}, time {(dt-dt0)/params['sample_every_n_iterations']:.3f} sec/iter\"\n",
        "        )\n",
        "        print(\"Sample: \", end=\"\", flush=True)\n",
        "        for temperature in [1.1, 1.2]:\n",
        "            print(f\"--------temperature: {temperature} ---------\")\n",
        "            generate_sample(td, device, toks=50, temperature=temperature)\n",
        "        print(\"-------------------------------------------\")\n",
        "        dt0 = time.time()\n",
        "    # sample a batch of data\n",
        "    xb, yb = get_torch_batch(td, params['batch_size'], device, \"train\")\n",
        "    # evaluate the loss\n",
        "    do_train_step(xb, yb)\n",
        "    start_iter = iter"
      ]
    },
    {
      "cell_type": "code",
      "execution_count": null,
      "metadata": {
        "id": "yZozsv2RdK90"
      },
      "outputs": [],
      "source": [
        "txt = generate_sample(td, device, toks=100, temperature=1.2)\n",
        "print(txt)\n",
        "td.source_highlight(txt)"
      ]
    },
    {
      "cell_type": "code",
      "execution_count": null,
      "metadata": {
        "id": "M0EJVYX2MdR7"
      },
      "outputs": [],
      "source": []
    }
  ],
  "metadata": {
    "@webio": {
      "lastCommId": "ec3a4d2d-8063-4bfd-a4a2-ee070d3272f7",
      "lastKernelId": "1acc2b74-f51e-477b-910a-a5519dad53b9"
    },
    "accelerator": "GPU",
    "colab": {
      "collapsed_sections": [
        "VmWbteSFQtfq",
        "yWE_ZZMKEARV"
      ],
      "machine_shape": "hm",
      "name": "torch_transformer_poet.ipynb",
      "provenance": [],
      "include_colab_link": true
    },
    "gpuClass": "premium",
    "kernelspec": {
      "display_name": "Python 3 (ipykernel)",
      "language": "python",
      "name": "python3"
    },
    "language_info": {
      "codemirror_mode": {
        "name": "ipython",
        "version": 3
      },
      "file_extension": ".py",
      "mimetype": "text/x-python",
      "name": "python",
      "nbconvert_exporter": "python",
      "pygments_lexer": "ipython3",
      "version": "3.10.8"
    }
  },
  "nbformat": 4,
  "nbformat_minor": 0
}