{
 "cells": [
  {
   "cell_type": "markdown",
   "metadata": {
    "colab_type": "text",
    "id": "view-in-github"
   },
   "source": [
    "<a href=\"https://colab.research.google.com/github/domschl/torch-transformer-poet/blob/main/torch_transformer_poet.ipynb\" target=\"_parent\"><img src=\"https://colab.research.google.com/assets/colab-badge.svg\" alt=\"Open In Colab\"/></a>"
   ]
  },
  {
   "cell_type": "markdown",
   "metadata": {
    "id": "fEXNOWhCEAPk"
   },
   "source": [
    "# Torch-Transformer-Poet"
   ]
  },
  {
   "cell_type": "markdown",
   "metadata": {
    "id": "DabS0VZ-1Zp0"
   },
   "source": [
    "Please review [ml-indie-tools](https://github.com/domschl/ml-indie-tools), a collection machine learning tools that provides support for more environment indepent code. It will access your Google Drive when using with Google Colab."
   ]
  },
  {
   "cell_type": "code",
   "execution_count": 1,
   "metadata": {
    "colab": {
     "base_uri": "https://localhost:8080/"
    },
    "id": "jtpy59Yq-Qfz",
    "outputId": "50a8bc5a-8e5c-40b4-c030-2b8b6125d7f9"
   },
   "outputs": [
    {
     "name": "stdout",
     "output_type": "stream",
     "text": [
      "Requirement already satisfied: ml-indie-tools in /opt/homebrew/Caskroom/miniforge/base/lib/python3.10/site-packages (0.4.4)\n"
     ]
    }
   ],
   "source": [
    "!pip install -U ml-indie-tools"
   ]
  },
  {
   "cell_type": "code",
   "execution_count": 2,
   "metadata": {
    "id": "EgLLjG4yQtft"
   },
   "outputs": [],
   "source": [
    "import logging\n",
    "import os\n",
    "import sys\n",
    "import copy\n",
    "import json\n",
    "import time\n",
    "import datetime\n",
    "import random\n",
    "import numpy as np\n",
    "\n",
    "import torch"
   ]
  },
  {
   "cell_type": "code",
   "execution_count": 3,
   "metadata": {
    "id": "U5T4m6earb1e"
   },
   "outputs": [],
   "source": [
    "from ml_indie_tools.env_tools import MLEnv\n",
    "from ml_indie_tools.Gutenberg_Dataset import Gutenberg_Dataset\n",
    "from ml_indie_tools.Text_Dataset import Text_Dataset\n",
    "\n",
    "# Test code, remove XXX\n",
    "# from Text_Dataset import Text_Dataset\n",
    "\n",
    "from ml_indie_tools.pytorch_custom_layers import MultiHeadSelfAttention"
   ]
  },
  {
   "cell_type": "markdown",
   "metadata": {
    "id": "VmWbteSFQtfq"
   },
   "source": [
    "## Preliminary\n",
    "\n",
    "A pytorch deep multi-head attention model for text generation following Andrej Karpathy's [video-lecture-ng](https://github.com/karpathy/ng-video-lecture/blob/master/gpt.py)\n",
    "\n",
    "This code can use either CPU, GPU, or Apple Silicon. Google Colab is supported too, select the corresponding Colab runtime (menu: **`Runtime / Change runtime type`**)"
   ]
  },
  {
   "cell_type": "markdown",
   "metadata": {
    "id": "sfZg31sMEAP1"
   },
   "source": [
    "## 0. Environment"
   ]
  },
  {
   "cell_type": "code",
   "execution_count": 4,
   "metadata": {
    "colab": {
     "base_uri": "https://localhost:8080/",
     "height": 52
    },
    "id": "llPw84PkEAP2",
    "outputId": "ff25ccf6-c239-41de-a7f0-7ec52479e629"
   },
   "outputs": [
    {
     "data": {
      "text/plain": [
       "'OS: Darwin, Python: 3.10.8 (Conda), Jupyter Notebook Pytorch: 2.0.0.dev20230126, GPU: MPS Metal accelerator (system memory)'"
      ]
     },
     "execution_count": 4,
     "metadata": {},
     "output_type": "execute_result"
    }
   ],
   "source": [
    "cached_batch_data = None   # Do regenerate time-consuming training data, if aleady cached.\n",
    "\n",
    "ml_env = MLEnv(platform='pt', accelerator='fastest')\n",
    "ml_env.describe()"
   ]
  },
  {
   "cell_type": "code",
   "execution_count": 5,
   "metadata": {
    "colab": {
     "base_uri": "https://localhost:8080/"
    },
    "id": "t-TP3Pnsrb1f",
    "outputId": "dc5d64e6-5d01-4863-ad0f-0c3d1a27d5de"
   },
   "outputs": [
    {
     "name": "stdout",
     "output_type": "stream",
     "text": [
      "Root path (all projects) : . (This will be '.' (current dir) for local projects, and a google drive path for Colab)\n",
      "Project path             : . (Changes to the file system happen only below this project path\n",
      "Model path (snapshots)   : ./model/ngpt_philosophers_v1_pt (Model weights and snapshots are stored here)\n",
      "Data path (training data): ./data (Training data will be downloaded here)\n",
      "Log dir (tensorboard)    : ./logs (it doesn't work to put logs on gdrive due to caching, hence local dir)\n"
     ]
    }
   ],
   "source": [
    "# project_name = 'women_writers'\n",
    "project_name='philosophers'\n",
    "model_name=f'ngpt_{project_name}_v1_pt'\n",
    "\n",
    "# NOTICE: This will request access to Google Drive, if running on Google Colab. Google Drive is used to store snapshots\n",
    "# training data. See project ml-indie-tools: https://github.com/domschl/ml-indie-tools \n",
    "#\n",
    "# Note: you need to allow popups in your browser for COLAB, otherwise you won't see the google-drive login box, and drive access will fail!\n",
    "\n",
    "root_path, project_path, model_path, data_path, log_path = ml_env.init_paths(project_name=project_name, model_name=model_name)\n",
    "\n",
    "print(f\"Root path (all projects) : {root_path} (This will be '.' (current dir) for local projects, and a google drive path for Colab)\")\n",
    "print(f\"Project path             : {project_path} (Changes to the file system happen only below this project path\")\n",
    "print(f\"Model path (snapshots)   : {model_path} (Model weights and snapshots are stored here)\")\n",
    "print(f\"Data path (training data): {data_path} (Training data will be downloaded here)\")\n",
    "print(f\"Log dir (tensorboard)    : {log_path} (it doesn't work to put logs on gdrive due to caching, hence local dir)\")"
   ]
  },
  {
   "cell_type": "markdown",
   "metadata": {
    "id": "AIkcYcEuQtfx"
   },
   "source": [
    "##  1. Text library\n",
    "\n",
    "`Text_Dataset` and `Gutenberg_Dataset` classes: libraries for training, \n",
    "encoding, batch generation, and formatted source display. It read some \n",
    "books from Project Gutenberg and supports creation of training batches. \n",
    "The output functions support highlighting to allow to compare generated \n",
    "texts with the actual sources to help to identify identical (memorized) \n",
    "parts."
   ]
  },
  {
   "cell_type": "code",
   "execution_count": 6,
   "metadata": {
    "id": "HjkelBcNO5WV"
   },
   "outputs": [],
   "source": [
    "use_dark_mode=False # Set to false for white background. HTML-text-compare uses background-colorization to identify different sources. Those background colors are dependent on the theme type."
   ]
  },
  {
   "cell_type": "code",
   "execution_count": 7,
   "metadata": {
    "id": "BF8eyWnCrb1h"
   },
   "outputs": [],
   "source": [
    "logging.basicConfig(level=logging.INFO)\n",
    "cache_dir = os.path.join(data_path, 'gutenberg_cache')\n",
    "gd = Gutenberg_Dataset(cache_dir=cache_dir)"
   ]
  },
  {
   "cell_type": "code",
   "execution_count": 8,
   "metadata": {
    "colab": {
     "base_uri": "https://localhost:8080/"
    },
    "id": "C66X7ynnrb1h",
    "outputId": "d4d70206-b1e2-4008-9f64-c7065e8ff076"
   },
   "outputs": [
    {
     "name": "stdout",
     "output_type": "stream",
     "text": [
      "20 matching books found with search {'author': ['Immanuel Kant', 'Friedrich Nietzsche', 'Wilhelm Hegel'], 'language': ['english']}.\n"
     ]
    }
   ],
   "source": [
    "if project_name == 'women_writers':  # sample searches\n",
    "    search_spec= {\n",
    "        \"author\": [\"Emily Brontë\", \"Jane Austen\", \"Virginia Woolf\"], \n",
    "        \"language\": [\"english\"]\n",
    "    }\n",
    "elif project_name == 'philosophers':\n",
    "    search_spec = {\n",
    "        \"author\": [\"Immanuel Kant\", \"Friedrich Nietzsche\", \"Wilhelm Hegel\"],\n",
    "        \"language\": [\"english\"]\n",
    "    }\n",
    "    \n",
    "book_list=gd.search(search_spec)\n",
    "book_cnt = len(book_list)\n",
    "print(f\"{book_cnt} matching books found with search {search_spec}.\")\n",
    "if book_cnt<40:\n",
    "    # Note: please verify that book_cnt is 'reasonable'. If you plan to use a large number of texts, \n",
    "    # consider [mirroring Gutenberg](https://github.com/domschl/ml-indie-tools#working-with-a-local-mirror-of-project-gutenberg)\n",
    "    book_list = gd.insert_book_texts(book_list, download_count_limit=book_cnt)  \n",
    "else:\n",
    "    logging.error(\"Please verify your book_list, a large number of books is scheduled for download. ABORTED.\")"
   ]
  },
  {
   "cell_type": "code",
   "execution_count": 9,
   "metadata": {
    "colab": {
     "base_uri": "https://localhost:8080/"
    },
    "id": "MH6_7IU3upOd",
    "outputId": "653e8a72-e00f-42be-fe96-d1dd8e0b916e"
   },
   "outputs": [
    {
     "name": "stdout",
     "output_type": "stream",
     "text": [
      "0: The History of Philosophy: Volume 3 of 3 - Georg Wilhelm Hegel, 58169\n",
      "1: The Will to Power, Books III and IV - Friedrich Nietzsche, 52915\n",
      "2: The Will to Power, Books I and II - Friedrich Nietzsche, 52914\n",
      "3: The Joyful Wisdom - Friedrich Nietzsche, 52881\n",
      "4: Kant's Prolegomena - Immanuel Kant, 52821\n",
      "5: Hegel's Lectures on the History of Philosophy: Vol. 2 of 3 - Georg Wilhelm Hegel, 51636\n",
      "6: Hegel's Lectures on the History of Philosophy: Vol. 1 of 3 - Georg Wilhelm Hegel, 51635\n",
      "7: Early Greek Philosophy & Other Essays - Friedrich Nietzsche, 51548\n",
      "8: Perpetual Peace - Immanuel Kant, 50922\n",
      "9: Kant's Critique of Judgement - Immanuel Kant, 48433\n",
      "10: Thoughts Out of Season, Part 2 - Friedrich Nietzsche, 38226\n",
      "11: Human, All Too Human - Friedrich Nietzsche, 38145\n",
      "12: We Philologists, Volume 8 of 18 - Friedrich Nietzsche, 18267\n",
      "13: The Metaphysical Elements of Ethics - Immanuel Kant, 5684\n",
      "14: The Critique of Practical Reason - Immanuel Kant, 5683\n",
      "15: Fundamental Principles of the Metaphysic of Morals - Immanuel Kant, 5682\n",
      "16: Thoughts out of Season, Part One - Friedrich Nietzsche, 5652\n",
      "17: Beyond Good and Evil - Friedrich Nietzsche, 4363\n",
      "18: The Critique of Pure Reason - Immanuel Kant, 4280\n",
      "19: Thus Spake Zarathustra - Friedrich Nietzsche, 1998\n"
     ]
    }
   ],
   "source": [
    "for i in range(len(book_list)):\n",
    "    print(f\"{i}: {book_list[i]['title']} - {book_list[i]['author']}, {book_list[i]['ebook_id']}\")"
   ]
  },
  {
   "cell_type": "code",
   "execution_count": 10,
   "metadata": {
    "colab": {
     "base_uri": "https://localhost:8080/"
    },
    "id": "2jBH3Z15rb1h",
    "outputId": "0eb31da7-5009-47c5-bb6c-af1b7725d6ee"
   },
   "outputs": [
    {
     "name": "stderr",
     "output_type": "stream",
     "text": [
      "INFO:Datasets:Loaded 20 texts\n",
      "INFO:Datasets:Starting tokenizer on 20 texts...\n",
      "INFO:Datasets:Extracting ngrams of length 1..8 from text_list, selecting 20000 most used ngrams.\n"
     ]
    },
    {
     "name": "stdout",
     "output_type": "stream",
     "text": [
      "Using:\n",
      "1: The History of Philosophy: Volume 3 of 3 - Georg Wilhelm Hegel\n",
      "2: The Will to Power, Books III and IV - Friedrich Nietzsche\n",
      "3: The Will to Power, Books I and II - Friedrich Nietzsche\n",
      "4: The Joyful Wisdom - Friedrich Nietzsche\n",
      "5: Kant's Prolegomena - Immanuel Kant\n",
      "6: Hegel's Lectures on the History of Philosophy: Vol. 2 of 3 - Georg Wilhelm Hegel\n",
      "7: Hegel's Lectures on the History of Philosophy: Vol. 1 of 3 - Georg Wilhelm Hegel\n",
      "8: Early Greek Philosophy & Other Essays - Friedrich Nietzsche\n",
      "9: Perpetual Peace - Immanuel Kant\n",
      "10: Kant's Critique of Judgement - Immanuel Kant\n",
      "11: Thoughts Out of Season, Part 2 - Friedrich Nietzsche\n",
      "12: Human, All Too Human - Friedrich Nietzsche\n",
      "13: We Philologists, Volume 8 of 18 - Friedrich Nietzsche\n",
      "14: The Metaphysical Elements of Ethics - Immanuel Kant\n",
      "15: The Critique of Practical Reason - Immanuel Kant\n",
      "16: Fundamental Principles of the Metaphysic of Morals - Immanuel Kant\n",
      "17: Thoughts out of Season, Part One - Friedrich Nietzsche\n",
      "18: Beyond Good and Evil - Friedrich Nietzsche\n",
      "19: The Critique of Pure Reason - Immanuel Kant\n",
      "20: Thus Spake Zarathustra - Friedrich Nietzsche\n",
      "\n",
      "Starting NGRAM tokinizer with token length from 1..8 with a max of 20000 unique tokens,\n",
      "this can take considerable time...\n"
     ]
    },
    {
     "name": "stderr",
     "output_type": "stream",
     "text": [
      "INFO:Datasets:Encoding text corpora as ngrams.\n",
      "INFO:Datasets:Encoding text The History of Philosophy: Volume 3 of 3...\n",
      "INFO:Datasets:Encoding text The Will to Power, Books III and IV...\n",
      "INFO:Datasets:Encoding text The Will to Power, Books I and II...\n",
      "INFO:Datasets:Encoding text The Joyful Wisdom...\n",
      "INFO:Datasets:Encoding text Kant's Prolegomena...\n",
      "INFO:Datasets:Encoding text Hegel's Lectures on the History of Philosophy: Vol. 2 of 3...\n",
      "INFO:Datasets:Encoding text Hegel's Lectures on the History of Philosophy: Vol. 1 of 3...\n",
      "INFO:Datasets:Encoding text Early Greek Philosophy & Other Essays...\n",
      "INFO:Datasets:Encoding text Perpetual Peace...\n",
      "INFO:Datasets:Encoding text Kant's Critique of Judgement...\n",
      "INFO:Datasets:Encoding text Thoughts Out of Season, Part 2...\n",
      "INFO:Datasets:Encoding text Human, All Too Human...\n",
      "INFO:Datasets:Encoding text We Philologists, Volume 8 of 18...\n",
      "INFO:Datasets:Encoding text The Metaphysical Elements of Ethics...\n",
      "INFO:Datasets:Encoding text The Critique of Practical Reason...\n",
      "INFO:Datasets:Encoding text Fundamental Principles of the Metaphysic of Morals...\n",
      "INFO:Datasets:Encoding text Thoughts out of Season, Part One...\n",
      "INFO:Datasets:Encoding text Beyond Good and Evil...\n",
      "INFO:Datasets:Encoding text The Critique of Pure Reason...\n",
      "INFO:Datasets:Encoding text Thus Spake Zarathustra...\n",
      "INFO:Datasets:Encoding text corpora as ngrams done.\n"
     ]
    }
   ],
   "source": [
    "MAX_TOKENS = 20000  # This becomes vocab_size\n",
    "MAX_NGRAM_LEN = 8   # Max length of a token\n",
    "\n",
    "if project_name == 'women_writers':\n",
    "    select = (\"Bennett\", \"1342\", \"5670\", \"1245\", \"161\", \"141\", \"121\", \"105\", \"Susan\", \"Wuthering\", \"Emma\", \"Voyage\")  # List unique single-words from title or ebook_id to select a given book\n",
    "    sub_book_list = [book_list[i] for i in range(len(book_list)) if not set([book_list[i]['ebook_id']]+book_list[i]['title'].split(' ')).isdisjoint(set(select))]\n",
    "else:\n",
    "    sub_book_list = book_list\n",
    "    \n",
    "print(\"Using:\")\n",
    "for i in range(len(sub_book_list)):\n",
    "    print(f\"{i+1}: {sub_book_list[i]['title']} - {sub_book_list[i]['author']}\")\n",
    "\n",
    "# obsolete?! textlib_dataset = None  # Forces re-caching\n",
    "td = Text_Dataset(sub_book_list)\n",
    "print(\"\")\n",
    "print(f\"Starting NGRAM tokinizer with token length from 1..{MAX_NGRAM_LEN} with a max of {MAX_TOKENS} unique tokens,\")\n",
    "print(\"this can take considerable time...\")\n",
    "td.init_tokenizer(tokenizer='ngram', max_ngrams=MAX_NGRAM_LEN, max_tokens=MAX_TOKENS)\n"
   ]
  },
  {
   "cell_type": "code",
   "execution_count": 11,
   "metadata": {},
   "outputs": [],
   "source": [
    "# td.save_tokenizer(\"tok.json\")"
   ]
  },
  {
   "cell_type": "code",
   "execution_count": 12,
   "metadata": {},
   "outputs": [],
   "source": [
    "# td.load_tokenizer(\"tok.json\")"
   ]
  },
  {
   "cell_type": "code",
   "execution_count": 13,
   "metadata": {},
   "outputs": [],
   "source": [
    "# td.index"
   ]
  },
  {
   "cell_type": "code",
   "execution_count": 14,
   "metadata": {
    "colab": {
     "base_uri": "https://localhost:8080/"
    },
    "id": "f7_tc2Lirb1i",
    "outputId": "56984788-d420-4d83-c292-27dffd36daec"
   },
   "outputs": [
    {
     "name": "stdout",
     "output_type": "stream",
     "text": [
      "2330086 records\n"
     ]
    }
   ],
   "source": [
    "SEQUENCE_LEN = 128\n",
    "\n",
    "td.init_getitem(sample_type='encoded', sample_length=SEQUENCE_LEN+1, content_stepping=1)\n",
    "\n",
    "num_records = len(td)\n",
    "\n",
    "print(f\"{num_records} records\")"
   ]
  },
  {
   "cell_type": "code",
   "execution_count": 15,
   "metadata": {
    "id": "zZbbsNm0cOeW"
   },
   "outputs": [],
   "source": [
    "def get_sample_batch(td, batch_size):\n",
    "    # generate a small batch of data of inputs x and targets y\n",
    "    # ix = torch.randint(len(data) - block_size, (batch_size,))\n",
    "    # x = torch.stack([data[i : i + block_size] for i in ix])\n",
    "    # y = torch.stack([data[i + 1 : i + block_size + 1] for i in ix])\n",
    "    # x, y = x.to(device), y.to(device)\n",
    "    # return x, y\n",
    "    for i in range(batch_size):\n",
    "        data = td.get_random_item()\n",
    "        Xi = data[:-1]\n",
    "        yi = data[1:]\n",
    "        if i==0:\n",
    "            # smpX=np.array(Xi, dtype=np.float32)\n",
    "            smpX=np.array(Xi, dtype=np.int32)\n",
    "            smpy=np.array(yi, dtype=np.int32)\n",
    "        else:\n",
    "            # smpX = np.vstack((smpX, np.array(Xi, dtype=np.float32)))\n",
    "            smpX = np.vstack((smpX, np.array(Xi, dtype=np.int32)))\n",
    "            smpy = np.vstack((smpy, np.array(yi, dtype=np.int32)))\n",
    "    return np.array(smpX), np.array(smpy)"
   ]
  },
  {
   "cell_type": "code",
   "execution_count": 16,
   "metadata": {
    "colab": {
     "base_uri": "https://localhost:8080/"
    },
    "id": "TI3Fx6bNuR9A",
    "outputId": "dd1b3c89-df92-4f59-d551-41f1aaa37557"
   },
   "outputs": [
    {
     "name": "stdout",
     "output_type": "stream",
     "text": [
      "[0](l=128): X=>civilisation, having reached its\n",
      "highest point, makes out of this almost the main business of refined\n",
      "inclination; and sensations are only regarded as of worth in so far as\n",
      "they can be universally communicated. Here, although the pleasure which\n",
      "every one has in such an object is inconsiderable and in itself without\n",
      "any marked interest, yet the Idea of its universal communicability\n",
      "increases its worth in an almost infinite degree.\n",
      "\n",
      "But this interest that indirectly attaches to the Beautiful through\n",
      "our inclination to society, and consequently is empirical, is of no\n",
      "importance for us here; because we have only to look to what may have\n",
      "a reference, a<,\n",
      "y=>vilisation, having reached its\n",
      "highest point, makes out of this almost the main business of refined\n",
      "inclination; and sensations are only regarded as of worth in so far as\n",
      "they can be universally communicated. Here, although the pleasure which\n",
      "every one has in such an object is inconsiderable and in itself without\n",
      "any marked interest, yet the Idea of its universal communicability\n",
      "increases its worth in an almost infinite degree.\n",
      "\n",
      "But this interest that indirectly attaches to the Beautiful through\n",
      "our inclination to society, and consequently is empirical, is of no\n",
      "importance for us here; because we have only to look to what may have\n",
      "a reference, although <\n",
      "[1](l=128): X=>past. The essence of a state’s defensive power may\n",
      "lie in a readiness to strike the first blow, or its whole interests\n",
      "may be bound up in the necessity of fighting the matter out in its\n",
      "enemy’s country, rather than at home. It is not in the strictly\n",
      "military interpretation of the term “defensive”, but in its wider\n",
      "ethical and political sense that we can speak of wars of defence as\n",
      "just. But, indeed, we cannot judge these questions abstractly. Where\n",
      "a war is necessary, it matters very little whether it is just or not.\n",
      "Only the judgment of history can finally decide; and generally it\n",
      "seems at the <,\n",
      "y=>t. The essence of a state’s defensive power may\n",
      "lie in a readiness to strike the first blow, or its whole interests\n",
      "may be bound up in the necessity of fighting the matter out in its\n",
      "enemy’s country, rather than at home. It is not in the strictly\n",
      "military interpretation of the term “defensive”, but in its wider\n",
      "ethical and political sense that we can speak of wars of defence as\n",
      "just. But, indeed, we cannot judge these questions abstractly. Where\n",
      "a war is necessary, it matters very little whether it is just or not.\n",
      "Only the judgment of history can finally decide; and generally it\n",
      "seems at the time <\n"
     ]
    }
   ],
   "source": [
    "test_x, test_y = get_sample_batch(td, 2)\n",
    "for i in range(len(test_x)):\n",
    "    xi=[int(x) for x in test_x[i]]\n",
    "    print(f\"[{i}](l={len(xi)}): X=>{td.decode(xi)}<,\\ny=>{td.decode(test_y[i])}<\")"
   ]
  },
  {
   "cell_type": "code",
   "execution_count": 17,
   "metadata": {
    "colab": {
     "base_uri": "https://localhost:8080/"
    },
    "id": "qnMxRkkmcOeX",
    "outputId": "8823866a-9a9a-49b8-f8c9-be29964ae0bd"
   },
   "outputs": [
    {
     "data": {
      "text/plain": [
       "((2, 128), (2, 128))"
      ]
     },
     "execution_count": 17,
     "metadata": {},
     "output_type": "execute_result"
    }
   ],
   "source": [
    "test_x.shape, test_y.shape"
   ]
  },
  {
   "cell_type": "markdown",
   "metadata": {
    "id": "30hi0UPtEAQG"
   },
   "source": [
    "## 2. data for texts"
   ]
  },
  {
   "cell_type": "code",
   "execution_count": 18,
   "metadata": {
    "id": "jn_LcJ6g9Mzy"
   },
   "outputs": [],
   "source": [
    "def expand_name_template(template, params):\n",
    "    exp=copy.copy(template)\n",
    "    for key in params:\n",
    "        src=\"{\"+key+\"}\"\n",
    "        dst=f\"{params[key]}\"\n",
    "        exp=exp.replace(src,dst).replace('[','(').replace(']',')')\n",
    "    return exp\n",
    "\n",
    "def save_model_metadata(epoch, suffix='std'):\n",
    "    meta_file = os.path.join(model_path, f'model_meta_{suffix}.json')\n",
    "    params['current_epoch'] = epoch\n",
    "    try:\n",
    "        with open(meta_file, 'w') as f:\n",
    "            f.write(json.dumps(params))\n",
    "    except Exception as e:\n",
    "        print(f\"Failed to store model metadata at {model_path}: {e}\")\n",
    "        return False\n",
    "    return True\n",
    "\n",
    "def read_model_metadata(suffix=\"std\"):\n",
    "    meta_file = os.path.join(model_path, f'model_meta_{suffix}.json')\n",
    "    try:\n",
    "        with open(meta_file, 'r') as f:\n",
    "            meta = json.load(f)\n",
    "    except Exception as e:\n",
    "        print(f\"Cannot access project meta-data at {meta_file}: {e}, starting anew.\")\n",
    "        return None\n",
    "    return meta\n",
    "\n",
    "def is_metadata_compatible(params, meta):\n",
    "    is_valid=True\n",
    "    keys=set(list(params.keys())+list(meta.keys()))\n",
    "    for key in keys:\n",
    "        if key in updatable_keys:\n",
    "            continue\n",
    "        if key not in meta:\n",
    "            print(f\"Key {key} not available in last checkpoint model_meta, params[{key}]: {params[key]}, cannot import incompatible model. Put key in `updatable_keys` list, if irrelevant.\")\n",
    "            is_valid = False\n",
    "        elif key not in params:\n",
    "            print(f\"Key {key} not available in params, last checkpoint model_meta[{key}]: {meta[key]}, cannot import incompatible model. Put key in `updatable_keys` list, if irrelevant.\")\n",
    "            is_valid = False\n",
    "        elif meta[key]!=params[key]:\n",
    "            print(f\"Last checkpoint model_meta[{key}]: {meta[key]} != params[{key}]: {params[key]}, cannot import incompatible model. Put key in `updatable_keys` list, if irrelevant.\")\n",
    "            is_valid = False\n",
    "    if is_valid is False:\n",
    "        print(\"Aborting import.\")\n",
    "        return False\n",
    "    return True"
   ]
  },
  {
   "cell_type": "code",
   "execution_count": 19,
   "metadata": {
    "colab": {
     "base_uri": "https://localhost:8080/"
    },
    "id": "znpIUA3ig3gO",
    "outputId": "4aeb5c42-79e4-4fd7-ad10-2e8219d1bf19"
   },
   "outputs": [
    {
     "name": "stdout",
     "output_type": "stream",
     "text": [
      "Cannot access project meta-data at ./model/ngpt_philosophers_v1_pt/model_meta_32x16x{units}x20000.json: [Errno 2] No such file or directory: './model/ngpt_philosophers_v1_pt/model_meta_32x16x{units}x20000.json', starting anew.\n",
      "Starting new model\n",
      "{'name': '{mhsa_layers}x{heads}x{units}x{vocab_size}', 'mhsa_layers': 32, 'heads': 16, 'causal': True, 'dropout': 0.1, 'vocab_size': 20000, 'sequence_len': 128, 'embedding_size': 384, 'test_iterations': 10, 'batch_size': 64, 'learning_rate': 0.0004, 'sample_every_n_iterations': 250, 'max_iterations': 1000000}\n"
     ]
    }
   ],
   "source": [
    "vocabulary_size = td.get_unique_token_count()  # vocabulary-size\n",
    "\n",
    "attn_layers = 32;\n",
    "\n",
    "params = { # Multi-head self-attention\n",
    "    'name': '{mhsa_layers}x{heads}x{units}x{vocab_size}',\n",
    "\n",
    "    'mhsa_layers': attn_layers, \n",
    "    'heads': 16,\n",
    "    'causal': True,  # Use causal self-attention\n",
    "    'dropout': 0.1,       # no dropout: 0.0\n",
    "    'vocab_size': vocabulary_size,\n",
    "    'sequence_len': SEQUENCE_LEN,\n",
    "    'embedding_size': 384, \n",
    "    'test_iterations': 10,  # number of epocs for loss estimation\n",
    "\n",
    "    'batch_size': 64,\n",
    "    'learning_rate': 0.0004,\n",
    "    'sample_every_n_iterations': 250,\n",
    "    \n",
    "    'max_iterations': 1000000  # maximum number of training iterations\n",
    "}\n",
    "\n",
    "# if len(params['heads'])!=params['mhsa_layers']: # or len(params['units'])!=params['mhsa_layers']:\n",
    "#     print(\"ERROR: lenght of 'heads' and 'units' must be equal to mhsa_layers!\")\n",
    "    \n",
    "model_suffix = expand_name_template(params['name'], params)\n",
    "# Put 'important' params in checkpoint-pathname to separate model-data:\n",
    "checkpoint_dir = os.path.join(model_path, f\"training_checkpoints_{model_suffix}\")\n",
    "if os.path.exists(checkpoint_dir) is False:\n",
    "    os.makedirs(checkpoint_dir)\n",
    "\n",
    "# When comparing if training-data is compatible with new params set, \n",
    "# the following keys are updatable, they can be changed while continuing\n",
    "# to use existing checkpoints and continue training with those values\n",
    "# changed:\n",
    "updatable_keys=['learning_rate', 'batch_size', 'current_epoch', 'dropout', \n",
    "             'sample_every_n_epochs']\n",
    "\n",
    "# These values are taking from saved checkpoint:\n",
    "keep_keys=['current_epoch']\n",
    "\n",
    "continue_last = True\n",
    "if continue_last is False:\n",
    "    print(\"NOT continuing based on existing training! New start.\")\n",
    "\n",
    "meta = read_model_metadata(suffix=model_suffix)\n",
    "if meta is not None and is_metadata_compatible(params, meta) is True and continue_last is True:\n",
    "    for key in keep_keys:\n",
    "        if key in meta:\n",
    "            params[key]=meta[key]\n",
    "    if params is not None:\n",
    "        print(f\"Continuing last session from epoch {params['current_epoch']}\")\n",
    "    else:\n",
    "        print(f\"No previous data, starting new model\")\n",
    "else:\n",
    "    print(\"Starting new model\")\n",
    "\n",
    "print(params)"
   ]
  },
  {
   "cell_type": "code",
   "execution_count": 20,
   "metadata": {
    "colab": {
     "base_uri": "https://localhost:8080/"
    },
    "id": "jY3hUuhQYzdT",
    "outputId": "c93d7933-9afd-4753-face-b91c445dd16d"
   },
   "outputs": [
    {
     "name": "stdout",
     "output_type": "stream",
     "text": [
      "num_batches = 36407\n"
     ]
    }
   ],
   "source": [
    "num_batches = num_records // params['batch_size']\n",
    "print(f\"num_batches = {num_batches}\")"
   ]
  },
  {
   "cell_type": "code",
   "execution_count": 21,
   "metadata": {
    "id": "bgVHUkbhdK9y"
   },
   "outputs": [],
   "source": [
    "def get_torch_batch(td, batch_size, device, split=None):\n",
    "    x, y = get_sample_batch(td, batch_size)\n",
    "    return torch.tensor(x, dtype=torch.long).to(device), torch.tensor(y, dtype=torch.long).to(device)"
   ]
  },
  {
   "cell_type": "code",
   "execution_count": 22,
   "metadata": {
    "id": "JTte4VvUdK9z"
   },
   "outputs": [],
   "source": [
    "# get_torch_batch(td, 2, 'cpu')"
   ]
  },
  {
   "cell_type": "code",
   "execution_count": 23,
   "metadata": {
    "id": "QnMCWf5AZn1-"
   },
   "outputs": [],
   "source": [
    "@torch.no_grad()\n",
    "def estimate_loss(device):\n",
    "    out = {}\n",
    "    model.eval()\n",
    "    for split in [\"train\", \"val\"]:\n",
    "        losses = torch.zeros(params['test_iterations'])\n",
    "        for k in range(params['test_iterations']):\n",
    "            print(\".\", end=\"\", flush=True)\n",
    "            X, Y = get_torch_batch(td, params['batch_size'], device, split)\n",
    "            logits, loss = model(X, Y)\n",
    "            losses[k] = loss.item()\n",
    "        out[split] = losses.mean()\n",
    "    model.train()\n",
    "    print(\"\\r\", end=\"\", flush=True)\n",
    "    return out\n",
    "\n",
    "\n",
    "def generate_sample(td, device, input=' ', toks=100, temperature=1.0):\n",
    "    # generate from the model\n",
    "    # context = torch.zeros((1, 1), dtype=torch.long, device=device)\n",
    "    context = torch.tensor([td.encode(input)]).to(device)\n",
    "    txt = td.decode(model.generate(context, max_new_tokens=toks, temperature=temperature)[0].tolist())\n",
    "    # Identify memorisation of text by highlighting verbatim quotes from sources\n",
    "    # that are longer than 10 chars. HTML colorcoded output for source identification:\n",
    "    td.source_highlight(txt, min_quote_size=10, dark_mode=False, display_ref_anchor=False)\n",
    "    return txt\n",
    "    # open('more.txt', 'w').write(decode(m.generate(context, max_new_tokens=10000)[0].tolist()))\n",
    "\n",
    "\n",
    "# @torch.compile\n",
    "def do_train_step(xb, yb):\n",
    "    logits, loss = model(xb, yb)\n",
    "    optimizer.zero_grad(set_to_none=True)\n",
    "    loss.backward()\n",
    "    optimizer.step()"
   ]
  },
  {
   "cell_type": "code",
   "execution_count": 24,
   "metadata": {
    "id": "9hEziJ0odK9z"
   },
   "outputs": [],
   "source": [
    "# XXX!\n",
    "device = \"cuda\" if torch.cuda.is_available() else \"cpu\"\n",
    "device = torch.device(\"mps\") if torch.backends.mps.is_available() else device"
   ]
  },
  {
   "cell_type": "code",
   "execution_count": null,
   "metadata": {},
   "outputs": [],
   "source": []
  },
  {
   "cell_type": "code",
   "execution_count": 25,
   "metadata": {
    "colab": {
     "base_uri": "https://localhost:8080/"
    },
    "id": "pdaulm1VdK9z",
    "outputId": "edd6c22a-afc2-40fb-fbc7-ac99817004f4"
   },
   "outputs": [
    {
     "name": "stdout",
     "output_type": "stream",
     "text": [
      "creating model...\n",
      "72.175904 M parameters\n"
     ]
    }
   ],
   "source": [
    "print(\"creating model...\")\n",
    "model_cpu = MultiHeadSelfAttention(params['vocab_size'], params['embedding_size'], \n",
    "                                   params['sequence_len'], params['dropout'], \n",
    "                                   params['heads'], params['mhsa_layers'], params['causal'], device)\n",
    "try:\n",
    "    del model\n",
    "except:\n",
    "    pass\n",
    "model = model_cpu.to(device)\n",
    "# print the number of parameters in the model\n",
    "print(sum(p.numel() for p in model.parameters()) / 1e6, \"M parameters\")\n",
    "# create a PyTorch optimizer\n",
    "optimizer = torch.optim.AdamW(model.parameters(), lr=params['learning_rate'])\n",
    "start_iter = 0"
   ]
  },
  {
   "cell_type": "code",
   "execution_count": null,
   "metadata": {
    "colab": {
     "base_uri": "https://localhost:8080/",
     "height": 1000
    },
    "id": "aZpMI7_iMdR6",
    "outputId": "ffc4f932-64dd-48f8-9b33-00091cf9ec75",
    "tags": []
   },
   "outputs": [
    {
     "name": "stdout",
     "output_type": "stream",
     "text": [
      "training...\n",
      "step 1750: train loss 4.6973, val loss 4.7056, time 0.000 sec/iter\n",
      "Sample: --------temperature: 0.8 ---------\n"
     ]
    },
    {
     "data": {
      "text/html": [
       " Unity._<br><br>17<span style=\"background-color:#e2d7d5;\">.<br><br>People ha</span><span style=\"background-color:#eadbd8;\">d already re</span><span style=\"background-color:#e2d7d5;\">present the i</span><span style=\"background-color:#d8daef;\">mage of this </span>condemone<span style=\"background-color:#ecf3cf;\">-systemati</span>sing of<span style=\"background-color:#d8daef;\"> _e.g._ the </span>_want_<span style=\"background-color:#ebdef0;\"> of any action</span><span style=\"background-color:#d4e6f1;\">s. This natur</span><span style=\"background-color:#d8daef;\">al instinct</span>ieve<span style=\"background-color:#d8daef;\">dmiration and </span><span style=\"background-color:#d4efdf;\">first feel</span><span style=\"background-color:#ebdef0;\">ing of power. </span><span style=\"background-color:#d8daef;\">The cause of </span>\"gods\"real"
      ],
      "text/plain": [
       "<IPython.core.display.HTML object>"
      ]
     },
     "metadata": {},
     "output_type": "display_data"
    },
    {
     "data": {
      "text/html": [
       "<small><p style=\"text-align:right;\">Sources: <span style=\"background-color:#e2d7d5;\">Friedrich Nietzsche: Thus Spake Zarathustra</span>, <span style=\"background-color:#eadbd8;\">Friedrich Nietzsche: The Will to Power, Books I and II</span>, <span style=\"background-color:#e2d7d5;\">Friedrich Nietzsche: The Joyful Wisdom</span>, <span style=\"background-color:#d8daef;\">Friedrich Nietzsche: Thoughts out of Season, Part One</span>, <span style=\"background-color:#ecf3cf;\">Georg Wilhelm Hegel: Hegel's Lectures on the History of Philosophy: Vol. 2 of 3</span>, <span style=\"background-color:#d8daef;\">Georg Wilhelm Hegel: The History of Philosophy: Volume 3 of 3</span>, <span style=\"background-color:#ebdef0;\">Friedrich Nietzsche: The Will to Power, Books III and IV</span>, <span style=\"background-color:#d4e6f1;\">Immanuel Kant: Kant's Critique of Judgement</span>, <span style=\"background-color:#d4efdf;\">Georg Wilhelm Hegel: Hegel's Lectures on the History of Philosophy: Vol. 1 of 3</span></p></small>"
      ],
      "text/plain": [
       "<IPython.core.display.HTML object>"
      ]
     },
     "metadata": {},
     "output_type": "display_data"
    },
    {
     "name": "stdout",
     "output_type": "stream",
     "text": [
      "-------------------------------------------\n",
      "step 2000: train loss 4.4614, val loss 4.4593, time 2.306 sec/iter\n",
      "Sample: --------temperature: 0.8 ---------\n"
     ]
    },
    {
     "data": {
      "text/html": [
       " doerhythm <span style=\"background-color:#e2d7d5;\">ever, what </span><span style=\"background-color:#eadbd8;\">many modes</span><span style=\"background-color:#eadbd8;\">t, as the con</span><span style=\"background-color:#d8daef;\">sequence of </span>life alon<span style=\"background-color:#ecf3cf;\">e<br>agreement </span><span style=\"background-color:#d8daef;\">without find</span><span style=\"background-color:#ebdef0;\">,<br>with the </span>Supreme Divin<span style=\"background-color:#d8daef;\">e Epicureans a</span>s the I<span style=\"background-color:#fdebd0;\">Virtue, the</span><span style=\"background-color:#d8daef;\"> Substance (</span><span style=\"background-color:#d4e6f1;\">Sublime in Nature</span>)<span style=\"background-color:#d8daef;\">. Otherwise </span><span style=\"background-color:#eadbd8;\">not the result of a m</span>an has "
      ],
      "text/plain": [
       "<IPython.core.display.HTML object>"
      ]
     },
     "metadata": {},
     "output_type": "display_data"
    },
    {
     "data": {
      "text/html": [
       "<small><p style=\"text-align:right;\">Sources: <span style=\"background-color:#e2d7d5;\">Friedrich Nietzsche: Thus Spake Zarathustra</span>, <span style=\"background-color:#eadbd8;\">Immanuel Kant: The Critique of Pure Reason</span>, <span style=\"background-color:#d8daef;\">Georg Wilhelm Hegel: The History of Philosophy: Volume 3 of 3</span>, <span style=\"background-color:#ecf3cf;\">Georg Wilhelm Hegel: Hegel's Lectures on the History of Philosophy: Vol. 2 of 3</span>, <span style=\"background-color:#ebdef0;\">Friedrich Nietzsche: The Will to Power, Books III and IV</span>, <span style=\"background-color:#fdebd0;\">Immanuel Kant: The Metaphysical Elements of Ethics</span>, <span style=\"background-color:#d4e6f1;\">Immanuel Kant: Kant's Critique of Judgement</span>, <span style=\"background-color:#eadbd8;\">Friedrich Nietzsche: The Will to Power, Books I and II</span></p></small>"
      ],
      "text/plain": [
       "<IPython.core.display.HTML object>"
      ]
     },
     "metadata": {},
     "output_type": "display_data"
    },
    {
     "name": "stdout",
     "output_type": "stream",
     "text": [
      "-------------------------------------------\n",
      "step 2250: train loss 4.2981, val loss 4.2667, time 2.250 sec/iter\n",
      "Sample: --------temperature: 0.8 ---------\n"
     ]
    },
    {
     "data": {
      "text/html": [
       " ” (Leipz<span style=\"background-color:#d6eaf8;\">’s essay wa</span>y of chapter’s Libr. Lehrberg had<span style=\"background-color:#d8daef;\">s, Vol. III. </span>p. 66; cf.<span style=\"background-color:#eadbd8;\"> _Leibnitz</span>ig, 18,<br>77, 47, "
      ],
      "text/plain": [
       "<IPython.core.display.HTML object>"
      ]
     },
     "metadata": {},
     "output_type": "display_data"
    },
    {
     "data": {
      "text/html": [
       "<small><p style=\"text-align:right;\">Sources: <span style=\"background-color:#d6eaf8;\">Immanuel Kant: Perpetual Peace</span>, <span style=\"background-color:#d8daef;\">Georg Wilhelm Hegel: The History of Philosophy: Volume 3 of 3</span>, <span style=\"background-color:#eadbd8;\">Friedrich Nietzsche: The Will to Power, Books I and II</span></p></small>"
      ],
      "text/plain": [
       "<IPython.core.display.HTML object>"
      ]
     },
     "metadata": {},
     "output_type": "display_data"
    },
    {
     "name": "stdout",
     "output_type": "stream",
     "text": [
      "-------------------------------------------\n",
      "step 2500: train loss 4.0396, val loss 4.1163, time 2.276 sec/iter\n",
      "Sample: --------temperature: 0.8 ---------\n"
     ]
    },
    {
     "data": {
      "text/html": [
       " JONSTIT OF TAREND BYOUDERDUPHERSQUECE<br><span style=\"background-color:#eadbd8;\"><br><br>The First </span>England_18voide_<span style=\"background-color:#d8daef;\"> in the<br>first p</span>hilosop"
      ],
      "text/plain": [
       "<IPython.core.display.HTML object>"
      ]
     },
     "metadata": {},
     "output_type": "display_data"
    },
    {
     "data": {
      "text/html": [
       "<small><p style=\"text-align:right;\">Sources: <span style=\"background-color:#eadbd8;\">Friedrich Nietzsche: The Will to Power, Books I and II</span>, <span style=\"background-color:#d8daef;\">Georg Wilhelm Hegel: The History of Philosophy: Volume 3 of 3</span></p></small>"
      ],
      "text/plain": [
       "<IPython.core.display.HTML object>"
      ]
     },
     "metadata": {},
     "output_type": "display_data"
    },
    {
     "name": "stdout",
     "output_type": "stream",
     "text": [
      "-------------------------------------------\n",
      "step 2750: train loss 3.9119, val loss 3.8678, time 5.467 sec/iter\n",
      "Sample: --------temperature: 0.8 ---------\n"
     ]
    },
    {
     "data": {
      "text/html": [
       " 81)<span style=\"background-color:#ebdef0;\"> that feeling of </span>power<span style=\"background-color:#d6eaf8;\">, granted </span>men<span style=\"background-color:#e2d7d5;\"> with<br>being </span><span style=\"background-color:#e2d7d5;\">recognised—</span><span style=\"background-color:#eadbd8;\">and the Nihilis</span><span style=\"background-color:#eadbd8;\">m.<br><br><br>88.<br><br></span><span style=\"background-color:#ebdef0;\">_The belief </span><span style=\"background-color:#ebdef0;\">of evolution </span><span style=\"background-color:#ebdef0;\">of the future._--</span>Whatever <span style=\"background-color:#edebd0;\"> behind a </span><span style=\"background-color:#eadbd8;\">great utility of</span><span style=\"background-color:#e2d7d5;\"><br>desirable </span><span style=\"background-color:#d4e6f1;\">mechanical as</span><span style=\"background-color:#eadbd8;\"> is the \"S</span>cience"
      ],
      "text/plain": [
       "<IPython.core.display.HTML object>"
      ]
     },
     "metadata": {},
     "output_type": "display_data"
    },
    {
     "data": {
      "text/html": [
       "<small><p style=\"text-align:right;\">Sources: <span style=\"background-color:#ebdef0;\">Friedrich Nietzsche: The Will to Power, Books III and IV</span>, <span style=\"background-color:#d6eaf8;\">Immanuel Kant: Perpetual Peace</span>, <span style=\"background-color:#e2d7d5;\">Friedrich Nietzsche: The Joyful Wisdom</span>, <span style=\"background-color:#eadbd8;\">Friedrich Nietzsche: The Will to Power, Books I and II</span>, <span style=\"background-color:#edebd0;\">Immanuel Kant: Kant's Prolegomena</span>, <span style=\"background-color:#eadbd8;\">Immanuel Kant: The Critique of Pure Reason</span>, <span style=\"background-color:#d4e6f1;\">Immanuel Kant: Kant's Critique of Judgement</span></p></small>"
      ],
      "text/plain": [
       "<IPython.core.display.HTML object>"
      ]
     },
     "metadata": {},
     "output_type": "display_data"
    },
    {
     "name": "stdout",
     "output_type": "stream",
     "text": [
      "-------------------------------------------\n",
      "step 3000: train loss 3.6673, val loss 3.6847, time 2.287 sec/iter\n",
      "Sample: --------temperature: 0.8 ---------\n"
     ]
    },
    {
     "data": {
      "text/html": [
       " τὰ κατων)<span style=\"background-color:#d8daef;\"> the universal (</span>κατερωκαστικε)<span style=\"background-color:#d8daef;\"> of what he ass</span>u<span style=\"background-color:#d4efdf;\">me<br>substan</span>ce (κατὸ τὸ λόγοστργον"
      ],
      "text/plain": [
       "<IPython.core.display.HTML object>"
      ]
     },
     "metadata": {},
     "output_type": "display_data"
    },
    {
     "data": {
      "text/html": [
       "<small><p style=\"text-align:right;\">Sources: <span style=\"background-color:#d8daef;\">Georg Wilhelm Hegel: The History of Philosophy: Volume 3 of 3</span>, <span style=\"background-color:#d4efdf;\">Georg Wilhelm Hegel: Hegel's Lectures on the History of Philosophy: Vol. 1 of 3</span></p></small>"
      ],
      "text/plain": [
       "<IPython.core.display.HTML object>"
      ]
     },
     "metadata": {},
     "output_type": "display_data"
    },
    {
     "name": "stdout",
     "output_type": "stream",
     "text": [
      "-------------------------------------------\n",
      "step 3250: train loss 3.5298, val loss 3.5048, time 5.892 sec/iter\n",
      "Sample: --------temperature: 0.8 ---------\n"
     ]
    },
    {
     "data": {
      "text/html": [
       " ‘<span style=\"background-color:#d4e6f1;\">Translated by F</span>ir<br>T.’”  16-72<span style=\"background-color:#ecf3cf;\">8; Tiedemann: </span>His<span style=\"background-color:#ebdef0;\">t.<br>Christian</span> Jerec<span style=\"background-color:#ecf3cf;\">, Lehrb. d. Gesch</span><span style=\"background-color:#d8daef;\">ichte der neuern Philos. Vol</span>"
      ],
      "text/plain": [
       "<IPython.core.display.HTML object>"
      ]
     },
     "metadata": {},
     "output_type": "display_data"
    },
    {
     "data": {
      "text/html": [
       "<small><p style=\"text-align:right;\">Sources: <span style=\"background-color:#d4e6f1;\">Immanuel Kant: Kant's Critique of Judgement</span>, <span style=\"background-color:#ecf3cf;\">Georg Wilhelm Hegel: Hegel's Lectures on the History of Philosophy: Vol. 2 of 3</span>, <span style=\"background-color:#ebdef0;\">Friedrich Nietzsche: The Will to Power, Books III and IV</span>, <span style=\"background-color:#d8daef;\">Georg Wilhelm Hegel: The History of Philosophy: Volume 3 of 3</span></p></small>"
      ],
      "text/plain": [
       "<IPython.core.display.HTML object>"
      ]
     },
     "metadata": {},
     "output_type": "display_data"
    },
    {
     "name": "stdout",
     "output_type": "stream",
     "text": [
      "-------------------------------------------\n",
      "step 3500: train loss 3.2944, val loss 3.3129, time 18.474 sec/iter\n",
      "Sample: --------temperature: 0.8 ---------\n"
     ]
    },
    {
     "data": {
      "text/html": [
       " ..<span style=\"background-color:#ebdef0;\">.<br><br><br>469.<br><br></span><span style=\"background-color:#d8daef;\">If, then, </span><span style=\"background-color:#eadbd8;\">have a pre</span>ced<span style=\"background-color:#ebdef0;\">es us that </span><span style=\"background-color:#e2d7d5;\">it is only a metaph</span><span style=\"background-color:#ebdef0;\">or, that i</span><span style=\"background-color:#d4efdf;\">t is<br>an im</span><span style=\"background-color:#eadbd8;\">itation of the con</span><span style=\"background-color:#d8daef;\">sequence of these </span><span style=\"background-color:#d4e6f1;\">element in every </span><span style=\"background-color:#eadbd8;\">good and justi</span>ce, of<br>r<span style=\"background-color:#d4e6f1;\">anges that have</span> be<span style=\"background-color:#ebdef0;\">en become </span><span style=\"background-color:#e2d7d5;\">good and b</span><span style=\"background-color:#ecf3cf;\">y no means to</span><br><span style=\"background-color:#fdebd0;\">evil, that i</span><span style=\"background-color:#eadbd8;\">t is not the \"</span>evil"
      ],
      "text/plain": [
       "<IPython.core.display.HTML object>"
      ]
     },
     "metadata": {},
     "output_type": "display_data"
    },
    {
     "data": {
      "text/html": [
       "<small><p style=\"text-align:right;\">Sources: <span style=\"background-color:#ebdef0;\">Friedrich Nietzsche: The Will to Power, Books III and IV</span>, <span style=\"background-color:#d8daef;\">Georg Wilhelm Hegel: The History of Philosophy: Volume 3 of 3</span>, <span style=\"background-color:#eadbd8;\">Immanuel Kant: The Critique of Pure Reason</span>, <span style=\"background-color:#e2d7d5;\">Friedrich Nietzsche: The Joyful Wisdom</span>, <span style=\"background-color:#d4efdf;\">Georg Wilhelm Hegel: Hegel's Lectures on the History of Philosophy: Vol. 1 of 3</span>, <span style=\"background-color:#d4e6f1;\">Immanuel Kant: Kant's Critique of Judgement</span>, <span style=\"background-color:#eadbd8;\">Friedrich Nietzsche: The Will to Power, Books I and II</span>, <span style=\"background-color:#ecf3cf;\">Georg Wilhelm Hegel: Hegel's Lectures on the History of Philosophy: Vol. 2 of 3</span>, <span style=\"background-color:#fdebd0;\">Immanuel Kant: The Metaphysical Elements of Ethics</span></p></small>"
      ],
      "text/plain": [
       "<IPython.core.display.HTML object>"
      ]
     },
     "metadata": {},
     "output_type": "display_data"
    },
    {
     "name": "stdout",
     "output_type": "stream",
     "text": [
      "-------------------------------------------\n",
      "step 3750: train loss 3.1098, val loss 3.1387, time 2.544 sec/iter\n",
      "Sample: --------temperature: 0.8 ---------\n"
     ]
    },
    {
     "data": {
      "text/html": [
       " <span style=\"background-color:#eadbd8;\">1) it does </span><span style=\"background-color:#eadbd8;\">on to be pr</span><span style=\"background-color:#d8daef;\">actical, _i.e._ </span><span style=\"background-color:#ecf3cf;\">as having se</span><span style=\"background-color:#e2d7d5;\">t up with the<br></span><span style=\"background-color:#e5e8e8;\">independence. O</span><span style=\"background-color:#d8daef;\">therwise, we </span><span style=\"background-color:#d6eaf8;\">are limited to th</span><span style=\"background-color:#ecf3cf;\">is time only i</span>s the Central Act<span style=\"background-color:#d4e6f1;\">s<br>what the </span><span style=\"background-color:#ecf3cf;\">Sophists that the</span> <span style=\"background-color:#d4efdf;\">“beyond,” </span>the N<span style=\"background-color:#d8daef;\">ow find that </span>it is<br>ird<span style=\"background-color:#ebdef0;\">ly; and fr</span>e<span style=\"background-color:#d8daef;\">e, and yet </span>"
      ],
      "text/plain": [
       "<IPython.core.display.HTML object>"
      ]
     },
     "metadata": {},
     "output_type": "display_data"
    },
    {
     "data": {
      "text/html": [
       "<small><p style=\"text-align:right;\">Sources: <span style=\"background-color:#eadbd8;\">Friedrich Nietzsche: The Will to Power, Books I and II</span>, <span style=\"background-color:#eadbd8;\">Immanuel Kant: The Critique of Pure Reason</span>, <span style=\"background-color:#d8daef;\">Georg Wilhelm Hegel: The History of Philosophy: Volume 3 of 3</span>, <span style=\"background-color:#ecf3cf;\">Georg Wilhelm Hegel: Hegel's Lectures on the History of Philosophy: Vol. 2 of 3</span>, <span style=\"background-color:#e2d7d5;\">Friedrich Nietzsche: Thus Spake Zarathustra</span>, <span style=\"background-color:#e5e8e8;\">Immanuel Kant: The Critique of Practical Reason</span>, <span style=\"background-color:#d6eaf8;\">Immanuel Kant: Perpetual Peace</span>, <span style=\"background-color:#d4e6f1;\">Immanuel Kant: Kant's Critique of Judgement</span>, <span style=\"background-color:#d4efdf;\">Georg Wilhelm Hegel: Hegel's Lectures on the History of Philosophy: Vol. 1 of 3</span>, <span style=\"background-color:#ebdef0;\">Friedrich Nietzsche: The Will to Power, Books III and IV</span></p></small>"
      ],
      "text/plain": [
       "<IPython.core.display.HTML object>"
      ]
     },
     "metadata": {},
     "output_type": "display_data"
    },
    {
     "name": "stdout",
     "output_type": "stream",
     "text": [
      "-------------------------------------------\n",
      "step 4000: train loss 2.9185, val loss 2.9338, time 2.312 sec/iter\n",
      "Sample: --------temperature: 0.8 ---------\n"
     ]
    },
    {
     "data": {
      "text/html": [
       " ‘The<span style=\"background-color:#eadbd8;\"> Salvation th</span>a<span style=\"background-color:#ebdef0;\">n the appli</span>es<span style=\"background-color:#d8daef;\"> to memory</span><span style=\"background-color:#d4e6f1;\">, and so re</span>fute<span style=\"background-color:#ecf3cf;\">s<br>the nature </span><span style=\"background-color:#eadbd8;\">for so many </span><span style=\"background-color:#d6dbdf;\">against the cha</span><span style=\"background-color:#d8daef;\">racter of G</span>od<span style=\"background-color:#eadbd8;\">. A body is cons</span><span style=\"background-color:#d8daef;\">tituted the </span><span style=\"background-color:#d6eaf8;\">quality<br>of the </span><span style=\"background-color:#d4e6f1;\">necessity of the univers</span><span style=\"background-color:#ecf3cf;\">e, is wanting. A</span><span style=\"background-color:#d4efdf;\">ccording to this, w</span>hen<span style=\"background-color:#e2d7d5;\"> we also know </span>it,<span style=\"background-color:#ecf3cf;\"><br>taken as a </span>criterio"
      ],
      "text/plain": [
       "<IPython.core.display.HTML object>"
      ]
     },
     "metadata": {},
     "output_type": "display_data"
    },
    {
     "data": {
      "text/html": [
       "<small><p style=\"text-align:right;\">Sources: <span style=\"background-color:#eadbd8;\">Friedrich Nietzsche: The Will to Power, Books I and II</span>, <span style=\"background-color:#ebdef0;\">Friedrich Nietzsche: The Will to Power, Books III and IV</span>, <span style=\"background-color:#d8daef;\">Georg Wilhelm Hegel: The History of Philosophy: Volume 3 of 3</span>, <span style=\"background-color:#d4e6f1;\">Immanuel Kant: Kant's Critique of Judgement</span>, <span style=\"background-color:#ecf3cf;\">Georg Wilhelm Hegel: Hegel's Lectures on the History of Philosophy: Vol. 2 of 3</span>, <span style=\"background-color:#eadbd8;\">Immanuel Kant: The Critique of Pure Reason</span>, <span style=\"background-color:#d6dbdf;\">Friedrich Nietzsche: Thoughts Out of Season, Part 2</span>, <span style=\"background-color:#d6eaf8;\">Immanuel Kant: Perpetual Peace</span>, <span style=\"background-color:#d4efdf;\">Georg Wilhelm Hegel: Hegel's Lectures on the History of Philosophy: Vol. 1 of 3</span>, <span style=\"background-color:#e2d7d5;\">Friedrich Nietzsche: The Joyful Wisdom</span></p></small>"
      ],
      "text/plain": [
       "<IPython.core.display.HTML object>"
      ]
     },
     "metadata": {},
     "output_type": "display_data"
    },
    {
     "name": "stdout",
     "output_type": "stream",
     "text": [
      "-------------------------------------------\n",
      "step 4250: train loss 2.7337, val loss 2.7557, time 2.294 sec/iter\n",
      "Sample: --------temperature: 0.8 ---------\n"
     ]
    },
    {
     "data": {
      "text/html": [
       " 5) that “heavenly<span style=\"background-color:#f6ddcc;\"><br>adorns the</span><span style=\"background-color:#d4efdf;\"> Misfortune</span>” (health<span style=\"background-color:#ecf3cf;\">) “and<br>the</span> Take here...” (Tellanech<span style=\"background-color:#d0ece7;\">us de oratori</span>e_)<br>“The T<span style=\"background-color:#d8daef;\">he Old Testame</span>” that “"
      ],
      "text/plain": [
       "<IPython.core.display.HTML object>"
      ]
     },
     "metadata": {},
     "output_type": "display_data"
    },
    {
     "data": {
      "text/html": [
       "<small><p style=\"text-align:right;\">Sources: <span style=\"background-color:#f6ddcc;\">Friedrich Nietzsche: Human, All Too Human</span>, <span style=\"background-color:#d4efdf;\">Georg Wilhelm Hegel: Hegel's Lectures on the History of Philosophy: Vol. 1 of 3</span>, <span style=\"background-color:#ecf3cf;\">Georg Wilhelm Hegel: Hegel's Lectures on the History of Philosophy: Vol. 2 of 3</span>, <span style=\"background-color:#d0ece7;\">Friedrich Nietzsche: Early Greek Philosophy & Other Essays</span>, <span style=\"background-color:#d8daef;\">Georg Wilhelm Hegel: The History of Philosophy: Volume 3 of 3</span></p></small>"
      ],
      "text/plain": [
       "<IPython.core.display.HTML object>"
      ]
     },
     "metadata": {},
     "output_type": "display_data"
    },
    {
     "name": "stdout",
     "output_type": "stream",
     "text": [
      "-------------------------------------------\n",
      "step 4500: train loss 2.6060, val loss 2.5694, time 2.334 sec/iter\n",
      "Sample: --------temperature: 0.8 ---------\n"
     ]
    },
    {
     "data": {
      "text/html": [
       " V. § 155,<br>p. 756, p. 2757; § 482, pp. 375; § 327, p. 2562, p. 57, 30; § 150, p. 27"
      ],
      "text/plain": [
       "<IPython.core.display.HTML object>"
      ]
     },
     "metadata": {},
     "output_type": "display_data"
    },
    {
     "name": "stdout",
     "output_type": "stream",
     "text": [
      "-------------------------------------------\n",
      "step 4750: train loss 2.3613, val loss 2.4146, time 2.250 sec/iter\n",
      "Sample: --------temperature: 0.8 ---------\n"
     ]
    },
    {
     "data": {
      "text/html": [
       " æterna<span style=\"background-color:#d8daef;\"> ratione boni</span><span style=\"background-color:#d0ece7;\">um contra omn</span>ipour renunct<span style=\"background-color:#eadbd8;\">imum in the</span><span style=\"background-color:#eadbd8;\"><br>case of s</span>ra<span style=\"background-color:#d0ece7;\">fting the </span><span style=\"background-color:#d8daef;\">first time </span><span style=\"background-color:#d4efdf;\">of Anaximander </span><span style=\"background-color:#d4efdf;\">Theology; </span>Thebeside says<br>Thale<span style=\"background-color:#eadbd8;\">id, that in </span><span style=\"background-color:#d4e6f1;\">respect of pur</span><span style=\"background-color:#d8daef;\">e<br>conceptions which he</span><span style=\"background-color:#d8daef;\">l notion of the </span>sgen"
      ],
      "text/plain": [
       "<IPython.core.display.HTML object>"
      ]
     },
     "metadata": {},
     "output_type": "display_data"
    },
    {
     "data": {
      "text/html": [
       "<small><p style=\"text-align:right;\">Sources: <span style=\"background-color:#d8daef;\">Georg Wilhelm Hegel: The History of Philosophy: Volume 3 of 3</span>, <span style=\"background-color:#d0ece7;\">Friedrich Nietzsche: Early Greek Philosophy & Other Essays</span>, <span style=\"background-color:#eadbd8;\">Immanuel Kant: The Critique of Pure Reason</span>, <span style=\"background-color:#eadbd8;\">Friedrich Nietzsche: The Will to Power, Books I and II</span>, <span style=\"background-color:#d4efdf;\">Georg Wilhelm Hegel: Hegel's Lectures on the History of Philosophy: Vol. 1 of 3</span>, <span style=\"background-color:#d4e6f1;\">Immanuel Kant: Kant's Critique of Judgement</span>, <span style=\"background-color:#d8daef;\">Friedrich Nietzsche: Thoughts out of Season, Part One</span></p></small>"
      ],
      "text/plain": [
       "<IPython.core.display.HTML object>"
      ]
     },
     "metadata": {},
     "output_type": "display_data"
    },
    {
     "name": "stdout",
     "output_type": "stream",
     "text": [
      "-------------------------------------------\n",
      "step 5000: train loss 2.2619, val loss 2.2989, time 2.307 sec/iter\n",
      "Sample: --------temperature: 0.8 ---------\n"
     ]
    },
    {
     "data": {
      "text/html": [
       "<span style=\"background-color:#fdebd0;\"> ^paragraph 30}<br><br></span>“<span style=\"background-color:#ebdef0;\">Even supposi</span><span style=\"background-color:#d4efdf;\">tion is, in the </span><span style=\"background-color:#d4e6e1;\">condition of all our </span><span style=\"background-color:#eadbd8;\">knowledge, of which </span><span style=\"background-color:#ebdef0;\">it has to<br></span>force<span style=\"background-color:#d4e6f1;\"> our observation </span><span style=\"background-color:#eadbd8;\">(_i.e._ an</span>tinomy)<span style=\"background-color:#edebd0;\"> are free from </span><span style=\"background-color:#eadbd8;\">their ideal, </span><span style=\"background-color:#d4efdf;\">but even in<br></span><span style=\"background-color:#d0ece7;\">themselves for the p</span><span style=\"background-color:#eadbd8;\">urpose of proving the</span><span style=\"background-color:#edebd0;\"> same subject, </span>which"
      ],
      "text/plain": [
       "<IPython.core.display.HTML object>"
      ]
     },
     "metadata": {},
     "output_type": "display_data"
    },
    {
     "data": {
      "text/html": [
       "<small><p style=\"text-align:right;\">Sources: <span style=\"background-color:#fdebd0;\">Immanuel Kant: The Metaphysical Elements of Ethics</span>, <span style=\"background-color:#ebdef0;\">Friedrich Nietzsche: The Will to Power, Books III and IV</span>, <span style=\"background-color:#d4efdf;\">Georg Wilhelm Hegel: Hegel's Lectures on the History of Philosophy: Vol. 1 of 3</span>, <span style=\"background-color:#d4e6e1;\">Immanuel Kant: Fundamental Principles of the Metaphysic of Morals</span>, <span style=\"background-color:#eadbd8;\">Immanuel Kant: The Critique of Pure Reason</span>, <span style=\"background-color:#d4e6f1;\">Immanuel Kant: Kant's Critique of Judgement</span>, <span style=\"background-color:#eadbd8;\">Friedrich Nietzsche: The Will to Power, Books I and II</span>, <span style=\"background-color:#edebd0;\">Immanuel Kant: Kant's Prolegomena</span>, <span style=\"background-color:#d0ece7;\">Friedrich Nietzsche: Early Greek Philosophy & Other Essays</span></p></small>"
      ],
      "text/plain": [
       "<IPython.core.display.HTML object>"
      ]
     },
     "metadata": {},
     "output_type": "display_data"
    },
    {
     "name": "stdout",
     "output_type": "stream",
     "text": [
      "-------------------------------------------\n",
      "step 5250: train loss 2.1125, val loss 2.1175, time 2.273 sec/iter\n",
      "Sample: --------temperature: 0.8 ---------\n"
     ]
    },
    {
     "data": {
      "text/html": [
       " 9, c. 14, πὰρῶντι τητοῦν ερειναι, ἀρχετή<span style=\"background-color:#d8daef;\">), and the </span>Good<br>prop<span style=\"background-color:#d8daef;\">er understanding </span>(δαιάνετ"
      ],
      "text/plain": [
       "<IPython.core.display.HTML object>"
      ]
     },
     "metadata": {},
     "output_type": "display_data"
    },
    {
     "data": {
      "text/html": [
       "<small><p style=\"text-align:right;\">Sources: <span style=\"background-color:#d8daef;\">Georg Wilhelm Hegel: The History of Philosophy: Volume 3 of 3</span></p></small>"
      ],
      "text/plain": [
       "<IPython.core.display.HTML object>"
      ]
     },
     "metadata": {},
     "output_type": "display_data"
    },
    {
     "name": "stdout",
     "output_type": "stream",
     "text": [
      "-------------------------------------------\n",
      "step 5500: train loss 2.0532, val loss 1.9695, time 2.269 sec/iter\n",
      "Sample: --------temperature: 0.8 ---------\n"
     ]
    },
    {
     "data": {
      "text/html": [
       " * * <span style=\"background-color:#edebd0;\">10}<br><br>===================================<br>{1</span>4} Von den Elean, X., I. pp. 200-301; XIV.<br>164-44<span style=\"background-color:#e2d7d5;\">) with the </span>Elea"
      ],
      "text/plain": [
       "<IPython.core.display.HTML object>"
      ]
     },
     "metadata": {},
     "output_type": "display_data"
    },
    {
     "data": {
      "text/html": [
       "<small><p style=\"text-align:right;\">Sources: <span style=\"background-color:#edebd0;\">Immanuel Kant: Kant's Prolegomena</span>, <span style=\"background-color:#e2d7d5;\">Friedrich Nietzsche: The Joyful Wisdom</span></p></small>"
      ],
      "text/plain": [
       "<IPython.core.display.HTML object>"
      ]
     },
     "metadata": {},
     "output_type": "display_data"
    },
    {
     "name": "stdout",
     "output_type": "stream",
     "text": [
      "-------------------------------------------\n",
      "step 5750: train loss 1.8407, val loss 1.8223, time 2.196 sec/iter\n",
      "Sample: --------temperature: 0.8 ---------\n"
     ]
    },
    {
     "data": {
      "text/html": [
       " _<span style=\"background-color:#d8daef;\">The Paris </span><span style=\"background-color:#d6eaf8;\">and the guarante</span><span style=\"background-color:#d4e6f1;\">d to the<br>  </span>Peaceus (III. 41<span style=\"background-color:#ebdef0;\">4), and th</span><span style=\"background-color:#d8daef;\">erefore a </span><span style=\"background-color:#ecf3cf;\">judgment according</span><span style=\"background-color:#d4e6f1;\"><br>to the number of a</span><span style=\"background-color:#eadbd8;\"> merely mechanical </span><span style=\"background-color:#e5e8e8;\">transitory, as </span><span style=\"background-color:#d4efdf;\">also with<br></span><span style=\"background-color:#d6eaf8;\">  following s</span>m<span style=\"background-color:#d4efdf;\">all, under which </span><span style=\"background-color:#eadbd8;\">neither go</span>vernor "
      ],
      "text/plain": [
       "<IPython.core.display.HTML object>"
      ]
     },
     "metadata": {},
     "output_type": "display_data"
    },
    {
     "data": {
      "text/html": [
       "<small><p style=\"text-align:right;\">Sources: <span style=\"background-color:#d8daef;\">Georg Wilhelm Hegel: The History of Philosophy: Volume 3 of 3</span>, <span style=\"background-color:#d6eaf8;\">Immanuel Kant: Perpetual Peace</span>, <span style=\"background-color:#d4e6f1;\">Immanuel Kant: Kant's Critique of Judgement</span>, <span style=\"background-color:#ebdef0;\">Friedrich Nietzsche: The Will to Power, Books III and IV</span>, <span style=\"background-color:#ecf3cf;\">Georg Wilhelm Hegel: Hegel's Lectures on the History of Philosophy: Vol. 2 of 3</span>, <span style=\"background-color:#eadbd8;\">Friedrich Nietzsche: The Will to Power, Books I and II</span>, <span style=\"background-color:#e5e8e8;\">Immanuel Kant: The Critique of Practical Reason</span>, <span style=\"background-color:#d4efdf;\">Georg Wilhelm Hegel: Hegel's Lectures on the History of Philosophy: Vol. 1 of 3</span></p></small>"
      ],
      "text/plain": [
       "<IPython.core.display.HTML object>"
      ]
     },
     "metadata": {},
     "output_type": "display_data"
    },
    {
     "name": "stdout",
     "output_type": "stream",
     "text": [
      "-------------------------------------------\n",
      "step 6000: train loss 1.7299, val loss 1.7058, time 2.196 sec/iter\n",
      "Sample: --------temperature: 0.8 ---------\n"
     ]
    },
    {
     "data": {
      "text/html": [
       " καὶ ὑπνόσεμινον καὐστὸ ἄνωνων δύδει μοδὲ δxiv. (ἀπαὶ"
      ],
      "text/plain": [
       "<IPython.core.display.HTML object>"
      ]
     },
     "metadata": {},
     "output_type": "display_data"
    },
    {
     "name": "stdout",
     "output_type": "stream",
     "text": [
      "-------------------------------------------\n",
      "step 6250: train loss 1.5934, val loss 1.6227, time 2.211 sec/iter\n",
      "Sample: --------temperature: 0.8 ---------\n"
     ]
    },
    {
     "data": {
      "text/html": [
       " ὐκ § 19, 11<span style=\"background-color:#d8daef;\">, p. 112; c</span>. 188, 114, 11<span style=\"background-color:#d8daef;\">9; chap. x</span><span style=\"background-color:#edebd0;\">iii. § 9, </span>p. 1406, 12<span style=\"background-color:#d8daef;\">5.<br><br>[207] </span>Hume: E"
      ],
      "text/plain": [
       "<IPython.core.display.HTML object>"
      ]
     },
     "metadata": {},
     "output_type": "display_data"
    },
    {
     "data": {
      "text/html": [
       "<small><p style=\"text-align:right;\">Sources: <span style=\"background-color:#d8daef;\">Georg Wilhelm Hegel: The History of Philosophy: Volume 3 of 3</span>, <span style=\"background-color:#edebd0;\">Immanuel Kant: Kant's Prolegomena</span></p></small>"
      ],
      "text/plain": [
       "<IPython.core.display.HTML object>"
      ]
     },
     "metadata": {},
     "output_type": "display_data"
    },
    {
     "name": "stdout",
     "output_type": "stream",
     "text": [
      "-------------------------------------------\n",
      "step 6500: train loss 1.4784, val loss 1.4978, time 14.377 sec/iter\n",
      "Sample: --------temperature: 0.8 ---------\n"
     ]
    },
    {
     "data": {
      "text/html": [
       " τὰ λλχώνα_)<span style=\"background-color:#d8daef;\">; it also </span><span style=\"background-color:#ecf3cf;\">speak of the<br></span>S<span style=\"background-color:#d8daef;\">ponderating</span>-paper,<span style=\"background-color:#ecf3cf;\"> “The Creat</span>ing (τὸ ὁ εἰκάταν ἐσται) is<br>"
      ],
      "text/plain": [
       "<IPython.core.display.HTML object>"
      ]
     },
     "metadata": {},
     "output_type": "display_data"
    },
    {
     "data": {
      "text/html": [
       "<small><p style=\"text-align:right;\">Sources: <span style=\"background-color:#d8daef;\">Georg Wilhelm Hegel: The History of Philosophy: Volume 3 of 3</span>, <span style=\"background-color:#ecf3cf;\">Georg Wilhelm Hegel: Hegel's Lectures on the History of Philosophy: Vol. 2 of 3</span></p></small>"
      ],
      "text/plain": [
       "<IPython.core.display.HTML object>"
      ]
     },
     "metadata": {},
     "output_type": "display_data"
    },
    {
     "name": "stdout",
     "output_type": "stream",
     "text": [
      "-------------------------------------------\n",
      "step 6750: train loss 1.4040, val loss 1.4032, time 25.679 sec/iter\n",
      "Sample: --------temperature: 0.8 ---------\n"
     ]
    },
    {
     "data": {
      "text/html": [
       " καν μινονντ<span style=\"background-color:#ecf3cf;\">α), such as ‘</span>Mythology’ (δαφασι ὁμονανα)<span style=\"background-color:#d4efdf;\">.” In fact, th</span><span style=\"background-color:#d4efdf;\">e object of his sy</span>stem,<span style=\"background-color:#ecf3cf;\"><br>Plato has </span><span style=\"background-color:#ecf3cf;\">maintained and </span><span style=\"background-color:#d8daef;\">revelation o</span>t "
      ],
      "text/plain": [
       "<IPython.core.display.HTML object>"
      ]
     },
     "metadata": {},
     "output_type": "display_data"
    },
    {
     "data": {
      "text/html": [
       "<small><p style=\"text-align:right;\">Sources: <span style=\"background-color:#ecf3cf;\">Georg Wilhelm Hegel: Hegel's Lectures on the History of Philosophy: Vol. 2 of 3</span>, <span style=\"background-color:#d4efdf;\">Georg Wilhelm Hegel: Hegel's Lectures on the History of Philosophy: Vol. 1 of 3</span>, <span style=\"background-color:#d8daef;\">Georg Wilhelm Hegel: The History of Philosophy: Volume 3 of 3</span></p></small>"
      ],
      "text/plain": [
       "<IPython.core.display.HTML object>"
      ]
     },
     "metadata": {},
     "output_type": "display_data"
    },
    {
     "name": "stdout",
     "output_type": "stream",
     "text": [
      "-------------------------------------------\n",
      "step 7000: train loss 1.3492, val loss 1.2810, time 11.637 sec/iter\n",
      "Sample: --------temperature: 0.8 ---------\n"
     ]
    },
    {
     "data": {
      "text/html": [
       " ”  2<span style=\"background-color:#d8daef;\">2; III. 38,</span> 138, 138, 135, <span style=\"background-color:#d8daef;\">137, 139, </span>34<span style=\"background-color:#d8daef;\">4;<br>    life and </span><span style=\"background-color:#d8daef;\">writings, II. </span>377<span style=\"background-color:#d8daef;\">.<br><br>  Trinity, the</span> visibl<span style=\"background-color:#d6eaf8;\">e St. Pierre</span><span style=\"background-color:#d8daef;\">, I. 469, </span>"
      ],
      "text/plain": [
       "<IPython.core.display.HTML object>"
      ]
     },
     "metadata": {},
     "output_type": "display_data"
    },
    {
     "data": {
      "text/html": [
       "<small><p style=\"text-align:right;\">Sources: <span style=\"background-color:#d8daef;\">Georg Wilhelm Hegel: The History of Philosophy: Volume 3 of 3</span>, <span style=\"background-color:#d6eaf8;\">Immanuel Kant: Perpetual Peace</span></p></small>"
      ],
      "text/plain": [
       "<IPython.core.display.HTML object>"
      ]
     },
     "metadata": {},
     "output_type": "display_data"
    },
    {
     "name": "stdout",
     "output_type": "stream",
     "text": [
      "-------------------------------------------\n",
      "step 7250: train loss 1.2214, val loss 1.2250, time 15.889 sec/iter\n",
      "Sample: --------temperature: 0.8 ---------\n"
     ]
    },
    {
     "data": {
      "text/html": [
       " b<span style=\"background-color:#ebdef0;\">arian, who </span>alnclud<span style=\"background-color:#d8daef;\">ed revelation</span><br>daring tecc<span style=\"background-color:#d4efdf;\">le of Athen</span><span style=\"background-color:#d4efdf;\">ian State and </span>demony. A<span style=\"background-color:#d4efdf;\">nd Aristophanes </span>makes n<span style=\"background-color:#d8daef;\">o Strauss.<br></span>But Roman eng<span style=\"background-color:#d8daef;\">as nothing in </span><span style=\"background-color:#d6eaf8;\">nature conf</span><span style=\"background-color:#d8daef;\">irmation, </span>for<span style=\"background-color:#ebdef0;\"> one could o</span>nl<span style=\"background-color:#d4efdf;\">y do without</span>"
      ],
      "text/plain": [
       "<IPython.core.display.HTML object>"
      ]
     },
     "metadata": {},
     "output_type": "display_data"
    },
    {
     "data": {
      "text/html": [
       "<small><p style=\"text-align:right;\">Sources: <span style=\"background-color:#ebdef0;\">Friedrich Nietzsche: Beyond Good and Evil</span>, <span style=\"background-color:#d8daef;\">Georg Wilhelm Hegel: The History of Philosophy: Volume 3 of 3</span>, <span style=\"background-color:#d4efdf;\">Georg Wilhelm Hegel: Hegel's Lectures on the History of Philosophy: Vol. 1 of 3</span>, <span style=\"background-color:#d8daef;\">Friedrich Nietzsche: Thoughts out of Season, Part One</span>, <span style=\"background-color:#d6eaf8;\">Immanuel Kant: Perpetual Peace</span></p></small>"
      ],
      "text/plain": [
       "<IPython.core.display.HTML object>"
      ]
     },
     "metadata": {},
     "output_type": "display_data"
    },
    {
     "name": "stdout",
     "output_type": "stream",
     "text": [
      "-------------------------------------------\n",
      "step 7500: train loss 1.1642, val loss 1.1652, time 16.065 sec/iter\n",
      "Sample: --------temperature: 0.8 ---------\n"
     ]
    },
    {
     "data": {
      "text/html": [
       " περῶν<span style=\"background-color:#d4efdf;\">), out of </span><span style=\"background-color:#ecf3cf;\">itself exists </span><span style=\"background-color:#d4efdf;\">which<br>is not in </span>itself; (γ<span style=\"background-color:#ecf3cf;\">) that the soul </span><span style=\"background-color:#d8daef;\">is the unm</span><span style=\"background-color:#ecf3cf;\">oved and that which</span><br><span style=\"background-color:#eadbd8;\"> reality. (</span>α)<span style=\"background-color:#d8daef;\"> The existence of </span><span style=\"background-color:#d6dbdf;\">nature is un</span><span style=\"background-color:#d8daef;\">true, the b</span>ody (κοῦς)<span style=\"background-color:#d8daef;\"> the<br>body itself </span><span style=\"background-color:#d8daef;\">merely in the </span>_"
      ],
      "text/plain": [
       "<IPython.core.display.HTML object>"
      ]
     },
     "metadata": {},
     "output_type": "display_data"
    },
    {
     "data": {
      "text/html": [
       "<small><p style=\"text-align:right;\">Sources: <span style=\"background-color:#d4efdf;\">Georg Wilhelm Hegel: Hegel's Lectures on the History of Philosophy: Vol. 1 of 3</span>, <span style=\"background-color:#ecf3cf;\">Georg Wilhelm Hegel: Hegel's Lectures on the History of Philosophy: Vol. 2 of 3</span>, <span style=\"background-color:#d8daef;\">Georg Wilhelm Hegel: The History of Philosophy: Volume 3 of 3</span>, <span style=\"background-color:#eadbd8;\">Immanuel Kant: The Critique of Pure Reason</span>, <span style=\"background-color:#d6dbdf;\">Friedrich Nietzsche: Thoughts Out of Season, Part 2</span>, <span style=\"background-color:#d8daef;\">Friedrich Nietzsche: Thoughts out of Season, Part One</span></p></small>"
      ],
      "text/plain": [
       "<IPython.core.display.HTML object>"
      ]
     },
     "metadata": {},
     "output_type": "display_data"
    },
    {
     "name": "stdout",
     "output_type": "stream",
     "text": [
      "-------------------------------------------\n",
      "step 7750: train loss 1.0686, val loss 1.0947, time 2.294 sec/iter\n",
      "Sample: --------temperature: 0.8 ---------\n"
     ]
    },
    {
     "data": {
      "text/html": [
       " 8-92,  = 2³of, “<span style=\"background-color:#edebd0;\">gomena will </span><span style=\"background-color:#d8daef;\">specially bo</span>dy”;<span style=\"background-color:#d8daef;\">” likewise </span>stages <span style=\"background-color:#ebdef0;\">out<br>the whole of </span><span style=\"background-color:#d8daef;\">“I,” the source of </span><span style=\"background-color:#ebdef0;\">grasping w</span><span style=\"background-color:#eadbd8;\">ith system</span><span style=\"background-color:#d8daef;\">, but yet in </span><span style=\"background-color:#d4e6f1;\">the<br>very un</span><span style=\"background-color:#d8daef;\">iversal unity of </span><span style=\"background-color:#d8daef;\">self-consciousness of spirit </span>within "
      ],
      "text/plain": [
       "<IPython.core.display.HTML object>"
      ]
     },
     "metadata": {},
     "output_type": "display_data"
    },
    {
     "data": {
      "text/html": [
       "<small><p style=\"text-align:right;\">Sources: <span style=\"background-color:#edebd0;\">Immanuel Kant: Kant's Prolegomena</span>, <span style=\"background-color:#d8daef;\">Georg Wilhelm Hegel: The History of Philosophy: Volume 3 of 3</span>, <span style=\"background-color:#ebdef0;\">Friedrich Nietzsche: The Will to Power, Books III and IV</span>, <span style=\"background-color:#eadbd8;\">Immanuel Kant: The Critique of Pure Reason</span>, <span style=\"background-color:#d4e6f1;\">Immanuel Kant: Kant's Critique of Judgement</span></p></small>"
      ],
      "text/plain": [
       "<IPython.core.display.HTML object>"
      ]
     },
     "metadata": {},
     "output_type": "display_data"
    },
    {
     "name": "stdout",
     "output_type": "stream",
     "text": [
      "-------------------------------------------\n",
      "step 8000: train loss 0.9869, val loss 1.0502, time 2.387 sec/iter\n",
      "Sample: --------temperature: 0.8 ---------\n"
     ]
    },
    {
     "data": {
      "text/html": [
       " --<br><br>=<span style=\"background-color:#f6ddcc;\">Harmlessness of M</span>iscours<span style=\"background-color:#e2d7d5;\">e Strength</span><span style=\"background-color:#ebdef0;\">, that it is t</span>rue, also<span style=\"background-color:#ebdef0;\">,<br>including the </span><span style=\"background-color:#eadbd8;\">bitterness and </span>ba<span style=\"background-color:#fae5d3;\">ttle happiness</span> as Nous, but<br>no adjus<span style=\"background-color:#eadbd8;\">t, should </span>yet<span style=\"background-color:#ebdef0;\"> show good </span><span style=\"background-color:#d8daef;\">in the case of</span><span style=\"background-color:#ecf3cf;\">take such<br></span><span style=\"background-color:#ecf3cf;\">being. The t</span><span style=\"background-color:#d8daef;\">hird cause of </span>the ch"
      ],
      "text/plain": [
       "<IPython.core.display.HTML object>"
      ]
     },
     "metadata": {},
     "output_type": "display_data"
    },
    {
     "data": {
      "text/html": [
       "<small><p style=\"text-align:right;\">Sources: <span style=\"background-color:#f6ddcc;\">Friedrich Nietzsche: Human, All Too Human</span>, <span style=\"background-color:#e2d7d5;\">Friedrich Nietzsche: The Joyful Wisdom</span>, <span style=\"background-color:#ebdef0;\">Friedrich Nietzsche: The Will to Power, Books III and IV</span>, <span style=\"background-color:#ebdef0;\">Friedrich Nietzsche: Beyond Good and Evil</span>, <span style=\"background-color:#eadbd8;\">Friedrich Nietzsche: The Will to Power, Books I and II</span>, <span style=\"background-color:#fae5d3;\">Friedrich Nietzsche: We Philologists, Volume 8 of 18</span>, <span style=\"background-color:#d8daef;\">Georg Wilhelm Hegel: The History of Philosophy: Volume 3 of 3</span>, <span style=\"background-color:#ecf3cf;\">Georg Wilhelm Hegel: Hegel's Lectures on the History of Philosophy: Vol. 2 of 3</span></p></small>"
      ],
      "text/plain": [
       "<IPython.core.display.HTML object>"
      ]
     },
     "metadata": {},
     "output_type": "display_data"
    },
    {
     "name": "stdout",
     "output_type": "stream",
     "text": [
      "-------------------------------------------\n",
      "step 8250: train loss 0.9541, val loss 0.9495, time 2.327 sec/iter\n",
      "Sample: --------temperature: 0.8 ---------\n"
     ]
    },
    {
     "data": {
      "text/html": [
       " Jacobi:<span style=\"background-color:#ecf3cf;\"> Physics, i</span><span style=\"background-color:#d8daef;\">mmediate knowledge</span><span style=\"background-color:#eadbd8;\">? Nothing </span><span style=\"background-color:#eadbd8;\">can the<br>understanding </span>him<span style=\"background-color:#d8daef;\"> consistency a</span>re<span style=\"background-color:#d8daef;\"> thus everywhere</span>?<br>Luther de<span style=\"background-color:#d8daef;\">s does this </span><span style=\"background-color:#d0ece7;\">justify the</span><span style=\"background-color:#d0ece7;\">se considerations </span><span style=\"background-color:#d8daef;\">regarding<br></span>both<span style=\"background-color:#d8daef;\"> laws and co</span>mmence<span style=\"background-color:#d4efdf;\">ly and openly </span>arrived "
      ],
      "text/plain": [
       "<IPython.core.display.HTML object>"
      ]
     },
     "metadata": {},
     "output_type": "display_data"
    },
    {
     "data": {
      "text/html": [
       "<small><p style=\"text-align:right;\">Sources: <span style=\"background-color:#ecf3cf;\">Georg Wilhelm Hegel: Hegel's Lectures on the History of Philosophy: Vol. 2 of 3</span>, <span style=\"background-color:#d8daef;\">Georg Wilhelm Hegel: The History of Philosophy: Volume 3 of 3</span>, <span style=\"background-color:#eadbd8;\">Friedrich Nietzsche: The Will to Power, Books I and II</span>, <span style=\"background-color:#eadbd8;\">Immanuel Kant: The Critique of Pure Reason</span>, <span style=\"background-color:#d8daef;\">Friedrich Nietzsche: Thoughts out of Season, Part One</span>, <span style=\"background-color:#d0ece7;\">Friedrich Nietzsche: Early Greek Philosophy & Other Essays</span>, <span style=\"background-color:#d4efdf;\">Georg Wilhelm Hegel: Hegel's Lectures on the History of Philosophy: Vol. 1 of 3</span></p></small>"
      ],
      "text/plain": [
       "<IPython.core.display.HTML object>"
      ]
     },
     "metadata": {},
     "output_type": "display_data"
    },
    {
     "name": "stdout",
     "output_type": "stream",
     "text": [
      "-------------------------------------------\n",
      "step 8500: train loss 0.8882, val loss 0.9066, time 2.340 sec/iter\n",
      "Sample: --------temperature: 0.8 ---------\n"
     ]
    },
    {
     "data": {
      "text/html": [
       " 5.<br><br>[144] Liber<span style=\"background-color:#d8daef;\">t. II. pp. </span>221-25.<br><br>[13<span style=\"background-color:#d4efdf;\">3] Plutarch</span>. Cic<span style=\"background-color:#d4efdf;\">. De anim. I. 2; </span>Buhle: L. II.<span style=\"background-color:#d8daef;\"> (Oper. T. II. </span>"
      ],
      "text/plain": [
       "<IPython.core.display.HTML object>"
      ]
     },
     "metadata": {},
     "output_type": "display_data"
    },
    {
     "data": {
      "text/html": [
       "<small><p style=\"text-align:right;\">Sources: <span style=\"background-color:#d8daef;\">Georg Wilhelm Hegel: The History of Philosophy: Volume 3 of 3</span>, <span style=\"background-color:#d4efdf;\">Georg Wilhelm Hegel: Hegel's Lectures on the History of Philosophy: Vol. 1 of 3</span></p></small>"
      ],
      "text/plain": [
       "<IPython.core.display.HTML object>"
      ]
     },
     "metadata": {},
     "output_type": "display_data"
    },
    {
     "name": "stdout",
     "output_type": "stream",
     "text": [
      "-------------------------------------------\n",
      "step 8750: train loss 0.8282, val loss 0.8526, time 2.353 sec/iter\n",
      "Sample: --------temperature: 0.8 ---------\n"
     ]
    },
    {
     "data": {
      "text/html": [
       " ὐ οὐκλο<span style=\"background-color:#ecf3cf;\">ύνη), and </span><span style=\"background-color:#d4e6f1;\">yet are the</span><span style=\"background-color:#eadbd8;\">se<br>principles which </span><span style=\"background-color:#eadbd8;\">of invalid</span><span style=\"background-color:#d4e6f1;\"> morals in re</span><span style=\"background-color:#d4e6f1;\">spect of l</span><span style=\"background-color:#ebdef0;\">anguage, o</span><span style=\"background-color:#eadbd8;\">r<br>previous</span>l<span style=\"background-color:#ebdef0;\">y as to be</span><span style=\"background-color:#eadbd8;\"> proved in the </span><span style=\"background-color:#ecf3cf;\">Oriental fashion;</span><span style=\"background-color:#eadbd8;\"><br>not even </span>now <span style=\"background-color:#e2d7d5;\">alleth it </span><span style=\"background-color:#d4e6f1;\">proceeded up</span> o<span style=\"background-color:#ecf3cf;\">r Academy, </span>"
      ],
      "text/plain": [
       "<IPython.core.display.HTML object>"
      ]
     },
     "metadata": {},
     "output_type": "display_data"
    },
    {
     "data": {
      "text/html": [
       "<small><p style=\"text-align:right;\">Sources: <span style=\"background-color:#ecf3cf;\">Georg Wilhelm Hegel: Hegel's Lectures on the History of Philosophy: Vol. 2 of 3</span>, <span style=\"background-color:#d4e6f1;\">Immanuel Kant: Kant's Critique of Judgement</span>, <span style=\"background-color:#eadbd8;\">Immanuel Kant: The Critique of Pure Reason</span>, <span style=\"background-color:#eadbd8;\">Friedrich Nietzsche: The Will to Power, Books I and II</span>, <span style=\"background-color:#ebdef0;\">Friedrich Nietzsche: The Will to Power, Books III and IV</span>, <span style=\"background-color:#e2d7d5;\">Friedrich Nietzsche: Thus Spake Zarathustra</span></p></small>"
      ],
      "text/plain": [
       "<IPython.core.display.HTML object>"
      ]
     },
     "metadata": {},
     "output_type": "display_data"
    },
    {
     "name": "stdout",
     "output_type": "stream",
     "text": [
      "-------------------------------------------\n",
      "step 9000: train loss 0.7760, val loss 0.8244, time 2.364 sec/iter\n",
      "Sample: --------temperature: 0.8 ---------\n"
     ]
    },
    {
     "data": {
      "text/html": [
       "<span style=\"background-color:#eadbd8;\"> \"without </span><span style=\"background-color:#d4efdf;\">which nothing can be </span><span style=\"background-color:#e2d7d5;\">thought about i</span>n mind<span style=\"background-color:#ecf3cf;\">ow, even in </span>into<span style=\"background-color:#ebdef0;\"><br>action, as </span><span style=\"background-color:#e2d7d5;\">creations of the </span>b<span style=\"background-color:#ebdef0;\">rained the </span><span style=\"background-color:#ebdef0;\">_effects._</span><br><br><br>335.<span style=\"background-color:#ebdef0;\"> The economic </span><span style=\"background-color:#e2d7d5;\">class of the </span><span style=\"background-color:#d8daef;\">human race</span>s a<span style=\"background-color:#d8daef;\">rtification,</span>--T<span style=\"background-color:#e5e8e8;\">he<br>satisfaction of the </span><span style=\"background-color:#ebdef0;\">_fear_ of </span><span style=\"background-color:#e2d7d5;\">the individuals, the </span>"
      ],
      "text/plain": [
       "<IPython.core.display.HTML object>"
      ]
     },
     "metadata": {},
     "output_type": "display_data"
    },
    {
     "data": {
      "text/html": [
       "<small><p style=\"text-align:right;\">Sources: <span style=\"background-color:#eadbd8;\">Friedrich Nietzsche: The Will to Power, Books I and II</span>, <span style=\"background-color:#d4efdf;\">Georg Wilhelm Hegel: Hegel's Lectures on the History of Philosophy: Vol. 1 of 3</span>, <span style=\"background-color:#e2d7d5;\">Friedrich Nietzsche: The Joyful Wisdom</span>, <span style=\"background-color:#ecf3cf;\">Georg Wilhelm Hegel: Hegel's Lectures on the History of Philosophy: Vol. 2 of 3</span>, <span style=\"background-color:#ebdef0;\">Friedrich Nietzsche: The Will to Power, Books III and IV</span>, <span style=\"background-color:#d8daef;\">Georg Wilhelm Hegel: The History of Philosophy: Volume 3 of 3</span>, <span style=\"background-color:#e5e8e8;\">Immanuel Kant: The Critique of Practical Reason</span></p></small>"
      ],
      "text/plain": [
       "<IPython.core.display.HTML object>"
      ]
     },
     "metadata": {},
     "output_type": "display_data"
    },
    {
     "name": "stdout",
     "output_type": "stream",
     "text": [
      "-------------------------------------------\n",
      "Iteration:  9016/9250/1000000"
     ]
    }
   ],
   "source": [
    "dt0 = time.time()\n",
    "print(\"training...\")\n",
    "for iter in range(start_iter, params['max_iterations']):\n",
    "    print(f\"\\rIteration: {iter+1:5d}/{((iter+1)//params['sample_every_n_iterations']+1)*params['sample_every_n_iterations']}/{params['max_iterations']}\", end=\"\", flush=True)\n",
    "    # every once in a while evaluate the loss on train and val sets\n",
    "    if (iter + 1) % params['sample_every_n_iterations'] == 0 or iter == params['max_iterations'] - 1:\n",
    "        dt = time.time()\n",
    "        print(f\"\\rloss eval\", end=\"\", flush=True)\n",
    "        losses = estimate_loss(device)\n",
    "        print(\n",
    "            f\"step {iter+1}: train loss {losses['train']:.4f}, val loss {losses['val']:.4f}, time {(dt-dt0)/params['sample_every_n_iterations']:.3f} sec/iter\"\n",
    "        )\n",
    "        print(\"Sample: \", end=\"\", flush=True)\n",
    "        for temperature in [0.8]:\n",
    "            print(f\"--------temperature: {temperature} ---------\")\n",
    "            generate_sample(td, device, toks=50, temperature=temperature)\n",
    "        print(\"-------------------------------------------\")\n",
    "        dt0 = time.time()\n",
    "    # sample a batch of data\n",
    "    xb, yb = get_torch_batch(td, params['batch_size'], device, \"train\")\n",
    "    # evaluate the loss\n",
    "    do_train_step(xb, yb)\n",
    "    start_iter = iter"
   ]
  },
  {
   "cell_type": "code",
   "execution_count": null,
   "metadata": {
    "id": "yZozsv2RdK90"
   },
   "outputs": [],
   "source": [
    "txt = generate_sample(td, device, toks=100, temperature=1.2)\n",
    "print(txt)\n",
    "td.source_highlight(txt)"
   ]
  },
  {
   "cell_type": "code",
   "execution_count": null,
   "metadata": {
    "id": "M0EJVYX2MdR7"
   },
   "outputs": [],
   "source": [
    "generate_sample(td, device, input=\"Absolute truth \", toks=180, temperature=0.7)"
   ]
  },
  {
   "cell_type": "code",
   "execution_count": null,
   "metadata": {},
   "outputs": [],
   "source": []
  }
 ],
 "metadata": {
  "@webio": {
   "lastCommId": "ec3a4d2d-8063-4bfd-a4a2-ee070d3272f7",
   "lastKernelId": "1acc2b74-f51e-477b-910a-a5519dad53b9"
  },
  "accelerator": "GPU",
  "colab": {
   "collapsed_sections": [
    "VmWbteSFQtfq",
    "yWE_ZZMKEARV"
   ],
   "include_colab_link": true,
   "machine_shape": "hm",
   "name": "torch_transformer_poet.ipynb",
   "provenance": []
  },
  "gpuClass": "premium",
  "kernelspec": {
   "display_name": "Python 3 (ipykernel)",
   "language": "python",
   "name": "python3"
  },
  "language_info": {
   "codemirror_mode": {
    "name": "ipython",
    "version": 3
   },
   "file_extension": ".py",
   "mimetype": "text/x-python",
   "name": "python",
   "nbconvert_exporter": "python",
   "pygments_lexer": "ipython3",
   "version": "3.10.8"
  }
 },
 "nbformat": 4,
 "nbformat_minor": 4
}
