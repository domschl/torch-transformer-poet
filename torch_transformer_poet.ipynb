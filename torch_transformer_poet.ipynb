{
  "cells": [
    {
      "cell_type": "markdown",
      "metadata": {
        "id": "view-in-github",
        "colab_type": "text"
      },
      "source": [
        "<a href=\"https://colab.research.google.com/github/domschl/torch-transformer-poet/blob/main/torch_transformer_poet.ipynb\" target=\"_parent\"><img src=\"https://colab.research.google.com/assets/colab-badge.svg\" alt=\"Open In Colab\"/></a>"
      ]
    },
    {
      "cell_type": "markdown",
      "metadata": {
        "id": "fEXNOWhCEAPk"
      },
      "source": [
        "# Torch-Transformer-Poet"
      ]
    },
    {
      "cell_type": "markdown",
      "metadata": {
        "id": "DabS0VZ-1Zp0"
      },
      "source": [
        "Please review [ml-indie-tools](https://github.com/domschl/ml-indie-tools), a collection machine learning tools that provides support for more environment indepent code. It will access your Google Drive when using with Google Colab."
      ]
    },
    {
      "cell_type": "code",
      "execution_count": 1,
      "metadata": {
        "colab": {
          "base_uri": "https://localhost:8080/"
        },
        "id": "gF-7qFzMdnN1",
        "outputId": "c1e763e4-ea51-44e3-821c-4225ddcda533"
      },
      "outputs": [
        {
          "output_type": "stream",
          "name": "stdout",
          "text": [
            "Requirement already satisfied: ml-indie-tools in /usr/local/lib/python3.10/dist-packages (0.9.19)\n"
          ]
        }
      ],
      "source": [
        "!pip install -U ml-indie-tools"
      ]
    },
    {
      "cell_type": "code",
      "execution_count": 2,
      "metadata": {
        "colab": {
          "base_uri": "https://localhost:8080/"
        },
        "id": "jtpy59Yq-Qfz",
        "outputId": "29cd5935-2880-41ee-80d7-70cc1365c874"
      },
      "outputs": [
        {
          "output_type": "stream",
          "name": "stdout",
          "text": [
            "/sbin/ldconfig.real: /usr/local/lib/libtbbmalloc_proxy.so.2 is not a symbolic link\n",
            "\n",
            "/sbin/ldconfig.real: /usr/local/lib/libtbbmalloc.so.2 is not a symbolic link\n",
            "\n",
            "/sbin/ldconfig.real: /usr/local/lib/libtbb.so.12 is not a symbolic link\n",
            "\n",
            "/sbin/ldconfig.real: /usr/local/lib/libtbbbind.so.3 is not a symbolic link\n",
            "\n",
            "/sbin/ldconfig.real: /usr/local/lib/libtbbbind_2_5.so.3 is not a symbolic link\n",
            "\n",
            "/sbin/ldconfig.real: /usr/local/lib/libtbbbind_2_0.so.3 is not a symbolic link\n",
            "\n"
          ]
        }
      ],
      "source": [
        "import sys\n",
        "if 'google.colab' in sys.modules:\n",
        "    # from: https://github.com/pytorch/pytorch/issues/107960  (libcuda not found)\n",
        "    !export LC_ALL=\"en_US.UTF-8\"\n",
        "    !export LD_LIBRARY_PATH=\"/usr/lib64-nvidia\"\n",
        "    !export LIBRARY_PATH=\"/usr/local/cuda/lib64/stubs\"\n",
        "    !ldconfig /usr/lib64-nvidia\n",
        "#     print(\"While default colab is still stuck with pytorch 1.13, we update to 2.0 using PIP. This can be removed, once Colab arrives in the presence.\")\n",
        "#     !pip install -U torch"
      ]
    },
    {
      "cell_type": "code",
      "execution_count": 3,
      "metadata": {
        "id": "EgLLjG4yQtft"
      },
      "outputs": [],
      "source": [
        "import logging\n",
        "import os\n",
        "import copy\n",
        "import json\n",
        "import time\n",
        "import datetime\n",
        "import random\n",
        "import numpy as np\n",
        "\n",
        "import torch"
      ]
    },
    {
      "cell_type": "code",
      "execution_count": 4,
      "metadata": {
        "id": "U5T4m6earb1e"
      },
      "outputs": [],
      "source": [
        "from ml_indie_tools.env_tools import MLEnv\n",
        "from ml_indie_tools.Gutenberg_Dataset import Gutenberg_Dataset\n",
        "from ml_indie_tools.Text_Dataset import Text_Dataset\n",
        "\n",
        "from ml_indie_tools.Calibre_Dataset import Calibre_Dataset\n",
        "from ml_indie_tools.Folder_Dataset import Folder_Dataset\n",
        "\n",
        "from ml_indie_tools.pytorch_custom_layers import MultiHeadSelfAttention\n",
        "from ml_indie_tools.pytorch_tr_compr_layers import MultiHeadSelfAttentionWithCompression, MultiHeadSelfAttentionWithCompressionState\n",
        "import ml_indie_tools.pytorch_meta_tools as MJ"
      ]
    },
    {
      "cell_type": "code",
      "execution_count": 5,
      "metadata": {
        "id": "jVcwvURB5EZN"
      },
      "outputs": [],
      "source": [
        "logging.basicConfig(level=logging.INFO)\n",
        "log = logging.Logger(\"Main\")\n",
        "log.setLevel(logging.INFO)"
      ]
    },
    {
      "cell_type": "markdown",
      "metadata": {
        "id": "VmWbteSFQtfq"
      },
      "source": [
        "## Preliminary\n",
        "\n",
        "A pytorch deep multi-head attention model for text generation following Andrej Karpathy's [video-lecture-ng](https://github.com/karpathy/ng-video-lecture/blob/master/gpt.py)\n",
        "\n",
        "This code can use either CPU, GPU, or Apple Silicon. Google Colab is supported too, select the corresponding Colab runtime (menu: **`Runtime / Change runtime type`**)"
      ]
    },
    {
      "cell_type": "markdown",
      "metadata": {
        "id": "sfZg31sMEAP1"
      },
      "source": [
        "## 0. Environment"
      ]
    },
    {
      "cell_type": "code",
      "execution_count": 6,
      "metadata": {
        "colab": {
          "base_uri": "https://localhost:8080/",
          "height": 54
        },
        "id": "llPw84PkEAP2",
        "outputId": "7b910d16-2d25-43d6-8afe-a2bbea2bfa98"
      },
      "outputs": [
        {
          "output_type": "execute_result",
          "data": {
            "text/plain": [
              "'OS: Linux, Python: 3.10.12, Colab Jupyter Notebook Pytorch: 2.1.0+cu118, GPU: Tesla V100-SXM2-16GB (2MiB / 16384MiB), CPU'"
            ],
            "application/vnd.google.colaboratory.intrinsic+json": {
              "type": "string"
            }
          },
          "metadata": {},
          "execution_count": 6
        }
      ],
      "source": [
        "cached_batch_data = None   # Do regenerate time-consuming training data, if aleady cached.\n",
        "\n",
        "ml_env = MLEnv(platform='pt', accelerator='fastest')\n",
        "ml_env.describe()"
      ]
    },
    {
      "cell_type": "markdown",
      "metadata": {
        "id": "7Qg3ZPBmC8kO"
      },
      "source": [
        "## 1. Project configuration"
      ]
    },
    {
      "cell_type": "code",
      "execution_count": 7,
      "metadata": {
        "colab": {
          "base_uri": "https://localhost:8080/"
        },
        "id": "t-TP3Pnsrb1f",
        "outputId": "76899ce6-b2e3-4cd3-b97c-039cc161bfe9"
      },
      "outputs": [
        {
          "output_type": "stream",
          "name": "stdout",
          "text": [
            "Root path (all projects) : /content/drive/My Drive (This will be '.' (current dir) for local projects, and a google drive path for Colab)\n",
            "Project path             : /content/drive/My Drive/Colab Notebooks/notes_and_research (Changes to the file system happen only below this project path\n",
            "Model path (snapshots)   : /content/drive/My Drive/Colab Notebooks/notes_and_research/model/ngpt_COMP_notes_and_research_v2_pt (Model weights and snapshots are stored here)\n",
            "Data path (training data): /content/drive/My Drive/Colab Notebooks/notes_and_research/data (Training data will be downloaded here)\n",
            "Log dir (tensorboard)    : ./logs (it doesn't work to put logs on gdrive due to caching, hence local dir)\n"
          ]
        }
      ],
      "source": [
        "# project_name = 'women_writers'\n",
        "model_cpu = None\n",
        "project_name='notes_and_research'\n",
        "model_name=f'ngpt_COMP_{project_name}_v2_pt'\n",
        "\n",
        "use_preprocessed_data = True                     # Use already tokenized data\n",
        "use_existing_model_from_checkpoint = False        # Try to load checkpoint of training\n",
        "use_torch_compile = True                         # Requires a modern graphics card with torch compile backend support\n",
        "\n",
        "# NOTICE: This will request access to Google Drive, if running on Google Colab. Google Drive is used to store snapshots\n",
        "# training data. See project ml-indie-tools: https://github.com/domschl/ml-indie-tools\n",
        "#\n",
        "# Note: you need to allow popups in your browser for COLAB, otherwise you won't see the google-drive login box, and drive access will fail!\n",
        "\n",
        "root_path, project_path, model_path, data_path, log_path = ml_env.init_paths(project_name=project_name, model_name=model_name)\n",
        "\n",
        "device = \"cuda\" if torch.cuda.is_available() else \"cpu\"\n",
        "device = torch.device(\"mps\") if torch.backends.mps.is_available() else device\n",
        "\n",
        "print(f\"Root path (all projects) : {root_path} (This will be '.' (current dir) for local projects, and a google drive path for Colab)\")\n",
        "print(f\"Project path             : {project_path} (Changes to the file system happen only below this project path\")\n",
        "print(f\"Model path (snapshots)   : {model_path} (Model weights and snapshots are stored here)\")\n",
        "print(f\"Data path (training data): {data_path} (Training data will be downloaded here)\")\n",
        "print(f\"Log dir (tensorboard)    : {log_path} (it doesn't work to put logs on gdrive due to caching, hence local dir)\")"
      ]
    },
    {
      "cell_type": "markdown",
      "metadata": {
        "id": "AIkcYcEuQtfx"
      },
      "source": [
        "##  2.1 Text data from Project Gutenberg\n",
        "\n",
        "`Text_Dataset` and `Gutenberg_Dataset` classes: libraries for training,\n",
        "encoding, batch generation, and formatted source display. It read some\n",
        "books from Project Gutenberg and supports creation of training batches.\n",
        "The output functions support highlighting to allow to compare generated\n",
        "texts with the actual sources to help to identify identical (memorized)\n",
        "parts."
      ]
    },
    {
      "cell_type": "code",
      "execution_count": 8,
      "metadata": {
        "id": "HjkelBcNO5WV"
      },
      "outputs": [],
      "source": [
        "use_dark_mode=False # Set to false for white background. HTML-text-compare uses background-colorization to identify different sources. Those background colors are dependent on the theme type."
      ]
    },
    {
      "cell_type": "code",
      "execution_count": 9,
      "metadata": {
        "id": "BF8eyWnCrb1h"
      },
      "outputs": [],
      "source": [
        "token_file = os.path.join(data_path,f\"{project_name}_tokens.json\")\n",
        "if use_preprocessed_data is True:\n",
        "    if os.path.exists(token_file):\n",
        "        td = Text_Dataset()\n",
        "        td.load_tokenizer(token_file)\n",
        "    else:\n",
        "        use_preprocessed_data = False"
      ]
    },
    {
      "cell_type": "code",
      "execution_count": 10,
      "metadata": {
        "id": "C66X7ynnrb1h"
      },
      "outputs": [],
      "source": [
        "if use_preprocessed_data is False:\n",
        "    cache_dir = os.path.join(data_path, 'gutenberg_cache')\n",
        "    gd = Gutenberg_Dataset(cache_dir=cache_dir)\n",
        "\n",
        "    if project_name == 'women_writers':  # sample searches\n",
        "        search_spec= {\n",
        "            \"author\": [\"Emily Brontë\", \"Jane Austen\", \"Virginia Woolf\"],\n",
        "            \"language\": [\"english\"]\n",
        "        }\n",
        "        book_list=gd.search(search_spec)\n",
        "    elif project_name == 'neo_philosophers':\n",
        "        search_spec = {\n",
        "            \"author\": [\"Immanuel Kant\", \"Friedrich Nietzsche\", \"Wilhelm Hegel\"],\n",
        "            \"language\": [\"english\"]\n",
        "        }\n",
        "        book_list=gd.search(search_spec)\n",
        "        search_spec = {\n",
        "            \"author\": [\"Plato\"],\n",
        "            \"title\": [\"Timaeus\", \"Critias\", \"Symposium\"],\n",
        "            \"language\": [\"english\"]\n",
        "        }\n",
        "        book_list+=gd.search(search_spec)\n",
        "    else:\n",
        "        search_spec = {}\n",
        "        book_list = []\n",
        "\n",
        "    book_cnt = len(book_list)\n",
        "    print(f\"{book_cnt} matching books found with search {search_spec}.\")\n",
        "\n",
        "    if book_cnt > 0:\n",
        "        if book_cnt<40:\n",
        "            # Note: please verify that book_cnt is 'reasonable'. If you plan to use a large number of texts,\n",
        "            # consider [mirroring Gutenberg](https://github.com/domschl/ml-indie-tools#working-with-a-local-mirror-of-project-gutenberg)\n",
        "            book_list = gd.insert_book_texts(book_list, download_count_limit=book_cnt)\n",
        "        else:\n",
        "            logging.error(\"Please verify your book_list, a large number of books is scheduled for download. ABORTED.\")\n",
        "\n",
        "        for i in range(len(book_list)):\n",
        "            print(f\"{i}: {book_list[i]['title']} - {book_list[i]['author']}, {book_list[i]['ebook_id']}\")\n",
        "\n",
        "        if project_name == 'women_writers':\n",
        "            select = (\"Bennett\", \"1342\", \"5670\", \"1245\", \"161\", \"141\", \"121\", \"105\", \"Susan\", \"Wuthering\", \"Emma\", \"Voyage\")  # List unique single-words from title or ebook_id to select a given book\n",
        "            sub_book_list = [book_list[i] for i in range(len(book_list)) if not set([book_list[i]['ebook_id']]+book_list[i]['title'].split(' ')).isdisjoint(set(select))]\n",
        "        else:\n",
        "            sub_book_list = book_list\n",
        "\n",
        "        print(\"Using:\")\n",
        "        for i in range(len(sub_book_list)):\n",
        "            print(f\"{i+1}: {sub_book_list[i]['title']} - {sub_book_list[i]['author']}\")\n",
        "\n",
        "        td = Text_Dataset(sub_book_list)\n",
        "    else:\n",
        "        td = Text_Dataset()"
      ]
    },
    {
      "cell_type": "markdown",
      "metadata": {
        "id": "dxNIc7gL9UNg"
      },
      "source": [
        "## 2.2 Additional training material for folder `{data_path}/local_texts`\n",
        "\n",
        "If the folder {data_path} (defined above) contains a sub-folder `local_texts`, and it contains\n",
        "files of structure `<title> - <author> - <language>.txt`, then they are added to the training data.\n",
        "Sample filename: `\"./data/local_texts/works-of-shakespeare - William Shakespeare - English.txt\"`.\n",
        "The titles of those documents are referenced via numeric aliases to preserve privacy on non-public data."
      ]
    },
    {
      "cell_type": "code",
      "execution_count": 11,
      "metadata": {
        "id": "1NYdjlW65EZP"
      },
      "outputs": [],
      "source": [
        "if use_preprocessed_data is False:\n",
        "    additional = os.path.join(project_path, \"additional_texts.json\")\n",
        "    print(f\"Looking for description of additional sources in {additional}\")\n",
        "    if os.path.exists(additional) is True:\n",
        "        with open(additional, 'r') as f:\n",
        "            add_desc = json.load(f)\n",
        "            if 'local_texts' in add_desc:\n",
        "                fd = Folder_Dataset()\n",
        "                for text_path in add_desc['local_texts']:\n",
        "                    print(f\"Loading texts from {text_path}\")\n",
        "                    fd.load_index(text_path, use_aliases=False, max_file_size=100000)\n",
        "                td.load_texts(fd.records[:10000])\n",
        "            if 'calibre' in add_desc:\n",
        "                cal_path = add_desc['calibre']\n",
        "                if os.path.exists(cal_path):\n",
        "                    print(f\"Loading text from calibre at {cal_path}\")\n",
        "                    cd = Calibre_Dataset(cal_path)\n",
        "                    cd.load_index(max_file_size=500000)\n",
        "                    td.load_texts(cd.records[:1000])"
      ]
    },
    {
      "cell_type": "markdown",
      "metadata": {
        "id": "GSm4f9NSC8kQ"
      },
      "source": [
        "## 2.3 Tokenize data"
      ]
    },
    {
      "cell_type": "code",
      "execution_count": 12,
      "metadata": {
        "id": "bsyBjqFyC8kQ"
      },
      "outputs": [],
      "source": [
        "if use_preprocessed_data is False:\n",
        "    MAX_TOKENS = 35000  # This becomes vocab_size\n",
        "    MAX_NGRAM_LEN = 4   # Max length of a token\n",
        "\n",
        "    print(\"\")\n",
        "    print(f\"Starting tokenizer with token length from 1..{MAX_NGRAM_LEN} with a max of {MAX_TOKENS} unique tokens,\")\n",
        "    print(\"this can take considerable time...\")\n",
        "\n",
        "    # td.init_tokenizer(tokenizer='ngram', max_ngrams=MAX_NGRAM_LEN, max_tokens=MAX_TOKENS)\n",
        "    td.init_tokenizer(tokenizer='bytegram', max_ngrams=MAX_NGRAM_LEN, max_tokens=MAX_TOKENS)\n",
        "    td.save_tokenizer(token_file)"
      ]
    },
    {
      "cell_type": "markdown",
      "metadata": {
        "id": "MG03WA_yC8kR"
      },
      "source": [
        "## 3. Model metadata"
      ]
    },
    {
      "cell_type": "code",
      "execution_count": 13,
      "metadata": {
        "id": "UPMwIn2gC8kR"
      },
      "outputs": [],
      "source": [
        "params = None\n",
        "updatable_keys=['learning_rate', 'batch_size', 'current_epoch', 'current_loss', 'stateful',\n",
        "                 'sample_every_n_iterations', 'sample_size', 'save_every_n_iterations']\n",
        "attn_layers = 4\n",
        "embs = 256\n",
        "linear_yoke_hidden_index = -1  # Set to -1, if no yoke is wanted (standard transformer model)\n",
        "linear_yoke_size = 96\n",
        "\n",
        "params = { # Multi-head self-attention\n",
        "        'meta_name_template': '{mhsa_layers}x{heads}x{units}x{vocab_size}',\n",
        "\n",
        "        'mhsa_layers': attn_layers,\n",
        "        'heads': 8,\n",
        "        'causal': True,  # Use causal self-attention\n",
        "        'linear_non_linearity': 'relu',  # relurelu: use additional relu for state gating\n",
        "        'linear_yoke_hidden_index': linear_yoke_hidden_index,  # no residual for non-default hidden_size only\n",
        "        'linear_yoke_size': linear_yoke_size,\n",
        "        'linear_yoke_residual': True,\n",
        "        'stateful': False,\n",
        "        'joint_state_training': 4,  # use consecutive training samples with shared state for 32 chars\n",
        "        'dropout': 0.1,\n",
        "        'vocab_size': td.get_unique_token_count(),\n",
        "        'sequence_len': 128,\n",
        "        'embedding_size': embs,\n",
        "        'test_iterations': 10,  # number of epocs for loss estimation\n",
        "\n",
        "        'batch_size': 128,\n",
        "        'learning_rate': 0.002,\n",
        "        'sample_every_n_iterations': 256,\n",
        "        'sample_size': 150,\n",
        "        'save_every_n_iterations': 256,\n",
        "\n",
        "        'max_iterations': 1000000  # maximum number of training iterations\n",
        "    }\n",
        "if params['stateful'] is False:\n",
        "    params['joint_state_training'] = 0\n",
        "model_file_path = MJ.get_model_filename(model_path)\n",
        "if use_existing_model_from_checkpoint is True:\n",
        "    params = MJ.load_model_metadata_from_checkpoint(params, updatable_keys, model_file_path, device=device, log=log) # torch.device('cpu'))\n",
        "if params == None or use_existing_model_from_checkpoint is False:\n",
        "    use_existing_model_from_checkpoint = False\n",
        "# print(params)"
      ]
    },
    {
      "cell_type": "markdown",
      "metadata": {
        "id": "5U1R4yDlC8kR"
      },
      "source": [
        "## 4. Batch handling"
      ]
    },
    {
      "cell_type": "code",
      "execution_count": 14,
      "metadata": {
        "colab": {
          "base_uri": "https://localhost:8080/"
        },
        "id": "f7_tc2Lirb1i",
        "outputId": "34d15c59-e020-485b-8d72-f4cb3fc9fcf1"
      },
      "outputs": [
        {
          "output_type": "stream",
          "name": "stdout",
          "text": [
            "66008632 records\n"
          ]
        }
      ],
      "source": [
        "td.init_getitem(sample_type='encoded', sample_length=params['sequence_len']+1+params['joint_state_training'], content_stepping=1)\n",
        "num_records = len(td)\n",
        "print(f\"{num_records} records\")"
      ]
    },
    {
      "cell_type": "code",
      "execution_count": 15,
      "metadata": {
        "id": "zZbbsNm0cOeW"
      },
      "outputs": [],
      "source": [
        "def get_sample_sub_batch(sample_batch, batch_size, sub_index=0):\n",
        "    for i in range(batch_size):\n",
        "        Xi = sample_batch[sub_index:-1-params['joint_state_training']+sub_index]\n",
        "        if params['joint_state_training']+sub_index == 0:\n",
        "            yi = sample_batch[sub_index+1:]\n",
        "        else:\n",
        "            yi = sample_batch[sub_index+1:-params['joint_state_training']+sub_index]\n",
        "        if i==0:\n",
        "            # smpX=np.array(Xi, dtype=np.float32)\n",
        "            smpX=np.array(Xi, dtype=np.int32)\n",
        "            smpy=np.array(yi, dtype=np.int32)\n",
        "        else:\n",
        "            # smpX = np.vstack((smpX, np.array(Xi, dtype=np.float32)))\n",
        "            smpX = np.vstack((smpX, np.array(Xi, dtype=np.int32)))\n",
        "            smpy = np.vstack((smpy, np.array(yi, dtype=np.int32)))\n",
        "    return np.array(smpX), np.array(smpy)\n",
        "\n",
        "def get_sample_batch(td, batch_size):\n",
        "    sample_batch = td.get_random_item()\n",
        "    return get_sample_sub_batch(sample_batch, batch_size)"
      ]
    },
    {
      "cell_type": "code",
      "execution_count": 16,
      "metadata": {
        "colab": {
          "base_uri": "https://localhost:8080/"
        },
        "id": "jY3hUuhQYzdT",
        "outputId": "ce591a8a-4d86-47c3-914b-db44cbd13b24"
      },
      "outputs": [
        {
          "output_type": "stream",
          "name": "stdout",
          "text": [
            "num_batches = 515692\n"
          ]
        }
      ],
      "source": [
        "num_batches = num_records // params['batch_size']\n",
        "print(f\"num_batches = {num_batches}\")"
      ]
    },
    {
      "cell_type": "code",
      "execution_count": 17,
      "metadata": {
        "id": "bgVHUkbhdK9y"
      },
      "outputs": [],
      "source": [
        "sample_data = None\n",
        "\n",
        "def get_torch_subbatch(td, batch_size, device, split=None, sub_index=0):\n",
        "    global sample_data\n",
        "    if sub_index==0:\n",
        "        sample_data = td.get_random_item()\n",
        "    x, y = get_sample_sub_batch(sample_data, batch_size, sub_index)\n",
        "    tx = torch.tensor(x, dtype=torch.long).to(device)\n",
        "    tx.requires_grad = False\n",
        "    ty = torch.tensor(y, dtype=torch.long).to(device)\n",
        "    ty.requires_grad = False\n",
        "    return tx, ty\n",
        "\n",
        "def get_torch_batch(td, batch_size, device, split=None):\n",
        "    x, y = get_sample_batch(td, batch_size)\n",
        "    tx = torch.tensor(x, dtype=torch.long).to(device)\n",
        "    tx.requires_grad = False\n",
        "    ty = torch.tensor(y, dtype=torch.long).to(device)\n",
        "    ty.requires_grad = False\n",
        "    return tx, ty\n",
        "\n",
        "def get_zero_state(batch_size, sequence_len, hidden_size, device):\n",
        "    zstate = torch.zeros(batch_size, sequence_len, hidden_size, device=device)\n",
        "    zstate.requires_grad = False\n",
        "    return zstate"
      ]
    },
    {
      "cell_type": "markdown",
      "metadata": {
        "id": "Pvbi6kjXC8kS"
      },
      "source": [
        "## 5. Loss and training helpers"
      ]
    },
    {
      "cell_type": "code",
      "execution_count": 18,
      "metadata": {
        "colab": {
          "base_uri": "https://localhost:8080/"
        },
        "id": "pdaulm1VdK9z",
        "outputId": "b1dcf326-42ab-43b7-cbc6-73c8587fffda"
      },
      "outputs": [
        {
          "output_type": "stream",
          "name": "stdout",
          "text": [
            "creating model...\n",
            "Compiling...\n",
            "Compile ok.\n",
            "OptimizedModule(\n",
            "  (_orig_mod): MultiHeadSelfAttention(\n",
            "    (token_embedding_table): Embedding(35000, 256)\n",
            "    (position_embedding_table): Embedding(128, 256)\n",
            "    (blocks): Sequential(\n",
            "      (0): Block(\n",
            "        (sa): MultiHeadAttention(\n",
            "          (heads): ModuleList(\n",
            "            (0-7): 8 x SelfAttentionHead(\n",
            "              (key): Linear(in_features=256, out_features=32, bias=False)\n",
            "              (query): Linear(in_features=256, out_features=32, bias=False)\n",
            "              (value): Linear(in_features=256, out_features=32, bias=False)\n",
            "              (dropout): Dropout(p=0.1, inplace=False)\n",
            "            )\n",
            "          )\n",
            "          (proj): Linear(in_features=256, out_features=256, bias=True)\n",
            "          (dropout): Dropout(p=0.1, inplace=False)\n",
            "        )\n",
            "        (ffwd): FeedFoward(\n",
            "          (non_linearity): ReLU()\n",
            "          (net): Sequential(\n",
            "            (0): Linear(in_features=256, out_features=1024, bias=True)\n",
            "            (1): ReLU()\n",
            "            (2): Linear(in_features=1024, out_features=256, bias=True)\n",
            "            (3): Dropout(p=0.1, inplace=False)\n",
            "          )\n",
            "        )\n",
            "        (ln1): LayerNorm((256,), eps=1e-05, elementwise_affine=True)\n",
            "        (ln2): LayerNorm((256,), eps=1e-05, elementwise_affine=True)\n",
            "      )\n",
            "      (1): Block(\n",
            "        (sa): MultiHeadAttention(\n",
            "          (heads): ModuleList(\n",
            "            (0-7): 8 x SelfAttentionHead(\n",
            "              (key): Linear(in_features=256, out_features=32, bias=False)\n",
            "              (query): Linear(in_features=256, out_features=32, bias=False)\n",
            "              (value): Linear(in_features=256, out_features=32, bias=False)\n",
            "              (dropout): Dropout(p=0.1, inplace=False)\n",
            "            )\n",
            "          )\n",
            "          (proj): Linear(in_features=256, out_features=256, bias=True)\n",
            "          (dropout): Dropout(p=0.1, inplace=False)\n",
            "        )\n",
            "        (ffwd): FeedFoward(\n",
            "          (non_linearity): ReLU()\n",
            "          (net): Sequential(\n",
            "            (0): Linear(in_features=256, out_features=1024, bias=True)\n",
            "            (1): ReLU()\n",
            "            (2): Linear(in_features=1024, out_features=256, bias=True)\n",
            "            (3): Dropout(p=0.1, inplace=False)\n",
            "          )\n",
            "        )\n",
            "        (ln1): LayerNorm((256,), eps=1e-05, elementwise_affine=True)\n",
            "        (ln2): LayerNorm((256,), eps=1e-05, elementwise_affine=True)\n",
            "      )\n",
            "      (2): Block(\n",
            "        (sa): MultiHeadAttention(\n",
            "          (heads): ModuleList(\n",
            "            (0-7): 8 x SelfAttentionHead(\n",
            "              (key): Linear(in_features=256, out_features=32, bias=False)\n",
            "              (query): Linear(in_features=256, out_features=32, bias=False)\n",
            "              (value): Linear(in_features=256, out_features=32, bias=False)\n",
            "              (dropout): Dropout(p=0.1, inplace=False)\n",
            "            )\n",
            "          )\n",
            "          (proj): Linear(in_features=256, out_features=256, bias=True)\n",
            "          (dropout): Dropout(p=0.1, inplace=False)\n",
            "        )\n",
            "        (ffwd): FeedFoward(\n",
            "          (non_linearity): ReLU()\n",
            "          (net): Sequential(\n",
            "            (0): Linear(in_features=256, out_features=1024, bias=True)\n",
            "            (1): ReLU()\n",
            "            (2): Linear(in_features=1024, out_features=256, bias=True)\n",
            "            (3): Dropout(p=0.1, inplace=False)\n",
            "          )\n",
            "        )\n",
            "        (ln1): LayerNorm((256,), eps=1e-05, elementwise_affine=True)\n",
            "        (ln2): LayerNorm((256,), eps=1e-05, elementwise_affine=True)\n",
            "      )\n",
            "      (3): Block(\n",
            "        (sa): MultiHeadAttention(\n",
            "          (heads): ModuleList(\n",
            "            (0-7): 8 x SelfAttentionHead(\n",
            "              (key): Linear(in_features=256, out_features=32, bias=False)\n",
            "              (query): Linear(in_features=256, out_features=32, bias=False)\n",
            "              (value): Linear(in_features=256, out_features=32, bias=False)\n",
            "              (dropout): Dropout(p=0.1, inplace=False)\n",
            "            )\n",
            "          )\n",
            "          (proj): Linear(in_features=256, out_features=256, bias=True)\n",
            "          (dropout): Dropout(p=0.1, inplace=False)\n",
            "        )\n",
            "        (ffwd): FeedFoward(\n",
            "          (non_linearity): ReLU()\n",
            "          (net): Sequential(\n",
            "            (0): Linear(in_features=256, out_features=1024, bias=True)\n",
            "            (1): ReLU()\n",
            "            (2): Linear(in_features=1024, out_features=256, bias=True)\n",
            "            (3): Dropout(p=0.1, inplace=False)\n",
            "          )\n",
            "        )\n",
            "        (ln1): LayerNorm((256,), eps=1e-05, elementwise_affine=True)\n",
            "        (ln2): LayerNorm((256,), eps=1e-05, elementwise_affine=True)\n",
            "      )\n",
            "    )\n",
            "    (ln_f): LayerNorm((256,), eps=1e-05, elementwise_affine=True)\n",
            "    (lm_head): Linear(in_features=256, out_features=35000, bias=True)\n",
            "  )\n",
            ")\n",
            "21.144248 M parameters\n"
          ]
        }
      ],
      "source": [
        "print(\"creating model...\")\n",
        "try:\n",
        "    # Colab + torch 2 -> lots of garbage.\n",
        "    if model is not None:\n",
        "        del model\n",
        "except:\n",
        "    pass\n",
        "\n",
        "\n",
        "if params['stateful'] is False:\n",
        "    if params['linear_yoke_hidden_index'] == -1:\n",
        "        model = MultiHeadSelfAttention(vocab_size=params['vocab_size'], embedding_size=params['embedding_size'],\n",
        "                                       sequence_len=params['sequence_len'], dropout=params['dropout'],\n",
        "                                       num_heads=params['heads'], num_layers=params['mhsa_layers'],\n",
        "                                       causal=params['causal'], device=device)\n",
        "    else:\n",
        "        model = MultiHeadSelfAttentionWithCompression(vocab_size=params['vocab_size'], embedding_size=params['embedding_size'],\n",
        "                                       sequence_len=params['sequence_len'], dropout=params['dropout'],\n",
        "                                       num_heads=params['heads'], num_layers=params['mhsa_layers'],\n",
        "                                       causal=params['causal'], linear_non_linearity=params['linear_non_linearity'],\n",
        "                                       linear_yoke=(params['linear_yoke_hidden_index'], params['linear_yoke_size'], params['linear_yoke_residual']),\n",
        "                                       device=device)\n",
        "else:\n",
        "    model = MultiHeadSelfAttentionWithCompressionState(vocab_size=params['vocab_size'], embedding_size=params['embedding_size'],\n",
        "                                       sequence_len=params['sequence_len'], dropout=params['dropout'],\n",
        "                                       num_heads=params['heads'], num_layers=params['mhsa_layers'],\n",
        "                                       causal=params['causal'], linear_non_linearity=params['linear_non_linearity'],\n",
        "                                       linear_yoke=(params['linear_yoke_hidden_index'], params['linear_yoke_size'], params['linear_yoke_residual']),\n",
        "                                       device=device)\n",
        "\n",
        "optimizer = torch.optim.AdamW(model.parameters(), lr=params['learning_rate'])\n",
        "\n",
        "model = model.to(device)\n",
        "if use_existing_model_from_checkpoint is True:\n",
        "    params_load = MJ.load_checkpoint(params, model, optimizer, file_path=model_file_path, updatable_keys=updatable_keys, device=device, log=log) # torch.device(\"cpu\"))\n",
        "    if params_load is not None:\n",
        "        params = params_load\n",
        "model = model.to(device)\n",
        "for state in optimizer.state.values():\n",
        "    for k, v in state.items():\n",
        "        if isinstance(v, torch.Tensor):\n",
        "            state[k] = v.to(device)\n",
        "\n",
        "if use_torch_compile is True:\n",
        "    if device == 'cuda':\n",
        "        print(\"Compiling...\")\n",
        "        model = torch.compile(model)\n",
        "        print(\"Compile ok.\")\n",
        "        try:\n",
        "            torch.set_float32_matmul_precision('high')\n",
        "        except:\n",
        "            print(\"Seems no tensor cores for that.\")\n",
        "    # elif str(device) == 'mps':\n",
        "    #     print(\"Compiling...\")\n",
        "    #     model = torch.compile(model)\n",
        "    #     print(\"Compile ok.\")\n",
        "\n",
        "if 'current_epoch' in params:\n",
        "    ep = params['current_epoch']\n",
        "else:\n",
        "    ep=0\n",
        "if 'current_loss' in params:\n",
        "    ls = params['current_loss']\n",
        "else:\n",
        "    ls=0\n",
        "\n",
        "if ep==0 and ls==0:\n",
        "    start_iter = 0\n",
        "else:\n",
        "    start_iter = ep\n",
        "    current_loss = ls\n",
        "\n",
        "# print the number of parameters in the model\n",
        "print(model)\n",
        "print(sum(p.numel() for p in model.parameters()) / 1e6, \"M parameters\")"
      ]
    },
    {
      "cell_type": "code",
      "execution_count": 19,
      "metadata": {
        "id": "QnMCWf5AZn1-"
      },
      "outputs": [],
      "source": [
        "@torch.no_grad()\n",
        "def estimate_loss(device):\n",
        "    # XXX: this does take data for train and val from SAME pool!\n",
        "    out = {}\n",
        "    model.eval()\n",
        "    for split in [\"train\", \"val\"]:\n",
        "        losses = torch.zeros(params['test_iterations'])\n",
        "        for k in range(params['test_iterations']):\n",
        "            print(\".\", end=\"\", flush=True)\n",
        "            X, Y = get_torch_batch(td, params['batch_size'], device, split)\n",
        "            if params['stateful'] is False:\n",
        "                logits, loss = model(X, Y)\n",
        "            else:\n",
        "                state = get_zero_state(X.shape[0], params['sequence_len'], params['linear_yoke_size'], device)\n",
        "                logits, loss, state = model(X, Y, state=state)\n",
        "                # print(k, state)\n",
        "            losses[k] = loss.item()\n",
        "        out[split] = losses.mean()\n",
        "    model.train()\n",
        "    print(\"\\r\", end=\"\", flush=True)\n",
        "    mloss = (out['train']+out['val'])/2.0\n",
        "    return mloss\n",
        "\n",
        "def generate_sample(td, device, prompt=' ', toks=100, state=None, temperature=1.0, top_k=None, pad=False):\n",
        "    # generate from the model\n",
        "    # context = torch.zeros((1, 1), dtype=torch.long, device=device)\n",
        "    model.eval()\n",
        "    if pad is True:\n",
        "        while len(prompt)<params['sequence_len']:\n",
        "            if len(prompt)==params['sequence_len']-1:\n",
        "                prompt = '\\n' + prompt\n",
        "            else:\n",
        "                prompt = ' ' + prompt\n",
        "    context = torch.tensor([td.encode(prompt)]).to(device)\n",
        "    if params['stateful'] is False:\n",
        "        answer = model.generate(context, max_new_tokens=toks, temperature=temperature, top_k=top_k)\n",
        "    else:\n",
        "        if state is None:\n",
        "            print()\n",
        "            print(\"Please don't put state=None in generator!\")\n",
        "            state = get_zero_state(1, params['sequence_len'], params['linear_yoke_size'], device)\n",
        "        answer, state = model.generate(idx=context, max_new_tokens=toks, state=state, temperature=temperature, top_k=top_k)\n",
        "\n",
        "    txt = td.decode(answer[0].tolist())\n",
        "    # Identify memorisation of text by highlighting verbatim quotes from sources\n",
        "    # that are longer than 10 chars. HTML colorcoded output for source identification:\n",
        "    td.source_highlight(txt, min_quote_size=10, dark_mode=False, display_ref_anchor=False)\n",
        "    if params['stateful'] is False:\n",
        "        return txt\n",
        "    else:\n",
        "        return txt, state"
      ]
    },
    {
      "cell_type": "code",
      "execution_count": 20,
      "metadata": {
        "id": "N2uWm6CTC8kT"
      },
      "outputs": [],
      "source": [
        "# @torch.jit.script\n",
        "# @torch.compile\n",
        "def do_train_step(xb, yb, device, state=None):\n",
        "    model.train()\n",
        "    if params['stateful'] is False:\n",
        "        logits, loss = model(xb, yb)\n",
        "    else:\n",
        "        # XXX continuous training date & state!\n",
        "        if state is None:\n",
        "            state = get_zero_state(xb.shape[0], params['sequence_len'], params['linear_yoke_size'], device)\n",
        "        logits, loss, state = model(xb, targets=yb, state=state)\n",
        "    optimizer.zero_grad(set_to_none=True)\n",
        "    loss.backward()\n",
        "    optimizer.step()\n",
        "    if params['stateful'] is True:\n",
        "        return state.detach()\n",
        "    else:\n",
        "        return None"
      ]
    },
    {
      "cell_type": "code",
      "execution_count": null,
      "metadata": {
        "colab": {
          "base_uri": "https://localhost:8080/"
        },
        "id": "aZpMI7_iMdR6",
        "outputId": "3ef580d0-5e5c-4586-f729-fa1fd64b208c",
        "tags": []
      },
      "outputs": [
        {
          "output_type": "stream",
          "name": "stdout",
          "text": [
            "training, start at 2023-11-18 20:21:10...\n",
            "Iteration:   241/256/1000000"
          ]
        }
      ],
      "source": [
        "dt0 = time.time()\n",
        "sdt = datetime.datetime.now().strftime(\"%Y-%m-%d %H:%M:%S\")\n",
        "print(f\"training, start at {sdt}...\")\n",
        "gen_id = 0\n",
        "iter_bench = 1\n",
        "current_loss = estimate_loss(device)\n",
        "if params['stateful'] is True:\n",
        "    gen_state = get_zero_state(1, params['sequence_len'], params['linear_yoke_size'], device=device)\n",
        "else:\n",
        "    gen_state = None\n",
        "inputs = [\"What is the difference between good and evil? The difference \", \"How did everything come into existence? The origin \", \"What was at the beginning of time? Time itself \", \"How are physics, quantum-mechanics and consciousness related? The relation between \", \"How to attain complete self-awareness? Complete \", \"What is the nature of reality? The nature \", \"How be a good human being? A human \"]\n",
        "for iter in range(start_iter, params['max_iterations']):\n",
        "    print(f\"\\rIteration: {iter+1:5d}/{((iter+1)//params['sample_every_n_iterations']+1)*params['sample_every_n_iterations']}/{params['max_iterations']}\", end=\"\", flush=True)\n",
        "    # every once in a while evaluate the loss on train and val sets\n",
        "    if (iter + 1) % params['sample_every_n_iterations'] == 0 or iter == params['max_iterations'] - 1:\n",
        "        dt = time.time()\n",
        "        print(f\"\\rloss eval\", end=\"\", flush=True)\n",
        "        current_loss = estimate_loss(device)\n",
        "        print(\n",
        "            f\"step {iter+1}: train loss {current_loss:.4f}, time {(dt-dt0)/iter_bench:.3f} sec/iter\"\n",
        "        )\n",
        "        iter_bench = 1\n",
        "        sdt = datetime.datetime.now().strftime(\"%Y-%m-%d %H:%M:%S\")\n",
        "        print(f\"Sample at {sdt}:\", flush=True)\n",
        "        for temperature in [0.75]:\n",
        "            print(f\"--------temperature: {temperature} ---------\")\n",
        "            prompt = inputs[gen_id%len(inputs)]\n",
        "            print(f\"Prompt: {prompt}\")\n",
        "            generate_sample(td=td, device=device, prompt=prompt, toks=params['sample_size'], state=gen_state, temperature=temperature, top_k=16)\n",
        "        print(\"-------------------------------------------\")\n",
        "        gen_id += 1\n",
        "        dt0 = time.time()\n",
        "\n",
        "    if params['stateful'] is False or params['joint_state_training'] == 0:\n",
        "        xb, yb = get_torch_batch(td, params['batch_size'], device, \"train\")\n",
        "        do_train_step(xb, yb, device=device)\n",
        "    else:\n",
        "        state = get_zero_state(1, params['sequence_len'], params['linear_yoke_size'], device=device)\n",
        "        state.requires_grad = False\n",
        "        for i in range(params['joint_state_training']):\n",
        "            print(f\"\\rIteration: {iter+1:5d}[{i+1}/{params['joint_state_training']}]/{((iter+1)//params['sample_every_n_iterations']+1)*params['sample_every_n_iterations']}/{params['max_iterations']}\", end=\"\", flush=True)\n",
        "            xb, yb = get_torch_subbatch(td, params['batch_size'], device, \"train\", i)\n",
        "            state = do_train_step(xb, yb, device=device, state=state)\n",
        "            # state = torch.cat((state, state[:, -1:, :]), dim=1)\n",
        "            # state[:, -1, :] = 0\n",
        "            state = torch.cat((state[:, :1, :], state), dim=1)\n",
        "            # state[:, 0, :] = 0\n",
        "            state = state [:, -params['sequence_len']:, :]\n",
        "            # state.detach() # requires_grad = False\n",
        "\n",
        "    start_iter = iter\n",
        "    iter_bench += 1\n",
        "    if (iter+1)%params['save_every_n_iterations'] == 0:\n",
        "        MJ.save_checkpoint(params, model, optimizer, iter, current_loss, file_path=model_file_path, log=log)\n"
      ]
    },
    {
      "cell_type": "code",
      "execution_count": null,
      "metadata": {
        "id": "othN-Vnt5EZT",
        "tags": []
      },
      "outputs": [],
      "source": [
        "# for t in [0.5, 1.5]:\n",
        "#     print(f\"------Temperature {t}--------\")\n",
        "#     generate_sample(td, device, prompt=\"How are consciousness and quantum mechanics related?\", toks=150, temperature=t, top_k=16)"
      ]
    },
    {
      "cell_type": "code",
      "execution_count": null,
      "metadata": {
        "id": "5UNG5wWhC8kU",
        "tags": []
      },
      "outputs": [],
      "source": []
    },
    {
      "cell_type": "code",
      "execution_count": null,
      "metadata": {
        "id": "ADm9ycuA2ik7"
      },
      "outputs": [],
      "source": []
    }
  ],
  "metadata": {
    "@webio": {
      "lastCommId": "ec3a4d2d-8063-4bfd-a4a2-ee070d3272f7",
      "lastKernelId": "1acc2b74-f51e-477b-910a-a5519dad53b9"
    },
    "accelerator": "GPU",
    "colab": {
      "collapsed_sections": [
        "VmWbteSFQtfq",
        "yWE_ZZMKEARV"
      ],
      "gpuClass": "premium",
      "gpuType": "V100",
      "name": "torch_transformer_poet.ipynb",
      "provenance": [],
      "include_colab_link": true
    },
    "kernelspec": {
      "display_name": "Python 3 (ipykernel)",
      "language": "python",
      "name": "python3"
    },
    "language_info": {
      "codemirror_mode": {
        "name": "ipython",
        "version": 3
      },
      "file_extension": ".py",
      "mimetype": "text/x-python",
      "name": "python",
      "nbconvert_exporter": "python",
      "pygments_lexer": "ipython3",
      "version": "3.11.5"
    }
  },
  "nbformat": 4,
  "nbformat_minor": 0
}