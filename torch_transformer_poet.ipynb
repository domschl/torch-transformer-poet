{
 "cells": [
  {
   "cell_type": "markdown",
   "metadata": {
    "colab_type": "text",
    "id": "view-in-github"
   },
   "source": [
    "<a href=\"https://colab.research.google.com/github/domschl/torch-transformer-poet/blob/main/torch_transformer_poet.ipynb\" target=\"_parent\"><img src=\"https://colab.research.google.com/assets/colab-badge.svg\" alt=\"Open In Colab\"/></a>"
   ]
  },
  {
   "cell_type": "markdown",
   "metadata": {
    "id": "fEXNOWhCEAPk"
   },
   "source": [
    "# Torch-Transformer-Poet"
   ]
  },
  {
   "cell_type": "markdown",
   "metadata": {
    "id": "DabS0VZ-1Zp0"
   },
   "source": [
    "Please review [ml-indie-tools](https://github.com/domschl/ml-indie-tools), a collection machine learning tools that provides support for more environment indepent code. It will access your Google Drive when using with Google Colab."
   ]
  },
  {
   "cell_type": "code",
   "execution_count": 1,
   "metadata": {
    "id": "jtpy59Yq-Qfz"
   },
   "outputs": [
    {
     "name": "stdout",
     "output_type": "stream",
     "text": [
      "Requirement already satisfied: ml-indie-tools in /opt/homebrew/Caskroom/miniforge/base/lib/python3.10/site-packages (0.5.2)\n"
     ]
    }
   ],
   "source": [
    "!pip install -U ml-indie-tools"
   ]
  },
  {
   "cell_type": "code",
   "execution_count": 2,
   "metadata": {
    "id": "EgLLjG4yQtft"
   },
   "outputs": [],
   "source": [
    "import logging\n",
    "import os\n",
    "import sys\n",
    "import copy\n",
    "import json\n",
    "import time\n",
    "import datetime\n",
    "import random\n",
    "import numpy as np\n",
    "\n",
    "import torch"
   ]
  },
  {
   "cell_type": "code",
   "execution_count": 3,
   "metadata": {
    "id": "U5T4m6earb1e"
   },
   "outputs": [],
   "source": [
    "from ml_indie_tools.env_tools import MLEnv\n",
    "from ml_indie_tools.Gutenberg_Dataset import Gutenberg_Dataset\n",
    "from ml_indie_tools.Text_Dataset import Text_Dataset\n",
    "\n",
    "from ml_indie_tools.Calibre_Dataset import Calibre_Dataset\n",
    "from ml_indie_tools.Folder_Dataset import Folder_Dataset\n",
    "\n",
    "from ml_indie_tools.pytorch_custom_layers import MultiHeadSelfAttention"
   ]
  },
  {
   "cell_type": "code",
   "execution_count": 4,
   "metadata": {
    "id": "jVcwvURB5EZN"
   },
   "outputs": [],
   "source": [
    "logging.basicConfig(level=logging.INFO)"
   ]
  },
  {
   "cell_type": "code",
   "execution_count": 5,
   "metadata": {
    "id": "Y7fZl2kv5EZN"
   },
   "outputs": [],
   "source": [
    "# Get text-format books from Calibre:\n",
    "# cd = Calibre_Dataset('~/Nextcloud/MediaArchive/Calibre Library')\n",
    "# cd.load_index()"
   ]
  },
  {
   "cell_type": "markdown",
   "metadata": {
    "id": "VmWbteSFQtfq"
   },
   "source": [
    "## Preliminary\n",
    "\n",
    "A pytorch deep multi-head attention model for text generation following Andrej Karpathy's [video-lecture-ng](https://github.com/karpathy/ng-video-lecture/blob/master/gpt.py)\n",
    "\n",
    "This code can use either CPU, GPU, or Apple Silicon. Google Colab is supported too, select the corresponding Colab runtime (menu: **`Runtime / Change runtime type`**)"
   ]
  },
  {
   "cell_type": "markdown",
   "metadata": {
    "id": "sfZg31sMEAP1"
   },
   "source": [
    "## 0. Environment"
   ]
  },
  {
   "cell_type": "code",
   "execution_count": 6,
   "metadata": {
    "id": "llPw84PkEAP2"
   },
   "outputs": [
    {
     "data": {
      "text/plain": [
       "'OS: Darwin, Python: 3.10.8 (Conda), Jupyter Notebook Pytorch: 2.0.0.dev20230127, GPU: MPS Metal accelerator (system memory)'"
      ]
     },
     "execution_count": 6,
     "metadata": {},
     "output_type": "execute_result"
    }
   ],
   "source": [
    "cached_batch_data = None   # Do regenerate time-consuming training data, if aleady cached.\n",
    "\n",
    "ml_env = MLEnv(platform='pt', accelerator='fastest')\n",
    "ml_env.describe()"
   ]
  },
  {
   "cell_type": "code",
   "execution_count": 7,
   "metadata": {
    "id": "t-TP3Pnsrb1f"
   },
   "outputs": [
    {
     "name": "stdout",
     "output_type": "stream",
     "text": [
      "Root path (all projects) : . (This will be '.' (current dir) for local projects, and a google drive path for Colab)\n",
      "Project path             : . (Changes to the file system happen only below this project path\n",
      "Model path (snapshots)   : ./model/ngpt_philosophers_v1_pt (Model weights and snapshots are stored here)\n",
      "Data path (training data): ./data (Training data will be downloaded here)\n",
      "Log dir (tensorboard)    : ./logs (it doesn't work to put logs on gdrive due to caching, hence local dir)\n"
     ]
    }
   ],
   "source": [
    "# project_name = 'women_writers'\n",
    "model_cpu = None\n",
    "project_name='philosophers'\n",
    "model_name=f'ngpt_{project_name}_v1_pt'\n",
    "\n",
    "# NOTICE: This will request access to Google Drive, if running on Google Colab. Google Drive is used to store snapshots\n",
    "# training data. See project ml-indie-tools: https://github.com/domschl/ml-indie-tools \n",
    "#\n",
    "# Note: you need to allow popups in your browser for COLAB, otherwise you won't see the google-drive login box, and drive access will fail!\n",
    "\n",
    "root_path, project_path, model_path, data_path, log_path = ml_env.init_paths(project_name=project_name, model_name=model_name)\n",
    "\n",
    "print(f\"Root path (all projects) : {root_path} (This will be '.' (current dir) for local projects, and a google drive path for Colab)\")\n",
    "print(f\"Project path             : {project_path} (Changes to the file system happen only below this project path\")\n",
    "print(f\"Model path (snapshots)   : {model_path} (Model weights and snapshots are stored here)\")\n",
    "print(f\"Data path (training data): {data_path} (Training data will be downloaded here)\")\n",
    "print(f\"Log dir (tensorboard)    : {log_path} (it doesn't work to put logs on gdrive due to caching, hence local dir)\")"
   ]
  },
  {
   "cell_type": "markdown",
   "metadata": {
    "id": "AIkcYcEuQtfx"
   },
   "source": [
    "##  1. Text library\n",
    "\n",
    "`Text_Dataset` and `Gutenberg_Dataset` classes: libraries for training, \n",
    "encoding, batch generation, and formatted source display. It read some \n",
    "books from Project Gutenberg and supports creation of training batches. \n",
    "The output functions support highlighting to allow to compare generated \n",
    "texts with the actual sources to help to identify identical (memorized) \n",
    "parts."
   ]
  },
  {
   "cell_type": "code",
   "execution_count": 8,
   "metadata": {
    "id": "HjkelBcNO5WV"
   },
   "outputs": [],
   "source": [
    "use_dark_mode=False # Set to false for white background. HTML-text-compare uses background-colorization to identify different sources. Those background colors are dependent on the theme type."
   ]
  },
  {
   "cell_type": "code",
   "execution_count": 9,
   "metadata": {
    "id": "BF8eyWnCrb1h"
   },
   "outputs": [],
   "source": [
    "logging.basicConfig(level=logging.INFO)\n",
    "cache_dir = os.path.join(data_path, 'gutenberg_cache')\n",
    "gd = Gutenberg_Dataset(cache_dir=cache_dir)"
   ]
  },
  {
   "cell_type": "code",
   "execution_count": 10,
   "metadata": {
    "id": "C66X7ynnrb1h"
   },
   "outputs": [
    {
     "name": "stdout",
     "output_type": "stream",
     "text": [
      "20 matching books found with search {'author': ['Immanuel Kant', 'Friedrich Nietzsche', 'Wilhelm Hegel'], 'language': ['english']}.\n"
     ]
    }
   ],
   "source": [
    "if project_name == 'women_writers':  # sample searches\n",
    "    search_spec= {\n",
    "        \"author\": [\"Emily Brontë\", \"Jane Austen\", \"Virginia Woolf\"], \n",
    "        \"language\": [\"english\"]\n",
    "    }\n",
    "elif project_name == 'philosophers':\n",
    "    search_spec = {\n",
    "        \"author\": [\"Immanuel Kant\", \"Friedrich Nietzsche\", \"Wilhelm Hegel\"],\n",
    "        \"language\": [\"english\"]\n",
    "    }\n",
    "    \n",
    "book_list=gd.search(search_spec)\n",
    "book_cnt = len(book_list)\n",
    "print(f\"{book_cnt} matching books found with search {search_spec}.\")\n",
    "if book_cnt<40:\n",
    "    # Note: please verify that book_cnt is 'reasonable'. If you plan to use a large number of texts, \n",
    "    # consider [mirroring Gutenberg](https://github.com/domschl/ml-indie-tools#working-with-a-local-mirror-of-project-gutenberg)\n",
    "    book_list = gd.insert_book_texts(book_list, download_count_limit=book_cnt)  \n",
    "else:\n",
    "    logging.error(\"Please verify your book_list, a large number of books is scheduled for download. ABORTED.\")"
   ]
  },
  {
   "cell_type": "code",
   "execution_count": 11,
   "metadata": {
    "id": "MH6_7IU3upOd"
   },
   "outputs": [
    {
     "name": "stdout",
     "output_type": "stream",
     "text": [
      "0: The History of Philosophy: Volume 3 of 3 - Georg Wilhelm Hegel, 58169\n",
      "1: The Will to Power, Books III and IV - Friedrich Nietzsche, 52915\n",
      "2: The Will to Power, Books I and II - Friedrich Nietzsche, 52914\n",
      "3: The Joyful Wisdom - Friedrich Nietzsche, 52881\n",
      "4: Kant's Prolegomena - Immanuel Kant, 52821\n",
      "5: Hegel's Lectures on the History of Philosophy: Vol. 2 of 3 - Georg Wilhelm Hegel, 51636\n",
      "6: Hegel's Lectures on the History of Philosophy: Vol. 1 of 3 - Georg Wilhelm Hegel, 51635\n",
      "7: Early Greek Philosophy & Other Essays - Friedrich Nietzsche, 51548\n",
      "8: Perpetual Peace - Immanuel Kant, 50922\n",
      "9: Kant's Critique of Judgement - Immanuel Kant, 48433\n",
      "10: Thoughts Out of Season, Part 2 - Friedrich Nietzsche, 38226\n",
      "11: Human, All Too Human - Friedrich Nietzsche, 38145\n",
      "12: We Philologists, Volume 8 of 18 - Friedrich Nietzsche, 18267\n",
      "13: The Metaphysical Elements of Ethics - Immanuel Kant, 5684\n",
      "14: The Critique of Practical Reason - Immanuel Kant, 5683\n",
      "15: Fundamental Principles of the Metaphysic of Morals - Immanuel Kant, 5682\n",
      "16: Thoughts out of Season, Part One - Friedrich Nietzsche, 5652\n",
      "17: Beyond Good and Evil - Friedrich Nietzsche, 4363\n",
      "18: The Critique of Pure Reason - Immanuel Kant, 4280\n",
      "19: Thus Spake Zarathustra - Friedrich Nietzsche, 1998\n"
     ]
    }
   ],
   "source": [
    "for i in range(len(book_list)):\n",
    "    print(f\"{i}: {book_list[i]['title']} - {book_list[i]['author']}, {book_list[i]['ebook_id']}\")"
   ]
  },
  {
   "cell_type": "code",
   "execution_count": 12,
   "metadata": {
    "id": "2jBH3Z15rb1h"
   },
   "outputs": [
    {
     "name": "stderr",
     "output_type": "stream",
     "text": [
      "INFO:Datasets:Loaded 20 texts\n"
     ]
    },
    {
     "name": "stdout",
     "output_type": "stream",
     "text": [
      "Using:\n",
      "1: The History of Philosophy: Volume 3 of 3 - Georg Wilhelm Hegel\n",
      "2: The Will to Power, Books III and IV - Friedrich Nietzsche\n",
      "3: The Will to Power, Books I and II - Friedrich Nietzsche\n",
      "4: The Joyful Wisdom - Friedrich Nietzsche\n",
      "5: Kant's Prolegomena - Immanuel Kant\n",
      "6: Hegel's Lectures on the History of Philosophy: Vol. 2 of 3 - Georg Wilhelm Hegel\n",
      "7: Hegel's Lectures on the History of Philosophy: Vol. 1 of 3 - Georg Wilhelm Hegel\n",
      "8: Early Greek Philosophy & Other Essays - Friedrich Nietzsche\n",
      "9: Perpetual Peace - Immanuel Kant\n",
      "10: Kant's Critique of Judgement - Immanuel Kant\n",
      "11: Thoughts Out of Season, Part 2 - Friedrich Nietzsche\n",
      "12: Human, All Too Human - Friedrich Nietzsche\n",
      "13: We Philologists, Volume 8 of 18 - Friedrich Nietzsche\n",
      "14: The Metaphysical Elements of Ethics - Immanuel Kant\n",
      "15: The Critique of Practical Reason - Immanuel Kant\n",
      "16: Fundamental Principles of the Metaphysic of Morals - Immanuel Kant\n",
      "17: Thoughts out of Season, Part One - Friedrich Nietzsche\n",
      "18: Beyond Good and Evil - Friedrich Nietzsche\n",
      "19: The Critique of Pure Reason - Immanuel Kant\n",
      "20: Thus Spake Zarathustra - Friedrich Nietzsche\n"
     ]
    }
   ],
   "source": [
    "if project_name == 'women_writers':\n",
    "    select = (\"Bennett\", \"1342\", \"5670\", \"1245\", \"161\", \"141\", \"121\", \"105\", \"Susan\", \"Wuthering\", \"Emma\", \"Voyage\")  # List unique single-words from title or ebook_id to select a given book\n",
    "    sub_book_list = [book_list[i] for i in range(len(book_list)) if not set([book_list[i]['ebook_id']]+book_list[i]['title'].split(' ')).isdisjoint(set(select))]\n",
    "else:\n",
    "    sub_book_list = book_list\n",
    "    \n",
    "print(\"Using:\")\n",
    "for i in range(len(sub_book_list)):\n",
    "    print(f\"{i+1}: {sub_book_list[i]['title']} - {sub_book_list[i]['author']}\")\n",
    "\n",
    "# obsolete?! textlib_dataset = None  # Forces re-caching\n",
    "td = Text_Dataset(sub_book_list)"
   ]
  },
  {
   "cell_type": "markdown",
   "metadata": {
    "id": "dxNIc7gL9UNg"
   },
   "source": [
    "## Additional training material for folder `{data_path}/local_texts`\n",
    "\n",
    "If the folder {data_path} (defined above) contains a sub-folder `local_texts`, and it contains\n",
    "files of structure `<title> - <author> - <language>.txt`, then they are added to the training data.\n",
    "Sample filename: `\"./data/local_texts/works-of-shakespeare - William Shakespeare - English.txt\"`.\n",
    "The titles of those documents are referenced via numeric aliases to preserve privacy on non-public data."
   ]
  },
  {
   "cell_type": "code",
   "execution_count": 13,
   "metadata": {
    "id": "1NYdjlW65EZP"
   },
   "outputs": [
    {
     "name": "stderr",
     "output_type": "stream",
     "text": [
      "INFO:FolderTextLib:Loaded 17 records from Folder.\n",
      "INFO:Datasets:Loaded 37 texts\n"
     ]
    }
   ],
   "source": [
    "use_local_folder_data = True\n",
    "if use_local_folder_data:\n",
    "    local_texts = os.path.join(data_path, 'local_texts')\n",
    "    fd = Folder_Dataset(local_texts)\n",
    "    fd.load_index()\n",
    "    td.load_texts(fd.records)"
   ]
  },
  {
   "cell_type": "code",
   "execution_count": 14,
   "metadata": {
    "id": "_s54dnoW5EZP"
   },
   "outputs": [
    {
     "name": "stderr",
     "output_type": "stream",
     "text": [
      "INFO:Datasets:Starting tokenizer on 37 texts...\n",
      "INFO:Datasets:Extracting ngrams of length 1..8 from text_list, selecting 20000 most used ngrams.\n"
     ]
    },
    {
     "name": "stdout",
     "output_type": "stream",
     "text": [
      "\n",
      "Starting NGRAM tokinizer with token length from 1..8 with a max of 20000 unique tokens,\n",
      "this can take considerable time...\n"
     ]
    },
    {
     "name": "stderr",
     "output_type": "stream",
     "text": [
      "INFO:Datasets:Encoding text corpora as ngrams.\n",
      "INFO:Datasets:Encoding text The History of Philosophy: Volume 3 of 3...\n",
      "INFO:Datasets:Encoding text The Will to Power, Books III and IV...\n",
      "INFO:Datasets:Encoding text The Will to Power, Books I and II...\n",
      "INFO:Datasets:Encoding text The Joyful Wisdom...\n",
      "INFO:Datasets:Encoding text Kant's Prolegomena...\n",
      "INFO:Datasets:Encoding text Hegel's Lectures on the History of Philosophy: Vol. 2 of 3...\n",
      "INFO:Datasets:Encoding text Hegel's Lectures on the History of Philosophy: Vol. 1 of 3...\n",
      "INFO:Datasets:Encoding text Early Greek Philosophy & Other Essays...\n",
      "INFO:Datasets:Encoding text Perpetual Peace...\n",
      "INFO:Datasets:Encoding text Kant's Critique of Judgement...\n",
      "INFO:Datasets:Encoding text Thoughts Out of Season, Part 2...\n",
      "INFO:Datasets:Encoding text Human, All Too Human...\n",
      "INFO:Datasets:Encoding text We Philologists, Volume 8 of 18...\n",
      "INFO:Datasets:Encoding text The Metaphysical Elements of Ethics...\n",
      "INFO:Datasets:Encoding text The Critique of Practical Reason...\n",
      "INFO:Datasets:Encoding text Fundamental Principles of the Metaphysic of Morals...\n",
      "INFO:Datasets:Encoding text Thoughts out of Season, Part One...\n",
      "INFO:Datasets:Encoding text Beyond Good and Evil...\n",
      "INFO:Datasets:Encoding text The Critique of Pure Reason...\n",
      "INFO:Datasets:Encoding text Thus Spake Zarathustra...\n",
      "INFO:Datasets:Encoding text FL1...\n",
      "INFO:Datasets:Encoding text FL2...\n",
      "INFO:Datasets:Encoding text FL3...\n",
      "INFO:Datasets:Encoding text FL4...\n",
      "INFO:Datasets:Encoding text FL5...\n",
      "INFO:Datasets:Encoding text FL6...\n",
      "INFO:Datasets:Encoding text FL7...\n",
      "INFO:Datasets:Encoding text FL8...\n",
      "INFO:Datasets:Encoding text FL9...\n",
      "INFO:Datasets:Encoding text FL10...\n",
      "INFO:Datasets:Encoding text FL11...\n",
      "INFO:Datasets:Encoding text FL12...\n",
      "INFO:Datasets:Encoding text FL13...\n",
      "INFO:Datasets:Encoding text FL14...\n",
      "INFO:Datasets:Encoding text FL15...\n",
      "INFO:Datasets:Encoding text FL16...\n",
      "INFO:Datasets:Encoding text FL17...\n",
      "INFO:Datasets:Encoding text corpora as ngrams done.\n"
     ]
    }
   ],
   "source": [
    "MAX_TOKENS = 20000  # This becomes vocab_size\n",
    "MAX_NGRAM_LEN = 8   # Max length of a token\n",
    "\n",
    "print(\"\")\n",
    "print(f\"Starting NGRAM tokinizer with token length from 1..{MAX_NGRAM_LEN} with a max of {MAX_TOKENS} unique tokens,\")\n",
    "print(\"this can take considerable time...\")\n",
    "td.init_tokenizer(tokenizer='ngram', max_ngrams=MAX_NGRAM_LEN, max_tokens=MAX_TOKENS)"
   ]
  },
  {
   "cell_type": "code",
   "execution_count": 15,
   "metadata": {
    "id": "726hVApr5EZP"
   },
   "outputs": [],
   "source": [
    "# td.save_tokenizer(\"tok.json\")"
   ]
  },
  {
   "cell_type": "code",
   "execution_count": 16,
   "metadata": {
    "id": "MCbzvhws5EZP"
   },
   "outputs": [],
   "source": [
    "# td.load_tokenizer(\"tok.json\")"
   ]
  },
  {
   "cell_type": "code",
   "execution_count": 17,
   "metadata": {
    "id": "4VO0ZugE5EZP"
   },
   "outputs": [],
   "source": [
    "# td.index"
   ]
  },
  {
   "cell_type": "code",
   "execution_count": 33,
   "metadata": {
    "id": "f7_tc2Lirb1i"
   },
   "outputs": [
    {
     "name": "stdout",
     "output_type": "stream",
     "text": [
      "4316419 records\n"
     ]
    }
   ],
   "source": [
    "SEQUENCE_LEN = 192\n",
    "\n",
    "td.init_getitem(sample_type='encoded', sample_length=SEQUENCE_LEN+1, content_stepping=1)\n",
    "\n",
    "num_records = len(td)\n",
    "\n",
    "print(f\"{num_records} records\")"
   ]
  },
  {
   "cell_type": "code",
   "execution_count": 34,
   "metadata": {
    "id": "zZbbsNm0cOeW"
   },
   "outputs": [],
   "source": [
    "def get_sample_batch(td, batch_size):\n",
    "    # generate a small batch of data of inputs x and targets y\n",
    "    # ix = torch.randint(len(data) - block_size, (batch_size,))\n",
    "    # x = torch.stack([data[i : i + block_size] for i in ix])\n",
    "    # y = torch.stack([data[i + 1 : i + block_size + 1] for i in ix])\n",
    "    # x, y = x.to(device), y.to(device)\n",
    "    # return x, y\n",
    "    for i in range(batch_size):\n",
    "        data = td.get_random_item()\n",
    "        Xi = data[:-1]\n",
    "        yi = data[1:]\n",
    "        if i==0:\n",
    "            # smpX=np.array(Xi, dtype=np.float32)\n",
    "            smpX=np.array(Xi, dtype=np.int32)\n",
    "            smpy=np.array(yi, dtype=np.int32)\n",
    "        else:\n",
    "            # smpX = np.vstack((smpX, np.array(Xi, dtype=np.float32)))\n",
    "            smpX = np.vstack((smpX, np.array(Xi, dtype=np.int32)))\n",
    "            smpy = np.vstack((smpy, np.array(yi, dtype=np.int32)))\n",
    "    return np.array(smpX), np.array(smpy)"
   ]
  },
  {
   "cell_type": "code",
   "execution_count": 35,
   "metadata": {
    "id": "TI3Fx6bNuR9A"
   },
   "outputs": [],
   "source": [
    "# test_x, test_y = get_sample_batch(td, 2)\n",
    "# for i in range(len(test_x)):\n",
    "#     xi=[int(x) for x in test_x[i]]\n",
    "#     print(f\"[{i}](l={len(xi)}): X=>{td.decode(xi)}<,\\ny=>{td.decode(test_y[i])}<\")"
   ]
  },
  {
   "cell_type": "code",
   "execution_count": 36,
   "metadata": {
    "id": "qnMxRkkmcOeX"
   },
   "outputs": [],
   "source": [
    "# test_x.shape, test_y.shape"
   ]
  },
  {
   "cell_type": "markdown",
   "metadata": {
    "id": "30hi0UPtEAQG"
   },
   "source": [
    "## 2. data for texts"
   ]
  },
  {
   "cell_type": "code",
   "execution_count": 37,
   "metadata": {
    "id": "jn_LcJ6g9Mzy"
   },
   "outputs": [],
   "source": [
    "def expand_name_template(template, params):\n",
    "    exp=copy.copy(template)\n",
    "    for key in params:\n",
    "        src=\"{\"+key+\"}\"\n",
    "        dst=f\"{params[key]}\"\n",
    "        exp=exp.replace(src,dst).replace('[','(').replace(']',')')\n",
    "    return exp\n",
    "\n",
    "def save_model_metadata(epoch, suffix='std'):\n",
    "    meta_file = os.path.join(model_path, f'model_meta_{suffix}.json')\n",
    "    params['current_epoch'] = epoch\n",
    "    try:\n",
    "        with open(meta_file, 'w') as f:\n",
    "            f.write(json.dumps(params))\n",
    "    except Exception as e:\n",
    "        print(f\"Failed to store model metadata at {model_path}: {e}\")\n",
    "        return False\n",
    "    return True\n",
    "\n",
    "def read_model_metadata(suffix=\"std\"):\n",
    "    meta_file = os.path.join(model_path, f'model_meta_{suffix}.json')\n",
    "    try:\n",
    "        with open(meta_file, 'r') as f:\n",
    "            meta = json.load(f)\n",
    "    except Exception as e:\n",
    "        print(f\"Cannot access project meta-data at {meta_file}: {e}, starting anew.\")\n",
    "        return None\n",
    "    return meta\n",
    "\n",
    "def is_metadata_compatible(params, meta):\n",
    "    is_valid=True\n",
    "    keys=set(list(params.keys())+list(meta.keys()))\n",
    "    for key in keys:\n",
    "        if key in updatable_keys:\n",
    "            continue\n",
    "        if key not in meta:\n",
    "            print(f\"Key {key} not available in last checkpoint model_meta, params[{key}]: {params[key]}, cannot import incompatible model. Put key in `updatable_keys` list, if irrelevant.\")\n",
    "            is_valid = False\n",
    "        elif key not in params:\n",
    "            print(f\"Key {key} not available in params, last checkpoint model_meta[{key}]: {meta[key]}, cannot import incompatible model. Put key in `updatable_keys` list, if irrelevant.\")\n",
    "            is_valid = False\n",
    "        elif meta[key]!=params[key]:\n",
    "            print(f\"Last checkpoint model_meta[{key}]: {meta[key]} != params[{key}]: {params[key]}, cannot import incompatible model. Put key in `updatable_keys` list, if irrelevant.\")\n",
    "            is_valid = False\n",
    "    if is_valid is False:\n",
    "        print(\"Aborting import.\")\n",
    "        return False\n",
    "    return True"
   ]
  },
  {
   "cell_type": "code",
   "execution_count": 38,
   "metadata": {
    "id": "znpIUA3ig3gO"
   },
   "outputs": [
    {
     "name": "stdout",
     "output_type": "stream",
     "text": [
      "Cannot access project meta-data at ./model/ngpt_philosophers_v1_pt/model_meta_16x16x{units}x20000.json: [Errno 2] No such file or directory: './model/ngpt_philosophers_v1_pt/model_meta_16x16x{units}x20000.json', starting anew.\n",
      "Starting new model\n",
      "{'name': '{mhsa_layers}x{heads}x{units}x{vocab_size}', 'mhsa_layers': 16, 'heads': 16, 'causal': True, 'dropout': 0.1, 'vocab_size': 20000, 'sequence_len': 192, 'embedding_size': 256, 'test_iterations': 10, 'batch_size': 64, 'learning_rate': 0.0004, 'sample_every_n_iterations': 250, 'max_iterations': 1000000}\n"
     ]
    }
   ],
   "source": [
    "vocabulary_size = td.get_unique_token_count()  # vocabulary-size\n",
    "\n",
    "attn_layers = 16;\n",
    "\n",
    "params = { # Multi-head self-attention\n",
    "    'name': '{mhsa_layers}x{heads}x{units}x{vocab_size}',\n",
    "\n",
    "    'mhsa_layers': attn_layers, \n",
    "    'heads': 16,\n",
    "    'causal': True,  # Use causal self-attention\n",
    "    'dropout': 0.1,       # no dropout: 0.0\n",
    "    'vocab_size': vocabulary_size,\n",
    "    'sequence_len': SEQUENCE_LEN,\n",
    "    'embedding_size': 256, \n",
    "    'test_iterations': 10,  # number of epocs for loss estimation\n",
    "\n",
    "    'batch_size': 64,\n",
    "    'learning_rate': 0.0004,\n",
    "    'sample_every_n_iterations': 250,\n",
    "    \n",
    "    'max_iterations': 1000000  # maximum number of training iterations\n",
    "}\n",
    "\n",
    "# if len(params['heads'])!=params['mhsa_layers']: # or len(params['units'])!=params['mhsa_layers']:\n",
    "#     print(\"ERROR: lenght of 'heads' and 'units' must be equal to mhsa_layers!\")\n",
    "    \n",
    "model_suffix = expand_name_template(params['name'], params)\n",
    "# Put 'important' params in checkpoint-pathname to separate model-data:\n",
    "checkpoint_dir = os.path.join(model_path, f\"training_checkpoints_{model_suffix}\")\n",
    "if os.path.exists(checkpoint_dir) is False:\n",
    "    os.makedirs(checkpoint_dir)\n",
    "\n",
    "# When comparing if training-data is compatible with new params set, \n",
    "# the following keys are updatable, they can be changed while continuing\n",
    "# to use existing checkpoints and continue training with those values\n",
    "# changed:\n",
    "updatable_keys=['learning_rate', 'batch_size', 'current_epoch', 'dropout', \n",
    "             'sample_every_n_epochs']\n",
    "\n",
    "# These values are taking from saved checkpoint:\n",
    "keep_keys=['current_epoch']\n",
    "\n",
    "continue_last = True\n",
    "if continue_last is False:\n",
    "    print(\"NOT continuing based on existing training! New start.\")\n",
    "\n",
    "meta = read_model_metadata(suffix=model_suffix)\n",
    "if meta is not None and is_metadata_compatible(params, meta) is True and continue_last is True:\n",
    "    for key in keep_keys:\n",
    "        if key in meta:\n",
    "            params[key]=meta[key]\n",
    "    if params is not None:\n",
    "        print(f\"Continuing last session from epoch {params['current_epoch']}\")\n",
    "    else:\n",
    "        print(f\"No previous data, starting new model\")\n",
    "else:\n",
    "    print(\"Starting new model\")\n",
    "\n",
    "print(params)"
   ]
  },
  {
   "cell_type": "code",
   "execution_count": 39,
   "metadata": {
    "id": "jY3hUuhQYzdT"
   },
   "outputs": [
    {
     "name": "stdout",
     "output_type": "stream",
     "text": [
      "num_batches = 67444\n"
     ]
    }
   ],
   "source": [
    "num_batches = num_records // params['batch_size']\n",
    "print(f\"num_batches = {num_batches}\")"
   ]
  },
  {
   "cell_type": "code",
   "execution_count": 40,
   "metadata": {
    "id": "bgVHUkbhdK9y"
   },
   "outputs": [],
   "source": [
    "def get_torch_batch(td, batch_size, device, split=None):\n",
    "    x, y = get_sample_batch(td, batch_size)\n",
    "    return torch.tensor(x, dtype=torch.long).to(device), torch.tensor(y, dtype=torch.long).to(device)"
   ]
  },
  {
   "cell_type": "code",
   "execution_count": 41,
   "metadata": {
    "id": "JTte4VvUdK9z"
   },
   "outputs": [],
   "source": [
    "# get_torch_batch(td, 2, 'cpu')"
   ]
  },
  {
   "cell_type": "code",
   "execution_count": 42,
   "metadata": {
    "id": "QnMCWf5AZn1-"
   },
   "outputs": [],
   "source": [
    "@torch.no_grad()\n",
    "def estimate_loss(device):\n",
    "    # XXX: this does take data for train and val from SAME pool!\n",
    "    out = {}\n",
    "    model.eval()\n",
    "    for split in [\"train\", \"val\"]:\n",
    "        losses = torch.zeros(params['test_iterations'])\n",
    "        for k in range(params['test_iterations']):\n",
    "            print(\".\", end=\"\", flush=True)\n",
    "            X, Y = get_torch_batch(td, params['batch_size'], device, split)\n",
    "            logits, loss = model(X, Y)\n",
    "            losses[k] = loss.item()\n",
    "        out[split] = losses.mean()\n",
    "    model.train()\n",
    "    print(\"\\r\", end=\"\", flush=True)\n",
    "    return out\n",
    "\n",
    "\n",
    "def generate_sample(td, device, input=' ', toks=100, temperature=1.0):\n",
    "    # generate from the model\n",
    "    # context = torch.zeros((1, 1), dtype=torch.long, device=device)\n",
    "    context = torch.tensor([td.encode(input)]).to(device)\n",
    "    txt = td.decode(model.generate(context, max_new_tokens=toks, temperature=temperature)[0].tolist())\n",
    "    # Identify memorisation of text by highlighting verbatim quotes from sources\n",
    "    # that are longer than 10 chars. HTML colorcoded output for source identification:\n",
    "    td.source_highlight(txt, min_quote_size=10, dark_mode=False, display_ref_anchor=False)\n",
    "    return txt\n",
    "    # open('more.txt', 'w').write(decode(m.generate(context, max_new_tokens=10000)[0].tolist()))\n",
    "\n",
    "\n",
    "# @torch.compile\n",
    "def do_train_step(xb, yb):\n",
    "    logits, loss = model(xb, yb)\n",
    "    optimizer.zero_grad(set_to_none=True)\n",
    "    loss.backward()\n",
    "    optimizer.step()"
   ]
  },
  {
   "cell_type": "code",
   "execution_count": 43,
   "metadata": {
    "id": "9hEziJ0odK9z"
   },
   "outputs": [],
   "source": [
    "# XXX!\n",
    "device = \"cuda\" if torch.cuda.is_available() else \"cpu\"\n",
    "device = torch.device(\"mps\") if torch.backends.mps.is_available() else device"
   ]
  },
  {
   "cell_type": "markdown",
   "metadata": {},
   "source": [
    "### model_cpu = None"
   ]
  },
  {
   "cell_type": "code",
   "execution_count": 47,
   "metadata": {
    "id": "pdaulm1VdK9z"
   },
   "outputs": [
    {
     "name": "stdout",
     "output_type": "stream",
     "text": [
      "creating model...\n",
      "22.933536 M parameters\n"
     ]
    }
   ],
   "source": [
    "if model_cpu is None:\n",
    "    print(\"creating model...\")\n",
    "    model_cpu = MultiHeadSelfAttention(params['vocab_size'], params['embedding_size'], \n",
    "                                       params['sequence_len'], params['dropout'], \n",
    "                                       params['heads'], params['mhsa_layers'], params['causal'], device)\n",
    "    try:\n",
    "        del model\n",
    "    except:\n",
    "        pass\n",
    "    model = model_cpu.to(device)\n",
    "    start_iter = 0\n",
    "    # print the number of parameters in the model\n",
    "    print(sum(p.numel() for p in model.parameters()) / 1e6, \"M parameters\")\n",
    "else:\n",
    "    print(\"Reusing existign model\")"
   ]
  },
  {
   "cell_type": "code",
   "execution_count": 48,
   "metadata": {
    "id": "pdaulm1VdK9z"
   },
   "outputs": [],
   "source": [
    "# create a PyTorch optimizer\n",
    "optimizer = torch.optim.AdamW(model.parameters(), lr=params['learning_rate'])"
   ]
  },
  {
   "cell_type": "code",
   "execution_count": null,
   "metadata": {
    "id": "aZpMI7_iMdR6",
    "tags": []
   },
   "outputs": [
    {
     "name": "stdout",
     "output_type": "stream",
     "text": [
      "training...\n",
      "step 8000: train loss1 3.8007, train loss2 3.7747, time 1.572 sec/iter\n",
      "Sample: --------temperature: 0.75 ---------\n",
      "Prompt: what is the difference between good and evil? \n"
     ]
    },
    {
     "data": {
      "text/html": [
       "<span style=\"background-color:#d6eaf8;\">what is the difference between </span><span style=\"background-color:#ebdef0;\">good and evil? </span><span style=\"background-color:#eadbd8;\">Or is it this</span>?<span style=\"background-color:#d4e6f1;\"> It leaves us w</span><span style=\"background-color:#e2d7d5;\">ho speaketh </span><span style=\"background-color:#ebdef0;\">the body and to</span>w?--<br><br>W<span style=\"background-color:#e2d7d5;\">hen did I go </span>back?<br><br>W<span style=\"background-color:#e2d7d5;\">earkeneth </span>how th<span style=\"background-color:#e2d7d5;\">ou did not </span>lammed up? Y<span style=\"background-color:#edebd0;\">ea, what o</span>ne ha<span style=\"background-color:#fae5d3;\">th what<br>hat</span><span style=\"background-color:#e2d7d5;\">h happened</span>?<br><br>Away<span style=\"background-color:#ebdef0;\"> I did not </span><span style=\"background-color:#d8daef;\">do all this</span>e my<span style=\"background-color:#ebdef0;\"> souls, that </span><span style=\"background-color:#e2d7d5;\">speaketh t</span><span style=\"background-color:#d8daef;\">o come, and </span><span style=\"background-color:#d8daef;\">they should </span>I hungry I myself?<br>U<span style=\"background-color:#e2d7d5;\">pon me, th</span>ou worl<span style=\"background-color:#e2d7d5;\">d my dream</span><span style=\"background-color:#ebdef0;\">, and I will </span>I see my lust--<span style=\"background-color:#e2d7d5;\">Thou dost </span>thou doesst upon<br>paske"
      ],
      "text/plain": [
       "<IPython.core.display.HTML object>"
      ]
     },
     "metadata": {},
     "output_type": "display_data"
    },
    {
     "data": {
      "text/html": [
       "<small><p style=\"text-align:right;\">Sources: <span style=\"background-color:#d6eaf8;\">FL5</span>, <span style=\"background-color:#ebdef0;\">Friedrich Nietzsche: The Will to Power, Books III and IV</span>, <span style=\"background-color:#eadbd8;\">Friedrich Nietzsche: The Will to Power, Books I and II</span>, <span style=\"background-color:#d4e6f1;\">FL6</span>, <span style=\"background-color:#e2d7d5;\">Friedrich Nietzsche: Thus Spake Zarathustra</span>, <span style=\"background-color:#e2d7d5;\">Friedrich Nietzsche: The Joyful Wisdom</span>, <span style=\"background-color:#edebd0;\">FL17</span>, <span style=\"background-color:#fae5d3;\">Friedrich Nietzsche: We Philologists, Volume 8 of 18</span>, <span style=\"background-color:#d8daef;\">Friedrich Nietzsche: Thoughts out of Season, Part One</span>, <span style=\"background-color:#ebdef0;\">Friedrich Nietzsche: Beyond Good and Evil</span>, <span style=\"background-color:#d8daef;\">Georg Wilhelm Hegel: The History of Philosophy: Volume 3 of 3</span></p></small>"
      ],
      "text/plain": [
       "<IPython.core.display.HTML object>"
      ]
     },
     "metadata": {},
     "output_type": "display_data"
    },
    {
     "name": "stdout",
     "output_type": "stream",
     "text": [
      "-------------------------------------------\n",
      "step 8250: train loss1 3.7594, train loss2 3.8016, time 1.832 sec/iter\n",
      "Sample: --------temperature: 0.75 ---------\n",
      "Prompt: How did everything come into existence? \n"
     ]
    },
    {
     "data": {
      "text/html": [
       "How<span style=\"background-color:#e2d7d5;\"> did everything </span><span style=\"background-color:#d8daef;\">come into existence</span><span style=\"background-color:#d4efdf;\">? Moreover, i</span><span style=\"background-color:#d8daef;\">t is that these </span><span style=\"background-color:#d4efdf;\">many questions a</span><span style=\"background-color:#e5e8e8;\">re in question </span><span style=\"background-color:#ecf3cf;\">is to say that a </span><span style=\"background-color:#ecf3cf;\">mathematician is </span>i<span style=\"background-color:#d6eaf8;\">ts included in </span><span style=\"background-color:#eadbd8;\">this way.<br><br></span><span style=\"background-color:#fae5d3;\">16. The refutation of the </span><span style=\"background-color:#ecf3cf;\">person of S</span><span style=\"background-color:#fae5d3;\">hantarakshita ma</span><span style=\"background-color:#eadbd8;\">y be regarded as the </span><span style=\"background-color:#d8daef;\">claims of the o</span><span style=\"background-color:#edebd0;\">utcome of an </span>a<span style=\"background-color:#eadbd8;\">ctual talk</span><span style=\"background-color:#d8daef;\"> of the relative </span><span style=\"background-color:#fae5d3;\">compounded entity. </span><span style=\"background-color:#d4efdf;\">However, only th</span><span style=\"background-color:#eadbd8;\">e fact that the existence of </span><span style=\"background-color:#d4efdf;\">their own account, </span>h<span style=\"background-color:#eadbd8;\">as a sufficient </span><span style=\"background-color:#ebdef0;\">opposite w</span><span style=\"background-color:#f6ddcc;\">ere refuted </span><span style=\"background-color:#f6ddcc;\">doctrine that a</span><span style=\"background-color:#fae5d3;\">s “is not </span>somethin<span style=\"background-color:#ebdef0;\">ggregated </span>gro<span style=\"background-color:#d4efdf;\">ss, those who </span><span style=\"background-color:#edebd0;\">are said to a</span><span style=\"background-color:#d8daef;\">ll other things </span><span style=\"background-color:#fae5d3;\">(rnam bcad</span> ’i g). "
      ],
      "text/plain": [
       "<IPython.core.display.HTML object>"
      ]
     },
     "metadata": {},
     "output_type": "display_data"
    },
    {
     "data": {
      "text/html": [
       "<small><p style=\"text-align:right;\">Sources: <span style=\"background-color:#e2d7d5;\">Friedrich Nietzsche: Thus Spake Zarathustra</span>, <span style=\"background-color:#d8daef;\">Georg Wilhelm Hegel: The History of Philosophy: Volume 3 of 3</span>, <span style=\"background-color:#d4efdf;\">FL3</span>, <span style=\"background-color:#d4efdf;\">Georg Wilhelm Hegel: Hegel's Lectures on the History of Philosophy: Vol. 1 of 3</span>, <span style=\"background-color:#e5e8e8;\">Immanuel Kant: The Critique of Practical Reason</span>, <span style=\"background-color:#ecf3cf;\">Georg Wilhelm Hegel: Hegel's Lectures on the History of Philosophy: Vol. 2 of 3</span>, <span style=\"background-color:#ecf3cf;\">FL2</span>, <span style=\"background-color:#d6eaf8;\">FL5</span>, <span style=\"background-color:#eadbd8;\">Friedrich Nietzsche: The Will to Power, Books I and II</span>, <span style=\"background-color:#fae5d3;\">FL9</span>, <span style=\"background-color:#d8daef;\">Friedrich Nietzsche: Thoughts out of Season, Part One</span>, <span style=\"background-color:#edebd0;\">FL1</span>, <span style=\"background-color:#eadbd8;\">FL15</span>, <span style=\"background-color:#eadbd8;\">Immanuel Kant: The Critique of Pure Reason</span>, <span style=\"background-color:#ebdef0;\">Friedrich Nietzsche: The Will to Power, Books III and IV</span>, <span style=\"background-color:#f6ddcc;\">Friedrich Nietzsche: Human, All Too Human</span>, <span style=\"background-color:#f6ddcc;\">FL8</span>, <span style=\"background-color:#ebdef0;\">Friedrich Nietzsche: Beyond Good and Evil</span>, <span style=\"background-color:#edebd0;\">FL17</span></p></small>"
      ],
      "text/plain": [
       "<IPython.core.display.HTML object>"
      ]
     },
     "metadata": {},
     "output_type": "display_data"
    },
    {
     "name": "stdout",
     "output_type": "stream",
     "text": [
      "-------------------------------------------\n",
      "step 8500: train loss1 3.7183, train loss2 3.7109, time 1.802 sec/iter\n",
      "Sample: --------temperature: 0.75 ---------\n",
      "Prompt: What was the beginning of time? \n"
     ]
    },
    {
     "data": {
      "text/html": [
       "<span style=\"background-color:#eadbd8;\">What was the </span><span style=\"background-color:#d8daef;\">beginning of time</span>? Hav<span style=\"background-color:#d8daef;\">e Descartes’ </span>bui<span style=\"background-color:#e5e8e8;\">ld before </span>you, mour-body ‘Hart<span style=\"background-color:#ecf3cf;\">’ and the </span>Mor<span style=\"background-color:#ecf3cf;\">ning’ that </span>I w<span style=\"background-color:#d4efdf;\">ept this, and </span><span style=\"background-color:#d0ece7;\">a dualism.</span><span style=\"background-color:#d8daef;\"> The only diff</span><span style=\"background-color:#d6eaf8;\">iculty of a</span>t least, Hartfi<span style=\"background-color:#ecf3cf;\">bert space. The </span>Saksky, Hartler 153: A<span style=\"background-color:#fae5d3;\">rgument, p</span>p. 243, 432<span style=\"background-color:#edebd0;\">.<br><br>3. See </span>P. R. (195). A<span style=\"background-color:#ecf3cf;\"> formalist </span>function Smith ed. Paul, S.<span style=\"background-color:#ecf3cf;\"> and Essays</span> Physics"
      ],
      "text/plain": [
       "<IPython.core.display.HTML object>"
      ]
     },
     "metadata": {},
     "output_type": "display_data"
    },
    {
     "data": {
      "text/html": [
       "<small><p style=\"text-align:right;\">Sources: <span style=\"background-color:#eadbd8;\">Friedrich Nietzsche: The Will to Power, Books I and II</span>, <span style=\"background-color:#d8daef;\">Georg Wilhelm Hegel: The History of Philosophy: Volume 3 of 3</span>, <span style=\"background-color:#e5e8e8;\">Immanuel Kant: The Critique of Practical Reason</span>, <span style=\"background-color:#ecf3cf;\">Georg Wilhelm Hegel: Hegel's Lectures on the History of Philosophy: Vol. 2 of 3</span>, <span style=\"background-color:#ecf3cf;\">FL2</span>, <span style=\"background-color:#d4efdf;\">FL3</span>, <span style=\"background-color:#d0ece7;\">Friedrich Nietzsche: Early Greek Philosophy & Other Essays</span>, <span style=\"background-color:#d6eaf8;\">Immanuel Kant: Perpetual Peace</span>, <span style=\"background-color:#fae5d3;\">FL9</span>, <span style=\"background-color:#edebd0;\">FL1</span></p></small>"
      ],
      "text/plain": [
       "<IPython.core.display.HTML object>"
      ]
     },
     "metadata": {},
     "output_type": "display_data"
    },
    {
     "name": "stdout",
     "output_type": "stream",
     "text": [
      "-------------------------------------------\n",
      "step 8750: train loss1 3.7196, train loss2 3.6713, time 1.745 sec/iter\n",
      "Sample: --------temperature: 0.75 ---------\n",
      "Prompt: How are physics, quantum-mechanics and consciousness related? \n"
     ]
    },
    {
     "data": {
      "text/html": [
       "How<span style=\"background-color:#ecf3cf;\"> are physic</span><span style=\"background-color:#ecf3cf;\">s, quantum-mechanic</span><span style=\"background-color:#ecf3cf;\">s and consciousness </span>relate<span style=\"background-color:#d4e6f1;\">d? How does </span><span style=\"background-color:#d8daef;\">we are accu</span><span style=\"background-color:#e2d7d5;\">rately, how</span><span style=\"background-color:#edebd0;\"> can we understand </span><span style=\"background-color:#d8daef;\">what question</span><span style=\"background-color:#f6ddcc;\"> down to the question</span><span style=\"background-color:#f6ddcc;\">? How many </span><span style=\"background-color:#edebd0;\">question is le</span>av<span style=\"background-color:#fae5d3;\">y insist o</span><span style=\"background-color:#edebd0;\">f these ev</span><span style=\"background-color:#e5e8e8;\">olutions re</span><span style=\"background-color:#e2d7d5;\">lating to the </span>answ<span style=\"background-color:#e2d7d5;\">er? What do</span><span style=\"background-color:#eadbd8;\">es this be</span><span style=\"background-color:#d6dbdf;\"> seen here</span><span style=\"background-color:#d4e6f1;\">? How does it </span><span style=\"background-color:#f6ddcc;\">the case by </span><span style=\"background-color:#ebdef0;\">question? How does </span><span style=\"background-color:#d8daef;\">this question, </span><span style=\"background-color:#f6ddcc;\">how can there be an</span>sw<span style=\"background-color:#d6eaf8;\">ered according to </span><span style=\"background-color:#e2d7d5;\">which a mea</span><span style=\"background-color:#e5e8e8;\">ning can be a</span><span style=\"background-color:#eadbd8;\">chieved or </span><span style=\"background-color:#eadbd8;\">in answers </span><span style=\"background-color:#d8daef;\">conceptions of its </span><span style=\"background-color:#eadbd8;\">position? I</span><span style=\"background-color:#d8daef;\">s the question</span>?<span style=\"background-color:#fae5d3;\"><br><br>How then i</span><span style=\"background-color:#ecf3cf;\">s it about </span><span style=\"background-color:#d4e6f1;\">what others </span>does <span style=\"background-color:#ebdef0;\">? What is the </span><span style=\"background-color:#d4efdf;\">view is that</span>?<br><br><span style=\"background-color:#e5e8e8;\"><br><br>How does the m</span><span style=\"background-color:#fdebd0;\">ind, the first </span><span style=\"background-color:#ebdef0;\">question is b</span>uilt "
      ],
      "text/plain": [
       "<IPython.core.display.HTML object>"
      ]
     },
     "metadata": {},
     "output_type": "display_data"
    },
    {
     "data": {
      "text/html": [
       "<small><p style=\"text-align:right;\">Sources: <span style=\"background-color:#ecf3cf;\">FL2</span>, <span style=\"background-color:#d4e6f1;\">Immanuel Kant: Kant's Critique of Judgement</span>, <span style=\"background-color:#d8daef;\">Georg Wilhelm Hegel: The History of Philosophy: Volume 3 of 3</span>, <span style=\"background-color:#e2d7d5;\">Friedrich Nietzsche: The Joyful Wisdom</span>, <span style=\"background-color:#edebd0;\">FL17</span>, <span style=\"background-color:#d8daef;\">Friedrich Nietzsche: Thoughts out of Season, Part One</span>, <span style=\"background-color:#f6ddcc;\">FL8</span>, <span style=\"background-color:#edebd0;\">FL1</span>, <span style=\"background-color:#fae5d3;\">Friedrich Nietzsche: We Philologists, Volume 8 of 18</span>, <span style=\"background-color:#e5e8e8;\">Immanuel Kant: The Critique of Practical Reason</span>, <span style=\"background-color:#eadbd8;\">FL15</span>, <span style=\"background-color:#d6dbdf;\">Friedrich Nietzsche: Thoughts Out of Season, Part 2</span>, <span style=\"background-color:#d4e6f1;\">FL6</span>, <span style=\"background-color:#ebdef0;\">Friedrich Nietzsche: Beyond Good and Evil</span>, <span style=\"background-color:#d6eaf8;\">Immanuel Kant: Perpetual Peace</span>, <span style=\"background-color:#e2d7d5;\">Friedrich Nietzsche: Thus Spake Zarathustra</span>, <span style=\"background-color:#e5e8e8;\">FL11</span>, <span style=\"background-color:#eadbd8;\">Friedrich Nietzsche: The Will to Power, Books I and II</span>, <span style=\"background-color:#eadbd8;\">Immanuel Kant: The Critique of Pure Reason</span>, <span style=\"background-color:#ebdef0;\">Friedrich Nietzsche: The Will to Power, Books III and IV</span>, <span style=\"background-color:#d4efdf;\">Georg Wilhelm Hegel: Hegel's Lectures on the History of Philosophy: Vol. 1 of 3</span>, <span style=\"background-color:#fdebd0;\">FL10</span></p></small>"
      ],
      "text/plain": [
       "<IPython.core.display.HTML object>"
      ]
     },
     "metadata": {},
     "output_type": "display_data"
    },
    {
     "name": "stdout",
     "output_type": "stream",
     "text": [
      "-------------------------------------------\n",
      "step 9000: train loss1 3.6449, train loss2 3.6523, time 1.783 sec/iter\n",
      "Sample: --------temperature: 0.75 ---------\n",
      "Prompt: How to attain complete self-awareness? \n"
     ]
    },
    {
     "data": {
      "text/html": [
       "H<span style=\"background-color:#d6dbdf;\">ow to attain </span><span style=\"background-color:#d0ece7;\">complete self-a</span><span style=\"background-color:#ecf3cf;\">wareness? Th</span><span style=\"background-color:#d8daef;\">is is not a</span><span style=\"background-color:#edebd0;\">ware that the </span>mi<span style=\"background-color:#d6dbdf;\">nd can we </span><span style=\"background-color:#d4efdf;\">examine the way </span><span style=\"background-color:#fae5d3;\">by understanding </span><span style=\"background-color:#d8daef;\">of what is experienced </span><span style=\"background-color:#ecf3cf;\">by our exp</span><span style=\"background-color:#edebd0;\">erience, we are able to ex</span><span style=\"background-color:#edebd0;\">perience the nature </span><span style=\"background-color:#edebd0;\">in nothing th</span><span style=\"background-color:#d6dbdf;\">ere. The mind </span>is clear (prima<span style=\"background-color:#d8daef;\">ry totality</span><span style=\"background-color:#ebdef0;\">) and the </span><span style=\"background-color:#d8daef;\">case with i</span><span style=\"background-color:#d4efdf;\">ts during the </span><span style=\"background-color:#ebdef0;\">appearance of some power</span><span style=\"background-color:#d0ece7;\">s, and the whole of </span><span style=\"background-color:#d8daef;\">the appropriate</span>.12<br><br>2. Ch.20<span style=\"background-color:#d8daef;\">. Many of these </span>idea<span style=\"background-color:#edebd0;\">s or relat</span><span style=\"background-color:#d8daef;\">ed to the mind</span><span style=\"background-color:#d4e6f1;\">.<br><br>I think the </span><span style=\"background-color:#d6dbdf;\">seem to be s</span>ai<span style=\"background-color:#fae5d3;\">d to give a more </span><span style=\"background-color:#edebd0;\">accurate and </span><span style=\"background-color:#d8daef;\">inappropriate, </span><span style=\"background-color:#ecf3cf;\">and it is not a co</span><span style=\"background-color:#edebd0;\">nceptual o</span>us<span style=\"background-color:#eadbd8;\">ly simple c</span><span style=\"background-color:#edebd0;\">onsciousness. But if </span><span style=\"background-color:#d6dbdf;\">we can reach the </span>le"
      ],
      "text/plain": [
       "<IPython.core.display.HTML object>"
      ]
     },
     "metadata": {},
     "output_type": "display_data"
    },
    {
     "data": {
      "text/html": [
       "<small><p style=\"text-align:right;\">Sources: <span style=\"background-color:#d6dbdf;\">FL7</span>, <span style=\"background-color:#d0ece7;\">Friedrich Nietzsche: Early Greek Philosophy & Other Essays</span>, <span style=\"background-color:#ecf3cf;\">FL2</span>, <span style=\"background-color:#d8daef;\">Georg Wilhelm Hegel: The History of Philosophy: Volume 3 of 3</span>, <span style=\"background-color:#edebd0;\">FL1</span>, <span style=\"background-color:#d6dbdf;\">Friedrich Nietzsche: Thoughts Out of Season, Part 2</span>, <span style=\"background-color:#d4efdf;\">FL3</span>, <span style=\"background-color:#fae5d3;\">FL9</span>, <span style=\"background-color:#edebd0;\">FL17</span>, <span style=\"background-color:#edebd0;\">Immanuel Kant: Kant's Prolegomena</span>, <span style=\"background-color:#ebdef0;\">Friedrich Nietzsche: The Will to Power, Books III and IV</span>, <span style=\"background-color:#d0ece7;\">FL4</span>, <span style=\"background-color:#d4e6f1;\">FL6</span>, <span style=\"background-color:#eadbd8;\">Immanuel Kant: The Critique of Pure Reason</span></p></small>"
      ],
      "text/plain": [
       "<IPython.core.display.HTML object>"
      ]
     },
     "metadata": {},
     "output_type": "display_data"
    },
    {
     "name": "stdout",
     "output_type": "stream",
     "text": [
      "-------------------------------------------\n",
      "step 9250: train loss1 3.6256, train loss2 3.6566, time 1.663 sec/iter\n",
      "Sample: --------temperature: 0.75 ---------\n",
      "Prompt: What is the nature of reality? \n"
     ]
    },
    {
     "data": {
      "text/html": [
       "<span style=\"background-color:#edebd0;\">What is the nature of </span>re<span style=\"background-color:#eadbd8;\">ality? The </span><span style=\"background-color:#ebdef0;\">essence drop</span><span style=\"background-color:#d4efdf;\">aṃsāra and nirvāṇa<br><br></span><span style=\"background-color:#ecf3cf;\">becomes manifest</span><span style=\"background-color:#fae5d3;\">ing thus with </span><span style=\"background-color:#d8daef;\">the wisdom </span><span style=\"background-color:#ecf3cf;\">qualities of all </span><span style=\"background-color:#e2d7d5;\">manner of sa</span><span style=\"background-color:#d4efdf;\">ṃsāra, nirvāṇa</span>. Tak<span style=\"background-color:#d8daef;\">e on account of the </span>l<span style=\"background-color:#e2d7d5;\">ast and fa</span>c<span style=\"background-color:#eadbd8;\">e, the joy of </span><span style=\"background-color:#d4efdf;\">the transmission of th</span><span style=\"background-color:#d4e6f1;\">ree times: “</span>O minute<span style=\"background-color:#d4efdf;\">r forceful</span>ness?”<span style=\"background-color:#d4e6e1;\"><br><br>The essence of the </span><span style=\"background-color:#d4efdf;\">essential nature of all of saṃsāra and nirvāṇa </span><span style=\"background-color:#fdebd0;\">are not two separate t</span>ruth: (1)<span style=\"background-color:#edebd0;\"> abiding, 1</span>8<span style=\"background-color:#e2d7d5;\">) the way in which </span>emptine"
      ],
      "text/plain": [
       "<IPython.core.display.HTML object>"
      ]
     },
     "metadata": {},
     "output_type": "display_data"
    },
    {
     "data": {
      "text/html": [
       "<small><p style=\"text-align:right;\">Sources: <span style=\"background-color:#edebd0;\">FL1</span>, <span style=\"background-color:#eadbd8;\">Friedrich Nietzsche: The Will to Power, Books I and II</span>, <span style=\"background-color:#ebdef0;\">FL14</span>, <span style=\"background-color:#d4efdf;\">FL3</span>, <span style=\"background-color:#ecf3cf;\">Georg Wilhelm Hegel: Hegel's Lectures on the History of Philosophy: Vol. 2 of 3</span>, <span style=\"background-color:#fae5d3;\">FL9</span>, <span style=\"background-color:#d8daef;\">Georg Wilhelm Hegel: The History of Philosophy: Volume 3 of 3</span>, <span style=\"background-color:#e2d7d5;\">FL16</span>, <span style=\"background-color:#e2d7d5;\">Friedrich Nietzsche: The Joyful Wisdom</span>, <span style=\"background-color:#d4e6f1;\">FL6</span>, <span style=\"background-color:#d4e6e1;\">FL12</span>, <span style=\"background-color:#fdebd0;\">FL10</span>, <span style=\"background-color:#edebd0;\">FL17</span></p></small>"
      ],
      "text/plain": [
       "<IPython.core.display.HTML object>"
      ]
     },
     "metadata": {},
     "output_type": "display_data"
    },
    {
     "name": "stdout",
     "output_type": "stream",
     "text": [
      "-------------------------------------------\n",
      "step 9500: train loss1 3.6248, train loss2 3.6192, time 1.710 sec/iter\n",
      "Sample: --------temperature: 0.75 ---------\n",
      "Prompt: How be a good human being? \n"
     ]
    },
    {
     "data": {
      "text/html": [
       "How<span style=\"background-color:#eadbd8;\"> be a good </span><span style=\"background-color:#d8daef;\">human being</span>? Do you<span style=\"background-color:#d8daef;\"> answer question</span><span style=\"background-color:#d8daef;\"> to answer</span>? Do you!<span style=\"background-color:#e2d7d5;\">? Do we not </span><span style=\"background-color:#ecf3cf;\">don’t know</span><span style=\"background-color:#ebdef0;\">? What does th</span><span style=\"background-color:#ecf3cf;\">is view that </span><span style=\"background-color:#d8daef;\">Descartes, h</span>a<span style=\"background-color:#d4efdf;\">d not cause</span><span style=\"background-color:#f6ddcc;\">d about what h</span>as bee<span style=\"background-color:#d4e6f1;\">n?<br><br><br><br><br><br>2. </span><span style=\"background-color:#eadbd8;\">On this question</span><span style=\"background-color:#eadbd8;\"> of what v</span>iew nsw<span style=\"background-color:#ebdef0;\">ers on his </span><span style=\"background-color:#ebdef0;\">opportuniti</span>ng i<span style=\"background-color:#ebdef0;\">t implementi</span><span style=\"background-color:#ebdef0;\">sm in the m</span><span style=\"background-color:#eadbd8;\">ental hypotheses</span><span style=\"background-color:#d8daef;\">. What does </span><span style=\"background-color:#d8daef;\">Descartes sho</span><span style=\"background-color:#d6eaf8;\">uld give up i</span><span style=\"background-color:#ecf3cf;\">n consciousness. How</span><span style=\"background-color:#eadbd8;\"> is it possible that </span>you do so? You <span style=\"background-color:#e2d7d5;\">most answered</span><span style=\"background-color:#d4e6f1;\">ly? Descartes</span><span style=\"background-color:#d4efdf;\">, “How can you </span>do<span style=\"background-color:#ecf3cf;\"> so consciousness </span>"
      ],
      "text/plain": [
       "<IPython.core.display.HTML object>"
      ]
     },
     "metadata": {},
     "output_type": "display_data"
    },
    {
     "data": {
      "text/html": [
       "<small><p style=\"text-align:right;\">Sources: <span style=\"background-color:#eadbd8;\">Friedrich Nietzsche: The Will to Power, Books I and II</span>, <span style=\"background-color:#d8daef;\">Georg Wilhelm Hegel: The History of Philosophy: Volume 3 of 3</span>, <span style=\"background-color:#e2d7d5;\">Friedrich Nietzsche: The Joyful Wisdom</span>, <span style=\"background-color:#ecf3cf;\">Georg Wilhelm Hegel: Hegel's Lectures on the History of Philosophy: Vol. 2 of 3</span>, <span style=\"background-color:#ebdef0;\">Friedrich Nietzsche: Beyond Good and Evil</span>, <span style=\"background-color:#ecf3cf;\">FL2</span>, <span style=\"background-color:#d4efdf;\">Georg Wilhelm Hegel: Hegel's Lectures on the History of Philosophy: Vol. 1 of 3</span>, <span style=\"background-color:#f6ddcc;\">FL8</span>, <span style=\"background-color:#d4e6f1;\">FL6</span>, <span style=\"background-color:#eadbd8;\">FL15</span>, <span style=\"background-color:#ebdef0;\">Friedrich Nietzsche: The Will to Power, Books III and IV</span>, <span style=\"background-color:#ebdef0;\">FL14</span>, <span style=\"background-color:#eadbd8;\">Immanuel Kant: The Critique of Pure Reason</span>, <span style=\"background-color:#d6eaf8;\">Immanuel Kant: Perpetual Peace</span>, <span style=\"background-color:#e2d7d5;\">Friedrich Nietzsche: Thus Spake Zarathustra</span></p></small>"
      ],
      "text/plain": [
       "<IPython.core.display.HTML object>"
      ]
     },
     "metadata": {},
     "output_type": "display_data"
    },
    {
     "name": "stdout",
     "output_type": "stream",
     "text": [
      "-------------------------------------------\n",
      "step 9750: train loss1 3.6422, train loss2 3.5891, time 1.670 sec/iter\n",
      "Sample: --------temperature: 0.75 ---------\n",
      "Prompt: what is the difference between good and evil? \n"
     ]
    },
    {
     "data": {
      "text/html": [
       "<span style=\"background-color:#d6eaf8;\">what is the difference between </span><span style=\"background-color:#ebdef0;\">good and evil? </span><span style=\"background-color:#edebd0;\">Well, you </span><span style=\"background-color:#ecf3cf;\">do not think that </span><span style=\"background-color:#d8daef;\">what we can </span>do this;<span style=\"background-color:#d4efdf;\"> you need to </span>gai<span style=\"background-color:#e2d7d5;\">n an evil </span>of it<span style=\"background-color:#e2d7d5;\">: but do not </span><span style=\"background-color:#ebdef0;\">know how to ex</span><span style=\"background-color:#d4efdf;\">ist and that </span>it<span style=\"background-color:#fae5d3;\"> back from s</span><span style=\"background-color:#d8daef;\">uffering and </span>control<span style=\"background-color:#ecf3cf;\">ting bodies </span><span style=\"background-color:#e2d7d5;\">from the dev</span><span style=\"background-color:#eadbd8;\">otion from the</span><span style=\"background-color:#d6dbdf;\">m, but they are </span><span style=\"background-color:#fdebd0;\">just like mi</span><span style=\"background-color:#d4efdf;\">x hundred </span><span style=\"background-color:#ebdef0;\">experiences of </span><span style=\"background-color:#d6dbdf;\">usulu and </span>b<span style=\"background-color:#edebd0;\">ears of de</span>e<span style=\"background-color:#d4efdf;\">per. When we </span><span style=\"background-color:#d6dbdf;\">do not possess any </span><span style=\"background-color:#ecf3cf;\">distance p</span>rocess.<span style=\"background-color:#e2d7d5;\"> Pleasing </span>to<span style=\"background-color:#d6eaf8;\"> a sentient being</span><span style=\"background-color:#d6dbdf;\">s are unvirtuous</span><span style=\"background-color:#ebdef0;\"> temporarily to </span><span style=\"background-color:#ebdef0;\">evil action</span><span style=\"background-color:#d6eaf8;\">. Rather, w</span><span style=\"background-color:#d6dbdf;\">rong person</span>’<span style=\"background-color:#fdebd0;\">s own happiness, </span>a<span style=\"background-color:#d8daef;\">bsequently i</span><span style=\"background-color:#fdebd0;\">s not a habit</span>ual "
      ],
      "text/plain": [
       "<IPython.core.display.HTML object>"
      ]
     },
     "metadata": {},
     "output_type": "display_data"
    },
    {
     "data": {
      "text/html": [
       "<small><p style=\"text-align:right;\">Sources: <span style=\"background-color:#d6eaf8;\">FL5</span>, <span style=\"background-color:#ebdef0;\">Friedrich Nietzsche: The Will to Power, Books III and IV</span>, <span style=\"background-color:#edebd0;\">FL1</span>, <span style=\"background-color:#ecf3cf;\">Georg Wilhelm Hegel: Hegel's Lectures on the History of Philosophy: Vol. 2 of 3</span>, <span style=\"background-color:#d8daef;\">Georg Wilhelm Hegel: The History of Philosophy: Volume 3 of 3</span>, <span style=\"background-color:#d4efdf;\">FL3</span>, <span style=\"background-color:#e2d7d5;\">Friedrich Nietzsche: The Joyful Wisdom</span>, <span style=\"background-color:#e2d7d5;\">Friedrich Nietzsche: Thus Spake Zarathustra</span>, <span style=\"background-color:#fae5d3;\">FL9</span>, <span style=\"background-color:#ecf3cf;\">FL2</span>, <span style=\"background-color:#eadbd8;\">Immanuel Kant: The Critique of Pure Reason</span>, <span style=\"background-color:#d6dbdf;\">FL7</span>, <span style=\"background-color:#fdebd0;\">FL10</span>, <span style=\"background-color:#d4efdf;\">Georg Wilhelm Hegel: Hegel's Lectures on the History of Philosophy: Vol. 1 of 3</span>, <span style=\"background-color:#e2d7d5;\">FL16</span>, <span style=\"background-color:#d6eaf8;\">Immanuel Kant: Perpetual Peace</span>, <span style=\"background-color:#ebdef0;\">Friedrich Nietzsche: Beyond Good and Evil</span>, <span style=\"background-color:#d6dbdf;\">Friedrich Nietzsche: Thoughts Out of Season, Part 2</span>, <span style=\"background-color:#fdebd0;\">Immanuel Kant: The Metaphysical Elements of Ethics</span></p></small>"
      ],
      "text/plain": [
       "<IPython.core.display.HTML object>"
      ]
     },
     "metadata": {},
     "output_type": "display_data"
    },
    {
     "name": "stdout",
     "output_type": "stream",
     "text": [
      "-------------------------------------------\n",
      "step 10000: train loss1 3.5841, train loss2 3.5349, time 1.623 sec/iter\n",
      "Sample: --------temperature: 0.75 ---------\n",
      "Prompt: How did everything come into existence? \n"
     ]
    },
    {
     "data": {
      "text/html": [
       "How<span style=\"background-color:#e2d7d5;\"> did everything </span><span style=\"background-color:#d8daef;\">come into existence</span>? Surely H<span style=\"background-color:#ebdef0;\">ave rise to </span><span style=\"background-color:#d8daef;\">you? Have y</span>ou being ‘HEQU’<span style=\"background-color:#d4efdf;\">? Teacher, please explain!</span>’<span style=\"background-color:#d4efdf;\"><br><br>“O Vajra of Pristine Awareness</span><span style=\"background-color:#d4efdf;\"> then asked, “O Teacher, Bhagavān, </span><span style=\"background-color:#d4efdf;\">please teach</span><span style=\"background-color:#d4efdf;\">, “O Teacher, Bhagavān, </span>Matisamāyāna, don’<span style=\"background-color:#d8daef;\">m inseparably </span><span style=\"background-color:#d6eaf8;\">realized, some</span><span style=\"background-color:#ecf3cf;\">thing that appears to be </span>au<span style=\"background-color:#edebd0;\">table phenomena</span>.” [1442]<span style=\"background-color:#d4efdf;\"> He replied</span>, "
      ],
      "text/plain": [
       "<IPython.core.display.HTML object>"
      ]
     },
     "metadata": {},
     "output_type": "display_data"
    },
    {
     "data": {
      "text/html": [
       "<small><p style=\"text-align:right;\">Sources: <span style=\"background-color:#e2d7d5;\">Friedrich Nietzsche: Thus Spake Zarathustra</span>, <span style=\"background-color:#d8daef;\">Georg Wilhelm Hegel: The History of Philosophy: Volume 3 of 3</span>, <span style=\"background-color:#ebdef0;\">Friedrich Nietzsche: The Will to Power, Books III and IV</span>, <span style=\"background-color:#d8daef;\">Friedrich Nietzsche: Thoughts out of Season, Part One</span>, <span style=\"background-color:#d4efdf;\">FL3</span>, <span style=\"background-color:#d6eaf8;\">FL5</span>, <span style=\"background-color:#ecf3cf;\">FL2</span>, <span style=\"background-color:#edebd0;\">FL1</span>, <span style=\"background-color:#d4efdf;\">Georg Wilhelm Hegel: Hegel's Lectures on the History of Philosophy: Vol. 1 of 3</span></p></small>"
      ],
      "text/plain": [
       "<IPython.core.display.HTML object>"
      ]
     },
     "metadata": {},
     "output_type": "display_data"
    },
    {
     "name": "stdout",
     "output_type": "stream",
     "text": [
      "-------------------------------------------\n",
      "step 10250: train loss1 3.5360, train loss2 3.5699, time 1.576 sec/iter\n",
      "Sample: --------temperature: 0.75 ---------\n",
      "Prompt: What was the beginning of time? \n"
     ]
    },
    {
     "data": {
      "text/html": [
       "<span style=\"background-color:#eadbd8;\">What was the </span><span style=\"background-color:#d8daef;\">beginning of time</span><span style=\"background-color:#d4e6f1;\">? How can there be s</span><span style=\"background-color:#e2d7d5;\">omething in a</span><span style=\"background-color:#d8daef;\">ccordance with pr</span><span style=\"background-color:#ecf3cf;\">ofound mathematic</span><span style=\"background-color:#ecf3cf;\">s? Or are </span>m<span style=\"background-color:#d4e6f1;\">any answer i</span><span style=\"background-color:#edebd0;\">s that consciousness c</span><span style=\"background-color:#edebd0;\">ould we say that the</span><span style=\"background-color:#e2d7d5;\">re is sens</span><span style=\"background-color:#ebdef0;\">ibility of consciousness</span><span style=\"background-color:#fae5d3;\">? And if there </span><span style=\"background-color:#ecf3cf;\">would have to be no</span><span style=\"background-color:#edebd0;\"> such thing as a p</span><span style=\"background-color:#ecf3cf;\">henomenon of consciousness tha</span><span style=\"background-color:#d4e6f1;\">n at all? </span><span style=\"background-color:#d6eaf8;\">This kind of co</span><span style=\"background-color:#fae5d3;\">nsciousness does not become </span><span style=\"background-color:#ecf3cf;\">consciously perceived </span><span style=\"background-color:#d8daef;\">by saying that </span><span style=\"background-color:#edebd0;\">conscious with o</span><span style=\"background-color:#d8daef;\">ther objects </span><span style=\"background-color:#f6ddcc;\">existing facts</span><span style=\"background-color:#d4efdf;\">, but object</span><span style=\"background-color:#f6ddcc;\">s of intentionality th</span><span style=\"background-color:#ecf3cf;\">rough the grow</span>rec<span style=\"background-color:#fae5d3;\">uspices and </span><span style=\"background-color:#edebd0;\">field of consciousness.</span><br><br>2.<span style=\"background-color:#ebdef0;\"> Biological </span><span style=\"background-color:#ecf3cf;\">argument shows</span><span style=\"background-color:#d4e6f1;\">, I want to make c</span><span style=\"background-color:#d8daef;\">onsciousness, I </span><span style=\"background-color:#edebd0;\">must put th</span><span style=\"background-color:#ecf3cf;\">is argument to </span>proce"
      ],
      "text/plain": [
       "<IPython.core.display.HTML object>"
      ]
     },
     "metadata": {},
     "output_type": "display_data"
    },
    {
     "data": {
      "text/html": [
       "<small><p style=\"text-align:right;\">Sources: <span style=\"background-color:#eadbd8;\">Friedrich Nietzsche: The Will to Power, Books I and II</span>, <span style=\"background-color:#d8daef;\">Georg Wilhelm Hegel: The History of Philosophy: Volume 3 of 3</span>, <span style=\"background-color:#d4e6f1;\">FL6</span>, <span style=\"background-color:#e2d7d5;\">Friedrich Nietzsche: The Joyful Wisdom</span>, <span style=\"background-color:#ecf3cf;\">FL2</span>, <span style=\"background-color:#edebd0;\">FL1</span>, <span style=\"background-color:#edebd0;\">FL17</span>, <span style=\"background-color:#e2d7d5;\">FL16</span>, <span style=\"background-color:#ebdef0;\">Friedrich Nietzsche: The Will to Power, Books III and IV</span>, <span style=\"background-color:#fae5d3;\">FL9</span>, <span style=\"background-color:#d6eaf8;\">FL5</span>, <span style=\"background-color:#f6ddcc;\">FL8</span>, <span style=\"background-color:#d4efdf;\">Georg Wilhelm Hegel: Hegel's Lectures on the History of Philosophy: Vol. 1 of 3</span>, <span style=\"background-color:#ecf3cf;\">Georg Wilhelm Hegel: Hegel's Lectures on the History of Philosophy: Vol. 2 of 3</span></p></small>"
      ],
      "text/plain": [
       "<IPython.core.display.HTML object>"
      ]
     },
     "metadata": {},
     "output_type": "display_data"
    },
    {
     "name": "stdout",
     "output_type": "stream",
     "text": [
      "-------------------------------------------\n",
      "step 10500: train loss1 3.5401, train loss2 3.5329, time 1.565 sec/iter\n",
      "Sample: --------temperature: 0.75 ---------\n",
      "Prompt: How are physics, quantum-mechanics and consciousness related? \n"
     ]
    },
    {
     "data": {
      "text/html": [
       "How<span style=\"background-color:#ecf3cf;\"> are physic</span><span style=\"background-color:#ecf3cf;\">s, quantum-mechanic</span><span style=\"background-color:#ecf3cf;\">s and consciousness </span>relat<span style=\"background-color:#e2d7d5;\">ed? Perhaps </span><span style=\"background-color:#d8daef;\">the most interest</span><span style=\"background-color:#eadbd8;\">ed in the New</span><span style=\"background-color:#ecf3cf;\">tonian equations</span><span style=\"background-color:#d8daef;\">, but it is as </span><span style=\"background-color:#edebd0;\">a physical law</span><span style=\"background-color:#ecf3cf;\">s of the ‘p</span>rocess’.<span style=\"background-color:#ecf3cf;\"> – which is </span><span style=\"background-color:#eadbd8;\">very much rea</span>son<span style=\"background-color:#d6eaf8;\">ably by the </span><span style=\"background-color:#ecf3cf;\">state-vector s</span>pace.7 W<span style=\"background-color:#ebdef0;\">ith a description of </span>the ‘gravity<span style=\"background-color:#ecf3cf;\">’ picture of </span><span style=\"background-color:#edebd0;\">physical space</span><span style=\"background-color:#ecf3cf;\">–time singularity.</span> The hyth<span style=\"background-color:#ecf3cf;\">m picture </span><span style=\"background-color:#e2d7d5;\">will have been co</span><span style=\"background-color:#d4e6f1;\">stemically </span>that<span style=\"background-color:#ecf3cf;\"> ‘intelligence’</span>–<span style=\"background-color:#ecf3cf;\"> is not always </span><span style=\"background-color:#d8daef;\">clear to us</span><span style=\"background-color:#ecf3cf;\">. It will be convenient to </span><span style=\"background-color:#d8daef;\">the entirely </span><span style=\"background-color:#edebd0;\">of the pho</span>ic<span style=\"background-color:#ecf3cf;\">e!<br><br><br><br>Fig. </span>3.6. A ‘thing’<span style=\"background-color:#fae5d3;\"> is hard to f</span><span style=\"background-color:#d4efdf;\">irst begin t</span>o p"
      ],
      "text/plain": [
       "<IPython.core.display.HTML object>"
      ]
     },
     "metadata": {},
     "output_type": "display_data"
    },
    {
     "data": {
      "text/html": [
       "<small><p style=\"text-align:right;\">Sources: <span style=\"background-color:#ecf3cf;\">FL2</span>, <span style=\"background-color:#e2d7d5;\">Friedrich Nietzsche: The Joyful Wisdom</span>, <span style=\"background-color:#d8daef;\">Georg Wilhelm Hegel: The History of Philosophy: Volume 3 of 3</span>, <span style=\"background-color:#eadbd8;\">Friedrich Nietzsche: The Will to Power, Books I and II</span>, <span style=\"background-color:#edebd0;\">Immanuel Kant: Kant's Prolegomena</span>, <span style=\"background-color:#eadbd8;\">FL15</span>, <span style=\"background-color:#d6eaf8;\">FL5</span>, <span style=\"background-color:#ebdef0;\">Friedrich Nietzsche: The Will to Power, Books III and IV</span>, <span style=\"background-color:#e2d7d5;\">FL16</span>, <span style=\"background-color:#d4e6f1;\">FL6</span>, <span style=\"background-color:#ecf3cf;\">Georg Wilhelm Hegel: Hegel's Lectures on the History of Philosophy: Vol. 2 of 3</span>, <span style=\"background-color:#edebd0;\">FL1</span>, <span style=\"background-color:#fae5d3;\">FL9</span>, <span style=\"background-color:#d4efdf;\">Georg Wilhelm Hegel: Hegel's Lectures on the History of Philosophy: Vol. 1 of 3</span></p></small>"
      ],
      "text/plain": [
       "<IPython.core.display.HTML object>"
      ]
     },
     "metadata": {},
     "output_type": "display_data"
    },
    {
     "name": "stdout",
     "output_type": "stream",
     "text": [
      "-------------------------------------------\n",
      "step 10750: train loss1 3.4669, train loss2 3.4910, time 1.573 sec/iter\n",
      "Sample: --------temperature: 0.75 ---------\n",
      "Prompt: How to attain complete self-awareness? \n"
     ]
    },
    {
     "data": {
      "text/html": [
       "H<span style=\"background-color:#d6dbdf;\">ow to attain </span><span style=\"background-color:#d0ece7;\">complete self-a</span><span style=\"background-color:#ecf3cf;\">wareness? </span><span style=\"background-color:#e2d7d5;\">Having seized th</span><span style=\"background-color:#e2d7d5;\">e Preceptor </span><span style=\"background-color:#d8daef;\">of the Sou</span><span style=\"background-color:#d8daef;\">nd instructi</span><span style=\"background-color:#ecf3cf;\">ng the overall </span><span style=\"background-color:#d4efdf;\">non-existence</span><span style=\"background-color:#ebdef0;\">'s nature </span><span style=\"background-color:#edebd0;\">(the propert</span>ycle)<span style=\"background-color:#d4e6f1;\">? If we are </span><span style=\"background-color:#d4efdf;\">able to say that a</span><span style=\"background-color:#e2d7d5;\">ffliction, wh</span><span style=\"background-color:#fdebd0;\">en you are a</span><span style=\"background-color:#d0ece7;\">ttached to o</span><span style=\"background-color:#ecf3cf;\">ccur in ordinary </span><span style=\"background-color:#edebd0;\">experience of de</span>ci<span style=\"background-color:#d8daef;\">sity is th</span><span style=\"background-color:#ebdef0;\">at there is an a</span><span style=\"background-color:#d4efdf;\">tome of the</span>se <span style=\"background-color:#e2d7d5;\">ways, just </span><span style=\"background-color:#d4efdf;\">as there is nothing </span><span style=\"background-color:#d4efdf;\">you can re</span><span style=\"background-color:#edebd0;\">cognize the appearance </span><span style=\"background-color:#d4efdf;\">of the mind, you m</span><span style=\"background-color:#fae5d3;\">ust look at the </span><span style=\"background-color:#e5e8e8;\">same being </span><span style=\"background-color:#d4efdf;\">disappears.<br><br>A</span><span style=\"background-color:#ecf3cf;\">t this point of view</span><span style=\"background-color:#fae5d3;\">, it does not mean that the</span><span style=\"background-color:#d4e6f1;\">se is quite </span><span style=\"background-color:#d0ece7;\">similar to s</span><span style=\"background-color:#ecf3cf;\">uch a thing as the </span><span style=\"background-color:#fdebd0;\">way it is u</span><span style=\"background-color:#d4efdf;\">ltimately established </span><span style=\"background-color:#d4efdf;\">by the appar</span><span style=\"background-color:#edebd0;\">ent realization </span><span style=\"background-color:#fae5d3;\">that is beyond </span>"
      ],
      "text/plain": [
       "<IPython.core.display.HTML object>"
      ]
     },
     "metadata": {},
     "output_type": "display_data"
    },
    {
     "data": {
      "text/html": [
       "<small><p style=\"text-align:right;\">Sources: <span style=\"background-color:#d6dbdf;\">FL7</span>, <span style=\"background-color:#d0ece7;\">Friedrich Nietzsche: Early Greek Philosophy & Other Essays</span>, <span style=\"background-color:#ecf3cf;\">FL2</span>, <span style=\"background-color:#e2d7d5;\">FL16</span>, <span style=\"background-color:#d8daef;\">Georg Wilhelm Hegel: The History of Philosophy: Volume 3 of 3</span>, <span style=\"background-color:#d4efdf;\">Georg Wilhelm Hegel: Hegel's Lectures on the History of Philosophy: Vol. 1 of 3</span>, <span style=\"background-color:#ebdef0;\">Friedrich Nietzsche: The Will to Power, Books III and IV</span>, <span style=\"background-color:#edebd0;\">Immanuel Kant: Kant's Prolegomena</span>, <span style=\"background-color:#d4e6f1;\">FL6</span>, <span style=\"background-color:#e2d7d5;\">Friedrich Nietzsche: Thus Spake Zarathustra</span>, <span style=\"background-color:#fdebd0;\">FL10</span>, <span style=\"background-color:#edebd0;\">FL17</span>, <span style=\"background-color:#d4efdf;\">FL3</span>, <span style=\"background-color:#fae5d3;\">Friedrich Nietzsche: We Philologists, Volume 8 of 18</span>, <span style=\"background-color:#e5e8e8;\">Immanuel Kant: The Critique of Practical Reason</span>, <span style=\"background-color:#ecf3cf;\">Georg Wilhelm Hegel: Hegel's Lectures on the History of Philosophy: Vol. 2 of 3</span>, <span style=\"background-color:#fae5d3;\">FL9</span>, <span style=\"background-color:#d4e6f1;\">Immanuel Kant: Kant's Critique of Judgement</span>, <span style=\"background-color:#d0ece7;\">FL4</span></p></small>"
      ],
      "text/plain": [
       "<IPython.core.display.HTML object>"
      ]
     },
     "metadata": {},
     "output_type": "display_data"
    },
    {
     "name": "stdout",
     "output_type": "stream",
     "text": [
      "-------------------------------------------\n",
      "step 11000: train loss1 3.5046, train loss2 3.5066, time 1.484 sec/iter\n",
      "Sample: --------temperature: 0.75 ---------\n",
      "Prompt: What is the nature of reality? \n"
     ]
    },
    {
     "data": {
      "text/html": [
       "<span style=\"background-color:#edebd0;\">What is the nature of </span><span style=\"background-color:#edebd0;\">reality? Wh</span><span style=\"background-color:#d6dbdf;\">en you do not </span><span style=\"background-color:#d6dbdf;\">change it in </span><span style=\"background-color:#d4efdf;\">your body in </span><span style=\"background-color:#d8daef;\">general, and </span>you<span style=\"background-color:#d6dbdf;\"> sit down and </span>one,<span style=\"background-color:#d4e6f1;\"> bounding </span>—<span style=\"background-color:#e2d7d5;\">and verbal in</span><span style=\"background-color:#edebd0;\">tention to the m</span><span style=\"background-color:#eadbd8;\">ind is eas</span>y to rip<span style=\"background-color:#ebdef0;\"> purpose.<br><br></span><br><br><br><br>REALLBOOND THE PREAT IN THE LEK ARGEDD<br><br><br><br>THE HIND OF MATER-SINGAR OF THE ALLLICSS AND"
      ],
      "text/plain": [
       "<IPython.core.display.HTML object>"
      ]
     },
     "metadata": {},
     "output_type": "display_data"
    },
    {
     "data": {
      "text/html": [
       "<small><p style=\"text-align:right;\">Sources: <span style=\"background-color:#edebd0;\">FL1</span>, <span style=\"background-color:#edebd0;\">Immanuel Kant: Kant's Prolegomena</span>, <span style=\"background-color:#d6dbdf;\">FL7</span>, <span style=\"background-color:#d4efdf;\">FL3</span>, <span style=\"background-color:#d8daef;\">Georg Wilhelm Hegel: The History of Philosophy: Volume 3 of 3</span>, <span style=\"background-color:#d4e6f1;\">Immanuel Kant: Kant's Critique of Judgement</span>, <span style=\"background-color:#e2d7d5;\">FL16</span>, <span style=\"background-color:#eadbd8;\">Immanuel Kant: The Critique of Pure Reason</span>, <span style=\"background-color:#ebdef0;\">Friedrich Nietzsche: The Will to Power, Books III and IV</span></p></small>"
      ],
      "text/plain": [
       "<IPython.core.display.HTML object>"
      ]
     },
     "metadata": {},
     "output_type": "display_data"
    },
    {
     "name": "stdout",
     "output_type": "stream",
     "text": [
      "-------------------------------------------\n",
      "step 11250: train loss1 3.4356, train loss2 3.4652, time 1.568 sec/iter\n",
      "Sample: --------temperature: 0.75 ---------\n",
      "Prompt: How be a good human being? \n"
     ]
    },
    {
     "data": {
      "text/html": [
       "How<span style=\"background-color:#eadbd8;\"> be a good </span><span style=\"background-color:#d8daef;\">human being</span>? Well, fre<span style=\"background-color:#e2d7d5;\">e, depend </span><span style=\"background-color:#d4efdf;\">upon the T</span>ibetan C<span style=\"background-color:#e2d7d5;\">iment of the </span><span style=\"background-color:#ecf3cf;\">original phase</span><span style=\"background-color:#d8daef;\"> of this is</span>oli<span style=\"background-color:#d4e6f1;\">tal entities </span><span style=\"background-color:#ebdef0;\">that are re</span><span style=\"background-color:#d6eaf8;\">duced to s</span>uppo<span style=\"background-color:#d8daef;\">rt through the </span>subl<span style=\"background-color:#d6eaf8;\">ime-space </span><span style=\"background-color:#fae5d3;\">of phenomena. A</span><span style=\"background-color:#d4efdf;\">wareness is un</span><span style=\"background-color:#ebdef0;\">experienced in the t</span><span style=\"background-color:#fae5d3;\">wo kinds of phenomena</span><span style=\"background-color:#d8daef;\"> to be experienced</span><span style=\"background-color:#d4efdf;\">; it is like the </span><span style=\"background-color:#d6eaf8;\">refracted </span>v<span style=\"background-color:#ebdef0;\">ast upon the </span><span style=\"background-color:#ebdef0;\">very lifetime t</span><span style=\"background-color:#fdebd0;\">hat they are indeed </span><span style=\"background-color:#d8daef;\">to be perfectly a</span><span style=\"background-color:#e2d7d5;\">biding in a</span><span style=\"background-color:#d4efdf;\">wareness. The </span><span style=\"background-color:#edebd0;\">element of the </span><span style=\"background-color:#d6eaf8;\">luminous pixe</span><span style=\"background-color:#e2d7d5;\">d in front</span><span style=\"background-color:#e5e8e8;\">, from the standard </span><span style=\"background-color:#fdebd0;\">of the four bo</span><span style=\"background-color:#d4efdf;\">dy, speech, and mind. When </span><span style=\"background-color:#d8daef;\">we recognize a</span> gre<span style=\"background-color:#d4efdf;\">at luminosity </span>vaj"
      ],
      "text/plain": [
       "<IPython.core.display.HTML object>"
      ]
     },
     "metadata": {},
     "output_type": "display_data"
    },
    {
     "data": {
      "text/html": [
       "<small><p style=\"text-align:right;\">Sources: <span style=\"background-color:#eadbd8;\">Friedrich Nietzsche: The Will to Power, Books I and II</span>, <span style=\"background-color:#d8daef;\">Georg Wilhelm Hegel: The History of Philosophy: Volume 3 of 3</span>, <span style=\"background-color:#e2d7d5;\">Friedrich Nietzsche: The Joyful Wisdom</span>, <span style=\"background-color:#d4efdf;\">Georg Wilhelm Hegel: Hegel's Lectures on the History of Philosophy: Vol. 1 of 3</span>, <span style=\"background-color:#ecf3cf;\">FL2</span>, <span style=\"background-color:#d4e6f1;\">FL6</span>, <span style=\"background-color:#ebdef0;\">Friedrich Nietzsche: The Will to Power, Books III and IV</span>, <span style=\"background-color:#d6eaf8;\">Immanuel Kant: Perpetual Peace</span>, <span style=\"background-color:#d8daef;\">Friedrich Nietzsche: Thoughts out of Season, Part One</span>, <span style=\"background-color:#d6eaf8;\">FL5</span>, <span style=\"background-color:#fae5d3;\">FL9</span>, <span style=\"background-color:#d4efdf;\">FL3</span>, <span style=\"background-color:#ebdef0;\">FL14</span>, <span style=\"background-color:#fdebd0;\">FL10</span>, <span style=\"background-color:#e2d7d5;\">FL16</span>, <span style=\"background-color:#edebd0;\">Immanuel Kant: Kant's Prolegomena</span>, <span style=\"background-color:#e2d7d5;\">Friedrich Nietzsche: Thus Spake Zarathustra</span>, <span style=\"background-color:#e5e8e8;\">FL11</span></p></small>"
      ],
      "text/plain": [
       "<IPython.core.display.HTML object>"
      ]
     },
     "metadata": {},
     "output_type": "display_data"
    },
    {
     "name": "stdout",
     "output_type": "stream",
     "text": [
      "-------------------------------------------\n",
      "step 11500: train loss1 3.4689, train loss2 3.4599, time 1.583 sec/iter\n",
      "Sample: --------temperature: 0.75 ---------\n",
      "Prompt: what is the difference between good and evil? \n"
     ]
    },
    {
     "data": {
      "text/html": [
       "<span style=\"background-color:#d6eaf8;\">what is the difference between </span><span style=\"background-color:#ebdef0;\">good and evil? H</span><span style=\"background-color:#fae5d3;\">ow is it possible that the co</span><span style=\"background-color:#ecf3cf;\">uld possibly have </span><span style=\"background-color:#d8daef;\">already des</span>cribed. H<span style=\"background-color:#e2d7d5;\">is lacking in m</span><span style=\"background-color:#ecf3cf;\">y view is </span><span style=\"background-color:#d4e6f1;\">just because of </span>m<span style=\"background-color:#f6ddcc;\">y neurobiology</span><span style=\"background-color:#ecf3cf;\">, is that his </span><span style=\"background-color:#ecf3cf;\">chapter I </span><span style=\"background-color:#edebd0;\">believe that this is a</span><span style=\"background-color:#e2d7d5;\">n essentially d</span>etai<span style=\"background-color:#eadbd8;\">l of human e</span><span style=\"background-color:#f6ddcc;\">xistence, but that </span>clash<span style=\"background-color:#d4e6f1;\"> of its actions </span><span style=\"background-color:#fae5d3;\">(the mental </span>real<span style=\"background-color:#ebdef0;\">) but they are </span><span style=\"background-color:#d8daef;\">in itself m</span>y (mixtur<span style=\"background-color:#d4e6f1;\">e) mental </span><span style=\"background-color:#d0ece7;\">factors, and cons</span><span style=\"background-color:#d8daef;\">equently the same</span><span style=\"background-color:#e2d7d5;\">. Moreover, that </span><span style=\"background-color:#d4e6f1;\">moral aspect</span><span style=\"background-color:#d6eaf8;\">s, presumably </span><span style=\"background-color:#f6ddcc;\">unities, th</span><span style=\"background-color:#edebd0;\">e “mental phenomena” </span><span style=\"background-color:#eadbd8;\">(sems nyid) </span><span style=\"background-color:#edebd0;\">of the real world</span><span style=\"background-color:#ecf3cf;\">s in the world which </span>"
      ],
      "text/plain": [
       "<IPython.core.display.HTML object>"
      ]
     },
     "metadata": {},
     "output_type": "display_data"
    },
    {
     "data": {
      "text/html": [
       "<small><p style=\"text-align:right;\">Sources: <span style=\"background-color:#d6eaf8;\">FL5</span>, <span style=\"background-color:#ebdef0;\">Friedrich Nietzsche: The Will to Power, Books III and IV</span>, <span style=\"background-color:#fae5d3;\">FL9</span>, <span style=\"background-color:#ecf3cf;\">FL2</span>, <span style=\"background-color:#d8daef;\">Georg Wilhelm Hegel: The History of Philosophy: Volume 3 of 3</span>, <span style=\"background-color:#e2d7d5;\">Friedrich Nietzsche: The Joyful Wisdom</span>, <span style=\"background-color:#d4e6f1;\">Immanuel Kant: Kant's Critique of Judgement</span>, <span style=\"background-color:#f6ddcc;\">FL8</span>, <span style=\"background-color:#edebd0;\">FL1</span>, <span style=\"background-color:#e2d7d5;\">FL16</span>, <span style=\"background-color:#eadbd8;\">FL15</span>, <span style=\"background-color:#f6ddcc;\">Friedrich Nietzsche: Human, All Too Human</span>, <span style=\"background-color:#d4e6f1;\">FL6</span>, <span style=\"background-color:#d0ece7;\">FL4</span>, <span style=\"background-color:#ecf3cf;\">Georg Wilhelm Hegel: Hegel's Lectures on the History of Philosophy: Vol. 2 of 3</span></p></small>"
      ],
      "text/plain": [
       "<IPython.core.display.HTML object>"
      ]
     },
     "metadata": {},
     "output_type": "display_data"
    },
    {
     "name": "stdout",
     "output_type": "stream",
     "text": [
      "-------------------------------------------\n",
      "step 11750: train loss1 3.4713, train loss2 3.4011, time 1.530 sec/iter\n",
      "Sample: --------temperature: 0.75 ---------\n",
      "Prompt: How did everything come into existence? \n"
     ]
    },
    {
     "data": {
      "text/html": [
       "How<span style=\"background-color:#e2d7d5;\"> did everything </span><span style=\"background-color:#d8daef;\">come into existence</span><span style=\"background-color:#f6ddcc;\">? It seems that </span><span style=\"background-color:#d6dbdf;\">will disappear </span><span style=\"background-color:#d6eaf8;\">in the next t</span><span style=\"background-color:#fae5d3;\">hing itself. </span><span style=\"background-color:#ecf3cf;\">It might well be th</span><span style=\"background-color:#e2d7d5;\">ought, then th</span><span style=\"background-color:#edebd0;\">ink that the as</span><span style=\"background-color:#ecf3cf;\">pects is not</span><span style=\"background-color:#edebd0;\"> a great and </span>no<span style=\"background-color:#d8daef;\">? But what </span><span style=\"background-color:#f6ddcc;\">does it seem</span><span style=\"background-color:#d6dbdf;\">s that you cannot </span>answe<span style=\"background-color:#d4efdf;\">r? If you </span><span style=\"background-color:#fae5d3;\">understand that all things </span><span style=\"background-color:#d6dbdf;\">have a concrete </span><span style=\"background-color:#d8daef;\">nor a true </span><span style=\"background-color:#edebd0;\">entity that is se</span><span style=\"background-color:#fae5d3;\">lf-knowing (</span><span style=\"background-color:#ecf3cf;\">that is to say, there is </span><span style=\"background-color:#d4e6f1;\">something that is in part </span><span style=\"background-color:#eadbd8;\">from the mind. </span><span style=\"background-color:#d4efdf;\">Moreover, if you </span><span style=\"background-color:#d6dbdf;\">can say, “I</span><span style=\"background-color:#d4efdf;\">f you do thi</span><span style=\"background-color:#eadbd8;\">s, if you </span><span style=\"background-color:#d6dbdf;\">have a thought </span><span style=\"background-color:#d8daef;\">of asserting </span>goes, label pr<span style=\"background-color:#eadbd8;\">ivating an</span>ything”<span style=\"background-color:#e5e8e8;\">). When you </span>sear<span style=\"background-color:#fdebd0;\">ch your mind</span> fors, the"
      ],
      "text/plain": [
       "<IPython.core.display.HTML object>"
      ]
     },
     "metadata": {},
     "output_type": "display_data"
    },
    {
     "data": {
      "text/html": [
       "<small><p style=\"text-align:right;\">Sources: <span style=\"background-color:#e2d7d5;\">Friedrich Nietzsche: Thus Spake Zarathustra</span>, <span style=\"background-color:#d8daef;\">Georg Wilhelm Hegel: The History of Philosophy: Volume 3 of 3</span>, <span style=\"background-color:#f6ddcc;\">FL8</span>, <span style=\"background-color:#d6dbdf;\">FL7</span>, <span style=\"background-color:#d6eaf8;\">Immanuel Kant: Perpetual Peace</span>, <span style=\"background-color:#fae5d3;\">FL9</span>, <span style=\"background-color:#ecf3cf;\">FL2</span>, <span style=\"background-color:#e2d7d5;\">FL16</span>, <span style=\"background-color:#edebd0;\">FL1</span>, <span style=\"background-color:#ecf3cf;\">Georg Wilhelm Hegel: Hegel's Lectures on the History of Philosophy: Vol. 2 of 3</span>, <span style=\"background-color:#edebd0;\">Immanuel Kant: Kant's Prolegomena</span>, <span style=\"background-color:#d8daef;\">Friedrich Nietzsche: Thoughts out of Season, Part One</span>, <span style=\"background-color:#d4efdf;\">FL3</span>, <span style=\"background-color:#edebd0;\">FL17</span>, <span style=\"background-color:#d4e6f1;\">FL6</span>, <span style=\"background-color:#eadbd8;\">Immanuel Kant: The Critique of Pure Reason</span>, <span style=\"background-color:#eadbd8;\">Friedrich Nietzsche: The Will to Power, Books I and II</span>, <span style=\"background-color:#d6dbdf;\">Friedrich Nietzsche: Thoughts Out of Season, Part 2</span>, <span style=\"background-color:#e5e8e8;\">FL11</span>, <span style=\"background-color:#fdebd0;\">FL10</span></p></small>"
      ],
      "text/plain": [
       "<IPython.core.display.HTML object>"
      ]
     },
     "metadata": {},
     "output_type": "display_data"
    },
    {
     "name": "stdout",
     "output_type": "stream",
     "text": [
      "-------------------------------------------\n",
      "step 12000: train loss1 3.4282, train loss2 3.3925, time 1.555 sec/iter\n",
      "Sample: --------temperature: 0.75 ---------\n",
      "Prompt: What was the beginning of time? \n"
     ]
    },
    {
     "data": {
      "text/html": [
       "<span style=\"background-color:#eadbd8;\">What was the </span><span style=\"background-color:#d8daef;\">beginning of time</span><span style=\"background-color:#e2d7d5;\">? What doth it </span><span style=\"background-color:#ecf3cf;\">matter how a</span><span style=\"background-color:#d6dbdf;\"> dream that </span>is un<span style=\"background-color:#eadbd8;\">rayed by the </span>of?<span style=\"background-color:#d4efdf;\"><br><br>“What are the </span>land<span style=\"background-color:#d6dbdf;\">strong faith and devotion</span><span style=\"background-color:#d8daef;\">? Why did </span>i<span style=\"background-color:#e2d7d5;\">t all doubt</span>s that? For<span style=\"background-color:#ebdef0;\"> presumably, </span><span style=\"background-color:#ecf3cf;\">examine them </span>ask<span style=\"background-color:#d0ece7;\">illed with water </span><span style=\"background-color:#d8daef;\">and the fin</span><span style=\"background-color:#e2d7d5;\">lictions, </span>[102<span style=\"background-color:#d4efdf;\">] you have </span>you help a n<span style=\"background-color:#ecf3cf;\">ight hands</span><span style=\"background-color:#ecf3cf;\">, starting </span><span style=\"background-color:#d4e6e1;\">your faith, </span>you cro<span style=\"background-color:#e2d7d5;\">ss around </span>the bonest, sleep<span style=\"background-color:#fae5d3;\"> organ, and consciousness </span><span style=\"background-color:#eadbd8;\">s—you will </span><span style=\"background-color:#d4efdf;\">experience the dharmak</span>a<span style=\"background-color:#d4efdf;\">ya, pristine awareness that is present in the ground. </span>The "
      ],
      "text/plain": [
       "<IPython.core.display.HTML object>"
      ]
     },
     "metadata": {},
     "output_type": "display_data"
    },
    {
     "data": {
      "text/html": [
       "<small><p style=\"text-align:right;\">Sources: <span style=\"background-color:#eadbd8;\">Friedrich Nietzsche: The Will to Power, Books I and II</span>, <span style=\"background-color:#d8daef;\">Georg Wilhelm Hegel: The History of Philosophy: Volume 3 of 3</span>, <span style=\"background-color:#e2d7d5;\">Friedrich Nietzsche: Thus Spake Zarathustra</span>, <span style=\"background-color:#ecf3cf;\">FL2</span>, <span style=\"background-color:#d6dbdf;\">Friedrich Nietzsche: Thoughts Out of Season, Part 2</span>, <span style=\"background-color:#d4efdf;\">FL3</span>, <span style=\"background-color:#d6dbdf;\">FL7</span>, <span style=\"background-color:#e2d7d5;\">Friedrich Nietzsche: The Joyful Wisdom</span>, <span style=\"background-color:#ebdef0;\">Friedrich Nietzsche: Beyond Good and Evil</span>, <span style=\"background-color:#d0ece7;\">FL4</span>, <span style=\"background-color:#ecf3cf;\">Georg Wilhelm Hegel: Hegel's Lectures on the History of Philosophy: Vol. 2 of 3</span>, <span style=\"background-color:#d4e6e1;\">FL12</span>, <span style=\"background-color:#fae5d3;\">FL9</span>, <span style=\"background-color:#eadbd8;\">Immanuel Kant: The Critique of Pure Reason</span></p></small>"
      ],
      "text/plain": [
       "<IPython.core.display.HTML object>"
      ]
     },
     "metadata": {},
     "output_type": "display_data"
    },
    {
     "name": "stdout",
     "output_type": "stream",
     "text": [
      "-------------------------------------------\n",
      "step 12250: train loss1 3.3982, train loss2 3.3863, time 1.572 sec/iter\n",
      "Sample: --------temperature: 0.75 ---------\n",
      "Prompt: How are physics, quantum-mechanics and consciousness related? \n"
     ]
    },
    {
     "data": {
      "text/html": [
       "How<span style=\"background-color:#ecf3cf;\"> are physic</span><span style=\"background-color:#ecf3cf;\">s, quantum-mechanic</span><span style=\"background-color:#ecf3cf;\">s and consciousness </span>rel<span style=\"background-color:#e2d7d5;\">ated? The </span><span style=\"background-color:#edebd0;\">brain does not </span><span style=\"background-color:#d4efdf;\">imply that m</span><span style=\"background-color:#ebdef0;\">ight be an</span><span style=\"background-color:#ecf3cf;\">y algorithmic i</span><span style=\"background-color:#d4e6f1;\">f we could a</span><span style=\"background-color:#d6dbdf;\">ttain compl</span><span style=\"background-color:#edebd0;\">icate but w</span><span style=\"background-color:#d6eaf8;\">ithout relativ</span><span style=\"background-color:#e2d7d5;\">ity that there are </span><span style=\"background-color:#edebd0;\">actually not </span><span style=\"background-color:#d8daef;\">just such a </span><span style=\"background-color:#d8daef;\">totality for</span><span style=\"background-color:#ebdef0;\"> us to our </span>brain<span style=\"background-color:#eadbd8;\">s. Some say that the</span><span style=\"background-color:#d8daef;\">re is a very </span><span style=\"background-color:#ecf3cf;\">difficulty with the </span><span style=\"background-color:#eadbd8;\">most important considera</span><span style=\"background-color:#d4e6f1;\">ble features of the </span><span style=\"background-color:#d8daef;\">brain, which </span><span style=\"background-color:#edebd0;\">just seems to </span><span style=\"background-color:#d4e6f1;\">me that these </span>c<span style=\"background-color:#eadbd8;\">ental states </span><span style=\"background-color:#d8daef;\">I can see </span><span style=\"background-color:#ecf3cf;\">but thinking </span><span style=\"background-color:#e2d7d5;\">in terms of something </span><span style=\"background-color:#d8daef;\">very different, </span><span style=\"background-color:#ecf3cf;\">in time. For </span><span style=\"background-color:#ecf3cf;\">example, since th</span><span style=\"background-color:#d0ece7;\">is logically</span><span style=\"background-color:#edebd0;\">, I think that </span><span style=\"background-color:#e5e8e8;\">very much that</span>-up<span style=\"background-color:#e5e8e8;\"> arguments about the ex</span><span style=\"background-color:#e5e8e8;\">istence of tile </span><span style=\"background-color:#d4efdf;\">is that there is no rea</span>lity (p. 17"
      ],
      "text/plain": [
       "<IPython.core.display.HTML object>"
      ]
     },
     "metadata": {},
     "output_type": "display_data"
    },
    {
     "data": {
      "text/html": [
       "<small><p style=\"text-align:right;\">Sources: <span style=\"background-color:#ecf3cf;\">FL2</span>, <span style=\"background-color:#e2d7d5;\">FL16</span>, <span style=\"background-color:#edebd0;\">FL1</span>, <span style=\"background-color:#d4efdf;\">Georg Wilhelm Hegel: Hegel's Lectures on the History of Philosophy: Vol. 1 of 3</span>, <span style=\"background-color:#ebdef0;\">Friedrich Nietzsche: The Will to Power, Books III and IV</span>, <span style=\"background-color:#d4e6f1;\">Immanuel Kant: Kant's Critique of Judgement</span>, <span style=\"background-color:#d6dbdf;\">FL7</span>, <span style=\"background-color:#edebd0;\">Immanuel Kant: Kant's Prolegomena</span>, <span style=\"background-color:#d6eaf8;\">FL5</span>, <span style=\"background-color:#e2d7d5;\">Friedrich Nietzsche: Thus Spake Zarathustra</span>, <span style=\"background-color:#d8daef;\">Georg Wilhelm Hegel: The History of Philosophy: Volume 3 of 3</span>, <span style=\"background-color:#eadbd8;\">FL15</span>, <span style=\"background-color:#d8daef;\">Friedrich Nietzsche: Thoughts out of Season, Part One</span>, <span style=\"background-color:#eadbd8;\">Immanuel Kant: The Critique of Pure Reason</span>, <span style=\"background-color:#d4e6f1;\">FL6</span>, <span style=\"background-color:#eadbd8;\">Friedrich Nietzsche: The Will to Power, Books I and II</span>, <span style=\"background-color:#ecf3cf;\">Georg Wilhelm Hegel: Hegel's Lectures on the History of Philosophy: Vol. 2 of 3</span>, <span style=\"background-color:#d0ece7;\">Friedrich Nietzsche: Early Greek Philosophy & Other Essays</span>, <span style=\"background-color:#e5e8e8;\">FL11</span></p></small>"
      ],
      "text/plain": [
       "<IPython.core.display.HTML object>"
      ]
     },
     "metadata": {},
     "output_type": "display_data"
    },
    {
     "name": "stdout",
     "output_type": "stream",
     "text": [
      "-------------------------------------------\n",
      "step 12500: train loss1 3.3968, train loss2 3.3753, time 1.586 sec/iter\n",
      "Sample: --------temperature: 0.75 ---------\n",
      "Prompt: How to attain complete self-awareness? \n"
     ]
    },
    {
     "data": {
      "text/html": [
       "H<span style=\"background-color:#d6dbdf;\">ow to attain </span><span style=\"background-color:#d0ece7;\">complete self-a</span><span style=\"background-color:#d4efdf;\">wareness? I</span><span style=\"background-color:#ebdef0;\">t does not mean that the</span><span style=\"background-color:#d4efdf;\">re is something h</span><span style=\"background-color:#ebdef0;\">appens the</span> b<span style=\"background-color:#edebd0;\">asion to it </span><span style=\"background-color:#eadbd8;\">aware is what </span><span style=\"background-color:#d4e6f1;\">the mind-body problem is th</span><span style=\"background-color:#f6ddcc;\">at there is a clea</span><span style=\"background-color:#edebd0;\">r distinction between </span><span style=\"background-color:#e5e8e8;\">mind that our </span><span style=\"background-color:#d4efdf;\">awareness is actual</span><span style=\"background-color:#d0ece7;\">ly present, th</span><span style=\"background-color:#d4efdf;\">at is, the mind is s</span><span style=\"background-color:#ecf3cf;\">peaking of s</span><span style=\"background-color:#ecf3cf;\">omething that we can </span><span style=\"background-color:#ecf3cf;\">just be a </span><span style=\"background-color:#ecf3cf;\">physical object </span><span style=\"background-color:#fae5d3;\">of single nature.</span><span style=\"background-color:#e2d7d5;\"><br><br>Neither is </span>it tha<span style=\"background-color:#eadbd8;\">t Nirvāna a</span>nd do<span style=\"background-color:#ebdef0;\">, is it no</span><span style=\"background-color:#fae5d3;\">nexistent when </span><span style=\"background-color:#d4efdf;\">it sets forth </span><span style=\"background-color:#fae5d3;\">the mind to a </span><span style=\"background-color:#d4efdf;\">thing of being </span>aware<span style=\"background-color:#fdebd0;\">.”<br><br>When you </span><span style=\"background-color:#edebd0;\">say that grasping </span><span style=\"background-color:#d6dbdf;\">intelligence, which is </span><span style=\"background-color:#fae5d3;\">conventional, it </span><span style=\"background-color:#ebdef0;\">must be present,</span><span style=\"background-color:#d8daef;\"> then it is not </span><span style=\"background-color:#d6dbdf;\">just something that </span><span style=\"background-color:#d8daef;\">does not exist. Th</span>us how do "
      ],
      "text/plain": [
       "<IPython.core.display.HTML object>"
      ]
     },
     "metadata": {},
     "output_type": "display_data"
    },
    {
     "data": {
      "text/html": [
       "<small><p style=\"text-align:right;\">Sources: <span style=\"background-color:#d6dbdf;\">FL7</span>, <span style=\"background-color:#d0ece7;\">Friedrich Nietzsche: Early Greek Philosophy & Other Essays</span>, <span style=\"background-color:#d4efdf;\">FL3</span>, <span style=\"background-color:#ebdef0;\">Friedrich Nietzsche: The Will to Power, Books III and IV</span>, <span style=\"background-color:#d4efdf;\">Georg Wilhelm Hegel: Hegel's Lectures on the History of Philosophy: Vol. 1 of 3</span>, <span style=\"background-color:#ebdef0;\">Friedrich Nietzsche: Beyond Good and Evil</span>, <span style=\"background-color:#edebd0;\">Immanuel Kant: Kant's Prolegomena</span>, <span style=\"background-color:#eadbd8;\">FL15</span>, <span style=\"background-color:#d4e6f1;\">FL6</span>, <span style=\"background-color:#f6ddcc;\">FL8</span>, <span style=\"background-color:#edebd0;\">FL1</span>, <span style=\"background-color:#e5e8e8;\">FL11</span>, <span style=\"background-color:#d0ece7;\">FL4</span>, <span style=\"background-color:#ecf3cf;\">Georg Wilhelm Hegel: Hegel's Lectures on the History of Philosophy: Vol. 2 of 3</span>, <span style=\"background-color:#ecf3cf;\">FL2</span>, <span style=\"background-color:#fae5d3;\">FL9</span>, <span style=\"background-color:#e2d7d5;\">Friedrich Nietzsche: Thus Spake Zarathustra</span>, <span style=\"background-color:#fdebd0;\">FL10</span>, <span style=\"background-color:#edebd0;\">FL17</span>, <span style=\"background-color:#d8daef;\">Georg Wilhelm Hegel: The History of Philosophy: Volume 3 of 3</span></p></small>"
      ],
      "text/plain": [
       "<IPython.core.display.HTML object>"
      ]
     },
     "metadata": {},
     "output_type": "display_data"
    },
    {
     "name": "stdout",
     "output_type": "stream",
     "text": [
      "-------------------------------------------\n",
      "step 12750: train loss1 3.3778, train loss2 3.3630, time 1.607 sec/iter\n",
      "Sample: --------temperature: 0.75 ---------\n",
      "Prompt: What is the nature of reality? \n"
     ]
    },
    {
     "data": {
      "text/html": [
       "<span style=\"background-color:#edebd0;\">What is the nature of </span>re<span style=\"background-color:#e2d7d5;\">ality? To </span><span style=\"background-color:#e2d7d5;\">you understand the </span><span style=\"background-color:#d4efdf;\">second, you </span><span style=\"background-color:#d6dbdf;\">must understand that such </span><span style=\"background-color:#d8daef;\">qualities as </span><span style=\"background-color:#eadbd8;\">experiences—</span><span style=\"background-color:#e5e8e8;\">but this is a mere c</span><span style=\"background-color:#edebd0;\">reated in the c</span>ontepec<span style=\"background-color:#d8daef;\">tlessness of the</span><span style=\"background-color:#d6dbdf;\"> six consciousnesses, </span><span style=\"background-color:#d8daef;\">it does not exp</span><span style=\"background-color:#d4efdf;\">erience uncom</span><span style=\"background-color:#edebd0;\">mon experience. </span><span style=\"background-color:#ebdef0;\">Whether one</span><span style=\"background-color:#edebd0;\">uroscientists’ mi</span>nd<span style=\"background-color:#ebdef0;\">s are given a</span>dvi<span style=\"background-color:#e5e8e8;\">ce.<br><br>Fig. </span>1.4. Vision: The<span style=\"background-color:#d0ece7;\"> Level of </span><span style=\"background-color:#d4efdf;\">the States </span>of <span style=\"background-color:#e5e8e8;\">cellations</span>,<span style=\"background-color:#ebdef0;\"> and energy </span>perts<span style=\"background-color:#eadbd8;\">, dimensions</span><span style=\"background-color:#d4efdf;\"> of the three realms, s</span>uppor<span style=\"background-color:#d0ece7;\">t metaphors</span><span style=\"background-color:#ecf3cf;\">, such as:<br><br></span>3.5<span style=\"background-color:#ecf3cf;\">0. There are </span>equital<span style=\"background-color:#d4efdf;\">s, first t</span>wo type"
      ],
      "text/plain": [
       "<IPython.core.display.HTML object>"
      ]
     },
     "metadata": {},
     "output_type": "display_data"
    },
    {
     "data": {
      "text/html": [
       "<small><p style=\"text-align:right;\">Sources: <span style=\"background-color:#edebd0;\">FL1</span>, <span style=\"background-color:#e2d7d5;\">Friedrich Nietzsche: The Joyful Wisdom</span>, <span style=\"background-color:#d4efdf;\">FL3</span>, <span style=\"background-color:#d6dbdf;\">FL7</span>, <span style=\"background-color:#d8daef;\">Georg Wilhelm Hegel: The History of Philosophy: Volume 3 of 3</span>, <span style=\"background-color:#eadbd8;\">Immanuel Kant: The Critique of Pure Reason</span>, <span style=\"background-color:#e5e8e8;\">FL11</span>, <span style=\"background-color:#edebd0;\">Immanuel Kant: Kant's Prolegomena</span>, <span style=\"background-color:#ebdef0;\">Friedrich Nietzsche: The Will to Power, Books III and IV</span>, <span style=\"background-color:#d0ece7;\">FL4</span>, <span style=\"background-color:#d4efdf;\">Georg Wilhelm Hegel: Hegel's Lectures on the History of Philosophy: Vol. 1 of 3</span>, <span style=\"background-color:#d0ece7;\">Friedrich Nietzsche: Early Greek Philosophy & Other Essays</span>, <span style=\"background-color:#ecf3cf;\">FL2</span></p></small>"
      ],
      "text/plain": [
       "<IPython.core.display.HTML object>"
      ]
     },
     "metadata": {},
     "output_type": "display_data"
    },
    {
     "name": "stdout",
     "output_type": "stream",
     "text": [
      "-------------------------------------------\n",
      "step 13000: train loss1 3.3246, train loss2 3.3478, time 1.583 sec/iter\n",
      "Sample: --------temperature: 0.75 ---------\n",
      "Prompt: How be a good human being? \n"
     ]
    },
    {
     "data": {
      "text/html": [
       "How<span style=\"background-color:#eadbd8;\"> be a good </span><span style=\"background-color:#d8daef;\">human being</span>? But<span style=\"background-color:#d4e6f1;\"> I constant</span><span style=\"background-color:#e2d7d5;\"> things, but it is n</span>o<span style=\"background-color:#e2d7d5;\">t my heart,</span> r<span style=\"background-color:#e5e8e8;\">and, I will </span>“I am tru<span style=\"background-color:#e2d7d5;\">e!” And the</span><span style=\"background-color:#d4e6f1;\">re called “</span>me”<span style=\"background-color:#ebdef0;\"> I forgotten </span><span style=\"background-color:#d0ece7;\">how to me the</span><span style=\"background-color:#d4e6f1;\">re is a very serious </span>li<span style=\"background-color:#e2d7d5;\">st, to make </span><span style=\"background-color:#fae5d3;\">a ball of </span>my dream<span style=\"background-color:#eadbd8;\"> just about </span>very age.31 M<span style=\"background-color:#ecf3cf;\">y own behaviour </span><span style=\"background-color:#ecf3cf;\">is important, </span>wha<span style=\"background-color:#ecf3cf;\">t a device </span><span style=\"background-color:#f6ddcc;\">that I don’t </span><span style=\"background-color:#ecf3cf;\">know the rea</span><span style=\"background-color:#ebdef0;\">der to agree</span><span style=\"background-color:#d4efdf;\">. Here is how th</span>at<span style=\"background-color:#d4e6f1;\">. We did not </span><span style=\"background-color:#ecf3cf;\">see the role </span><span style=\"background-color:#ebdef0;\">I have just g</span><span style=\"background-color:#ecf3cf;\">oing to ha</span>ve to tray b<span style=\"background-color:#e5e8e8;\">ook at the h</span>idd<span style=\"background-color:#ecf3cf;\">en years ago. </span>But my recent plan"
      ],
      "text/plain": [
       "<IPython.core.display.HTML object>"
      ]
     },
     "metadata": {},
     "output_type": "display_data"
    },
    {
     "data": {
      "text/html": [
       "<small><p style=\"text-align:right;\">Sources: <span style=\"background-color:#eadbd8;\">Friedrich Nietzsche: The Will to Power, Books I and II</span>, <span style=\"background-color:#d8daef;\">Georg Wilhelm Hegel: The History of Philosophy: Volume 3 of 3</span>, <span style=\"background-color:#d4e6f1;\">Immanuel Kant: Kant's Critique of Judgement</span>, <span style=\"background-color:#e2d7d5;\">Friedrich Nietzsche: The Joyful Wisdom</span>, <span style=\"background-color:#e2d7d5;\">Friedrich Nietzsche: Thus Spake Zarathustra</span>, <span style=\"background-color:#e5e8e8;\">Immanuel Kant: The Critique of Practical Reason</span>, <span style=\"background-color:#d4e6f1;\">FL6</span>, <span style=\"background-color:#ebdef0;\">Friedrich Nietzsche: Beyond Good and Evil</span>, <span style=\"background-color:#d0ece7;\">FL4</span>, <span style=\"background-color:#e2d7d5;\">FL16</span>, <span style=\"background-color:#fae5d3;\">FL9</span>, <span style=\"background-color:#ecf3cf;\">FL2</span>, <span style=\"background-color:#f6ddcc;\">FL8</span>, <span style=\"background-color:#ecf3cf;\">Georg Wilhelm Hegel: Hegel's Lectures on the History of Philosophy: Vol. 2 of 3</span>, <span style=\"background-color:#ebdef0;\">Friedrich Nietzsche: The Will to Power, Books III and IV</span>, <span style=\"background-color:#d4efdf;\">FL3</span>, <span style=\"background-color:#e5e8e8;\">FL11</span></p></small>"
      ],
      "text/plain": [
       "<IPython.core.display.HTML object>"
      ]
     },
     "metadata": {},
     "output_type": "display_data"
    },
    {
     "name": "stdout",
     "output_type": "stream",
     "text": [
      "-------------------------------------------\n",
      "step 13250: train loss1 3.3551, train loss2 3.3259, time 1.505 sec/iter\n",
      "Sample: --------temperature: 0.75 ---------\n",
      "Prompt: what is the difference between good and evil? \n"
     ]
    },
    {
     "data": {
      "text/html": [
       "<span style=\"background-color:#d6eaf8;\">what is the difference between </span><span style=\"background-color:#ebdef0;\">good and evil? </span>Only<span style=\"background-color:#d8daef;\"> a union of s</span><span style=\"background-color:#f6ddcc;\">peech act a</span><span style=\"background-color:#d0ece7;\">nd its sett</span>les,<span style=\"background-color:#d4e6f1;\"> if mental state</span><span style=\"background-color:#eadbd8;\">ment in exp</span><span style=\"background-color:#d8daef;\">ressed by </span>ce<span style=\"background-color:#d8daef;\">lluminating </span>emo<span style=\"background-color:#d4e6f1;\">tion. Once we </span><span style=\"background-color:#d4efdf;\">considered w</span>or<span style=\"background-color:#edebd0;\">ds in every</span><span style=\"background-color:#ecf3cf;\">one important </span><span style=\"background-color:#d8daef;\">influence on</span><span style=\"background-color:#ebdef0;\">e of the cer</span><span style=\"background-color:#d4efdf;\">tainty that there is </span><span style=\"background-color:#d8daef;\">a development</span>. The ANOTPER<span style=\"background-color:#e5e8e8;\"> the application of this c</span>hapted stil<span style=\"background-color:#ecf3cf;\">lly indicates </span><span style=\"background-color:#edebd0;\">that there is a “</span><span style=\"background-color:#d6eaf8;\">existentialist </span>or a lif<span style=\"background-color:#d8daef;\">e,” but th</span><span style=\"background-color:#d6dbdf;\">at the professor </span>“<span style=\"background-color:#d6dbdf;\">coarse out</span><span style=\"background-color:#ebdef0;\">come ever more </span><span style=\"background-color:#d8daef;\">complicated</span>”.203<span style=\"background-color:#fdebd0;\"><br><br><br><br>Since w</span><span style=\"background-color:#d4efdf;\">e talk about the </span><span style=\"background-color:#d4e6f1;\">notion of consciousness </span><span style=\"background-color:#ebdef0;\">cannot see</span>"
      ],
      "text/plain": [
       "<IPython.core.display.HTML object>"
      ]
     },
     "metadata": {},
     "output_type": "display_data"
    },
    {
     "data": {
      "text/html": [
       "<small><p style=\"text-align:right;\">Sources: <span style=\"background-color:#d6eaf8;\">FL5</span>, <span style=\"background-color:#ebdef0;\">Friedrich Nietzsche: The Will to Power, Books III and IV</span>, <span style=\"background-color:#d8daef;\">Georg Wilhelm Hegel: The History of Philosophy: Volume 3 of 3</span>, <span style=\"background-color:#f6ddcc;\">FL8</span>, <span style=\"background-color:#d0ece7;\">Friedrich Nietzsche: Early Greek Philosophy & Other Essays</span>, <span style=\"background-color:#d4e6f1;\">FL6</span>, <span style=\"background-color:#eadbd8;\">Immanuel Kant: The Critique of Pure Reason</span>, <span style=\"background-color:#d4efdf;\">Georg Wilhelm Hegel: Hegel's Lectures on the History of Philosophy: Vol. 1 of 3</span>, <span style=\"background-color:#edebd0;\">Immanuel Kant: Kant's Prolegomena</span>, <span style=\"background-color:#ecf3cf;\">FL2</span>, <span style=\"background-color:#d4efdf;\">FL3</span>, <span style=\"background-color:#e5e8e8;\">Immanuel Kant: The Critique of Practical Reason</span>, <span style=\"background-color:#ecf3cf;\">Georg Wilhelm Hegel: Hegel's Lectures on the History of Philosophy: Vol. 2 of 3</span>, <span style=\"background-color:#edebd0;\">FL1</span>, <span style=\"background-color:#d6dbdf;\">Friedrich Nietzsche: Thoughts Out of Season, Part 2</span>, <span style=\"background-color:#d6dbdf;\">FL7</span>, <span style=\"background-color:#fdebd0;\">FL10</span></p></small>"
      ],
      "text/plain": [
       "<IPython.core.display.HTML object>"
      ]
     },
     "metadata": {},
     "output_type": "display_data"
    },
    {
     "name": "stdout",
     "output_type": "stream",
     "text": [
      "-------------------------------------------\n",
      "step 13500: train loss1 3.3364, train loss2 3.3041, time 1.605 sec/iter\n",
      "Sample: --------temperature: 0.75 ---------\n",
      "Prompt: How did everything come into existence? \n"
     ]
    },
    {
     "data": {
      "text/html": [
       "How<span style=\"background-color:#e2d7d5;\"> did everything </span><span style=\"background-color:#d8daef;\">come into existence</span>? Why<span style=\"background-color:#d4efdf;\"> Likewise, what</span><span style=\"background-color:#d4efdf;\">? Since the a</span><span style=\"background-color:#d8daef;\">nswers the</span>r<span style=\"background-color:#ecf3cf;\">e is situat</span><span style=\"background-color:#d4e6f1;\">ion about objects </span><span style=\"background-color:#d4e6f1;\">that are not c</span>eas<span style=\"background-color:#ebdef0;\">e? That is</span><span style=\"background-color:#fae5d3;\">? Since, a</span><span style=\"background-color:#eadbd8;\">ppearances arise from </span>a<span style=\"background-color:#d4e6f1;\"> unconscious there is no </span><span style=\"background-color:#d4e6f1;\">problem with</span><span style=\"background-color:#d4efdf;\">out any real</span><span style=\"background-color:#d8daef;\">ity except</span><span style=\"background-color:#eadbd8;\">? Without </span><span style=\"background-color:#ebdef0;\">what exists, </span><span style=\"background-color:#d6dbdf;\">emptiness is be</span><span style=\"background-color:#ecf3cf;\">ing created</span><span style=\"background-color:#edebd0;\">. We also know that the</span><span style=\"background-color:#edebd0;\">re is a good </span><span style=\"background-color:#d6dbdf;\">or bad. Our </span><span style=\"background-color:#d4efdf;\">thoughts arise i</span><span style=\"background-color:#d4e6f1;\">f we are de</span><span style=\"background-color:#d8daef;\">pendent, w</span><span style=\"background-color:#d6dbdf;\">e need a m</span><span style=\"background-color:#eadbd8;\">any. There </span><span style=\"background-color:#d4efdf;\">is no difference wh</span><span style=\"background-color:#d6dbdf;\">en we experience the </span><span style=\"background-color:#eadbd8;\">good or bad </span><span style=\"background-color:#d0ece7;\">yogis. The </span><span style=\"background-color:#e2d7d5;\">intentions be</span><span style=\"background-color:#ebdef0;\">tween ourselves, </span><span style=\"background-color:#d4efdf;\">mindfulness, </span><span style=\"background-color:#d4efdf;\">joy and the</span><span style=\"background-color:#e2d7d5;\"> afflictions and </span><span style=\"background-color:#d4efdf;\">recitation, </span><span style=\"background-color:#e5e8e8;\">or feelings</span>, s"
      ],
      "text/plain": [
       "<IPython.core.display.HTML object>"
      ]
     },
     "metadata": {},
     "output_type": "display_data"
    },
    {
     "data": {
      "text/html": [
       "<small><p style=\"text-align:right;\">Sources: <span style=\"background-color:#e2d7d5;\">Friedrich Nietzsche: Thus Spake Zarathustra</span>, <span style=\"background-color:#d8daef;\">Georg Wilhelm Hegel: The History of Philosophy: Volume 3 of 3</span>, <span style=\"background-color:#d4efdf;\">FL3</span>, <span style=\"background-color:#d8daef;\">Friedrich Nietzsche: Thoughts out of Season, Part One</span>, <span style=\"background-color:#ecf3cf;\">FL2</span>, <span style=\"background-color:#d4e6f1;\">Immanuel Kant: Kant's Critique of Judgement</span>, <span style=\"background-color:#d4e6f1;\">FL6</span>, <span style=\"background-color:#ebdef0;\">Friedrich Nietzsche: The Will to Power, Books III and IV</span>, <span style=\"background-color:#fae5d3;\">FL9</span>, <span style=\"background-color:#eadbd8;\">FL15</span>, <span style=\"background-color:#d4efdf;\">Georg Wilhelm Hegel: Hegel's Lectures on the History of Philosophy: Vol. 1 of 3</span>, <span style=\"background-color:#eadbd8;\">Friedrich Nietzsche: The Will to Power, Books I and II</span>, <span style=\"background-color:#d6dbdf;\">FL7</span>, <span style=\"background-color:#edebd0;\">FL17</span>, <span style=\"background-color:#edebd0;\">Immanuel Kant: Kant's Prolegomena</span>, <span style=\"background-color:#d0ece7;\">FL4</span>, <span style=\"background-color:#e2d7d5;\">Friedrich Nietzsche: The Joyful Wisdom</span>, <span style=\"background-color:#e5e8e8;\">Immanuel Kant: The Critique of Practical Reason</span></p></small>"
      ],
      "text/plain": [
       "<IPython.core.display.HTML object>"
      ]
     },
     "metadata": {},
     "output_type": "display_data"
    },
    {
     "name": "stdout",
     "output_type": "stream",
     "text": [
      "-------------------------------------------\n",
      "step 13750: train loss1 3.3306, train loss2 3.3105, time 1.621 sec/iter\n",
      "Sample: --------temperature: 0.75 ---------\n",
      "Prompt: What was the beginning of time? \n"
     ]
    },
    {
     "data": {
      "text/html": [
       "<span style=\"background-color:#eadbd8;\">What was the </span><span style=\"background-color:#d8daef;\">beginning of time</span><span style=\"background-color:#fdebd0;\">? When you are </span>ask<span style=\"background-color:#d4efdf;\">ed, you re</span><span style=\"background-color:#ecf3cf;\">ally are, and </span><span style=\"background-color:#d6dbdf;\">your eyeball</span><span style=\"background-color:#d4efdf;\">, and you will see that </span>y<span style=\"background-color:#d6dbdf;\">our food, </span>and<span style=\"background-color:#e2d7d5;\"> you stop a</span>way obs<span style=\"background-color:#ecf3cf;\">: “The pre</span><span style=\"background-color:#ecf3cf;\">vity of the un</span><span style=\"background-color:#ebdef0;\">toxication</span><span style=\"background-color:#d8daef;\">s of them </span>d<span style=\"background-color:#d6dbdf;\">o you will </span><span style=\"background-color:#ecf3cf;\">achieve these </span>also tr<span style=\"background-color:#d6dbdf;\">y. You must be able to </span><span style=\"background-color:#ecf3cf;\">identify the r</span>oot tr<span style=\"background-color:#e2d7d5;\">ainlessness</span><span style=\"background-color:#d8daef;\"> of one’s a</span><span style=\"background-color:#d6dbdf;\">fflictions. The re</span><span style=\"background-color:#d8daef;\">ason against th</span>at you lastg<span style=\"background-color:#d4e6e1;\">ain it. The</span><span style=\"background-color:#ecf3cf;\">re are many e</span><span style=\"background-color:#d4efdf;\">lements of the b</span>as<span style=\"background-color:#ecf3cf;\">ic realm of </span><span style=\"background-color:#d0ece7;\">dharmadhatu, </span><span style=\"background-color:#d4efdf;\">and you are </span><span style=\"background-color:#d6dbdf;\">exposed to them</span>,<span style=\"background-color:#d6dbdf;\"> so you will </span><span style=\"background-color:#ebdef0;\">see the face</span>,<span style=\"background-color:#e2d7d5;\"> the vices </span><span style=\"background-color:#d8daef;\">and in this world</span> "
      ],
      "text/plain": [
       "<IPython.core.display.HTML object>"
      ]
     },
     "metadata": {},
     "output_type": "display_data"
    },
    {
     "data": {
      "text/html": [
       "<small><p style=\"text-align:right;\">Sources: <span style=\"background-color:#eadbd8;\">Friedrich Nietzsche: The Will to Power, Books I and II</span>, <span style=\"background-color:#d8daef;\">Georg Wilhelm Hegel: The History of Philosophy: Volume 3 of 3</span>, <span style=\"background-color:#fdebd0;\">FL10</span>, <span style=\"background-color:#d4efdf;\">FL3</span>, <span style=\"background-color:#ecf3cf;\">Georg Wilhelm Hegel: Hegel's Lectures on the History of Philosophy: Vol. 2 of 3</span>, <span style=\"background-color:#d6dbdf;\">FL7</span>, <span style=\"background-color:#e2d7d5;\">Friedrich Nietzsche: The Joyful Wisdom</span>, <span style=\"background-color:#ebdef0;\">Friedrich Nietzsche: The Will to Power, Books III and IV</span>, <span style=\"background-color:#ecf3cf;\">FL2</span>, <span style=\"background-color:#d4e6e1;\">Immanuel Kant: Fundamental Principles of the Metaphysic of Morals</span>, <span style=\"background-color:#d0ece7;\">FL4</span>, <span style=\"background-color:#d4efdf;\">Georg Wilhelm Hegel: Hegel's Lectures on the History of Philosophy: Vol. 1 of 3</span>, <span style=\"background-color:#d6dbdf;\">Friedrich Nietzsche: Thoughts Out of Season, Part 2</span>, <span style=\"background-color:#ebdef0;\">Friedrich Nietzsche: Beyond Good and Evil</span>, <span style=\"background-color:#e2d7d5;\">Friedrich Nietzsche: Thus Spake Zarathustra</span></p></small>"
      ],
      "text/plain": [
       "<IPython.core.display.HTML object>"
      ]
     },
     "metadata": {},
     "output_type": "display_data"
    },
    {
     "name": "stdout",
     "output_type": "stream",
     "text": [
      "-------------------------------------------\n",
      "step 14000: train loss1 3.2377, train loss2 3.2505, time 1.467 sec/iter\n",
      "Sample: --------temperature: 0.75 ---------\n",
      "Prompt: How are physics, quantum-mechanics and consciousness related? \n"
     ]
    },
    {
     "data": {
      "text/html": [
       "How<span style=\"background-color:#ecf3cf;\"> are physic</span><span style=\"background-color:#ecf3cf;\">s, quantum-mechanic</span><span style=\"background-color:#ecf3cf;\">s and consciousness </span>related?<span style=\"background-color:#d8daef;\"> In modern t</span><span style=\"background-color:#d6dbdf;\">heory, we </span><span style=\"background-color:#ecf3cf;\">must understand a</span><span style=\"background-color:#d8daef;\">n external </span><span style=\"background-color:#e2d7d5;\">level of the uni</span><span style=\"background-color:#ecf3cf;\">verse with s</span><span style=\"background-color:#eadbd8;\">ources in </span>‘body’<span style=\"background-color:#d4efdf;\"> in representing the </span><span style=\"background-color:#edebd0;\">world. Let us </span><span style=\"background-color:#ecf3cf;\">suppose that there is </span><span style=\"background-color:#f6ddcc;\">part of a ne</span>?<span style=\"background-color:#ecf3cf;\"> The analogy </span><span style=\"background-color:#edebd0;\">of a body b</span>all fl<span style=\"background-color:#ecf3cf;\">ow about the </span>impu<span style=\"background-color:#ecf3cf;\">re.<br><br><br><br>Fig. 5.1</span>8<span style=\"background-color:#d0ece7;\">. The material </span><span style=\"background-color:#d4efdf;\">source of po</span>int’<span style=\"background-color:#ecf3cf;\">s corresponding to the </span>poi<span style=\"background-color:#ecf3cf;\">nt kind of ‘</span>mind–time’, very dep<span style=\"background-color:#ecf3cf;\">locally de</span><span style=\"background-color:#ecf3cf;\">scribing the p</span><span style=\"background-color:#ebdef0;\">resence, it is </span><span style=\"background-color:#ecf3cf;\">referred to in (</span><span style=\"background-color:#ecf3cf;\">except light)</span>, as a ‘se<span style=\"background-color:#ecf3cf;\">man’ and ‘</span><span style=\"background-color:#ecf3cf;\">free will’ in </span>equi"
      ],
      "text/plain": [
       "<IPython.core.display.HTML object>"
      ]
     },
     "metadata": {},
     "output_type": "display_data"
    },
    {
     "data": {
      "text/html": [
       "<small><p style=\"text-align:right;\">Sources: <span style=\"background-color:#ecf3cf;\">FL2</span>, <span style=\"background-color:#d8daef;\">Georg Wilhelm Hegel: The History of Philosophy: Volume 3 of 3</span>, <span style=\"background-color:#d6dbdf;\">Friedrich Nietzsche: Thoughts Out of Season, Part 2</span>, <span style=\"background-color:#ecf3cf;\">Georg Wilhelm Hegel: Hegel's Lectures on the History of Philosophy: Vol. 2 of 3</span>, <span style=\"background-color:#e2d7d5;\">FL16</span>, <span style=\"background-color:#eadbd8;\">Immanuel Kant: The Critique of Pure Reason</span>, <span style=\"background-color:#d4efdf;\">Georg Wilhelm Hegel: Hegel's Lectures on the History of Philosophy: Vol. 1 of 3</span>, <span style=\"background-color:#edebd0;\">Immanuel Kant: Kant's Prolegomena</span>, <span style=\"background-color:#f6ddcc;\">FL8</span>, <span style=\"background-color:#d0ece7;\">Friedrich Nietzsche: Early Greek Philosophy & Other Essays</span>, <span style=\"background-color:#ebdef0;\">Friedrich Nietzsche: Beyond Good and Evil</span></p></small>"
      ],
      "text/plain": [
       "<IPython.core.display.HTML object>"
      ]
     },
     "metadata": {},
     "output_type": "display_data"
    },
    {
     "name": "stdout",
     "output_type": "stream",
     "text": [
      "-------------------------------------------\n",
      "step 14250: train loss1 3.2492, train loss2 3.2552, time 1.522 sec/iter\n",
      "Sample: --------temperature: 0.75 ---------\n",
      "Prompt: How to attain complete self-awareness? \n"
     ]
    },
    {
     "data": {
      "text/html": [
       "H<span style=\"background-color:#d6dbdf;\">ow to attain </span><span style=\"background-color:#d0ece7;\">complete self-a</span><span style=\"background-color:#d4efdf;\">wareness? I</span><span style=\"background-color:#d6dbdf;\"> do not need to say </span><span style=\"background-color:#ebdef0;\">how to take </span><span style=\"background-color:#d4e6f1;\">up my own </span><span style=\"background-color:#ecf3cf;\">self-awareness</span><span style=\"background-color:#e2d7d5;\">! We do not </span><span style=\"background-color:#ecf3cf;\">need to know what </span><span style=\"background-color:#eadbd8;\">I am not en</span><span style=\"background-color:#e2d7d5;\">ough to make c</span><span style=\"background-color:#d6eaf8;\">lear awareness </span>requ<span style=\"background-color:#d4e6f1;\">est. We need </span><span style=\"background-color:#d6dbdf;\">not see that they </span><span style=\"background-color:#edebd0;\">help some </span><span style=\"background-color:#d8daef;\">physicians</span><span style=\"background-color:#e5e8e8;\">hip between all </span><span style=\"background-color:#e2d7d5;\">of our minds </span>th<span style=\"background-color:#eadbd8;\">roughness and </span><span style=\"background-color:#d4efdf;\">awareness, such as </span><span style=\"background-color:#eadbd8;\">this will not ha</span>v<span style=\"background-color:#edebd0;\">e any good </span><span style=\"background-color:#ecf3cf;\">thing would have to be s</span><span style=\"background-color:#d6eaf8;\">ome experiential</span> or<span style=\"background-color:#d4efdf;\"> bad, but </span><span style=\"background-color:#e5e8e8;\">it will be necessary to </span><span style=\"background-color:#d6dbdf;\">understand it in </span><span style=\"background-color:#d4e6f1;\">fact if we were </span><span style=\"background-color:#d0ece7;\">to get rid of h</span>ow<span style=\"background-color:#e2d7d5;\"> explicit m</span>a<span style=\"background-color:#d4e6f1;\">gnificantly s</span><span style=\"background-color:#e2d7d5;\">itting one</span><span style=\"background-color:#d8daef;\">st merely </span><span style=\"background-color:#eadbd8;\">upon one side</span><span style=\"background-color:#d8daef;\"> as it is. </span><span style=\"background-color:#eadbd8;\">How can we </span><span style=\"background-color:#edebd0;\">precede ou</span>"
      ],
      "text/plain": [
       "<IPython.core.display.HTML object>"
      ]
     },
     "metadata": {},
     "output_type": "display_data"
    },
    {
     "data": {
      "text/html": [
       "<small><p style=\"text-align:right;\">Sources: <span style=\"background-color:#d6dbdf;\">FL7</span>, <span style=\"background-color:#d0ece7;\">Friedrich Nietzsche: Early Greek Philosophy & Other Essays</span>, <span style=\"background-color:#d4efdf;\">FL3</span>, <span style=\"background-color:#ebdef0;\">Friedrich Nietzsche: The Will to Power, Books III and IV</span>, <span style=\"background-color:#d4e6f1;\">FL6</span>, <span style=\"background-color:#ecf3cf;\">FL2</span>, <span style=\"background-color:#e2d7d5;\">Friedrich Nietzsche: The Joyful Wisdom</span>, <span style=\"background-color:#eadbd8;\">Immanuel Kant: The Critique of Pure Reason</span>, <span style=\"background-color:#d6eaf8;\">FL5</span>, <span style=\"background-color:#edebd0;\">FL17</span>, <span style=\"background-color:#d8daef;\">Georg Wilhelm Hegel: The History of Philosophy: Volume 3 of 3</span>, <span style=\"background-color:#e5e8e8;\">FL11</span>, <span style=\"background-color:#eadbd8;\">Friedrich Nietzsche: The Will to Power, Books I and II</span>, <span style=\"background-color:#edebd0;\">Immanuel Kant: Kant's Prolegomena</span>, <span style=\"background-color:#ecf3cf;\">Georg Wilhelm Hegel: Hegel's Lectures on the History of Philosophy: Vol. 2 of 3</span>, <span style=\"background-color:#d4efdf;\">Georg Wilhelm Hegel: Hegel's Lectures on the History of Philosophy: Vol. 1 of 3</span>, <span style=\"background-color:#e5e8e8;\">Immanuel Kant: The Critique of Practical Reason</span>, <span style=\"background-color:#d6dbdf;\">Friedrich Nietzsche: Thoughts Out of Season, Part 2</span>, <span style=\"background-color:#d4e6f1;\">Immanuel Kant: Kant's Critique of Judgement</span>, <span style=\"background-color:#e2d7d5;\">FL16</span>, <span style=\"background-color:#e2d7d5;\">Friedrich Nietzsche: Thus Spake Zarathustra</span></p></small>"
      ],
      "text/plain": [
       "<IPython.core.display.HTML object>"
      ]
     },
     "metadata": {},
     "output_type": "display_data"
    },
    {
     "name": "stdout",
     "output_type": "stream",
     "text": [
      "-------------------------------------------\n",
      "step 14500: train loss1 3.2069, train loss2 3.2530, time 1.491 sec/iter\n",
      "Sample: --------temperature: 0.75 ---------\n",
      "Prompt: What is the nature of reality? \n"
     ]
    },
    {
     "data": {
      "text/html": [
       "<span style=\"background-color:#edebd0;\">What is the nature of </span><span style=\"background-color:#d4efdf;\">reality? What </span><span style=\"background-color:#ebdef0;\">is the essence of thing</span><span style=\"background-color:#edebd0;\">? But if we </span><span style=\"background-color:#e5e8e8;\">consider ourselves </span><span style=\"background-color:#e2d7d5;\">because we do not </span><span style=\"background-color:#d4e6f1;\">perceive our </span><span style=\"background-color:#d6dbdf;\">minds be over</span>whel<span style=\"background-color:#ebdef0;\">? That is </span><span style=\"background-color:#ecf3cf;\">happiness we </span>kn<span style=\"background-color:#ecf3cf;\">ow, we need </span><span style=\"background-color:#d8daef;\">to do this</span><span style=\"background-color:#edebd0;\">? This is why </span><span style=\"background-color:#d6dbdf;\">we look at the essence of the </span><span style=\"background-color:#d6dbdf;\">mind is emptiness. If we </span><span style=\"background-color:#d6dbdf;\">can think about it </span><span style=\"background-color:#d6dbdf;\">and awareness is </span>just a<span style=\"background-color:#ebdef0;\"> same essence </span><span style=\"background-color:#ecf3cf;\">what that w</span>e<span style=\"background-color:#eadbd8;\"> call all of </span><span style=\"background-color:#d6dbdf;\">our mind and a</span><span style=\"background-color:#ecf3cf;\">wareness, then </span><span style=\"background-color:#d6dbdf;\">we can meditate on that. </span><span style=\"background-color:#d6dbdf;\">We can actually </span><span style=\"background-color:#fae5d3;\">realize it the</span>r<span style=\"background-color:#d6dbdf;\">e. We all know</span><span style=\"background-color:#d6dbdf;\">s as something that we </span><span style=\"background-color:#edebd0;\">can see it</span>,<span style=\"background-color:#d6dbdf;\"> or we feel </span><span style=\"background-color:#d6dbdf;\">that we can actually </span>kn<span style=\"background-color:#d6dbdf;\">ow our mind</span><span style=\"background-color:#d6dbdf;\">. We do not tr</span><span style=\"background-color:#d4efdf;\">uly realize th</span><span style=\"background-color:#d4efdf;\">at there is. </span>Mip<span style=\"background-color:#d6dbdf;\">hamudra and </span>know"
      ],
      "text/plain": [
       "<IPython.core.display.HTML object>"
      ]
     },
     "metadata": {},
     "output_type": "display_data"
    },
    {
     "data": {
      "text/html": [
       "<small><p style=\"text-align:right;\">Sources: <span style=\"background-color:#edebd0;\">FL1</span>, <span style=\"background-color:#d4efdf;\">Georg Wilhelm Hegel: Hegel's Lectures on the History of Philosophy: Vol. 1 of 3</span>, <span style=\"background-color:#ebdef0;\">Friedrich Nietzsche: The Will to Power, Books III and IV</span>, <span style=\"background-color:#edebd0;\">Immanuel Kant: Kant's Prolegomena</span>, <span style=\"background-color:#e5e8e8;\">Immanuel Kant: The Critique of Practical Reason</span>, <span style=\"background-color:#e2d7d5;\">Friedrich Nietzsche: The Joyful Wisdom</span>, <span style=\"background-color:#d4e6f1;\">FL6</span>, <span style=\"background-color:#d6dbdf;\">FL7</span>, <span style=\"background-color:#ecf3cf;\">Georg Wilhelm Hegel: Hegel's Lectures on the History of Philosophy: Vol. 2 of 3</span>, <span style=\"background-color:#ecf3cf;\">FL2</span>, <span style=\"background-color:#d8daef;\">Georg Wilhelm Hegel: The History of Philosophy: Volume 3 of 3</span>, <span style=\"background-color:#edebd0;\">FL17</span>, <span style=\"background-color:#ebdef0;\">FL14</span>, <span style=\"background-color:#eadbd8;\">Immanuel Kant: The Critique of Pure Reason</span>, <span style=\"background-color:#fae5d3;\">FL9</span>, <span style=\"background-color:#d6dbdf;\">Friedrich Nietzsche: Thoughts Out of Season, Part 2</span>, <span style=\"background-color:#d4efdf;\">FL3</span></p></small>"
      ],
      "text/plain": [
       "<IPython.core.display.HTML object>"
      ]
     },
     "metadata": {},
     "output_type": "display_data"
    },
    {
     "name": "stdout",
     "output_type": "stream",
     "text": [
      "-------------------------------------------\n",
      "step 14750: train loss1 3.2239, train loss2 3.1948, time 1.462 sec/iter\n",
      "Sample: --------temperature: 0.75 ---------\n",
      "Prompt: How be a good human being? \n"
     ]
    },
    {
     "data": {
      "text/html": [
       "How<span style=\"background-color:#eadbd8;\"> be a good </span><span style=\"background-color:#d8daef;\">human being</span><span style=\"background-color:#fae5d3;\">? What would the </span><span style=\"background-color:#d8daef;\">cause of co</span>mmature? An<br><span style=\"background-color:#d4e6f1;\">if I could b</span>l<span style=\"background-color:#edebd0;\">ame to be p</span>avil<span style=\"background-color:#d8daef;\"> and<br>wish to </span><span style=\"background-color:#ecf3cf;\">be an irra</span><span style=\"background-color:#d8daef;\">nged, but </span><span style=\"background-color:#ebdef0;\">only when I </span><span style=\"background-color:#edebd0;\">thought this; </span><span style=\"background-color:#ecf3cf;\">but my own</span><br>h<span style=\"background-color:#d8daef;\">and of min</span>e<span style=\"background-color:#d8daef;\"> own accord i</span>s <span style=\"background-color:#ebdef0;\">he stronger </span>in <span style=\"background-color:#ecf3cf;\">me another. </span><span style=\"background-color:#e2d7d5;\">Verily, I m</span>ust<span style=\"background-color:#d6dbdf;\"><br>better to </span><span style=\"background-color:#d8daef;\">consider the pro</span><span style=\"background-color:#ecf3cf;\">foundest o</span>pinio<span style=\"background-color:#ecf3cf;\">ns. Philosoph</span><span style=\"background-color:#fae5d3;\">ical tradition<br></span><span style=\"background-color:#d4e6e1;\">itself to com</span><span style=\"background-color:#ecf3cf;\">e to be reconciled </span><span style=\"background-color:#d0ece7;\">to scholars</span><span style=\"background-color:#ecf3cf;\">; but the ma</span><span style=\"background-color:#ecf3cf;\">in question is what is</span><br>v<span style=\"background-color:#d4efdf;\">ague must have </span><span style=\"background-color:#ecf3cf;\">often said</span>:<span style=\"background-color:#ebdef0;\"> How then is it known? </span><span style=\"background-color:#eadbd8;\">But this is p</span><span style=\"background-color:#eadbd8;\">ossible to<br>me</span><span style=\"background-color:#d8daef;\"> then have </span>many ye"
      ],
      "text/plain": [
       "<IPython.core.display.HTML object>"
      ]
     },
     "metadata": {},
     "output_type": "display_data"
    },
    {
     "data": {
      "text/html": [
       "<small><p style=\"text-align:right;\">Sources: <span style=\"background-color:#eadbd8;\">Friedrich Nietzsche: The Will to Power, Books I and II</span>, <span style=\"background-color:#d8daef;\">Georg Wilhelm Hegel: The History of Philosophy: Volume 3 of 3</span>, <span style=\"background-color:#fae5d3;\">FL9</span>, <span style=\"background-color:#d4e6f1;\">FL6</span>, <span style=\"background-color:#edebd0;\">FL1</span>, <span style=\"background-color:#d8daef;\">Friedrich Nietzsche: Thoughts out of Season, Part One</span>, <span style=\"background-color:#ecf3cf;\">Georg Wilhelm Hegel: Hegel's Lectures on the History of Philosophy: Vol. 2 of 3</span>, <span style=\"background-color:#ebdef0;\">Friedrich Nietzsche: The Will to Power, Books III and IV</span>, <span style=\"background-color:#ecf3cf;\">FL2</span>, <span style=\"background-color:#e2d7d5;\">Friedrich Nietzsche: Thus Spake Zarathustra</span>, <span style=\"background-color:#d6dbdf;\">Friedrich Nietzsche: Thoughts Out of Season, Part 2</span>, <span style=\"background-color:#d4e6e1;\">Immanuel Kant: Fundamental Principles of the Metaphysic of Morals</span>, <span style=\"background-color:#d0ece7;\">Friedrich Nietzsche: Early Greek Philosophy & Other Essays</span>, <span style=\"background-color:#d4efdf;\">Georg Wilhelm Hegel: Hegel's Lectures on the History of Philosophy: Vol. 1 of 3</span>, <span style=\"background-color:#ebdef0;\">FL14</span>, <span style=\"background-color:#eadbd8;\">Immanuel Kant: The Critique of Pure Reason</span></p></small>"
      ],
      "text/plain": [
       "<IPython.core.display.HTML object>"
      ]
     },
     "metadata": {},
     "output_type": "display_data"
    },
    {
     "name": "stdout",
     "output_type": "stream",
     "text": [
      "-------------------------------------------\n",
      "step 15000: train loss1 3.1865, train loss2 3.2373, time 1.468 sec/iter\n",
      "Sample: --------temperature: 0.75 ---------\n",
      "Prompt: what is the difference between good and evil? \n"
     ]
    },
    {
     "data": {
      "text/html": [
       "<span style=\"background-color:#d6eaf8;\">what is the difference between </span><span style=\"background-color:#ebdef0;\">good and evil? </span>(3) Again, I<span style=\"background-color:#d4e6f1;\"> is just a way of </span><span style=\"background-color:#d8daef;\">ready for </span><span style=\"background-color:#d8daef;\">what different </span><span style=\"background-color:#d6eaf8;\">subjects (</span>3 × 5<span style=\"background-color:#eadbd8;\">) relates to the </span><span style=\"background-color:#d4efdf;\">essential nature of the mind. </span>B<span style=\"background-color:#eadbd8;\"> impossibility of a</span><span style=\"background-color:#d4efdf;\">ppearances are called </span>the “sk<span style=\"background-color:#fdebd0;\">y.”<br><br>But i</span><span style=\"background-color:#d8daef;\">s the example of </span>how<span style=\"background-color:#eadbd8;\"> all changes a</span><span style=\"background-color:#d6eaf8;\">re in a ph</span><span style=\"background-color:#fae5d3;\">enomenon—i</span><span style=\"background-color:#d4efdf;\">t is necessary to s</span><span style=\"background-color:#d4e6f1;\">ome sort of con</span><span style=\"background-color:#d8daef;\">sciousness, a</span>t all—<span style=\"background-color:#ebdef0;\">in the distinction </span><span style=\"background-color:#edebd0;\">that mental processes </span><span style=\"background-color:#eadbd8;\">do not, in </span><span style=\"background-color:#d8daef;\">actualized</span><span style=\"background-color:#eadbd8;\">—that which can </span><span style=\"background-color:#fae5d3;\">absence of causes</span><span style=\"background-color:#d8daef;\"> of perception </span>—<span style=\"background-color:#d8daef;\">just this </span><span style=\"background-color:#d6dbdf;\">be successful </span><span style=\"background-color:#ecf3cf;\">and above wh</span><span style=\"background-color:#fae5d3;\">ich the thing is </span>tru<span style=\"background-color:#d4efdf;\">e. Consciousness is</span> by "
      ],
      "text/plain": [
       "<IPython.core.display.HTML object>"
      ]
     },
     "metadata": {},
     "output_type": "display_data"
    },
    {
     "data": {
      "text/html": [
       "<small><p style=\"text-align:right;\">Sources: <span style=\"background-color:#d6eaf8;\">FL5</span>, <span style=\"background-color:#ebdef0;\">Friedrich Nietzsche: The Will to Power, Books III and IV</span>, <span style=\"background-color:#d4e6f1;\">FL6</span>, <span style=\"background-color:#d8daef;\">Georg Wilhelm Hegel: The History of Philosophy: Volume 3 of 3</span>, <span style=\"background-color:#d8daef;\">Friedrich Nietzsche: Thoughts out of Season, Part One</span>, <span style=\"background-color:#d6eaf8;\">Immanuel Kant: Perpetual Peace</span>, <span style=\"background-color:#eadbd8;\">FL15</span>, <span style=\"background-color:#d4efdf;\">FL3</span>, <span style=\"background-color:#eadbd8;\">Friedrich Nietzsche: The Will to Power, Books I and II</span>, <span style=\"background-color:#fdebd0;\">FL10</span>, <span style=\"background-color:#eadbd8;\">Immanuel Kant: The Critique of Pure Reason</span>, <span style=\"background-color:#fae5d3;\">FL9</span>, <span style=\"background-color:#d4efdf;\">Georg Wilhelm Hegel: Hegel's Lectures on the History of Philosophy: Vol. 1 of 3</span>, <span style=\"background-color:#edebd0;\">FL1</span>, <span style=\"background-color:#d6dbdf;\">FL7</span>, <span style=\"background-color:#ecf3cf;\">FL2</span></p></small>"
      ],
      "text/plain": [
       "<IPython.core.display.HTML object>"
      ]
     },
     "metadata": {},
     "output_type": "display_data"
    },
    {
     "name": "stdout",
     "output_type": "stream",
     "text": [
      "-------------------------------------------\n",
      "step 15250: train loss1 3.2271, train loss2 3.2390, time 1.623 sec/iter\n",
      "Sample: --------temperature: 0.75 ---------\n",
      "Prompt: How did everything come into existence? \n"
     ]
    },
    {
     "data": {
      "text/html": [
       "How<span style=\"background-color:#e2d7d5;\"> did everything </span><span style=\"background-color:#d8daef;\">come into existence</span>?<span style=\"background-color:#d4efdf;\"> Why do you </span><span style=\"background-color:#d4e6f1;\">think they do not </span><span style=\"background-color:#e2d7d5;\">know how to make anything </span><span style=\"background-color:#fdebd0;\">between them. And </span><span style=\"background-color:#e2d7d5;\">if there is attachment</span><span style=\"background-color:#d4efdf;\">, or if you </span><span style=\"background-color:#ecf3cf;\">were to think </span><span style=\"background-color:#e2d7d5;\">of any aspect of </span><span style=\"background-color:#d4efdf;\">the only v</span>isib<span style=\"background-color:#ecf3cf;\">le singular</span><span style=\"background-color:#fae5d3;\">, truly existent, </span><span style=\"background-color:#eadbd8;\">which is existence</span><span style=\"background-color:#eadbd8;\">, you could not </span><span style=\"background-color:#d6eaf8;\">be that it is </span><span style=\"background-color:#edebd0;\">just a con</span><span style=\"background-color:#ebdef0;\">dition of this </span><span style=\"background-color:#ebdef0;\">reason to s</span>ome<span style=\"background-color:#fae5d3;\">how how things </span><span style=\"background-color:#d8daef;\">really exists</span><span style=\"background-color:#e2d7d5;\">?<br><br>What is the </span><span style=\"background-color:#e2d7d5;\">reason, these </span><span style=\"background-color:#edebd0;\">questions concerning the </span><span style=\"background-color:#e2d7d5;\">absence of one and many t</span>imes <span style=\"background-color:#ebdef0;\">or one who</span><span style=\"background-color:#d6eaf8;\">se conditions, h</span><span style=\"background-color:#e2d7d5;\">as been asc</span><span style=\"background-color:#fae5d3;\">ribed. Therefore, th</span><span style=\"background-color:#e2d7d5;\">at question </span><span style=\"background-color:#e2d7d5;\">should be understood by </span><span style=\"background-color:#e2d7d5;\">valid cognition as </span><span style=\"background-color:#fae5d3;\">valid cognition. I</span><span style=\"background-color:#e5e8e8;\">f you believe that the</span> two type"
      ],
      "text/plain": [
       "<IPython.core.display.HTML object>"
      ]
     },
     "metadata": {},
     "output_type": "display_data"
    },
    {
     "data": {
      "text/html": [
       "<small><p style=\"text-align:right;\">Sources: <span style=\"background-color:#e2d7d5;\">Friedrich Nietzsche: Thus Spake Zarathustra</span>, <span style=\"background-color:#d8daef;\">Georg Wilhelm Hegel: The History of Philosophy: Volume 3 of 3</span>, <span style=\"background-color:#d4efdf;\">FL3</span>, <span style=\"background-color:#d4e6f1;\">FL6</span>, <span style=\"background-color:#e2d7d5;\">Friedrich Nietzsche: The Joyful Wisdom</span>, <span style=\"background-color:#fdebd0;\">FL10</span>, <span style=\"background-color:#e2d7d5;\">FL16</span>, <span style=\"background-color:#ecf3cf;\">FL2</span>, <span style=\"background-color:#d4efdf;\">Georg Wilhelm Hegel: Hegel's Lectures on the History of Philosophy: Vol. 1 of 3</span>, <span style=\"background-color:#fae5d3;\">FL9</span>, <span style=\"background-color:#eadbd8;\">Immanuel Kant: The Critique of Pure Reason</span>, <span style=\"background-color:#d6eaf8;\">Immanuel Kant: Perpetual Peace</span>, <span style=\"background-color:#edebd0;\">FL1</span>, <span style=\"background-color:#ebdef0;\">Friedrich Nietzsche: The Will to Power, Books III and IV</span>, <span style=\"background-color:#ebdef0;\">Friedrich Nietzsche: Beyond Good and Evil</span>, <span style=\"background-color:#fae5d3;\">Friedrich Nietzsche: We Philologists, Volume 8 of 18</span>, <span style=\"background-color:#d6eaf8;\">FL5</span>, <span style=\"background-color:#e5e8e8;\">FL11</span></p></small>"
      ],
      "text/plain": [
       "<IPython.core.display.HTML object>"
      ]
     },
     "metadata": {},
     "output_type": "display_data"
    },
    {
     "name": "stdout",
     "output_type": "stream",
     "text": [
      "-------------------------------------------\n",
      "step 15500: train loss1 3.2207, train loss2 3.1299, time 1.493 sec/iter\n",
      "Sample: --------temperature: 0.75 ---------\n",
      "Prompt: What was the beginning of time? \n"
     ]
    },
    {
     "data": {
      "text/html": [
       "<span style=\"background-color:#eadbd8;\">What was the </span><span style=\"background-color:#d8daef;\">beginning of time</span><span style=\"background-color:#ebdef0;\">? It might </span>have G<span style=\"background-color:#e5e8e8;\">od is<br>something </span><span style=\"background-color:#d4efdf;\">that is one</span><span style=\"background-color:#ecf3cf;\">, is God. </span><span style=\"background-color:#eadbd8;\">We shall not </span><span style=\"background-color:#d8daef;\">recognize God </span>H<span style=\"background-color:#eadbd8;\">imself<br>as </span><span style=\"background-color:#d8daef;\">He is the univers</span>e;<span style=\"background-color:#ebdef0;\"> He who is a </span><span style=\"background-color:#ecf3cf;\">nature as such a</span><span style=\"background-color:#ecf3cf;\"> world reco</span>ll.<br>H<span style=\"background-color:#d8daef;\">e is false</span><span style=\"background-color:#ebdef0;\"> to make all </span><span style=\"background-color:#ebdef0;\">man as the </span><span style=\"background-color:#eadbd8;\">creator of the world</span> of<span style=\"background-color:#edebd0;\"><br>as to what </span>i<span style=\"background-color:#d4efdf;\">s God; at another time </span>the on<span style=\"background-color:#d8daef;\">e He is in </span><span style=\"background-color:#ecf3cf;\">its Being is</span><span style=\"background-color:#d8daef;\">, but He is</span><span style=\"background-color:#d4efdf;\"><br>abstract o</span><span style=\"background-color:#ecf3cf;\">nly implicitly </span><span style=\"background-color:#edebd0;\">both into </span><span style=\"background-color:#ebdef0;\">existence; in </span><span style=\"background-color:#d8daef;\">such a system</span><span style=\"background-color:#ecf3cf;\"><br>is not the s</span><span style=\"background-color:#d8daef;\">ame as a c</span><span style=\"background-color:#d4e6e1;\">onception which is s</span><span style=\"background-color:#eadbd8;\">upposed<br>th</span><span style=\"background-color:#ecf3cf;\">us did not re</span><span style=\"background-color:#d4efdf;\">main that i</span><span style=\"background-color:#ecf3cf;\">mplicit to be sou</span><span style=\"background-color:#d0ece7;\">nd. Anaxagoras</span><br>nextus t"
      ],
      "text/plain": [
       "<IPython.core.display.HTML object>"
      ]
     },
     "metadata": {},
     "output_type": "display_data"
    },
    {
     "data": {
      "text/html": [
       "<small><p style=\"text-align:right;\">Sources: <span style=\"background-color:#eadbd8;\">Friedrich Nietzsche: The Will to Power, Books I and II</span>, <span style=\"background-color:#d8daef;\">Georg Wilhelm Hegel: The History of Philosophy: Volume 3 of 3</span>, <span style=\"background-color:#ebdef0;\">Friedrich Nietzsche: Beyond Good and Evil</span>, <span style=\"background-color:#e5e8e8;\">Immanuel Kant: The Critique of Practical Reason</span>, <span style=\"background-color:#d4efdf;\">Georg Wilhelm Hegel: Hegel's Lectures on the History of Philosophy: Vol. 1 of 3</span>, <span style=\"background-color:#ecf3cf;\">Georg Wilhelm Hegel: Hegel's Lectures on the History of Philosophy: Vol. 2 of 3</span>, <span style=\"background-color:#ebdef0;\">Friedrich Nietzsche: The Will to Power, Books III and IV</span>, <span style=\"background-color:#eadbd8;\">Immanuel Kant: The Critique of Pure Reason</span>, <span style=\"background-color:#edebd0;\">Immanuel Kant: Kant's Prolegomena</span>, <span style=\"background-color:#d8daef;\">Friedrich Nietzsche: Thoughts out of Season, Part One</span>, <span style=\"background-color:#d4e6e1;\">Immanuel Kant: Fundamental Principles of the Metaphysic of Morals</span>, <span style=\"background-color:#d4efdf;\">FL3</span>, <span style=\"background-color:#d0ece7;\">Friedrich Nietzsche: Early Greek Philosophy & Other Essays</span></p></small>"
      ],
      "text/plain": [
       "<IPython.core.display.HTML object>"
      ]
     },
     "metadata": {},
     "output_type": "display_data"
    },
    {
     "name": "stdout",
     "output_type": "stream",
     "text": [
      "-------------------------------------------\n",
      "step 15750: train loss1 3.1652, train loss2 3.1940, time 1.521 sec/iter\n",
      "Sample: --------temperature: 0.75 ---------\n",
      "Prompt: How are physics, quantum-mechanics and consciousness related? \n"
     ]
    },
    {
     "data": {
      "text/html": [
       "How<span style=\"background-color:#ecf3cf;\"> are physic</span><span style=\"background-color:#ecf3cf;\">s, quantum-mechanic</span><span style=\"background-color:#ecf3cf;\">s and consciousness </span>related<span style=\"background-color:#d0ece7;\">? How did the </span>Hartman<span style=\"background-color:#ecf3cf;\">n unity, b</span><span style=\"background-color:#d8daef;\">rought about a s</span>plit?<span style=\"background-color:#ecf3cf;\"><br><br>19. The </span>Hard Helbert happerber<span style=\"background-color:#eadbd8;\">g the Hindu </span>Pan<span style=\"background-color:#fae5d3;\">-Svatantrika</span>s to<span style=\"background-color:#d4e6f1;\">thodology </span>w:<span style=\"background-color:#ecf3cf;\"> The system of </span><span style=\"background-color:#ecf3cf;\">property, for example, </span><span style=\"background-color:#d4e6f1;\">is of a di</span>scu<span style=\"background-color:#d8daef;\">rsion of Hi</span><span style=\"background-color:#fae5d3;\">ndu and Buddhist </span><span style=\"background-color:#d0ece7;\">Introduction to the Mi</span>nd<br><br>Co<span style=\"background-color:#d0ece7;\">mmeasurable a</span><span style=\"background-color:#d4efdf;\">nd mind and </span><span style=\"background-color:#d0ece7;\">its nature of </span><span style=\"background-color:#eadbd8;\">the Tibetan Book of the </span><span style=\"background-color:#eadbd8;\">Great Liberation, </span>for th<span style=\"background-color:#edebd0;\">is Cognition </span><span style=\"background-color:#fae5d3;\">in the Tibetan co</span><span style=\"background-color:#d4e6f1;\">ntext of a p</span><span style=\"background-color:#eadbd8;\">hilosophical mode</span>l (Inashrun spa"
      ],
      "text/plain": [
       "<IPython.core.display.HTML object>"
      ]
     },
     "metadata": {},
     "output_type": "display_data"
    },
    {
     "data": {
      "text/html": [
       "<small><p style=\"text-align:right;\">Sources: <span style=\"background-color:#ecf3cf;\">FL2</span>, <span style=\"background-color:#d0ece7;\">Friedrich Nietzsche: Early Greek Philosophy & Other Essays</span>, <span style=\"background-color:#ecf3cf;\">Georg Wilhelm Hegel: Hegel's Lectures on the History of Philosophy: Vol. 2 of 3</span>, <span style=\"background-color:#d8daef;\">Friedrich Nietzsche: Thoughts out of Season, Part One</span>, <span style=\"background-color:#eadbd8;\">FL15</span>, <span style=\"background-color:#fae5d3;\">FL9</span>, <span style=\"background-color:#d4e6f1;\">Immanuel Kant: Kant's Critique of Judgement</span>, <span style=\"background-color:#d8daef;\">Georg Wilhelm Hegel: The History of Philosophy: Volume 3 of 3</span>, <span style=\"background-color:#d0ece7;\">FL4</span>, <span style=\"background-color:#d4efdf;\">FL3</span>, <span style=\"background-color:#edebd0;\">Immanuel Kant: Kant's Prolegomena</span>, <span style=\"background-color:#d4e6f1;\">FL6</span>, <span style=\"background-color:#eadbd8;\">Immanuel Kant: The Critique of Pure Reason</span></p></small>"
      ],
      "text/plain": [
       "<IPython.core.display.HTML object>"
      ]
     },
     "metadata": {},
     "output_type": "display_data"
    },
    {
     "name": "stdout",
     "output_type": "stream",
     "text": [
      "-------------------------------------------\n",
      "step 16000: train loss1 3.1736, train loss2 3.1577, time 1.568 sec/iter\n",
      "Sample: --------temperature: 0.75 ---------\n",
      "Prompt: How to attain complete self-awareness? \n"
     ]
    },
    {
     "data": {
      "text/html": [
       "H<span style=\"background-color:#d6dbdf;\">ow to attain </span><span style=\"background-color:#d0ece7;\">complete self-a</span><span style=\"background-color:#ecf3cf;\">wareness? </span><span style=\"background-color:#d6dbdf;\">Whether our m</span>inds<span style=\"background-color:#d0ece7;\"> are you t</span><span style=\"background-color:#fdebd0;\">o attain the p</span><span style=\"background-color:#e5e8e8;\">ower to realiz</span><span style=\"background-color:#e5e8e8;\">ation, even if </span><span style=\"background-color:#d4efdf;\">you get caught up </span><span style=\"background-color:#ebdef0;\">and naturally be</span> able<span style=\"background-color:#d6dbdf;\">e will not cl</span>ea<span style=\"background-color:#e2d7d5;\">r or future</span><span style=\"background-color:#e2d7d5;\">, like an imme</span><span style=\"background-color:#edebd0;\">trived state or</span> post<span style=\"background-color:#d4efdf;\">s as dreams and </span><span style=\"background-color:#eadbd8;\">indifferenti</span><span style=\"background-color:#e2d7d5;\">ated from your </span><span style=\"background-color:#d4efdf;\">own appearances</span><span style=\"background-color:#fdebd0;\">? When you </span>simpl<span style=\"background-color:#d6dbdf;\">y slip into </span><span style=\"background-color:#edebd0;\">the nature of suchness. W</span><span style=\"background-color:#d4efdf;\">hen you go </span>from<span style=\"background-color:#d6dbdf;\"> nonconceptual cons</span><span style=\"background-color:#d6eaf8;\">truction, you </span><span style=\"background-color:#d8daef;\">can see that </span><span style=\"background-color:#eadbd8;\">all experience a</span><span style=\"background-color:#ecf3cf;\"> single particles</span><span style=\"background-color:#e2d7d5;\">. Once again </span><span style=\"background-color:#d8daef;\">this experience</span><span style=\"background-color:#d4efdf;\">s of the six classes of </span>million phaṭ<span style=\"background-color:#d4efdf;\"> along the path. </span><span style=\"background-color:#ecf3cf;\">If you take </span><span style=\"background-color:#d6dbdf;\">birth in sa</span><span style=\"background-color:#fdebd0;\">id that sa</span><span style=\"background-color:#d4efdf;\">me essence </span>"
      ],
      "text/plain": [
       "<IPython.core.display.HTML object>"
      ]
     },
     "metadata": {},
     "output_type": "display_data"
    },
    {
     "data": {
      "text/html": [
       "<small><p style=\"text-align:right;\">Sources: <span style=\"background-color:#d6dbdf;\">FL7</span>, <span style=\"background-color:#d0ece7;\">Friedrich Nietzsche: Early Greek Philosophy & Other Essays</span>, <span style=\"background-color:#ecf3cf;\">FL2</span>, <span style=\"background-color:#fdebd0;\">FL10</span>, <span style=\"background-color:#e5e8e8;\">Immanuel Kant: The Critique of Practical Reason</span>, <span style=\"background-color:#d4efdf;\">FL3</span>, <span style=\"background-color:#ebdef0;\">Friedrich Nietzsche: Beyond Good and Evil</span>, <span style=\"background-color:#e2d7d5;\">Friedrich Nietzsche: The Joyful Wisdom</span>, <span style=\"background-color:#edebd0;\">FL17</span>, <span style=\"background-color:#eadbd8;\">Immanuel Kant: The Critique of Pure Reason</span>, <span style=\"background-color:#e2d7d5;\">Friedrich Nietzsche: Thus Spake Zarathustra</span>, <span style=\"background-color:#d6eaf8;\">FL5</span>, <span style=\"background-color:#d8daef;\">Georg Wilhelm Hegel: The History of Philosophy: Volume 3 of 3</span>, <span style=\"background-color:#ecf3cf;\">Georg Wilhelm Hegel: Hegel's Lectures on the History of Philosophy: Vol. 2 of 3</span></p></small>"
      ],
      "text/plain": [
       "<IPython.core.display.HTML object>"
      ]
     },
     "metadata": {},
     "output_type": "display_data"
    },
    {
     "name": "stdout",
     "output_type": "stream",
     "text": [
      "-------------------------------------------\n",
      "step 16250: train loss1 3.1558, train loss2 3.1972, time 1.549 sec/iter\n",
      "Sample: --------temperature: 0.75 ---------\n",
      "Prompt: What is the nature of reality? \n"
     ]
    },
    {
     "data": {
      "text/html": [
       "<span style=\"background-color:#edebd0;\">What is the nature of </span><span style=\"background-color:#d4efdf;\">reality? What </span>fac<span style=\"background-color:#d8daef;\">t we understand </span><span style=\"background-color:#d6dbdf;\">what its nature </span><span style=\"background-color:#d8daef;\">to be present</span><span style=\"background-color:#ebdef0;\">, whether we be</span><span style=\"background-color:#d0ece7;\">cause beings </span><span style=\"background-color:#d4efdf;\">will confuse</span><span style=\"background-color:#fae5d3;\">d appearance and </span><span style=\"background-color:#fae5d3;\">nonthings </span><span style=\"background-color:#d8daef;\">will arise</span>?<span style=\"background-color:#fae5d3;\"> All are e</span><span style=\"background-color:#e2d7d5;\">mptiness arise </span><span style=\"background-color:#eadbd8;\">from the non</span>co<span style=\"background-color:#d0ece7;\">me of fire </span><span style=\"background-color:#eadbd8;\">of course ex</span><span style=\"background-color:#d8daef;\">istence and e</span><span style=\"background-color:#d4efdf;\">mptiness. This is the </span><span style=\"background-color:#eadbd8;\">difference between the t</span><span style=\"background-color:#d4efdf;\">eachings of the pre</span><span style=\"background-color:#fae5d3;\">sent text. </span><span style=\"background-color:#d8daef;\">We see that th</span>is<span style=\"background-color:#d6dbdf;\"> point:<br><br><br><br></span><span style=\"background-color:#d4efdf;\">Moreover, in the </span>first mand<span style=\"background-color:#d0ece7;\">alytical in</span><span style=\"background-color:#d4e6e1;\">struction slip</span><span style=\"background-color:#d8daef;\">tical point</span><span style=\"background-color:#d4efdf;\">ing none o</span><span style=\"background-color:#d8daef;\">f the point</span>:<br><br>Th<span style=\"background-color:#d4e6e1;\">ou gain th</span><span style=\"background-color:#e2d7d5;\">e equality of the n</span><span style=\"background-color:#d4efdf;\">ature of the mind </span>knows:<span style=\"background-color:#fdebd0;\"><br><br>If likewise </span>voi<span style=\"background-color:#ecf3cf;\">d it appears</span><span style=\"background-color:#fdebd0;\">,<br><br>The nature of the mind is </span><span style=\"background-color:#fdebd0;\">free from conceptu</span>"
      ],
      "text/plain": [
       "<IPython.core.display.HTML object>"
      ]
     },
     "metadata": {},
     "output_type": "display_data"
    },
    {
     "data": {
      "text/html": [
       "<small><p style=\"text-align:right;\">Sources: <span style=\"background-color:#edebd0;\">FL1</span>, <span style=\"background-color:#d4efdf;\">Georg Wilhelm Hegel: Hegel's Lectures on the History of Philosophy: Vol. 1 of 3</span>, <span style=\"background-color:#d8daef;\">Georg Wilhelm Hegel: The History of Philosophy: Volume 3 of 3</span>, <span style=\"background-color:#d6dbdf;\">FL7</span>, <span style=\"background-color:#ebdef0;\">Friedrich Nietzsche: Beyond Good and Evil</span>, <span style=\"background-color:#d0ece7;\">FL4</span>, <span style=\"background-color:#d4efdf;\">FL3</span>, <span style=\"background-color:#fae5d3;\">FL9</span>, <span style=\"background-color:#e2d7d5;\">FL16</span>, <span style=\"background-color:#eadbd8;\">Friedrich Nietzsche: The Will to Power, Books I and II</span>, <span style=\"background-color:#d0ece7;\">Friedrich Nietzsche: Early Greek Philosophy & Other Essays</span>, <span style=\"background-color:#eadbd8;\">Immanuel Kant: The Critique of Pure Reason</span>, <span style=\"background-color:#d4e6e1;\">FL12</span>, <span style=\"background-color:#fdebd0;\">FL10</span>, <span style=\"background-color:#ecf3cf;\">Georg Wilhelm Hegel: Hegel's Lectures on the History of Philosophy: Vol. 2 of 3</span></p></small>"
      ],
      "text/plain": [
       "<IPython.core.display.HTML object>"
      ]
     },
     "metadata": {},
     "output_type": "display_data"
    },
    {
     "name": "stdout",
     "output_type": "stream",
     "text": [
      "-------------------------------------------\n",
      "step 16500: train loss1 3.1454, train loss2 3.1449, time 1.497 sec/iter\n",
      "Sample: --------temperature: 0.75 ---------\n",
      "Prompt: How be a good human being? \n"
     ]
    },
    {
     "data": {
      "text/html": [
       "How<span style=\"background-color:#eadbd8;\"> be a good </span><span style=\"background-color:#d8daef;\">human being</span><span style=\"background-color:#d6dbdf;\">? Similarly, </span><span style=\"background-color:#d8daef;\">it is only </span><span style=\"background-color:#e5e8e8;\">just the same as to</span><span style=\"background-color:#d8daef;\"><br>in itself, </span><span style=\"background-color:#e2d7d5;\">so rang the vo</span><span style=\"background-color:#d4e6f1;\">ws with the </span>i<span style=\"background-color:#d8daef;\">dea within</span><span style=\"background-color:#d8daef;\">, with who</span><span style=\"background-color:#fae5d3;\">ever change </span>it,<span style=\"background-color:#e2d7d5;\"><br>and again</span><span style=\"background-color:#ecf3cf;\">; or it may </span>be sai<span style=\"background-color:#d8daef;\">d suddenly, </span><span style=\"background-color:#ecf3cf;\">to the relationship </span><span style=\"background-color:#eadbd8;\">is<br>progress</span><span style=\"background-color:#d8daef;\"> in the world of s</span><span style=\"background-color:#eadbd8;\">ynthetic s</span><span style=\"background-color:#eadbd8;\">ynthesis of different</span><span style=\"background-color:#fae5d3;\"> aspects; </span><span style=\"background-color:#d8daef;\">and<br>the in</span>fin<span style=\"background-color:#ecf3cf;\">ite might </span><span style=\"background-color:#d8daef;\">be admitted, </span><span style=\"background-color:#ebdef0;\">declared that i</span>f I ag<span style=\"background-color:#e2d7d5;\">reet with </span>matt<span style=\"background-color:#e5e8e8;\">er,<br>that w</span>hen, blindles<span style=\"background-color:#d6dbdf;\">s we fall </span><span style=\"background-color:#d4e6f1;\">into a store and </span>ca<span style=\"background-color:#edebd0;\">se. But<br>the</span><span style=\"background-color:#eadbd8;\">refore, the prop</span><span style=\"background-color:#d8daef;\">osition of </span>Eg<span style=\"background-color:#e2d7d5;\">o, in the </span>answ<span style=\"background-color:#eadbd8;\">er synthesis</span><br><span style=\"background-color:#eadbd8;\">of the synthesis of the </span><span style=\"background-color:#d8daef;\">parts, it </span><span style=\"background-color:#d0ece7;\">does not exist be</span>yond li<span style=\"background-color:#d4e6e1;\">ne,<br>although they </span>c"
      ],
      "text/plain": [
       "<IPython.core.display.HTML object>"
      ]
     },
     "metadata": {},
     "output_type": "display_data"
    },
    {
     "data": {
      "text/html": [
       "<small><p style=\"text-align:right;\">Sources: <span style=\"background-color:#eadbd8;\">Friedrich Nietzsche: The Will to Power, Books I and II</span>, <span style=\"background-color:#d8daef;\">Georg Wilhelm Hegel: The History of Philosophy: Volume 3 of 3</span>, <span style=\"background-color:#d6dbdf;\">FL7</span>, <span style=\"background-color:#e5e8e8;\">Immanuel Kant: The Critique of Practical Reason</span>, <span style=\"background-color:#e2d7d5;\">Friedrich Nietzsche: The Joyful Wisdom</span>, <span style=\"background-color:#d4e6f1;\">Immanuel Kant: Kant's Critique of Judgement</span>, <span style=\"background-color:#fae5d3;\">FL9</span>, <span style=\"background-color:#ecf3cf;\">Georg Wilhelm Hegel: Hegel's Lectures on the History of Philosophy: Vol. 2 of 3</span>, <span style=\"background-color:#d8daef;\">Friedrich Nietzsche: Thoughts out of Season, Part One</span>, <span style=\"background-color:#eadbd8;\">Immanuel Kant: The Critique of Pure Reason</span>, <span style=\"background-color:#ebdef0;\">FL14</span>, <span style=\"background-color:#d4e6f1;\">FL6</span>, <span style=\"background-color:#edebd0;\">Immanuel Kant: Kant's Prolegomena</span>, <span style=\"background-color:#d0ece7;\">Friedrich Nietzsche: Early Greek Philosophy & Other Essays</span>, <span style=\"background-color:#d4e6e1;\">Immanuel Kant: Fundamental Principles of the Metaphysic of Morals</span></p></small>"
      ],
      "text/plain": [
       "<IPython.core.display.HTML object>"
      ]
     },
     "metadata": {},
     "output_type": "display_data"
    },
    {
     "name": "stdout",
     "output_type": "stream",
     "text": [
      "-------------------------------------------\n",
      "step 16750: train loss1 3.1354, train loss2 3.1260, time 1.524 sec/iter\n",
      "Sample: --------temperature: 0.75 ---------\n",
      "Prompt: what is the difference between good and evil? \n"
     ]
    },
    {
     "data": {
      "text/html": [
       "<span style=\"background-color:#d6eaf8;\">what is the difference between </span><span style=\"background-color:#ebdef0;\">good and evil? </span>If<span style=\"background-color:#fae5d3;\"> for what ar</span><span style=\"background-color:#d8daef;\">e the results of the </span><span style=\"background-color:#d4efdf;\">buddhas, you</span><span style=\"background-color:#eadbd8;\"> are content</span><span style=\"background-color:#edebd0;\">ional, they </span><span style=\"background-color:#e2d7d5;\">must not be ab</span><span style=\"background-color:#d6dbdf;\">le to do this practice</span><span style=\"background-color:#d8daef;\"> it, and it is </span><span style=\"background-color:#d6dbdf;\">not necessarily in</span><span style=\"background-color:#d8daef;\">tention. W</span><span style=\"background-color:#d6dbdf;\">e just let </span><span style=\"background-color:#fdebd0;\">yourself have </span>no bad –<span style=\"background-color:#e2d7d5;\"> if they do not s</span>top or<span style=\"background-color:#d6dbdf;\"> go wrong </span><span style=\"background-color:#d8daef;\">last long. </span><span style=\"background-color:#ecf3cf;\">I shall try to pr</span><span style=\"background-color:#d4efdf;\">actice with t</span>ost my arm. Let’s pour oppocampulsion-<span style=\"background-color:#d8daef;\">scorns the </span><span style=\"background-color:#eadbd8;\">seduction </span><span style=\"background-color:#eadbd8;\">I shall try to </span><span style=\"background-color:#eadbd8;\">indicate the n</span>umber of X<span style=\"background-color:#e2d7d5;\"> for saying</span><span style=\"background-color:#f6ddcc;\">, I want not just </span><span style=\"background-color:#ebdef0;\">after the sent</span><span style=\"background-color:#d4efdf;\">ence, but it is i</span><span style=\"background-color:#ebdef0;\">mportant for </span>me a pre<span style=\"background-color:#edebd0;\">decision mak</span>"
      ],
      "text/plain": [
       "<IPython.core.display.HTML object>"
      ]
     },
     "metadata": {},
     "output_type": "display_data"
    },
    {
     "data": {
      "text/html": [
       "<small><p style=\"text-align:right;\">Sources: <span style=\"background-color:#d6eaf8;\">FL5</span>, <span style=\"background-color:#ebdef0;\">Friedrich Nietzsche: The Will to Power, Books III and IV</span>, <span style=\"background-color:#fae5d3;\">FL9</span>, <span style=\"background-color:#d8daef;\">Georg Wilhelm Hegel: The History of Philosophy: Volume 3 of 3</span>, <span style=\"background-color:#d4efdf;\">FL3</span>, <span style=\"background-color:#eadbd8;\">Friedrich Nietzsche: The Will to Power, Books I and II</span>, <span style=\"background-color:#edebd0;\">FL17</span>, <span style=\"background-color:#e2d7d5;\">FL16</span>, <span style=\"background-color:#d6dbdf;\">FL7</span>, <span style=\"background-color:#d8daef;\">Friedrich Nietzsche: Thoughts out of Season, Part One</span>, <span style=\"background-color:#fdebd0;\">FL10</span>, <span style=\"background-color:#e2d7d5;\">Friedrich Nietzsche: The Joyful Wisdom</span>, <span style=\"background-color:#ecf3cf;\">FL2</span>, <span style=\"background-color:#eadbd8;\">FL15</span>, <span style=\"background-color:#f6ddcc;\">FL8</span>, <span style=\"background-color:#d4efdf;\">Georg Wilhelm Hegel: Hegel's Lectures on the History of Philosophy: Vol. 1 of 3</span>, <span style=\"background-color:#edebd0;\">FL1</span></p></small>"
      ],
      "text/plain": [
       "<IPython.core.display.HTML object>"
      ]
     },
     "metadata": {},
     "output_type": "display_data"
    },
    {
     "name": "stdout",
     "output_type": "stream",
     "text": [
      "-------------------------------------------\n",
      "step 17000: train loss1 3.0860, train loss2 3.0957, time 1.586 sec/iter\n",
      "Sample: --------temperature: 0.75 ---------\n",
      "Prompt: How did everything come into existence? \n"
     ]
    },
    {
     "data": {
      "text/html": [
       "How<span style=\"background-color:#e2d7d5;\"> did everything </span><span style=\"background-color:#d8daef;\">come into existence</span><span style=\"background-color:#fae5d3;\">? And if o</span><span style=\"background-color:#ebdef0;\">ur body is</span><span style=\"background-color:#eadbd8;\">, we look on</span>ly our<span style=\"background-color:#ecf3cf;\"> inhabit, </span><span style=\"background-color:#ecf3cf;\">it comes about</span>!<span style=\"background-color:#d6dbdf;\"> If we get </span><span style=\"background-color:#ebdef0;\">rid ourselves </span><span style=\"background-color:#d8daef;\">into the realm of the </span><span style=\"background-color:#d6eaf8;\">natural fl</span><span style=\"background-color:#e2d7d5;\">exibility i</span><span style=\"background-color:#f6ddcc;\">n body or the pa</span><span style=\"background-color:#d8daef;\">st, which </span><span style=\"background-color:#d6dbdf;\">lies through </span><span style=\"background-color:#ecf3cf;\">our bodies and our </span>past act<span style=\"background-color:#d6dbdf;\">us, so the </span><span style=\"background-color:#d4e6f1;\">body who has th</span><span style=\"background-color:#d4efdf;\">e world that we </span><span style=\"background-color:#ebdef0;\">have contrived</span>. The pin<span style=\"background-color:#ecf3cf;\">or of about te</span>mpora<span style=\"background-color:#eadbd8;\">l past time</span><span style=\"background-color:#eadbd8;\">s we do not know </span><span style=\"background-color:#d6eaf8;\">whether we w</span>ere hur<span style=\"background-color:#ecf3cf;\">t to our b</span><span style=\"background-color:#d4e6f1;\">odies could be </span>ver<span style=\"background-color:#ebdef0;\">y too well tha</span>n w<span style=\"background-color:#ecf3cf;\">e live to </span><span style=\"background-color:#d4efdf;\">ourselves ou</span><span style=\"background-color:#ebdef0;\">r lives. Who</span><span style=\"background-color:#d8daef;\"> would not a</span><span style=\"background-color:#ebdef0;\">version to</span>p or have us? If "
      ],
      "text/plain": [
       "<IPython.core.display.HTML object>"
      ]
     },
     "metadata": {},
     "output_type": "display_data"
    },
    {
     "data": {
      "text/html": [
       "<small><p style=\"text-align:right;\">Sources: <span style=\"background-color:#e2d7d5;\">Friedrich Nietzsche: Thus Spake Zarathustra</span>, <span style=\"background-color:#d8daef;\">Georg Wilhelm Hegel: The History of Philosophy: Volume 3 of 3</span>, <span style=\"background-color:#fae5d3;\">FL9</span>, <span style=\"background-color:#ebdef0;\">Friedrich Nietzsche: Beyond Good and Evil</span>, <span style=\"background-color:#eadbd8;\">Immanuel Kant: The Critique of Pure Reason</span>, <span style=\"background-color:#ecf3cf;\">FL2</span>, <span style=\"background-color:#ecf3cf;\">Georg Wilhelm Hegel: Hegel's Lectures on the History of Philosophy: Vol. 2 of 3</span>, <span style=\"background-color:#d6dbdf;\">FL7</span>, <span style=\"background-color:#ebdef0;\">Friedrich Nietzsche: The Will to Power, Books III and IV</span>, <span style=\"background-color:#d6eaf8;\">FL5</span>, <span style=\"background-color:#e2d7d5;\">Friedrich Nietzsche: The Joyful Wisdom</span>, <span style=\"background-color:#f6ddcc;\">FL8</span>, <span style=\"background-color:#d6dbdf;\">Friedrich Nietzsche: Thoughts Out of Season, Part 2</span>, <span style=\"background-color:#d4e6f1;\">FL6</span>, <span style=\"background-color:#d4efdf;\">Georg Wilhelm Hegel: Hegel's Lectures on the History of Philosophy: Vol. 1 of 3</span>, <span style=\"background-color:#d6eaf8;\">Immanuel Kant: Perpetual Peace</span></p></small>"
      ],
      "text/plain": [
       "<IPython.core.display.HTML object>"
      ]
     },
     "metadata": {},
     "output_type": "display_data"
    },
    {
     "name": "stdout",
     "output_type": "stream",
     "text": [
      "-------------------------------------------\n",
      "Iteration: 17212/17250/1000000"
     ]
    }
   ],
   "source": [
    "dt0 = time.time()\n",
    "print(\"training...\")\n",
    "gen_id = 0\n",
    "inputs = [\"what is the difference between good and evil? \", \"How did everything come into existence? \", \"What was the beginning of time? \", \"How are physics, quantum-mechanics and consciousness related? \", \"How to attain complete self-awareness? \", \"What is the nature of reality? \", \"How be a good human being? \"]\n",
    "for iter in range(start_iter, params['max_iterations']):\n",
    "    print(f\"\\rIteration: {iter+1:5d}/{((iter+1)//params['sample_every_n_iterations']+1)*params['sample_every_n_iterations']}/{params['max_iterations']}\", end=\"\", flush=True)\n",
    "    # every once in a while evaluate the loss on train and val sets\n",
    "    if (iter + 1) % params['sample_every_n_iterations'] == 0 or iter == params['max_iterations'] - 1:\n",
    "        dt = time.time()\n",
    "        print(f\"\\rloss eval\", end=\"\", flush=True)\n",
    "        losses = estimate_loss(device)\n",
    "        print(\n",
    "            f\"step {iter+1}: train loss1 {losses['train']:.4f}, train loss2 {losses['val']:.4f}, time {(dt-dt0)/params['sample_every_n_iterations']:.3f} sec/iter\"\n",
    "        )\n",
    "        print(\"Sample: \", end=\"\", flush=True)\n",
    "        for temperature in [0.75]:\n",
    "            print(f\"--------temperature: {temperature} ---------\")\n",
    "            prompt = inputs[gen_id%len(inputs)]\n",
    "            gen_id += 1\n",
    "            print(f\"Prompt: {prompt}\")\n",
    "            generate_sample(td, device, input=prompt, toks=100, temperature=temperature)\n",
    "        print(\"-------------------------------------------\")\n",
    "        dt0 = time.time()\n",
    "    # sample a batch of data\n",
    "    xb, yb = get_torch_batch(td, params['batch_size'], device, \"train\")\n",
    "    # evaluate the loss\n",
    "    do_train_step(xb, yb)\n",
    "    start_iter = iter"
   ]
  },
  {
   "cell_type": "code",
   "execution_count": 62,
   "metadata": {
    "collapsed": true,
    "id": "M0EJVYX2MdR7",
    "jupyter": {
     "outputs_hidden": true
    },
    "tags": []
   },
   "outputs": [
    {
     "data": {
      "text/html": [
       "H<span style=\"background-color:#d6dbdf;\">ow to attain </span><span style=\"background-color:#d0ece7;\">complete self-a</span><span style=\"background-color:#ecf3cf;\">wareness? </span><span style=\"background-color:#edebd0;\">What fact </span><span style=\"background-color:#ecf3cf;\">there is no clear </span><span style=\"background-color:#edebd0;\">space between the con</span><span style=\"background-color:#e5e8e8;\">tents of the </span><span style=\"background-color:#d4e6e1;\">inner space of </span><span style=\"background-color:#fae5d3;\">a blue and </span><span style=\"background-color:#edebd0;\">liberation by </span><span style=\"background-color:#ecf3cf;\">the separate s</span><span style=\"background-color:#ecf3cf;\">ubstance is m</span><span style=\"background-color:#eadbd8;\">ade by any</span><span style=\"background-color:#ecf3cf;\"> human comp</span><span style=\"background-color:#fae5d3;\">osite phenomenon</span><span style=\"background-color:#eadbd8;\"> of cognition? </span><span style=\"background-color:#ecf3cf;\">A single p</span><span style=\"background-color:#d4e6f1;\">erson who o</span>bserv<span style=\"background-color:#d0ece7;\">es at once a</span>g<span style=\"background-color:#d4e6f1;\">ain observed </span>“horse”<span style=\"background-color:#d6eaf8;\">, “like the </span><span style=\"background-color:#d4efdf;\">color white</span><span style=\"background-color:#d4efdf;\">s them into s</span><span style=\"background-color:#d8daef;\">omething else than </span><span style=\"background-color:#d4e6f1;\">the otherwise </span><span style=\"background-color:#d8daef;\">until that </span><span style=\"background-color:#d8daef;\">consciousness is se</span><span style=\"background-color:#ecf3cf;\">parate from it</span><span style=\"background-color:#d4efdf;\">self, that is </span><span style=\"background-color:#d8daef;\">established as a </span><span style=\"background-color:#fae5d3;\">“The pot i</span>t-knowing”<span style=\"background-color:#fae5d3;\"> of seeing. </span><span style=\"background-color:#ecf3cf;\">Likewise, when </span><span style=\"background-color:#eadbd8;\">sees the mat</span>eri<span style=\"background-color:#ecf3cf;\">al creates </span><span style=\"background-color:#d8daef;\">the object is not </span>re<span style=\"background-color:#ecf3cf;\">ally used a</span><span style=\"background-color:#ebdef0;\">s a matter or </span>a<span style=\"background-color:#e2d7d5;\"> long as the f</span><span style=\"background-color:#ebdef0;\">undamental o</span><span style=\"background-color:#d4efdf;\">uter, inner, and se</span><span style=\"background-color:#fae5d3;\">nse consciousness, </span><span style=\"background-color:#e2d7d5;\">it is only the p</span><span style=\"background-color:#ecf3cf;\">redicates a</span><span style=\"background-color:#fae5d3;\"> single nature. </span>C<span style=\"background-color:#d4e6f1;\">ausal self-</span><span style=\"background-color:#edebd0;\">ion of consciousness, b</span><span style=\"background-color:#ecf3cf;\">ecause of the ex</span><span style=\"background-color:#edebd0;\">periences, n</span><span style=\"background-color:#d4efdf;\">ames like the </span><span style=\"background-color:#e5e8e8;\">latter self-con</span><span style=\"background-color:#d8daef;\">tradictory; </span><span style=\"background-color:#d4efdf;\">“In short, </span>gra<span style=\"background-color:#fdebd0;\">nted state o</span>r some <span style=\"background-color:#d6eaf8;\">piphenomena</span><span style=\"background-color:#ebdef0;\">, the actual </span><span style=\"background-color:#fae5d3;\">realism, e</span><span style=\"background-color:#fae5d3;\">xperiences.<br><br>Because </span><span style=\"background-color:#ebdef0;\">of the way in which the </span><span style=\"background-color:#ebdef0;\">unconscious f</span><span style=\"background-color:#fae5d3;\">unction cannot be a</span><span style=\"background-color:#d8daef;\">pprehended o</span><span style=\"background-color:#ecf3cf;\">therwise than on</span><span style=\"background-color:#fae5d3;\">e phenomena are d</span><span style=\"background-color:#d4e6f1;\">ifferent. Reductionist</span> in my both agen<span style=\"background-color:#d4e6f1;\">t, intentional</span> featuresfieldstatesphenomenphenomen<span style=\"background-color:#e2d7d5;\">reality sta</span>tes statesaspects"
      ],
      "text/plain": [
       "<IPython.core.display.HTML object>"
      ]
     },
     "metadata": {},
     "output_type": "display_data"
    },
    {
     "data": {
      "text/html": [
       "<small><p style=\"text-align:right;\">Sources: <span style=\"background-color:#d6dbdf;\">FL7</span>, <span style=\"background-color:#d0ece7;\">Friedrich Nietzsche: Early Greek Philosophy & Other Essays</span>, <span style=\"background-color:#ecf3cf;\">FL2</span>, <span style=\"background-color:#edebd0;\">FL1</span>, <span style=\"background-color:#edebd0;\">FL17</span>, <span style=\"background-color:#e5e8e8;\">Immanuel Kant: The Critique of Practical Reason</span>, <span style=\"background-color:#d4e6e1;\">FL12</span>, <span style=\"background-color:#fae5d3;\">FL9</span>, <span style=\"background-color:#ecf3cf;\">Georg Wilhelm Hegel: Hegel's Lectures on the History of Philosophy: Vol. 2 of 3</span>, <span style=\"background-color:#eadbd8;\">FL15</span>, <span style=\"background-color:#eadbd8;\">Immanuel Kant: The Critique of Pure Reason</span>, <span style=\"background-color:#d4e6f1;\">FL6</span>, <span style=\"background-color:#d4e6f1;\">Immanuel Kant: Kant's Critique of Judgement</span>, <span style=\"background-color:#d6eaf8;\">FL5</span>, <span style=\"background-color:#d4efdf;\">FL3</span>, <span style=\"background-color:#d8daef;\">Georg Wilhelm Hegel: The History of Philosophy: Volume 3 of 3</span>, <span style=\"background-color:#d8daef;\">Friedrich Nietzsche: Thoughts out of Season, Part One</span>, <span style=\"background-color:#d4efdf;\">Georg Wilhelm Hegel: Hegel's Lectures on the History of Philosophy: Vol. 1 of 3</span>, <span style=\"background-color:#ebdef0;\">Friedrich Nietzsche: The Will to Power, Books III and IV</span>, <span style=\"background-color:#e2d7d5;\">FL16</span>, <span style=\"background-color:#fdebd0;\">FL10</span>, <span style=\"background-color:#e2d7d5;\">Friedrich Nietzsche: The Joyful Wisdom</span></p></small>"
      ],
      "text/plain": [
       "<IPython.core.display.HTML object>"
      ]
     },
     "metadata": {},
     "output_type": "display_data"
    },
    {
     "data": {
      "text/plain": [
       "'How to attain complete self-awareness? What fact there is no clear space between the contents of the inner space of a blue and liberation by the separate substance is made by any human composite phenomenon of cognition? A single person who observes at once again observed “horse”, “like the color whites them into something else than the otherwise until that consciousness is separate from itself, that is established as a “The pot it-knowing” of seeing. Likewise, when sees the material creates the object is not really used as a matter or a long as the fundamental outer, inner, and sense consciousness, it is only the predicates a single nature. Causal self-ion of consciousness, because of the experiences, names like the latter self-contradictory; “In short, granted state or some piphenomena, the actual realism, experiences.\\n\\nBecause of the way in which the unconscious function cannot be apprehended otherwise than one phenomena are different. Reductionist in my both agent, intentional featuresfieldstatesphenomenphenomenreality states statesaspects'"
      ]
     },
     "execution_count": 62,
     "metadata": {},
     "output_type": "execute_result"
    }
   ],
   "source": [
    "generate_sample(td, device, input=\"How to attain complete self-awareness? \", toks=192, temperature=0.75)"
   ]
  },
  {
   "cell_type": "code",
   "execution_count": null,
   "metadata": {
    "id": "othN-Vnt5EZT",
    "jupyter": {
     "source_hidden": true
    },
    "tags": []
   },
   "outputs": [],
   "source": []
  }
 ],
 "metadata": {
  "@webio": {
   "lastCommId": "ec3a4d2d-8063-4bfd-a4a2-ee070d3272f7",
   "lastKernelId": "1acc2b74-f51e-477b-910a-a5519dad53b9"
  },
  "accelerator": "GPU",
  "colab": {
   "collapsed_sections": [
    "VmWbteSFQtfq",
    "yWE_ZZMKEARV"
   ],
   "include_colab_link": true,
   "machine_shape": "hm",
   "name": "torch_transformer_poet.ipynb",
   "provenance": []
  },
  "gpuClass": "premium",
  "kernelspec": {
   "display_name": "Python 3 (ipykernel)",
   "language": "python",
   "name": "python3"
  },
  "language_info": {
   "codemirror_mode": {
    "name": "ipython",
    "version": 3
   },
   "file_extension": ".py",
   "mimetype": "text/x-python",
   "name": "python",
   "nbconvert_exporter": "python",
   "pygments_lexer": "ipython3",
   "version": "3.10.8"
  }
 },
 "nbformat": 4,
 "nbformat_minor": 4
}
