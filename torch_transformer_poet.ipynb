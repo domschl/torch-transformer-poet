{
  "cells": [
    {
      "cell_type": "markdown",
      "metadata": {
        "id": "view-in-github",
        "colab_type": "text"
      },
      "source": [
        "<a href=\"https://colab.research.google.com/github/domschl/torch-transformer-poet/blob/main/torch_transformer_poet.ipynb\" target=\"_parent\"><img src=\"https://colab.research.google.com/assets/colab-badge.svg\" alt=\"Open In Colab\"/></a>"
      ]
    },
    {
      "cell_type": "markdown",
      "metadata": {
        "id": "fEXNOWhCEAPk"
      },
      "source": [
        "# Torch-Transformer-Poet"
      ]
    },
    {
      "cell_type": "markdown",
      "metadata": {
        "id": "DabS0VZ-1Zp0"
      },
      "source": [
        "Please review [ml-indie-tools](https://github.com/domschl/ml-indie-tools), a collection machine learning tools that provides support for more environment indepent code. It will access your Google Drive when using with Google Colab."
      ]
    },
    {
      "cell_type": "code",
      "execution_count": 1,
      "metadata": {
        "colab": {
          "base_uri": "https://localhost:8080/"
        },
        "id": "gF-7qFzMdnN1",
        "outputId": "92e9fbf9-81fe-45a3-b2be-560c00648bc5"
      },
      "outputs": [
        {
          "output_type": "stream",
          "name": "stdout",
          "text": [
            "Collecting ml-indie-tools\n",
            "  Downloading ml_indie_tools-0.9.0-py3-none-any.whl (52 kB)\n",
            "\u001b[2K     \u001b[90m━━━━━━━━━━━━━━━━━━━━━━━━━━━━━━━━━━━━━━━━\u001b[0m \u001b[32m52.9/52.9 kB\u001b[0m \u001b[31m1.3 MB/s\u001b[0m eta \u001b[36m0:00:00\u001b[0m\n",
            "\u001b[?25hInstalling collected packages: ml-indie-tools\n",
            "Successfully installed ml-indie-tools-0.9.0\n"
          ]
        }
      ],
      "source": [
        "!pip install -U ml-indie-tools"
      ]
    },
    {
      "cell_type": "code",
      "execution_count": 2,
      "metadata": {
        "colab": {
          "base_uri": "https://localhost:8080/"
        },
        "id": "jtpy59Yq-Qfz",
        "outputId": "2109a03c-219d-4636-fc11-16db5f1c3104"
      },
      "outputs": [
        {
          "output_type": "stream",
          "name": "stdout",
          "text": [
            "While default colab is still stuck with pytorch 1.13, we update to 2.0 using PIP. This can be removed, once Colab arrives in the presence.\n",
            "Requirement already satisfied: torch in /usr/local/lib/python3.10/dist-packages (2.1.0+cu118)\n",
            "Requirement already satisfied: filelock in /usr/local/lib/python3.10/dist-packages (from torch) (3.13.1)\n",
            "Requirement already satisfied: typing-extensions in /usr/local/lib/python3.10/dist-packages (from torch) (4.5.0)\n",
            "Requirement already satisfied: sympy in /usr/local/lib/python3.10/dist-packages (from torch) (1.12)\n",
            "Requirement already satisfied: networkx in /usr/local/lib/python3.10/dist-packages (from torch) (3.2.1)\n",
            "Requirement already satisfied: jinja2 in /usr/local/lib/python3.10/dist-packages (from torch) (3.1.2)\n",
            "Requirement already satisfied: fsspec in /usr/local/lib/python3.10/dist-packages (from torch) (2023.6.0)\n",
            "Requirement already satisfied: triton==2.1.0 in /usr/local/lib/python3.10/dist-packages (from torch) (2.1.0)\n",
            "Requirement already satisfied: MarkupSafe>=2.0 in /usr/local/lib/python3.10/dist-packages (from jinja2->torch) (2.1.3)\n",
            "Requirement already satisfied: mpmath>=0.19 in /usr/local/lib/python3.10/dist-packages (from sympy->torch) (1.3.0)\n"
          ]
        }
      ],
      "source": [
        "import sys\n",
        "if 'google.colab' in sys.modules:\n",
        "    print(\"While default colab is still stuck with pytorch 1.13, we update to 2.0 using PIP. This can be removed, once Colab arrives in the presence.\")\n",
        "    !pip install -U torch"
      ]
    },
    {
      "cell_type": "code",
      "execution_count": 3,
      "metadata": {
        "id": "EgLLjG4yQtft"
      },
      "outputs": [],
      "source": [
        "import logging\n",
        "import os\n",
        "import copy\n",
        "import json\n",
        "import time\n",
        "import datetime\n",
        "import random\n",
        "import numpy as np\n",
        "\n",
        "import torch"
      ]
    },
    {
      "cell_type": "code",
      "execution_count": 4,
      "metadata": {
        "id": "U5T4m6earb1e"
      },
      "outputs": [],
      "source": [
        "from ml_indie_tools.env_tools import MLEnv\n",
        "from ml_indie_tools.Gutenberg_Dataset import Gutenberg_Dataset\n",
        "from ml_indie_tools.Text_Dataset import Text_Dataset\n",
        "\n",
        "from ml_indie_tools.Calibre_Dataset import Calibre_Dataset\n",
        "from ml_indie_tools.Folder_Dataset import Folder_Dataset\n",
        "\n",
        "from ml_indie_tools.pytorch_custom_layers import MultiHeadSelfAttention\n",
        "from ml_indie_tools.pytorch_tr_compr_layers import MultiHeadSelfAttentionWithCompression, MultiHeadSelfAttentionWithCompressionState\n",
        "import ml_indie_tools.pytorch_meta_tools as MJ"
      ]
    },
    {
      "cell_type": "code",
      "execution_count": 5,
      "metadata": {
        "id": "jVcwvURB5EZN"
      },
      "outputs": [],
      "source": [
        "logging.basicConfig(level=logging.INFO)\n",
        "log = logging"
      ]
    },
    {
      "cell_type": "markdown",
      "metadata": {
        "id": "VmWbteSFQtfq"
      },
      "source": [
        "## Preliminary\n",
        "\n",
        "A pytorch deep multi-head attention model for text generation following Andrej Karpathy's [video-lecture-ng](https://github.com/karpathy/ng-video-lecture/blob/master/gpt.py)\n",
        "\n",
        "This code can use either CPU, GPU, or Apple Silicon. Google Colab is supported too, select the corresponding Colab runtime (menu: **`Runtime / Change runtime type`**)"
      ]
    },
    {
      "cell_type": "markdown",
      "metadata": {
        "id": "sfZg31sMEAP1"
      },
      "source": [
        "## 0. Environment"
      ]
    },
    {
      "cell_type": "code",
      "execution_count": 6,
      "metadata": {
        "id": "llPw84PkEAP2",
        "outputId": "70a162b8-5331-426b-f10e-1183a6df14bf",
        "colab": {
          "base_uri": "https://localhost:8080/",
          "height": 35
        }
      },
      "outputs": [
        {
          "output_type": "execute_result",
          "data": {
            "text/plain": [
              "'OS: Linux, Python: 3.10.12, Colab Jupyter Notebook Pytorch: 2.1.0+cu118, GPU: Tesla V100-SXM2-16GB (2MiB / 16384MiB), CPU'"
            ],
            "application/vnd.google.colaboratory.intrinsic+json": {
              "type": "string"
            }
          },
          "metadata": {},
          "execution_count": 6
        }
      ],
      "source": [
        "cached_batch_data = None   # Do regenerate time-consuming training data, if aleady cached.\n",
        "\n",
        "ml_env = MLEnv(platform='pt', accelerator='fastest')\n",
        "ml_env.describe()"
      ]
    },
    {
      "cell_type": "markdown",
      "metadata": {
        "id": "7Qg3ZPBmC8kO"
      },
      "source": [
        "## 1. Project configuration"
      ]
    },
    {
      "cell_type": "code",
      "execution_count": 10,
      "metadata": {
        "id": "t-TP3Pnsrb1f",
        "outputId": "820bf8f4-3917-4413-a8a2-2b904a5b3822",
        "colab": {
          "base_uri": "https://localhost:8080/"
        }
      },
      "outputs": [
        {
          "output_type": "stream",
          "name": "stdout",
          "text": [
            "Root path (all projects) : /content/drive/My Drive (This will be '.' (current dir) for local projects, and a google drive path for Colab)\n",
            "Project path             : /content/drive/My Drive/Colab Notebooks/neo_philosophers (Changes to the file system happen only below this project path\n",
            "Model path (snapshots)   : /content/drive/My Drive/Colab Notebooks/neo_philosophers/model/ngpt_COMP_neo_philosophers_v2_pt (Model weights and snapshots are stored here)\n",
            "Data path (training data): /content/drive/My Drive/Colab Notebooks/neo_philosophers/data (Training data will be downloaded here)\n",
            "Log dir (tensorboard)    : ./logs (it doesn't work to put logs on gdrive due to caching, hence local dir)\n"
          ]
        }
      ],
      "source": [
        "# project_name = 'women_writers'\n",
        "model_cpu = None\n",
        "project_name='neo_philosophers'\n",
        "model_name=f'ngpt_COMP_{project_name}_v2_pt'\n",
        "\n",
        "use_preprocessed_data = True\n",
        "use_existing_model_from_checkpoint = True\n",
        "\n",
        "# NOTICE: This will request access to Google Drive, if running on Google Colab. Google Drive is used to store snapshots\n",
        "# training data. See project ml-indie-tools: https://github.com/domschl/ml-indie-tools\n",
        "#\n",
        "# Note: you need to allow popups in your browser for COLAB, otherwise you won't see the google-drive login box, and drive access will fail!\n",
        "\n",
        "root_path, project_path, model_path, data_path, log_path = ml_env.init_paths(project_name=project_name, model_name=model_name)\n",
        "\n",
        "device = \"cuda\" if torch.cuda.is_available() else \"cpu\"\n",
        "device = torch.device(\"mps\") if torch.backends.mps.is_available() else device\n",
        "\n",
        "print(f\"Root path (all projects) : {root_path} (This will be '.' (current dir) for local projects, and a google drive path for Colab)\")\n",
        "print(f\"Project path             : {project_path} (Changes to the file system happen only below this project path\")\n",
        "print(f\"Model path (snapshots)   : {model_path} (Model weights and snapshots are stored here)\")\n",
        "print(f\"Data path (training data): {data_path} (Training data will be downloaded here)\")\n",
        "print(f\"Log dir (tensorboard)    : {log_path} (it doesn't work to put logs on gdrive due to caching, hence local dir)\")"
      ]
    },
    {
      "cell_type": "markdown",
      "metadata": {
        "id": "AIkcYcEuQtfx"
      },
      "source": [
        "##  2.1 Text data from Project Gutenberg\n",
        "\n",
        "`Text_Dataset` and `Gutenberg_Dataset` classes: libraries for training,\n",
        "encoding, batch generation, and formatted source display. It read some\n",
        "books from Project Gutenberg and supports creation of training batches.\n",
        "The output functions support highlighting to allow to compare generated\n",
        "texts with the actual sources to help to identify identical (memorized)\n",
        "parts."
      ]
    },
    {
      "cell_type": "code",
      "execution_count": 11,
      "metadata": {
        "id": "HjkelBcNO5WV"
      },
      "outputs": [],
      "source": [
        "logging.basicConfig(level=logging.INFO)\n",
        "use_dark_mode=False # Set to false for white background. HTML-text-compare uses background-colorization to identify different sources. Those background colors are dependent on the theme type."
      ]
    },
    {
      "cell_type": "code",
      "execution_count": 12,
      "metadata": {
        "id": "BF8eyWnCrb1h"
      },
      "outputs": [],
      "source": [
        "token_file = os.path.join(data_path,f\"{project_name}_tokens.json\")\n",
        "if use_preprocessed_data is True:\n",
        "    if os.path.exists(token_file):\n",
        "        td = Text_Dataset()\n",
        "        td.load_tokenizer(token_file)\n",
        "    else:\n",
        "        use_preprocessed_data = False"
      ]
    },
    {
      "cell_type": "code",
      "execution_count": 14,
      "metadata": {
        "id": "C66X7ynnrb1h",
        "outputId": "3f20c119-b882-48ea-fb15-180a347b508d",
        "colab": {
          "base_uri": "https://localhost:8080/"
        }
      },
      "outputs": [
        {
          "output_type": "stream",
          "name": "stdout",
          "text": [
            "20 matching books found with search {'author': ['Plato'], 'title': ['Timaeus', 'Critias', 'Symposium'], 'language': ['english']}.\n",
            "0: The History of Philosophy: Volume 3 of 3 - Georg Wilhelm Hegel, 58169\n",
            "1: The Will to Power, Books III and IV - Friedrich Nietzsche, 52915\n",
            "2: The Will to Power, Books I and II - Friedrich Nietzsche, 52914\n",
            "3: The Joyful Wisdom - Friedrich Nietzsche, 52881\n",
            "4: Kant's Prolegomena - Immanuel Kant, 52821\n",
            "5: Hegel's Lectures on the History of Philosophy: Vol. 2 of 3 - Georg Wilhelm Hegel, 51636\n",
            "6: Hegel's Lectures on the History of Philosophy: Vol. 1 of 3 - Georg Wilhelm Hegel, 51635\n",
            "7: Early Greek Philosophy & Other Essays - Friedrich Nietzsche, 51548\n",
            "8: Perpetual Peace - Immanuel Kant, 50922\n",
            "9: Kant's Critique of Judgement - Immanuel Kant, 48433\n",
            "10: Thoughts Out of Season, Part 2 - Friedrich Nietzsche, 38226\n",
            "11: Human, All Too Human - Friedrich Nietzsche, 38145\n",
            "12: We Philologists, Volume 8 of 18 - Friedrich Nietzsche, 18267\n",
            "13: The Metaphysical Elements of Ethics - Immanuel Kant, 5684\n",
            "14: The Critique of Practical Reason - Immanuel Kant, 5683\n",
            "15: Fundamental Principles of the Metaphysic of Morals - Immanuel Kant, 5682\n",
            "16: Thoughts out of Season, Part One - Friedrich Nietzsche, 5652\n",
            "17: Beyond Good and Evil - Friedrich Nietzsche, 4363\n",
            "18: The Critique of Pure Reason - Immanuel Kant, 4280\n",
            "19: Thus Spake Zarathustra - Friedrich Nietzsche, 1998\n",
            "Using:\n",
            "1: The History of Philosophy: Volume 3 of 3 - Georg Wilhelm Hegel\n",
            "2: The Will to Power, Books III and IV - Friedrich Nietzsche\n",
            "3: The Will to Power, Books I and II - Friedrich Nietzsche\n",
            "4: The Joyful Wisdom - Friedrich Nietzsche\n",
            "5: Kant's Prolegomena - Immanuel Kant\n",
            "6: Hegel's Lectures on the History of Philosophy: Vol. 2 of 3 - Georg Wilhelm Hegel\n",
            "7: Hegel's Lectures on the History of Philosophy: Vol. 1 of 3 - Georg Wilhelm Hegel\n",
            "8: Early Greek Philosophy & Other Essays - Friedrich Nietzsche\n",
            "9: Perpetual Peace - Immanuel Kant\n",
            "10: Kant's Critique of Judgement - Immanuel Kant\n",
            "11: Thoughts Out of Season, Part 2 - Friedrich Nietzsche\n",
            "12: Human, All Too Human - Friedrich Nietzsche\n",
            "13: We Philologists, Volume 8 of 18 - Friedrich Nietzsche\n",
            "14: The Metaphysical Elements of Ethics - Immanuel Kant\n",
            "15: The Critique of Practical Reason - Immanuel Kant\n",
            "16: Fundamental Principles of the Metaphysic of Morals - Immanuel Kant\n",
            "17: Thoughts out of Season, Part One - Friedrich Nietzsche\n",
            "18: Beyond Good and Evil - Friedrich Nietzsche\n",
            "19: The Critique of Pure Reason - Immanuel Kant\n",
            "20: Thus Spake Zarathustra - Friedrich Nietzsche\n"
          ]
        }
      ],
      "source": [
        "if use_preprocessed_data is False:\n",
        "    cache_dir = os.path.join(data_path, 'gutenberg_cache')\n",
        "    gd = Gutenberg_Dataset(cache_dir=cache_dir)\n",
        "\n",
        "    if project_name == 'women_writers':  # sample searches\n",
        "        search_spec= {\n",
        "            \"author\": [\"Emily Brontë\", \"Jane Austen\", \"Virginia Woolf\"],\n",
        "            \"language\": [\"english\"]\n",
        "        }\n",
        "        book_list=gd.search(search_spec)\n",
        "    elif project_name == 'neo_philosophers':\n",
        "        search_spec = {\n",
        "            \"author\": [\"Immanuel Kant\", \"Friedrich Nietzsche\", \"Wilhelm Hegel\"],\n",
        "            \"language\": [\"english\"]\n",
        "        }\n",
        "        book_list=gd.search(search_spec)\n",
        "        search_spec = {\n",
        "            \"author\": [\"Plato\"],\n",
        "            \"title\": [\"Timaeus\", \"Critias\", \"Symposium\"],\n",
        "            \"language\": [\"english\"]\n",
        "        }\n",
        "        book_list+=gd.search(search_spec)\n",
        "\n",
        "    book_cnt = len(book_list)\n",
        "    print(f\"{book_cnt} matching books found with search {search_spec}.\")\n",
        "    if book_cnt<40:\n",
        "        # Note: please verify that book_cnt is 'reasonable'. If you plan to use a large number of texts,\n",
        "        # consider [mirroring Gutenberg](https://github.com/domschl/ml-indie-tools#working-with-a-local-mirror-of-project-gutenberg)\n",
        "        book_list = gd.insert_book_texts(book_list, download_count_limit=book_cnt)\n",
        "    else:\n",
        "        logging.error(\"Please verify your book_list, a large number of books is scheduled for download. ABORTED.\")\n",
        "\n",
        "    for i in range(len(book_list)):\n",
        "        print(f\"{i}: {book_list[i]['title']} - {book_list[i]['author']}, {book_list[i]['ebook_id']}\")\n",
        "\n",
        "    if project_name == 'women_writers':\n",
        "        select = (\"Bennett\", \"1342\", \"5670\", \"1245\", \"161\", \"141\", \"121\", \"105\", \"Susan\", \"Wuthering\", \"Emma\", \"Voyage\")  # List unique single-words from title or ebook_id to select a given book\n",
        "        sub_book_list = [book_list[i] for i in range(len(book_list)) if not set([book_list[i]['ebook_id']]+book_list[i]['title'].split(' ')).isdisjoint(set(select))]\n",
        "    else:\n",
        "        sub_book_list = book_list\n",
        "\n",
        "    print(\"Using:\")\n",
        "    for i in range(len(sub_book_list)):\n",
        "        print(f\"{i+1}: {sub_book_list[i]['title']} - {sub_book_list[i]['author']}\")\n",
        "\n",
        "    td = Text_Dataset(sub_book_list)"
      ]
    },
    {
      "cell_type": "markdown",
      "metadata": {
        "id": "dxNIc7gL9UNg"
      },
      "source": [
        "## 2.2 Additional training material for folder `{data_path}/local_texts`\n",
        "\n",
        "If the folder {data_path} (defined above) contains a sub-folder `local_texts`, and it contains\n",
        "files of structure `<title> - <author> - <language>.txt`, then they are added to the training data.\n",
        "Sample filename: `\"./data/local_texts/works-of-shakespeare - William Shakespeare - English.txt\"`.\n",
        "The titles of those documents are referenced via numeric aliases to preserve privacy on non-public data."
      ]
    },
    {
      "cell_type": "code",
      "execution_count": 17,
      "metadata": {
        "id": "1NYdjlW65EZP"
      },
      "outputs": [],
      "source": [
        "if use_preprocessed_data is False:\n",
        "    use_local_folder_data = False\n",
        "    if use_local_folder_data:\n",
        "        local_texts = os.path.join(data_path, 'local_texts')\n",
        "        fd = Folder_Dataset()\n",
        "        fd.load_index(local_texts, use_aliases=False)\n",
        "        td.load_texts(fd.records)"
      ]
    },
    {
      "cell_type": "markdown",
      "metadata": {
        "id": "GSm4f9NSC8kQ"
      },
      "source": [
        "## 2.3 Tokenize data"
      ]
    },
    {
      "cell_type": "code",
      "execution_count": null,
      "metadata": {
        "id": "bsyBjqFyC8kQ",
        "outputId": "641520f6-85af-4c9e-93f2-42d4f55b1372",
        "colab": {
          "base_uri": "https://localhost:8080/"
        }
      },
      "outputs": [
        {
          "output_type": "stream",
          "name": "stdout",
          "text": [
            "\n",
            "Starting NGRAM tokinizer with token length from 1..6 with a max of 50000 unique tokens,\n",
            "this can take considerable time...\n"
          ]
        }
      ],
      "source": [
        "if use_preprocessed_data is False:\n",
        "    MAX_TOKENS = 50000  # This becomes vocab_size\n",
        "    MAX_NGRAM_LEN = 6   # Max length of a token\n",
        "\n",
        "    print(\"\")\n",
        "    print(f\"Starting NGRAM tokinizer with token length from 1..{MAX_NGRAM_LEN} with a max of {MAX_TOKENS} unique tokens,\")\n",
        "    print(\"this can take considerable time...\")\n",
        "\n",
        "    td.init_tokenizer(tokenizer='ngram', max_ngrams=MAX_NGRAM_LEN, max_tokens=MAX_TOKENS)\n",
        "    td.save_tokenizer(token_file)"
      ]
    },
    {
      "cell_type": "markdown",
      "metadata": {
        "id": "MG03WA_yC8kR"
      },
      "source": [
        "## 3. Model metadata"
      ]
    },
    {
      "cell_type": "code",
      "execution_count": null,
      "metadata": {
        "id": "UPMwIn2gC8kR",
        "outputId": "45b64441-98a7-4560-d870-78dbb1fa5971"
      },
      "outputs": [
        {
          "name": "stderr",
          "output_type": "stream",
          "text": [
            "INFO:root:Last checkpoint saved_params[joint_state_training]: 0 != current_params[joint_state_training]: 4,\n",
            "INFO:root:cannot import incompatible model. Put key in `updatable_keys` list, if irrelevant.\n",
            "INFO:root:Incompatible metadata.\n",
            "INFO:root:Metadata incompatible, starting with default state: {'meta_name_template': '{mhsa_layers}x{heads}x{units}x{vocab_size}', 'mhsa_layers': 7, 'heads': 8, 'causal': True, 'linear_non_linearity': 'relu', 'linear_yoke_hidden_index': 3, 'linear_yoke_size': 96, 'linear_yoke_residual': True, 'stateful': True, 'joint_state_training': 4, 'dropout': 0.1, 'vocab_size': 20000, 'sequence_len': 128, 'embedding_size': 128, 'test_iterations': 10, 'batch_size': 256, 'learning_rate': 0.0002, 'sample_every_n_iterations': 256, 'sample_size': 100, 'save_every_n_iterations': 256, 'max_iterations': 1000000}\n"
          ]
        },
        {
          "name": "stdout",
          "output_type": "stream",
          "text": [
            "Last checkpoint saved_params[joint_state_training]: 0 != current_params[joint_state_training]: 4,\n",
            "cannot import incompatible model. Put key in `updatable_keys` list, if irrelevant.\n",
            "Incompatible metadata.\n"
          ]
        }
      ],
      "source": [
        "params = None\n",
        "updatable_keys=['learning_rate', 'batch_size', 'current_epoch', 'current_loss', 'stateful',\n",
        "                 'sample_every_n_iterations', 'sample_size', 'save_every_n_iterations']\n",
        "attn_layers = 7\n",
        "embs = 128\n",
        "linear_yoke_hidden_index = 3  # Set to -1, if no yoke is wanted (standard transformer model)\n",
        "linear_yoke_size = 96\n",
        "\n",
        "params = { # Multi-head self-attention\n",
        "        'meta_name_template': '{mhsa_layers}x{heads}x{units}x{vocab_size}',\n",
        "\n",
        "        'mhsa_layers': attn_layers,\n",
        "        'heads': 8,\n",
        "        'causal': True,  # Use causal self-attention\n",
        "        'linear_non_linearity': 'relu',  # relurelu: use additional relu for state gating\n",
        "        'linear_yoke_hidden_index': linear_yoke_hidden_index,  # no residual for non-default hidden_size only\n",
        "        'linear_yoke_size': linear_yoke_size,\n",
        "        'linear_yoke_residual': True,\n",
        "        'stateful': True,\n",
        "        'joint_state_training': 4,  # use consequtive training samples with shared state for 32 chars\n",
        "        'dropout': 0.1,\n",
        "        'vocab_size': td.get_unique_token_count(),\n",
        "        'sequence_len': embs,\n",
        "        'embedding_size': embs,\n",
        "        'test_iterations': 10,  # number of epocs for loss estimation\n",
        "\n",
        "        'batch_size': 256,\n",
        "        'learning_rate': 0.0002,\n",
        "        'sample_every_n_iterations': 256,\n",
        "        'sample_size': 100,\n",
        "        'save_every_n_iterations': 256,\n",
        "\n",
        "        'max_iterations': 1000000  # maximum number of training iterations\n",
        "    }\n",
        "if params['stateful'] is False:\n",
        "    params['joint_state_training'] = 0\n",
        "if use_existing_model_from_checkpoint is True:\n",
        "    model_file_path = MJ.get_model_filename(model_path)\n",
        "    params = MJ.load_model_metadata_from_checkpoint(params, updatable_keys, model_file_path, device=device, log=log) # torch.device('cpu'))\n",
        "if params == None or use_existing_model_from_checkpoint is False:\n",
        "    use_existing_model_from_checkpoint = False\n",
        "# print(params)"
      ]
    },
    {
      "cell_type": "markdown",
      "metadata": {
        "id": "5U1R4yDlC8kR"
      },
      "source": [
        "## 4. Batch handling"
      ]
    },
    {
      "cell_type": "code",
      "execution_count": null,
      "metadata": {
        "id": "f7_tc2Lirb1i",
        "outputId": "06f5aa4e-a2a2-40ce-c0fc-ff412fda0a9e"
      },
      "outputs": [
        {
          "name": "stdout",
          "output_type": "stream",
          "text": [
            "5797543 records\n"
          ]
        }
      ],
      "source": [
        "td.init_getitem(sample_type='encoded', sample_length=params['sequence_len']+1+params['joint_state_training'], content_stepping=1)\n",
        "num_records = len(td)\n",
        "print(f\"{num_records} records\")"
      ]
    },
    {
      "cell_type": "code",
      "execution_count": null,
      "metadata": {
        "id": "zZbbsNm0cOeW"
      },
      "outputs": [],
      "source": [
        "def get_sample_sub_batch(sample_batch, batch_size, sub_index=0):\n",
        "    for i in range(batch_size):\n",
        "        Xi = sample_batch[sub_index:-1-params['joint_state_training']+sub_index]\n",
        "        if params['joint_state_training']+sub_index == 0:\n",
        "            yi = sample_batch[sub_index+1:]\n",
        "        else:\n",
        "            yi = sample_batch[sub_index+1:-params['joint_state_training']+sub_index]\n",
        "        if i==0:\n",
        "            # smpX=np.array(Xi, dtype=np.float32)\n",
        "            smpX=np.array(Xi, dtype=np.int32)\n",
        "            smpy=np.array(yi, dtype=np.int32)\n",
        "        else:\n",
        "            # smpX = np.vstack((smpX, np.array(Xi, dtype=np.float32)))\n",
        "            smpX = np.vstack((smpX, np.array(Xi, dtype=np.int32)))\n",
        "            smpy = np.vstack((smpy, np.array(yi, dtype=np.int32)))\n",
        "    return np.array(smpX), np.array(smpy)\n",
        "\n",
        "def get_sample_batch(td, batch_size):\n",
        "    sample_batch = td.get_random_item()\n",
        "    return get_sample_sub_batch(sample_batch, batch_size)"
      ]
    },
    {
      "cell_type": "code",
      "execution_count": null,
      "metadata": {
        "id": "jY3hUuhQYzdT",
        "outputId": "88c3bf66-c865-4cd0-8b51-31a706113074"
      },
      "outputs": [
        {
          "name": "stdout",
          "output_type": "stream",
          "text": [
            "num_batches = 22646\n"
          ]
        }
      ],
      "source": [
        "num_batches = num_records // params['batch_size']\n",
        "print(f\"num_batches = {num_batches}\")"
      ]
    },
    {
      "cell_type": "code",
      "execution_count": null,
      "metadata": {
        "id": "bgVHUkbhdK9y"
      },
      "outputs": [],
      "source": [
        "sample_data = None\n",
        "\n",
        "def get_torch_subbatch(td, batch_size, device, split=None, sub_index=0):\n",
        "    global sample_data\n",
        "    if sub_index==0:\n",
        "        sample_data = td.get_random_item()\n",
        "    x, y = get_sample_sub_batch(sample_data, batch_size, sub_index)\n",
        "    tx = torch.tensor(x, dtype=torch.long).to(device)\n",
        "    tx.requires_grad = False\n",
        "    ty = torch.tensor(y, dtype=torch.long).to(device)\n",
        "    ty.requires_grad = False\n",
        "    return tx, ty\n",
        "\n",
        "def get_torch_batch(td, batch_size, device, split=None):\n",
        "    x, y = get_sample_batch(td, batch_size)\n",
        "    tx = torch.tensor(x, dtype=torch.long).to(device)\n",
        "    tx.requires_grad = False\n",
        "    ty = torch.tensor(y, dtype=torch.long).to(device)\n",
        "    ty.requires_grad = False\n",
        "    return tx, ty\n",
        "\n",
        "def get_zero_state(batch_size, sequence_len, hidden_size, device):\n",
        "    zstate = torch.zeros(batch_size, sequence_len, hidden_size, device=device)\n",
        "    zstate.requires_grad = False\n",
        "    return zstate"
      ]
    },
    {
      "cell_type": "markdown",
      "metadata": {
        "id": "Pvbi6kjXC8kS"
      },
      "source": [
        "## 5. Loss and training helpers"
      ]
    },
    {
      "cell_type": "code",
      "execution_count": null,
      "metadata": {
        "id": "pdaulm1VdK9z",
        "outputId": "9ef1358e-03c4-44a6-951c-f470ad32ecd2"
      },
      "outputs": [
        {
          "name": "stdout",
          "output_type": "stream",
          "text": [
            "creating model...\n"
          ]
        },
        {
          "name": "stderr",
          "output_type": "stream",
          "text": [
            "INFO:root:Last checkpoint saved_params[joint_state_training]: 0 != current_params[joint_state_training]: 4,\n",
            "INFO:root:cannot import incompatible model. Put key in `updatable_keys` list, if irrelevant.\n",
            "INFO:root:Incompatible metadata.\n",
            "INFO:root:Metadata incompatible, starting new model with default params {'meta_name_template': '{mhsa_layers}x{heads}x{units}x{vocab_size}', 'mhsa_layers': 7, 'heads': 8, 'causal': True, 'linear_non_linearity': 'relu', 'linear_yoke_hidden_index': 3, 'linear_yoke_size': 96, 'linear_yoke_residual': True, 'stateful': True, 'joint_state_training': 4, 'dropout': 0.1, 'vocab_size': 20000, 'sequence_len': 128, 'embedding_size': 128, 'test_iterations': 10, 'batch_size': 256, 'learning_rate': 0.0002, 'sample_every_n_iterations': 256, 'sample_size': 100, 'save_every_n_iterations': 256, 'max_iterations': 1000000}.\n"
          ]
        },
        {
          "name": "stdout",
          "output_type": "stream",
          "text": [
            "Last checkpoint saved_params[joint_state_training]: 0 != current_params[joint_state_training]: 4,\n",
            "cannot import incompatible model. Put key in `updatable_keys` list, if irrelevant.\n",
            "Incompatible metadata.\n",
            "Metadata incompatible, starting from scratch.\n",
            "MultiHeadSelfAttentionWithCompressionState(\n",
            "  (token_embedding_table): Embedding(20000, 128)\n",
            "  (position_embedding_table): Embedding(128, 128)\n",
            "  (ln_f): LayerNorm((128,), eps=1e-05, elementwise_affine=True)\n",
            "  (lm_head): Linear(in_features=128, out_features=20000, bias=True)\n",
            ")\n",
            "5.15664 M parameters\n"
          ]
        }
      ],
      "source": [
        "print(\"creating model...\")\n",
        "try:\n",
        "    # Colab + torch 2 -> lots of garbage.\n",
        "    if model is not None:\n",
        "        del model\n",
        "except:\n",
        "    pass\n",
        "\n",
        "\n",
        "if params['stateful'] is False:\n",
        "    if params['linear_yoke_hidden_index'] == -1:\n",
        "        model = MultiHeadSelfAttention(vocab_size=params['vocab_size'], embedding_size=params['embedding_size'],\n",
        "                                       sequence_len=params['sequence_len'], dropout=params['dropout'],\n",
        "                                       num_heads=params['heads'], num_layers=params['mhsa_layers'],\n",
        "                                       causal=params['causal'], device=device)\n",
        "    else:\n",
        "        model = MultiHeadSelfAttentionWithCompression(vocab_size=params['vocab_size'], embedding_size=params['embedding_size'],\n",
        "                                       sequence_len=params['sequence_len'], dropout=params['dropout'],\n",
        "                                       num_heads=params['heads'], num_layers=params['mhsa_layers'],\n",
        "                                       causal=params['causal'], linear_non_linearity=params['linear_non_linearity'],\n",
        "                                       linear_yoke=(params['linear_yoke_hidden_index'], params['linear_yoke_size'], params['linear_yoke_residual']),\n",
        "                                       device=device)\n",
        "else:\n",
        "    model = MultiHeadSelfAttentionWithCompressionState(vocab_size=params['vocab_size'], embedding_size=params['embedding_size'],\n",
        "                                       sequence_len=params['sequence_len'], dropout=params['dropout'],\n",
        "                                       num_heads=params['heads'], num_layers=params['mhsa_layers'],\n",
        "                                       causal=params['causal'], linear_non_linearity=params['linear_non_linearity'],\n",
        "                                       linear_yoke=(params['linear_yoke_hidden_index'], params['linear_yoke_size'], params['linear_yoke_residual']),\n",
        "                                       device=device)\n",
        "\n",
        "optimizer = torch.optim.AdamW(model.parameters(), lr=params['learning_rate'])\n",
        "\n",
        "model = model.to(device)\n",
        "if use_existing_model_from_checkpoint is True:\n",
        "    params_load = MJ.load_checkpoint(params, model, optimizer, file_path=model_file_path, updatable_keys=updatable_keys, device=device, log=log) # torch.device(\"cpu\"))\n",
        "    if params_load is not None:\n",
        "        params = params_load\n",
        "model = model.to(device)\n",
        "for state in optimizer.state.values():\n",
        "    for k, v in state.items():\n",
        "        if isinstance(v, torch.Tensor):\n",
        "            state[k] = v.to(device)\n",
        "\n",
        "if device == 'cuda':\n",
        "    print(\"Compiling...\")\n",
        "    model = torch.compile(model)\n",
        "    print(\"Compile ok.\")\n",
        "    try:\n",
        "        torch.set_float32_matmul_precision('high')\n",
        "    except:\n",
        "        print(\"Seems no tensor cores for that.\")\n",
        "if 'current_epoch' in params:\n",
        "    ep = params['current_epoch']\n",
        "else:\n",
        "    ep=0\n",
        "if 'current_loss' in params:\n",
        "    ls = params['current_loss']\n",
        "else:\n",
        "    ls=0\n",
        "\n",
        "if ep==0 and ls==0:\n",
        "    start_iter = 0\n",
        "else:\n",
        "    start_iter = ep\n",
        "    current_loss = ls\n",
        "\n",
        "# print the number of parameters in the model\n",
        "print(model)\n",
        "print(sum(p.numel() for p in model.parameters()) / 1e6, \"M parameters\")"
      ]
    },
    {
      "cell_type": "code",
      "execution_count": null,
      "metadata": {
        "id": "QnMCWf5AZn1-"
      },
      "outputs": [],
      "source": [
        "@torch.no_grad()\n",
        "def estimate_loss(device):\n",
        "    # XXX: this does take data for train and val from SAME pool!\n",
        "    out = {}\n",
        "    model.eval()\n",
        "    for split in [\"train\", \"val\"]:\n",
        "        losses = torch.zeros(params['test_iterations'])\n",
        "        for k in range(params['test_iterations']):\n",
        "            print(\".\", end=\"\", flush=True)\n",
        "            X, Y = get_torch_batch(td, params['batch_size'], device, split)\n",
        "            if params['stateful'] is False:\n",
        "                logits, loss = model(X, Y)\n",
        "            else:\n",
        "                state = get_zero_state(X.shape[0], params['sequence_len'], params['linear_yoke_size'], device)\n",
        "                logits, loss, state = model(X, Y, state=state)\n",
        "                # print(k, state)\n",
        "            losses[k] = loss.item()\n",
        "        out[split] = losses.mean()\n",
        "    model.train()\n",
        "    print(\"\\r\", end=\"\", flush=True)\n",
        "    mloss = (out['train']+out['val'])/2.0\n",
        "    return mloss\n",
        "\n",
        "def generate_sample(td, device, prompt=' ', toks=100, state=None, temperature=1.0, top_k=None, pad=False):\n",
        "    # generate from the model\n",
        "    # context = torch.zeros((1, 1), dtype=torch.long, device=device)\n",
        "    model.eval()\n",
        "    if pad is True:\n",
        "        while len(prompt)<params['sequence_len']:\n",
        "            if len(prompt)==params['sequence_len']-1:\n",
        "                prompt = '\\n' + prompt\n",
        "            else:\n",
        "                prompt = ' ' + prompt\n",
        "    context = torch.tensor([td.encode(prompt)]).to(device)\n",
        "    if params['stateful'] is False:\n",
        "        answer = model.generate(context, max_new_tokens=toks, temperature=temperature, top_k=top_k)\n",
        "    else:\n",
        "        if state is None:\n",
        "            print()\n",
        "            print(\"Please don't put state=None in generator!\")\n",
        "            state = get_zero_state(1, params['sequence_len'], params['linear_yoke_size'], device)\n",
        "        answer, state = model.generate(idx=context, max_new_tokens=toks, state=state, temperature=temperature, top_k=top_k)\n",
        "\n",
        "    txt = td.decode(answer[0].tolist())\n",
        "    # Identify memorisation of text by highlighting verbatim quotes from sources\n",
        "    # that are longer than 10 chars. HTML colorcoded output for source identification:\n",
        "    td.source_highlight(txt, min_quote_size=10, dark_mode=False, display_ref_anchor=False)\n",
        "    if params['stateful'] is False:\n",
        "        return txt\n",
        "    else:\n",
        "        return txt, state"
      ]
    },
    {
      "cell_type": "code",
      "execution_count": null,
      "metadata": {
        "id": "N2uWm6CTC8kT"
      },
      "outputs": [],
      "source": [
        "# @torch.jit.script\n",
        "# @torch.compile\n",
        "def do_train_step(xb, yb, device, state=None):\n",
        "    model.train()\n",
        "    if params['stateful'] is False:\n",
        "        logits, loss = model(xb, yb)\n",
        "    else:\n",
        "        # XXX continuous training date & state!\n",
        "        if state is None:\n",
        "            state = get_zero_state(xb.shape[0], params['sequence_len'], params['linear_yoke_size'], device)\n",
        "        logits, loss, state = model(xb, targets=yb, state=state)\n",
        "    optimizer.zero_grad(set_to_none=True)\n",
        "    loss.backward()\n",
        "    optimizer.step()\n",
        "    if params['stateful'] is True:\n",
        "        return state.detach()\n",
        "    else:\n",
        "        return None"
      ]
    },
    {
      "cell_type": "code",
      "execution_count": null,
      "metadata": {
        "id": "aZpMI7_iMdR6",
        "tags": [],
        "outputId": "e81fdf33-8f63-4625-9375-8c5e9897802d"
      },
      "outputs": [
        {
          "name": "stdout",
          "output_type": "stream",
          "text": [
            "training, start at 2023-04-02 19:51:56...\n",
            "Iteration:   110[1/4]/256/1000000"
          ]
        }
      ],
      "source": [
        "dt0 = time.time()\n",
        "sdt = datetime.datetime.now().strftime(\"%Y-%m-%d %H:%M:%S\")\n",
        "print(f\"training, start at {sdt}...\")\n",
        "gen_id = 0\n",
        "iter_bench = 1\n",
        "current_loss = estimate_loss(device)\n",
        "if params['stateful'] is True:\n",
        "    gen_state = get_zero_state(1, params['sequence_len'], params['linear_yoke_size'], device=device)\n",
        "else:\n",
        "    gen_state = None\n",
        "inputs = [\"What is the difference between good and evil? The difference \", \"How did everything come into existence? The origin \", \"What was at the beginning of time? Time itself \", \"How are physics, quantum-mechanics and consciousness related? The relation between \", \"How to attain complete self-awareness? Complete \", \"What is the nature of reality? The nature \", \"How be a good human being? A human \"]\n",
        "for iter in range(start_iter, params['max_iterations']):\n",
        "    print(f\"\\rIteration: {iter+1:5d}/{((iter+1)//params['sample_every_n_iterations']+1)*params['sample_every_n_iterations']}/{params['max_iterations']}\", end=\"\", flush=True)\n",
        "    # every once in a while evaluate the loss on train and val sets\n",
        "    if (iter + 1) % params['sample_every_n_iterations'] == 0 or iter == params['max_iterations'] - 1:\n",
        "        dt = time.time()\n",
        "        print(f\"\\rloss eval\", end=\"\", flush=True)\n",
        "        current_loss = estimate_loss(device)\n",
        "        print(\n",
        "            f\"step {iter+1}: train loss {current_loss:.4f}, time {(dt-dt0)/iter_bench:.3f} sec/iter\"\n",
        "        )\n",
        "        iter_bench = 1\n",
        "        sdt = datetime.datetime.now().strftime(\"%Y-%m-%d %H:%M:%S\")\n",
        "        print(f\"Sample at {sdt}:\", flush=True)\n",
        "        for temperature in [0.75]:\n",
        "            print(f\"--------temperature: {temperature} ---------\")\n",
        "            prompt = inputs[gen_id%len(inputs)]\n",
        "            print(f\"Prompt: {prompt}\")\n",
        "            generate_sample(td=td, device=device, prompt=prompt, toks=params['sample_size'], state=gen_state, temperature=temperature, top_k=16)\n",
        "        print(\"-------------------------------------------\")\n",
        "        gen_id += 1\n",
        "        dt0 = time.time()\n",
        "\n",
        "    if params['stateful'] is False or params['joint_state_training'] == 0:\n",
        "        xb, yb = get_torch_batch(td, params['batch_size'], device, \"train\")\n",
        "        do_train_step(xb, yb, device=device)\n",
        "    else:\n",
        "        state = get_zero_state(1, params['sequence_len'], params['linear_yoke_size'], device=device)\n",
        "        state.requires_grad = False\n",
        "        for i in range(params['joint_state_training']):\n",
        "            print(f\"\\rIteration: {iter+1:5d}[{i+1}/{params['joint_state_training']}]/{((iter+1)//params['sample_every_n_iterations']+1)*params['sample_every_n_iterations']}/{params['max_iterations']}\", end=\"\", flush=True)\n",
        "            xb, yb = get_torch_subbatch(td, params['batch_size'], device, \"train\", i)\n",
        "            state = do_train_step(xb, yb, device=device, state=state)\n",
        "            # state = torch.cat((state, state[:, -1:, :]), dim=1)\n",
        "            # state[:, -1, :] = 0\n",
        "            state = torch.cat((state[:, :1, :], state), dim=1)\n",
        "            # state[:, 0, :] = 0\n",
        "            state = state [:, -params['sequence_len']:, :]\n",
        "            # state.detach() # requires_grad = False\n",
        "\n",
        "    start_iter = iter\n",
        "    iter_bench += 1\n",
        "    if (iter+1)%params['save_every_n_iterations'] == 0:\n",
        "        MJ.save_checkpoint(params, model, optimizer, iter, current_loss, file_path=model_file_path, log=log)\n",
        ""
      ]
    },
    {
      "cell_type": "code",
      "execution_count": null,
      "metadata": {
        "id": "othN-Vnt5EZT",
        "tags": []
      },
      "outputs": [],
      "source": [
        "# for t in [0.5, 1.5]:\n",
        "#     print(f\"------Temperature {t}--------\")\n",
        "#     generate_sample(td, device, prompt=\"How are consciousness and quantum mechanics related?\", toks=150, temperature=t, top_k=16)"
      ]
    },
    {
      "cell_type": "code",
      "execution_count": null,
      "metadata": {
        "id": "5UNG5wWhC8kU",
        "tags": []
      },
      "outputs": [],
      "source": []
    },
    {
      "cell_type": "code",
      "execution_count": null,
      "metadata": {
        "id": "ADm9ycuA2ik7"
      },
      "outputs": [],
      "source": []
    }
  ],
  "metadata": {
    "@webio": {
      "lastCommId": "ec3a4d2d-8063-4bfd-a4a2-ee070d3272f7",
      "lastKernelId": "1acc2b74-f51e-477b-910a-a5519dad53b9"
    },
    "accelerator": "GPU",
    "colab": {
      "collapsed_sections": [
        "VmWbteSFQtfq",
        "yWE_ZZMKEARV"
      ],
      "name": "torch_transformer_poet.ipynb",
      "provenance": [],
      "gpuType": "V100",
      "gpuClass": "premium",
      "include_colab_link": true
    },
    "kernelspec": {
      "display_name": "Python 3 (ipykernel)",
      "language": "python",
      "name": "python3"
    },
    "language_info": {
      "codemirror_mode": {
        "name": "ipython",
        "version": 3
      },
      "file_extension": ".py",
      "mimetype": "text/x-python",
      "name": "python",
      "nbconvert_exporter": "python",
      "pygments_lexer": "ipython3",
      "version": "3.11.2"
    }
  },
  "nbformat": 4,
  "nbformat_minor": 0
}