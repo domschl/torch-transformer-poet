{
  "cells": [
    {
      "cell_type": "markdown",
      "metadata": {
        "id": "view-in-github",
        "colab_type": "text"
      },
      "source": [
        "<a href=\"https://colab.research.google.com/github/domschl/torch-transformer-poet/blob/main/torch_transformer_poet.ipynb\" target=\"_parent\"><img src=\"https://colab.research.google.com/assets/colab-badge.svg\" alt=\"Open In Colab\"/></a>"
      ]
    },
    {
      "cell_type": "markdown",
      "metadata": {
        "id": "fEXNOWhCEAPk"
      },
      "source": [
        "# Torch-Transformer-Poet"
      ]
    },
    {
      "cell_type": "markdown",
      "metadata": {
        "id": "DabS0VZ-1Zp0"
      },
      "source": [
        "Please review [ml-indie-tools](https://github.com/domschl/ml-indie-tools), a collection machine learning tools that provides support for more environment indepent code. It will access your Google Drive when using with Google Colab."
      ]
    },
    {
      "cell_type": "code",
      "execution_count": 1,
      "metadata": {
        "id": "jtpy59Yq-Qfz",
        "colab": {
          "base_uri": "https://localhost:8080/"
        },
        "outputId": "50a8bc5a-8e5c-40b4-c030-2b8b6125d7f9"
      },
      "outputs": [
        {
          "output_type": "stream",
          "name": "stdout",
          "text": [
            "Looking in indexes: https://pypi.org/simple, https://us-python.pkg.dev/colab-wheels/public/simple/\n",
            "Requirement already satisfied: ml-indie-tools in /usr/local/lib/python3.8/dist-packages (0.4.3)\n"
          ]
        }
      ],
      "source": [
        "!pip install -U ml-indie-tools"
      ]
    },
    {
      "cell_type": "code",
      "execution_count": 2,
      "metadata": {
        "id": "EgLLjG4yQtft"
      },
      "outputs": [],
      "source": [
        "import logging\n",
        "import os\n",
        "import sys\n",
        "import copy\n",
        "import json\n",
        "import time\n",
        "import datetime\n",
        "import random\n",
        "import numpy as np\n",
        "\n",
        "import torch"
      ]
    },
    {
      "cell_type": "code",
      "execution_count": 3,
      "metadata": {
        "id": "U5T4m6earb1e"
      },
      "outputs": [],
      "source": [
        "from ml_indie_tools.env_tools import MLEnv\n",
        "from ml_indie_tools.Gutenberg_Dataset import Gutenberg_Dataset\n",
        "from ml_indie_tools.Text_Dataset import Text_Dataset\n",
        "\n",
        "from ml_indie_tools.pytorch_custom_layers import MultiHeadSelfAttention"
      ]
    },
    {
      "cell_type": "markdown",
      "metadata": {
        "id": "VmWbteSFQtfq"
      },
      "source": [
        "## Preliminary\n",
        "\n",
        "A pytorch deep multi-head attention model for text generation following Andrej Karpathy's [video-lecture-ng](https://github.com/karpathy/ng-video-lecture/blob/master/gpt.py)\n",
        "\n",
        "This code can use either CPU, GPU, or Apple Silicon. Google Colab is supported too, select the corresponding Colab runtime (menu: **`Runtime / Change runtime type`**)"
      ]
    },
    {
      "cell_type": "markdown",
      "metadata": {
        "id": "sfZg31sMEAP1"
      },
      "source": [
        "## 0. Environment"
      ]
    },
    {
      "cell_type": "code",
      "execution_count": 4,
      "metadata": {
        "id": "llPw84PkEAP2",
        "colab": {
          "base_uri": "https://localhost:8080/",
          "height": 52
        },
        "outputId": "ff25ccf6-c239-41de-a7f0-7ec52479e629"
      },
      "outputs": [
        {
          "output_type": "execute_result",
          "data": {
            "text/plain": [
              "'OS: Linux, Python: 3.8.10, Colab Jupyter Notebook Pytorch: 1.13.1+cu116, GPU: NVIDIA A100-SXM4-40GB (3MiB / 40960MiB), CPU'"
            ],
            "application/vnd.google.colaboratory.intrinsic+json": {
              "type": "string"
            }
          },
          "metadata": {},
          "execution_count": 4
        }
      ],
      "source": [
        "cached_batch_data = None   # Do regenerate time-consuming training data, if aleady cached.\n",
        "\n",
        "ml_env = MLEnv(platform='pt', accelerator='fastest')\n",
        "ml_env.describe()"
      ]
    },
    {
      "cell_type": "code",
      "execution_count": 5,
      "metadata": {
        "id": "t-TP3Pnsrb1f",
        "colab": {
          "base_uri": "https://localhost:8080/"
        },
        "outputId": "dc5d64e6-5d01-4863-ad0f-0c3d1a27d5de"
      },
      "outputs": [
        {
          "output_type": "stream",
          "name": "stdout",
          "text": [
            "Root path (all projects) : /content/drive/My Drive (This will be '.' (current dir) for local projects, and a google drive path for Colab)\n",
            "Project path             : /content/drive/My Drive/Colab Notebooks/philosophers (Changes to the file system happen only below this project path\n",
            "Model path (snapshots)   : /content/drive/My Drive/Colab Notebooks/philosophers/model/ngpt_philosophers_v1_pt (Model weights and snapshots are stored here)\n",
            "Data path (training data): /content/drive/My Drive/Colab Notebooks/philosophers/data (Training data will be downloaded here)\n",
            "Log dir (tensorboard)    : ./logs (it doesn't work to put logs on gdrive due to caching, hence local dir)\n"
          ]
        }
      ],
      "source": [
        "# project_name = 'women_writers'\n",
        "project_name='philosophers'\n",
        "model_name=f'ngpt_{project_name}_v1_pt'\n",
        "\n",
        "# NOTICE: This will request access to Google Drive, if running on Google Colab. Google Drive is used to store snapshots\n",
        "# training data. See project ml-indie-tools: https://github.com/domschl/ml-indie-tools \n",
        "#\n",
        "# Note: you need to allow popups in your browser for COLAB, otherwise you won't see the google-drive login box, and drive access will fail!\n",
        "\n",
        "root_path, project_path, model_path, data_path, log_path = ml_env.init_paths(project_name=project_name, model_name=model_name)\n",
        "\n",
        "print(f\"Root path (all projects) : {root_path} (This will be '.' (current dir) for local projects, and a google drive path for Colab)\")\n",
        "print(f\"Project path             : {project_path} (Changes to the file system happen only below this project path\")\n",
        "print(f\"Model path (snapshots)   : {model_path} (Model weights and snapshots are stored here)\")\n",
        "print(f\"Data path (training data): {data_path} (Training data will be downloaded here)\")\n",
        "print(f\"Log dir (tensorboard)    : {log_path} (it doesn't work to put logs on gdrive due to caching, hence local dir)\")"
      ]
    },
    {
      "cell_type": "markdown",
      "metadata": {
        "id": "AIkcYcEuQtfx"
      },
      "source": [
        "##  1. Text library\n",
        "\n",
        "`Text_Dataset` and `Gutenberg_Dataset` classes: libraries for training, \n",
        "encoding, batch generation, and formatted source display. It read some \n",
        "books from Project Gutenberg and supports creation of training batches. \n",
        "The output functions support highlighting to allow to compare generated \n",
        "texts with the actual sources to help to identify identical (memorized) \n",
        "parts."
      ]
    },
    {
      "cell_type": "code",
      "execution_count": 6,
      "metadata": {
        "id": "HjkelBcNO5WV"
      },
      "outputs": [],
      "source": [
        "use_dark_mode=False # Set to false for white background. HTML-text-compare uses background-colorization to identify different sources. Those background colors are dependent on the theme type."
      ]
    },
    {
      "cell_type": "code",
      "execution_count": 7,
      "metadata": {
        "id": "BF8eyWnCrb1h"
      },
      "outputs": [],
      "source": [
        "logging.basicConfig(level=logging.INFO)\n",
        "cache_dir = os.path.join(data_path, 'gutenberg_cache')\n",
        "gd = Gutenberg_Dataset(cache_dir=cache_dir)"
      ]
    },
    {
      "cell_type": "code",
      "execution_count": 8,
      "metadata": {
        "id": "C66X7ynnrb1h",
        "colab": {
          "base_uri": "https://localhost:8080/"
        },
        "outputId": "d4d70206-b1e2-4008-9f64-c7065e8ff076"
      },
      "outputs": [
        {
          "output_type": "stream",
          "name": "stdout",
          "text": [
            "20 matching books found with search {'author': ['Immanuel Kant', 'Friedrich Nietzsche', 'Wilhelm Hegel'], 'language': ['english']}.\n"
          ]
        }
      ],
      "source": [
        "if project_name == 'women_writers':  # sample searches\n",
        "    search_spec= {\n",
        "        \"author\": [\"Emily Brontë\", \"Jane Austen\", \"Virginia Woolf\"], \n",
        "        \"language\": [\"english\"]\n",
        "    }\n",
        "elif project_name == 'philosophers':\n",
        "    search_spec = {\n",
        "        \"author\": [\"Immanuel Kant\", \"Friedrich Nietzsche\", \"Wilhelm Hegel\"],\n",
        "        \"language\": [\"english\"]\n",
        "    }\n",
        "    \n",
        "book_list=gd.search(search_spec)\n",
        "book_cnt = len(book_list)\n",
        "print(f\"{book_cnt} matching books found with search {search_spec}.\")\n",
        "if book_cnt<40:\n",
        "    # Note: please verify that book_cnt is 'reasonable'. If you plan to use a large number of texts, \n",
        "    # consider [mirroring Gutenberg](https://github.com/domschl/ml-indie-tools#working-with-a-local-mirror-of-project-gutenberg)\n",
        "    book_list = gd.insert_book_texts(book_list, download_count_limit=book_cnt)  \n",
        "else:\n",
        "    logging.error(\"Please verify your book_list, a large number of books is scheduled for download. ABORTED.\")"
      ]
    },
    {
      "cell_type": "code",
      "execution_count": 9,
      "metadata": {
        "id": "MH6_7IU3upOd",
        "colab": {
          "base_uri": "https://localhost:8080/"
        },
        "outputId": "653e8a72-e00f-42be-fe96-d1dd8e0b916e"
      },
      "outputs": [
        {
          "output_type": "stream",
          "name": "stdout",
          "text": [
            "0: The History of Philosophy: Volume 3 of 3 - Georg Wilhelm Hegel, 58169\n",
            "1: The Will to Power, Books III and IV - Friedrich Nietzsche, 52915\n",
            "2: The Will to Power, Books I and II - Friedrich Nietzsche, 52914\n",
            "3: The Joyful Wisdom - Friedrich Nietzsche, 52881\n",
            "4: Kant's Prolegomena - Immanuel Kant, 52821\n",
            "5: Hegel's Lectures on the History of Philosophy: Vol. 2 of 3 - Georg Wilhelm Hegel, 51636\n",
            "6: Hegel's Lectures on the History of Philosophy: Vol. 1 of 3 - Georg Wilhelm Hegel, 51635\n",
            "7: Early Greek Philosophy & Other Essays - Friedrich Nietzsche, 51548\n",
            "8: Perpetual Peace - Immanuel Kant, 50922\n",
            "9: Kant's Critique of Judgement - Immanuel Kant, 48433\n",
            "10: Thoughts Out of Season, Part 2 - Friedrich Nietzsche, 38226\n",
            "11: Human, All Too Human - Friedrich Nietzsche, 38145\n",
            "12: We Philologists, Volume 8 of 18 - Friedrich Nietzsche, 18267\n",
            "13: The Metaphysical Elements of Ethics - Immanuel Kant, 5684\n",
            "14: The Critique of Practical Reason - Immanuel Kant, 5683\n",
            "15: Fundamental Principles of the Metaphysic of Morals - Immanuel Kant, 5682\n",
            "16: Thoughts out of Season, Part One - Friedrich Nietzsche, 5652\n",
            "17: Beyond Good and Evil - Friedrich Nietzsche, 4363\n",
            "18: The Critique of Pure Reason - Immanuel Kant, 4280\n",
            "19: Thus Spake Zarathustra - Friedrich Nietzsche, 1998\n"
          ]
        }
      ],
      "source": [
        "for i in range(len(book_list)):\n",
        "    print(f\"{i}: {book_list[i]['title']} - {book_list[i]['author']}, {book_list[i]['ebook_id']}\")"
      ]
    },
    {
      "cell_type": "code",
      "execution_count": 11,
      "metadata": {
        "id": "2jBH3Z15rb1h",
        "colab": {
          "base_uri": "https://localhost:8080/"
        },
        "outputId": "0eb31da7-5009-47c5-bb6c-af1b7725d6ee"
      },
      "outputs": [
        {
          "output_type": "stream",
          "name": "stdout",
          "text": [
            "Using:\n",
            "1: The History of Philosophy: Volume 3 of 3 - Georg Wilhelm Hegel\n",
            "2: The Will to Power, Books III and IV - Friedrich Nietzsche\n",
            "3: The Will to Power, Books I and II - Friedrich Nietzsche\n",
            "4: The Joyful Wisdom - Friedrich Nietzsche\n",
            "5: Kant's Prolegomena - Immanuel Kant\n",
            "6: Hegel's Lectures on the History of Philosophy: Vol. 2 of 3 - Georg Wilhelm Hegel\n",
            "7: Hegel's Lectures on the History of Philosophy: Vol. 1 of 3 - Georg Wilhelm Hegel\n",
            "8: Early Greek Philosophy & Other Essays - Friedrich Nietzsche\n",
            "9: Perpetual Peace - Immanuel Kant\n",
            "10: Kant's Critique of Judgement - Immanuel Kant\n",
            "11: Thoughts Out of Season, Part 2 - Friedrich Nietzsche\n",
            "12: Human, All Too Human - Friedrich Nietzsche\n",
            "13: We Philologists, Volume 8 of 18 - Friedrich Nietzsche\n",
            "14: The Metaphysical Elements of Ethics - Immanuel Kant\n",
            "15: The Critique of Practical Reason - Immanuel Kant\n",
            "16: Fundamental Principles of the Metaphysic of Morals - Immanuel Kant\n",
            "17: Thoughts out of Season, Part One - Friedrich Nietzsche\n",
            "18: Beyond Good and Evil - Friedrich Nietzsche\n",
            "19: The Critique of Pure Reason - Immanuel Kant\n",
            "20: Thus Spake Zarathustra - Friedrich Nietzsche\n",
            "\n",
            "Starting NGRAM tokinizer with token length from 1..12 with a max of 25000 unique tokens, this can take considerable time...\n"
          ]
        }
      ],
      "source": [
        "MAX_TOKENS = 25000  # This becomes vocab_size\n",
        "MAX_NGRAM_LEN = 12   # Max length of a token\n",
        "\n",
        "if project_name == 'women_writers':\n",
        "    select = (\"Bennett\", \"1342\", \"5670\", \"1245\", \"161\", \"141\", \"121\", \"105\", \"Susan\", \"Wuthering\", \"Emma\", \"Voyage\")  # List unique single-words from title or ebook_id to select a given book\n",
        "    sub_book_list = [book_list[i] for i in range(len(book_list)) if not set([book_list[i]['ebook_id']]+book_list[i]['title'].split(' ')).isdisjoint(set(select))]\n",
        "else:\n",
        "    sub_book_list = book_list\n",
        "    \n",
        "print(\"Using:\")\n",
        "for i in range(len(sub_book_list)):\n",
        "    print(f\"{i+1}: {sub_book_list[i]['title']} - {sub_book_list[i]['author']}\")\n",
        "\n",
        "textlib_dataset = None  # Forces re-caching\n",
        "td = Text_Dataset(sub_book_list)\n",
        "print(\"\")\n",
        "print(f\"Starting NGRAM tokinizer with token length from 1..{MAX_NGRAM_LEN} with a max of {MAX_TOKENS} unique tokens,\")\n",
        "print(\"this can take considerable time...\")\n",
        "td.init_tokenizer(tokenizer='ngram', max_ngrams=MAX_NGRAM_LEN, max_tokens=MAX_TOKENS)\n"
      ]
    },
    {
      "cell_type": "code",
      "execution_count": 12,
      "metadata": {
        "id": "f7_tc2Lirb1i",
        "colab": {
          "base_uri": "https://localhost:8080/"
        },
        "outputId": "56984788-d420-4d83-c292-27dffd36daec"
      },
      "outputs": [
        {
          "output_type": "stream",
          "name": "stdout",
          "text": [
            "2240694 records\n"
          ]
        }
      ],
      "source": [
        "SEQUENCE_LEN = 192\n",
        "# SUB_PROBABILITY = 0.15  # like BERT\n",
        "\n",
        "td.init_getitem(sample_type='encoded', sample_length=SEQUENCE_LEN+1, content_stepping=1)\n",
        "\n",
        "num_records = len(td)\n",
        "\n",
        "print(f\"{num_records} records\")"
      ]
    },
    {
      "cell_type": "code",
      "execution_count": 13,
      "metadata": {
        "id": "zZbbsNm0cOeW"
      },
      "outputs": [],
      "source": [
        "def get_sample_batch(td, batch_size):\n",
        "    # generate a small batch of data of inputs x and targets y\n",
        "    # ix = torch.randint(len(data) - block_size, (batch_size,))\n",
        "    # x = torch.stack([data[i : i + block_size] for i in ix])\n",
        "    # y = torch.stack([data[i + 1 : i + block_size + 1] for i in ix])\n",
        "    # x, y = x.to(device), y.to(device)\n",
        "    # return x, y\n",
        "    for i in range(batch_size):\n",
        "        data = td.get_random_item()\n",
        "        Xi = data[:-1]\n",
        "        yi = data[1:]\n",
        "        if i==0:\n",
        "            # smpX=np.array(Xi, dtype=np.float32)\n",
        "            smpX=np.array(Xi, dtype=np.int32)\n",
        "            smpy=np.array(yi, dtype=np.int32)\n",
        "        else:\n",
        "            # smpX = np.vstack((smpX, np.array(Xi, dtype=np.float32)))\n",
        "            smpX = np.vstack((smpX, np.array(Xi, dtype=np.int32)))\n",
        "            smpy = np.vstack((smpy, np.array(yi, dtype=np.int32)))\n",
        "    return np.array(smpX), np.array(smpy)"
      ]
    },
    {
      "cell_type": "code",
      "execution_count": 14,
      "metadata": {
        "id": "TI3Fx6bNuR9A",
        "colab": {
          "base_uri": "https://localhost:8080/"
        },
        "outputId": "dd1b3c89-df92-4f59-d551-41f1aaa37557"
      },
      "outputs": [
        {
          "output_type": "stream",
          "name": "stdout",
          "text": [
            "[0](l=192): X=>ing the old man straight in the eye.\n",
            "\n",
            "“Let him go, he is gone. And though it honoureth thee that thou speakest\n",
            "only in praise of this dead one, yet thou knowest as well as I WHO he\n",
            "was, and that he went curious ways.”\n",
            "\n",
            "“To speak before three eyes,” said the old pope cheerfully (he was blind\n",
            "of one eye), “in divine matters I am more enlightened than Zarathustra\n",
            "himself--and may well be so.\n",
            "\n",
            "My love served him long years, my will followed all his will. A good\n",
            "servant, however, knoweth everything, and many a thing even which a\n",
            "master hideth from himself.\n",
            "\n",
            "He was a hidden God, full of secrecy. Verily, he did not come by his\n",
            "son otherwise than by secret ways. At the door of his faith standeth\n",
            "adultery.\n",
            "\n",
            "Whoever extolleth him as a God of love<,\n",
            "y=>old man straight in the eye.\n",
            "\n",
            "“Let him go, he is gone. And though it honoureth thee that thou speakest\n",
            "only in praise of this dead one, yet thou knowest as well as I WHO he\n",
            "was, and that he went curious ways.”\n",
            "\n",
            "“To speak before three eyes,” said the old pope cheerfully (he was blind\n",
            "of one eye), “in divine matters I am more enlightened than Zarathustra\n",
            "himself--and may well be so.\n",
            "\n",
            "My love served him long years, my will followed all his will. A good\n",
            "servant, however, knoweth everything, and many a thing even which a\n",
            "master hideth from himself.\n",
            "\n",
            "He was a hidden God, full of secrecy. Verily, he did not come by his\n",
            "son otherwise than by secret ways. At the door of his faith standeth\n",
            "adultery.\n",
            "\n",
            "Whoever extolleth him as a God of love, d<\n",
            "[1](l=192): X=>§ 7; Diog. Laërt. IX. 69, 70.\n",
            "\n",
            "[194] Cf. _supra_, p. 212.\n",
            "\n",
            "[195] Diog. Laërt. IX. 68.\n",
            "\n",
            "[196] Sext. Emp. Pyrrh. Hypot. I. c. 8, § 17.\n",
            "\n",
            "[197] Sext. Emp. Pyrrh. Hyp. I. c. 14, §§ 40-44.\n",
            "\n",
            "[198] Sext. Emp, Pyrrh. Hyp. I. c. 14, §§ 79-82, 85-89.\n",
            "\n",
            "[199] Sext. Emp. Pyrrh. Hyp. I. c. 14, §§ 91, 92.\n",
            "\n",
            "[200] Sext. Emp. Pyrrh. Hyp. I. c.<,\n",
            "y=> 7; Diog. Laërt. IX. 69, 70.\n",
            "\n",
            "[194] Cf. _supra_, p. 212.\n",
            "\n",
            "[195] Diog. Laërt. IX. 68.\n",
            "\n",
            "[196] Sext. Emp. Pyrrh. Hypot. I. c. 8, § 17.\n",
            "\n",
            "[197] Sext. Emp. Pyrrh. Hyp. I. c. 14, §§ 40-44.\n",
            "\n",
            "[198] Sext. Emp, Pyrrh. Hyp. I. c. 14, §§ 79-82, 85-89.\n",
            "\n",
            "[199] Sext. Emp. Pyrrh. Hyp. I. c. 14, §§ 91, 92.\n",
            "\n",
            "[200] Sext. Emp. Pyrrh. Hyp. I. c. 1<\n"
          ]
        }
      ],
      "source": [
        "test_x, test_y = get_sample_batch(td, 2)\n",
        "for i in range(len(test_x)):\n",
        "    xi=[int(x) for x in test_x[i]]\n",
        "    print(f\"[{i}](l={len(xi)}): X=>{td.decode(xi)}<,\\ny=>{td.decode(test_y[i])}<\")"
      ]
    },
    {
      "cell_type": "code",
      "execution_count": 15,
      "metadata": {
        "id": "qnMxRkkmcOeX",
        "colab": {
          "base_uri": "https://localhost:8080/"
        },
        "outputId": "8823866a-9a9a-49b8-f8c9-be29964ae0bd"
      },
      "outputs": [
        {
          "output_type": "execute_result",
          "data": {
            "text/plain": [
              "((2, 192), (2, 192))"
            ]
          },
          "metadata": {},
          "execution_count": 15
        }
      ],
      "source": [
        "test_x.shape, test_y.shape"
      ]
    },
    {
      "cell_type": "markdown",
      "metadata": {
        "id": "30hi0UPtEAQG"
      },
      "source": [
        "## 2. data for texts"
      ]
    },
    {
      "cell_type": "code",
      "execution_count": 16,
      "metadata": {
        "id": "jn_LcJ6g9Mzy"
      },
      "outputs": [],
      "source": [
        "def expand_name_template(template, params):\n",
        "    exp=copy.copy(template)\n",
        "    for key in params:\n",
        "        src=\"{\"+key+\"}\"\n",
        "        dst=f\"{params[key]}\"\n",
        "        exp=exp.replace(src,dst).replace('[','(').replace(']',')')\n",
        "    return exp\n",
        "\n",
        "def save_model_metadata(epoch, suffix='std'):\n",
        "    meta_file = os.path.join(model_path, f'model_meta_{suffix}.json')\n",
        "    params['current_epoch'] = epoch\n",
        "    try:\n",
        "        with open(meta_file, 'w') as f:\n",
        "            f.write(json.dumps(params))\n",
        "    except Exception as e:\n",
        "        print(f\"Failed to store model metadata at {model_path}: {e}\")\n",
        "        return False\n",
        "    return True\n",
        "\n",
        "def read_model_metadata(suffix=\"std\"):\n",
        "    meta_file = os.path.join(model_path, f'model_meta_{suffix}.json')\n",
        "    try:\n",
        "        with open(meta_file, 'r') as f:\n",
        "            meta = json.load(f)\n",
        "    except Exception as e:\n",
        "        print(f\"Cannot access project meta-data at {meta_file}: {e}, starting anew.\")\n",
        "        return None\n",
        "    return meta\n",
        "\n",
        "def is_metadata_compatible(params, meta):\n",
        "    is_valid=True\n",
        "    keys=set(list(params.keys())+list(meta.keys()))\n",
        "    for key in keys:\n",
        "        if key in updatable_keys:\n",
        "            continue\n",
        "        if key not in meta:\n",
        "            print(f\"Key {key} not available in last checkpoint model_meta, params[{key}]: {params[key]}, cannot import incompatible model. Put key in `updatable_keys` list, if irrelevant.\")\n",
        "            is_valid = False\n",
        "        elif key not in params:\n",
        "            print(f\"Key {key} not available in params, last checkpoint model_meta[{key}]: {meta[key]}, cannot import incompatible model. Put key in `updatable_keys` list, if irrelevant.\")\n",
        "            is_valid = False\n",
        "        elif meta[key]!=params[key]:\n",
        "            print(f\"Last checkpoint model_meta[{key}]: {meta[key]} != params[{key}]: {params[key]}, cannot import incompatible model. Put key in `updatable_keys` list, if irrelevant.\")\n",
        "            is_valid = False\n",
        "    if is_valid is False:\n",
        "        print(\"Aborting import.\")\n",
        "        return False\n",
        "    return True"
      ]
    },
    {
      "cell_type": "code",
      "execution_count": 32,
      "metadata": {
        "id": "znpIUA3ig3gO",
        "colab": {
          "base_uri": "https://localhost:8080/"
        },
        "outputId": "4aeb5c42-79e4-4fd7-ad10-2e8219d1bf19"
      },
      "outputs": [
        {
          "output_type": "stream",
          "name": "stdout",
          "text": [
            "Cannot access project meta-data at /content/drive/My Drive/Colab Notebooks/philosophers/model/ngpt_philosophers_v1_pt/model_meta_48x16x{units}x25000.json: [Errno 2] No such file or directory: '/content/drive/My Drive/Colab Notebooks/philosophers/model/ngpt_philosophers_v1_pt/model_meta_48x16x{units}x25000.json', starting anew.\n",
            "Starting new model\n",
            "{'name': '{mhsa_layers}x{heads}x{units}x{vocab_size}', 'mhsa_layers': 48, 'heads': 16, 'causal': True, 'dropout': 0.1, 'vocab_size': 25000, 'sequence_len': 192, 'embedding_size': 384, 'test_iterations': 10, 'batch_size': 64, 'learning_rate': 0.0004, 'sample_every_n_iterations': 250, 'max_iterations': 1000000}\n"
          ]
        }
      ],
      "source": [
        "vocabulary_size = td.get_unique_token_count()  # vocabulary-size\n",
        "\n",
        "attn_layers = 48;\n",
        "\n",
        "params = { # Multi-head self-attention\n",
        "    'name': '{mhsa_layers}x{heads}x{units}x{vocab_size}',\n",
        "\n",
        "    'mhsa_layers': attn_layers, \n",
        "    'heads': 16,\n",
        "    'causal': True,  # Use causal self-attention\n",
        "    'dropout': 0.1,       # no dropout: 0.0\n",
        "    'vocab_size': vocabulary_size,\n",
        "    'sequence_len': SEQUENCE_LEN,\n",
        "    'embedding_size': 384, \n",
        "    'test_iterations': 10,  # number of epocs for loss estimation\n",
        "\n",
        "    'batch_size': 64,\n",
        "    'learning_rate': 0.0004,\n",
        "    'sample_every_n_iterations': 250,\n",
        "    \n",
        "    'max_iterations': 1000000  # maximum number of training iterations\n",
        "}\n",
        "\n",
        "# if len(params['heads'])!=params['mhsa_layers']: # or len(params['units'])!=params['mhsa_layers']:\n",
        "#     print(\"ERROR: lenght of 'heads' and 'units' must be equal to mhsa_layers!\")\n",
        "    \n",
        "model_suffix = expand_name_template(params['name'], params)\n",
        "# Put 'important' params in checkpoint-pathname to separate model-data:\n",
        "checkpoint_dir = os.path.join(model_path, f\"training_checkpoints_{model_suffix}\")\n",
        "if os.path.exists(checkpoint_dir) is False:\n",
        "    os.makedirs(checkpoint_dir)\n",
        "\n",
        "# When comparing if training-data is compatible with new params set, \n",
        "# the following keys are updatable, they can be changed while continuing\n",
        "# to use existing checkpoints and continue training with those values\n",
        "# changed:\n",
        "updatable_keys=['learning_rate', 'batch_size', 'current_epoch', 'dropout', \n",
        "             'sample_every_n_epochs']\n",
        "\n",
        "# These values are taking from saved checkpoint:\n",
        "keep_keys=['current_epoch']\n",
        "\n",
        "continue_last = True\n",
        "if continue_last is False:\n",
        "    print(\"NOT continuing based on existing training! New start.\")\n",
        "\n",
        "meta = read_model_metadata(suffix=model_suffix)\n",
        "if meta is not None and is_metadata_compatible(params, meta) is True and continue_last is True:\n",
        "    for key in keep_keys:\n",
        "        if key in meta:\n",
        "            params[key]=meta[key]\n",
        "    if params is not None:\n",
        "        print(f\"Continuing last session from epoch {params['current_epoch']}\")\n",
        "    else:\n",
        "        print(f\"No previous data, starting new model\")\n",
        "else:\n",
        "    print(\"Starting new model\")\n",
        "\n",
        "print(params)"
      ]
    },
    {
      "cell_type": "code",
      "execution_count": 33,
      "metadata": {
        "id": "jY3hUuhQYzdT",
        "colab": {
          "base_uri": "https://localhost:8080/"
        },
        "outputId": "c93d7933-9afd-4753-face-b91c445dd16d"
      },
      "outputs": [
        {
          "output_type": "stream",
          "name": "stdout",
          "text": [
            "num_batches = 35010\n"
          ]
        }
      ],
      "source": [
        "num_batches = num_records // params['batch_size']\n",
        "print(f\"num_batches = {num_batches}\")"
      ]
    },
    {
      "cell_type": "code",
      "execution_count": 34,
      "metadata": {
        "id": "bgVHUkbhdK9y"
      },
      "outputs": [],
      "source": [
        "def get_torch_batch(td, batch_size, device, split=None):\n",
        "    x, y = get_sample_batch(td, batch_size)\n",
        "    return torch.tensor(x, dtype=torch.long).to(device), torch.tensor(y, dtype=torch.long).to(device)"
      ]
    },
    {
      "cell_type": "code",
      "execution_count": 35,
      "metadata": {
        "id": "JTte4VvUdK9z"
      },
      "outputs": [],
      "source": [
        "# get_torch_batch(td, 2, 'cpu')"
      ]
    },
    {
      "cell_type": "code",
      "execution_count": 36,
      "metadata": {
        "id": "QnMCWf5AZn1-"
      },
      "outputs": [],
      "source": [
        "@torch.no_grad()\n",
        "def estimate_loss(device):\n",
        "    out = {}\n",
        "    model.eval()\n",
        "    for split in [\"train\", \"val\"]:\n",
        "        losses = torch.zeros(params['test_iterations'])\n",
        "        for k in range(params['test_iterations']):\n",
        "            print(\".\", end=\"\", flush=True)\n",
        "            X, Y = get_torch_batch(td, params['batch_size'], device, split)\n",
        "            logits, loss = model(X, Y)\n",
        "            losses[k] = loss.item()\n",
        "        out[split] = losses.mean()\n",
        "    model.train()\n",
        "    print(\"\\r\", end=\"\", flush=True)\n",
        "    return out\n",
        "\n",
        "\n",
        "def generate_sample(td, device, toks=100, temperature=1.0):\n",
        "    # generate from the model\n",
        "    # context = torch.zeros((1, 1), dtype=torch.long, device=device)\n",
        "    context = torch.tensor([td.encode(' ')]).to(device)\n",
        "    txt = td.decode(model.generate(context, max_new_tokens=toks, temperature=temperature)[0].tolist())\n",
        "    # Identify memorisation of text by highlighting verbatim quotes from sources\n",
        "    # that are longer than 10 chars. HTML colorcoded output for source identification:\n",
        "    td.source_highlight(txt, min_quote_size=10, dark_mode=False, display_ref_anchor=False)\n",
        "    return txt\n",
        "    # open('more.txt', 'w').write(decode(m.generate(context, max_new_tokens=10000)[0].tolist()))\n",
        "\n",
        "\n",
        "# @torch.compile\n",
        "def do_train_step(xb, yb):\n",
        "    logits, loss = model(xb, yb)\n",
        "    optimizer.zero_grad(set_to_none=True)\n",
        "    loss.backward()\n",
        "    optimizer.step()"
      ]
    },
    {
      "cell_type": "code",
      "execution_count": 37,
      "metadata": {
        "id": "9hEziJ0odK9z"
      },
      "outputs": [],
      "source": [
        "# XXX!\n",
        "device = \"cuda\" if torch.cuda.is_available() else \"cpu\"\n",
        "device = torch.device(\"mps\") if torch.backends.mps.is_available() else device"
      ]
    },
    {
      "cell_type": "code",
      "execution_count": 38,
      "metadata": {
        "id": "pdaulm1VdK9z",
        "colab": {
          "base_uri": "https://localhost:8080/"
        },
        "outputId": "edd6c22a-afc2-40fb-fbc7-ac99817004f4"
      },
      "outputs": [
        {
          "output_type": "stream",
          "name": "stdout",
          "text": [
            "creating model...\n",
            "104.418472 M parameters\n"
          ]
        }
      ],
      "source": [
        "print(\"creating model...\")\n",
        "model_cpu = MultiHeadSelfAttention(params['vocab_size'], params['embedding_size'], \n",
        "                                   params['sequence_len'], params['dropout'], \n",
        "                                   params['heads'], params['mhsa_layers'], params['causal'], device)\n",
        "model = model_cpu.to(device)\n",
        "# print the number of parameters in the model\n",
        "print(sum(p.numel() for p in model.parameters()) / 1e6, \"M parameters\")\n",
        "# create a PyTorch optimizer\n",
        "optimizer = torch.optim.AdamW(model.parameters(), lr=params['learning_rate'])\n",
        "start_iter = 0"
      ]
    },
    {
      "cell_type": "code",
      "execution_count": 39,
      "metadata": {
        "tags": [],
        "colab": {
          "base_uri": "https://localhost:8080/",
          "height": 1000
        },
        "id": "aZpMI7_iMdR6",
        "outputId": "ffc4f932-64dd-48f8-9b33-00091cf9ec75"
      },
      "outputs": [
        {
          "output_type": "stream",
          "name": "stdout",
          "text": [
            "training...\n",
            "step 250: train loss 8.5834, val loss 8.5863, time 1.387 sec/iter\n",
            "Sample: --------temperature: 1.1 ---------\n"
          ]
        },
        {
          "output_type": "display_data",
          "data": {
            "text/plain": [
              "<IPython.core.display.HTML object>"
            ],
            "text/html": [
              " zgood this<span style=\"background-color:#e2d7d5;\">will, fore</span>at this er be<br>and (Vus,  endzropeopera sf But gards s the <br>t<span style=\"background-color:#ecf3cf;\">ho, which </span>wknowy, ranconta<span style=\"background-color:#d8daef;\">matter its</span><span style=\"background-color:#d8daef;\"> determinatio</span>ly, an, w<span style=\"background-color:#ebdef0;\">ting of thin</span>own velo(yeateg’s th, <span style=\"background-color:#e2d7d5;\">ould be mas</span>be much <unk> doas inquativ! "
            ]
          },
          "metadata": {}
        },
        {
          "output_type": "display_data",
          "data": {
            "text/plain": [
              "<IPython.core.display.HTML object>"
            ],
            "text/html": [
              "<small><p style=\"text-align:right;\">Sources: <span style=\"background-color:#e2d7d5;\">Friedrich Nietzsche: The Joyful Wisdom</span>, <span style=\"background-color:#ecf3cf;\">Georg Wilhelm Hegel: Hegel's Lectures on the History of Philosophy: Vol. 2 of 3</span>, <span style=\"background-color:#d8daef;\">Georg Wilhelm Hegel: The History of Philosophy: Volume 3 of 3</span>, <span style=\"background-color:#ebdef0;\">Friedrich Nietzsche: The Will to Power, Books III and IV</span>, <span style=\"background-color:#e2d7d5;\">Friedrich Nietzsche: Thus Spake Zarathustra</span></p></small>"
            ]
          },
          "metadata": {}
        },
        {
          "output_type": "stream",
          "name": "stdout",
          "text": [
            "--------temperature: 1.2 ---------\n"
          ]
        },
        {
          "output_type": "display_data",
          "data": {
            "text/plain": [
              "<IPython.core.display.HTML object>"
            ],
            "text/html": [
              " belode<span style=\"background-color:#d4efdf;\">belong to n</span>y ok formato me\" es and horiHencenecessaryting the <br>pos<br>reapprehenbject, <span style=\"background-color:#ecf3cf;\">e former g</span>reatditions<span style=\"background-color:#edebd0;\">hich the object </span>first m<span style=\"background-color:#d8daef;\">is constitute</span>, p world exBeing <span style=\"background-color:#d0ece7;\">lways on the </span>able tranrenaticin e_ a<br>bimext,<br>iopposite y are Naturer, nd the ith <span style=\"background-color:#d8daef;\">, which is dev</span>"
            ]
          },
          "metadata": {}
        },
        {
          "output_type": "display_data",
          "data": {
            "text/plain": [
              "<IPython.core.display.HTML object>"
            ],
            "text/html": [
              "<small><p style=\"text-align:right;\">Sources: <span style=\"background-color:#d4efdf;\">Georg Wilhelm Hegel: Hegel's Lectures on the History of Philosophy: Vol. 1 of 3</span>, <span style=\"background-color:#ecf3cf;\">Georg Wilhelm Hegel: Hegel's Lectures on the History of Philosophy: Vol. 2 of 3</span>, <span style=\"background-color:#edebd0;\">Immanuel Kant: Kant's Prolegomena</span>, <span style=\"background-color:#d8daef;\">Georg Wilhelm Hegel: The History of Philosophy: Volume 3 of 3</span>, <span style=\"background-color:#d0ece7;\">Friedrich Nietzsche: Early Greek Philosophy & Other Essays</span></p></small>"
            ]
          },
          "metadata": {}
        },
        {
          "output_type": "stream",
          "name": "stdout",
          "text": [
            "-------------------------------------------\n",
            "step 500: train loss 7.2285, val loss 7.2173, time 1.390 sec/iter\n",
            "Sample: --------temperature: 1.1 ---------\n"
          ]
        },
        {
          "output_type": "display_data",
          "data": {
            "text/plain": [
              "<IPython.core.display.HTML object>"
            ],
            "text/html": [
              "  so thaessi shall<span style=\"background-color:#ecf3cf;\">ience on the </span>(<span style=\"background-color:#d8daef;\">to it is a</span>nd ha<span style=\"background-color:#eadbd8;\">,<br>and recogni</span>s wel<span style=\"background-color:#ebdef0;\">ll<br>of the m</span><span style=\"background-color:#ecf3cf;\">ind it in </span><span style=\"background-color:#d8daef;\">connectedl</span>together<span style=\"background-color:#e5e8e8;\">external sp</span>irit<br>in causa<span style=\"background-color:#eadbd8;\">ree, when </span><span style=\"background-color:#d8daef;\">position, n</span>; i<span style=\"background-color:#f6ddcc;\">t pleasure, th</span>at i<span style=\"background-color:#d4efdf;\">s, brought the </span><span style=\"background-color:#e2d7d5;\">ar,<br>however, </span>class<span style=\"background-color:#d6eaf8;\">wo species, </span> but<span style=\"background-color:#d8daef;\">universal wh</span>eof e<span style=\"background-color:#e5e8e8;\">e necessity (</span>doctr<span style=\"background-color:#d4e6f1;\">ine principle</span> ofardedcitore in<span style=\"background-color:#d4efdf;\">c that the</span><br>"
            ]
          },
          "metadata": {}
        },
        {
          "output_type": "display_data",
          "data": {
            "text/plain": [
              "<IPython.core.display.HTML object>"
            ],
            "text/html": [
              "<small><p style=\"text-align:right;\">Sources: <span style=\"background-color:#ecf3cf;\">Georg Wilhelm Hegel: Hegel's Lectures on the History of Philosophy: Vol. 2 of 3</span>, <span style=\"background-color:#d8daef;\">Georg Wilhelm Hegel: The History of Philosophy: Volume 3 of 3</span>, <span style=\"background-color:#eadbd8;\">Immanuel Kant: The Critique of Pure Reason</span>, <span style=\"background-color:#ebdef0;\">Friedrich Nietzsche: The Will to Power, Books III and IV</span>, <span style=\"background-color:#e5e8e8;\">Immanuel Kant: The Critique of Practical Reason</span>, <span style=\"background-color:#f6ddcc;\">Friedrich Nietzsche: Human, All Too Human</span>, <span style=\"background-color:#d4efdf;\">Georg Wilhelm Hegel: Hegel's Lectures on the History of Philosophy: Vol. 1 of 3</span>, <span style=\"background-color:#e2d7d5;\">Friedrich Nietzsche: The Joyful Wisdom</span>, <span style=\"background-color:#d6eaf8;\">Immanuel Kant: Perpetual Peace</span>, <span style=\"background-color:#d4e6f1;\">Immanuel Kant: Kant's Critique of Judgement</span></p></small>"
            ]
          },
          "metadata": {}
        },
        {
          "output_type": "stream",
          "name": "stdout",
          "text": [
            "--------temperature: 1.2 ---------\n"
          ]
        },
        {
          "output_type": "display_data",
          "data": {
            "text/plain": [
              "<IPython.core.display.HTML object>"
            ],
            "text/html": [
              " _<br>logic<br>pr<span style=\"background-color:#e2d7d5;\">o others it</span><span style=\"background-color:#d4e6f1;\">s greater aff</span>s the ruch<span style=\"background-color:#d4efdf;\">idence with</span> Secedforce<span style=\"background-color:#eadbd8;\">es, and rel</span>atime any kss_<span style=\"background-color:#ebdef0;\"> science: </span>Whe<span style=\"background-color:#d4e6f1;\">ty of a certain </span><span style=\"background-color:#d8daef;\">form of this </span>fould<br>says<span style=\"background-color:#d4efdf;\">d to be simpl</span>onclu mo<span style=\"background-color:#d4e6f1;\">tionate ac</span>isms, thaasrg the<br>a<br>ahe strormee<span style=\"background-color:#edebd0;\">n of representati</span>ution of , andorthse m"
            ]
          },
          "metadata": {}
        },
        {
          "output_type": "display_data",
          "data": {
            "text/plain": [
              "<IPython.core.display.HTML object>"
            ],
            "text/html": [
              "<small><p style=\"text-align:right;\">Sources: <span style=\"background-color:#e2d7d5;\">Friedrich Nietzsche: The Joyful Wisdom</span>, <span style=\"background-color:#d4e6f1;\">Immanuel Kant: Kant's Critique of Judgement</span>, <span style=\"background-color:#d4efdf;\">Georg Wilhelm Hegel: Hegel's Lectures on the History of Philosophy: Vol. 1 of 3</span>, <span style=\"background-color:#eadbd8;\">Friedrich Nietzsche: The Will to Power, Books I and II</span>, <span style=\"background-color:#ebdef0;\">Friedrich Nietzsche: The Will to Power, Books III and IV</span>, <span style=\"background-color:#d8daef;\">Georg Wilhelm Hegel: The History of Philosophy: Volume 3 of 3</span>, <span style=\"background-color:#edebd0;\">Immanuel Kant: Kant's Prolegomena</span></p></small>"
            ]
          },
          "metadata": {}
        },
        {
          "output_type": "stream",
          "name": "stdout",
          "text": [
            "-------------------------------------------\n",
            "step 750: train loss 5.9226, val loss 5.9588, time 1.394 sec/iter\n",
            "Sample: --------temperature: 1.1 ---------\n"
          ]
        },
        {
          "output_type": "display_data",
          "data": {
            "text/plain": [
              "<IPython.core.display.HTML object>"
            ],
            "text/html": [
              " θί._139, 9<span style=\"background-color:#d8daef;\">s as in the </span>form<span style=\"background-color:#ebdef0;\">y, in regard to the </span>one ser.<br><br>U<span style=\"background-color:#d8daef;\">pecially b</span>ut the<span style=\"background-color:#d8daef;\"> From this s</span>hor<span style=\"background-color:#d8daef;\">t,<br>however, </span>restd arat<span style=\"background-color:#d4efdf;\"> work which a</span>lagod that i<span style=\"background-color:#d8daef;\"> which thus</span><span style=\"background-color:#d4efdf;\">, everything o</span><span style=\"background-color:#ebdef0;\">thers even t</span>o ellows: let peea<span style=\"background-color:#eadbd8;\">d of<br>soul </span>eases if God he cogihar"
            ]
          },
          "metadata": {}
        },
        {
          "output_type": "display_data",
          "data": {
            "text/plain": [
              "<IPython.core.display.HTML object>"
            ],
            "text/html": [
              "<small><p style=\"text-align:right;\">Sources: <span style=\"background-color:#d8daef;\">Georg Wilhelm Hegel: The History of Philosophy: Volume 3 of 3</span>, <span style=\"background-color:#ebdef0;\">Friedrich Nietzsche: The Will to Power, Books III and IV</span>, <span style=\"background-color:#d4efdf;\">Georg Wilhelm Hegel: Hegel's Lectures on the History of Philosophy: Vol. 1 of 3</span>, <span style=\"background-color:#ebdef0;\">Friedrich Nietzsche: Beyond Good and Evil</span>, <span style=\"background-color:#eadbd8;\">Friedrich Nietzsche: The Will to Power, Books I and II</span></p></small>"
            ]
          },
          "metadata": {}
        },
        {
          "output_type": "stream",
          "name": "stdout",
          "text": [
            "--------temperature: 1.2 ---------\n"
          ]
        },
        {
          "output_type": "display_data",
          "data": {
            "text/plain": [
              "<IPython.core.display.HTML object>"
            ],
            "text/html": [
              " 2.  etf<span style=\"background-color:#eadbd8;\">, it is<br>merely </span><span style=\"background-color:#d8daef;\">thinks and </span>and t<span style=\"background-color:#ebdef0;\">a certain t</span>o the conul<span style=\"background-color:#d4e6f1;\"> if the question</span>], or, that Anleμα)<span style=\"background-color:#d8daef;\"><br><br>The spiritual</span><span style=\"background-color:#e2d7d5;\">, for them </span><span style=\"background-color:#d8daef;\">of these the </span><span style=\"background-color:#d4efdf;\">question here a</span>nd self- cal<span style=\"background-color:#e2d7d5;\">ets and the</span><span style=\"background-color:#d8daef;\"> end of the </span><span style=\"background-color:#d4efdf;\">unity of ne</span><span style=\"background-color:#d6eaf8;\">vertheless it is th</span><span style=\"background-color:#d8daef;\">sciousness of this </span>pec<span style=\"background-color:#ebdef0;\">igation.<br><br></span>Resci<span style=\"background-color:#d8daef;\">he possibili</span> the<br>s"
            ]
          },
          "metadata": {}
        },
        {
          "output_type": "display_data",
          "data": {
            "text/plain": [
              "<IPython.core.display.HTML object>"
            ],
            "text/html": [
              "<small><p style=\"text-align:right;\">Sources: <span style=\"background-color:#eadbd8;\">Immanuel Kant: The Critique of Pure Reason</span>, <span style=\"background-color:#d8daef;\">Georg Wilhelm Hegel: The History of Philosophy: Volume 3 of 3</span>, <span style=\"background-color:#ebdef0;\">Friedrich Nietzsche: The Will to Power, Books III and IV</span>, <span style=\"background-color:#d4e6f1;\">Immanuel Kant: Kant's Critique of Judgement</span>, <span style=\"background-color:#e2d7d5;\">Friedrich Nietzsche: Thus Spake Zarathustra</span>, <span style=\"background-color:#d4efdf;\">Georg Wilhelm Hegel: Hegel's Lectures on the History of Philosophy: Vol. 1 of 3</span>, <span style=\"background-color:#e2d7d5;\">Friedrich Nietzsche: The Joyful Wisdom</span>, <span style=\"background-color:#d6eaf8;\">Immanuel Kant: Perpetual Peace</span></p></small>"
            ]
          },
          "metadata": {}
        },
        {
          "output_type": "stream",
          "name": "stdout",
          "text": [
            "-------------------------------------------\n",
            "step 1000: train loss 5.3508, val loss 5.4053, time 1.391 sec/iter\n",
            "Sample: --------temperature: 1.1 ---------\n"
          ]
        },
        {
          "output_type": "display_data",
          "data": {
            "text/plain": [
              "<IPython.core.display.HTML object>"
            ],
            "text/html": [
              " 61; Ki<span style=\"background-color:#d8daef;\">n. Original</span> Emperien anller’s Ondom<span style=\"background-color:#d8daef;\"> and hold </span><span style=\"background-color:#ebdef0;\">longing for </span>his in<br>in<span style=\"background-color:#ebdef0;\">here speaks </span>conssses<span style=\"background-color:#e2d7d5;\">half of the </span><span style=\"background-color:#d8daef;\">question of th</span><span style=\"background-color:#eadbd8;\">ose who have<br>been </span><span style=\"background-color:#d4e6f1;\">appreciate, </span><span style=\"background-color:#d8daef;\">their part</span>. This _Harey means o_,<span style=\"background-color:#ebdef0;\"> means he </span>spiude_"
            ]
          },
          "metadata": {}
        },
        {
          "output_type": "display_data",
          "data": {
            "text/plain": [
              "<IPython.core.display.HTML object>"
            ],
            "text/html": [
              "<small><p style=\"text-align:right;\">Sources: <span style=\"background-color:#d8daef;\">Georg Wilhelm Hegel: The History of Philosophy: Volume 3 of 3</span>, <span style=\"background-color:#ebdef0;\">Friedrich Nietzsche: The Will to Power, Books III and IV</span>, <span style=\"background-color:#e2d7d5;\">Friedrich Nietzsche: The Joyful Wisdom</span>, <span style=\"background-color:#eadbd8;\">Friedrich Nietzsche: The Will to Power, Books I and II</span>, <span style=\"background-color:#d4e6f1;\">Immanuel Kant: Kant's Critique of Judgement</span></p></small>"
            ]
          },
          "metadata": {}
        },
        {
          "output_type": "stream",
          "name": "stdout",
          "text": [
            "--------temperature: 1.2 ---------\n"
          ]
        },
        {
          "output_type": "display_data",
          "data": {
            "text/plain": [
              "<IPython.core.display.HTML object>"
            ],
            "text/html": [
              " §<span style=\"background-color:#d8daef;\">           32</span><span style=\"background-color:#e2d7d5;\"><br><br><br>                                </span>6, _<span style=\"background-color:#d8daef;\">fact of the p</span>eculutely <span style=\"background-color:#d8daef;\">s of the po</span>nesüve<span style=\"background-color:#d8daef;\"> flat and </span>this an anea<span style=\"background-color:#d8daef;\">tiated from </span>the _readerr sens<span style=\"background-color:#ebdef0;\">ess of wil</span>t. I<span style=\"background-color:#d8daef;\">e<br>position</span>_<br><br><br>I thou<span style=\"background-color:#ebdef0;\">reatest su</span>bjec<span style=\"background-color:#d6eaf8;\">t. Politic</span><span style=\"background-color:#d4e6f1;\"> power in a</span><span style=\"background-color:#f6ddcc;\">gainst comp</span><span style=\"background-color:#d8daef;\">rehensible, </span><span style=\"background-color:#d4e6f1;\">(as in the de</span>m in<span style=\"background-color:#d8daef;\">of every in</span><span style=\"background-color:#d8daef;\"><br>that the </span>"
            ]
          },
          "metadata": {}
        },
        {
          "output_type": "display_data",
          "data": {
            "text/plain": [
              "<IPython.core.display.HTML object>"
            ],
            "text/html": [
              "<small><p style=\"text-align:right;\">Sources: <span style=\"background-color:#d8daef;\">Georg Wilhelm Hegel: The History of Philosophy: Volume 3 of 3</span>, <span style=\"background-color:#e2d7d5;\">Friedrich Nietzsche: The Joyful Wisdom</span>, <span style=\"background-color:#d8daef;\">Friedrich Nietzsche: Thoughts out of Season, Part One</span>, <span style=\"background-color:#ebdef0;\">Friedrich Nietzsche: The Will to Power, Books III and IV</span>, <span style=\"background-color:#d6eaf8;\">Immanuel Kant: Perpetual Peace</span>, <span style=\"background-color:#d4e6f1;\">Immanuel Kant: Kant's Critique of Judgement</span>, <span style=\"background-color:#f6ddcc;\">Friedrich Nietzsche: Human, All Too Human</span></p></small>"
            ]
          },
          "metadata": {}
        },
        {
          "output_type": "stream",
          "name": "stdout",
          "text": [
            "-------------------------------------------\n",
            "step 1250: train loss 5.0578, val loss 4.9919, time 1.389 sec/iter\n",
            "Sample: --------temperature: 1.1 ---------\n"
          ]
        },
        {
          "output_type": "display_data",
          "data": {
            "text/plain": [
              "<IPython.core.display.HTML object>"
            ],
            "text/html": [
              "  by <span style=\"background-color:#ebdef0;\">oneous sta</span>cles of ie woyes side cultng.<br><br>\"Thou to thise earshorulashifty most<br><span style=\"background-color:#eadbd8;\">acrifice and se</span>archy.\"--But bedient, as<br>to me?\" the \"<span style=\"background-color:#ebdef0;\">disease, v</span>olicience "
            ]
          },
          "metadata": {}
        },
        {
          "output_type": "display_data",
          "data": {
            "text/plain": [
              "<IPython.core.display.HTML object>"
            ],
            "text/html": [
              "<small><p style=\"text-align:right;\">Sources: <span style=\"background-color:#ebdef0;\">Friedrich Nietzsche: The Will to Power, Books III and IV</span>, <span style=\"background-color:#eadbd8;\">Friedrich Nietzsche: The Will to Power, Books I and II</span></p></small>"
            ]
          },
          "metadata": {}
        },
        {
          "output_type": "stream",
          "name": "stdout",
          "text": [
            "--------temperature: 1.2 ---------\n"
          ]
        },
        {
          "output_type": "display_data",
          "data": {
            "text/plain": [
              "<IPython.core.display.HTML object>"
            ],
            "text/html": [
              " 8, 3f, II. 2 he<br>), “As if do<span style=\"background-color:#d8daef;\"> to derive</span>d of the<br>Y<span style=\"background-color:#d6dbdf;\">eam of the </span>theatts”. Per<span style=\"background-color:#d8daef;\">y had before</span>: “seems be<span style=\"background-color:#ecf3cf;\">side from the </span>saibl<span style=\"background-color:#d8daef;\">e, after the</span><br>a<br>as auto<span style=\"background-color:#d6dbdf;\">o all the g</span>ainst t<span style=\"background-color:#d0ece7;\">hand we re</span>conciprehens<span style=\"background-color:#ebdef0;\">ise the in</span><span style=\"background-color:#d8daef;\">finite, so </span>matter"
            ]
          },
          "metadata": {}
        },
        {
          "output_type": "display_data",
          "data": {
            "text/plain": [
              "<IPython.core.display.HTML object>"
            ],
            "text/html": [
              "<small><p style=\"text-align:right;\">Sources: <span style=\"background-color:#d8daef;\">Georg Wilhelm Hegel: The History of Philosophy: Volume 3 of 3</span>, <span style=\"background-color:#d6dbdf;\">Friedrich Nietzsche: Thoughts Out of Season, Part 2</span>, <span style=\"background-color:#ecf3cf;\">Georg Wilhelm Hegel: Hegel's Lectures on the History of Philosophy: Vol. 2 of 3</span>, <span style=\"background-color:#d0ece7;\">Friedrich Nietzsche: Early Greek Philosophy & Other Essays</span>, <span style=\"background-color:#ebdef0;\">Friedrich Nietzsche: The Will to Power, Books III and IV</span></p></small>"
            ]
          },
          "metadata": {}
        },
        {
          "output_type": "stream",
          "name": "stdout",
          "text": [
            "-------------------------------------------\n",
            "step 1500: train loss 4.6973, val loss 4.6878, time 1.390 sec/iter\n",
            "Sample: --------temperature: 1.1 ---------\n"
          ]
        },
        {
          "output_type": "display_data",
          "data": {
            "text/plain": [
              "<IPython.core.display.HTML object>"
            ],
            "text/html": [
              " 56.<br><br>[504] e si<span style=\"background-color:#e5e8e8;\">cknowledge that he </span>should<br><span style=\"background-color:#eadbd8;\">been scientific</span> teley<span style=\"background-color:#ecf3cf;\">s, and desi</span>gnoran<span style=\"background-color:#e2d7d5;\">t longing </span><span style=\"background-color:#d8daef;\">to be the </span><span style=\"background-color:#d6eaf8;\">question of s</span>pirits<br>his _ἐIdeas_,<br>admi<span style=\"background-color:#e2d7d5;\">re sometimes</span><span style=\"background-color:#d8daef;\">s writings b</span>upine<br>_Pe plach"
            ]
          },
          "metadata": {}
        },
        {
          "output_type": "display_data",
          "data": {
            "text/plain": [
              "<IPython.core.display.HTML object>"
            ],
            "text/html": [
              "<small><p style=\"text-align:right;\">Sources: <span style=\"background-color:#e5e8e8;\">Immanuel Kant: The Critique of Practical Reason</span>, <span style=\"background-color:#eadbd8;\">Friedrich Nietzsche: The Will to Power, Books I and II</span>, <span style=\"background-color:#ecf3cf;\">Georg Wilhelm Hegel: Hegel's Lectures on the History of Philosophy: Vol. 2 of 3</span>, <span style=\"background-color:#e2d7d5;\">Friedrich Nietzsche: Thus Spake Zarathustra</span>, <span style=\"background-color:#d8daef;\">Georg Wilhelm Hegel: The History of Philosophy: Volume 3 of 3</span>, <span style=\"background-color:#d6eaf8;\">Immanuel Kant: Perpetual Peace</span>, <span style=\"background-color:#e2d7d5;\">Friedrich Nietzsche: The Joyful Wisdom</span></p></small>"
            ]
          },
          "metadata": {}
        },
        {
          "output_type": "stream",
          "name": "stdout",
          "text": [
            "--------temperature: 1.2 ---------\n"
          ]
        },
        {
          "output_type": "display_data",
          "data": {
            "text/plain": [
              "<IPython.core.display.HTML object>"
            ],
            "text/html": [
              " [75]<span style=\"background-color:#d4efdf;\"> as the explanation</span><span style=\"background-color:#eadbd8;\">rical universality </span><span style=\"background-color:#fdebd0;\">of freedom of the </span>series<span style=\"background-color:#eadbd8;\"><br>as sensuous </span><span style=\"background-color:#d8daef;\">consciousness for </span>us. H<span style=\"background-color:#f6ddcc;\">e ascribed<br>t</span><span style=\"background-color:#d8daef;\">hese two forms</span><span style=\"background-color:#e2d7d5;\">, culture </span><span style=\"background-color:#d8daef;\">that Aristotle f</span><span style=\"background-color:#d6eaf8;\">rom the difference of the</span><span style=\"background-color:#d8daef;\">se<br>determinat</span><span style=\"background-color:#d8daef;\">e content in</span><span style=\"background-color:#ecf3cf;\">to the entra</span><span style=\"background-color:#d8daef;\">l point of in</span><span style=\"background-color:#d4efdf;\"> matter, and h</span>e<span style=\"background-color:#ebdef0;\"> a man appears</span><span style=\"background-color:#eadbd8;\">; for no p</span>laces Being<span style=\"background-color:#d8daef;\">of these t</span><span style=\"background-color:#eadbd8;\">ime, the be</span>st, "
            ]
          },
          "metadata": {}
        },
        {
          "output_type": "display_data",
          "data": {
            "text/plain": [
              "<IPython.core.display.HTML object>"
            ],
            "text/html": [
              "<small><p style=\"text-align:right;\">Sources: <span style=\"background-color:#d4efdf;\">Georg Wilhelm Hegel: Hegel's Lectures on the History of Philosophy: Vol. 1 of 3</span>, <span style=\"background-color:#eadbd8;\">Immanuel Kant: The Critique of Pure Reason</span>, <span style=\"background-color:#fdebd0;\">Immanuel Kant: The Metaphysical Elements of Ethics</span>, <span style=\"background-color:#d8daef;\">Georg Wilhelm Hegel: The History of Philosophy: Volume 3 of 3</span>, <span style=\"background-color:#f6ddcc;\">Friedrich Nietzsche: Human, All Too Human</span>, <span style=\"background-color:#e2d7d5;\">Friedrich Nietzsche: The Joyful Wisdom</span>, <span style=\"background-color:#d6eaf8;\">Immanuel Kant: Perpetual Peace</span>, <span style=\"background-color:#ecf3cf;\">Georg Wilhelm Hegel: Hegel's Lectures on the History of Philosophy: Vol. 2 of 3</span>, <span style=\"background-color:#ebdef0;\">Friedrich Nietzsche: The Will to Power, Books III and IV</span></p></small>"
            ]
          },
          "metadata": {}
        },
        {
          "output_type": "stream",
          "name": "stdout",
          "text": [
            "-------------------------------------------\n",
            "step 1750: train loss 4.4765, val loss 4.3984, time 1.390 sec/iter\n",
            "Sample: --------temperature: 1.1 ---------\n"
          ]
        },
        {
          "output_type": "display_data",
          "data": {
            "text/plain": [
              "<IPython.core.display.HTML object>"
            ],
            "text/html": [
              " ” <span style=\"background-color:#d8daef;\">ing which he i</span>s no sign. Now Go<span style=\"background-color:#ebdef0;\">d explain the </span>idea<br>wa<span style=\"background-color:#e2d7d5;\">nto him the </span><span style=\"background-color:#ecf3cf;\">whole is fo</span><span style=\"background-color:#d8daef;\">unded the </span><span style=\"background-color:#d4e6f1;\">reasoning, is</span><span style=\"background-color:#d8daef;\">ed condition</span><span style=\"background-color:#edebd0;\">ed actually</span><span style=\"background-color:#d8daef;\"> cannot make them</span><span style=\"background-color:#eadbd8;\"> have a predicate </span><span style=\"background-color:#d4efdf;\">of its judgment, </span><span style=\"background-color:#d4e6f1;\">as internal </span>lleged<span style=\"background-color:#ebdef0;\">ause of every </span>anim<span style=\"background-color:#f6ddcc;\">al degree of </span>an heads:<span style=\"background-color:#d4e6e1;\"> how pure reason</span><span style=\"background-color:#ecf3cf;\">, however, is this</span>, excep<span style=\"background-color:#d4efdf;\">t philosophy in </span>all<br>that "
            ]
          },
          "metadata": {}
        },
        {
          "output_type": "display_data",
          "data": {
            "text/plain": [
              "<IPython.core.display.HTML object>"
            ],
            "text/html": [
              "<small><p style=\"text-align:right;\">Sources: <span style=\"background-color:#d8daef;\">Georg Wilhelm Hegel: The History of Philosophy: Volume 3 of 3</span>, <span style=\"background-color:#ebdef0;\">Friedrich Nietzsche: The Will to Power, Books III and IV</span>, <span style=\"background-color:#e2d7d5;\">Friedrich Nietzsche: Thus Spake Zarathustra</span>, <span style=\"background-color:#ecf3cf;\">Georg Wilhelm Hegel: Hegel's Lectures on the History of Philosophy: Vol. 2 of 3</span>, <span style=\"background-color:#d4e6f1;\">Immanuel Kant: Kant's Critique of Judgement</span>, <span style=\"background-color:#edebd0;\">Immanuel Kant: Kant's Prolegomena</span>, <span style=\"background-color:#d8daef;\">Friedrich Nietzsche: Thoughts out of Season, Part One</span>, <span style=\"background-color:#eadbd8;\">Immanuel Kant: The Critique of Pure Reason</span>, <span style=\"background-color:#d4efdf;\">Georg Wilhelm Hegel: Hegel's Lectures on the History of Philosophy: Vol. 1 of 3</span>, <span style=\"background-color:#f6ddcc;\">Friedrich Nietzsche: Human, All Too Human</span>, <span style=\"background-color:#d4e6e1;\">Immanuel Kant: Fundamental Principles of the Metaphysic of Morals</span></p></small>"
            ]
          },
          "metadata": {}
        },
        {
          "output_type": "stream",
          "name": "stdout",
          "text": [
            "--------temperature: 1.2 ---------\n"
          ]
        },
        {
          "output_type": "display_data",
          "data": {
            "text/plain": [
              "<IPython.core.display.HTML object>"
            ],
            "text/html": [
              " + r<span style=\"background-color:#d8daef;\">ontain for </span><span style=\"background-color:#d4e6f1;\">instance to </span>be sfor thou of war wrhatred altrateth it<span style=\"background-color:#edebd0;\"> only, which is</span><br>thy when asd<span style=\"background-color:#d8daef;\">oms, from </span>thyself<span style=\"background-color:#d8daef;\">uality, the</span>n“<span style=\"background-color:#ecf3cf;\">good, thou</span> pass to<span style=\"background-color:#eadbd8;\"> me reveal</span> thost<span style=\"background-color:#d6dbdf;\">en they di</span><span style=\"background-color:#d8daef;\">alectics w</span>hich<br>over<span style=\"background-color:#ebdef0;\">from believ</span>e h andlevel. So,<span style=\"background-color:#e2d7d5;\"> their sha</span>ll "
            ]
          },
          "metadata": {}
        },
        {
          "output_type": "display_data",
          "data": {
            "text/plain": [
              "<IPython.core.display.HTML object>"
            ],
            "text/html": [
              "<small><p style=\"text-align:right;\">Sources: <span style=\"background-color:#d8daef;\">Georg Wilhelm Hegel: The History of Philosophy: Volume 3 of 3</span>, <span style=\"background-color:#d4e6f1;\">Immanuel Kant: Kant's Critique of Judgement</span>, <span style=\"background-color:#edebd0;\">Immanuel Kant: Kant's Prolegomena</span>, <span style=\"background-color:#ecf3cf;\">Georg Wilhelm Hegel: Hegel's Lectures on the History of Philosophy: Vol. 2 of 3</span>, <span style=\"background-color:#eadbd8;\">Immanuel Kant: The Critique of Pure Reason</span>, <span style=\"background-color:#d6dbdf;\">Friedrich Nietzsche: Thoughts Out of Season, Part 2</span>, <span style=\"background-color:#ebdef0;\">Friedrich Nietzsche: The Will to Power, Books III and IV</span>, <span style=\"background-color:#e2d7d5;\">Friedrich Nietzsche: The Joyful Wisdom</span></p></small>"
            ]
          },
          "metadata": {}
        },
        {
          "output_type": "stream",
          "name": "stdout",
          "text": [
            "-------------------------------------------\n",
            "step 2000: train loss 4.1196, val loss 4.1263, time 1.391 sec/iter\n",
            "Sample: --------temperature: 1.1 ---------\n"
          ]
        },
        {
          "output_type": "display_data",
          "data": {
            "text/plain": [
              "<IPython.core.display.HTML object>"
            ],
            "text/html": [
              " ἀοὗ).<span style=\"background-color:#eadbd8;\"><br><br>At first</span><span style=\"background-color:#ecf3cf;\"> false ideal</span>ω centu<span style=\"background-color:#e2d7d5;\">ry ground o</span>r<span style=\"background-color:#d8daef;\"> from beauty</span><span style=\"background-color:#d6dbdf;\"> on them an</span> obrelic<span style=\"background-color:#ecf3cf;\"> peace<br>of </span>their hea<span style=\"background-color:#d6dbdf;\">sion<br>better</span> the add<span style=\"background-color:#d8daef;\">ntradiction. Th</span>reatene<span style=\"background-color:#ebdef0;\">d may have </span>m<span style=\"background-color:#f6ddcc;\">azes into<br></span><span style=\"background-color:#d8daef;\">grounded, </span>a man of frustrichestraves..."
            ]
          },
          "metadata": {}
        },
        {
          "output_type": "display_data",
          "data": {
            "text/plain": [
              "<IPython.core.display.HTML object>"
            ],
            "text/html": [
              "<small><p style=\"text-align:right;\">Sources: <span style=\"background-color:#eadbd8;\">Immanuel Kant: The Critique of Pure Reason</span>, <span style=\"background-color:#ecf3cf;\">Georg Wilhelm Hegel: Hegel's Lectures on the History of Philosophy: Vol. 2 of 3</span>, <span style=\"background-color:#e2d7d5;\">Friedrich Nietzsche: The Joyful Wisdom</span>, <span style=\"background-color:#d8daef;\">Georg Wilhelm Hegel: The History of Philosophy: Volume 3 of 3</span>, <span style=\"background-color:#d6dbdf;\">Friedrich Nietzsche: Thoughts Out of Season, Part 2</span>, <span style=\"background-color:#ebdef0;\">Friedrich Nietzsche: The Will to Power, Books III and IV</span>, <span style=\"background-color:#f6ddcc;\">Friedrich Nietzsche: Human, All Too Human</span></p></small>"
            ]
          },
          "metadata": {}
        },
        {
          "output_type": "stream",
          "name": "stdout",
          "text": [
            "--------temperature: 1.2 ---------\n"
          ]
        },
        {
          "output_type": "display_data",
          "data": {
            "text/plain": [
              "<IPython.core.display.HTML object>"
            ],
            "text/html": [
              " rated in _histυσιφήν<span style=\"background-color:#ebdef0;\">_, because the</span>fift not<span style=\"background-color:#eadbd8;\"> a space, is </span><span style=\"background-color:#d8daef;\">possible to</span><span style=\"background-color:#ebdef0;\">ption of si</span>g<span style=\"background-color:#eadbd8;\">rate the activ</span><span style=\"background-color:#d8daef;\">e is not a</span><span style=\"background-color:#d8daef;\">ctivity, and </span>not <span style=\"background-color:#eadbd8;\">sidered them</span><span style=\"background-color:#d8daef;\"> to<br>object</span><span style=\"background-color:#d8daef;\"> brought for</span>-another,<span style=\"background-color:#eadbd8;\">, opposition </span><span style=\"background-color:#d8daef;\">from atoms</span><span style=\"background-color:#d4efdf;\">, which occu</span>p<span style=\"background-color:#d8daef;\">ied in its</span><span style=\"background-color:#d4efdf;\"><br>particular li</span><span style=\"background-color:#d8daef;\">ne, _i.e._ </span><span style=\"background-color:#d8daef;\">and formal </span>source"
            ]
          },
          "metadata": {}
        },
        {
          "output_type": "display_data",
          "data": {
            "text/plain": [
              "<IPython.core.display.HTML object>"
            ],
            "text/html": [
              "<small><p style=\"text-align:right;\">Sources: <span style=\"background-color:#ebdef0;\">Friedrich Nietzsche: The Will to Power, Books III and IV</span>, <span style=\"background-color:#eadbd8;\">Immanuel Kant: The Critique of Pure Reason</span>, <span style=\"background-color:#d8daef;\">Georg Wilhelm Hegel: The History of Philosophy: Volume 3 of 3</span>, <span style=\"background-color:#eadbd8;\">Friedrich Nietzsche: The Will to Power, Books I and II</span>, <span style=\"background-color:#d4efdf;\">Georg Wilhelm Hegel: Hegel's Lectures on the History of Philosophy: Vol. 1 of 3</span></p></small>"
            ]
          },
          "metadata": {}
        },
        {
          "output_type": "stream",
          "name": "stdout",
          "text": [
            "-------------------------------------------\n",
            "step 2250: train loss 3.7368, val loss 3.8118, time 1.390 sec/iter\n",
            "Sample: --------temperature: 1.1 ---------\n"
          ]
        },
        {
          "output_type": "display_data",
          "data": {
            "text/plain": [
              "<IPython.core.display.HTML object>"
            ],
            "text/html": [
              " 65<span style=\"background-color:#d8daef;\">), is the f</span>ourt<span style=\"background-color:#eadbd8;\">h collective</span><span style=\"background-color:#d4efdf;\"> shared th</span>a<span style=\"background-color:#eadbd8;\">t that only </span>Cousan,<span style=\"background-color:#e2d7d5;\"> his golde</span>r p<span style=\"background-color:#ecf3cf;\">and then the c</span>hon<span style=\"background-color:#ebdef0;\">y. But what </span><span style=\"background-color:#eadbd8;\">is this struggle</span>d he comprhow<span style=\"background-color:#ebdef0;\">evers are t</span><span style=\"background-color:#d8daef;\">hus no longer </span><span style=\"background-color:#d8daef;\">of themselves </span>much here<br><span style=\"background-color:#d4efdf;\">on<br>amongst </span><span style=\"background-color:#e2d7d5;\">uses with </span>such mythdes, who "
            ]
          },
          "metadata": {}
        },
        {
          "output_type": "display_data",
          "data": {
            "text/plain": [
              "<IPython.core.display.HTML object>"
            ],
            "text/html": [
              "<small><p style=\"text-align:right;\">Sources: <span style=\"background-color:#d8daef;\">Georg Wilhelm Hegel: The History of Philosophy: Volume 3 of 3</span>, <span style=\"background-color:#eadbd8;\">Friedrich Nietzsche: The Will to Power, Books I and II</span>, <span style=\"background-color:#d4efdf;\">Georg Wilhelm Hegel: Hegel's Lectures on the History of Philosophy: Vol. 1 of 3</span>, <span style=\"background-color:#e2d7d5;\">Friedrich Nietzsche: The Joyful Wisdom</span>, <span style=\"background-color:#ecf3cf;\">Georg Wilhelm Hegel: Hegel's Lectures on the History of Philosophy: Vol. 2 of 3</span>, <span style=\"background-color:#ebdef0;\">Friedrich Nietzsche: The Will to Power, Books III and IV</span>, <span style=\"background-color:#ebdef0;\">Friedrich Nietzsche: Beyond Good and Evil</span></p></small>"
            ]
          },
          "metadata": {}
        },
        {
          "output_type": "stream",
          "name": "stdout",
          "text": [
            "--------temperature: 1.2 ---------\n"
          ]
        },
        {
          "output_type": "display_data",
          "data": {
            "text/plain": [
              "<IPython.core.display.HTML object>"
            ],
            "text/html": [
              " νοῦς, ἕτυς<span style=\"background-color:#d4e6f1;\"> a teleology, </span><span style=\"background-color:#ecf3cf;\">in the third th</span><span style=\"background-color:#d8daef;\">, for with th</span>isno<span style=\"background-color:#d8daef;\">ther<br>what is </span><span style=\"background-color:#ecf3cf;\">sensuous.<br><br></span>(αἰ4<span style=\"background-color:#ecf3cf;\">) is the f</span><span style=\"background-color:#ebdef0;\">orm of the lu</span>n<span style=\"background-color:#d8daef;\">thought, or as </span>a m<span style=\"background-color:#d8daef;\">oden and<br>un</span><span style=\"background-color:#d8daef;\">discovering w</span><span style=\"background-color:#ecf3cf;\">ith the subject, a</span><span style=\"background-color:#edebd0;\"> priori and </span><span style=\"background-color:#d8daef;\">his<br>princip</span>a<span style=\"background-color:#eadbd8;\">l this thi</span><span style=\"background-color:#e5e8e8;\">s in rational </span>"
            ]
          },
          "metadata": {}
        },
        {
          "output_type": "display_data",
          "data": {
            "text/plain": [
              "<IPython.core.display.HTML object>"
            ],
            "text/html": [
              "<small><p style=\"text-align:right;\">Sources: <span style=\"background-color:#d4e6f1;\">Immanuel Kant: Kant's Critique of Judgement</span>, <span style=\"background-color:#ecf3cf;\">Georg Wilhelm Hegel: Hegel's Lectures on the History of Philosophy: Vol. 2 of 3</span>, <span style=\"background-color:#d8daef;\">Georg Wilhelm Hegel: The History of Philosophy: Volume 3 of 3</span>, <span style=\"background-color:#d8daef;\">Friedrich Nietzsche: Thoughts out of Season, Part One</span>, <span style=\"background-color:#ebdef0;\">Friedrich Nietzsche: The Will to Power, Books III and IV</span>, <span style=\"background-color:#edebd0;\">Immanuel Kant: Kant's Prolegomena</span>, <span style=\"background-color:#eadbd8;\">Friedrich Nietzsche: The Will to Power, Books I and II</span>, <span style=\"background-color:#e5e8e8;\">Immanuel Kant: The Critique of Practical Reason</span></p></small>"
            ]
          },
          "metadata": {}
        },
        {
          "output_type": "stream",
          "name": "stdout",
          "text": [
            "-------------------------------------------\n",
            "step 2500: train loss 3.3409, val loss 3.4175, time 1.390 sec/iter\n",
            "Sample: --------temperature: 1.1 ---------\n"
          ]
        },
        {
          "output_type": "display_data",
          "data": {
            "text/plain": [
              "<IPython.core.display.HTML object>"
            ],
            "text/html": [
              " f. _Oft, Als<span style=\"background-color:#d4efdf;\">lexander the Great, </span>17 : Libeus here capus, Paul or );<br><br>190 (29<span style=\"background-color:#d4efdf;\">); this is</span><span style=\"background-color:#d8daef;\"> no universal </span><span style=\"background-color:#ebdef0;\">assent to a</span><span style=\"background-color:#d8daef;\">pprehension in</span><span style=\"background-color:#d8daef;\">to<br>opposition </span><span style=\"background-color:#d8daef;\">to the particular.</span>"
            ]
          },
          "metadata": {}
        },
        {
          "output_type": "display_data",
          "data": {
            "text/plain": [
              "<IPython.core.display.HTML object>"
            ],
            "text/html": [
              "<small><p style=\"text-align:right;\">Sources: <span style=\"background-color:#d4efdf;\">Georg Wilhelm Hegel: Hegel's Lectures on the History of Philosophy: Vol. 1 of 3</span>, <span style=\"background-color:#d8daef;\">Georg Wilhelm Hegel: The History of Philosophy: Volume 3 of 3</span>, <span style=\"background-color:#ebdef0;\">Friedrich Nietzsche: The Will to Power, Books III and IV</span></p></small>"
            ]
          },
          "metadata": {}
        },
        {
          "output_type": "stream",
          "name": "stdout",
          "text": [
            "--------temperature: 1.2 ---------\n"
          ]
        },
        {
          "output_type": "display_data",
          "data": {
            "text/plain": [
              "<IPython.core.display.HTML object>"
            ],
            "text/html": [
              " αίωσδὲρον ὡ<span style=\"background-color:#ebdef0;\">of the<br>individual </span>_ἀεῖνάς_ o<span style=\"background-color:#e2d7d5;\">f we make </span><span style=\"background-color:#d4efdf;\">no conclusions </span><span style=\"background-color:#e5e8e8;\">of the attainment of<br></span>b<span style=\"background-color:#d8daef;\">ose who have </span>heal<span style=\"background-color:#ecf3cf;\">ths, and w</span><span style=\"background-color:#d8daef;\">ith this ab</span>ove<span style=\"background-color:#d8daef;\">d of spirit</span><span style=\"background-color:#d4e6f1;\">. This pla</span><span style=\"background-color:#d8daef;\">ce consists </span><span style=\"background-color:#ebdef0;\">in the<br>rule</span><span style=\"background-color:#d6eaf8;\"> for some ca</span>ses<span style=\"background-color:#e5e8e8;\">. But just </span><span style=\"background-color:#d8daef;\">universality</span>"
            ]
          },
          "metadata": {}
        },
        {
          "output_type": "display_data",
          "data": {
            "text/plain": [
              "<IPython.core.display.HTML object>"
            ],
            "text/html": [
              "<small><p style=\"text-align:right;\">Sources: <span style=\"background-color:#ebdef0;\">Friedrich Nietzsche: The Will to Power, Books III and IV</span>, <span style=\"background-color:#e2d7d5;\">Friedrich Nietzsche: The Joyful Wisdom</span>, <span style=\"background-color:#d4efdf;\">Georg Wilhelm Hegel: Hegel's Lectures on the History of Philosophy: Vol. 1 of 3</span>, <span style=\"background-color:#e5e8e8;\">Immanuel Kant: The Critique of Practical Reason</span>, <span style=\"background-color:#d8daef;\">Georg Wilhelm Hegel: The History of Philosophy: Volume 3 of 3</span>, <span style=\"background-color:#ecf3cf;\">Georg Wilhelm Hegel: Hegel's Lectures on the History of Philosophy: Vol. 2 of 3</span>, <span style=\"background-color:#d4e6f1;\">Immanuel Kant: Kant's Critique of Judgement</span>, <span style=\"background-color:#d6eaf8;\">Immanuel Kant: Perpetual Peace</span></p></small>"
            ]
          },
          "metadata": {}
        },
        {
          "output_type": "stream",
          "name": "stdout",
          "text": [
            "-------------------------------------------\n",
            "step 2750: train loss 3.1321, val loss 3.1175, time 1.390 sec/iter\n",
            "Sample: --------temperature: 1.1 ---------\n"
          ]
        },
        {
          "output_type": "display_data",
          "data": {
            "text/plain": [
              "<IPython.core.display.HTML object>"
            ],
            "text/html": [
              " ka<span style=\"background-color:#e2d7d5;\">ts into it</span>s beliefl<span style=\"background-color:#eadbd8;\">y and, in </span><span style=\"background-color:#d8daef;\">respect to o</span><span style=\"background-color:#ecf3cf;\">pposition to this </span>end,<br><span style=\"background-color:#d6dbdf;\">the monumental </span>Church h<span style=\"background-color:#d8daef;\">anity, which </span>e<span style=\"background-color:#d8daef;\">very circumstances </span><span style=\"background-color:#eadbd8;\">it to be e</span>dif<span style=\"background-color:#f6ddcc;\">s to everyone</span><br>of S<span style=\"background-color:#d6dbdf;\">outh, for the</span>re i<span style=\"background-color:#ecf3cf;\">s, keeping i</span><span style=\"background-color:#ecf3cf;\">n the element </span><span style=\"background-color:#eadbd8;\">in science</span><span style=\"background-color:#d8daef;\">s through the<br></span><span style=\"background-color:#d8daef;\">Light and the</span> deaf e"
            ]
          },
          "metadata": {}
        },
        {
          "output_type": "display_data",
          "data": {
            "text/plain": [
              "<IPython.core.display.HTML object>"
            ],
            "text/html": [
              "<small><p style=\"text-align:right;\">Sources: <span style=\"background-color:#e2d7d5;\">Friedrich Nietzsche: Thus Spake Zarathustra</span>, <span style=\"background-color:#eadbd8;\">Immanuel Kant: The Critique of Pure Reason</span>, <span style=\"background-color:#d8daef;\">Georg Wilhelm Hegel: The History of Philosophy: Volume 3 of 3</span>, <span style=\"background-color:#ecf3cf;\">Georg Wilhelm Hegel: Hegel's Lectures on the History of Philosophy: Vol. 2 of 3</span>, <span style=\"background-color:#d6dbdf;\">Friedrich Nietzsche: Thoughts Out of Season, Part 2</span>, <span style=\"background-color:#f6ddcc;\">Friedrich Nietzsche: Human, All Too Human</span>, <span style=\"background-color:#eadbd8;\">Friedrich Nietzsche: The Will to Power, Books I and II</span></p></small>"
            ]
          },
          "metadata": {}
        },
        {
          "output_type": "stream",
          "name": "stdout",
          "text": [
            "--------temperature: 1.2 ---------\n"
          ]
        },
        {
          "output_type": "display_data",
          "data": {
            "text/plain": [
              "<IPython.core.display.HTML object>"
            ],
            "text/html": [
              "  T<span style=\"background-color:#e2d7d5;\">hine own b</span><span style=\"background-color:#ecf3cf;\">ody and un</span><span style=\"background-color:#d4efdf;\">d, whose in</span> i<span style=\"background-color:#d8daef;\">diligent, </span>. They<br>mixes poit,<span style=\"background-color:#eadbd8;\"> back on e</span><span style=\"background-color:#ecf3cf;\">veryone, i</span><span style=\"background-color:#d8daef;\">s called upon t</span>lace<span style=\"background-color:#ebdef0;\">s in body </span>taited<span style=\"background-color:#d8daef;\">;<br>all other thin</span>king is e<span style=\"background-color:#e5e8e8;\">knows of wh</span><span style=\"background-color:#fdebd0;\">ich external </span><span style=\"background-color:#d4efdf;\">and muscles </span>into <span style=\"background-color:#d0ece7;\">us necessit</span><span style=\"background-color:#d8daef;\">ies. That </span><span style=\"background-color:#d8daef;\">also of the<br></span><span style=\"background-color:#d8daef;\">Greek philosophy </span>"
            ]
          },
          "metadata": {}
        },
        {
          "output_type": "display_data",
          "data": {
            "text/plain": [
              "<IPython.core.display.HTML object>"
            ],
            "text/html": [
              "<small><p style=\"text-align:right;\">Sources: <span style=\"background-color:#e2d7d5;\">Friedrich Nietzsche: Thus Spake Zarathustra</span>, <span style=\"background-color:#ecf3cf;\">Georg Wilhelm Hegel: Hegel's Lectures on the History of Philosophy: Vol. 2 of 3</span>, <span style=\"background-color:#d4efdf;\">Georg Wilhelm Hegel: Hegel's Lectures on the History of Philosophy: Vol. 1 of 3</span>, <span style=\"background-color:#d8daef;\">Georg Wilhelm Hegel: The History of Philosophy: Volume 3 of 3</span>, <span style=\"background-color:#eadbd8;\">Immanuel Kant: The Critique of Pure Reason</span>, <span style=\"background-color:#ebdef0;\">Friedrich Nietzsche: Beyond Good and Evil</span>, <span style=\"background-color:#e5e8e8;\">Immanuel Kant: The Critique of Practical Reason</span>, <span style=\"background-color:#fdebd0;\">Immanuel Kant: The Metaphysical Elements of Ethics</span>, <span style=\"background-color:#d0ece7;\">Friedrich Nietzsche: Early Greek Philosophy & Other Essays</span></p></small>"
            ]
          },
          "metadata": {}
        },
        {
          "output_type": "stream",
          "name": "stdout",
          "text": [
            "-------------------------------------------\n",
            "step 3000: train loss 2.7425, val loss 2.7057, time 1.390 sec/iter\n",
            "Sample: --------temperature: 1.1 ---------\n"
          ]
        },
        {
          "output_type": "display_data",
          "data": {
            "text/plain": [
              "<IPython.core.display.HTML object>"
            ],
            "text/html": [
              " 835<br><br>I<span style=\"background-color:#d8daef;\">f, in so far as</span>quest<span style=\"background-color:#d4efdf;\"> of Olympiad</span> (40<span style=\"background-color:#e2d7d5;\">),<br>          </span>company-us ad-Eddhis<span style=\"background-color:#d4efdf;\">ts by the </span>come of cof the<br>. (_Primal D., Quæst<span style=\"background-color:#ebdef0;\">._ In the </span><span style=\"background-color:#e2d7d5;\">second part of </span><span style=\"background-color:#d8daef;\">Aristotle)</span>, Pol"
            ]
          },
          "metadata": {}
        },
        {
          "output_type": "display_data",
          "data": {
            "text/plain": [
              "<IPython.core.display.HTML object>"
            ],
            "text/html": [
              "<small><p style=\"text-align:right;\">Sources: <span style=\"background-color:#d8daef;\">Georg Wilhelm Hegel: The History of Philosophy: Volume 3 of 3</span>, <span style=\"background-color:#d4efdf;\">Georg Wilhelm Hegel: Hegel's Lectures on the History of Philosophy: Vol. 1 of 3</span>, <span style=\"background-color:#e2d7d5;\">Friedrich Nietzsche: The Joyful Wisdom</span>, <span style=\"background-color:#ebdef0;\">Friedrich Nietzsche: The Will to Power, Books III and IV</span></p></small>"
            ]
          },
          "metadata": {}
        },
        {
          "output_type": "stream",
          "name": "stdout",
          "text": [
            "--------temperature: 1.2 ---------\n"
          ]
        },
        {
          "output_type": "display_data",
          "data": {
            "text/plain": [
              "<IPython.core.display.HTML object>"
            ],
            "text/html": [
              "<span style=\"background-color:#e5e8e8;\"> [supersensible]</span>: whosoestenmory, h<span style=\"background-color:#ebdef0;\">as slowly </span>fine<span style=\"background-color:#ebdef0;\">s<br>children </span>and snenk<span style=\"background-color:#d8daef;\"> of heaven </span>only do<span style=\"background-color:#ebdef0;\">. The last </span><span style=\"background-color:#ebdef0;\">constant cou</span>rage<br>hag<span style=\"background-color:#ebdef0;\">ases and d</span>ragic tatiology, vestig<span style=\"background-color:#d8daef;\">e is regarded as<br></span>a weeattack<span style=\"background-color:#d0ece7;\">. With thei</span>stic "
            ]
          },
          "metadata": {}
        },
        {
          "output_type": "display_data",
          "data": {
            "text/plain": [
              "<IPython.core.display.HTML object>"
            ],
            "text/html": [
              "<small><p style=\"text-align:right;\">Sources: <span style=\"background-color:#e5e8e8;\">Immanuel Kant: The Critique of Practical Reason</span>, <span style=\"background-color:#ebdef0;\">Friedrich Nietzsche: Beyond Good and Evil</span>, <span style=\"background-color:#ebdef0;\">Friedrich Nietzsche: The Will to Power, Books III and IV</span>, <span style=\"background-color:#d8daef;\">Georg Wilhelm Hegel: The History of Philosophy: Volume 3 of 3</span>, <span style=\"background-color:#d0ece7;\">Friedrich Nietzsche: Early Greek Philosophy & Other Essays</span></p></small>"
            ]
          },
          "metadata": {}
        },
        {
          "output_type": "stream",
          "name": "stdout",
          "text": [
            "-------------------------------------------\n",
            "step 3250: train loss 2.4119, val loss 2.4154, time 1.391 sec/iter\n",
            "Sample: --------temperature: 1.1 ---------\n"
          ]
        },
        {
          "output_type": "display_data",
          "data": {
            "text/plain": [
              "<IPython.core.display.HTML object>"
            ],
            "text/html": [
              "<span style=\"background-color:#fdebd0;\"> ^paragraph</span>y ref<span style=\"background-color:#ecf3cf;\">er. Now the</span><span style=\"background-color:#eadbd8;\"><br>determinations of p</span><span style=\"background-color:#d4e6f1;\">roperty of a</span><span style=\"background-color:#d8daef;\">s<br>must be </span><span style=\"background-color:#d4e6f1;\">only conditioned</span><span style=\"background-color:#eadbd8;\">; consequently, it</span>s<span style=\"background-color:#d8daef;\"> empty for</span>ce,<span style=\"background-color:#e5e8e8;\"> law even to</span><br>expla<span style=\"background-color:#d8daef;\">ine itself</span><span style=\"background-color:#ecf3cf;\">, and these are </span><span style=\"background-color:#eadbd8;\">can be applied to<br></span><span style=\"background-color:#d8daef;\">consideration. </span>Ye<span style=\"background-color:#ecf3cf;\">t the crite</span>ording<br>tw<span style=\"background-color:#eadbd8;\">o purely in</span>mar<span style=\"background-color:#d0ece7;\">k themselves, </span>absolute "
            ]
          },
          "metadata": {}
        },
        {
          "output_type": "display_data",
          "data": {
            "text/plain": [
              "<IPython.core.display.HTML object>"
            ],
            "text/html": [
              "<small><p style=\"text-align:right;\">Sources: <span style=\"background-color:#fdebd0;\">Immanuel Kant: The Metaphysical Elements of Ethics</span>, <span style=\"background-color:#ecf3cf;\">Georg Wilhelm Hegel: Hegel's Lectures on the History of Philosophy: Vol. 2 of 3</span>, <span style=\"background-color:#eadbd8;\">Immanuel Kant: The Critique of Pure Reason</span>, <span style=\"background-color:#d4e6f1;\">Immanuel Kant: Kant's Critique of Judgement</span>, <span style=\"background-color:#d8daef;\">Georg Wilhelm Hegel: The History of Philosophy: Volume 3 of 3</span>, <span style=\"background-color:#e5e8e8;\">Immanuel Kant: The Critique of Practical Reason</span>, <span style=\"background-color:#d0ece7;\">Friedrich Nietzsche: Early Greek Philosophy & Other Essays</span></p></small>"
            ]
          },
          "metadata": {}
        },
        {
          "output_type": "stream",
          "name": "stdout",
          "text": [
            "--------temperature: 1.2 ---------\n"
          ]
        },
        {
          "output_type": "display_data",
          "data": {
            "text/plain": [
              "<IPython.core.display.HTML object>"
            ],
            "text/html": [
              " -2<span style=\"background-color:#e2d7d5;\">4. In the<br>fo</span><span style=\"background-color:#d8daef;\">rm, without </span>Paranius, I. 3)<span style=\"background-color:#d8daef;\">. Principes</span>:<br>“<span style=\"background-color:#ecf3cf;\">Sextus Empiricus and </span>these tro<span style=\"background-color:#ebdef0;\">guishing be</span><span style=\"background-color:#eadbd8;\">cause it would </span>promise, h <span style=\"background-color:#d4efdf;\">in<br>content </span>face;<span style=\"background-color:#d4efdf;\"> to a tyran</span>n<span style=\"background-color:#e2d7d5;\">y, the great </span>advrefers and r"
            ]
          },
          "metadata": {}
        },
        {
          "output_type": "display_data",
          "data": {
            "text/plain": [
              "<IPython.core.display.HTML object>"
            ],
            "text/html": [
              "<small><p style=\"text-align:right;\">Sources: <span style=\"background-color:#e2d7d5;\">Friedrich Nietzsche: Thus Spake Zarathustra</span>, <span style=\"background-color:#d8daef;\">Georg Wilhelm Hegel: The History of Philosophy: Volume 3 of 3</span>, <span style=\"background-color:#ecf3cf;\">Georg Wilhelm Hegel: Hegel's Lectures on the History of Philosophy: Vol. 2 of 3</span>, <span style=\"background-color:#ebdef0;\">Friedrich Nietzsche: The Will to Power, Books III and IV</span>, <span style=\"background-color:#eadbd8;\">Friedrich Nietzsche: The Will to Power, Books I and II</span>, <span style=\"background-color:#d4efdf;\">Georg Wilhelm Hegel: Hegel's Lectures on the History of Philosophy: Vol. 1 of 3</span></p></small>"
            ]
          },
          "metadata": {}
        },
        {
          "output_type": "stream",
          "name": "stdout",
          "text": [
            "-------------------------------------------\n",
            "step 3500: train loss 2.1549, val loss 2.1246, time 1.392 sec/iter\n",
            "Sample: --------temperature: 1.1 ---------\n"
          ]
        },
        {
          "output_type": "display_data",
          "data": {
            "text/plain": [
              "<IPython.core.display.HTML object>"
            ],
            "text/html": [
              " 5<span style=\"background-color:#d8daef;\">) infinite</span>; \"<span style=\"background-color:#e2d7d5;\">all men are a</span>ssu<span style=\"background-color:#d4e6f1;\">me,<br>express</span><span style=\"background-color:#ebdef0;\">es itself to be an </span><span style=\"background-color:#d8daef;\">infinite si</span><span style=\"background-color:#d4efdf;\">nce it is here th</span><span style=\"background-color:#ebdef0;\">is precisely<br></span><span style=\"background-color:#d8daef;\">dopted in the s</span><span style=\"background-color:#eadbd8;\">ense and the </span>moralistylists door<span style=\"background-color:#ecf3cf;\">ize with th</span><span style=\"background-color:#d4efdf;\">ought;<br>they </span><span style=\"background-color:#d0ece7;\">imagined that th</span>ey writerioccent, a<span style=\"background-color:#edebd0;\">s, without bei</span>t<br>_that"
            ]
          },
          "metadata": {}
        },
        {
          "output_type": "display_data",
          "data": {
            "text/plain": [
              "<IPython.core.display.HTML object>"
            ],
            "text/html": [
              "<small><p style=\"text-align:right;\">Sources: <span style=\"background-color:#d8daef;\">Georg Wilhelm Hegel: The History of Philosophy: Volume 3 of 3</span>, <span style=\"background-color:#e2d7d5;\">Friedrich Nietzsche: The Joyful Wisdom</span>, <span style=\"background-color:#d4e6f1;\">Immanuel Kant: Kant's Critique of Judgement</span>, <span style=\"background-color:#ebdef0;\">Friedrich Nietzsche: Beyond Good and Evil</span>, <span style=\"background-color:#d4efdf;\">Georg Wilhelm Hegel: Hegel's Lectures on the History of Philosophy: Vol. 1 of 3</span>, <span style=\"background-color:#ebdef0;\">Friedrich Nietzsche: The Will to Power, Books III and IV</span>, <span style=\"background-color:#eadbd8;\">Friedrich Nietzsche: The Will to Power, Books I and II</span>, <span style=\"background-color:#ecf3cf;\">Georg Wilhelm Hegel: Hegel's Lectures on the History of Philosophy: Vol. 2 of 3</span>, <span style=\"background-color:#d0ece7;\">Friedrich Nietzsche: Early Greek Philosophy & Other Essays</span>, <span style=\"background-color:#edebd0;\">Immanuel Kant: Kant's Prolegomena</span></p></small>"
            ]
          },
          "metadata": {}
        },
        {
          "output_type": "stream",
          "name": "stdout",
          "text": [
            "--------temperature: 1.2 ---------\n"
          ]
        },
        {
          "output_type": "display_data",
          "data": {
            "text/plain": [
              "<IPython.core.display.HTML object>"
            ],
            "text/html": [
              " --<span style=\"background-color:#ebdef0;\">--because </span>F<span style=\"background-color:#d0ece7;\">rom there </span><span style=\"background-color:#edebd0;\">are ready </span>and h<span style=\"background-color:#d8daef;\">ar thoughts </span><span style=\"background-color:#e2d7d5;\">repelled t</span>oo m<span style=\"background-color:#fdebd0;\">indrances t</span>h<span style=\"background-color:#ebdef0;\">ound these </span>my<br>m<span style=\"background-color:#fae5d3;\">an, their </span>ice.--<span style=\"background-color:#e2d7d5;\">I have known </span>c<span style=\"background-color:#ecf3cf;\">le. But the</span><span style=\"background-color:#e2d7d5;\">re are a t</span>remas behave th<span style=\"background-color:#d4efdf;\">in<br>Europe,</span>--<span style=\"background-color:#e2d7d5;\">I have often enough</span><span style=\"background-color:#d0ece7;\"> saved themselves </span>in Pliny earness."
            ]
          },
          "metadata": {}
        },
        {
          "output_type": "display_data",
          "data": {
            "text/plain": [
              "<IPython.core.display.HTML object>"
            ],
            "text/html": [
              "<small><p style=\"text-align:right;\">Sources: <span style=\"background-color:#ebdef0;\">Friedrich Nietzsche: The Will to Power, Books III and IV</span>, <span style=\"background-color:#d0ece7;\">Friedrich Nietzsche: Early Greek Philosophy & Other Essays</span>, <span style=\"background-color:#edebd0;\">Immanuel Kant: Kant's Prolegomena</span>, <span style=\"background-color:#d8daef;\">Georg Wilhelm Hegel: The History of Philosophy: Volume 3 of 3</span>, <span style=\"background-color:#e2d7d5;\">Friedrich Nietzsche: Thus Spake Zarathustra</span>, <span style=\"background-color:#fdebd0;\">Immanuel Kant: The Metaphysical Elements of Ethics</span>, <span style=\"background-color:#fae5d3;\">Friedrich Nietzsche: We Philologists, Volume 8 of 18</span>, <span style=\"background-color:#ecf3cf;\">Georg Wilhelm Hegel: Hegel's Lectures on the History of Philosophy: Vol. 2 of 3</span>, <span style=\"background-color:#e2d7d5;\">Friedrich Nietzsche: The Joyful Wisdom</span>, <span style=\"background-color:#d4efdf;\">Georg Wilhelm Hegel: Hegel's Lectures on the History of Philosophy: Vol. 1 of 3</span></p></small>"
            ]
          },
          "metadata": {}
        },
        {
          "output_type": "stream",
          "name": "stdout",
          "text": [
            "-------------------------------------------\n",
            "step 3750: train loss 1.8383, val loss 1.8488, time 1.391 sec/iter\n",
            "Sample: --------temperature: 1.1 ---------\n"
          ]
        },
        {
          "output_type": "display_data",
          "data": {
            "text/plain": [
              "<IPython.core.display.HTML object>"
            ],
            "text/html": [
              " <span style=\"background-color:#edebd0;\">ll its concepts </span><span style=\"background-color:#edebd0;\">of the phenomena </span><span style=\"background-color:#d8daef;\">presupposed; and</span><br>ye<span style=\"background-color:#d4e6f1;\">t Understanding, </span><span style=\"background-color:#ebdef0;\">like those su</span><span style=\"background-color:#eadbd8;\">bstance, by </span><span style=\"background-color:#d4e6f1;\">means of the<br>re</span><span style=\"background-color:#d8daef;\">presentations of the m</span><span style=\"background-color:#e5e8e8;\">ental disposition o</span><span style=\"background-color:#d8daef;\">r cognitive </span><span style=\"background-color:#eadbd8;\">sensations ma</span>rks<span style=\"background-color:#ecf3cf;\">;” that is, </span>as they<span style=\"background-color:#d0ece7;\"> to<br>communicate, </span><span style=\"background-color:#e5e8e8;\">in their own in</span>ne<span style=\"background-color:#edebd0;\">r validity, </span><span style=\"background-color:#d8daef;\">but we must </span><span style=\"background-color:#eadbd8;\">listen to </span>la<span style=\"background-color:#d8daef;\">unction which </span>ent "
            ]
          },
          "metadata": {}
        },
        {
          "output_type": "display_data",
          "data": {
            "text/plain": [
              "<IPython.core.display.HTML object>"
            ],
            "text/html": [
              "<small><p style=\"text-align:right;\">Sources: <span style=\"background-color:#edebd0;\">Immanuel Kant: Kant's Prolegomena</span>, <span style=\"background-color:#d8daef;\">Georg Wilhelm Hegel: The History of Philosophy: Volume 3 of 3</span>, <span style=\"background-color:#d4e6f1;\">Immanuel Kant: Kant's Critique of Judgement</span>, <span style=\"background-color:#ebdef0;\">Friedrich Nietzsche: Beyond Good and Evil</span>, <span style=\"background-color:#eadbd8;\">Immanuel Kant: The Critique of Pure Reason</span>, <span style=\"background-color:#e5e8e8;\">Immanuel Kant: The Critique of Practical Reason</span>, <span style=\"background-color:#ecf3cf;\">Georg Wilhelm Hegel: Hegel's Lectures on the History of Philosophy: Vol. 2 of 3</span>, <span style=\"background-color:#d0ece7;\">Friedrich Nietzsche: Early Greek Philosophy & Other Essays</span>, <span style=\"background-color:#eadbd8;\">Friedrich Nietzsche: The Will to Power, Books I and II</span></p></small>"
            ]
          },
          "metadata": {}
        },
        {
          "output_type": "stream",
          "name": "stdout",
          "text": [
            "--------temperature: 1.2 ---------\n"
          ]
        },
        {
          "output_type": "display_data",
          "data": {
            "text/plain": [
              "<IPython.core.display.HTML object>"
            ],
            "text/html": [
              "<span style=\"background-color:#d8daef;\"> and independent</span>Iber<span style=\"background-color:#ecf3cf;\">gmatic philosophy is </span><span style=\"background-color:#ecf3cf;\">movement in<br>general</span>ization? the ninerr or cogva<span style=\"background-color:#ebdef0;\">rying on the c</span>rers o<span style=\"background-color:#d4efdf;\">that everything that is</span><br><span style=\"background-color:#d4e6f1;\">shape has </span><span style=\"background-color:#edebd0;\">conjoined with the con</span><span style=\"background-color:#d8daef;\">ception of its </span><span style=\"background-color:#d4efdf;\">sickness and</span>s<span style=\"background-color:#ebdef0;\">, that, from</span><span style=\"background-color:#eadbd8;\"> its harmonious </span>e<span style=\"background-color:#d4e6f1;\">n, may<br>be </span><span style=\"background-color:#ecf3cf;\">called secondary </span>"
            ]
          },
          "metadata": {}
        },
        {
          "output_type": "display_data",
          "data": {
            "text/plain": [
              "<IPython.core.display.HTML object>"
            ],
            "text/html": [
              "<small><p style=\"text-align:right;\">Sources: <span style=\"background-color:#d8daef;\">Georg Wilhelm Hegel: The History of Philosophy: Volume 3 of 3</span>, <span style=\"background-color:#ecf3cf;\">Georg Wilhelm Hegel: Hegel's Lectures on the History of Philosophy: Vol. 2 of 3</span>, <span style=\"background-color:#ebdef0;\">Friedrich Nietzsche: Beyond Good and Evil</span>, <span style=\"background-color:#d4efdf;\">Georg Wilhelm Hegel: Hegel's Lectures on the History of Philosophy: Vol. 1 of 3</span>, <span style=\"background-color:#d4e6f1;\">Immanuel Kant: Kant's Critique of Judgement</span>, <span style=\"background-color:#edebd0;\">Immanuel Kant: Kant's Prolegomena</span>, <span style=\"background-color:#eadbd8;\">Immanuel Kant: The Critique of Pure Reason</span></p></small>"
            ]
          },
          "metadata": {}
        },
        {
          "output_type": "stream",
          "name": "stdout",
          "text": [
            "-------------------------------------------\n",
            "step 4000: train loss 1.6183, val loss 1.6159, time 1.391 sec/iter\n",
            "Sample: --------temperature: 1.1 ---------\n"
          ]
        },
        {
          "output_type": "display_data",
          "data": {
            "text/plain": [
              "<IPython.core.display.HTML object>"
            ],
            "text/html": [
              "<span style=\"background-color:#e2d7d5;\"> ‘Will to </span>dail<span style=\"background-color:#ebdef0;\">s not from </span>some<br><span style=\"background-color:#d8daef;\">divine and </span><span style=\"background-color:#eadbd8;\">others, it is </span>min<span style=\"background-color:#ecf3cf;\">e an idea </span><span style=\"background-color:#d8daef;\">that there should</span><span style=\"background-color:#d4e6f1;\"><br>neither on</span>ly as draw n<span style=\"background-color:#d8daef;\">or natural</span><span style=\"background-color:#d4e6f1;\">ly for every </span>b<span style=\"background-color:#d6eaf8;\">efore other</span>s, prom<span style=\"background-color:#d8daef;\">, or on an</span><span style=\"background-color:#d4efdf;\"><br>edifice in its conception, is far </span><span style=\"background-color:#d8daef;\">only in regard to the </span><span style=\"background-color:#ebdef0;\">scientific o</span><span style=\"background-color:#e5e8e8;\">f<br>practical reason, </span>it is "
            ]
          },
          "metadata": {}
        },
        {
          "output_type": "display_data",
          "data": {
            "text/plain": [
              "<IPython.core.display.HTML object>"
            ],
            "text/html": [
              "<small><p style=\"text-align:right;\">Sources: <span style=\"background-color:#e2d7d5;\">Friedrich Nietzsche: Thus Spake Zarathustra</span>, <span style=\"background-color:#ebdef0;\">Friedrich Nietzsche: The Will to Power, Books III and IV</span>, <span style=\"background-color:#d8daef;\">Georg Wilhelm Hegel: The History of Philosophy: Volume 3 of 3</span>, <span style=\"background-color:#eadbd8;\">Friedrich Nietzsche: The Will to Power, Books I and II</span>, <span style=\"background-color:#ecf3cf;\">Georg Wilhelm Hegel: Hegel's Lectures on the History of Philosophy: Vol. 2 of 3</span>, <span style=\"background-color:#d4e6f1;\">Immanuel Kant: Kant's Critique of Judgement</span>, <span style=\"background-color:#d6eaf8;\">Immanuel Kant: Perpetual Peace</span>, <span style=\"background-color:#d4efdf;\">Georg Wilhelm Hegel: Hegel's Lectures on the History of Philosophy: Vol. 1 of 3</span>, <span style=\"background-color:#d8daef;\">Friedrich Nietzsche: Thoughts out of Season, Part One</span>, <span style=\"background-color:#e5e8e8;\">Immanuel Kant: The Critique of Practical Reason</span></p></small>"
            ]
          },
          "metadata": {}
        },
        {
          "output_type": "stream",
          "name": "stdout",
          "text": [
            "--------temperature: 1.2 ---------\n"
          ]
        },
        {
          "output_type": "display_data",
          "data": {
            "text/plain": [
              "<IPython.core.display.HTML object>"
            ],
            "text/html": [
              " εst<span style=\"background-color:#f6ddcc;\">one through a hundred t</span>o <span style=\"background-color:#d4efdf;\">us Xenophon</span> de<br>re<span style=\"background-color:#d4efdf;\">al gods as </span>and swhether<span style=\"background-color:#e2d7d5;\"> none<br>the less </span><span style=\"background-color:#d4e6f1;\">variety and </span><span style=\"background-color:#ecf3cf;\">others without</span><span style=\"background-color:#eadbd8;\">, or even a</span>gai<span style=\"background-color:#d6dbdf;\">n and<br>others</span><span style=\"background-color:#e2d7d5;\"> bit with </span><span style=\"background-color:#ebdef0;\">regard to ou</span>t the  de<span style=\"background-color:#d8daef;\">taken the fo</span><span style=\"background-color:#ebdef0;\">ur of those </span><span style=\"background-color:#d6dbdf;\">lest the t</span>er,<span style=\"background-color:#eadbd8;\"> a<br>progression</span>, iresse"
            ]
          },
          "metadata": {}
        },
        {
          "output_type": "display_data",
          "data": {
            "text/plain": [
              "<IPython.core.display.HTML object>"
            ],
            "text/html": [
              "<small><p style=\"text-align:right;\">Sources: <span style=\"background-color:#f6ddcc;\">Friedrich Nietzsche: Human, All Too Human</span>, <span style=\"background-color:#d4efdf;\">Georg Wilhelm Hegel: Hegel's Lectures on the History of Philosophy: Vol. 1 of 3</span>, <span style=\"background-color:#e2d7d5;\">Friedrich Nietzsche: The Joyful Wisdom</span>, <span style=\"background-color:#d4e6f1;\">Immanuel Kant: Kant's Critique of Judgement</span>, <span style=\"background-color:#ecf3cf;\">Georg Wilhelm Hegel: Hegel's Lectures on the History of Philosophy: Vol. 2 of 3</span>, <span style=\"background-color:#eadbd8;\">Friedrich Nietzsche: The Will to Power, Books I and II</span>, <span style=\"background-color:#d6dbdf;\">Friedrich Nietzsche: Thoughts Out of Season, Part 2</span>, <span style=\"background-color:#e2d7d5;\">Friedrich Nietzsche: Thus Spake Zarathustra</span>, <span style=\"background-color:#ebdef0;\">Friedrich Nietzsche: The Will to Power, Books III and IV</span>, <span style=\"background-color:#d8daef;\">Georg Wilhelm Hegel: The History of Philosophy: Volume 3 of 3</span>, <span style=\"background-color:#ebdef0;\">Friedrich Nietzsche: Beyond Good and Evil</span>, <span style=\"background-color:#eadbd8;\">Immanuel Kant: The Critique of Pure Reason</span></p></small>"
            ]
          },
          "metadata": {}
        },
        {
          "output_type": "stream",
          "name": "stdout",
          "text": [
            "-------------------------------------------\n",
            "step 4250: train loss 1.3668, val loss 1.3817, time 1.390 sec/iter\n",
            "Sample: --------temperature: 1.1 ---------\n"
          ]
        },
        {
          "output_type": "display_data",
          "data": {
            "text/plain": [
              "<IPython.core.display.HTML object>"
            ],
            "text/html": [
              " Jesulation]<span style=\"background-color:#d8daef;\">. In this philosophy </span><span style=\"background-color:#d8daef;\">Thought is<br></span><span style=\"background-color:#ecf3cf;\">as is proper</span><span style=\"background-color:#d8daef;\">ly natural and </span><span style=\"background-color:#d8daef;\">universal in th</span><span style=\"background-color:#d8daef;\">ought, but th</span><span style=\"background-color:#d4efdf;\">rough the<br>ac</span><span style=\"background-color:#d8daef;\">tual reality in </span><span style=\"background-color:#ecf3cf;\">what is sensuous, and then </span>i<span style=\"background-color:#d8daef;\">t the transi</span><span style=\"background-color:#ecf3cf;\">on.<br>But the </span><span style=\"background-color:#d4efdf;\">Stoics, as also </span><span style=\"background-color:#d8daef;\">pure thought o</span><span style=\"background-color:#d8daef;\">n the<br>content </span>rul<span style=\"background-color:#d8daef;\">es as result</span><span style=\"background-color:#d0ece7;\">. Now in this </span>f<span style=\"background-color:#d4e6e1;\">ormal philosophy is</span><br>to be "
            ]
          },
          "metadata": {}
        },
        {
          "output_type": "display_data",
          "data": {
            "text/plain": [
              "<IPython.core.display.HTML object>"
            ],
            "text/html": [
              "<small><p style=\"text-align:right;\">Sources: <span style=\"background-color:#d8daef;\">Georg Wilhelm Hegel: The History of Philosophy: Volume 3 of 3</span>, <span style=\"background-color:#ecf3cf;\">Georg Wilhelm Hegel: Hegel's Lectures on the History of Philosophy: Vol. 2 of 3</span>, <span style=\"background-color:#d4efdf;\">Georg Wilhelm Hegel: Hegel's Lectures on the History of Philosophy: Vol. 1 of 3</span>, <span style=\"background-color:#d0ece7;\">Friedrich Nietzsche: Early Greek Philosophy & Other Essays</span>, <span style=\"background-color:#d4e6e1;\">Immanuel Kant: Fundamental Principles of the Metaphysic of Morals</span></p></small>"
            ]
          },
          "metadata": {}
        },
        {
          "output_type": "stream",
          "name": "stdout",
          "text": [
            "--------temperature: 1.2 ---------\n"
          ]
        },
        {
          "output_type": "display_data",
          "data": {
            "text/plain": [
              "<IPython.core.display.HTML object>"
            ],
            "text/html": [
              "  morali<span style=\"background-color:#d6eaf8;\"><br><br>  With regard to the </span>Axim<br>    Of Of Omontur, III. 38.<br><br>  Thueca<span style=\"background-color:#d8daef;\">versality, I</span><span style=\"background-color:#d8daef;\">II. 39.<br><br>  </span>Origen o<span style=\"background-color:#d8daef;\">nly nothing </span>but volum<span style=\"background-color:#e2d7d5;\">e and science</span>s<span style=\"background-color:#d8daef;\"> in arguments </span><span style=\"background-color:#d8daef;\">of a peculiar</span>ity of<br>we sawe in<span style=\"background-color:#ebdef0;\">to emotions.</span>” <span style=\"background-color:#ecf3cf;\">heir form </span>"
            ]
          },
          "metadata": {}
        },
        {
          "output_type": "display_data",
          "data": {
            "text/plain": [
              "<IPython.core.display.HTML object>"
            ],
            "text/html": [
              "<small><p style=\"text-align:right;\">Sources: <span style=\"background-color:#d6eaf8;\">Immanuel Kant: Perpetual Peace</span>, <span style=\"background-color:#d8daef;\">Georg Wilhelm Hegel: The History of Philosophy: Volume 3 of 3</span>, <span style=\"background-color:#e2d7d5;\">Friedrich Nietzsche: The Joyful Wisdom</span>, <span style=\"background-color:#ebdef0;\">Friedrich Nietzsche: The Will to Power, Books III and IV</span>, <span style=\"background-color:#ecf3cf;\">Georg Wilhelm Hegel: Hegel's Lectures on the History of Philosophy: Vol. 2 of 3</span></p></small>"
            ]
          },
          "metadata": {}
        },
        {
          "output_type": "stream",
          "name": "stdout",
          "text": [
            "-------------------------------------------\n",
            "step 4500: train loss 1.1820, val loss 1.1744, time 1.392 sec/iter\n",
            "Sample: --------temperature: 1.1 ---------\n"
          ]
        },
        {
          "output_type": "display_data",
          "data": {
            "text/plain": [
              "<IPython.core.display.HTML object>"
            ],
            "text/html": [
              " τάτει ἔστος τὸ κιοἷμένων καὶ τἀτοῦν τέλλοι τοε κατ"
            ]
          },
          "metadata": {}
        },
        {
          "output_type": "stream",
          "name": "stdout",
          "text": [
            "--------temperature: 1.2 ---------\n"
          ]
        },
        {
          "output_type": "display_data",
          "data": {
            "text/plain": [
              "<IPython.core.display.HTML object>"
            ],
            "text/html": [
              " ἦdespit<span style=\"background-color:#eadbd8;\">e again react</span>ions as f<span style=\"background-color:#e2d7d5;\">ailing his </span>worthy. T<span style=\"background-color:#d8daef;\">he<br>seemed i</span><span style=\"background-color:#d8daef;\">t appears to us </span>i<span style=\"background-color:#e2d7d5;\">n are all </span><span style=\"background-color:#d8daef;\">as done by the </span>captain<span style=\"background-color:#d4e6e1;\">head of ne</span><span style=\"background-color:#ebdef0;\">w colours, </span><span style=\"background-color:#d8daef;\">ptions which </span><span style=\"background-color:#ebdef0;\">to a world </span><span style=\"background-color:#d8daef;\">capable of re</span>venge<br>narrrased by<span style=\"background-color:#e2d7d5;\"> a visionary </span>omnia. Y"
            ]
          },
          "metadata": {}
        },
        {
          "output_type": "display_data",
          "data": {
            "text/plain": [
              "<IPython.core.display.HTML object>"
            ],
            "text/html": [
              "<small><p style=\"text-align:right;\">Sources: <span style=\"background-color:#eadbd8;\">Immanuel Kant: The Critique of Pure Reason</span>, <span style=\"background-color:#e2d7d5;\">Friedrich Nietzsche: Thus Spake Zarathustra</span>, <span style=\"background-color:#d8daef;\">Friedrich Nietzsche: Thoughts out of Season, Part One</span>, <span style=\"background-color:#d8daef;\">Georg Wilhelm Hegel: The History of Philosophy: Volume 3 of 3</span>, <span style=\"background-color:#e2d7d5;\">Friedrich Nietzsche: The Joyful Wisdom</span>, <span style=\"background-color:#d4e6e1;\">Immanuel Kant: Fundamental Principles of the Metaphysic of Morals</span>, <span style=\"background-color:#ebdef0;\">Friedrich Nietzsche: The Will to Power, Books III and IV</span></p></small>"
            ]
          },
          "metadata": {}
        },
        {
          "output_type": "stream",
          "name": "stdout",
          "text": [
            "-------------------------------------------\n",
            "step 4750: train loss 1.0476, val loss 1.0461, time 1.391 sec/iter\n",
            "Sample: --------temperature: 1.1 ---------\n"
          ]
        },
        {
          "output_type": "display_data",
          "data": {
            "text/plain": [
              "<IPython.core.display.HTML object>"
            ],
            "text/html": [
              " 'eb<span style=\"background-color:#d6dbdf;\">to<br>the small and i</span>mmortal to Li<span style=\"background-color:#d8daef;\">ght to know </span><span style=\"background-color:#d6dbdf;\">anything greater </span>hor<span style=\"background-color:#eadbd8;\">roads that </span>have<br><span style=\"background-color:#eadbd8;\">fallen into </span><span style=\"background-color:#ecf3cf;\">hundred and </span>misf<span style=\"background-color:#d8daef;\">ravelled to </span>the rings un<span style=\"background-color:#ecf3cf;\">seem to en</span>ter say u<span style=\"background-color:#ecf3cf;\">ntain<br>the </span>que no<span style=\"background-color:#e2d7d5;\">stic honour</span> or<span style=\"background-color:#ebdef0;\"> malicious a</span>gitation"
            ]
          },
          "metadata": {}
        },
        {
          "output_type": "display_data",
          "data": {
            "text/plain": [
              "<IPython.core.display.HTML object>"
            ],
            "text/html": [
              "<small><p style=\"text-align:right;\">Sources: <span style=\"background-color:#d6dbdf;\">Friedrich Nietzsche: Thoughts Out of Season, Part 2</span>, <span style=\"background-color:#d8daef;\">Friedrich Nietzsche: Thoughts out of Season, Part One</span>, <span style=\"background-color:#eadbd8;\">Immanuel Kant: The Critique of Pure Reason</span>, <span style=\"background-color:#eadbd8;\">Friedrich Nietzsche: The Will to Power, Books I and II</span>, <span style=\"background-color:#ecf3cf;\">Georg Wilhelm Hegel: Hegel's Lectures on the History of Philosophy: Vol. 2 of 3</span>, <span style=\"background-color:#d8daef;\">Georg Wilhelm Hegel: The History of Philosophy: Volume 3 of 3</span>, <span style=\"background-color:#e2d7d5;\">Friedrich Nietzsche: The Joyful Wisdom</span>, <span style=\"background-color:#ebdef0;\">Friedrich Nietzsche: Beyond Good and Evil</span></p></small>"
            ]
          },
          "metadata": {}
        },
        {
          "output_type": "stream",
          "name": "stdout",
          "text": [
            "--------temperature: 1.2 ---------\n"
          ]
        },
        {
          "output_type": "display_data",
          "data": {
            "text/plain": [
              "<IPython.core.display.HTML object>"
            ],
            "text/html": [
              "<span style=\"background-color:#d8daef;\"> The object o</span><span style=\"background-color:#ebdef0;\">ne, in which </span><span style=\"background-color:#d8daef;\">a definite intuition</span><span style=\"background-color:#eadbd8;\"> à priori, in<br></span><span style=\"background-color:#e5e8e8;\">respect. His </span><span style=\"background-color:#ecf3cf;\">reflection is </span><span style=\"background-color:#d8daef;\">determined as o</span><span style=\"background-color:#eadbd8;\">bjects of<br>experience </span><span style=\"background-color:#ecf3cf;\">is constituted by </span><span style=\"background-color:#d8daef;\">objects. This </span>i<span style=\"background-color:#ecf3cf;\">s realizing</span><span style=\"background-color:#d8daef;\"> the conviction of the</span><br><span style=\"background-color:#edebd0;\">triangles, </span><span style=\"background-color:#eadbd8;\">the object of exp</span><span style=\"background-color:#d6eaf8;\">anslation has </span><span style=\"background-color:#d6dbdf;\">got from his</span>tory<span style=\"background-color:#d8daef;\">;<br>the former </span><span style=\"background-color:#ecf3cf;\">is not separable </span><span style=\"background-color:#ecf3cf;\">from itself. Thus </span>the<br>"
            ]
          },
          "metadata": {}
        },
        {
          "output_type": "display_data",
          "data": {
            "text/plain": [
              "<IPython.core.display.HTML object>"
            ],
            "text/html": [
              "<small><p style=\"text-align:right;\">Sources: <span style=\"background-color:#d8daef;\">Georg Wilhelm Hegel: The History of Philosophy: Volume 3 of 3</span>, <span style=\"background-color:#ebdef0;\">Friedrich Nietzsche: The Will to Power, Books III and IV</span>, <span style=\"background-color:#eadbd8;\">Immanuel Kant: The Critique of Pure Reason</span>, <span style=\"background-color:#e5e8e8;\">Immanuel Kant: The Critique of Practical Reason</span>, <span style=\"background-color:#ecf3cf;\">Georg Wilhelm Hegel: Hegel's Lectures on the History of Philosophy: Vol. 2 of 3</span>, <span style=\"background-color:#edebd0;\">Immanuel Kant: Kant's Prolegomena</span>, <span style=\"background-color:#d6eaf8;\">Immanuel Kant: Perpetual Peace</span>, <span style=\"background-color:#d6dbdf;\">Friedrich Nietzsche: Thoughts Out of Season, Part 2</span></p></small>"
            ]
          },
          "metadata": {}
        },
        {
          "output_type": "stream",
          "name": "stdout",
          "text": [
            "-------------------------------------------\n",
            "step 5000: train loss 0.8743, val loss 0.8698, time 1.391 sec/iter\n",
            "Sample: --------temperature: 1.1 ---------\n"
          ]
        },
        {
          "output_type": "display_data",
          "data": {
            "text/plain": [
              "<IPython.core.display.HTML object>"
            ],
            "text/html": [
              " Votnotit<span style=\"background-color:#d8daef;\">ésence de </span>Pro<span style=\"background-color:#d8daef;\">p. phil., </span>p. 294,<br>p. 20<span style=\"background-color:#d8daef;\">4.<br><br>[204] </span><span style=\"background-color:#d8daef;\">Von göttlicher Beschaulichkeit, chap. </span><span style=\"background-color:#d8daef;\">Vol. II. p. 11</span>7"
            ]
          },
          "metadata": {}
        },
        {
          "output_type": "display_data",
          "data": {
            "text/plain": [
              "<IPython.core.display.HTML object>"
            ],
            "text/html": [
              "<small><p style=\"text-align:right;\">Sources: <span style=\"background-color:#d8daef;\">Georg Wilhelm Hegel: The History of Philosophy: Volume 3 of 3</span></p></small>"
            ]
          },
          "metadata": {}
        },
        {
          "output_type": "stream",
          "name": "stdout",
          "text": [
            "--------temperature: 1.2 ---------\n"
          ]
        },
        {
          "output_type": "display_data",
          "data": {
            "text/plain": [
              "<IPython.core.display.HTML object>"
            ],
            "text/html": [
              " ἀφιθακά<span style=\"background-color:#ecf3cf;\">ς); hence </span><span style=\"background-color:#ebdef0;\">the concept<br>c</span>reatis<span style=\"background-color:#ecf3cf;\">es sensuous </span><span style=\"background-color:#d4efdf;\">things, i.e.</span><span style=\"background-color:#d4e6f1;\">, in so far as it is to be</span><span style=\"background-color:#d4e6f1;\"><br>beauty of th</span><span style=\"background-color:#edebd0;\">e latter, rea</span>lity<span style=\"background-color:#d8daef;\">. Universal, </span><span style=\"background-color:#ecf3cf;\">unity of<br>ma</span>tt<span style=\"background-color:#eadbd8;\">er, together </span><span style=\"background-color:#d8daef;\">pleasant o</span><span style=\"background-color:#eadbd8;\">f the object. But t</span>he<span style=\"background-color:#d6eaf8;\"><br>carry their </span><span style=\"background-color:#eadbd8;\">analogies no</span><span style=\"background-color:#d8daef;\"> certain metaphysical</span><span style=\"background-color:#d8daef;\"><br>demonstrat</span>"
            ]
          },
          "metadata": {}
        },
        {
          "output_type": "display_data",
          "data": {
            "text/plain": [
              "<IPython.core.display.HTML object>"
            ],
            "text/html": [
              "<small><p style=\"text-align:right;\">Sources: <span style=\"background-color:#ecf3cf;\">Georg Wilhelm Hegel: Hegel's Lectures on the History of Philosophy: Vol. 2 of 3</span>, <span style=\"background-color:#ebdef0;\">Friedrich Nietzsche: The Will to Power, Books III and IV</span>, <span style=\"background-color:#d4efdf;\">Georg Wilhelm Hegel: Hegel's Lectures on the History of Philosophy: Vol. 1 of 3</span>, <span style=\"background-color:#d4e6f1;\">Immanuel Kant: Kant's Critique of Judgement</span>, <span style=\"background-color:#edebd0;\">Immanuel Kant: Kant's Prolegomena</span>, <span style=\"background-color:#d8daef;\">Georg Wilhelm Hegel: The History of Philosophy: Volume 3 of 3</span>, <span style=\"background-color:#eadbd8;\">Immanuel Kant: The Critique of Pure Reason</span>, <span style=\"background-color:#d6eaf8;\">Immanuel Kant: Perpetual Peace</span></p></small>"
            ]
          },
          "metadata": {}
        },
        {
          "output_type": "stream",
          "name": "stdout",
          "text": [
            "-------------------------------------------\n",
            "step 5250: train loss 0.7798, val loss 0.7720, time 1.391 sec/iter\n",
            "Sample: --------temperature: 1.1 ---------\n"
          ]
        },
        {
          "output_type": "display_data",
          "data": {
            "text/plain": [
              "<IPython.core.display.HTML object>"
            ],
            "text/html": [
              " Xenoph 127; Sextixt<span style=\"background-color:#ecf3cf;\">. II. p. 32</span>3.<br><br>[196<span style=\"background-color:#d4efdf;\">] Heraclides</span>: De fittin<span style=\"background-color:#ecf3cf;\">, III. p. </span>21, 27-41 (pp.<br>211, 29"
            ]
          },
          "metadata": {}
        },
        {
          "output_type": "display_data",
          "data": {
            "text/plain": [
              "<IPython.core.display.HTML object>"
            ],
            "text/html": [
              "<small><p style=\"text-align:right;\">Sources: <span style=\"background-color:#ecf3cf;\">Georg Wilhelm Hegel: Hegel's Lectures on the History of Philosophy: Vol. 2 of 3</span>, <span style=\"background-color:#d4efdf;\">Georg Wilhelm Hegel: Hegel's Lectures on the History of Philosophy: Vol. 1 of 3</span></p></small>"
            ]
          },
          "metadata": {}
        },
        {
          "output_type": "stream",
          "name": "stdout",
          "text": [
            "--------temperature: 1.2 ---------\n"
          ]
        },
        {
          "output_type": "display_data",
          "data": {
            "text/plain": [
              "<IPython.core.display.HTML object>"
            ],
            "text/html": [
              " æ_,<br><span style=\"background-color:#d8daef;\">1). From this </span><span style=\"background-color:#e2d7d5;\">thought the w</span>i<span style=\"background-color:#d4e6f1;\">f Physico-</span>menan<br><span style=\"background-color:#ecf3cf;\">fancying th</span>os<span style=\"background-color:#ecf3cf;\">e Greek st</span><span style=\"background-color:#eadbd8;\">exaggerated s</span>p<span style=\"background-color:#eadbd8;\">rained him</span><span style=\"background-color:#d8daef;\">self against </span>Const<span style=\"background-color:#ecf3cf;\">as in<br>his </span>knew<span style=\"background-color:#ebdef0;\">: the higher type </span><span style=\"background-color:#d4efdf;\">was contemporan</span>t one<span style=\"background-color:#eadbd8;\">y. That we </span>_be s"
            ]
          },
          "metadata": {}
        },
        {
          "output_type": "display_data",
          "data": {
            "text/plain": [
              "<IPython.core.display.HTML object>"
            ],
            "text/html": [
              "<small><p style=\"text-align:right;\">Sources: <span style=\"background-color:#d8daef;\">Georg Wilhelm Hegel: The History of Philosophy: Volume 3 of 3</span>, <span style=\"background-color:#e2d7d5;\">Friedrich Nietzsche: Thus Spake Zarathustra</span>, <span style=\"background-color:#d4e6f1;\">Immanuel Kant: Kant's Critique of Judgement</span>, <span style=\"background-color:#ecf3cf;\">Georg Wilhelm Hegel: Hegel's Lectures on the History of Philosophy: Vol. 2 of 3</span>, <span style=\"background-color:#eadbd8;\">Friedrich Nietzsche: The Will to Power, Books I and II</span>, <span style=\"background-color:#ebdef0;\">Friedrich Nietzsche: The Will to Power, Books III and IV</span>, <span style=\"background-color:#d4efdf;\">Georg Wilhelm Hegel: Hegel's Lectures on the History of Philosophy: Vol. 1 of 3</span></p></small>"
            ]
          },
          "metadata": {}
        },
        {
          "output_type": "stream",
          "name": "stdout",
          "text": [
            "-------------------------------------------\n",
            "step 5500: train loss 0.6635, val loss 0.6785, time 1.392 sec/iter\n",
            "Sample: --------temperature: 1.1 ---------\n"
          ]
        },
        {
          "output_type": "display_data",
          "data": {
            "text/plain": [
              "<IPython.core.display.HTML object>"
            ],
            "text/html": [
              "<span style=\"background-color:#ecf3cf;\"> figures, as</span><br>]; <span style=\"background-color:#eadbd8;\">or à priori </span>significa<span style=\"background-color:#fdebd0;\">es involve a</span><span style=\"background-color:#fae5d3;\">n entire freedom </span><span style=\"background-color:#edebd0;\">and possible</span><span style=\"background-color:#ebdef0;\">.<br>Thus the </span><span style=\"background-color:#d8daef;\">logical pr</span><span style=\"background-color:#e5e8e8;\">actical law is </span><span style=\"background-color:#d8daef;\">not applicab</span><span style=\"background-color:#eadbd8;\">ility, but<br></span><span style=\"background-color:#d8daef;\">founded on the </span><span style=\"background-color:#d8daef;\">determining cause</span><span style=\"background-color:#d0ece7;\">, not with the </span><span style=\"background-color:#d4e6f1;\">contingent. These</span>,<span style=\"background-color:#e5e8e8;\"> mere mechanism,<br></span><span style=\"background-color:#eadbd8;\">but only in the l</span><span style=\"background-color:#d4e6f1;\">aws of nature.<br><br></span><span style=\"background-color:#ecf3cf;\">This principle w</span><span style=\"background-color:#d4e6f1;\">ith the moral law</span>"
            ]
          },
          "metadata": {}
        },
        {
          "output_type": "display_data",
          "data": {
            "text/plain": [
              "<IPython.core.display.HTML object>"
            ],
            "text/html": [
              "<small><p style=\"text-align:right;\">Sources: <span style=\"background-color:#ecf3cf;\">Georg Wilhelm Hegel: Hegel's Lectures on the History of Philosophy: Vol. 2 of 3</span>, <span style=\"background-color:#eadbd8;\">Immanuel Kant: The Critique of Pure Reason</span>, <span style=\"background-color:#fdebd0;\">Immanuel Kant: The Metaphysical Elements of Ethics</span>, <span style=\"background-color:#fae5d3;\">Friedrich Nietzsche: We Philologists, Volume 8 of 18</span>, <span style=\"background-color:#edebd0;\">Immanuel Kant: Kant's Prolegomena</span>, <span style=\"background-color:#ebdef0;\">Friedrich Nietzsche: The Will to Power, Books III and IV</span>, <span style=\"background-color:#d8daef;\">Georg Wilhelm Hegel: The History of Philosophy: Volume 3 of 3</span>, <span style=\"background-color:#e5e8e8;\">Immanuel Kant: The Critique of Practical Reason</span>, <span style=\"background-color:#eadbd8;\">Friedrich Nietzsche: The Will to Power, Books I and II</span>, <span style=\"background-color:#d0ece7;\">Friedrich Nietzsche: Early Greek Philosophy & Other Essays</span>, <span style=\"background-color:#d4e6f1;\">Immanuel Kant: Kant's Critique of Judgement</span></p></small>"
            ]
          },
          "metadata": {}
        },
        {
          "output_type": "stream",
          "name": "stdout",
          "text": [
            "--------temperature: 1.2 ---------\n"
          ]
        },
        {
          "output_type": "display_data",
          "data": {
            "text/plain": [
              "<IPython.core.display.HTML object>"
            ],
            "text/html": [
              "<span style=\"background-color:#d8daef;\"> possible the </span>lo<span style=\"background-color:#d8daef;\">part from the<br></span>C<span style=\"background-color:#d4efdf;\">, and to-m</span><span style=\"background-color:#d8daef;\">entioned, a</span><span style=\"background-color:#d8daef;\">ccording to J</span>uring (mins. ad south, 1822<span style=\"background-color:#d8daef;\">); these p</span>revail<span style=\"background-color:#d6eaf8;\"> deal: it </span>denorm<br>than<span style=\"background-color:#d6eaf8;\"> a treaty </span>_Collébréd seufactor"
            ]
          },
          "metadata": {}
        },
        {
          "output_type": "display_data",
          "data": {
            "text/plain": [
              "<IPython.core.display.HTML object>"
            ],
            "text/html": [
              "<small><p style=\"text-align:right;\">Sources: <span style=\"background-color:#d8daef;\">Georg Wilhelm Hegel: The History of Philosophy: Volume 3 of 3</span>, <span style=\"background-color:#d4efdf;\">Georg Wilhelm Hegel: Hegel's Lectures on the History of Philosophy: Vol. 1 of 3</span>, <span style=\"background-color:#d6eaf8;\">Immanuel Kant: Perpetual Peace</span></p></small>"
            ]
          },
          "metadata": {}
        },
        {
          "output_type": "stream",
          "name": "stdout",
          "text": [
            "-------------------------------------------\n",
            "step 5750: train loss 0.6127, val loss 0.6105, time 1.392 sec/iter\n",
            "Sample: --------temperature: 1.1 ---------\n"
          ]
        },
        {
          "output_type": "display_data",
          "data": {
            "text/plain": [
              "<IPython.core.display.HTML object>"
            ],
            "text/html": [
              " Y<br>f<span style=\"background-color:#e5e8e8;\">ree that a</span>l<span style=\"background-color:#d8daef;\">l doctrine, </span><span style=\"background-color:#d4efdf;\">and is true </span><span style=\"background-color:#d4efdf;\">that this idea of<br></span><span style=\"background-color:#ecf3cf;\">it. Aristotle</span><span style=\"background-color:#ecf3cf;\">, and therefore not to </span><span style=\"background-color:#edebd0;\">be offered </span><span style=\"background-color:#d8daef;\">even in that </span>he ma<span style=\"background-color:#d8daef;\">y<br>means of e</span><span style=\"background-color:#d8daef;\">scaping the </span><span style=\"background-color:#d4efdf;\">content or of </span><span style=\"background-color:#d8daef;\">the sources </span><span style=\"background-color:#d4efdf;\">through, while </span><span style=\"background-color:#ecf3cf;\">Aristotle, to<br></span><span style=\"background-color:#d8daef;\">bring forward </span><span style=\"background-color:#d8daef;\">with all ind</span><span style=\"background-color:#e2d7d5;\">urity. The </span>first<span style=\"background-color:#ecf3cf;\"> on we see</span>"
            ]
          },
          "metadata": {}
        },
        {
          "output_type": "display_data",
          "data": {
            "text/plain": [
              "<IPython.core.display.HTML object>"
            ],
            "text/html": [
              "<small><p style=\"text-align:right;\">Sources: <span style=\"background-color:#e5e8e8;\">Immanuel Kant: The Critique of Practical Reason</span>, <span style=\"background-color:#d8daef;\">Georg Wilhelm Hegel: The History of Philosophy: Volume 3 of 3</span>, <span style=\"background-color:#d4efdf;\">Georg Wilhelm Hegel: Hegel's Lectures on the History of Philosophy: Vol. 1 of 3</span>, <span style=\"background-color:#ecf3cf;\">Georg Wilhelm Hegel: Hegel's Lectures on the History of Philosophy: Vol. 2 of 3</span>, <span style=\"background-color:#edebd0;\">Immanuel Kant: Kant's Prolegomena</span>, <span style=\"background-color:#d8daef;\">Friedrich Nietzsche: Thoughts out of Season, Part One</span>, <span style=\"background-color:#e2d7d5;\">Friedrich Nietzsche: The Joyful Wisdom</span></p></small>"
            ]
          },
          "metadata": {}
        },
        {
          "output_type": "stream",
          "name": "stdout",
          "text": [
            "--------temperature: 1.2 ---------\n"
          ]
        },
        {
          "output_type": "display_data",
          "data": {
            "text/plain": [
              "<IPython.core.display.HTML object>"
            ],
            "text/html": [
              " <span style=\"background-color:#ecf3cf;\">evertheless w</span><span style=\"background-color:#d8daef;\">hile that </span><span style=\"background-color:#d8daef;\">a proposition </span><span style=\"background-color:#d8daef;\">Plurality </span><span style=\"background-color:#d8daef;\">contained o</span>r to<span style=\"background-color:#d6dbdf;\"> no compensat</span>ed<span style=\"background-color:#edebd0;\">,<br>neither </span><span style=\"background-color:#d4e6f1;\">by corrupt</span>ed in av<span style=\"background-color:#d4e6f1;\">ers.<br><br>But </span><span style=\"background-color:#d8daef;\">it is not possible to </span><span style=\"background-color:#d8daef;\">receive and to </span><span style=\"background-color:#d6dbdf;\">this secret </span>final<span style=\"background-color:#d8daef;\">ly awakened </span><span style=\"background-color:#e2d7d5;\">in the<br>har</span><span style=\"background-color:#d8daef;\">mony of the </span><span style=\"background-color:#ecf3cf;\">Platonic Republic, </span>for it idl<span style=\"background-color:#edebd0;\">he rational s</span>tate "
            ]
          },
          "metadata": {}
        },
        {
          "output_type": "display_data",
          "data": {
            "text/plain": [
              "<IPython.core.display.HTML object>"
            ],
            "text/html": [
              "<small><p style=\"text-align:right;\">Sources: <span style=\"background-color:#ecf3cf;\">Georg Wilhelm Hegel: Hegel's Lectures on the History of Philosophy: Vol. 2 of 3</span>, <span style=\"background-color:#d8daef;\">Georg Wilhelm Hegel: The History of Philosophy: Volume 3 of 3</span>, <span style=\"background-color:#d6dbdf;\">Friedrich Nietzsche: Thoughts Out of Season, Part 2</span>, <span style=\"background-color:#edebd0;\">Immanuel Kant: Kant's Prolegomena</span>, <span style=\"background-color:#d4e6f1;\">Immanuel Kant: Kant's Critique of Judgement</span>, <span style=\"background-color:#e2d7d5;\">Friedrich Nietzsche: Thus Spake Zarathustra</span></p></small>"
            ]
          },
          "metadata": {}
        },
        {
          "output_type": "stream",
          "name": "stdout",
          "text": [
            "-------------------------------------------\n",
            "Iteration:  5919/6000/1000000"
          ]
        },
        {
          "output_type": "error",
          "ename": "KeyboardInterrupt",
          "evalue": "ignored",
          "traceback": [
            "\u001b[0;31m---------------------------------------------------------------------------\u001b[0m",
            "\u001b[0;31mKeyboardInterrupt\u001b[0m                         Traceback (most recent call last)",
            "\u001b[0;32m<ipython-input-39-304c42fe39eb>\u001b[0m in \u001b[0;36m<module>\u001b[0;34m\u001b[0m\n\u001b[1;32m     20\u001b[0m     \u001b[0mxb\u001b[0m\u001b[0;34m,\u001b[0m \u001b[0myb\u001b[0m \u001b[0;34m=\u001b[0m \u001b[0mget_torch_batch\u001b[0m\u001b[0;34m(\u001b[0m\u001b[0mtd\u001b[0m\u001b[0;34m,\u001b[0m \u001b[0mparams\u001b[0m\u001b[0;34m[\u001b[0m\u001b[0;34m'batch_size'\u001b[0m\u001b[0;34m]\u001b[0m\u001b[0;34m,\u001b[0m \u001b[0mdevice\u001b[0m\u001b[0;34m,\u001b[0m \u001b[0;34m\"train\"\u001b[0m\u001b[0;34m)\u001b[0m\u001b[0;34m\u001b[0m\u001b[0;34m\u001b[0m\u001b[0m\n\u001b[1;32m     21\u001b[0m     \u001b[0;31m# evaluate the loss\u001b[0m\u001b[0;34m\u001b[0m\u001b[0;34m\u001b[0m\u001b[0;34m\u001b[0m\u001b[0m\n\u001b[0;32m---> 22\u001b[0;31m     \u001b[0mdo_train_step\u001b[0m\u001b[0;34m(\u001b[0m\u001b[0mxb\u001b[0m\u001b[0;34m,\u001b[0m \u001b[0myb\u001b[0m\u001b[0;34m)\u001b[0m\u001b[0;34m\u001b[0m\u001b[0;34m\u001b[0m\u001b[0m\n\u001b[0m\u001b[1;32m     23\u001b[0m     \u001b[0mstart_iter\u001b[0m \u001b[0;34m=\u001b[0m \u001b[0miter\u001b[0m\u001b[0;34m\u001b[0m\u001b[0;34m\u001b[0m\u001b[0m\n",
            "\u001b[0;32m<ipython-input-36-1a48cf2d7d0c>\u001b[0m in \u001b[0;36mdo_train_step\u001b[0;34m(xb, yb)\u001b[0m\n\u001b[1;32m     30\u001b[0m     \u001b[0mlogits\u001b[0m\u001b[0;34m,\u001b[0m \u001b[0mloss\u001b[0m \u001b[0;34m=\u001b[0m \u001b[0mmodel\u001b[0m\u001b[0;34m(\u001b[0m\u001b[0mxb\u001b[0m\u001b[0;34m,\u001b[0m \u001b[0myb\u001b[0m\u001b[0;34m)\u001b[0m\u001b[0;34m\u001b[0m\u001b[0;34m\u001b[0m\u001b[0m\n\u001b[1;32m     31\u001b[0m     \u001b[0moptimizer\u001b[0m\u001b[0;34m.\u001b[0m\u001b[0mzero_grad\u001b[0m\u001b[0;34m(\u001b[0m\u001b[0mset_to_none\u001b[0m\u001b[0;34m=\u001b[0m\u001b[0;32mTrue\u001b[0m\u001b[0;34m)\u001b[0m\u001b[0;34m\u001b[0m\u001b[0;34m\u001b[0m\u001b[0m\n\u001b[0;32m---> 32\u001b[0;31m     \u001b[0mloss\u001b[0m\u001b[0;34m.\u001b[0m\u001b[0mbackward\u001b[0m\u001b[0;34m(\u001b[0m\u001b[0;34m)\u001b[0m\u001b[0;34m\u001b[0m\u001b[0;34m\u001b[0m\u001b[0m\n\u001b[0m\u001b[1;32m     33\u001b[0m     \u001b[0moptimizer\u001b[0m\u001b[0;34m.\u001b[0m\u001b[0mstep\u001b[0m\u001b[0;34m(\u001b[0m\u001b[0;34m)\u001b[0m\u001b[0;34m\u001b[0m\u001b[0;34m\u001b[0m\u001b[0m\n",
            "\u001b[0;32m/usr/local/lib/python3.8/dist-packages/torch/_tensor.py\u001b[0m in \u001b[0;36mbackward\u001b[0;34m(self, gradient, retain_graph, create_graph, inputs)\u001b[0m\n\u001b[1;32m    486\u001b[0m                 \u001b[0minputs\u001b[0m\u001b[0;34m=\u001b[0m\u001b[0minputs\u001b[0m\u001b[0;34m,\u001b[0m\u001b[0;34m\u001b[0m\u001b[0;34m\u001b[0m\u001b[0m\n\u001b[1;32m    487\u001b[0m             )\n\u001b[0;32m--> 488\u001b[0;31m         torch.autograd.backward(\n\u001b[0m\u001b[1;32m    489\u001b[0m             \u001b[0mself\u001b[0m\u001b[0;34m,\u001b[0m \u001b[0mgradient\u001b[0m\u001b[0;34m,\u001b[0m \u001b[0mretain_graph\u001b[0m\u001b[0;34m,\u001b[0m \u001b[0mcreate_graph\u001b[0m\u001b[0;34m,\u001b[0m \u001b[0minputs\u001b[0m\u001b[0;34m=\u001b[0m\u001b[0minputs\u001b[0m\u001b[0;34m\u001b[0m\u001b[0;34m\u001b[0m\u001b[0m\n\u001b[1;32m    490\u001b[0m         )\n",
            "\u001b[0;32m/usr/local/lib/python3.8/dist-packages/torch/autograd/__init__.py\u001b[0m in \u001b[0;36mbackward\u001b[0;34m(tensors, grad_tensors, retain_graph, create_graph, grad_variables, inputs)\u001b[0m\n\u001b[1;32m    195\u001b[0m     \u001b[0;31m# some Python versions print out the first line of a multi-line function\u001b[0m\u001b[0;34m\u001b[0m\u001b[0;34m\u001b[0m\u001b[0;34m\u001b[0m\u001b[0m\n\u001b[1;32m    196\u001b[0m     \u001b[0;31m# calls in the traceback and some print out the last line\u001b[0m\u001b[0;34m\u001b[0m\u001b[0;34m\u001b[0m\u001b[0;34m\u001b[0m\u001b[0m\n\u001b[0;32m--> 197\u001b[0;31m     Variable._execution_engine.run_backward(  # Calls into the C++ engine to run the backward pass\n\u001b[0m\u001b[1;32m    198\u001b[0m         \u001b[0mtensors\u001b[0m\u001b[0;34m,\u001b[0m \u001b[0mgrad_tensors_\u001b[0m\u001b[0;34m,\u001b[0m \u001b[0mretain_graph\u001b[0m\u001b[0;34m,\u001b[0m \u001b[0mcreate_graph\u001b[0m\u001b[0;34m,\u001b[0m \u001b[0minputs\u001b[0m\u001b[0;34m,\u001b[0m\u001b[0;34m\u001b[0m\u001b[0;34m\u001b[0m\u001b[0m\n\u001b[1;32m    199\u001b[0m         allow_unreachable=True, accumulate_grad=True)  # Calls into the C++ engine to run the backward pass\n",
            "\u001b[0;31mKeyboardInterrupt\u001b[0m: "
          ]
        }
      ],
      "source": [
        "dt0 = time.time()\n",
        "print(\"training...\")\n",
        "for iter in range(start_iter, params['max_iterations']):\n",
        "    print(f\"\\rIteration: {iter+1:5d}/{((iter+1)//params['sample_every_n_iterations']+1)*params['sample_every_n_iterations']}/{params['max_iterations']}\", end=\"\", flush=True)\n",
        "    # every once in a while evaluate the loss on train and val sets\n",
        "    if (iter + 1) % params['sample_every_n_iterations'] == 0 or iter == params['max_iterations'] - 1:\n",
        "        dt = time.time()\n",
        "        print(f\"\\rloss eval\", end=\"\", flush=True)\n",
        "        losses = estimate_loss(device)\n",
        "        print(\n",
        "            f\"step {iter+1}: train loss {losses['train']:.4f}, val loss {losses['val']:.4f}, time {(dt-dt0)/params['sample_every_n_iterations']:.3f} sec/iter\"\n",
        "        )\n",
        "        print(\"Sample: \", end=\"\", flush=True)\n",
        "        for temperature in [1.1, 1.2]:\n",
        "            print(f\"--------temperature: {temperature} ---------\")\n",
        "            generate_sample(td, device, toks=50, temperature=temperature)\n",
        "        print(\"-------------------------------------------\")\n",
        "        dt0 = time.time()\n",
        "    # sample a batch of data\n",
        "    xb, yb = get_torch_batch(td, params['batch_size'], device, \"train\")\n",
        "    # evaluate the loss\n",
        "    do_train_step(xb, yb)\n",
        "    start_iter = iter"
      ]
    },
    {
      "cell_type": "code",
      "execution_count": null,
      "metadata": {
        "id": "yZozsv2RdK90"
      },
      "outputs": [],
      "source": [
        "txt = generate_sample(td, device, toks=100, temperature=1.2)\n",
        "print(txt)\n",
        "td.source_highlight(txt)"
      ]
    },
    {
      "cell_type": "code",
      "execution_count": null,
      "metadata": {
        "id": "M0EJVYX2MdR7"
      },
      "outputs": [],
      "source": []
    }
  ],
  "metadata": {
    "@webio": {
      "lastCommId": "ec3a4d2d-8063-4bfd-a4a2-ee070d3272f7",
      "lastKernelId": "1acc2b74-f51e-477b-910a-a5519dad53b9"
    },
    "accelerator": "GPU",
    "colab": {
      "collapsed_sections": [
        "VmWbteSFQtfq",
        "yWE_ZZMKEARV"
      ],
      "machine_shape": "hm",
      "name": "torch_transformer_poet.ipynb",
      "provenance": [],
      "include_colab_link": true
    },
    "gpuClass": "premium",
    "kernelspec": {
      "display_name": "Python 3 (ipykernel)",
      "language": "python",
      "name": "python3"
    },
    "language_info": {
      "codemirror_mode": {
        "name": "ipython",
        "version": 3
      },
      "file_extension": ".py",
      "mimetype": "text/x-python",
      "name": "python",
      "nbconvert_exporter": "python",
      "pygments_lexer": "ipython3",
      "version": "3.10.8"
    }
  },
  "nbformat": 4,
  "nbformat_minor": 0
}